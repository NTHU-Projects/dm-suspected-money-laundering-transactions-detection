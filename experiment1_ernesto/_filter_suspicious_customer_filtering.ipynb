{
 "cells": [
  {
   "cell_type": "code",
   "execution_count": 7,
   "metadata": {
    "collapsed": true,
    "pycharm": {
     "name": "#%%\n"
    }
   },
   "outputs": [],
   "source": [
    "import pandas as pd\n",
    "\n",
    "CUSTINFO_PATH = 'dataset/train_first/public_train_x_custinfo_full_hashed.csv'\n",
    "PDATE_PATH = 'dataset/train_first/public_x_alert_date.csv'\n",
    "TDATE_PATH = 'dataset/train_first/train_x_alert_date.csv'\n",
    "ANSWER_PATH = 'dataset/train_first/train_y_answer.csv'\n",
    "SAMPLE_PATH = 'dataset/train_first/sample_submission.csv'\n",
    "\n",
    "cinfo = pd.read_csv(CUSTINFO_PATH)\n",
    "pdate = pd.read_csv(PDATE_PATH)\n",
    "tdate = pd.read_csv(TDATE_PATH)\n",
    "answer = pd.read_csv(ANSWER_PATH)\n",
    "sample = pd.read_csv(SAMPLE_PATH)"
   ]
  },
  {
   "cell_type": "code",
   "execution_count": 8,
   "outputs": [
    {
     "data": {
      "text/plain": "       alert_key                                            cust_id  \\\n0         352249  82595ac69158ae08d34156784bdec0d9e2ca5b242b6d2a...   \n1         352253  b212d14cb35676926682b2cf849e295d948888f556c07e...   \n2         352254  e5b0002791c7852644a2730abeaa893cdf14a072ef7812...   \n3         352280  74214c478dc6519fbefe4bc31693865bdcd698ab974b64...   \n4         352282  0340e7611f0d82c3cb87e6194fa14bb2ccf8afbf1b3418...   \n...          ...                                                ...   \n25746     352123  b600c0720096c241f5aec16b096c6a353492eee8a5855a...   \n25747     352124  06c5ea5ccda4dfd8839c0dec8646fb3071d2c02883ef8a...   \n25748     352125  0c2dc5fedc3689abf5ff4be14fe8fea8d23d22068297c2...   \n25749     352128  ffe5f2bd86ecfd7d0a0f4c4b76dd5c312649be95eb8b42...   \n25750     352132  c49b33d1fde790ec03584672903f296e486615adfdc989...   \n\n       risk_rank  occupation_code  total_asset  AGE  date data_label  sar_flag  \n0              1             19.0    1465816.0    7   365       test       NaN  \n1              1              2.0      98177.0    2   365       test       NaN  \n2              1             19.0    2052922.0    7   365       test       NaN  \n3              3             15.0     201906.0    5   365       test       NaN  \n4              1             12.0       7450.0    5   365       test       NaN  \n...          ...              ...          ...  ...   ...        ...       ...  \n25746          1             17.0      12207.0    2   364      train       0.0  \n25747          1             17.0     259985.0    4   364      train       0.0  \n25748          3             19.0     928963.0    3   364      train       0.0  \n25749          3             19.0      21647.0    4   364      train       0.0  \n25750          1             19.0    3218731.0    3   364      train       0.0  \n\n[25751 rows x 9 columns]",
      "text/html": "<div>\n<style scoped>\n    .dataframe tbody tr th:only-of-type {\n        vertical-align: middle;\n    }\n\n    .dataframe tbody tr th {\n        vertical-align: top;\n    }\n\n    .dataframe thead th {\n        text-align: right;\n    }\n</style>\n<table border=\"1\" class=\"dataframe\">\n  <thead>\n    <tr style=\"text-align: right;\">\n      <th></th>\n      <th>alert_key</th>\n      <th>cust_id</th>\n      <th>risk_rank</th>\n      <th>occupation_code</th>\n      <th>total_asset</th>\n      <th>AGE</th>\n      <th>date</th>\n      <th>data_label</th>\n      <th>sar_flag</th>\n    </tr>\n  </thead>\n  <tbody>\n    <tr>\n      <th>0</th>\n      <td>352249</td>\n      <td>82595ac69158ae08d34156784bdec0d9e2ca5b242b6d2a...</td>\n      <td>1</td>\n      <td>19.0</td>\n      <td>1465816.0</td>\n      <td>7</td>\n      <td>365</td>\n      <td>test</td>\n      <td>NaN</td>\n    </tr>\n    <tr>\n      <th>1</th>\n      <td>352253</td>\n      <td>b212d14cb35676926682b2cf849e295d948888f556c07e...</td>\n      <td>1</td>\n      <td>2.0</td>\n      <td>98177.0</td>\n      <td>2</td>\n      <td>365</td>\n      <td>test</td>\n      <td>NaN</td>\n    </tr>\n    <tr>\n      <th>2</th>\n      <td>352254</td>\n      <td>e5b0002791c7852644a2730abeaa893cdf14a072ef7812...</td>\n      <td>1</td>\n      <td>19.0</td>\n      <td>2052922.0</td>\n      <td>7</td>\n      <td>365</td>\n      <td>test</td>\n      <td>NaN</td>\n    </tr>\n    <tr>\n      <th>3</th>\n      <td>352280</td>\n      <td>74214c478dc6519fbefe4bc31693865bdcd698ab974b64...</td>\n      <td>3</td>\n      <td>15.0</td>\n      <td>201906.0</td>\n      <td>5</td>\n      <td>365</td>\n      <td>test</td>\n      <td>NaN</td>\n    </tr>\n    <tr>\n      <th>4</th>\n      <td>352282</td>\n      <td>0340e7611f0d82c3cb87e6194fa14bb2ccf8afbf1b3418...</td>\n      <td>1</td>\n      <td>12.0</td>\n      <td>7450.0</td>\n      <td>5</td>\n      <td>365</td>\n      <td>test</td>\n      <td>NaN</td>\n    </tr>\n    <tr>\n      <th>...</th>\n      <td>...</td>\n      <td>...</td>\n      <td>...</td>\n      <td>...</td>\n      <td>...</td>\n      <td>...</td>\n      <td>...</td>\n      <td>...</td>\n      <td>...</td>\n    </tr>\n    <tr>\n      <th>25746</th>\n      <td>352123</td>\n      <td>b600c0720096c241f5aec16b096c6a353492eee8a5855a...</td>\n      <td>1</td>\n      <td>17.0</td>\n      <td>12207.0</td>\n      <td>2</td>\n      <td>364</td>\n      <td>train</td>\n      <td>0.0</td>\n    </tr>\n    <tr>\n      <th>25747</th>\n      <td>352124</td>\n      <td>06c5ea5ccda4dfd8839c0dec8646fb3071d2c02883ef8a...</td>\n      <td>1</td>\n      <td>17.0</td>\n      <td>259985.0</td>\n      <td>4</td>\n      <td>364</td>\n      <td>train</td>\n      <td>0.0</td>\n    </tr>\n    <tr>\n      <th>25748</th>\n      <td>352125</td>\n      <td>0c2dc5fedc3689abf5ff4be14fe8fea8d23d22068297c2...</td>\n      <td>3</td>\n      <td>19.0</td>\n      <td>928963.0</td>\n      <td>3</td>\n      <td>364</td>\n      <td>train</td>\n      <td>0.0</td>\n    </tr>\n    <tr>\n      <th>25749</th>\n      <td>352128</td>\n      <td>ffe5f2bd86ecfd7d0a0f4c4b76dd5c312649be95eb8b42...</td>\n      <td>3</td>\n      <td>19.0</td>\n      <td>21647.0</td>\n      <td>4</td>\n      <td>364</td>\n      <td>train</td>\n      <td>0.0</td>\n    </tr>\n    <tr>\n      <th>25750</th>\n      <td>352132</td>\n      <td>c49b33d1fde790ec03584672903f296e486615adfdc989...</td>\n      <td>1</td>\n      <td>19.0</td>\n      <td>3218731.0</td>\n      <td>3</td>\n      <td>364</td>\n      <td>train</td>\n      <td>0.0</td>\n    </tr>\n  </tbody>\n</table>\n<p>25751 rows × 9 columns</p>\n</div>"
     },
     "execution_count": 8,
     "metadata": {},
     "output_type": "execute_result"
    }
   ],
   "source": [
    "pdate.insert(pdate.shape[1], \"data_label\", [\"test\"] * pdate.shape[0], True)\n",
    "tdate.insert(tdate.shape[1], \"data_label\", [\"train\"] * tdate.shape[0], True)\n",
    "date = pd.concat([pdate, tdate], axis=0)\n",
    "cinfo = cinfo.merge(date, on='alert_key', how='left')\n",
    "cinfo = cinfo.merge(answer, on='alert_key', how='left')\n",
    "cinfo"
   ],
   "metadata": {
    "collapsed": false,
    "pycharm": {
     "name": "#%%\n"
    }
   }
  },
  {
   "cell_type": "code",
   "execution_count": 17,
   "outputs": [
    {
     "data": {
      "text/plain": "((23906, 9), (234, 9), (23672, 9))"
     },
     "execution_count": 17,
     "metadata": {},
     "output_type": "execute_result"
    }
   ],
   "source": [
    "train_data = cinfo[cinfo['data_label'] == 'train']\n",
    "\n",
    "train_data_sar = train_data[train_data['sar_flag']==1]\n",
    "train_data_non_sar = train_data[train_data['sar_flag']==0]\n",
    "\n",
    "train_data.shape, train_data_sar.shape, train_data_non_sar.shape"
   ],
   "metadata": {
    "collapsed": false,
    "pycharm": {
     "name": "#%%\n"
    }
   }
  },
  {
   "cell_type": "code",
   "execution_count": 21,
   "outputs": [
    {
     "data": {
      "text/plain": "4024     df687b19349040a877e7dcbfdee38d1b26286dc0fb37cb...\n4989     11314e91480007d8e660b13a629f7d654dc34369040765...\n5395     5064baf3657deb3fcbad37374eaf3f8791be657af0fb53...\n5480     0e8151b8b0e77ead2a7d688e0d902d70196d46c096c3c8...\n5594     b608b9b249ba0792298f2859221aaf73ae7d90faebb16d...\n5721     31fdd6f09580e13a47875e3b31ee98e8af2be6b3aa5b48...\n5984     f91111b92b3274e91984b1ba57729d600ce082391ed356...\n5987     ec6a2d6c5e0a6cd0ca6e467035305ecc76592c4f1885a2...\n6283     e7bcfe4ed604a24b9ef86224fdcd01f05ea0a83767f8bf...\n6344     2c9dbb0a9ef5919c8057c2e10904aac10d93ce27179d7f...\n6365     f96a0fcb7c35aa7fa7983f87e5e888b49a814a44554c36...\n7002     f06f91dce1690fe466c120a1f8f8b7beb2dc230a6d7715...\n7129     14fc8295f76e5de3260602a2a87333ac9ba17d4dbb131d...\n7240     4220624de6d38bd4b41d1c32932e03f3c0e85b1b08b7e3...\n7332     c121e5163d534845ad9f090fe7a77225ad592a81449532...\n7662     5b8520e8836de17944037e47b3cbe8351ce2cdca02b472...\n7810     deea7839000d9f8c1e3fed53e0a1141266fb8d7149a050...\n7931     78c324f3f2f298f4e080807b54c328e65ca77423b3ee0b...\n8104     a8f1daa4e5a6f14462e1a101bd8b598dec611f8e517058...\n8586     ca672f392459d51cbc064713681489bdf2a467b143dca2...\n8703     3a8979a96f44a788af7c3725c4c0bffd72331a8f3474e5...\n8956     681004ea2a35bfb9637102a5aea7cc83f611bfb0a7940f...\n9307     77eb881fb8ad47743816447a9c9f9712f64b1e42bf56fd...\n9582     c7424815baa4c55e85ec8b4920ecd71dffbd7f92edb08c...\n10350    0b74d17ae7ac0a81cc1a71fd6977820f1e4b98b897062b...\n10615    acfafec7fa10cedb5e4ad622949be551695f67aed79d90...\n11630    96072f16ffbd138c1bef2220636e3b0a2238607ca33299...\n12045    9d49041569cc42bfeded132e7e9e616d8308b4945cb9e2...\n12076    1f1670fb68cebae07ed1f031ba1ae95e2796698b0309bc...\n12139    6368f2be25813dfaf51d1bdaf267ea09d24954cd6ef768...\n12211    e7bcfe4ed604a24b9ef86224fdcd01f05ea0a83767f8bf...\n12295    4f37c94e344741f6b8f0f343d8832a7716d157cf4a4289...\n12874    2d1e267400087bb59c05708d9f36894ba257000377e67c...\n13523    c189a8fba0d11b8e222d1b67987ae9872b726d667ed2a9...\n13569    a17dfa2c8c76647a8430dcbd09231152825ee21cc92de2...\n13744    997483a0d6eaa844522489b9386d7aed6962583a0d7b34...\n13823    113bbf4d9ca61d67f2b2df17072034c16bbd2990d14e3b...\n13971    f44008802753d5e19edcd827c856bb346537ebdb44846e...\n14142    c6b6ffe5026050d322ce63661873910f87fd6d62cc2288...\n14989    99aa1e510126a859dd9d15dc9d8230061400f3156633bd...\n15743    79772715b129ed554dd597c72f2fd551be690541890181...\n16194    38873bb54971a92a308758d435faeeaed69c69d737229b...\n16254    9df8af16d3eb7fb817004b3f57211e060573a90f1a4aeb...\n16724    e927e2a3868b3130f8df9cafe0558bc95498320f39486c...\n18021    b530213e9516b22aa3b2a744c5510038e30ddd476a3080...\n19214    98de6f9a9f873408729fb8551285a1ab8f18d74aa1eae3...\n19308    de49414e5ed72fef141d2eeb3514301c7c1e2ef98341bf...\n19777    1d07a5babda64702e42512d58f72a57e60f12e6cd8be9f...\n20463    baef074612d5a73e1324157a1a5e38e03f7ad150404db0...\n20550    43b1b81d9c666b34cc6bd0c097d129f84ec5ca5714ed69...\n20743    123b9e193e4ebef652be6e48276b35a2981b66f8bfb2bb...\n21161    bcf5dc9d464a660377f39ffdf2388cc68859d04448c372...\n22090    15d0abc45a4623427805bd6f7f208016a2d86cc63cc549...\n25016    9efb72c106f786e5a99a8c2b245864c831cf008dd2e9ee...\n25162    a21eeb4acc2c9c128403c88c3f3e248bcf20067059d33b...\n25259    9a1d940986fce29cd6b54d5a5fe076a5aa8026161f5627...\n25364    2f4011af820fb0a91313221c6cc2b649495a5cb05aed82...\n25673    3e2ddbf33f8b830778b39661a2ff547bee79a635b219e6...\nName: cust_id, dtype: object"
     },
     "execution_count": 21,
     "metadata": {},
     "output_type": "execute_result"
    }
   ],
   "source": [
    "confused_ids = train_data_sar[train_data_sar['cust_id'].isin(train_data_non_sar.cust_id.to_list())].cust_id\n",
    "confused_ids"
   ],
   "metadata": {
    "collapsed": false,
    "pycharm": {
     "name": "#%%\n"
    }
   }
  },
  {
   "cell_type": "code",
   "execution_count": 24,
   "outputs": [
    {
     "data": {
      "text/plain": "       alert_key                                            cust_id  \\\n3943      179761  f91111b92b3274e91984b1ba57729d600ce082391ed356...   \n4031      180396  f91111b92b3274e91984b1ba57729d600ce082391ed356...   \n4105      181001  f91111b92b3274e91984b1ba57729d600ce082391ed356...   \n4311      182333  f91111b92b3274e91984b1ba57729d600ce082391ed356...   \n4375      182696  f91111b92b3274e91984b1ba57729d600ce082391ed356...   \n4445      183233  f91111b92b3274e91984b1ba57729d600ce082391ed356...   \n4530      183785  f91111b92b3274e91984b1ba57729d600ce082391ed356...   \n4663      184577  f91111b92b3274e91984b1ba57729d600ce082391ed356...   \n4733      185101  f91111b92b3274e91984b1ba57729d600ce082391ed356...   \n4841      185963  f91111b92b3274e91984b1ba57729d600ce082391ed356...   \n4961      186804  f91111b92b3274e91984b1ba57729d600ce082391ed356...   \n5041      187366  f91111b92b3274e91984b1ba57729d600ce082391ed356...   \n5102      187785  f91111b92b3274e91984b1ba57729d600ce082391ed356...   \n5232      188707  f91111b92b3274e91984b1ba57729d600ce082391ed356...   \n5270      189003  f91111b92b3274e91984b1ba57729d600ce082391ed356...   \n5354      189667  f91111b92b3274e91984b1ba57729d600ce082391ed356...   \n5459      190390  f91111b92b3274e91984b1ba57729d600ce082391ed356...   \n5540      190976  f91111b92b3274e91984b1ba57729d600ce082391ed356...   \n5620      191559  f91111b92b3274e91984b1ba57729d600ce082391ed356...   \n5712      192163  f91111b92b3274e91984b1ba57729d600ce082391ed356...   \n5829      193034  f91111b92b3274e91984b1ba57729d600ce082391ed356...   \n5898      193458  f91111b92b3274e91984b1ba57729d600ce082391ed356...   \n5984      194020  f91111b92b3274e91984b1ba57729d600ce082391ed356...   \n25516     350034  3e2ddbf33f8b830778b39661a2ff547bee79a635b219e6...   \n25673     351367  3e2ddbf33f8b830778b39661a2ff547bee79a635b219e6...   \n\n       risk_rank  occupation_code  total_asset  AGE  date data_label  sar_flag  \n3943           1             19.0        541.0    4    14      train       0.0  \n4031           1             19.0        541.0    4    15      train       0.0  \n4105           1             19.0        541.0    4    18      train       0.0  \n4311           1             19.0        541.0    4    20      train       0.0  \n4375           1             19.0        541.0    4    21      train       0.0  \n4445           1             19.0        541.0    4    22      train       0.0  \n4530           1             19.0        541.0    4    25      train       0.0  \n4663           1             19.0        541.0    4    26      train       0.0  \n4733           1             19.0        541.0    4    27      train       0.0  \n4841           1             19.0        541.0    4    28      train       0.0  \n4961           1             19.0     210524.0    4    32      train       0.0  \n5041           1             19.0     210524.0    4    33      train       0.0  \n5102           1             19.0     210524.0    4    34      train       0.0  \n5232           1             19.0     210524.0    4    35      train       0.0  \n5270           1             19.0     210524.0    4    36      train       0.0  \n5354           1             19.0     210524.0    4    39      train       0.0  \n5459           1             19.0     210524.0    4    40      train       0.0  \n5540           1             19.0     210524.0    4    41      train       0.0  \n5620           1             19.0     210524.0    4    42      train       0.0  \n5712           1             19.0     210524.0    4    43      train       0.0  \n5829           1             19.0     210524.0    4    46      train       0.0  \n5898           1             19.0     210524.0    4    47      train       0.0  \n5984           1             19.0     210524.0    4    48      train       1.0  \n25516          1             17.0     141155.0    2   361      train       0.0  \n25673          1             17.0     141155.0    2   363      train       1.0  ",
      "text/html": "<div>\n<style scoped>\n    .dataframe tbody tr th:only-of-type {\n        vertical-align: middle;\n    }\n\n    .dataframe tbody tr th {\n        vertical-align: top;\n    }\n\n    .dataframe thead th {\n        text-align: right;\n    }\n</style>\n<table border=\"1\" class=\"dataframe\">\n  <thead>\n    <tr style=\"text-align: right;\">\n      <th></th>\n      <th>alert_key</th>\n      <th>cust_id</th>\n      <th>risk_rank</th>\n      <th>occupation_code</th>\n      <th>total_asset</th>\n      <th>AGE</th>\n      <th>date</th>\n      <th>data_label</th>\n      <th>sar_flag</th>\n    </tr>\n  </thead>\n  <tbody>\n    <tr>\n      <th>3943</th>\n      <td>179761</td>\n      <td>f91111b92b3274e91984b1ba57729d600ce082391ed356...</td>\n      <td>1</td>\n      <td>19.0</td>\n      <td>541.0</td>\n      <td>4</td>\n      <td>14</td>\n      <td>train</td>\n      <td>0.0</td>\n    </tr>\n    <tr>\n      <th>4031</th>\n      <td>180396</td>\n      <td>f91111b92b3274e91984b1ba57729d600ce082391ed356...</td>\n      <td>1</td>\n      <td>19.0</td>\n      <td>541.0</td>\n      <td>4</td>\n      <td>15</td>\n      <td>train</td>\n      <td>0.0</td>\n    </tr>\n    <tr>\n      <th>4105</th>\n      <td>181001</td>\n      <td>f91111b92b3274e91984b1ba57729d600ce082391ed356...</td>\n      <td>1</td>\n      <td>19.0</td>\n      <td>541.0</td>\n      <td>4</td>\n      <td>18</td>\n      <td>train</td>\n      <td>0.0</td>\n    </tr>\n    <tr>\n      <th>4311</th>\n      <td>182333</td>\n      <td>f91111b92b3274e91984b1ba57729d600ce082391ed356...</td>\n      <td>1</td>\n      <td>19.0</td>\n      <td>541.0</td>\n      <td>4</td>\n      <td>20</td>\n      <td>train</td>\n      <td>0.0</td>\n    </tr>\n    <tr>\n      <th>4375</th>\n      <td>182696</td>\n      <td>f91111b92b3274e91984b1ba57729d600ce082391ed356...</td>\n      <td>1</td>\n      <td>19.0</td>\n      <td>541.0</td>\n      <td>4</td>\n      <td>21</td>\n      <td>train</td>\n      <td>0.0</td>\n    </tr>\n    <tr>\n      <th>4445</th>\n      <td>183233</td>\n      <td>f91111b92b3274e91984b1ba57729d600ce082391ed356...</td>\n      <td>1</td>\n      <td>19.0</td>\n      <td>541.0</td>\n      <td>4</td>\n      <td>22</td>\n      <td>train</td>\n      <td>0.0</td>\n    </tr>\n    <tr>\n      <th>4530</th>\n      <td>183785</td>\n      <td>f91111b92b3274e91984b1ba57729d600ce082391ed356...</td>\n      <td>1</td>\n      <td>19.0</td>\n      <td>541.0</td>\n      <td>4</td>\n      <td>25</td>\n      <td>train</td>\n      <td>0.0</td>\n    </tr>\n    <tr>\n      <th>4663</th>\n      <td>184577</td>\n      <td>f91111b92b3274e91984b1ba57729d600ce082391ed356...</td>\n      <td>1</td>\n      <td>19.0</td>\n      <td>541.0</td>\n      <td>4</td>\n      <td>26</td>\n      <td>train</td>\n      <td>0.0</td>\n    </tr>\n    <tr>\n      <th>4733</th>\n      <td>185101</td>\n      <td>f91111b92b3274e91984b1ba57729d600ce082391ed356...</td>\n      <td>1</td>\n      <td>19.0</td>\n      <td>541.0</td>\n      <td>4</td>\n      <td>27</td>\n      <td>train</td>\n      <td>0.0</td>\n    </tr>\n    <tr>\n      <th>4841</th>\n      <td>185963</td>\n      <td>f91111b92b3274e91984b1ba57729d600ce082391ed356...</td>\n      <td>1</td>\n      <td>19.0</td>\n      <td>541.0</td>\n      <td>4</td>\n      <td>28</td>\n      <td>train</td>\n      <td>0.0</td>\n    </tr>\n    <tr>\n      <th>4961</th>\n      <td>186804</td>\n      <td>f91111b92b3274e91984b1ba57729d600ce082391ed356...</td>\n      <td>1</td>\n      <td>19.0</td>\n      <td>210524.0</td>\n      <td>4</td>\n      <td>32</td>\n      <td>train</td>\n      <td>0.0</td>\n    </tr>\n    <tr>\n      <th>5041</th>\n      <td>187366</td>\n      <td>f91111b92b3274e91984b1ba57729d600ce082391ed356...</td>\n      <td>1</td>\n      <td>19.0</td>\n      <td>210524.0</td>\n      <td>4</td>\n      <td>33</td>\n      <td>train</td>\n      <td>0.0</td>\n    </tr>\n    <tr>\n      <th>5102</th>\n      <td>187785</td>\n      <td>f91111b92b3274e91984b1ba57729d600ce082391ed356...</td>\n      <td>1</td>\n      <td>19.0</td>\n      <td>210524.0</td>\n      <td>4</td>\n      <td>34</td>\n      <td>train</td>\n      <td>0.0</td>\n    </tr>\n    <tr>\n      <th>5232</th>\n      <td>188707</td>\n      <td>f91111b92b3274e91984b1ba57729d600ce082391ed356...</td>\n      <td>1</td>\n      <td>19.0</td>\n      <td>210524.0</td>\n      <td>4</td>\n      <td>35</td>\n      <td>train</td>\n      <td>0.0</td>\n    </tr>\n    <tr>\n      <th>5270</th>\n      <td>189003</td>\n      <td>f91111b92b3274e91984b1ba57729d600ce082391ed356...</td>\n      <td>1</td>\n      <td>19.0</td>\n      <td>210524.0</td>\n      <td>4</td>\n      <td>36</td>\n      <td>train</td>\n      <td>0.0</td>\n    </tr>\n    <tr>\n      <th>5354</th>\n      <td>189667</td>\n      <td>f91111b92b3274e91984b1ba57729d600ce082391ed356...</td>\n      <td>1</td>\n      <td>19.0</td>\n      <td>210524.0</td>\n      <td>4</td>\n      <td>39</td>\n      <td>train</td>\n      <td>0.0</td>\n    </tr>\n    <tr>\n      <th>5459</th>\n      <td>190390</td>\n      <td>f91111b92b3274e91984b1ba57729d600ce082391ed356...</td>\n      <td>1</td>\n      <td>19.0</td>\n      <td>210524.0</td>\n      <td>4</td>\n      <td>40</td>\n      <td>train</td>\n      <td>0.0</td>\n    </tr>\n    <tr>\n      <th>5540</th>\n      <td>190976</td>\n      <td>f91111b92b3274e91984b1ba57729d600ce082391ed356...</td>\n      <td>1</td>\n      <td>19.0</td>\n      <td>210524.0</td>\n      <td>4</td>\n      <td>41</td>\n      <td>train</td>\n      <td>0.0</td>\n    </tr>\n    <tr>\n      <th>5620</th>\n      <td>191559</td>\n      <td>f91111b92b3274e91984b1ba57729d600ce082391ed356...</td>\n      <td>1</td>\n      <td>19.0</td>\n      <td>210524.0</td>\n      <td>4</td>\n      <td>42</td>\n      <td>train</td>\n      <td>0.0</td>\n    </tr>\n    <tr>\n      <th>5712</th>\n      <td>192163</td>\n      <td>f91111b92b3274e91984b1ba57729d600ce082391ed356...</td>\n      <td>1</td>\n      <td>19.0</td>\n      <td>210524.0</td>\n      <td>4</td>\n      <td>43</td>\n      <td>train</td>\n      <td>0.0</td>\n    </tr>\n    <tr>\n      <th>5829</th>\n      <td>193034</td>\n      <td>f91111b92b3274e91984b1ba57729d600ce082391ed356...</td>\n      <td>1</td>\n      <td>19.0</td>\n      <td>210524.0</td>\n      <td>4</td>\n      <td>46</td>\n      <td>train</td>\n      <td>0.0</td>\n    </tr>\n    <tr>\n      <th>5898</th>\n      <td>193458</td>\n      <td>f91111b92b3274e91984b1ba57729d600ce082391ed356...</td>\n      <td>1</td>\n      <td>19.0</td>\n      <td>210524.0</td>\n      <td>4</td>\n      <td>47</td>\n      <td>train</td>\n      <td>0.0</td>\n    </tr>\n    <tr>\n      <th>5984</th>\n      <td>194020</td>\n      <td>f91111b92b3274e91984b1ba57729d600ce082391ed356...</td>\n      <td>1</td>\n      <td>19.0</td>\n      <td>210524.0</td>\n      <td>4</td>\n      <td>48</td>\n      <td>train</td>\n      <td>1.0</td>\n    </tr>\n    <tr>\n      <th>25516</th>\n      <td>350034</td>\n      <td>3e2ddbf33f8b830778b39661a2ff547bee79a635b219e6...</td>\n      <td>1</td>\n      <td>17.0</td>\n      <td>141155.0</td>\n      <td>2</td>\n      <td>361</td>\n      <td>train</td>\n      <td>0.0</td>\n    </tr>\n    <tr>\n      <th>25673</th>\n      <td>351367</td>\n      <td>3e2ddbf33f8b830778b39661a2ff547bee79a635b219e6...</td>\n      <td>1</td>\n      <td>17.0</td>\n      <td>141155.0</td>\n      <td>2</td>\n      <td>363</td>\n      <td>train</td>\n      <td>1.0</td>\n    </tr>\n  </tbody>\n</table>\n</div>"
     },
     "execution_count": 24,
     "metadata": {},
     "output_type": "execute_result"
    }
   ],
   "source": [
    "train_data[train_data.cust_id.isin(['f91111b92b3274e91984b1ba57729d600ce082391ed3564bfdd7f9a4a74ca12b','3e2ddbf33f8b830778b39661a2ff547bee79a635b219e637080f3a7e432a3572'])]"
   ],
   "metadata": {
    "collapsed": false,
    "pycharm": {
     "name": "#%%\n"
    }
   }
  },
  {
   "cell_type": "code",
   "execution_count": null,
   "outputs": [],
   "source": [],
   "metadata": {
    "collapsed": false,
    "pycharm": {
     "name": "#%%\n"
    }
   }
  }
 ],
 "metadata": {
  "kernelspec": {
   "name": "pytorch",
   "language": "python",
   "display_name": "Python 3.10 (pytorch)"
  },
  "language_info": {
   "codemirror_mode": {
    "name": "ipython",
    "version": 2
   },
   "file_extension": ".py",
   "mimetype": "text/x-python",
   "name": "python",
   "nbconvert_exporter": "python",
   "pygments_lexer": "ipython2",
   "version": "2.7.6"
  }
 },
 "nbformat": 4,
 "nbformat_minor": 0
}