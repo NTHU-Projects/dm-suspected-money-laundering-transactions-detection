{
 "cells": [
  {
   "cell_type": "markdown",
   "source": [
    "# Pipeline Overall\n",
    "### 1 to 1 relation\n",
    "1. Merge core data\n",
    "2. Filter customer info (keep real SAR and non-SAR)\n",
    "\n",
    "#### Repeated process\n",
    "3. Aggregation & Imputation\n",
    "4. Resample (function)\n",
    "5. Fit (function)\n",
    "6. Evaluate\n",
    "7. Submission"
   ],
   "metadata": {
    "collapsed": false,
    "pycharm": {
     "name": "#%% md\n"
    }
   }
  },
  {
   "cell_type": "markdown",
   "source": [
    "## 1. Merge Core Data"
   ],
   "metadata": {
    "collapsed": false,
    "pycharm": {
     "name": "#%% md\n"
    }
   }
  },
  {
   "cell_type": "code",
   "execution_count": 3,
   "outputs": [],
   "source": [
    "import pandas as pd\n",
    "\n",
    "CUSTINFO_PATH = 'dataset/train_first/public_train_x_custinfo_full_hashed.csv'\n",
    "PDATE_PATH = 'dataset/train_first/public_x_alert_date.csv'\n",
    "TDATE_PATH = 'dataset/train_first/train_x_alert_date.csv'\n",
    "ANSWER_PATH = 'dataset/train_first/train_y_answer.csv'\n",
    "SAMPLE_PATH = 'dataset/train_first/sample_submission.csv'\n",
    "\n",
    "cinfo = pd.read_csv(CUSTINFO_PATH)\n",
    "pdate = pd.read_csv(PDATE_PATH)\n",
    "tdate = pd.read_csv(TDATE_PATH)\n",
    "answer = pd.read_csv(ANSWER_PATH)\n",
    "sample = pd.read_csv(SAMPLE_PATH)"
   ],
   "metadata": {
    "collapsed": false,
    "pycharm": {
     "name": "#%%\n"
    }
   }
  },
  {
   "cell_type": "code",
   "execution_count": 4,
   "outputs": [],
   "source": [
    "# Map Date and target to 'cust_info'\n",
    "\n",
    "pdate.insert(pdate.shape[1], \"data_label\", [\"test\"] * pdate.shape[0], True)\n",
    "tdate.insert(tdate.shape[1], \"data_label\", [\"train\"] * tdate.shape[0], True)\n",
    "date = pd.concat([pdate, tdate], axis=0)\n",
    "\n",
    "cinfo = cinfo.merge(date, on='alert_key', how='left')\n",
    "cinfo = cinfo.merge(answer, on='alert_key', how='left')"
   ],
   "metadata": {
    "collapsed": false,
    "pycharm": {
     "name": "#%%\n"
    }
   }
  },
  {
   "cell_type": "code",
   "execution_count": 22,
   "outputs": [
    {
     "data": {
      "text/plain": "           alert_key     risk_rank  occupation_code   total_asset  \\\ncount   25751.000000  25751.000000     25635.000000  2.575100e+04   \nmean   265685.626927      1.610578        14.251063  7.137427e+05   \nstd     58623.840868      0.906222         4.690025  2.435461e+06   \nmin    171142.000000      0.000000         0.000000  0.000000e+00   \n25%    212536.000000      1.000000        12.000000  7.508000e+03   \n50%    266346.000000      1.000000        15.000000  1.288800e+05   \n75%    316658.500000      3.000000        19.000000  5.972315e+05   \nmax    365073.000000      3.000000        20.000000  7.386321e+07   \n\n                AGE          date      sar_flag  AGE_encoding  \\\ncount  25751.000000  25751.000000  23906.000000  25751.000000   \nmean       3.633024    198.164032      0.009788      0.980928   \nstd        1.309948    118.263229      0.098453      0.270991   \nmin        0.000000      0.000000      0.000000      0.000000   \n25%        3.000000     92.000000      0.000000      0.837438   \n50%        3.000000    210.000000      0.000000      1.139073   \n75%        4.000000    295.000000      0.000000      1.139073   \nmax       10.000000    393.000000      1.000000      2.352941   \n\n       risk_rank_encoding  date_encoding  occupation_code_encoding  \ncount        25751.000000   25751.000000              25751.000000  \nmean             0.983034       0.908703                  0.985260  \nstd              0.495489       1.249958                  0.625070  \nmin              0.000000       0.000000                  0.000000  \n25%              0.214133       0.000000                  0.758534  \n50%              1.293184       0.000000                  0.941968  \n75%              1.293184       1.369863                  1.062135  \nmax              1.442308       5.747126                  6.250000  ",
      "text/html": "<div>\n<style scoped>\n    .dataframe tbody tr th:only-of-type {\n        vertical-align: middle;\n    }\n\n    .dataframe tbody tr th {\n        vertical-align: top;\n    }\n\n    .dataframe thead th {\n        text-align: right;\n    }\n</style>\n<table border=\"1\" class=\"dataframe\">\n  <thead>\n    <tr style=\"text-align: right;\">\n      <th></th>\n      <th>alert_key</th>\n      <th>risk_rank</th>\n      <th>occupation_code</th>\n      <th>total_asset</th>\n      <th>AGE</th>\n      <th>date</th>\n      <th>sar_flag</th>\n      <th>AGE_encoding</th>\n      <th>risk_rank_encoding</th>\n      <th>date_encoding</th>\n      <th>occupation_code_encoding</th>\n    </tr>\n  </thead>\n  <tbody>\n    <tr>\n      <th>count</th>\n      <td>25751.000000</td>\n      <td>25751.000000</td>\n      <td>25635.000000</td>\n      <td>2.575100e+04</td>\n      <td>25751.000000</td>\n      <td>25751.000000</td>\n      <td>23906.000000</td>\n      <td>25751.000000</td>\n      <td>25751.000000</td>\n      <td>25751.000000</td>\n      <td>25751.000000</td>\n    </tr>\n    <tr>\n      <th>mean</th>\n      <td>265685.626927</td>\n      <td>1.610578</td>\n      <td>14.251063</td>\n      <td>7.137427e+05</td>\n      <td>3.633024</td>\n      <td>198.164032</td>\n      <td>0.009788</td>\n      <td>0.980928</td>\n      <td>0.983034</td>\n      <td>0.908703</td>\n      <td>0.985260</td>\n    </tr>\n    <tr>\n      <th>std</th>\n      <td>58623.840868</td>\n      <td>0.906222</td>\n      <td>4.690025</td>\n      <td>2.435461e+06</td>\n      <td>1.309948</td>\n      <td>118.263229</td>\n      <td>0.098453</td>\n      <td>0.270991</td>\n      <td>0.495489</td>\n      <td>1.249958</td>\n      <td>0.625070</td>\n    </tr>\n    <tr>\n      <th>min</th>\n      <td>171142.000000</td>\n      <td>0.000000</td>\n      <td>0.000000</td>\n      <td>0.000000e+00</td>\n      <td>0.000000</td>\n      <td>0.000000</td>\n      <td>0.000000</td>\n      <td>0.000000</td>\n      <td>0.000000</td>\n      <td>0.000000</td>\n      <td>0.000000</td>\n    </tr>\n    <tr>\n      <th>25%</th>\n      <td>212536.000000</td>\n      <td>1.000000</td>\n      <td>12.000000</td>\n      <td>7.508000e+03</td>\n      <td>3.000000</td>\n      <td>92.000000</td>\n      <td>0.000000</td>\n      <td>0.837438</td>\n      <td>0.214133</td>\n      <td>0.000000</td>\n      <td>0.758534</td>\n    </tr>\n    <tr>\n      <th>50%</th>\n      <td>266346.000000</td>\n      <td>1.000000</td>\n      <td>15.000000</td>\n      <td>1.288800e+05</td>\n      <td>3.000000</td>\n      <td>210.000000</td>\n      <td>0.000000</td>\n      <td>1.139073</td>\n      <td>1.293184</td>\n      <td>0.000000</td>\n      <td>0.941968</td>\n    </tr>\n    <tr>\n      <th>75%</th>\n      <td>316658.500000</td>\n      <td>3.000000</td>\n      <td>19.000000</td>\n      <td>5.972315e+05</td>\n      <td>4.000000</td>\n      <td>295.000000</td>\n      <td>0.000000</td>\n      <td>1.139073</td>\n      <td>1.293184</td>\n      <td>1.369863</td>\n      <td>1.062135</td>\n    </tr>\n    <tr>\n      <th>max</th>\n      <td>365073.000000</td>\n      <td>3.000000</td>\n      <td>20.000000</td>\n      <td>7.386321e+07</td>\n      <td>10.000000</td>\n      <td>393.000000</td>\n      <td>1.000000</td>\n      <td>2.352941</td>\n      <td>1.442308</td>\n      <td>5.747126</td>\n      <td>6.250000</td>\n    </tr>\n  </tbody>\n</table>\n</div>"
     },
     "execution_count": 22,
     "metadata": {},
     "output_type": "execute_result"
    }
   ],
   "source": [
    "cinfo.describe()"
   ],
   "metadata": {
    "collapsed": false,
    "pycharm": {
     "name": "#%%\n"
    }
   }
  },
  {
   "cell_type": "code",
   "execution_count": 5,
   "outputs": [
    {
     "data": {
      "text/plain": "      alert_key                                            cust_id  risk_rank  \\\n1845     171142  a39fea9aec90969fe66a2b2b4d1b86368a2d38e8b8d4bf...          3   \n1846     171152  7e42b5dca9b28ee8e5545beb834361e90e6197d176b389...          3   \n1847     171177  a6cdf6302aead77112013168c6d546d2df3bcb551956d2...          1   \n1848     171178  1a3efa69705f611c7ef2384a715c8142e2ee801cfec9df...          3   \n1849     171180  67f8cbb64dd3d447e992b1b299e0ceed3372188e47c88e...          1   \n\n      occupation_code  total_asset  AGE  date data_label  sar_flag  \n1845             12.0     241719.0    3     0      train       0.0  \n1846             13.0     599497.0    6     0      train       0.0  \n1847             19.0      51160.0    4     0      train       0.0  \n1848              9.0    3634343.0    6     0      train       0.0  \n1849             17.0    4076287.0    4     0      train       0.0  ",
      "text/html": "<div>\n<style scoped>\n    .dataframe tbody tr th:only-of-type {\n        vertical-align: middle;\n    }\n\n    .dataframe tbody tr th {\n        vertical-align: top;\n    }\n\n    .dataframe thead th {\n        text-align: right;\n    }\n</style>\n<table border=\"1\" class=\"dataframe\">\n  <thead>\n    <tr style=\"text-align: right;\">\n      <th></th>\n      <th>alert_key</th>\n      <th>cust_id</th>\n      <th>risk_rank</th>\n      <th>occupation_code</th>\n      <th>total_asset</th>\n      <th>AGE</th>\n      <th>date</th>\n      <th>data_label</th>\n      <th>sar_flag</th>\n    </tr>\n  </thead>\n  <tbody>\n    <tr>\n      <th>1845</th>\n      <td>171142</td>\n      <td>a39fea9aec90969fe66a2b2b4d1b86368a2d38e8b8d4bf...</td>\n      <td>3</td>\n      <td>12.0</td>\n      <td>241719.0</td>\n      <td>3</td>\n      <td>0</td>\n      <td>train</td>\n      <td>0.0</td>\n    </tr>\n    <tr>\n      <th>1846</th>\n      <td>171152</td>\n      <td>7e42b5dca9b28ee8e5545beb834361e90e6197d176b389...</td>\n      <td>3</td>\n      <td>13.0</td>\n      <td>599497.0</td>\n      <td>6</td>\n      <td>0</td>\n      <td>train</td>\n      <td>0.0</td>\n    </tr>\n    <tr>\n      <th>1847</th>\n      <td>171177</td>\n      <td>a6cdf6302aead77112013168c6d546d2df3bcb551956d2...</td>\n      <td>1</td>\n      <td>19.0</td>\n      <td>51160.0</td>\n      <td>4</td>\n      <td>0</td>\n      <td>train</td>\n      <td>0.0</td>\n    </tr>\n    <tr>\n      <th>1848</th>\n      <td>171178</td>\n      <td>1a3efa69705f611c7ef2384a715c8142e2ee801cfec9df...</td>\n      <td>3</td>\n      <td>9.0</td>\n      <td>3634343.0</td>\n      <td>6</td>\n      <td>0</td>\n      <td>train</td>\n      <td>0.0</td>\n    </tr>\n    <tr>\n      <th>1849</th>\n      <td>171180</td>\n      <td>67f8cbb64dd3d447e992b1b299e0ceed3372188e47c88e...</td>\n      <td>1</td>\n      <td>17.0</td>\n      <td>4076287.0</td>\n      <td>4</td>\n      <td>0</td>\n      <td>train</td>\n      <td>0.0</td>\n    </tr>\n  </tbody>\n</table>\n</div>"
     },
     "execution_count": 5,
     "metadata": {},
     "output_type": "execute_result"
    }
   ],
   "source": [
    "import copy\n",
    "\n",
    "# separate\n",
    "train_cinfo = copy.deepcopy(cinfo)\n",
    "train_cinfo = train_cinfo[~pd.isna(train_cinfo['sar_flag'])]\n",
    "train_cinfo.head()"
   ],
   "metadata": {
    "collapsed": false,
    "pycharm": {
     "name": "#%%\n"
    }
   }
  },
  {
   "cell_type": "code",
   "execution_count": 6,
   "outputs": [
    {
     "data": {
      "text/plain": "{'AGE': {3: 1.1390728476821192,\n  6: 0.5569306930693069,\n  4: 0.8374384236453201,\n  5: 0.7261724659606656,\n  2: 1.2917115177610334,\n  9: 0.0,\n  1: 1.1363636363636365,\n  7: 0.22522522522522523,\n  8: 2.3529411764705883,\n  10: 0.0,\n  0: 0.0},\n 'risk_rank': {3: 0.21413276231263384,\n  1: 1.2931842318985445,\n  2: 1.4423076923076923,\n  0: 0.0},\n 'date': {0: 1.1363636363636365,\n  5: 0.6578947368421052,\n  6: 0.0,\n  7: 1.2048192771084338,\n  8: 0.0,\n  11: 0.0,\n  12: 2.380952380952381,\n  13: 0.4878048780487805,\n  14: 2.127659574468085,\n  15: 0.0,\n  18: 0.9900990099009901,\n  19: 1.1494252873563218,\n  20: 0.0,\n  21: 1.3157894736842104,\n  22: 0.0,\n  25: 0.847457627118644,\n  26: 4.477611940298507,\n  27: 2.197802197802198,\n  28: 1.1627906976744187,\n  32: 2.2058823529411766,\n  33: 1.2987012987012987,\n  34: 1.098901098901099,\n  35: 1.2658227848101267,\n  36: 3.7037037037037033,\n  39: 1.8518518518518516,\n  40: 1.2658227848101267,\n  41: 3.7037037037037033,\n  42: 2.197802197802198,\n  43: 5.747126436781609,\n  46: 2.0,\n  47: 3.614457831325301,\n  48: 3.79746835443038,\n  49: 4.545454545454546,\n  50: 2.8169014084507045,\n  53: 5.434782608695652,\n  54: 4.6875,\n  55: 3.0303030303030303,\n  56: 0.0,\n  57: 4.081632653061225,\n  60: 4.597701149425287,\n  61: 0.0,\n  62: 2.7027027027027026,\n  63: 1.5873015873015872,\n  64: 2.941176470588235,\n  67: 0.0,\n  69: 1.6666666666666667,\n  68: 4.878048780487805,\n  70: 2.631578947368421,\n  71: 3.896103896103896,\n  75: 4.3478260869565215,\n  76: 1.4925373134328357,\n  77: 0.0,\n  78: 0.0,\n  82: 0.0,\n  83: 1.6129032258064515,\n  84: 4.285714285714286,\n  81: 1.9607843137254901,\n  85: 2.8169014084507045,\n  88: 2.0618556701030926,\n  90: 5.084745762711865,\n  91: 0.0,\n  89: 0.0,\n  92: 1.4084507042253522,\n  95: 2.8301886792452833,\n  96: 0.0,\n  97: 1.6666666666666667,\n  98: 1.36986301369863,\n  99: 1.5625,\n  102: 4.761904761904762,\n  103: 4.411764705882353,\n  104: 1.5151515151515151,\n  105: 3.1746031746031744,\n  106: 3.125,\n  109: 1.098901098901099,\n  110: 1.5151515151515151,\n  111: 0.0,\n  112: 2.857142857142857,\n  113: 0.0,\n  116: 2.3529411764705883,\n  117: 1.5151515151515151,\n  118: 2.3529411764705883,\n  119: 0.0,\n  123: 1.1235955056179776,\n  124: 1.5151515151515151,\n  125: 1.3333333333333335,\n  126: 1.2345679012345678,\n  120: 0.0,\n  127: 0.0,\n  130: 1.9607843137254901,\n  131: 3.4482758620689653,\n  132: 0.0,\n  133: 1.5873015873015872,\n  134: 3.1746031746031744,\n  137: 1.2048192771084338,\n  138: 1.1764705882352942,\n  139: 0.0,\n  140: 0.0,\n  141: 1.36986301369863,\n  144: 1.36986301369863,\n  145: 0.0,\n  146: 0.0,\n  147: 0.0,\n  148: 0.0,\n  151: 4.651162790697675,\n  152: 0.0,\n  153: 0.0,\n  154: 1.2658227848101267,\n  155: 0.0,\n  158: 1.1111111111111112,\n  159: 0.0,\n  160: 0.0,\n  161: 1.639344262295082,\n  162: 2.631578947368421,\n  163: 0.0,\n  165: 3.8461538461538463,\n  166: 1.4285714285714286,\n  167: 2.2988505747126435,\n  168: 0.0,\n  169: 2.631578947368421,\n  174: 0.8620689655172413,\n  175: 0.0,\n  176: 1.098901098901099,\n  179: 0.9090909090909091,\n  180: 0.0,\n  181: 0.0,\n  182: 1.3333333333333335,\n  183: 0.0,\n  186: 1.1764705882352942,\n  187: 1.2345679012345678,\n  188: 1.2987012987012987,\n  189: 3.076923076923077,\n  190: 2.5316455696202533,\n  194: 1.680672268907563,\n  195: 2.4691358024691357,\n  196: 0.0,\n  197: 1.4285714285714286,\n  200: 2.912621359223301,\n  201: 1.0752688172043012,\n  202: 0.0,\n  203: 1.1494252873563218,\n  204: 0.0,\n  207: 1.7094017094017095,\n  208: 0.0,\n  209: 0.0,\n  210: 0.0,\n  211: 1.2658227848101267,\n  215: 0.0,\n  216: 2.380952380952381,\n  217: 1.1904761904761905,\n  218: 1.0638297872340425,\n  221: 0.0,\n  222: 0.0,\n  223: 0.0,\n  224: 0.0,\n  225: 2.272727272727273,\n  229: 0.9708737864077669,\n  230: 0.0,\n  231: 0.0,\n  232: 1.0752688172043012,\n  235: 0.9523809523809524,\n  236: 2.0618556701030926,\n  237: 0.0,\n  238: 0.0,\n  239: 1.3157894736842104,\n  242: 0.0,\n  244: 0.9433962264150944,\n  245: 1.098901098901099,\n  246: 0.0,\n  250: 1.5625,\n  251: 0.0,\n  252: 0.7092198581560284,\n  253: 0.0,\n  257: 0.6896551724137931,\n  258: 0.0,\n  259: 0.0,\n  260: 1.574803149606299,\n  263: 0.0,\n  265: 0.0,\n  266: 0.8547008547008548,\n  267: 0.8620689655172413,\n  270: 0.0,\n  271: 0.0,\n  272: 0.0,\n  273: 0.41841004184100417,\n  277: 0.9302325581395349,\n  279: 1.0,\n  280: 1.9704433497536946,\n  281: 0.9174311926605505,\n  284: 1.4184397163120568,\n  285: 0.0,\n  286: 0.0,\n  287: 0.0,\n  278: 0.0,\n  288: 0.8928571428571428,\n  291: 0.9345794392523363,\n  293: 0.0,\n  294: 0.0,\n  295: 0.0,\n  292: 1.2195121951219512,\n  298: 0.0,\n  299: 0.0,\n  300: 0.0,\n  301: 0.0,\n  296: 0.0,\n  302: 0.0,\n  313: 0.0,\n  314: 0.0,\n  315: 0.8849557522123894,\n  316: 0.0,\n  319: 0.0,\n  320: 0.0,\n  321: 0.0,\n  322: 0.0,\n  323: 0.0,\n  327: 0.0,\n  328: 0.0,\n  329: 0.0,\n  312: 0.0,\n  330: 0.0,\n  335: 0.0,\n  336: 0.0,\n  326: 0.0,\n  337: 0.0,\n  341: 0.0,\n  342: 0.0,\n  343: 0.0,\n  340: 0.0,\n  344: 0.9615384615384616,\n  347: 0.0,\n  348: 0.0,\n  349: 1.0416666666666665,\n  350: 0.0,\n  334: 0.0,\n  351: 1.098901098901099,\n  354: 0.0,\n  355: 1.2658227848101267,\n  356: 1.4705882352941175,\n  357: 0.0,\n  358: 1.1764705882352942,\n  361: 0.0,\n  362: 0.0,\n  363: 1.1111111111111112,\n  364: 0.0,\n  365: 0},\n 'occupation_code': {12.0: 0.7585335018963337,\n  13.0: 1.6930022573363432,\n  19.0: 0.9419680403700589,\n  9.0: 0.563014291901256,\n  17.0: 1.0621348911311737,\n  11.0: 2.6058631921824107,\n  14.0: 1.5254237288135595,\n  3.0: 1.7793594306049825,\n  4.0: 0.8113590263691683,\n  18.0: 0.946969696969697,\n  5.0: 0.5543237250554324,\n  15.0: 1.5217391304347827,\n  1.0: 6.25,\n  16.0: 0.9900990099009901,\n  nan: 0,\n  8.0: 0.7407407407407408,\n  7.0: 0.0,\n  20.0: 0.0,\n  2.0: 1.282051282051282,\n  0.0: 0.0,\n  10.0: 1.639344262295082,\n  6.0: 0.0}}"
     },
     "execution_count": 6,
     "metadata": {},
     "output_type": "execute_result"
    }
   ],
   "source": [
    "mean_encoding_map = {}\n",
    "\n",
    "\n",
    "def mean_encoding(key):\n",
    "    key_map = {}\n",
    "    keys = pd.unique(train_cinfo[key])  # [k for k in pd.unique(X_under[key]) if not (pd.isna(k))]\n",
    "    for k in keys:\n",
    "        if pd.isna(k):\n",
    "            key_map[k] = 0\n",
    "            continue\n",
    "        is_sar_num = len((train_cinfo[(train_cinfo['sar_flag'] == 1.0) & (train_cinfo[key] == k)]))\n",
    "        total_num = len(train_cinfo[train_cinfo[key] == k])\n",
    "        mean_val = is_sar_num / total_num * 100\n",
    "        key_map[k] = mean_val\n",
    "    mean_encoding_map[key] = key_map\n",
    "\n",
    "\n",
    "mean_encoding('AGE')\n",
    "mean_encoding('risk_rank')\n",
    "mean_encoding('date')\n",
    "mean_encoding('occupation_code')\n",
    "mean_encoding_map['date'][365] = 0\n",
    "mean_encoding_map"
   ],
   "metadata": {
    "collapsed": false,
    "pycharm": {
     "name": "#%%\n"
    }
   }
  },
  {
   "cell_type": "code",
   "execution_count": 7,
   "outputs": [
    {
     "data": {
      "text/plain": "   alert_key                                            cust_id  risk_rank  \\\n0     352249  82595ac69158ae08d34156784bdec0d9e2ca5b242b6d2a...          1   \n1     352253  b212d14cb35676926682b2cf849e295d948888f556c07e...          1   \n2     352254  e5b0002791c7852644a2730abeaa893cdf14a072ef7812...          1   \n3     352280  74214c478dc6519fbefe4bc31693865bdcd698ab974b64...          3   \n4     352282  0340e7611f0d82c3cb87e6194fa14bb2ccf8afbf1b3418...          1   \n\n   occupation_code  total_asset  AGE  date data_label  sar_flag  AGE_encoding  \\\n0             19.0    1465816.0    7   365       test       NaN      0.225225   \n1              2.0      98177.0    2   365       test       NaN      1.291712   \n2             19.0    2052922.0    7   365       test       NaN      0.225225   \n3             15.0     201906.0    5   365       test       NaN      0.726172   \n4             12.0       7450.0    5   365       test       NaN      0.726172   \n\n   risk_rank_encoding  date_encoding  occupation_code_encoding  \n0            1.293184            0.0                  0.941968  \n1            1.293184            0.0                  1.282051  \n2            1.293184            0.0                  0.941968  \n3            0.214133            0.0                  1.521739  \n4            1.293184            0.0                  0.758534  ",
      "text/html": "<div>\n<style scoped>\n    .dataframe tbody tr th:only-of-type {\n        vertical-align: middle;\n    }\n\n    .dataframe tbody tr th {\n        vertical-align: top;\n    }\n\n    .dataframe thead th {\n        text-align: right;\n    }\n</style>\n<table border=\"1\" class=\"dataframe\">\n  <thead>\n    <tr style=\"text-align: right;\">\n      <th></th>\n      <th>alert_key</th>\n      <th>cust_id</th>\n      <th>risk_rank</th>\n      <th>occupation_code</th>\n      <th>total_asset</th>\n      <th>AGE</th>\n      <th>date</th>\n      <th>data_label</th>\n      <th>sar_flag</th>\n      <th>AGE_encoding</th>\n      <th>risk_rank_encoding</th>\n      <th>date_encoding</th>\n      <th>occupation_code_encoding</th>\n    </tr>\n  </thead>\n  <tbody>\n    <tr>\n      <th>0</th>\n      <td>352249</td>\n      <td>82595ac69158ae08d34156784bdec0d9e2ca5b242b6d2a...</td>\n      <td>1</td>\n      <td>19.0</td>\n      <td>1465816.0</td>\n      <td>7</td>\n      <td>365</td>\n      <td>test</td>\n      <td>NaN</td>\n      <td>0.225225</td>\n      <td>1.293184</td>\n      <td>0.0</td>\n      <td>0.941968</td>\n    </tr>\n    <tr>\n      <th>1</th>\n      <td>352253</td>\n      <td>b212d14cb35676926682b2cf849e295d948888f556c07e...</td>\n      <td>1</td>\n      <td>2.0</td>\n      <td>98177.0</td>\n      <td>2</td>\n      <td>365</td>\n      <td>test</td>\n      <td>NaN</td>\n      <td>1.291712</td>\n      <td>1.293184</td>\n      <td>0.0</td>\n      <td>1.282051</td>\n    </tr>\n    <tr>\n      <th>2</th>\n      <td>352254</td>\n      <td>e5b0002791c7852644a2730abeaa893cdf14a072ef7812...</td>\n      <td>1</td>\n      <td>19.0</td>\n      <td>2052922.0</td>\n      <td>7</td>\n      <td>365</td>\n      <td>test</td>\n      <td>NaN</td>\n      <td>0.225225</td>\n      <td>1.293184</td>\n      <td>0.0</td>\n      <td>0.941968</td>\n    </tr>\n    <tr>\n      <th>3</th>\n      <td>352280</td>\n      <td>74214c478dc6519fbefe4bc31693865bdcd698ab974b64...</td>\n      <td>3</td>\n      <td>15.0</td>\n      <td>201906.0</td>\n      <td>5</td>\n      <td>365</td>\n      <td>test</td>\n      <td>NaN</td>\n      <td>0.726172</td>\n      <td>0.214133</td>\n      <td>0.0</td>\n      <td>1.521739</td>\n    </tr>\n    <tr>\n      <th>4</th>\n      <td>352282</td>\n      <td>0340e7611f0d82c3cb87e6194fa14bb2ccf8afbf1b3418...</td>\n      <td>1</td>\n      <td>12.0</td>\n      <td>7450.0</td>\n      <td>5</td>\n      <td>365</td>\n      <td>test</td>\n      <td>NaN</td>\n      <td>0.726172</td>\n      <td>1.293184</td>\n      <td>0.0</td>\n      <td>0.758534</td>\n    </tr>\n  </tbody>\n</table>\n</div>"
     },
     "execution_count": 7,
     "metadata": {},
     "output_type": "execute_result"
    }
   ],
   "source": [
    "for k, v in mean_encoding_map.items():\n",
    "    mean_encoding_val = [0 if pd.isna(x) or v.get(x) is None else v[x] for x in cinfo[k]]\n",
    "    column_name = k + \"_encoding\"\n",
    "    cinfo = pd.concat([cinfo, pd.DataFrame({column_name: mean_encoding_val})], axis=1)\n"
   ],
   "metadata": {
    "collapsed": false,
    "pycharm": {
     "name": "#%%\n"
    }
   }
  },
  {
   "cell_type": "code",
   "execution_count": 11,
   "outputs": [
    {
     "data": {
      "text/plain": "(25751, (25751, 13))"
     },
     "execution_count": 11,
     "metadata": {},
     "output_type": "execute_result"
    }
   ],
   "source": [
    "len(pd.unique(cinfo.alert_key)), cinfo.shape"
   ],
   "metadata": {
    "collapsed": false,
    "pycharm": {
     "name": "#%%\n"
    }
   }
  },
  {
   "cell_type": "code",
   "execution_count": 13,
   "outputs": [],
   "source": [
    "drop_feature = ['data_label', 'sar_flag', 'cust_id']\n",
    "cinfo_encoding = cinfo.drop(drop_feature, axis=1)"
   ],
   "metadata": {
    "collapsed": false,
    "pycharm": {
     "name": "#%%\n"
    }
   }
  },
  {
   "cell_type": "code",
   "execution_count": 19,
   "outputs": [],
   "source": [
    "cinfo_encoding.to_pickle(\"encoding_all.pkl\")"
   ],
   "metadata": {
    "collapsed": false,
    "pycharm": {
     "name": "#%%\n"
    }
   }
  },
  {
   "cell_type": "code",
   "execution_count": 20,
   "outputs": [
    {
     "data": {
      "text/plain": "       alert_key  total_asset  AGE_encoding  risk_rank_encoding  \\\n0         352249    1465816.0      0.225225            1.293184   \n1         352253      98177.0      1.291712            1.293184   \n2         352254    2052922.0      0.225225            1.293184   \n3         352280     201906.0      0.726172            0.214133   \n4         352282       7450.0      0.726172            1.293184   \n...          ...          ...           ...                 ...   \n25746     352123      12207.0      1.291712            1.293184   \n25747     352124     259985.0      0.837438            1.293184   \n25748     352125     928963.0      1.139073            0.214133   \n25749     352128      21647.0      0.837438            0.214133   \n25750     352132    3218731.0      1.139073            1.293184   \n\n       date_encoding  occupation_code_encoding  \n0                0.0                  0.941968  \n1                0.0                  1.282051  \n2                0.0                  0.941968  \n3                0.0                  1.521739  \n4                0.0                  0.758534  \n...              ...                       ...  \n25746            0.0                  1.062135  \n25747            0.0                  1.062135  \n25748            0.0                  0.941968  \n25749            0.0                  0.941968  \n25750            0.0                  0.941968  \n\n[25751 rows x 6 columns]",
      "text/html": "<div>\n<style scoped>\n    .dataframe tbody tr th:only-of-type {\n        vertical-align: middle;\n    }\n\n    .dataframe tbody tr th {\n        vertical-align: top;\n    }\n\n    .dataframe thead th {\n        text-align: right;\n    }\n</style>\n<table border=\"1\" class=\"dataframe\">\n  <thead>\n    <tr style=\"text-align: right;\">\n      <th></th>\n      <th>alert_key</th>\n      <th>total_asset</th>\n      <th>AGE_encoding</th>\n      <th>risk_rank_encoding</th>\n      <th>date_encoding</th>\n      <th>occupation_code_encoding</th>\n    </tr>\n  </thead>\n  <tbody>\n    <tr>\n      <th>0</th>\n      <td>352249</td>\n      <td>1465816.0</td>\n      <td>0.225225</td>\n      <td>1.293184</td>\n      <td>0.0</td>\n      <td>0.941968</td>\n    </tr>\n    <tr>\n      <th>1</th>\n      <td>352253</td>\n      <td>98177.0</td>\n      <td>1.291712</td>\n      <td>1.293184</td>\n      <td>0.0</td>\n      <td>1.282051</td>\n    </tr>\n    <tr>\n      <th>2</th>\n      <td>352254</td>\n      <td>2052922.0</td>\n      <td>0.225225</td>\n      <td>1.293184</td>\n      <td>0.0</td>\n      <td>0.941968</td>\n    </tr>\n    <tr>\n      <th>3</th>\n      <td>352280</td>\n      <td>201906.0</td>\n      <td>0.726172</td>\n      <td>0.214133</td>\n      <td>0.0</td>\n      <td>1.521739</td>\n    </tr>\n    <tr>\n      <th>4</th>\n      <td>352282</td>\n      <td>7450.0</td>\n      <td>0.726172</td>\n      <td>1.293184</td>\n      <td>0.0</td>\n      <td>0.758534</td>\n    </tr>\n    <tr>\n      <th>...</th>\n      <td>...</td>\n      <td>...</td>\n      <td>...</td>\n      <td>...</td>\n      <td>...</td>\n      <td>...</td>\n    </tr>\n    <tr>\n      <th>25746</th>\n      <td>352123</td>\n      <td>12207.0</td>\n      <td>1.291712</td>\n      <td>1.293184</td>\n      <td>0.0</td>\n      <td>1.062135</td>\n    </tr>\n    <tr>\n      <th>25747</th>\n      <td>352124</td>\n      <td>259985.0</td>\n      <td>0.837438</td>\n      <td>1.293184</td>\n      <td>0.0</td>\n      <td>1.062135</td>\n    </tr>\n    <tr>\n      <th>25748</th>\n      <td>352125</td>\n      <td>928963.0</td>\n      <td>1.139073</td>\n      <td>0.214133</td>\n      <td>0.0</td>\n      <td>0.941968</td>\n    </tr>\n    <tr>\n      <th>25749</th>\n      <td>352128</td>\n      <td>21647.0</td>\n      <td>0.837438</td>\n      <td>0.214133</td>\n      <td>0.0</td>\n      <td>0.941968</td>\n    </tr>\n    <tr>\n      <th>25750</th>\n      <td>352132</td>\n      <td>3218731.0</td>\n      <td>1.139073</td>\n      <td>1.293184</td>\n      <td>0.0</td>\n      <td>0.941968</td>\n    </tr>\n  </tbody>\n</table>\n<p>25751 rows × 6 columns</p>\n</div>"
     },
     "execution_count": 20,
     "metadata": {},
     "output_type": "execute_result"
    }
   ],
   "source": [
    "drop_feature = [\"AGE\", \"date\", \"risk_rank\", \"occupation_code\"]\n",
    "\n",
    "encoding_significant = cinfo_encoding.drop(drop_feature, axis=1)\n",
    "encoding_significant.to_pickle(\"encoding_significant.pkl\")\n",
    "encoding_significant"
   ],
   "metadata": {
    "collapsed": false,
    "pycharm": {
     "name": "#%%\n"
    }
   }
  },
  {
   "cell_type": "code",
   "execution_count": null,
   "outputs": [],
   "source": [],
   "metadata": {
    "collapsed": false,
    "pycharm": {
     "name": "#%%\n"
    }
   }
  }
 ],
 "metadata": {
  "kernelspec": {
   "display_name": "Python 3",
   "language": "python",
   "name": "python3"
  },
  "language_info": {
   "codemirror_mode": {
    "name": "ipython",
    "version": 2
   },
   "file_extension": ".py",
   "mimetype": "text/x-python",
   "name": "python",
   "nbconvert_exporter": "python",
   "pygments_lexer": "ipython2",
   "version": "2.7.6"
  }
 },
 "nbformat": 4,
 "nbformat_minor": 0
}