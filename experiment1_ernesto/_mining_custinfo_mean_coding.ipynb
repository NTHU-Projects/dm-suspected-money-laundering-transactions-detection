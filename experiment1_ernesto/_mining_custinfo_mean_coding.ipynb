{
 "cells": [
  {
   "cell_type": "markdown",
   "metadata": {
    "pycharm": {
     "name": "#%% md\n"
    }
   },
   "source": [
    "## Read File"
   ]
  },
  {
   "cell_type": "code",
   "execution_count": 86,
   "metadata": {
    "collapsed": false,
    "pycharm": {
     "name": "#%%\n"
    }
   },
   "outputs": [
    {
     "data": {
      "text/plain": "'test'"
     },
     "execution_count": 86,
     "metadata": {},
     "output_type": "execute_result"
    }
   ],
   "source": [
    "\"test\""
   ]
  },
  {
   "cell_type": "code",
   "execution_count": 87,
   "metadata": {
    "pycharm": {
     "name": "#%%\n"
    }
   },
   "outputs": [],
   "source": [
    "import pandas as pd\n",
    "\n",
    "# CCBA_PATH = '../dataset/train_first/public_train_x_ccba_full_hashed.csv'\n",
    "# CDTX_PATH = '../dataset/train_first/public_train_x_cdtx0001_full_hashed.csv'\n",
    "# DP_PATH = '../dataset/train_first/public_train_x_dp_full_hashed.csv'\n",
    "# REMIT_PATH = '../dataset/train_first/public_train_x_remit1_full_hashed.csv'\n",
    "CUSTINFO_PATH = 'dataset/train_first/public_train_x_custinfo_full_hashed.csv'\n",
    "PDATE_PATH = 'dataset/train_first/public_x_alert_date.csv'\n",
    "TDATE_PATH = 'dataset/train_first/train_x_alert_date.csv'\n",
    "ANSWER_PATH = 'dataset/train_first/train_y_answer.csv'\n",
    "SAMPLE_PATH = 'dataset/train_first/sample_submission.csv'\n",
    "\n",
    "# ccba = pd.read_csv(CCBA_PATH)\n",
    "# cdtx = pd.read_csv(CDTX_PATH)\n",
    "# dp = pd.read_csv(DP_PATH)\n",
    "# remit = pd.read_csv(REMIT_PATH)\n",
    "cinfo = pd.read_csv(CUSTINFO_PATH)\n",
    "pdate = pd.read_csv(PDATE_PATH)\n",
    "tdate = pd.read_csv(TDATE_PATH)\n",
    "answer = pd.read_csv(ANSWER_PATH)\n",
    "sample = pd.read_csv(SAMPLE_PATH)"
   ]
  },
  {
   "cell_type": "code",
   "execution_count": 88,
   "outputs": [
    {
     "data": {
      "text/plain": "   alert_key  date\n0     352342   365\n1     352866   365\n2     352696   365\n3     352330   365\n4     352683   365",
      "text/html": "<div>\n<style scoped>\n    .dataframe tbody tr th:only-of-type {\n        vertical-align: middle;\n    }\n\n    .dataframe tbody tr th {\n        vertical-align: top;\n    }\n\n    .dataframe thead th {\n        text-align: right;\n    }\n</style>\n<table border=\"1\" class=\"dataframe\">\n  <thead>\n    <tr style=\"text-align: right;\">\n      <th></th>\n      <th>alert_key</th>\n      <th>date</th>\n    </tr>\n  </thead>\n  <tbody>\n    <tr>\n      <th>0</th>\n      <td>352342</td>\n      <td>365</td>\n    </tr>\n    <tr>\n      <th>1</th>\n      <td>352866</td>\n      <td>365</td>\n    </tr>\n    <tr>\n      <th>2</th>\n      <td>352696</td>\n      <td>365</td>\n    </tr>\n    <tr>\n      <th>3</th>\n      <td>352330</td>\n      <td>365</td>\n    </tr>\n    <tr>\n      <th>4</th>\n      <td>352683</td>\n      <td>365</td>\n    </tr>\n  </tbody>\n</table>\n</div>"
     },
     "execution_count": 88,
     "metadata": {},
     "output_type": "execute_result"
    }
   ],
   "source": [
    "pdate.head()"
   ],
   "metadata": {
    "collapsed": false,
    "pycharm": {
     "name": "#%%\n"
    }
   }
  },
  {
   "cell_type": "code",
   "execution_count": 89,
   "outputs": [
    {
     "data": {
      "text/plain": "   alert_key  date data_label\n0     352342   365       test\n1     352866   365       test\n2     352696   365       test\n3     352330   365       test\n4     352683   365       test",
      "text/html": "<div>\n<style scoped>\n    .dataframe tbody tr th:only-of-type {\n        vertical-align: middle;\n    }\n\n    .dataframe tbody tr th {\n        vertical-align: top;\n    }\n\n    .dataframe thead th {\n        text-align: right;\n    }\n</style>\n<table border=\"1\" class=\"dataframe\">\n  <thead>\n    <tr style=\"text-align: right;\">\n      <th></th>\n      <th>alert_key</th>\n      <th>date</th>\n      <th>data_label</th>\n    </tr>\n  </thead>\n  <tbody>\n    <tr>\n      <th>0</th>\n      <td>352342</td>\n      <td>365</td>\n      <td>test</td>\n    </tr>\n    <tr>\n      <th>1</th>\n      <td>352866</td>\n      <td>365</td>\n      <td>test</td>\n    </tr>\n    <tr>\n      <th>2</th>\n      <td>352696</td>\n      <td>365</td>\n      <td>test</td>\n    </tr>\n    <tr>\n      <th>3</th>\n      <td>352330</td>\n      <td>365</td>\n      <td>test</td>\n    </tr>\n    <tr>\n      <th>4</th>\n      <td>352683</td>\n      <td>365</td>\n      <td>test</td>\n    </tr>\n  </tbody>\n</table>\n</div>"
     },
     "execution_count": 89,
     "metadata": {},
     "output_type": "execute_result"
    }
   ],
   "source": [
    "# add data label\n",
    "# pdate > public_x_alert_date is a test dataset\n",
    "# tdate > train_x_alert_date is a train dataset\n",
    "pdate.insert(pdate.shape[1], \"data_label\", [\"test\"] * pdate.shape[0], True)\n",
    "tdate.insert(tdate.shape[1], \"data_label\", [\"train\"] * tdate.shape[0], True)\n",
    "date = pd.concat([pdate, tdate], axis=0)\n",
    "date.head()"
   ],
   "metadata": {
    "collapsed": false,
    "pycharm": {
     "name": "#%%\n"
    }
   }
  },
  {
   "cell_type": "code",
   "execution_count": 90,
   "outputs": [
    {
     "data": {
      "text/plain": "      alert_key  probability\n0        357307     0.000017\n3        357668     0.000489\n4        354443     0.000526\n5        361128     0.000887\n6        364753     0.001057\n...         ...          ...\n3842     357676     0.996705\n3844     360534     0.997549\n3845     364485     0.997702\n3846     363155     0.998987\n3848     358067     0.999821\n\n[1845 rows x 2 columns]",
      "text/html": "<div>\n<style scoped>\n    .dataframe tbody tr th:only-of-type {\n        vertical-align: middle;\n    }\n\n    .dataframe tbody tr th {\n        vertical-align: top;\n    }\n\n    .dataframe thead th {\n        text-align: right;\n    }\n</style>\n<table border=\"1\" class=\"dataframe\">\n  <thead>\n    <tr style=\"text-align: right;\">\n      <th></th>\n      <th>alert_key</th>\n      <th>probability</th>\n    </tr>\n  </thead>\n  <tbody>\n    <tr>\n      <th>0</th>\n      <td>357307</td>\n      <td>0.000017</td>\n    </tr>\n    <tr>\n      <th>3</th>\n      <td>357668</td>\n      <td>0.000489</td>\n    </tr>\n    <tr>\n      <th>4</th>\n      <td>354443</td>\n      <td>0.000526</td>\n    </tr>\n    <tr>\n      <th>5</th>\n      <td>361128</td>\n      <td>0.000887</td>\n    </tr>\n    <tr>\n      <th>6</th>\n      <td>364753</td>\n      <td>0.001057</td>\n    </tr>\n    <tr>\n      <th>...</th>\n      <td>...</td>\n      <td>...</td>\n    </tr>\n    <tr>\n      <th>3842</th>\n      <td>357676</td>\n      <td>0.996705</td>\n    </tr>\n    <tr>\n      <th>3844</th>\n      <td>360534</td>\n      <td>0.997549</td>\n    </tr>\n    <tr>\n      <th>3845</th>\n      <td>364485</td>\n      <td>0.997702</td>\n    </tr>\n    <tr>\n      <th>3846</th>\n      <td>363155</td>\n      <td>0.998987</td>\n    </tr>\n    <tr>\n      <th>3848</th>\n      <td>358067</td>\n      <td>0.999821</td>\n    </tr>\n  </tbody>\n</table>\n<p>1845 rows × 2 columns</p>\n</div>"
     },
     "execution_count": 90,
     "metadata": {},
     "output_type": "execute_result"
    }
   ],
   "source": [
    "# check if the public date and sample submission is the same key\n",
    "sample[sample['alert_key'].isin(pdate['alert_key'])]"
   ],
   "metadata": {
    "collapsed": false,
    "pycharm": {
     "name": "#%%\n"
    }
   }
  },
  {
   "cell_type": "markdown",
   "metadata": {
    "pycharm": {
     "name": "#%% md\n"
    }
   },
   "source": [
    "## Preprocess"
   ]
  },
  {
   "cell_type": "code",
   "execution_count": 91,
   "metadata": {
    "pycharm": {
     "name": "#%%\n"
    }
   },
   "outputs": [],
   "source": [
    "import pandas as pd"
   ]
  },
  {
   "cell_type": "code",
   "execution_count": 92,
   "metadata": {
    "pycharm": {
     "name": "#%%\n"
    }
   },
   "outputs": [],
   "source": [
    "# Map Date and target to 'cust_info'\n",
    "cinfo = cinfo.merge(date, on='alert_key', how='left')\n",
    "cinfo = cinfo.merge(answer, on='alert_key', how='left')"
   ]
  },
  {
   "cell_type": "code",
   "execution_count": 93,
   "outputs": [
    {
     "data": {
      "text/plain": "   alert_key                                            cust_id  risk_rank  \\\n0     352249  82595ac69158ae08d34156784bdec0d9e2ca5b242b6d2a...          1   \n1     352253  b212d14cb35676926682b2cf849e295d948888f556c07e...          1   \n2     352254  e5b0002791c7852644a2730abeaa893cdf14a072ef7812...          1   \n3     352280  74214c478dc6519fbefe4bc31693865bdcd698ab974b64...          3   \n4     352282  0340e7611f0d82c3cb87e6194fa14bb2ccf8afbf1b3418...          1   \n\n   occupation_code  total_asset  AGE  date data_label  sar_flag  \n0             19.0    1465816.0    7   365       test       NaN  \n1              2.0      98177.0    2   365       test       NaN  \n2             19.0    2052922.0    7   365       test       NaN  \n3             15.0     201906.0    5   365       test       NaN  \n4             12.0       7450.0    5   365       test       NaN  ",
      "text/html": "<div>\n<style scoped>\n    .dataframe tbody tr th:only-of-type {\n        vertical-align: middle;\n    }\n\n    .dataframe tbody tr th {\n        vertical-align: top;\n    }\n\n    .dataframe thead th {\n        text-align: right;\n    }\n</style>\n<table border=\"1\" class=\"dataframe\">\n  <thead>\n    <tr style=\"text-align: right;\">\n      <th></th>\n      <th>alert_key</th>\n      <th>cust_id</th>\n      <th>risk_rank</th>\n      <th>occupation_code</th>\n      <th>total_asset</th>\n      <th>AGE</th>\n      <th>date</th>\n      <th>data_label</th>\n      <th>sar_flag</th>\n    </tr>\n  </thead>\n  <tbody>\n    <tr>\n      <th>0</th>\n      <td>352249</td>\n      <td>82595ac69158ae08d34156784bdec0d9e2ca5b242b6d2a...</td>\n      <td>1</td>\n      <td>19.0</td>\n      <td>1465816.0</td>\n      <td>7</td>\n      <td>365</td>\n      <td>test</td>\n      <td>NaN</td>\n    </tr>\n    <tr>\n      <th>1</th>\n      <td>352253</td>\n      <td>b212d14cb35676926682b2cf849e295d948888f556c07e...</td>\n      <td>1</td>\n      <td>2.0</td>\n      <td>98177.0</td>\n      <td>2</td>\n      <td>365</td>\n      <td>test</td>\n      <td>NaN</td>\n    </tr>\n    <tr>\n      <th>2</th>\n      <td>352254</td>\n      <td>e5b0002791c7852644a2730abeaa893cdf14a072ef7812...</td>\n      <td>1</td>\n      <td>19.0</td>\n      <td>2052922.0</td>\n      <td>7</td>\n      <td>365</td>\n      <td>test</td>\n      <td>NaN</td>\n    </tr>\n    <tr>\n      <th>3</th>\n      <td>352280</td>\n      <td>74214c478dc6519fbefe4bc31693865bdcd698ab974b64...</td>\n      <td>3</td>\n      <td>15.0</td>\n      <td>201906.0</td>\n      <td>5</td>\n      <td>365</td>\n      <td>test</td>\n      <td>NaN</td>\n    </tr>\n    <tr>\n      <th>4</th>\n      <td>352282</td>\n      <td>0340e7611f0d82c3cb87e6194fa14bb2ccf8afbf1b3418...</td>\n      <td>1</td>\n      <td>12.0</td>\n      <td>7450.0</td>\n      <td>5</td>\n      <td>365</td>\n      <td>test</td>\n      <td>NaN</td>\n    </tr>\n  </tbody>\n</table>\n</div>"
     },
     "execution_count": 93,
     "metadata": {},
     "output_type": "execute_result"
    }
   ],
   "source": [
    "cinfo.head()"
   ],
   "metadata": {
    "collapsed": false,
    "pycharm": {
     "name": "#%%\n"
    }
   }
  },
  {
   "cell_type": "code",
   "execution_count": 94,
   "outputs": [
    {
     "data": {
      "text/plain": "      alert_key                                            cust_id  risk_rank  \\\n1845     171142  a39fea9aec90969fe66a2b2b4d1b86368a2d38e8b8d4bf...          3   \n1846     171152  7e42b5dca9b28ee8e5545beb834361e90e6197d176b389...          3   \n1847     171177  a6cdf6302aead77112013168c6d546d2df3bcb551956d2...          1   \n1848     171178  1a3efa69705f611c7ef2384a715c8142e2ee801cfec9df...          3   \n1849     171180  67f8cbb64dd3d447e992b1b299e0ceed3372188e47c88e...          1   \n\n      occupation_code  total_asset  AGE  date data_label  sar_flag  \n1845             12.0     241719.0    3     0      train       0.0  \n1846             13.0     599497.0    6     0      train       0.0  \n1847             19.0      51160.0    4     0      train       0.0  \n1848              9.0    3634343.0    6     0      train       0.0  \n1849             17.0    4076287.0    4     0      train       0.0  ",
      "text/html": "<div>\n<style scoped>\n    .dataframe tbody tr th:only-of-type {\n        vertical-align: middle;\n    }\n\n    .dataframe tbody tr th {\n        vertical-align: top;\n    }\n\n    .dataframe thead th {\n        text-align: right;\n    }\n</style>\n<table border=\"1\" class=\"dataframe\">\n  <thead>\n    <tr style=\"text-align: right;\">\n      <th></th>\n      <th>alert_key</th>\n      <th>cust_id</th>\n      <th>risk_rank</th>\n      <th>occupation_code</th>\n      <th>total_asset</th>\n      <th>AGE</th>\n      <th>date</th>\n      <th>data_label</th>\n      <th>sar_flag</th>\n    </tr>\n  </thead>\n  <tbody>\n    <tr>\n      <th>1845</th>\n      <td>171142</td>\n      <td>a39fea9aec90969fe66a2b2b4d1b86368a2d38e8b8d4bf...</td>\n      <td>3</td>\n      <td>12.0</td>\n      <td>241719.0</td>\n      <td>3</td>\n      <td>0</td>\n      <td>train</td>\n      <td>0.0</td>\n    </tr>\n    <tr>\n      <th>1846</th>\n      <td>171152</td>\n      <td>7e42b5dca9b28ee8e5545beb834361e90e6197d176b389...</td>\n      <td>3</td>\n      <td>13.0</td>\n      <td>599497.0</td>\n      <td>6</td>\n      <td>0</td>\n      <td>train</td>\n      <td>0.0</td>\n    </tr>\n    <tr>\n      <th>1847</th>\n      <td>171177</td>\n      <td>a6cdf6302aead77112013168c6d546d2df3bcb551956d2...</td>\n      <td>1</td>\n      <td>19.0</td>\n      <td>51160.0</td>\n      <td>4</td>\n      <td>0</td>\n      <td>train</td>\n      <td>0.0</td>\n    </tr>\n    <tr>\n      <th>1848</th>\n      <td>171178</td>\n      <td>1a3efa69705f611c7ef2384a715c8142e2ee801cfec9df...</td>\n      <td>3</td>\n      <td>9.0</td>\n      <td>3634343.0</td>\n      <td>6</td>\n      <td>0</td>\n      <td>train</td>\n      <td>0.0</td>\n    </tr>\n    <tr>\n      <th>1849</th>\n      <td>171180</td>\n      <td>67f8cbb64dd3d447e992b1b299e0ceed3372188e47c88e...</td>\n      <td>1</td>\n      <td>17.0</td>\n      <td>4076287.0</td>\n      <td>4</td>\n      <td>0</td>\n      <td>train</td>\n      <td>0.0</td>\n    </tr>\n  </tbody>\n</table>\n</div>"
     },
     "execution_count": 94,
     "metadata": {},
     "output_type": "execute_result"
    }
   ],
   "source": [
    "import copy\n",
    "\n",
    "# separate\n",
    "train_cinfo = copy.deepcopy(cinfo)\n",
    "train_cinfo = train_cinfo[~pd.isna(train_cinfo['sar_flag'])]\n",
    "train_cinfo.head()"
   ],
   "metadata": {
    "collapsed": false,
    "pycharm": {
     "name": "#%%\n"
    }
   }
  },
  {
   "cell_type": "code",
   "execution_count": 95,
   "outputs": [
    {
     "data": {
      "text/plain": "{'AGE': {3: 1.1390728476821192,\n  6: 0.5569306930693069,\n  4: 0.8374384236453201,\n  5: 0.7261724659606656,\n  2: 1.2917115177610334,\n  9: 0.0,\n  1: 1.1363636363636365,\n  7: 0.22522522522522523,\n  8: 2.3529411764705883,\n  10: 0.0,\n  0: 0.0},\n 'risk_rank': {3: 0.21413276231263384,\n  1: 1.2931842318985445,\n  2: 1.4423076923076923,\n  0: 0.0},\n 'date': {0: 1.1363636363636365,\n  5: 0.6578947368421052,\n  6: 0.0,\n  7: 1.2048192771084338,\n  8: 0.0,\n  11: 0.0,\n  12: 2.380952380952381,\n  13: 0.4878048780487805,\n  14: 2.127659574468085,\n  15: 0.0,\n  18: 0.9900990099009901,\n  19: 1.1494252873563218,\n  20: 0.0,\n  21: 1.3157894736842104,\n  22: 0.0,\n  25: 0.847457627118644,\n  26: 4.477611940298507,\n  27: 2.197802197802198,\n  28: 1.1627906976744187,\n  32: 2.2058823529411766,\n  33: 1.2987012987012987,\n  34: 1.098901098901099,\n  35: 1.2658227848101267,\n  36: 3.7037037037037033,\n  39: 1.8518518518518516,\n  40: 1.2658227848101267,\n  41: 3.7037037037037033,\n  42: 2.197802197802198,\n  43: 5.747126436781609,\n  46: 2.0,\n  47: 3.614457831325301,\n  48: 3.79746835443038,\n  49: 4.545454545454546,\n  50: 2.8169014084507045,\n  53: 5.434782608695652,\n  54: 4.6875,\n  55: 3.0303030303030303,\n  56: 0.0,\n  57: 4.081632653061225,\n  60: 4.597701149425287,\n  61: 0.0,\n  62: 2.7027027027027026,\n  63: 1.5873015873015872,\n  64: 2.941176470588235,\n  67: 0.0,\n  69: 1.6666666666666667,\n  68: 4.878048780487805,\n  70: 2.631578947368421,\n  71: 3.896103896103896,\n  75: 4.3478260869565215,\n  76: 1.4925373134328357,\n  77: 0.0,\n  78: 0.0,\n  82: 0.0,\n  83: 1.6129032258064515,\n  84: 4.285714285714286,\n  81: 1.9607843137254901,\n  85: 2.8169014084507045,\n  88: 2.0618556701030926,\n  90: 5.084745762711865,\n  91: 0.0,\n  89: 0.0,\n  92: 1.4084507042253522,\n  95: 2.8301886792452833,\n  96: 0.0,\n  97: 1.6666666666666667,\n  98: 1.36986301369863,\n  99: 1.5625,\n  102: 4.761904761904762,\n  103: 4.411764705882353,\n  104: 1.5151515151515151,\n  105: 3.1746031746031744,\n  106: 3.125,\n  109: 1.098901098901099,\n  110: 1.5151515151515151,\n  111: 0.0,\n  112: 2.857142857142857,\n  113: 0.0,\n  116: 2.3529411764705883,\n  117: 1.5151515151515151,\n  118: 2.3529411764705883,\n  119: 0.0,\n  123: 1.1235955056179776,\n  124: 1.5151515151515151,\n  125: 1.3333333333333335,\n  126: 1.2345679012345678,\n  120: 0.0,\n  127: 0.0,\n  130: 1.9607843137254901,\n  131: 3.4482758620689653,\n  132: 0.0,\n  133: 1.5873015873015872,\n  134: 3.1746031746031744,\n  137: 1.2048192771084338,\n  138: 1.1764705882352942,\n  139: 0.0,\n  140: 0.0,\n  141: 1.36986301369863,\n  144: 1.36986301369863,\n  145: 0.0,\n  146: 0.0,\n  147: 0.0,\n  148: 0.0,\n  151: 4.651162790697675,\n  152: 0.0,\n  153: 0.0,\n  154: 1.2658227848101267,\n  155: 0.0,\n  158: 1.1111111111111112,\n  159: 0.0,\n  160: 0.0,\n  161: 1.639344262295082,\n  162: 2.631578947368421,\n  163: 0.0,\n  165: 3.8461538461538463,\n  166: 1.4285714285714286,\n  167: 2.2988505747126435,\n  168: 0.0,\n  169: 2.631578947368421,\n  174: 0.8620689655172413,\n  175: 0.0,\n  176: 1.098901098901099,\n  179: 0.9090909090909091,\n  180: 0.0,\n  181: 0.0,\n  182: 1.3333333333333335,\n  183: 0.0,\n  186: 1.1764705882352942,\n  187: 1.2345679012345678,\n  188: 1.2987012987012987,\n  189: 3.076923076923077,\n  190: 2.5316455696202533,\n  194: 1.680672268907563,\n  195: 2.4691358024691357,\n  196: 0.0,\n  197: 1.4285714285714286,\n  200: 2.912621359223301,\n  201: 1.0752688172043012,\n  202: 0.0,\n  203: 1.1494252873563218,\n  204: 0.0,\n  207: 1.7094017094017095,\n  208: 0.0,\n  209: 0.0,\n  210: 0.0,\n  211: 1.2658227848101267,\n  215: 0.0,\n  216: 2.380952380952381,\n  217: 1.1904761904761905,\n  218: 1.0638297872340425,\n  221: 0.0,\n  222: 0.0,\n  223: 0.0,\n  224: 0.0,\n  225: 2.272727272727273,\n  229: 0.9708737864077669,\n  230: 0.0,\n  231: 0.0,\n  232: 1.0752688172043012,\n  235: 0.9523809523809524,\n  236: 2.0618556701030926,\n  237: 0.0,\n  238: 0.0,\n  239: 1.3157894736842104,\n  242: 0.0,\n  244: 0.9433962264150944,\n  245: 1.098901098901099,\n  246: 0.0,\n  250: 1.5625,\n  251: 0.0,\n  252: 0.7092198581560284,\n  253: 0.0,\n  257: 0.6896551724137931,\n  258: 0.0,\n  259: 0.0,\n  260: 1.574803149606299,\n  263: 0.0,\n  265: 0.0,\n  266: 0.8547008547008548,\n  267: 0.8620689655172413,\n  270: 0.0,\n  271: 0.0,\n  272: 0.0,\n  273: 0.41841004184100417,\n  277: 0.9302325581395349,\n  279: 1.0,\n  280: 1.9704433497536946,\n  281: 0.9174311926605505,\n  284: 1.4184397163120568,\n  285: 0.0,\n  286: 0.0,\n  287: 0.0,\n  278: 0.0,\n  288: 0.8928571428571428,\n  291: 0.9345794392523363,\n  293: 0.0,\n  294: 0.0,\n  295: 0.0,\n  292: 1.2195121951219512,\n  298: 0.0,\n  299: 0.0,\n  300: 0.0,\n  301: 0.0,\n  296: 0.0,\n  302: 0.0,\n  313: 0.0,\n  314: 0.0,\n  315: 0.8849557522123894,\n  316: 0.0,\n  319: 0.0,\n  320: 0.0,\n  321: 0.0,\n  322: 0.0,\n  323: 0.0,\n  327: 0.0,\n  328: 0.0,\n  329: 0.0,\n  312: 0.0,\n  330: 0.0,\n  335: 0.0,\n  336: 0.0,\n  326: 0.0,\n  337: 0.0,\n  341: 0.0,\n  342: 0.0,\n  343: 0.0,\n  340: 0.0,\n  344: 0.9615384615384616,\n  347: 0.0,\n  348: 0.0,\n  349: 1.0416666666666665,\n  350: 0.0,\n  334: 0.0,\n  351: 1.098901098901099,\n  354: 0.0,\n  355: 1.2658227848101267,\n  356: 1.4705882352941175,\n  357: 0.0,\n  358: 1.1764705882352942,\n  361: 0.0,\n  362: 0.0,\n  363: 1.1111111111111112,\n  364: 0.0,\n  365: 0},\n 'occupation_code': {12.0: 0.7585335018963337,\n  13.0: 1.6930022573363432,\n  19.0: 0.9419680403700589,\n  9.0: 0.563014291901256,\n  17.0: 1.0621348911311737,\n  11.0: 2.6058631921824107,\n  14.0: 1.5254237288135595,\n  3.0: 1.7793594306049825,\n  4.0: 0.8113590263691683,\n  18.0: 0.946969696969697,\n  5.0: 0.5543237250554324,\n  15.0: 1.5217391304347827,\n  1.0: 6.25,\n  16.0: 0.9900990099009901,\n  nan: 0,\n  8.0: 0.7407407407407408,\n  7.0: 0.0,\n  20.0: 0.0,\n  2.0: 1.282051282051282,\n  0.0: 0.0,\n  10.0: 1.639344262295082,\n  6.0: 0.0}}"
     },
     "execution_count": 95,
     "metadata": {},
     "output_type": "execute_result"
    }
   ],
   "source": [
    "mean_encoding_map = {}\n",
    "\n",
    "def mean_encoding(key):\n",
    "    key_map = {}\n",
    "    keys = pd.unique(train_cinfo[key])  #[k for k in pd.unique(X_under[key]) if not (pd.isna(k))]\n",
    "    for k in keys:\n",
    "        if pd.isna(k):\n",
    "            key_map[k] = 0\n",
    "            continue\n",
    "        is_sar_num = len((train_cinfo[(train_cinfo['sar_flag'] == 1.0) & (train_cinfo[key] == k)]))\n",
    "        total_num = len(train_cinfo[train_cinfo[key] == k])\n",
    "        mean_val = is_sar_num / total_num * 100\n",
    "        key_map[k] = mean_val\n",
    "    mean_encoding_map[key] = key_map\n",
    "\n",
    "\n",
    "mean_encoding('AGE')\n",
    "mean_encoding('risk_rank')\n",
    "mean_encoding('date')\n",
    "mean_encoding('occupation_code')\n",
    "mean_encoding_map['date'][365] = 0\n",
    "mean_encoding_map"
   ],
   "metadata": {
    "collapsed": false,
    "pycharm": {
     "name": "#%%\n"
    }
   }
  },
  {
   "cell_type": "code",
   "execution_count": 96,
   "outputs": [
    {
     "data": {
      "text/plain": "   alert_key                                            cust_id  risk_rank  \\\n0     352249  82595ac69158ae08d34156784bdec0d9e2ca5b242b6d2a...          1   \n1     352253  b212d14cb35676926682b2cf849e295d948888f556c07e...          1   \n2     352254  e5b0002791c7852644a2730abeaa893cdf14a072ef7812...          1   \n3     352280  74214c478dc6519fbefe4bc31693865bdcd698ab974b64...          3   \n4     352282  0340e7611f0d82c3cb87e6194fa14bb2ccf8afbf1b3418...          1   \n\n   occupation_code  total_asset  AGE  date data_label  sar_flag  AGE_encoding  \\\n0             19.0    1465816.0    7   365       test       NaN      0.225225   \n1              2.0      98177.0    2   365       test       NaN      1.291712   \n2             19.0    2052922.0    7   365       test       NaN      0.225225   \n3             15.0     201906.0    5   365       test       NaN      0.726172   \n4             12.0       7450.0    5   365       test       NaN      0.726172   \n\n   risk_rank_encoding  date_encoding  occupation_code_encoding  \n0            1.293184            0.0                  0.941968  \n1            1.293184            0.0                  1.282051  \n2            1.293184            0.0                  0.941968  \n3            0.214133            0.0                  1.521739  \n4            1.293184            0.0                  0.758534  ",
      "text/html": "<div>\n<style scoped>\n    .dataframe tbody tr th:only-of-type {\n        vertical-align: middle;\n    }\n\n    .dataframe tbody tr th {\n        vertical-align: top;\n    }\n\n    .dataframe thead th {\n        text-align: right;\n    }\n</style>\n<table border=\"1\" class=\"dataframe\">\n  <thead>\n    <tr style=\"text-align: right;\">\n      <th></th>\n      <th>alert_key</th>\n      <th>cust_id</th>\n      <th>risk_rank</th>\n      <th>occupation_code</th>\n      <th>total_asset</th>\n      <th>AGE</th>\n      <th>date</th>\n      <th>data_label</th>\n      <th>sar_flag</th>\n      <th>AGE_encoding</th>\n      <th>risk_rank_encoding</th>\n      <th>date_encoding</th>\n      <th>occupation_code_encoding</th>\n    </tr>\n  </thead>\n  <tbody>\n    <tr>\n      <th>0</th>\n      <td>352249</td>\n      <td>82595ac69158ae08d34156784bdec0d9e2ca5b242b6d2a...</td>\n      <td>1</td>\n      <td>19.0</td>\n      <td>1465816.0</td>\n      <td>7</td>\n      <td>365</td>\n      <td>test</td>\n      <td>NaN</td>\n      <td>0.225225</td>\n      <td>1.293184</td>\n      <td>0.0</td>\n      <td>0.941968</td>\n    </tr>\n    <tr>\n      <th>1</th>\n      <td>352253</td>\n      <td>b212d14cb35676926682b2cf849e295d948888f556c07e...</td>\n      <td>1</td>\n      <td>2.0</td>\n      <td>98177.0</td>\n      <td>2</td>\n      <td>365</td>\n      <td>test</td>\n      <td>NaN</td>\n      <td>1.291712</td>\n      <td>1.293184</td>\n      <td>0.0</td>\n      <td>1.282051</td>\n    </tr>\n    <tr>\n      <th>2</th>\n      <td>352254</td>\n      <td>e5b0002791c7852644a2730abeaa893cdf14a072ef7812...</td>\n      <td>1</td>\n      <td>19.0</td>\n      <td>2052922.0</td>\n      <td>7</td>\n      <td>365</td>\n      <td>test</td>\n      <td>NaN</td>\n      <td>0.225225</td>\n      <td>1.293184</td>\n      <td>0.0</td>\n      <td>0.941968</td>\n    </tr>\n    <tr>\n      <th>3</th>\n      <td>352280</td>\n      <td>74214c478dc6519fbefe4bc31693865bdcd698ab974b64...</td>\n      <td>3</td>\n      <td>15.0</td>\n      <td>201906.0</td>\n      <td>5</td>\n      <td>365</td>\n      <td>test</td>\n      <td>NaN</td>\n      <td>0.726172</td>\n      <td>0.214133</td>\n      <td>0.0</td>\n      <td>1.521739</td>\n    </tr>\n    <tr>\n      <th>4</th>\n      <td>352282</td>\n      <td>0340e7611f0d82c3cb87e6194fa14bb2ccf8afbf1b3418...</td>\n      <td>1</td>\n      <td>12.0</td>\n      <td>7450.0</td>\n      <td>5</td>\n      <td>365</td>\n      <td>test</td>\n      <td>NaN</td>\n      <td>0.726172</td>\n      <td>1.293184</td>\n      <td>0.0</td>\n      <td>0.758534</td>\n    </tr>\n  </tbody>\n</table>\n</div>"
     },
     "execution_count": 96,
     "metadata": {},
     "output_type": "execute_result"
    }
   ],
   "source": [
    "for k, v in mean_encoding_map.items():\n",
    "    mean_encoding_val = [0 if pd.isna(x) or v.get(x) is None else v[x] for x in cinfo[k]]\n",
    "    column_name = k + \"_encoding\"\n",
    "    cinfo = pd.concat([cinfo, pd.DataFrame({column_name: mean_encoding_val})], axis=1)\n",
    "\n",
    "cinfo.head()"
   ],
   "metadata": {
    "collapsed": false,
    "pycharm": {
     "name": "#%%\n"
    }
   }
  },
  {
   "cell_type": "code",
   "execution_count": 97,
   "outputs": [
    {
     "data": {
      "text/plain": "23906"
     },
     "execution_count": 97,
     "metadata": {},
     "output_type": "execute_result"
    }
   ],
   "source": [
    "X = cinfo[cinfo['data_label'] == 'train']\n",
    "len(X)"
   ],
   "metadata": {
    "collapsed": false,
    "pycharm": {
     "name": "#%%\n"
    }
   }
  },
  {
   "cell_type": "code",
   "execution_count": 98,
   "outputs": [
    {
     "data": {
      "text/plain": "1845"
     },
     "execution_count": 98,
     "metadata": {},
     "output_type": "execute_result"
    }
   ],
   "source": [
    "test = cinfo[cinfo['data_label'] == 'test']\n",
    "len(test)"
   ],
   "metadata": {
    "collapsed": false,
    "pycharm": {
     "name": "#%%\n"
    }
   }
  },
  {
   "cell_type": "code",
   "execution_count": 99,
   "outputs": [
    {
     "data": {
      "text/plain": "0    352249\n1    352253\n2    352254\n3    352280\n4    352282\nName: alert_key, dtype: int64"
     },
     "execution_count": 99,
     "metadata": {},
     "output_type": "execute_result"
    }
   ],
   "source": [
    "test_alert_keys = test['alert_key']\n",
    "test_alert_keys.head()"
   ],
   "metadata": {
    "collapsed": false,
    "pycharm": {
     "name": "#%%\n"
    }
   }
  },
  {
   "cell_type": "code",
   "execution_count": 100,
   "outputs": [
    {
     "data": {
      "text/plain": "   alert_key                                            cust_id  risk_rank  \\\n0     352249  82595ac69158ae08d34156784bdec0d9e2ca5b242b6d2a...          1   \n1     352253  b212d14cb35676926682b2cf849e295d948888f556c07e...          1   \n2     352254  e5b0002791c7852644a2730abeaa893cdf14a072ef7812...          1   \n3     352280  74214c478dc6519fbefe4bc31693865bdcd698ab974b64...          3   \n4     352282  0340e7611f0d82c3cb87e6194fa14bb2ccf8afbf1b3418...          1   \n\n   occupation_code  total_asset  AGE  date data_label  sar_flag  AGE_encoding  \\\n0             19.0    1465816.0    7   365       test       NaN      0.225225   \n1              2.0      98177.0    2   365       test       NaN      1.291712   \n2             19.0    2052922.0    7   365       test       NaN      0.225225   \n3             15.0     201906.0    5   365       test       NaN      0.726172   \n4             12.0       7450.0    5   365       test       NaN      0.726172   \n\n   risk_rank_encoding  date_encoding  occupation_code_encoding  \n0            1.293184            0.0                  0.941968  \n1            1.293184            0.0                  1.282051  \n2            1.293184            0.0                  0.941968  \n3            0.214133            0.0                  1.521739  \n4            1.293184            0.0                  0.758534  ",
      "text/html": "<div>\n<style scoped>\n    .dataframe tbody tr th:only-of-type {\n        vertical-align: middle;\n    }\n\n    .dataframe tbody tr th {\n        vertical-align: top;\n    }\n\n    .dataframe thead th {\n        text-align: right;\n    }\n</style>\n<table border=\"1\" class=\"dataframe\">\n  <thead>\n    <tr style=\"text-align: right;\">\n      <th></th>\n      <th>alert_key</th>\n      <th>cust_id</th>\n      <th>risk_rank</th>\n      <th>occupation_code</th>\n      <th>total_asset</th>\n      <th>AGE</th>\n      <th>date</th>\n      <th>data_label</th>\n      <th>sar_flag</th>\n      <th>AGE_encoding</th>\n      <th>risk_rank_encoding</th>\n      <th>date_encoding</th>\n      <th>occupation_code_encoding</th>\n    </tr>\n  </thead>\n  <tbody>\n    <tr>\n      <th>0</th>\n      <td>352249</td>\n      <td>82595ac69158ae08d34156784bdec0d9e2ca5b242b6d2a...</td>\n      <td>1</td>\n      <td>19.0</td>\n      <td>1465816.0</td>\n      <td>7</td>\n      <td>365</td>\n      <td>test</td>\n      <td>NaN</td>\n      <td>0.225225</td>\n      <td>1.293184</td>\n      <td>0.0</td>\n      <td>0.941968</td>\n    </tr>\n    <tr>\n      <th>1</th>\n      <td>352253</td>\n      <td>b212d14cb35676926682b2cf849e295d948888f556c07e...</td>\n      <td>1</td>\n      <td>2.0</td>\n      <td>98177.0</td>\n      <td>2</td>\n      <td>365</td>\n      <td>test</td>\n      <td>NaN</td>\n      <td>1.291712</td>\n      <td>1.293184</td>\n      <td>0.0</td>\n      <td>1.282051</td>\n    </tr>\n    <tr>\n      <th>2</th>\n      <td>352254</td>\n      <td>e5b0002791c7852644a2730abeaa893cdf14a072ef7812...</td>\n      <td>1</td>\n      <td>19.0</td>\n      <td>2052922.0</td>\n      <td>7</td>\n      <td>365</td>\n      <td>test</td>\n      <td>NaN</td>\n      <td>0.225225</td>\n      <td>1.293184</td>\n      <td>0.0</td>\n      <td>0.941968</td>\n    </tr>\n    <tr>\n      <th>3</th>\n      <td>352280</td>\n      <td>74214c478dc6519fbefe4bc31693865bdcd698ab974b64...</td>\n      <td>3</td>\n      <td>15.0</td>\n      <td>201906.0</td>\n      <td>5</td>\n      <td>365</td>\n      <td>test</td>\n      <td>NaN</td>\n      <td>0.726172</td>\n      <td>0.214133</td>\n      <td>0.0</td>\n      <td>1.521739</td>\n    </tr>\n    <tr>\n      <th>4</th>\n      <td>352282</td>\n      <td>0340e7611f0d82c3cb87e6194fa14bb2ccf8afbf1b3418...</td>\n      <td>1</td>\n      <td>12.0</td>\n      <td>7450.0</td>\n      <td>5</td>\n      <td>365</td>\n      <td>test</td>\n      <td>NaN</td>\n      <td>0.726172</td>\n      <td>1.293184</td>\n      <td>0.0</td>\n      <td>0.758534</td>\n    </tr>\n  </tbody>\n</table>\n</div>"
     },
     "execution_count": 100,
     "metadata": {},
     "output_type": "execute_result"
    }
   ],
   "source": [
    "test.head()"
   ],
   "metadata": {
    "collapsed": false,
    "pycharm": {
     "name": "#%%\n"
    }
   }
  },
  {
   "cell_type": "markdown",
   "source": [
    "### Drop confusing customer id\n",
    "1. get all alert flag where customer id is sar\n",
    "2. remove all data where cust_id is in sar for non-sar record"
   ],
   "metadata": {
    "collapsed": false,
    "pycharm": {
     "name": "#%% md\n"
    }
   }
  },
  {
   "cell_type": "code",
   "execution_count": 141,
   "outputs": [
    {
     "data": {
      "text/plain": "      alert_key                                            cust_id  risk_rank  \\\n1926     171770  25cf26d9c40bb9f71292b809c4f92018b9bdfe3529c510...          1   \n2026     172480  7fde997da7e7a95280460889004bd2f23050bd8953de7e...          3   \n2281     174298  bf19e3fe441d8dfa31794de3b4c318770ca7da5b4f5973...          1   \n3443     177788  6400e6bb0fea2dc8410931f6eaf99e9513e4c025f9c9c2...          1   \n3479     177960  26eeff4dcdbf9ddb3e2628f8710a1e87b1ea53d37e0331...          1   \n\n      occupation_code  total_asset  AGE  date data_label  sar_flag  \\\n1926             17.0    1913895.0    4     0      train       1.0   \n2026             12.0       8251.0    4     5      train       1.0   \n2281             19.0     186714.0    7     7      train       1.0   \n3443             15.0    1744729.0    5    12      train       1.0   \n3479              9.0     238193.0    2    12      train       1.0   \n\n      AGE_encoding  risk_rank_encoding  date_encoding  \\\n1926      0.837438            1.293184       1.136364   \n2026      0.837438            0.214133       0.657895   \n2281      0.225225            1.293184       1.204819   \n3443      0.726172            1.293184       2.380952   \n3479      1.291712            1.293184       2.380952   \n\n      occupation_code_encoding  \n1926                  1.062135  \n2026                  0.758534  \n2281                  0.941968  \n3443                  1.521739  \n3479                  0.563014  ",
      "text/html": "<div>\n<style scoped>\n    .dataframe tbody tr th:only-of-type {\n        vertical-align: middle;\n    }\n\n    .dataframe tbody tr th {\n        vertical-align: top;\n    }\n\n    .dataframe thead th {\n        text-align: right;\n    }\n</style>\n<table border=\"1\" class=\"dataframe\">\n  <thead>\n    <tr style=\"text-align: right;\">\n      <th></th>\n      <th>alert_key</th>\n      <th>cust_id</th>\n      <th>risk_rank</th>\n      <th>occupation_code</th>\n      <th>total_asset</th>\n      <th>AGE</th>\n      <th>date</th>\n      <th>data_label</th>\n      <th>sar_flag</th>\n      <th>AGE_encoding</th>\n      <th>risk_rank_encoding</th>\n      <th>date_encoding</th>\n      <th>occupation_code_encoding</th>\n    </tr>\n  </thead>\n  <tbody>\n    <tr>\n      <th>1926</th>\n      <td>171770</td>\n      <td>25cf26d9c40bb9f71292b809c4f92018b9bdfe3529c510...</td>\n      <td>1</td>\n      <td>17.0</td>\n      <td>1913895.0</td>\n      <td>4</td>\n      <td>0</td>\n      <td>train</td>\n      <td>1.0</td>\n      <td>0.837438</td>\n      <td>1.293184</td>\n      <td>1.136364</td>\n      <td>1.062135</td>\n    </tr>\n    <tr>\n      <th>2026</th>\n      <td>172480</td>\n      <td>7fde997da7e7a95280460889004bd2f23050bd8953de7e...</td>\n      <td>3</td>\n      <td>12.0</td>\n      <td>8251.0</td>\n      <td>4</td>\n      <td>5</td>\n      <td>train</td>\n      <td>1.0</td>\n      <td>0.837438</td>\n      <td>0.214133</td>\n      <td>0.657895</td>\n      <td>0.758534</td>\n    </tr>\n    <tr>\n      <th>2281</th>\n      <td>174298</td>\n      <td>bf19e3fe441d8dfa31794de3b4c318770ca7da5b4f5973...</td>\n      <td>1</td>\n      <td>19.0</td>\n      <td>186714.0</td>\n      <td>7</td>\n      <td>7</td>\n      <td>train</td>\n      <td>1.0</td>\n      <td>0.225225</td>\n      <td>1.293184</td>\n      <td>1.204819</td>\n      <td>0.941968</td>\n    </tr>\n    <tr>\n      <th>3443</th>\n      <td>177788</td>\n      <td>6400e6bb0fea2dc8410931f6eaf99e9513e4c025f9c9c2...</td>\n      <td>1</td>\n      <td>15.0</td>\n      <td>1744729.0</td>\n      <td>5</td>\n      <td>12</td>\n      <td>train</td>\n      <td>1.0</td>\n      <td>0.726172</td>\n      <td>1.293184</td>\n      <td>2.380952</td>\n      <td>1.521739</td>\n    </tr>\n    <tr>\n      <th>3479</th>\n      <td>177960</td>\n      <td>26eeff4dcdbf9ddb3e2628f8710a1e87b1ea53d37e0331...</td>\n      <td>1</td>\n      <td>9.0</td>\n      <td>238193.0</td>\n      <td>2</td>\n      <td>12</td>\n      <td>train</td>\n      <td>1.0</td>\n      <td>1.291712</td>\n      <td>1.293184</td>\n      <td>2.380952</td>\n      <td>0.563014</td>\n    </tr>\n  </tbody>\n</table>\n</div>"
     },
     "execution_count": 141,
     "metadata": {},
     "output_type": "execute_result"
    }
   ],
   "source": [
    "sar_cust = X[X['sar_flag'] == 1]\n",
    "sar_cust.head()"
   ],
   "metadata": {
    "collapsed": false,
    "pycharm": {
     "name": "#%%\n"
    }
   }
  },
  {
   "cell_type": "code",
   "execution_count": 142,
   "outputs": [
    {
     "data": {
      "text/plain": "(23019, 13)"
     },
     "execution_count": 142,
     "metadata": {},
     "output_type": "execute_result"
    }
   ],
   "source": [
    "X = X[~X['cust_id'].isin(sar_cust.cust_id.tolist())]\n",
    "X.shape"
   ],
   "metadata": {
    "collapsed": false,
    "pycharm": {
     "name": "#%%\n"
    }
   }
  },
  {
   "cell_type": "code",
   "execution_count": 143,
   "outputs": [
    {
     "data": {
      "text/plain": "      alert_key                                            cust_id  risk_rank  \\\n1845     171142  a39fea9aec90969fe66a2b2b4d1b86368a2d38e8b8d4bf...          3   \n1846     171152  7e42b5dca9b28ee8e5545beb834361e90e6197d176b389...          3   \n1847     171177  a6cdf6302aead77112013168c6d546d2df3bcb551956d2...          1   \n1848     171178  1a3efa69705f611c7ef2384a715c8142e2ee801cfec9df...          3   \n1849     171180  67f8cbb64dd3d447e992b1b299e0ceed3372188e47c88e...          1   \n\n      occupation_code  total_asset  AGE  date data_label  sar_flag  \\\n1845             12.0     241719.0    3     0      train       0.0   \n1846             13.0     599497.0    6     0      train       0.0   \n1847             19.0      51160.0    4     0      train       0.0   \n1848              9.0    3634343.0    6     0      train       0.0   \n1849             17.0    4076287.0    4     0      train       0.0   \n\n      AGE_encoding  risk_rank_encoding  date_encoding  \\\n1845      1.139073            0.214133       1.136364   \n1846      0.556931            0.214133       1.136364   \n1847      0.837438            1.293184       1.136364   \n1848      0.556931            0.214133       1.136364   \n1849      0.837438            1.293184       1.136364   \n\n      occupation_code_encoding  \n1845                  0.758534  \n1846                  1.693002  \n1847                  0.941968  \n1848                  0.563014  \n1849                  1.062135  ",
      "text/html": "<div>\n<style scoped>\n    .dataframe tbody tr th:only-of-type {\n        vertical-align: middle;\n    }\n\n    .dataframe tbody tr th {\n        vertical-align: top;\n    }\n\n    .dataframe thead th {\n        text-align: right;\n    }\n</style>\n<table border=\"1\" class=\"dataframe\">\n  <thead>\n    <tr style=\"text-align: right;\">\n      <th></th>\n      <th>alert_key</th>\n      <th>cust_id</th>\n      <th>risk_rank</th>\n      <th>occupation_code</th>\n      <th>total_asset</th>\n      <th>AGE</th>\n      <th>date</th>\n      <th>data_label</th>\n      <th>sar_flag</th>\n      <th>AGE_encoding</th>\n      <th>risk_rank_encoding</th>\n      <th>date_encoding</th>\n      <th>occupation_code_encoding</th>\n    </tr>\n  </thead>\n  <tbody>\n    <tr>\n      <th>1845</th>\n      <td>171142</td>\n      <td>a39fea9aec90969fe66a2b2b4d1b86368a2d38e8b8d4bf...</td>\n      <td>3</td>\n      <td>12.0</td>\n      <td>241719.0</td>\n      <td>3</td>\n      <td>0</td>\n      <td>train</td>\n      <td>0.0</td>\n      <td>1.139073</td>\n      <td>0.214133</td>\n      <td>1.136364</td>\n      <td>0.758534</td>\n    </tr>\n    <tr>\n      <th>1846</th>\n      <td>171152</td>\n      <td>7e42b5dca9b28ee8e5545beb834361e90e6197d176b389...</td>\n      <td>3</td>\n      <td>13.0</td>\n      <td>599497.0</td>\n      <td>6</td>\n      <td>0</td>\n      <td>train</td>\n      <td>0.0</td>\n      <td>0.556931</td>\n      <td>0.214133</td>\n      <td>1.136364</td>\n      <td>1.693002</td>\n    </tr>\n    <tr>\n      <th>1847</th>\n      <td>171177</td>\n      <td>a6cdf6302aead77112013168c6d546d2df3bcb551956d2...</td>\n      <td>1</td>\n      <td>19.0</td>\n      <td>51160.0</td>\n      <td>4</td>\n      <td>0</td>\n      <td>train</td>\n      <td>0.0</td>\n      <td>0.837438</td>\n      <td>1.293184</td>\n      <td>1.136364</td>\n      <td>0.941968</td>\n    </tr>\n    <tr>\n      <th>1848</th>\n      <td>171178</td>\n      <td>1a3efa69705f611c7ef2384a715c8142e2ee801cfec9df...</td>\n      <td>3</td>\n      <td>9.0</td>\n      <td>3634343.0</td>\n      <td>6</td>\n      <td>0</td>\n      <td>train</td>\n      <td>0.0</td>\n      <td>0.556931</td>\n      <td>0.214133</td>\n      <td>1.136364</td>\n      <td>0.563014</td>\n    </tr>\n    <tr>\n      <th>1849</th>\n      <td>171180</td>\n      <td>67f8cbb64dd3d447e992b1b299e0ceed3372188e47c88e...</td>\n      <td>1</td>\n      <td>17.0</td>\n      <td>4076287.0</td>\n      <td>4</td>\n      <td>0</td>\n      <td>train</td>\n      <td>0.0</td>\n      <td>0.837438</td>\n      <td>1.293184</td>\n      <td>1.136364</td>\n      <td>1.062135</td>\n    </tr>\n  </tbody>\n</table>\n</div>"
     },
     "execution_count": 143,
     "metadata": {},
     "output_type": "execute_result"
    }
   ],
   "source": [
    "X = pd.concat([X, sar_cust])\n",
    "X.head()"
   ],
   "metadata": {
    "collapsed": false,
    "pycharm": {
     "name": "#%%\n"
    }
   }
  },
  {
   "cell_type": "code",
   "execution_count": 150,
   "outputs": [
    {
     "data": {
      "text/plain": "(23253,)"
     },
     "execution_count": 150,
     "metadata": {},
     "output_type": "execute_result"
    }
   ],
   "source": [
    "y = X['sar_flag']\n",
    "y.shape"
   ],
   "metadata": {
    "collapsed": false,
    "pycharm": {
     "name": "#%%\n"
    }
   }
  },
  {
   "cell_type": "markdown",
   "source": [
    "## Deal with imbalance problem\n",
    "-  Over sampling\n",
    "-  Under sampling"
   ],
   "metadata": {
    "collapsed": false,
    "pycharm": {
     "name": "#%% md\n"
    }
   }
  },
  {
   "cell_type": "markdown",
   "source": [
    "### Training XGBoost - Over sampling"
   ],
   "metadata": {
    "collapsed": false,
    "pycharm": {
     "name": "#%% md\n"
    }
   }
  },
  {
   "cell_type": "code",
   "execution_count": 153,
   "outputs": [
    {
     "data": {
      "text/plain": "((22903, 11), (22903, 11))"
     },
     "execution_count": 153,
     "metadata": {},
     "output_type": "execute_result"
    }
   ],
   "source": [
    "from imblearn.over_sampling import SMOTE\n",
    "\n",
    "smote = SMOTE()\n",
    "\n",
    "X_smote_prep = copy.deepcopy(X)\n",
    "X_smote_prep = X_smote_prep.dropna()\n",
    "X_smote_prep = X_smote_prep.drop(['cust_id', 'data_label'], axis=1)\n",
    "y_smote_prep = X_smote_prep['sar_flag']\n",
    "X_smote, y_smote = smote.fit_resample(X_smote_prep, y_smote_prep)\n",
    "X_smote.shape\n",
    "X_smote[X_smote['sar_flag'] == 1.0].shape, X_smote[X_smote['sar_flag'] == 0.0].shape"
   ],
   "metadata": {
    "collapsed": false,
    "pycharm": {
     "name": "#%%\n"
    }
   }
  },
  {
   "cell_type": "code",
   "execution_count": 154,
   "outputs": [
    {
     "data": {
      "text/plain": "       alert_key  risk_rank  occupation_code    total_asset  AGE  date  \\\n20012     328400          1        12.000000  500199.000000    2   323   \n13971     283603          1        13.000000       0.000000    3   244   \n40819     222065          1        13.095274   36525.538824    4   114   \n43705     235989          1        12.379936    5127.850908    3   145   \n20733     334830          1         7.000000       0.000000    5   335   \n\n       sar_flag  AGE_encoding  risk_rank_encoding  date_encoding  \\\n20012       0.0      1.291712            1.293184       0.000000   \n13971       0.0      1.139073            1.293184       0.943396   \n40819       1.0      0.895267            1.381238       4.017190   \n43705       1.0      0.941916            1.293184       2.124527   \n20733       0.0      0.726172            1.293184       0.000000   \n\n       occupation_code_encoding  \n20012                  0.758534  \n13971                  1.693002  \n40819                  0.718206  \n43705                  2.250822  \n20733                  0.000000  ",
      "text/html": "<div>\n<style scoped>\n    .dataframe tbody tr th:only-of-type {\n        vertical-align: middle;\n    }\n\n    .dataframe tbody tr th {\n        vertical-align: top;\n    }\n\n    .dataframe thead th {\n        text-align: right;\n    }\n</style>\n<table border=\"1\" class=\"dataframe\">\n  <thead>\n    <tr style=\"text-align: right;\">\n      <th></th>\n      <th>alert_key</th>\n      <th>risk_rank</th>\n      <th>occupation_code</th>\n      <th>total_asset</th>\n      <th>AGE</th>\n      <th>date</th>\n      <th>sar_flag</th>\n      <th>AGE_encoding</th>\n      <th>risk_rank_encoding</th>\n      <th>date_encoding</th>\n      <th>occupation_code_encoding</th>\n    </tr>\n  </thead>\n  <tbody>\n    <tr>\n      <th>20012</th>\n      <td>328400</td>\n      <td>1</td>\n      <td>12.000000</td>\n      <td>500199.000000</td>\n      <td>2</td>\n      <td>323</td>\n      <td>0.0</td>\n      <td>1.291712</td>\n      <td>1.293184</td>\n      <td>0.000000</td>\n      <td>0.758534</td>\n    </tr>\n    <tr>\n      <th>13971</th>\n      <td>283603</td>\n      <td>1</td>\n      <td>13.000000</td>\n      <td>0.000000</td>\n      <td>3</td>\n      <td>244</td>\n      <td>0.0</td>\n      <td>1.139073</td>\n      <td>1.293184</td>\n      <td>0.943396</td>\n      <td>1.693002</td>\n    </tr>\n    <tr>\n      <th>40819</th>\n      <td>222065</td>\n      <td>1</td>\n      <td>13.095274</td>\n      <td>36525.538824</td>\n      <td>4</td>\n      <td>114</td>\n      <td>1.0</td>\n      <td>0.895267</td>\n      <td>1.381238</td>\n      <td>4.017190</td>\n      <td>0.718206</td>\n    </tr>\n    <tr>\n      <th>43705</th>\n      <td>235989</td>\n      <td>1</td>\n      <td>12.379936</td>\n      <td>5127.850908</td>\n      <td>3</td>\n      <td>145</td>\n      <td>1.0</td>\n      <td>0.941916</td>\n      <td>1.293184</td>\n      <td>2.124527</td>\n      <td>2.250822</td>\n    </tr>\n    <tr>\n      <th>20733</th>\n      <td>334830</td>\n      <td>1</td>\n      <td>7.000000</td>\n      <td>0.000000</td>\n      <td>5</td>\n      <td>335</td>\n      <td>0.0</td>\n      <td>0.726172</td>\n      <td>1.293184</td>\n      <td>0.000000</td>\n      <td>0.000000</td>\n    </tr>\n  </tbody>\n</table>\n</div>"
     },
     "execution_count": 154,
     "metadata": {},
     "output_type": "execute_result"
    }
   ],
   "source": [
    "import xgboost as xgb\n",
    "from sklearn.metrics import confusion_matrix\n",
    "import pandas as pd\n",
    "import numpy as np\n",
    "from sklearn.model_selection import train_test_split\n",
    "\n",
    "X_train_smote, X_test_smote, y_train_smote, y_test_smote = train_test_split(X_smote, y_smote, test_size=0.4,\n",
    "                                                                            random_state=123)\n",
    "X_train_smote.head()"
   ],
   "metadata": {
    "collapsed": false,
    "pycharm": {
     "name": "#%%\n"
    }
   }
  },
  {
   "cell_type": "code",
   "execution_count": 155,
   "outputs": [],
   "source": [
    "import seaborn as sns\n",
    "from sklearn.metrics import accuracy_score"
   ],
   "metadata": {
    "collapsed": false,
    "pycharm": {
     "name": "#%%\n"
    }
   }
  },
  {
   "cell_type": "code",
   "execution_count": 156,
   "outputs": [],
   "source": [
    "drop_features_smote = [\"alert_key\", \"sar_flag\"]\n",
    "X_train_smote = X_train_smote.drop(drop_features_smote, axis=1)\n",
    "X_test_smote = X_test_smote.drop(drop_features_smote, axis=1)"
   ],
   "metadata": {
    "collapsed": false,
    "pycharm": {
     "name": "#%%\n"
    }
   }
  },
  {
   "cell_type": "code",
   "execution_count": 157,
   "outputs": [
    {
     "data": {
      "text/plain": "(0.9938874638432571,\n array([[8959,   27],\n        [  85, 9252]]))"
     },
     "execution_count": 157,
     "metadata": {},
     "output_type": "execute_result"
    },
    {
     "data": {
      "text/plain": "<Figure size 640x480 with 2 Axes>",
      "image/png": "[encoded data removed]"
     },
     "metadata": {},
     "output_type": "display_data"
    }
   ],
   "source": [
    "xg_cls_smote = xgb.XGBClassifier()\n",
    "xg_cls_smote.fit(X_train_smote, y_train_smote)\n",
    "\n",
    "cls_preds_smote = xg_cls_smote.predict(X_test_smote)\n",
    "\n",
    "cm_smote = confusion_matrix(y_test_smote, cls_preds_smote)\n",
    "sns.heatmap(cm_smote, annot=True)\n",
    "\n",
    "accuracy_score(y_test_smote, cls_preds_smote), cm_smote"
   ],
   "metadata": {
    "collapsed": false,
    "pycharm": {
     "name": "#%%\n"
    }
   }
  },
  {
   "cell_type": "markdown",
   "source": [],
   "metadata": {
    "collapsed": false,
    "pycharm": {
     "name": "#%% md\n"
    }
   }
  },
  {
   "cell_type": "markdown",
   "source": [
    "### Training XGBoost - Under sampling"
   ],
   "metadata": {
    "collapsed": false,
    "pycharm": {
     "name": "#%% md\n"
    }
   }
  },
  {
   "cell_type": "code",
   "execution_count": 158,
   "outputs": [],
   "source": [
    "from imblearn.under_sampling import RandomUnderSampler\n",
    "\n",
    "undersample = RandomUnderSampler()\n",
    "X_under, y_under = undersample.fit_resample(X, y)"
   ],
   "metadata": {
    "collapsed": false,
    "pycharm": {
     "name": "#%%\n"
    }
   }
  },
  {
   "cell_type": "code",
   "execution_count": 159,
   "outputs": [
    {
     "data": {
      "text/plain": "     alert_key                                            cust_id  risk_rank  \\\n0       202242  ecb3475f0ba47929aec4d23e9a68b432bcf44599d1ad39...          1   \n1       276541  395ad956007ff1190d024dc1811bde0f544c86e7bf41a8...          3   \n2       336757  81fa0100bc5af8787771dfeb412d5a0b619a3c58e6f0d4...          1   \n3       241305  10a082d613a789acd3abc2648c84585e92e93d7fa20591...          3   \n4       217895  4918ef8c57ddbbba9b7695cd75855d042cf60b718a5e89...          1   \n..         ...                                                ...        ...   \n463     346021  9efb72c106f786e5a99a8c2b245864c831cf008dd2e9ee...          1   \n464     347051  a21eeb4acc2c9c128403c88c3f3e248bcf20067059d33b...          2   \n465     347894  9a1d940986fce29cd6b54d5a5fe076a5aa8026161f5627...          1   \n466     348724  2f4011af820fb0a91313221c6cc2b649495a5cb05aed82...          1   \n467     351367  3e2ddbf33f8b830778b39661a2ff547bee79a635b219e6...          1   \n\n     occupation_code  total_asset  AGE  date data_label  sar_flag  \\\n0               17.0      27182.0    7    69      train       0.0   \n1               12.0     665448.0    4   230      train       0.0   \n2               13.0     138183.0    5   326      train       0.0   \n3               15.0     101105.0    4   155      train       0.0   \n4               19.0     445363.0    4   105      train       0.0   \n..               ...          ...  ...   ...        ...       ...   \n463             13.0        310.0    3   351      train       1.0   \n464             11.0     258763.0    3   355      train       1.0   \n465             17.0     337845.0    5   356      train       1.0   \n466             19.0    2439013.0    2   358      train       1.0   \n467             17.0     141155.0    2   363      train       1.0   \n\n     AGE_encoding  risk_rank_encoding  date_encoding  occupation_code_encoding  \n0        0.225225            1.293184       1.666667                  1.062135  \n1        0.837438            0.214133       0.000000                  0.758534  \n2        0.726172            1.293184       0.000000                  1.693002  \n3        0.837438            0.214133       0.000000                  1.521739  \n4        0.837438            1.293184       3.174603                  0.941968  \n..            ...                 ...            ...                       ...  \n463      1.139073            1.293184       1.098901                  1.693002  \n464      1.139073            1.442308       1.265823                  2.605863  \n465      0.726172            1.293184       1.470588                  1.062135  \n466      1.291712            1.293184       1.176471                  0.941968  \n467      1.291712            1.293184       1.111111                  1.062135  \n\n[468 rows x 13 columns]",
      "text/html": "<div>\n<style scoped>\n    .dataframe tbody tr th:only-of-type {\n        vertical-align: middle;\n    }\n\n    .dataframe tbody tr th {\n        vertical-align: top;\n    }\n\n    .dataframe thead th {\n        text-align: right;\n    }\n</style>\n<table border=\"1\" class=\"dataframe\">\n  <thead>\n    <tr style=\"text-align: right;\">\n      <th></th>\n      <th>alert_key</th>\n      <th>cust_id</th>\n      <th>risk_rank</th>\n      <th>occupation_code</th>\n      <th>total_asset</th>\n      <th>AGE</th>\n      <th>date</th>\n      <th>data_label</th>\n      <th>sar_flag</th>\n      <th>AGE_encoding</th>\n      <th>risk_rank_encoding</th>\n      <th>date_encoding</th>\n      <th>occupation_code_encoding</th>\n    </tr>\n  </thead>\n  <tbody>\n    <tr>\n      <th>0</th>\n      <td>202242</td>\n      <td>ecb3475f0ba47929aec4d23e9a68b432bcf44599d1ad39...</td>\n      <td>1</td>\n      <td>17.0</td>\n      <td>27182.0</td>\n      <td>7</td>\n      <td>69</td>\n      <td>train</td>\n      <td>0.0</td>\n      <td>0.225225</td>\n      <td>1.293184</td>\n      <td>1.666667</td>\n      <td>1.062135</td>\n    </tr>\n    <tr>\n      <th>1</th>\n      <td>276541</td>\n      <td>395ad956007ff1190d024dc1811bde0f544c86e7bf41a8...</td>\n      <td>3</td>\n      <td>12.0</td>\n      <td>665448.0</td>\n      <td>4</td>\n      <td>230</td>\n      <td>train</td>\n      <td>0.0</td>\n      <td>0.837438</td>\n      <td>0.214133</td>\n      <td>0.000000</td>\n      <td>0.758534</td>\n    </tr>\n    <tr>\n      <th>2</th>\n      <td>336757</td>\n      <td>81fa0100bc5af8787771dfeb412d5a0b619a3c58e6f0d4...</td>\n      <td>1</td>\n      <td>13.0</td>\n      <td>138183.0</td>\n      <td>5</td>\n      <td>326</td>\n      <td>train</td>\n      <td>0.0</td>\n      <td>0.726172</td>\n      <td>1.293184</td>\n      <td>0.000000</td>\n      <td>1.693002</td>\n    </tr>\n    <tr>\n      <th>3</th>\n      <td>241305</td>\n      <td>10a082d613a789acd3abc2648c84585e92e93d7fa20591...</td>\n      <td>3</td>\n      <td>15.0</td>\n      <td>101105.0</td>\n      <td>4</td>\n      <td>155</td>\n      <td>train</td>\n      <td>0.0</td>\n      <td>0.837438</td>\n      <td>0.214133</td>\n      <td>0.000000</td>\n      <td>1.521739</td>\n    </tr>\n    <tr>\n      <th>4</th>\n      <td>217895</td>\n      <td>4918ef8c57ddbbba9b7695cd75855d042cf60b718a5e89...</td>\n      <td>1</td>\n      <td>19.0</td>\n      <td>445363.0</td>\n      <td>4</td>\n      <td>105</td>\n      <td>train</td>\n      <td>0.0</td>\n      <td>0.837438</td>\n      <td>1.293184</td>\n      <td>3.174603</td>\n      <td>0.941968</td>\n    </tr>\n    <tr>\n      <th>...</th>\n      <td>...</td>\n      <td>...</td>\n      <td>...</td>\n      <td>...</td>\n      <td>...</td>\n      <td>...</td>\n      <td>...</td>\n      <td>...</td>\n      <td>...</td>\n      <td>...</td>\n      <td>...</td>\n      <td>...</td>\n      <td>...</td>\n    </tr>\n    <tr>\n      <th>463</th>\n      <td>346021</td>\n      <td>9efb72c106f786e5a99a8c2b245864c831cf008dd2e9ee...</td>\n      <td>1</td>\n      <td>13.0</td>\n      <td>310.0</td>\n      <td>3</td>\n      <td>351</td>\n      <td>train</td>\n      <td>1.0</td>\n      <td>1.139073</td>\n      <td>1.293184</td>\n      <td>1.098901</td>\n      <td>1.693002</td>\n    </tr>\n    <tr>\n      <th>464</th>\n      <td>347051</td>\n      <td>a21eeb4acc2c9c128403c88c3f3e248bcf20067059d33b...</td>\n      <td>2</td>\n      <td>11.0</td>\n      <td>258763.0</td>\n      <td>3</td>\n      <td>355</td>\n      <td>train</td>\n      <td>1.0</td>\n      <td>1.139073</td>\n      <td>1.442308</td>\n      <td>1.265823</td>\n      <td>2.605863</td>\n    </tr>\n    <tr>\n      <th>465</th>\n      <td>347894</td>\n      <td>9a1d940986fce29cd6b54d5a5fe076a5aa8026161f5627...</td>\n      <td>1</td>\n      <td>17.0</td>\n      <td>337845.0</td>\n      <td>5</td>\n      <td>356</td>\n      <td>train</td>\n      <td>1.0</td>\n      <td>0.726172</td>\n      <td>1.293184</td>\n      <td>1.470588</td>\n      <td>1.062135</td>\n    </tr>\n    <tr>\n      <th>466</th>\n      <td>348724</td>\n      <td>2f4011af820fb0a91313221c6cc2b649495a5cb05aed82...</td>\n      <td>1</td>\n      <td>19.0</td>\n      <td>2439013.0</td>\n      <td>2</td>\n      <td>358</td>\n      <td>train</td>\n      <td>1.0</td>\n      <td>1.291712</td>\n      <td>1.293184</td>\n      <td>1.176471</td>\n      <td>0.941968</td>\n    </tr>\n    <tr>\n      <th>467</th>\n      <td>351367</td>\n      <td>3e2ddbf33f8b830778b39661a2ff547bee79a635b219e6...</td>\n      <td>1</td>\n      <td>17.0</td>\n      <td>141155.0</td>\n      <td>2</td>\n      <td>363</td>\n      <td>train</td>\n      <td>1.0</td>\n      <td>1.291712</td>\n      <td>1.293184</td>\n      <td>1.111111</td>\n      <td>1.062135</td>\n    </tr>\n  </tbody>\n</table>\n<p>468 rows × 13 columns</p>\n</div>"
     },
     "execution_count": 159,
     "metadata": {},
     "output_type": "execute_result"
    }
   ],
   "source": [
    "X_under"
   ],
   "metadata": {
    "collapsed": false,
    "pycharm": {
     "name": "#%%\n"
    }
   }
  },
  {
   "cell_type": "code",
   "execution_count": 160,
   "outputs": [],
   "source": [
    "X_train, X_test, y_train, y_test = train_test_split(X_under, y_under, test_size=0.2, random_state=123)"
   ],
   "metadata": {
    "collapsed": false,
    "pycharm": {
     "name": "#%%\n"
    }
   }
  },
  {
   "cell_type": "code",
   "execution_count": 161,
   "outputs": [
    {
     "data": {
      "text/plain": "      risk_rank  occupation_code  total_asset  AGE  date  AGE_encoding  \\\n0             1             19.0    1465816.0    7   365      0.225225   \n1             1              2.0      98177.0    2   365      1.291712   \n2             1             19.0    2052922.0    7   365      0.225225   \n3             3             15.0     201906.0    5   365      0.726172   \n4             1             12.0       7450.0    5   365      0.726172   \n...         ...              ...          ...  ...   ...           ...   \n1840          1             17.0     135072.0    3   393      1.139073   \n1841          3             12.0    2285386.0    3   393      1.139073   \n1842          3             19.0    1230244.0    2   393      1.291712   \n1843          1             17.0     162418.0    2   393      1.291712   \n1844          3             19.0      83133.0    3   393      1.139073   \n\n      risk_rank_encoding  \n0               1.293184  \n1               1.293184  \n2               1.293184  \n3               0.214133  \n4               1.293184  \n...                  ...  \n1840            1.293184  \n1841            0.214133  \n1842            0.214133  \n1843            1.293184  \n1844            0.214133  \n\n[1845 rows x 7 columns]",
      "text/html": "<div>\n<style scoped>\n    .dataframe tbody tr th:only-of-type {\n        vertical-align: middle;\n    }\n\n    .dataframe tbody tr th {\n        vertical-align: top;\n    }\n\n    .dataframe thead th {\n        text-align: right;\n    }\n</style>\n<table border=\"1\" class=\"dataframe\">\n  <thead>\n    <tr style=\"text-align: right;\">\n      <th></th>\n      <th>risk_rank</th>\n      <th>occupation_code</th>\n      <th>total_asset</th>\n      <th>AGE</th>\n      <th>date</th>\n      <th>AGE_encoding</th>\n      <th>risk_rank_encoding</th>\n    </tr>\n  </thead>\n  <tbody>\n    <tr>\n      <th>0</th>\n      <td>1</td>\n      <td>19.0</td>\n      <td>1465816.0</td>\n      <td>7</td>\n      <td>365</td>\n      <td>0.225225</td>\n      <td>1.293184</td>\n    </tr>\n    <tr>\n      <th>1</th>\n      <td>1</td>\n      <td>2.0</td>\n      <td>98177.0</td>\n      <td>2</td>\n      <td>365</td>\n      <td>1.291712</td>\n      <td>1.293184</td>\n    </tr>\n    <tr>\n      <th>2</th>\n      <td>1</td>\n      <td>19.0</td>\n      <td>2052922.0</td>\n      <td>7</td>\n      <td>365</td>\n      <td>0.225225</td>\n      <td>1.293184</td>\n    </tr>\n    <tr>\n      <th>3</th>\n      <td>3</td>\n      <td>15.0</td>\n      <td>201906.0</td>\n      <td>5</td>\n      <td>365</td>\n      <td>0.726172</td>\n      <td>0.214133</td>\n    </tr>\n    <tr>\n      <th>4</th>\n      <td>1</td>\n      <td>12.0</td>\n      <td>7450.0</td>\n      <td>5</td>\n      <td>365</td>\n      <td>0.726172</td>\n      <td>1.293184</td>\n    </tr>\n    <tr>\n      <th>...</th>\n      <td>...</td>\n      <td>...</td>\n      <td>...</td>\n      <td>...</td>\n      <td>...</td>\n      <td>...</td>\n      <td>...</td>\n    </tr>\n    <tr>\n      <th>1840</th>\n      <td>1</td>\n      <td>17.0</td>\n      <td>135072.0</td>\n      <td>3</td>\n      <td>393</td>\n      <td>1.139073</td>\n      <td>1.293184</td>\n    </tr>\n    <tr>\n      <th>1841</th>\n      <td>3</td>\n      <td>12.0</td>\n      <td>2285386.0</td>\n      <td>3</td>\n      <td>393</td>\n      <td>1.139073</td>\n      <td>0.214133</td>\n    </tr>\n    <tr>\n      <th>1842</th>\n      <td>3</td>\n      <td>19.0</td>\n      <td>1230244.0</td>\n      <td>2</td>\n      <td>393</td>\n      <td>1.291712</td>\n      <td>0.214133</td>\n    </tr>\n    <tr>\n      <th>1843</th>\n      <td>1</td>\n      <td>17.0</td>\n      <td>162418.0</td>\n      <td>2</td>\n      <td>393</td>\n      <td>1.291712</td>\n      <td>1.293184</td>\n    </tr>\n    <tr>\n      <th>1844</th>\n      <td>3</td>\n      <td>19.0</td>\n      <td>83133.0</td>\n      <td>3</td>\n      <td>393</td>\n      <td>1.139073</td>\n      <td>0.214133</td>\n    </tr>\n  </tbody>\n</table>\n<p>1845 rows × 7 columns</p>\n</div>"
     },
     "execution_count": 161,
     "metadata": {},
     "output_type": "execute_result"
    }
   ],
   "source": [
    "test"
   ],
   "metadata": {
    "collapsed": false,
    "pycharm": {
     "name": "#%%\n"
    }
   }
  },
  {
   "cell_type": "code",
   "execution_count": 151,
   "outputs": [
    {
     "ename": "KeyError",
     "evalue": "\"['alert_key', 'cust_id', 'data_label', 'sar_flag', 'date_encoding', 'occupation_code_encoding'] not found in axis\"",
     "output_type": "error",
     "traceback": [
      "\u001B[0;31m---------------------------------------------------------------------------\u001B[0m",
      "\u001B[0;31mKeyError\u001B[0m                                  Traceback (most recent call last)",
      "Input \u001B[0;32mIn [151]\u001B[0m, in \u001B[0;36m<cell line: 2>\u001B[0;34m()\u001B[0m\n\u001B[1;32m      1\u001B[0m drop_features \u001B[38;5;241m=\u001B[39m [\u001B[38;5;124m\"\u001B[39m\u001B[38;5;124malert_key\u001B[39m\u001B[38;5;124m\"\u001B[39m, \u001B[38;5;124m\"\u001B[39m\u001B[38;5;124mcust_id\u001B[39m\u001B[38;5;124m\"\u001B[39m, \u001B[38;5;124m\"\u001B[39m\u001B[38;5;124mdata_label\u001B[39m\u001B[38;5;124m\"\u001B[39m, \u001B[38;5;124m\"\u001B[39m\u001B[38;5;124msar_flag\u001B[39m\u001B[38;5;124m\"\u001B[39m, \u001B[38;5;124m\"\u001B[39m\u001B[38;5;124mdate_encoding\u001B[39m\u001B[38;5;124m\"\u001B[39m, \u001B[38;5;124m\"\u001B[39m\u001B[38;5;124moccupation_code_encoding\u001B[39m\u001B[38;5;124m\"\u001B[39m]\n\u001B[0;32m----> 2\u001B[0m X_train \u001B[38;5;241m=\u001B[39m \u001B[43mX_train\u001B[49m\u001B[38;5;241;43m.\u001B[39;49m\u001B[43mdrop\u001B[49m\u001B[43m(\u001B[49m\u001B[43mdrop_features\u001B[49m\u001B[43m,\u001B[49m\u001B[43m \u001B[49m\u001B[43maxis\u001B[49m\u001B[38;5;241;43m=\u001B[39;49m\u001B[38;5;241;43m1\u001B[39;49m\u001B[43m)\u001B[49m\n\u001B[1;32m      3\u001B[0m X_test \u001B[38;5;241m=\u001B[39m X_test\u001B[38;5;241m.\u001B[39mdrop(drop_features, axis\u001B[38;5;241m=\u001B[39m\u001B[38;5;241m1\u001B[39m)\n\u001B[1;32m      4\u001B[0m test \u001B[38;5;241m=\u001B[39m test\u001B[38;5;241m.\u001B[39mdrop(drop_features, axis\u001B[38;5;241m=\u001B[39m\u001B[38;5;241m1\u001B[39m)\n",
      "File \u001B[0;32m~/opt/miniconda3/envs/pytorch/lib/python3.10/site-packages/pandas/util/_decorators.py:331\u001B[0m, in \u001B[0;36mdeprecate_nonkeyword_arguments.<locals>.decorate.<locals>.wrapper\u001B[0;34m(*args, **kwargs)\u001B[0m\n\u001B[1;32m    325\u001B[0m \u001B[38;5;28;01mif\u001B[39;00m \u001B[38;5;28mlen\u001B[39m(args) \u001B[38;5;241m>\u001B[39m num_allow_args:\n\u001B[1;32m    326\u001B[0m     warnings\u001B[38;5;241m.\u001B[39mwarn(\n\u001B[1;32m    327\u001B[0m         msg\u001B[38;5;241m.\u001B[39mformat(arguments\u001B[38;5;241m=\u001B[39m_format_argument_list(allow_args)),\n\u001B[1;32m    328\u001B[0m         \u001B[38;5;167;01mFutureWarning\u001B[39;00m,\n\u001B[1;32m    329\u001B[0m         stacklevel\u001B[38;5;241m=\u001B[39mfind_stack_level(),\n\u001B[1;32m    330\u001B[0m     )\n\u001B[0;32m--> 331\u001B[0m \u001B[38;5;28;01mreturn\u001B[39;00m \u001B[43mfunc\u001B[49m\u001B[43m(\u001B[49m\u001B[38;5;241;43m*\u001B[39;49m\u001B[43margs\u001B[49m\u001B[43m,\u001B[49m\u001B[43m \u001B[49m\u001B[38;5;241;43m*\u001B[39;49m\u001B[38;5;241;43m*\u001B[39;49m\u001B[43mkwargs\u001B[49m\u001B[43m)\u001B[49m\n",
      "File \u001B[0;32m~/opt/miniconda3/envs/pytorch/lib/python3.10/site-packages/pandas/core/frame.py:5388\u001B[0m, in \u001B[0;36mDataFrame.drop\u001B[0;34m(self, labels, axis, index, columns, level, inplace, errors)\u001B[0m\n\u001B[1;32m   5240\u001B[0m \u001B[38;5;129m@deprecate_nonkeyword_arguments\u001B[39m(version\u001B[38;5;241m=\u001B[39m\u001B[38;5;28;01mNone\u001B[39;00m, allowed_args\u001B[38;5;241m=\u001B[39m[\u001B[38;5;124m\"\u001B[39m\u001B[38;5;124mself\u001B[39m\u001B[38;5;124m\"\u001B[39m, \u001B[38;5;124m\"\u001B[39m\u001B[38;5;124mlabels\u001B[39m\u001B[38;5;124m\"\u001B[39m])\n\u001B[1;32m   5241\u001B[0m \u001B[38;5;28;01mdef\u001B[39;00m \u001B[38;5;21mdrop\u001B[39m(  \u001B[38;5;66;03m# type: ignore[override]\u001B[39;00m\n\u001B[1;32m   5242\u001B[0m     \u001B[38;5;28mself\u001B[39m,\n\u001B[0;32m   (...)\u001B[0m\n\u001B[1;32m   5249\u001B[0m     errors: IgnoreRaise \u001B[38;5;241m=\u001B[39m \u001B[38;5;124m\"\u001B[39m\u001B[38;5;124mraise\u001B[39m\u001B[38;5;124m\"\u001B[39m,\n\u001B[1;32m   5250\u001B[0m ) \u001B[38;5;241m-\u001B[39m\u001B[38;5;241m>\u001B[39m DataFrame \u001B[38;5;241m|\u001B[39m \u001B[38;5;28;01mNone\u001B[39;00m:\n\u001B[1;32m   5251\u001B[0m     \u001B[38;5;124;03m\"\"\"\u001B[39;00m\n\u001B[1;32m   5252\u001B[0m \u001B[38;5;124;03m    Drop specified labels from rows or columns.\u001B[39;00m\n\u001B[1;32m   5253\u001B[0m \n\u001B[0;32m   (...)\u001B[0m\n\u001B[1;32m   5386\u001B[0m \u001B[38;5;124;03m            weight  1.0     0.8\u001B[39;00m\n\u001B[1;32m   5387\u001B[0m \u001B[38;5;124;03m    \"\"\"\u001B[39;00m\n\u001B[0;32m-> 5388\u001B[0m     \u001B[38;5;28;01mreturn\u001B[39;00m \u001B[38;5;28;43msuper\u001B[39;49m\u001B[43m(\u001B[49m\u001B[43m)\u001B[49m\u001B[38;5;241;43m.\u001B[39;49m\u001B[43mdrop\u001B[49m\u001B[43m(\u001B[49m\n\u001B[1;32m   5389\u001B[0m \u001B[43m        \u001B[49m\u001B[43mlabels\u001B[49m\u001B[38;5;241;43m=\u001B[39;49m\u001B[43mlabels\u001B[49m\u001B[43m,\u001B[49m\n\u001B[1;32m   5390\u001B[0m \u001B[43m        \u001B[49m\u001B[43maxis\u001B[49m\u001B[38;5;241;43m=\u001B[39;49m\u001B[43maxis\u001B[49m\u001B[43m,\u001B[49m\n\u001B[1;32m   5391\u001B[0m \u001B[43m        \u001B[49m\u001B[43mindex\u001B[49m\u001B[38;5;241;43m=\u001B[39;49m\u001B[43mindex\u001B[49m\u001B[43m,\u001B[49m\n\u001B[1;32m   5392\u001B[0m \u001B[43m        \u001B[49m\u001B[43mcolumns\u001B[49m\u001B[38;5;241;43m=\u001B[39;49m\u001B[43mcolumns\u001B[49m\u001B[43m,\u001B[49m\n\u001B[1;32m   5393\u001B[0m \u001B[43m        \u001B[49m\u001B[43mlevel\u001B[49m\u001B[38;5;241;43m=\u001B[39;49m\u001B[43mlevel\u001B[49m\u001B[43m,\u001B[49m\n\u001B[1;32m   5394\u001B[0m \u001B[43m        \u001B[49m\u001B[43minplace\u001B[49m\u001B[38;5;241;43m=\u001B[39;49m\u001B[43minplace\u001B[49m\u001B[43m,\u001B[49m\n\u001B[1;32m   5395\u001B[0m \u001B[43m        \u001B[49m\u001B[43merrors\u001B[49m\u001B[38;5;241;43m=\u001B[39;49m\u001B[43merrors\u001B[49m\u001B[43m,\u001B[49m\n\u001B[1;32m   5396\u001B[0m \u001B[43m    \u001B[49m\u001B[43m)\u001B[49m\n",
      "File \u001B[0;32m~/opt/miniconda3/envs/pytorch/lib/python3.10/site-packages/pandas/util/_decorators.py:331\u001B[0m, in \u001B[0;36mdeprecate_nonkeyword_arguments.<locals>.decorate.<locals>.wrapper\u001B[0;34m(*args, **kwargs)\u001B[0m\n\u001B[1;32m    325\u001B[0m \u001B[38;5;28;01mif\u001B[39;00m \u001B[38;5;28mlen\u001B[39m(args) \u001B[38;5;241m>\u001B[39m num_allow_args:\n\u001B[1;32m    326\u001B[0m     warnings\u001B[38;5;241m.\u001B[39mwarn(\n\u001B[1;32m    327\u001B[0m         msg\u001B[38;5;241m.\u001B[39mformat(arguments\u001B[38;5;241m=\u001B[39m_format_argument_list(allow_args)),\n\u001B[1;32m    328\u001B[0m         \u001B[38;5;167;01mFutureWarning\u001B[39;00m,\n\u001B[1;32m    329\u001B[0m         stacklevel\u001B[38;5;241m=\u001B[39mfind_stack_level(),\n\u001B[1;32m    330\u001B[0m     )\n\u001B[0;32m--> 331\u001B[0m \u001B[38;5;28;01mreturn\u001B[39;00m \u001B[43mfunc\u001B[49m\u001B[43m(\u001B[49m\u001B[38;5;241;43m*\u001B[39;49m\u001B[43margs\u001B[49m\u001B[43m,\u001B[49m\u001B[43m \u001B[49m\u001B[38;5;241;43m*\u001B[39;49m\u001B[38;5;241;43m*\u001B[39;49m\u001B[43mkwargs\u001B[49m\u001B[43m)\u001B[49m\n",
      "File \u001B[0;32m~/opt/miniconda3/envs/pytorch/lib/python3.10/site-packages/pandas/core/generic.py:4505\u001B[0m, in \u001B[0;36mNDFrame.drop\u001B[0;34m(self, labels, axis, index, columns, level, inplace, errors)\u001B[0m\n\u001B[1;32m   4503\u001B[0m \u001B[38;5;28;01mfor\u001B[39;00m axis, labels \u001B[38;5;129;01min\u001B[39;00m axes\u001B[38;5;241m.\u001B[39mitems():\n\u001B[1;32m   4504\u001B[0m     \u001B[38;5;28;01mif\u001B[39;00m labels \u001B[38;5;129;01mis\u001B[39;00m \u001B[38;5;129;01mnot\u001B[39;00m \u001B[38;5;28;01mNone\u001B[39;00m:\n\u001B[0;32m-> 4505\u001B[0m         obj \u001B[38;5;241m=\u001B[39m \u001B[43mobj\u001B[49m\u001B[38;5;241;43m.\u001B[39;49m\u001B[43m_drop_axis\u001B[49m\u001B[43m(\u001B[49m\u001B[43mlabels\u001B[49m\u001B[43m,\u001B[49m\u001B[43m \u001B[49m\u001B[43maxis\u001B[49m\u001B[43m,\u001B[49m\u001B[43m \u001B[49m\u001B[43mlevel\u001B[49m\u001B[38;5;241;43m=\u001B[39;49m\u001B[43mlevel\u001B[49m\u001B[43m,\u001B[49m\u001B[43m \u001B[49m\u001B[43merrors\u001B[49m\u001B[38;5;241;43m=\u001B[39;49m\u001B[43merrors\u001B[49m\u001B[43m)\u001B[49m\n\u001B[1;32m   4507\u001B[0m \u001B[38;5;28;01mif\u001B[39;00m inplace:\n\u001B[1;32m   4508\u001B[0m     \u001B[38;5;28mself\u001B[39m\u001B[38;5;241m.\u001B[39m_update_inplace(obj)\n",
      "File \u001B[0;32m~/opt/miniconda3/envs/pytorch/lib/python3.10/site-packages/pandas/core/generic.py:4546\u001B[0m, in \u001B[0;36mNDFrame._drop_axis\u001B[0;34m(self, labels, axis, level, errors, only_slice)\u001B[0m\n\u001B[1;32m   4544\u001B[0m         new_axis \u001B[38;5;241m=\u001B[39m axis\u001B[38;5;241m.\u001B[39mdrop(labels, level\u001B[38;5;241m=\u001B[39mlevel, errors\u001B[38;5;241m=\u001B[39merrors)\n\u001B[1;32m   4545\u001B[0m     \u001B[38;5;28;01melse\u001B[39;00m:\n\u001B[0;32m-> 4546\u001B[0m         new_axis \u001B[38;5;241m=\u001B[39m \u001B[43maxis\u001B[49m\u001B[38;5;241;43m.\u001B[39;49m\u001B[43mdrop\u001B[49m\u001B[43m(\u001B[49m\u001B[43mlabels\u001B[49m\u001B[43m,\u001B[49m\u001B[43m \u001B[49m\u001B[43merrors\u001B[49m\u001B[38;5;241;43m=\u001B[39;49m\u001B[43merrors\u001B[49m\u001B[43m)\u001B[49m\n\u001B[1;32m   4547\u001B[0m     indexer \u001B[38;5;241m=\u001B[39m axis\u001B[38;5;241m.\u001B[39mget_indexer(new_axis)\n\u001B[1;32m   4549\u001B[0m \u001B[38;5;66;03m# Case for non-unique axis\u001B[39;00m\n\u001B[1;32m   4550\u001B[0m \u001B[38;5;28;01melse\u001B[39;00m:\n",
      "File \u001B[0;32m~/opt/miniconda3/envs/pytorch/lib/python3.10/site-packages/pandas/core/indexes/base.py:6975\u001B[0m, in \u001B[0;36mIndex.drop\u001B[0;34m(self, labels, errors)\u001B[0m\n\u001B[1;32m   6973\u001B[0m \u001B[38;5;28;01mif\u001B[39;00m mask\u001B[38;5;241m.\u001B[39many():\n\u001B[1;32m   6974\u001B[0m     \u001B[38;5;28;01mif\u001B[39;00m errors \u001B[38;5;241m!=\u001B[39m \u001B[38;5;124m\"\u001B[39m\u001B[38;5;124mignore\u001B[39m\u001B[38;5;124m\"\u001B[39m:\n\u001B[0;32m-> 6975\u001B[0m         \u001B[38;5;28;01mraise\u001B[39;00m \u001B[38;5;167;01mKeyError\u001B[39;00m(\u001B[38;5;124mf\u001B[39m\u001B[38;5;124m\"\u001B[39m\u001B[38;5;132;01m{\u001B[39;00m\u001B[38;5;28mlist\u001B[39m(labels[mask])\u001B[38;5;132;01m}\u001B[39;00m\u001B[38;5;124m not found in axis\u001B[39m\u001B[38;5;124m\"\u001B[39m)\n\u001B[1;32m   6976\u001B[0m     indexer \u001B[38;5;241m=\u001B[39m indexer[\u001B[38;5;241m~\u001B[39mmask]\n\u001B[1;32m   6977\u001B[0m \u001B[38;5;28;01mreturn\u001B[39;00m \u001B[38;5;28mself\u001B[39m\u001B[38;5;241m.\u001B[39mdelete(indexer)\n",
      "\u001B[0;31mKeyError\u001B[0m: \"['alert_key', 'cust_id', 'data_label', 'sar_flag', 'date_encoding', 'occupation_code_encoding'] not found in axis\""
     ]
    }
   ],
   "source": [
    "drop_features = [\"alert_key\", \"cust_id\", \"data_label\", \"sar_flag\", \"date_encoding\", \"occupation_code_encoding\"]\n",
    "X_train = X_train.drop(drop_features, axis=1)\n",
    "X_test = X_test.drop(drop_features, axis=1)\n",
    "test = test.drop(drop_features, axis=1)"
   ],
   "metadata": {
    "collapsed": false,
    "pycharm": {
     "name": "#%%\n"
    }
   }
  },
  {
   "cell_type": "code",
   "execution_count": 140,
   "outputs": [
    {
     "data": {
      "text/plain": "     risk_rank  occupation_code  total_asset  AGE  date  AGE_encoding  \\\n148          1              5.0     136103.0    2    95      1.291712   \n131          1             17.0     732084.0    3   252      1.139073   \n437          1             17.0      72355.0    3   245      1.139073   \n317          3             18.0     867571.0    3    71      1.139073   \n400          3             18.0      84616.0    3   174      1.139073   \n..         ...              ...          ...  ...   ...           ...   \n230          3             13.0     107990.0    4   272      0.837438   \n98           1             19.0          0.0    3   257      1.139073   \n322          1             18.0     484391.0    2    75      1.291712   \n382          1             11.0       6014.0    4   144      0.837438   \n365          1             12.0      16629.0    3   118      1.139073   \n\n     risk_rank_encoding  \n148            1.293184  \n131            1.293184  \n437            1.293184  \n317            0.214133  \n400            0.214133  \n..                  ...  \n230            0.214133  \n98             1.293184  \n322            1.293184  \n382            1.293184  \n365            1.293184  \n\n[374 rows x 7 columns]",
      "text/html": "<div>\n<style scoped>\n    .dataframe tbody tr th:only-of-type {\n        vertical-align: middle;\n    }\n\n    .dataframe tbody tr th {\n        vertical-align: top;\n    }\n\n    .dataframe thead th {\n        text-align: right;\n    }\n</style>\n<table border=\"1\" class=\"dataframe\">\n  <thead>\n    <tr style=\"text-align: right;\">\n      <th></th>\n      <th>risk_rank</th>\n      <th>occupation_code</th>\n      <th>total_asset</th>\n      <th>AGE</th>\n      <th>date</th>\n      <th>AGE_encoding</th>\n      <th>risk_rank_encoding</th>\n    </tr>\n  </thead>\n  <tbody>\n    <tr>\n      <th>148</th>\n      <td>1</td>\n      <td>5.0</td>\n      <td>136103.0</td>\n      <td>2</td>\n      <td>95</td>\n      <td>1.291712</td>\n      <td>1.293184</td>\n    </tr>\n    <tr>\n      <th>131</th>\n      <td>1</td>\n      <td>17.0</td>\n      <td>732084.0</td>\n      <td>3</td>\n      <td>252</td>\n      <td>1.139073</td>\n      <td>1.293184</td>\n    </tr>\n    <tr>\n      <th>437</th>\n      <td>1</td>\n      <td>17.0</td>\n      <td>72355.0</td>\n      <td>3</td>\n      <td>245</td>\n      <td>1.139073</td>\n      <td>1.293184</td>\n    </tr>\n    <tr>\n      <th>317</th>\n      <td>3</td>\n      <td>18.0</td>\n      <td>867571.0</td>\n      <td>3</td>\n      <td>71</td>\n      <td>1.139073</td>\n      <td>0.214133</td>\n    </tr>\n    <tr>\n      <th>400</th>\n      <td>3</td>\n      <td>18.0</td>\n      <td>84616.0</td>\n      <td>3</td>\n      <td>174</td>\n      <td>1.139073</td>\n      <td>0.214133</td>\n    </tr>\n    <tr>\n      <th>...</th>\n      <td>...</td>\n      <td>...</td>\n      <td>...</td>\n      <td>...</td>\n      <td>...</td>\n      <td>...</td>\n      <td>...</td>\n    </tr>\n    <tr>\n      <th>230</th>\n      <td>3</td>\n      <td>13.0</td>\n      <td>107990.0</td>\n      <td>4</td>\n      <td>272</td>\n      <td>0.837438</td>\n      <td>0.214133</td>\n    </tr>\n    <tr>\n      <th>98</th>\n      <td>1</td>\n      <td>19.0</td>\n      <td>0.0</td>\n      <td>3</td>\n      <td>257</td>\n      <td>1.139073</td>\n      <td>1.293184</td>\n    </tr>\n    <tr>\n      <th>322</th>\n      <td>1</td>\n      <td>18.0</td>\n      <td>484391.0</td>\n      <td>2</td>\n      <td>75</td>\n      <td>1.291712</td>\n      <td>1.293184</td>\n    </tr>\n    <tr>\n      <th>382</th>\n      <td>1</td>\n      <td>11.0</td>\n      <td>6014.0</td>\n      <td>4</td>\n      <td>144</td>\n      <td>0.837438</td>\n      <td>1.293184</td>\n    </tr>\n    <tr>\n      <th>365</th>\n      <td>1</td>\n      <td>12.0</td>\n      <td>16629.0</td>\n      <td>3</td>\n      <td>118</td>\n      <td>1.139073</td>\n      <td>1.293184</td>\n    </tr>\n  </tbody>\n</table>\n<p>374 rows × 7 columns</p>\n</div>"
     },
     "execution_count": 140,
     "metadata": {},
     "output_type": "execute_result"
    }
   ],
   "source": [
    "X_train"
   ],
   "metadata": {
    "collapsed": false,
    "pycharm": {
     "name": "#%%\n"
    }
   }
  },
  {
   "cell_type": "code",
   "execution_count": 115,
   "outputs": [],
   "source": [
    "xg_cls = xgb.XGBClassifier()\n",
    "xg_cls.fit(X_train, y_train)\n",
    "\n",
    "cls_preds = xg_cls.predict(X_test)"
   ],
   "metadata": {
    "collapsed": false,
    "pycharm": {
     "name": "#%%\n"
    }
   }
  },
  {
   "cell_type": "code",
   "execution_count": 4,
   "outputs": [
    {
     "data": {
      "text/plain": "'1.5.1'"
     },
     "execution_count": 4,
     "metadata": {},
     "output_type": "execute_result"
    }
   ],
   "source": [
    "import pandas as pd\n",
    "pd.__version__"
   ],
   "metadata": {
    "collapsed": false,
    "pycharm": {
     "name": "#%%\n"
    }
   }
  },
  {
   "cell_type": "code",
   "execution_count": null,
   "outputs": [],
   "source": [],
   "metadata": {
    "collapsed": false,
    "pycharm": {
     "name": "#%%\n"
    }
   }
  },
  {
   "cell_type": "code",
   "execution_count": 116,
   "outputs": [
    {
     "data": {
      "text/plain": "0.776595744680851"
     },
     "execution_count": 116,
     "metadata": {},
     "output_type": "execute_result"
    },
    {
     "data": {
      "text/plain": "<Figure size 640x480 with 2 Axes>",
      "image/png": "[encoded data removed]"
     },
     "metadata": {},
     "output_type": "display_data"
    }
   ],
   "source": [
    "import seaborn as sns\n",
    "from sklearn.metrics import accuracy_score\n",
    "\n",
    "cm = confusion_matrix(y_test, cls_preds)\n",
    "sns.heatmap(cm, annot=True)\n",
    "accuracy_score(y_test, cls_preds)"
   ],
   "metadata": {
    "collapsed": false,
    "pycharm": {
     "name": "#%%\n"
    }
   }
  },
  {
   "cell_type": "code",
   "execution_count": 117,
   "outputs": [
    {
     "data": {
      "text/plain": "[0.07682039588689804,\n 0.4635014533996582,\n 0.064445860683918,\n 0.01227553654462099,\n 0.015841010957956314,\n 0.2426479011774063,\n 0.0038429545238614082,\n 0.17124995589256287,\n 0.273330956697464,\n 0.009257550351321697]"
     },
     "execution_count": 117,
     "metadata": {},
     "output_type": "execute_result"
    }
   ],
   "source": [
    "prob_test = [prob[1] for prob in xg_cls.predict_proba(test).tolist()]\n",
    "prob_test[:10]"
   ],
   "metadata": {
    "collapsed": false,
    "pycharm": {
     "name": "#%%\n"
    }
   }
  },
  {
   "cell_type": "code",
   "execution_count": 118,
   "outputs": [
    {
     "data": {
      "text/plain": "(2005, 2)"
     },
     "execution_count": 118,
     "metadata": {},
     "output_type": "execute_result"
    }
   ],
   "source": [
    "non_predicted_key = sample[~sample['alert_key'].isin(test_alert_keys)]\n",
    "non_predicted_key = non_predicted_key.assign(probability=0)\n",
    "non_predicted_key.shape"
   ],
   "metadata": {
    "collapsed": false,
    "pycharm": {
     "name": "#%%\n"
    }
   }
  },
  {
   "cell_type": "code",
   "execution_count": 119,
   "outputs": [
    {
     "data": {
      "text/plain": "((3850, 2),\n       alert_key  probability\n 301      354810     0.958726\n 461      355759     0.958726\n 1521     362855     0.933158\n 1745     364454     0.933158\n 1833     364983     0.931260)"
     },
     "execution_count": 119,
     "metadata": {},
     "output_type": "execute_result"
    }
   ],
   "source": [
    "submission = pd.concat([test_alert_keys, pd.DataFrame({'probability': prob_test})], axis=1)\n",
    "submission = submission.sort_values(by=['probability'], ascending=False)\n",
    "submission = pd.concat([submission, non_predicted_key])\n",
    "submission.shape, submission.head()"
   ],
   "metadata": {
    "collapsed": false,
    "pycharm": {
     "name": "#%%\n"
    }
   }
  },
  {
   "cell_type": "code",
   "execution_count": 120,
   "outputs": [],
   "source": [
    "submission.to_csv(\"submission_xgboost.csv\", index=False)"
   ],
   "metadata": {
    "collapsed": false,
    "pycharm": {
     "name": "#%%\n"
    }
   }
  }
 ],
 "metadata": {
  "kernelspec": {
   "display_name": "Python 3.10 (pytorch)",
   "language": "python",
   "name": "pytorch"
  },
  "language_info": {
   "codemirror_mode": {
    "name": "ipython",
    "version": 3
   },
   "file_extension": ".py",
   "mimetype": "text/x-python",
   "name": "python",
   "nbconvert_exporter": "python",
   "pygments_lexer": "ipython3",
   "version": "3.10.6"
  },
  "orig_nbformat": 4,
  "vscode": {
   "interpreter": {
    "hash": "1169a9719adf803d4f5afe2209093b36dd2c9a2bfe2600a9d836282ef0b26141"
   }
  }
 },
 "nbformat": 4,
 "nbformat_minor": 2
}