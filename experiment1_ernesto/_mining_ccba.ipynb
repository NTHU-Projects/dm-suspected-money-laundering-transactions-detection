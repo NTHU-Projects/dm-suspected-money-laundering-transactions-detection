{
 "cells": [
  {
   "cell_type": "markdown",
   "metadata": {
    "pycharm": {
     "name": "#%% md\n"
    }
   },
   "source": [
    "## Read File"
   ]
  },
  {
   "cell_type": "code",
   "execution_count": 26,
   "metadata": {
    "collapsed": false,
    "pycharm": {
     "name": "#%%\n"
    }
   },
   "outputs": [
    {
     "data": {
      "text/plain": "'test'"
     },
     "execution_count": 26,
     "metadata": {},
     "output_type": "execute_result"
    }
   ],
   "source": [
    "\"test\""
   ]
  },
  {
   "cell_type": "code",
   "execution_count": 117,
   "metadata": {
    "pycharm": {
     "name": "#%%\n"
    }
   },
   "outputs": [],
   "source": [
    "import pandas as pd\n",
    "\n",
    "local_path = \"/Users/kneskung/Code/Datamining/esun_sar_baseline/src/\"\n",
    "CUSTINFO_PATH = 'dataset/train_first/public_train_x_custinfo_full_hashed.csv'\n",
    "PDATE_PATH = 'dataset/train_first/public_x_alert_date.csv'\n",
    "TDATE_PATH = 'dataset/train_first/train_x_alert_date.csv'\n",
    "ANSWER_PATH = 'dataset/train_first/train_y_answer.csv'\n",
    "SAMPLE_PATH = 'dataset/train_first/sample_submission.csv'\n",
    "CCBA_PATH = local_path + 'train_first/public_train_x_ccba_full_hashed.csv'\n",
    "\n",
    "ccba = pd.read_csv(CCBA_PATH)\n",
    "cinfo = pd.read_csv(CUSTINFO_PATH)\n",
    "pdate = pd.read_csv(PDATE_PATH)\n",
    "tdate = pd.read_csv(TDATE_PATH)\n",
    "answer = pd.read_csv(ANSWER_PATH)\n",
    "sample = pd.read_csv(SAMPLE_PATH)"
   ]
  },
  {
   "cell_type": "code",
   "execution_count": 118,
   "outputs": [
    {
     "data": {
      "text/plain": "                                             cust_id  lupay  byymm     cycam  \\\n0  0172056578071e83399216fcd640bdc4de4583149d0fd9...    0.0      0  152628.0   \n\n   usgam  clamt  csamt  inamt  cucsm  cucah  \n0    0.0    0.0    0.0    0.0    0.0    0.0  ",
      "text/html": "<div>\n<style scoped>\n    .dataframe tbody tr th:only-of-type {\n        vertical-align: middle;\n    }\n\n    .dataframe tbody tr th {\n        vertical-align: top;\n    }\n\n    .dataframe thead th {\n        text-align: right;\n    }\n</style>\n<table border=\"1\" class=\"dataframe\">\n  <thead>\n    <tr style=\"text-align: right;\">\n      <th></th>\n      <th>cust_id</th>\n      <th>lupay</th>\n      <th>byymm</th>\n      <th>cycam</th>\n      <th>usgam</th>\n      <th>clamt</th>\n      <th>csamt</th>\n      <th>inamt</th>\n      <th>cucsm</th>\n      <th>cucah</th>\n    </tr>\n  </thead>\n  <tbody>\n    <tr>\n      <th>0</th>\n      <td>0172056578071e83399216fcd640bdc4de4583149d0fd9...</td>\n      <td>0.0</td>\n      <td>0</td>\n      <td>152628.0</td>\n      <td>0.0</td>\n      <td>0.0</td>\n      <td>0.0</td>\n      <td>0.0</td>\n      <td>0.0</td>\n      <td>0.0</td>\n    </tr>\n  </tbody>\n</table>\n</div>"
     },
     "execution_count": 118,
     "metadata": {},
     "output_type": "execute_result"
    }
   ],
   "source": [
    "ccba[:1]"
   ],
   "metadata": {
    "collapsed": false,
    "pycharm": {
     "name": "#%%\n"
    }
   }
  },
  {
   "cell_type": "code",
   "execution_count": 119,
   "outputs": [],
   "source": [
    "pdate.insert(pdate.shape[1], \"data_label\", [\"test\"] * pdate.shape[0], True)\n",
    "tdate.insert(tdate.shape[1], \"data_label\", [\"train\"] * tdate.shape[0], True)\n",
    "date = pd.concat([pdate, tdate], axis=0)\n",
    "\n",
    "cinfo = cinfo.merge(date, on='alert_key', how='left')\n",
    "cinfo = cinfo.merge(answer, on='alert_key', how='left')"
   ],
   "metadata": {
    "collapsed": false,
    "pycharm": {
     "name": "#%%\n"
    }
   }
  },
  {
   "cell_type": "code",
   "execution_count": 120,
   "outputs": [
    {
     "data": {
      "text/plain": "   alert_key                                            cust_id  risk_rank  \\\n0     352249  82595ac69158ae08d34156784bdec0d9e2ca5b242b6d2a...          1   \n\n   occupation_code  total_asset  AGE  date data_label  sar_flag  \n0             19.0    1465816.0    7   365       test       NaN  ",
      "text/html": "<div>\n<style scoped>\n    .dataframe tbody tr th:only-of-type {\n        vertical-align: middle;\n    }\n\n    .dataframe tbody tr th {\n        vertical-align: top;\n    }\n\n    .dataframe thead th {\n        text-align: right;\n    }\n</style>\n<table border=\"1\" class=\"dataframe\">\n  <thead>\n    <tr style=\"text-align: right;\">\n      <th></th>\n      <th>alert_key</th>\n      <th>cust_id</th>\n      <th>risk_rank</th>\n      <th>occupation_code</th>\n      <th>total_asset</th>\n      <th>AGE</th>\n      <th>date</th>\n      <th>data_label</th>\n      <th>sar_flag</th>\n    </tr>\n  </thead>\n  <tbody>\n    <tr>\n      <th>0</th>\n      <td>352249</td>\n      <td>82595ac69158ae08d34156784bdec0d9e2ca5b242b6d2a...</td>\n      <td>1</td>\n      <td>19.0</td>\n      <td>1465816.0</td>\n      <td>7</td>\n      <td>365</td>\n      <td>test</td>\n      <td>NaN</td>\n    </tr>\n  </tbody>\n</table>\n</div>"
     },
     "execution_count": 120,
     "metadata": {},
     "output_type": "execute_result"
    }
   ],
   "source": [
    "cinfo[:1]"
   ],
   "metadata": {
    "collapsed": false,
    "pycharm": {
     "name": "#%%\n"
    }
   }
  },
  {
   "cell_type": "code",
   "execution_count": 121,
   "outputs": [
    {
     "data": {
      "text/plain": "array([  0,  30,  61,  91, 122, 153, 183, 214, 244, 275, 306, 334, 365])"
     },
     "execution_count": 121,
     "metadata": {},
     "output_type": "execute_result"
    }
   ],
   "source": [
    "pd.unique(ccba['byymm'])"
   ],
   "metadata": {
    "collapsed": false,
    "pycharm": {
     "name": "#%%\n"
    }
   }
  },
  {
   "cell_type": "code",
   "execution_count": 125,
   "outputs": [
    {
     "name": "stderr",
     "output_type": "stream",
     "text": [
      "100%|██████████| 25751/25751 [04:34<00:00, 93.69it/s]\n"
     ]
    },
    {
     "data": {
      "text/plain": "(array(['82595ac69158ae08d34156784bdec0d9e2ca5b242b6d2a8542c040b98feb8bd1',\n        'b212d14cb35676926682b2cf849e295d948888f556c07e854c4cdad9f32f5084',\n        'e5b0002791c7852644a2730abeaa893cdf14a072ef78120275815edbd596cec0',\n        ...,\n        'f0d7fb934f97688f16691d9aeb6db22db08e8f8a07e1228fd62299065cec11c5',\n        'c71eff54ff8d901590eef33bc16dfddd93a2051d7acfe450758ad54db07eac0f',\n        '67a8baafafecb5408944a7d089cda0168967144c1bd41f3380202c390430239e'],\n       dtype=object),\n array(['82595ac69158ae08d34156784bdec0d9e2ca5b242b6d2a8542c040b98feb8bd1',\n        'b212d14cb35676926682b2cf849e295d948888f556c07e854c4cdad9f32f5084',\n        'e5b0002791c7852644a2730abeaa893cdf14a072ef78120275815edbd596cec0',\n        ...,\n        'f0d7fb934f97688f16691d9aeb6db22db08e8f8a07e1228fd62299065cec11c5',\n        'c71eff54ff8d901590eef33bc16dfddd93a2051d7acfe450758ad54db07eac0f',\n        '67a8baafafecb5408944a7d089cda0168967144c1bd41f3380202c390430239e'],\n       dtype=object),\n    alert_key                                            cust_id  risk_rank  \\\n 0     352249  82595ac69158ae08d34156784bdec0d9e2ca5b242b6d2a...          1   \n 1     352253  b212d14cb35676926682b2cf849e295d948888f556c07e...          1   \n 2     352254  e5b0002791c7852644a2730abeaa893cdf14a072ef7812...          1   \n 3     352280  74214c478dc6519fbefe4bc31693865bdcd698ab974b64...          3   \n 4     352282  0340e7611f0d82c3cb87e6194fa14bb2ccf8afbf1b3418...          1   \n \n    occupation_code  total_asset  AGE  date data_label  sar_flag   lupay_mean  \\\n 0             19.0    1465816.0    7   365       test       0.0     0.000000   \n 1              2.0      98177.0    2   365       test       0.0  1359.230769   \n 2             19.0    2052922.0    7   365       test       0.0     0.000000   \n 3             15.0     201906.0    5   365       test       0.0  6439.384615   \n 4             12.0       7450.0    5   365       test       0.0     0.000000   \n \n    ...   cucsm_mean  cucsm_sum  cucsm_count    cucsm_std  cucsm_quantile  \\\n 0  ...     0.000000        0.0            0     0.000000             0.0   \n 1  ...  1244.923077    16184.0           13  3027.376848             0.0   \n 2  ...     0.000000        0.0            0     0.000000             0.0   \n 3  ...  3538.307692    45998.0           13  1509.895051          2617.0   \n 4  ...     0.000000        0.0            0     0.000000             0.0   \n \n      cucah_mean  cucah_sum  cucah_count     cucah_std  cucah_quantile  \n 0      0.000000        0.0            0      0.000000             0.0  \n 1      0.000000        0.0           13      0.000000             0.0  \n 2      0.000000        0.0            0      0.000000             0.0  \n 3  11119.923077   144559.0           13  40093.452833             0.0  \n 4      0.000000        0.0            0      0.000000             0.0  \n \n [5 rows x 54 columns])"
     },
     "execution_count": 125,
     "metadata": {},
     "output_type": "execute_result"
    }
   ],
   "source": [
    "# tuple(alert_date, customer_id) find in ccba (byymm)\n",
    "from tqdm import tqdm\n",
    "\n",
    "tqdm.pandas()\n",
    "\n",
    "columns = [\"lupay\", \"byymm\", \"cycam\", \"usgam\", \"clamt\", \"csamt\", \"inamt\", \"cucsm\", \"cucah\"]\n",
    "\n",
    "\n",
    "def create_features(record):\n",
    "    dates = ccba[(ccba.cust_id == record.cust_id) & (ccba.byymm <= record.date)]\n",
    "    for col in columns:\n",
    "        record[col + \"_mean\"] = dates[col].mean()\n",
    "        record[col + \"_sum\"] = dates[col].sum()\n",
    "        record[col + \"_count\"] = dates[col].count()\n",
    "        record[col + \"_std\"] = dates[col].std()\n",
    "        record[col + \"_quantile\"] = dates[col].quantile()\n",
    "    return record\n",
    "\n",
    "\n",
    "cinfo_aggregated_ccba = cinfo.progress_apply(lambda x: create_features(x), axis=1)\n",
    "cinfo_aggregated_ccba = cinfo_aggregated_ccba.fillna(0)\n",
    "cinfo_aggregated_ccba.to_pickle(\"ccba_all_feature.pkl\")\n"
   ],
   "metadata": {
    "collapsed": false,
    "pycharm": {
     "name": "#%%\n"
    }
   }
  },
  {
   "cell_type": "code",
   "execution_count": 158,
   "outputs": [
    {
     "data": {
      "text/plain": "   alert_key                                            cust_id  risk_rank  \\\n0     352249  82595ac69158ae08d34156784bdec0d9e2ca5b242b6d2a...          1   \n1     352253  b212d14cb35676926682b2cf849e295d948888f556c07e...          1   \n2     352254  e5b0002791c7852644a2730abeaa893cdf14a072ef7812...          1   \n3     352280  74214c478dc6519fbefe4bc31693865bdcd698ab974b64...          3   \n4     352282  0340e7611f0d82c3cb87e6194fa14bb2ccf8afbf1b3418...          1   \n\n   occupation_code  total_asset  AGE  date data_label  sar_flag   lupay_mean  \\\n0             19.0    1465816.0    7   365       test       0.0     0.000000   \n1              2.0      98177.0    2   365       test       0.0  1359.230769   \n2             19.0    2052922.0    7   365       test       0.0     0.000000   \n3             15.0     201906.0    5   365       test       0.0  6439.384615   \n4             12.0       7450.0    5   365       test       0.0     0.000000   \n\n   ...   cucsm_mean  cucsm_sum  cucsm_count    cucsm_std  cucsm_quantile  \\\n0  ...     0.000000        0.0            0     0.000000             0.0   \n1  ...  1244.923077    16184.0           13  3027.376848             0.0   \n2  ...     0.000000        0.0            0     0.000000             0.0   \n3  ...  3538.307692    45998.0           13  1509.895051          2617.0   \n4  ...     0.000000        0.0            0     0.000000             0.0   \n\n     cucah_mean  cucah_sum  cucah_count     cucah_std  cucah_quantile  \n0      0.000000        0.0            0      0.000000             0.0  \n1      0.000000        0.0           13      0.000000             0.0  \n2      0.000000        0.0            0      0.000000             0.0  \n3  11119.923077   144559.0           13  40093.452833             0.0  \n4      0.000000        0.0            0      0.000000             0.0  \n\n[5 rows x 54 columns]",
      "text/html": "<div>\n<style scoped>\n    .dataframe tbody tr th:only-of-type {\n        vertical-align: middle;\n    }\n\n    .dataframe tbody tr th {\n        vertical-align: top;\n    }\n\n    .dataframe thead th {\n        text-align: right;\n    }\n</style>\n<table border=\"1\" class=\"dataframe\">\n  <thead>\n    <tr style=\"text-align: right;\">\n      <th></th>\n      <th>alert_key</th>\n      <th>cust_id</th>\n      <th>risk_rank</th>\n      <th>occupation_code</th>\n      <th>total_asset</th>\n      <th>AGE</th>\n      <th>date</th>\n      <th>data_label</th>\n      <th>sar_flag</th>\n      <th>lupay_mean</th>\n      <th>...</th>\n      <th>cucsm_mean</th>\n      <th>cucsm_sum</th>\n      <th>cucsm_count</th>\n      <th>cucsm_std</th>\n      <th>cucsm_quantile</th>\n      <th>cucah_mean</th>\n      <th>cucah_sum</th>\n      <th>cucah_count</th>\n      <th>cucah_std</th>\n      <th>cucah_quantile</th>\n    </tr>\n  </thead>\n  <tbody>\n    <tr>\n      <th>0</th>\n      <td>352249</td>\n      <td>82595ac69158ae08d34156784bdec0d9e2ca5b242b6d2a...</td>\n      <td>1</td>\n      <td>19.0</td>\n      <td>1465816.0</td>\n      <td>7</td>\n      <td>365</td>\n      <td>test</td>\n      <td>0.0</td>\n      <td>0.000000</td>\n      <td>...</td>\n      <td>0.000000</td>\n      <td>0.0</td>\n      <td>0</td>\n      <td>0.000000</td>\n      <td>0.0</td>\n      <td>0.000000</td>\n      <td>0.0</td>\n      <td>0</td>\n      <td>0.000000</td>\n      <td>0.0</td>\n    </tr>\n    <tr>\n      <th>1</th>\n      <td>352253</td>\n      <td>b212d14cb35676926682b2cf849e295d948888f556c07e...</td>\n      <td>1</td>\n      <td>2.0</td>\n      <td>98177.0</td>\n      <td>2</td>\n      <td>365</td>\n      <td>test</td>\n      <td>0.0</td>\n      <td>1359.230769</td>\n      <td>...</td>\n      <td>1244.923077</td>\n      <td>16184.0</td>\n      <td>13</td>\n      <td>3027.376848</td>\n      <td>0.0</td>\n      <td>0.000000</td>\n      <td>0.0</td>\n      <td>13</td>\n      <td>0.000000</td>\n      <td>0.0</td>\n    </tr>\n    <tr>\n      <th>2</th>\n      <td>352254</td>\n      <td>e5b0002791c7852644a2730abeaa893cdf14a072ef7812...</td>\n      <td>1</td>\n      <td>19.0</td>\n      <td>2052922.0</td>\n      <td>7</td>\n      <td>365</td>\n      <td>test</td>\n      <td>0.0</td>\n      <td>0.000000</td>\n      <td>...</td>\n      <td>0.000000</td>\n      <td>0.0</td>\n      <td>0</td>\n      <td>0.000000</td>\n      <td>0.0</td>\n      <td>0.000000</td>\n      <td>0.0</td>\n      <td>0</td>\n      <td>0.000000</td>\n      <td>0.0</td>\n    </tr>\n    <tr>\n      <th>3</th>\n      <td>352280</td>\n      <td>74214c478dc6519fbefe4bc31693865bdcd698ab974b64...</td>\n      <td>3</td>\n      <td>15.0</td>\n      <td>201906.0</td>\n      <td>5</td>\n      <td>365</td>\n      <td>test</td>\n      <td>0.0</td>\n      <td>6439.384615</td>\n      <td>...</td>\n      <td>3538.307692</td>\n      <td>45998.0</td>\n      <td>13</td>\n      <td>1509.895051</td>\n      <td>2617.0</td>\n      <td>11119.923077</td>\n      <td>144559.0</td>\n      <td>13</td>\n      <td>40093.452833</td>\n      <td>0.0</td>\n    </tr>\n    <tr>\n      <th>4</th>\n      <td>352282</td>\n      <td>0340e7611f0d82c3cb87e6194fa14bb2ccf8afbf1b3418...</td>\n      <td>1</td>\n      <td>12.0</td>\n      <td>7450.0</td>\n      <td>5</td>\n      <td>365</td>\n      <td>test</td>\n      <td>0.0</td>\n      <td>0.000000</td>\n      <td>...</td>\n      <td>0.000000</td>\n      <td>0.0</td>\n      <td>0</td>\n      <td>0.000000</td>\n      <td>0.0</td>\n      <td>0.000000</td>\n      <td>0.0</td>\n      <td>0</td>\n      <td>0.000000</td>\n      <td>0.0</td>\n    </tr>\n  </tbody>\n</table>\n<p>5 rows × 54 columns</p>\n</div>"
     },
     "execution_count": 158,
     "metadata": {},
     "output_type": "execute_result"
    }
   ],
   "source": [
    "cinfo_aggregated_ccba.head()"
   ],
   "metadata": {
    "collapsed": false,
    "pycharm": {
     "name": "#%%\n"
    }
   }
  },
  {
   "cell_type": "code",
   "execution_count": 126,
   "outputs": [
    {
     "data": {
      "text/plain": "(7708, 7708)"
     },
     "execution_count": 126,
     "metadata": {},
     "output_type": "execute_result"
    }
   ],
   "source": [
    "len(pd.unique(cinfo_aggregated_ccba.cust_id)), len(pd.unique(cinfo.cust_id))"
   ],
   "metadata": {
    "collapsed": false,
    "pycharm": {
     "name": "#%%\n"
    }
   }
  },
  {
   "cell_type": "code",
   "execution_count": 159,
   "outputs": [],
   "source": [
    "X = cinfo_aggregated_ccba[cinfo_aggregated_ccba['data_label'] == 'train']\n",
    "test = cinfo_aggregated_ccba[cinfo_aggregated_ccba['data_label'] == 'test']\n",
    "test_alert_keys = test['alert_key']"
   ],
   "metadata": {
    "collapsed": false,
    "pycharm": {
     "name": "#%%\n"
    }
   }
  },
  {
   "cell_type": "code",
   "execution_count": 160,
   "outputs": [],
   "source": [
    "drop_features = [\"alert_key\", \"cust_id\", \"data_label\", \"sar_flag\"]"
   ],
   "metadata": {
    "collapsed": false,
    "pycharm": {
     "name": "#%%\n"
    }
   }
  },
  {
   "cell_type": "code",
   "execution_count": 161,
   "outputs": [],
   "source": [
    "from imblearn.over_sampling import SMOTE, ADASYN\n",
    "from imblearn.under_sampling import RandomUnderSampler\n",
    "\n",
    "smote = SMOTE()\n",
    "adasyn = ADASYN()\n",
    "rus = RandomUnderSampler()\n",
    "\n",
    "y = X['sar_flag']\n",
    "dropped_X = X.drop(drop_features, axis=1)\n",
    "dropped_X = dropped_X.fillna(0)"
   ],
   "metadata": {
    "collapsed": false,
    "pycharm": {
     "name": "#%%\n"
    }
   }
  },
  {
   "cell_type": "code",
   "execution_count": 162,
   "outputs": [
    {
     "data": {
      "text/plain": "       risk_rank  occupation_code  total_asset  AGE  date     lupay_mean  \\\n1845           3             12.0     241719.0    3     0   12565.000000   \n1846           3             13.0     599497.0    6     0    3581.000000   \n1847           1             19.0      51160.0    4     0       0.000000   \n1848           3              9.0    3634343.0    6     0  829364.000000   \n1849           1             17.0    4076287.0    4     0     636.000000   \n...          ...              ...          ...  ...   ...            ...   \n25746          1             17.0      12207.0    2   364  291542.333333   \n25747          1             17.0     259985.0    4   364  261818.416667   \n25748          3             19.0     928963.0    3   364       0.000000   \n25749          3             19.0      21647.0    4   364       0.000000   \n25750          1             19.0    3218731.0    3   364  292701.083333   \n\n       lupay_sum  lupay_count      lupay_std  lupay_quantile  ...  \\\n1845     12565.0            1       0.000000         12565.0  ...   \n1846      3581.0            1       0.000000          3581.0  ...   \n1847         0.0            0       0.000000             0.0  ...   \n1848    829364.0            1       0.000000        829364.0  ...   \n1849       636.0            1       0.000000           636.0  ...   \n...          ...          ...            ...             ...  ...   \n25746  3498508.0           12  170542.043677        258446.5  ...   \n25747  3141821.0           12  485138.753146         53396.5  ...   \n25748        0.0            0       0.000000             0.0  ...   \n25749        0.0            0       0.000000             0.0  ...   \n25750  3512413.0           12  162654.188142        242461.0  ...   \n\n          cucsm_mean  cucsm_sum  cucsm_count      cucsm_std  cucsm_quantile  \\\n1845    12477.000000    12477.0            1       0.000000         12477.0   \n1846     4981.000000     4981.0            1       0.000000          4981.0   \n1847        0.000000        0.0            0       0.000000             0.0   \n1848   781279.000000   781279.0            1       0.000000        781279.0   \n1849     3410.000000     3410.0            1       0.000000          3410.0   \n...              ...        ...          ...            ...             ...   \n25746  289567.666667  3474812.0           12  171952.651239        267900.5   \n25747  260364.583333  3124375.0           12  480801.790554         58368.0   \n25748       0.000000        0.0            0       0.000000             0.0   \n25749       0.000000        0.0            0       0.000000             0.0   \n25750  269383.916667  3232607.0           12  109068.484422        241803.0   \n\n       cucah_mean  cucah_sum  cucah_count  cucah_std  cucah_quantile  \n1845          0.0        0.0            1        0.0             0.0  \n1846          0.0        0.0            1        0.0             0.0  \n1847          0.0        0.0            0        0.0             0.0  \n1848          0.0        0.0            1        0.0             0.0  \n1849          0.0        0.0            1        0.0             0.0  \n...           ...        ...          ...        ...             ...  \n25746         0.0        0.0           12        0.0             0.0  \n25747         0.0        0.0           12        0.0             0.0  \n25748         0.0        0.0            0        0.0             0.0  \n25749         0.0        0.0            0        0.0             0.0  \n25750         0.0        0.0           12        0.0             0.0  \n\n[23906 rows x 50 columns]",
      "text/html": "<div>\n<style scoped>\n    .dataframe tbody tr th:only-of-type {\n        vertical-align: middle;\n    }\n\n    .dataframe tbody tr th {\n        vertical-align: top;\n    }\n\n    .dataframe thead th {\n        text-align: right;\n    }\n</style>\n<table border=\"1\" class=\"dataframe\">\n  <thead>\n    <tr style=\"text-align: right;\">\n      <th></th>\n      <th>risk_rank</th>\n      <th>occupation_code</th>\n      <th>total_asset</th>\n      <th>AGE</th>\n      <th>date</th>\n      <th>lupay_mean</th>\n      <th>lupay_sum</th>\n      <th>lupay_count</th>\n      <th>lupay_std</th>\n      <th>lupay_quantile</th>\n      <th>...</th>\n      <th>cucsm_mean</th>\n      <th>cucsm_sum</th>\n      <th>cucsm_count</th>\n      <th>cucsm_std</th>\n      <th>cucsm_quantile</th>\n      <th>cucah_mean</th>\n      <th>cucah_sum</th>\n      <th>cucah_count</th>\n      <th>cucah_std</th>\n      <th>cucah_quantile</th>\n    </tr>\n  </thead>\n  <tbody>\n    <tr>\n      <th>1845</th>\n      <td>3</td>\n      <td>12.0</td>\n      <td>241719.0</td>\n      <td>3</td>\n      <td>0</td>\n      <td>12565.000000</td>\n      <td>12565.0</td>\n      <td>1</td>\n      <td>0.000000</td>\n      <td>12565.0</td>\n      <td>...</td>\n      <td>12477.000000</td>\n      <td>12477.0</td>\n      <td>1</td>\n      <td>0.000000</td>\n      <td>12477.0</td>\n      <td>0.0</td>\n      <td>0.0</td>\n      <td>1</td>\n      <td>0.0</td>\n      <td>0.0</td>\n    </tr>\n    <tr>\n      <th>1846</th>\n      <td>3</td>\n      <td>13.0</td>\n      <td>599497.0</td>\n      <td>6</td>\n      <td>0</td>\n      <td>3581.000000</td>\n      <td>3581.0</td>\n      <td>1</td>\n      <td>0.000000</td>\n      <td>3581.0</td>\n      <td>...</td>\n      <td>4981.000000</td>\n      <td>4981.0</td>\n      <td>1</td>\n      <td>0.000000</td>\n      <td>4981.0</td>\n      <td>0.0</td>\n      <td>0.0</td>\n      <td>1</td>\n      <td>0.0</td>\n      <td>0.0</td>\n    </tr>\n    <tr>\n      <th>1847</th>\n      <td>1</td>\n      <td>19.0</td>\n      <td>51160.0</td>\n      <td>4</td>\n      <td>0</td>\n      <td>0.000000</td>\n      <td>0.0</td>\n      <td>0</td>\n      <td>0.000000</td>\n      <td>0.0</td>\n      <td>...</td>\n      <td>0.000000</td>\n      <td>0.0</td>\n      <td>0</td>\n      <td>0.000000</td>\n      <td>0.0</td>\n      <td>0.0</td>\n      <td>0.0</td>\n      <td>0</td>\n      <td>0.0</td>\n      <td>0.0</td>\n    </tr>\n    <tr>\n      <th>1848</th>\n      <td>3</td>\n      <td>9.0</td>\n      <td>3634343.0</td>\n      <td>6</td>\n      <td>0</td>\n      <td>829364.000000</td>\n      <td>829364.0</td>\n      <td>1</td>\n      <td>0.000000</td>\n      <td>829364.0</td>\n      <td>...</td>\n      <td>781279.000000</td>\n      <td>781279.0</td>\n      <td>1</td>\n      <td>0.000000</td>\n      <td>781279.0</td>\n      <td>0.0</td>\n      <td>0.0</td>\n      <td>1</td>\n      <td>0.0</td>\n      <td>0.0</td>\n    </tr>\n    <tr>\n      <th>1849</th>\n      <td>1</td>\n      <td>17.0</td>\n      <td>4076287.0</td>\n      <td>4</td>\n      <td>0</td>\n      <td>636.000000</td>\n      <td>636.0</td>\n      <td>1</td>\n      <td>0.000000</td>\n      <td>636.0</td>\n      <td>...</td>\n      <td>3410.000000</td>\n      <td>3410.0</td>\n      <td>1</td>\n      <td>0.000000</td>\n      <td>3410.0</td>\n      <td>0.0</td>\n      <td>0.0</td>\n      <td>1</td>\n      <td>0.0</td>\n      <td>0.0</td>\n    </tr>\n    <tr>\n      <th>...</th>\n      <td>...</td>\n      <td>...</td>\n      <td>...</td>\n      <td>...</td>\n      <td>...</td>\n      <td>...</td>\n      <td>...</td>\n      <td>...</td>\n      <td>...</td>\n      <td>...</td>\n      <td>...</td>\n      <td>...</td>\n      <td>...</td>\n      <td>...</td>\n      <td>...</td>\n      <td>...</td>\n      <td>...</td>\n      <td>...</td>\n      <td>...</td>\n      <td>...</td>\n      <td>...</td>\n    </tr>\n    <tr>\n      <th>25746</th>\n      <td>1</td>\n      <td>17.0</td>\n      <td>12207.0</td>\n      <td>2</td>\n      <td>364</td>\n      <td>291542.333333</td>\n      <td>3498508.0</td>\n      <td>12</td>\n      <td>170542.043677</td>\n      <td>258446.5</td>\n      <td>...</td>\n      <td>289567.666667</td>\n      <td>3474812.0</td>\n      <td>12</td>\n      <td>171952.651239</td>\n      <td>267900.5</td>\n      <td>0.0</td>\n      <td>0.0</td>\n      <td>12</td>\n      <td>0.0</td>\n      <td>0.0</td>\n    </tr>\n    <tr>\n      <th>25747</th>\n      <td>1</td>\n      <td>17.0</td>\n      <td>259985.0</td>\n      <td>4</td>\n      <td>364</td>\n      <td>261818.416667</td>\n      <td>3141821.0</td>\n      <td>12</td>\n      <td>485138.753146</td>\n      <td>53396.5</td>\n      <td>...</td>\n      <td>260364.583333</td>\n      <td>3124375.0</td>\n      <td>12</td>\n      <td>480801.790554</td>\n      <td>58368.0</td>\n      <td>0.0</td>\n      <td>0.0</td>\n      <td>12</td>\n      <td>0.0</td>\n      <td>0.0</td>\n    </tr>\n    <tr>\n      <th>25748</th>\n      <td>3</td>\n      <td>19.0</td>\n      <td>928963.0</td>\n      <td>3</td>\n      <td>364</td>\n      <td>0.000000</td>\n      <td>0.0</td>\n      <td>0</td>\n      <td>0.000000</td>\n      <td>0.0</td>\n      <td>...</td>\n      <td>0.000000</td>\n      <td>0.0</td>\n      <td>0</td>\n      <td>0.000000</td>\n      <td>0.0</td>\n      <td>0.0</td>\n      <td>0.0</td>\n      <td>0</td>\n      <td>0.0</td>\n      <td>0.0</td>\n    </tr>\n    <tr>\n      <th>25749</th>\n      <td>3</td>\n      <td>19.0</td>\n      <td>21647.0</td>\n      <td>4</td>\n      <td>364</td>\n      <td>0.000000</td>\n      <td>0.0</td>\n      <td>0</td>\n      <td>0.000000</td>\n      <td>0.0</td>\n      <td>...</td>\n      <td>0.000000</td>\n      <td>0.0</td>\n      <td>0</td>\n      <td>0.000000</td>\n      <td>0.0</td>\n      <td>0.0</td>\n      <td>0.0</td>\n      <td>0</td>\n      <td>0.0</td>\n      <td>0.0</td>\n    </tr>\n    <tr>\n      <th>25750</th>\n      <td>1</td>\n      <td>19.0</td>\n      <td>3218731.0</td>\n      <td>3</td>\n      <td>364</td>\n      <td>292701.083333</td>\n      <td>3512413.0</td>\n      <td>12</td>\n      <td>162654.188142</td>\n      <td>242461.0</td>\n      <td>...</td>\n      <td>269383.916667</td>\n      <td>3232607.0</td>\n      <td>12</td>\n      <td>109068.484422</td>\n      <td>241803.0</td>\n      <td>0.0</td>\n      <td>0.0</td>\n      <td>12</td>\n      <td>0.0</td>\n      <td>0.0</td>\n    </tr>\n  </tbody>\n</table>\n<p>23906 rows × 50 columns</p>\n</div>"
     },
     "execution_count": 162,
     "metadata": {},
     "output_type": "execute_result"
    }
   ],
   "source": [
    "dropped_X"
   ],
   "metadata": {
    "collapsed": false,
    "pycharm": {
     "name": "#%%\n"
    }
   }
  },
  {
   "cell_type": "code",
   "execution_count": 163,
   "outputs": [],
   "source": [
    "import numpy as np\n",
    "import seaborn as sns\n",
    "import xgboost as xgb\n",
    "from sklearn.metrics import accuracy_score\n",
    "from sklearn.metrics import confusion_matrix\n",
    "from sklearn.model_selection import train_test_split\n",
    "\n",
    "from matplotlib import pyplot\n",
    "\n",
    "\n",
    "def generate_train_dataset(X, y, model):\n",
    "    X_resampled, y_resampled = model.fit_resample(X, y)\n",
    "    return train_test_split(X_resampled, y_resampled, test_size=0.4, random_state=123)"
   ],
   "metadata": {
    "collapsed": false,
    "pycharm": {
     "name": "#%%\n"
    }
   }
  },
  {
   "cell_type": "code",
   "execution_count": 184,
   "outputs": [],
   "source": [
    "from numpy import sort\n",
    "from sklearn.feature_selection import SelectFromModel\n",
    "\n",
    "\n",
    "class ModifiedXGBClassifier(xgb.XGBClassifier):\n",
    "    @property\n",
    "    def coef_(self):\n",
    "        return None\n",
    "\n",
    "\n",
    "def fit_xgboost(X, y, model):\n",
    "    X_train, X_test, y_train, y_test = generate_train_dataset(X, y, model)\n",
    "    xg_cls = ModifiedXGBClassifier()\n",
    "    xg_cls.fit(X_train, y_train)\n",
    "    # cls_preds = xg_cls.predict(X_test)\n",
    "\n",
    "    predictions = xg_cls.predict(X_test)\n",
    "    accuracy = accuracy_score(y_test, predictions)\n",
    "    print(\"Accuracy: %.2f%%\" % (accuracy * 100.0))\n",
    "    thresholds = sort(xg_cls.feature_importances_)\n",
    "    print(\"Thresholds: \", thresholds)\n",
    "    for thresh in thresholds:\n",
    "        # select features using threshold\n",
    "        selection = SelectFromModel(model, threshold=thresh, prefit=False)\n",
    "        select_X_train = selection.transform(X_train)\n",
    "        # train model\n",
    "        selection_model = ModifiedXGBClassifier()\n",
    "        selection_model.fit(select_X_train, y_train)\n",
    "        # eval model\n",
    "        select_X_test = selection.transform(X_test)\n",
    "        y_pred = selection_model.predict(select_X_test)\n",
    "        predictions = [round(value) for value in y_pred]\n",
    "        accuracy = accuracy_score(y_test, predictions)\n",
    "        print(\"Thresh=%.3f, n=%d, Accuracy: %.2f%%\" % (thresh, select_X_train.shape[1], accuracy * 100.0))\n",
    "    # cm = confusion_matrix(y_test, cls_preds)\n",
    "    # print(accuracy_score(y_test, cls_preds), cm_smote)\n",
    "    #\n",
    "    # pyplot.bar(range(len(xg_cls.feature_importances_)), xg_cls.feature_importances_)\n",
    "    # pyplot.show()\n",
    "    # sns.heatmap(cm, annot=True)"
   ],
   "metadata": {
    "collapsed": false,
    "pycharm": {
     "name": "#%%\n"
    }
   }
  },
  {
   "cell_type": "code",
   "execution_count": 185,
   "outputs": [
    {
     "name": "stdout",
     "output_type": "stream",
     "text": [
      "Accuracy: 99.14%\n",
      "Thresholds:  [0.         0.         0.         0.         0.         0.\n",
      " 0.         0.         0.         0.         0.         0.\n",
      " 0.         0.         0.         0.         0.         0.\n",
      " 0.00395164 0.00565241 0.00666644 0.00680044 0.00708472 0.00755878\n",
      " 0.00776327 0.00835925 0.00897153 0.00945302 0.01068259 0.01121079\n",
      " 0.01130121 0.01136197 0.01204564 0.01290851 0.01315162 0.01605242\n",
      " 0.01969115 0.02212833 0.02316334 0.02496296 0.02922847 0.02956621\n",
      " 0.03728386 0.03800769 0.04065175 0.04181794 0.05368442 0.05507042\n",
      " 0.06907065 0.34469664]\n"
     ]
    },
    {
     "name": "stderr",
     "output_type": "stream",
     "text": [
      "/Users/kneskung/opt/miniconda3/envs/pytorch/lib/python3.10/site-packages/sklearn/base.py:443: UserWarning: X has feature names, but SelectFromModel was fitted without feature names\n",
      "  warnings.warn(\n"
     ]
    },
    {
     "ename": "ValueError",
     "evalue": "when `importance_getter=='auto'`, the underlying estimator SMOTE should have `coef_` or `feature_importances_` attribute. Either pass a fitted estimator to feature selector or call fit before calling transform.",
     "output_type": "error",
     "traceback": [
      "\u001B[0;31m---------------------------------------------------------------------------\u001B[0m",
      "\u001B[0;31mValueError\u001B[0m                                Traceback (most recent call last)",
      "Input \u001B[0;32mIn [185]\u001B[0m, in \u001B[0;36m<cell line: 1>\u001B[0;34m()\u001B[0m\n\u001B[0;32m----> 1\u001B[0m \u001B[43mfit_xgboost\u001B[49m\u001B[43m(\u001B[49m\u001B[43mdropped_X\u001B[49m\u001B[43m,\u001B[49m\u001B[43m \u001B[49m\u001B[43my\u001B[49m\u001B[43m,\u001B[49m\u001B[43m \u001B[49m\u001B[43msmote\u001B[49m\u001B[43m)\u001B[49m\n",
      "Input \u001B[0;32mIn [184]\u001B[0m, in \u001B[0;36mfit_xgboost\u001B[0;34m(X, y, model)\u001B[0m\n\u001B[1;32m     22\u001B[0m \u001B[38;5;28;01mfor\u001B[39;00m thresh \u001B[38;5;129;01min\u001B[39;00m thresholds:\n\u001B[1;32m     23\u001B[0m     \u001B[38;5;66;03m# select features using threshold\u001B[39;00m\n\u001B[1;32m     24\u001B[0m     selection \u001B[38;5;241m=\u001B[39m SelectFromModel(model, threshold\u001B[38;5;241m=\u001B[39mthresh, prefit\u001B[38;5;241m=\u001B[39m\u001B[38;5;28;01mFalse\u001B[39;00m)\n\u001B[0;32m---> 25\u001B[0m     select_X_train \u001B[38;5;241m=\u001B[39m \u001B[43mselection\u001B[49m\u001B[38;5;241;43m.\u001B[39;49m\u001B[43mtransform\u001B[49m\u001B[43m(\u001B[49m\u001B[43mX_train\u001B[49m\u001B[43m)\u001B[49m\n\u001B[1;32m     26\u001B[0m     \u001B[38;5;66;03m# train model\u001B[39;00m\n\u001B[1;32m     27\u001B[0m     selection_model \u001B[38;5;241m=\u001B[39m ModifiedXGBClassifier()\n",
      "File \u001B[0;32m~/opt/miniconda3/envs/pytorch/lib/python3.10/site-packages/sklearn/feature_selection/_base.py:90\u001B[0m, in \u001B[0;36mSelectorMixin.transform\u001B[0;34m(self, X)\u001B[0m\n\u001B[1;32m     81\u001B[0m \u001B[38;5;66;03m# note: we use _safe_tags instead of _get_tags because this is a\u001B[39;00m\n\u001B[1;32m     82\u001B[0m \u001B[38;5;66;03m# public Mixin.\u001B[39;00m\n\u001B[1;32m     83\u001B[0m X \u001B[38;5;241m=\u001B[39m \u001B[38;5;28mself\u001B[39m\u001B[38;5;241m.\u001B[39m_validate_data(\n\u001B[1;32m     84\u001B[0m     X,\n\u001B[1;32m     85\u001B[0m     dtype\u001B[38;5;241m=\u001B[39m\u001B[38;5;28;01mNone\u001B[39;00m,\n\u001B[0;32m   (...)\u001B[0m\n\u001B[1;32m     88\u001B[0m     reset\u001B[38;5;241m=\u001B[39m\u001B[38;5;28;01mFalse\u001B[39;00m,\n\u001B[1;32m     89\u001B[0m )\n\u001B[0;32m---> 90\u001B[0m \u001B[38;5;28;01mreturn\u001B[39;00m \u001B[38;5;28;43mself\u001B[39;49m\u001B[38;5;241;43m.\u001B[39;49m\u001B[43m_transform\u001B[49m\u001B[43m(\u001B[49m\u001B[43mX\u001B[49m\u001B[43m)\u001B[49m\n",
      "File \u001B[0;32m~/opt/miniconda3/envs/pytorch/lib/python3.10/site-packages/sklearn/feature_selection/_base.py:94\u001B[0m, in \u001B[0;36mSelectorMixin._transform\u001B[0;34m(self, X)\u001B[0m\n\u001B[1;32m     92\u001B[0m \u001B[38;5;28;01mdef\u001B[39;00m \u001B[38;5;21m_transform\u001B[39m(\u001B[38;5;28mself\u001B[39m, X):\n\u001B[1;32m     93\u001B[0m     \u001B[38;5;124;03m\"\"\"Reduce X to the selected features.\"\"\"\u001B[39;00m\n\u001B[0;32m---> 94\u001B[0m     mask \u001B[38;5;241m=\u001B[39m \u001B[38;5;28;43mself\u001B[39;49m\u001B[38;5;241;43m.\u001B[39;49m\u001B[43mget_support\u001B[49m\u001B[43m(\u001B[49m\u001B[43m)\u001B[49m\n\u001B[1;32m     95\u001B[0m     \u001B[38;5;28;01mif\u001B[39;00m \u001B[38;5;129;01mnot\u001B[39;00m mask\u001B[38;5;241m.\u001B[39many():\n\u001B[1;32m     96\u001B[0m         warnings\u001B[38;5;241m.\u001B[39mwarn(\n\u001B[1;32m     97\u001B[0m             \u001B[38;5;124m\"\u001B[39m\u001B[38;5;124mNo features were selected: either the data is\u001B[39m\u001B[38;5;124m\"\u001B[39m\n\u001B[1;32m     98\u001B[0m             \u001B[38;5;124m\"\u001B[39m\u001B[38;5;124m too noisy or the selection test too strict.\u001B[39m\u001B[38;5;124m\"\u001B[39m,\n\u001B[1;32m     99\u001B[0m             \u001B[38;5;167;01mUserWarning\u001B[39;00m,\n\u001B[1;32m    100\u001B[0m         )\n",
      "File \u001B[0;32m~/opt/miniconda3/envs/pytorch/lib/python3.10/site-packages/sklearn/feature_selection/_base.py:53\u001B[0m, in \u001B[0;36mSelectorMixin.get_support\u001B[0;34m(self, indices)\u001B[0m\n\u001B[1;32m     33\u001B[0m \u001B[38;5;28;01mdef\u001B[39;00m \u001B[38;5;21mget_support\u001B[39m(\u001B[38;5;28mself\u001B[39m, indices\u001B[38;5;241m=\u001B[39m\u001B[38;5;28;01mFalse\u001B[39;00m):\n\u001B[1;32m     34\u001B[0m     \u001B[38;5;124;03m\"\"\"\u001B[39;00m\n\u001B[1;32m     35\u001B[0m \u001B[38;5;124;03m    Get a mask, or integer index, of the features selected.\u001B[39;00m\n\u001B[1;32m     36\u001B[0m \n\u001B[0;32m   (...)\u001B[0m\n\u001B[1;32m     51\u001B[0m \u001B[38;5;124;03m        values are indices into the input feature vector.\u001B[39;00m\n\u001B[1;32m     52\u001B[0m \u001B[38;5;124;03m    \"\"\"\u001B[39;00m\n\u001B[0;32m---> 53\u001B[0m     mask \u001B[38;5;241m=\u001B[39m \u001B[38;5;28;43mself\u001B[39;49m\u001B[38;5;241;43m.\u001B[39;49m\u001B[43m_get_support_mask\u001B[49m\u001B[43m(\u001B[49m\u001B[43m)\u001B[49m\n\u001B[1;32m     54\u001B[0m     \u001B[38;5;28;01mreturn\u001B[39;00m mask \u001B[38;5;28;01mif\u001B[39;00m \u001B[38;5;129;01mnot\u001B[39;00m indices \u001B[38;5;28;01melse\u001B[39;00m np\u001B[38;5;241m.\u001B[39mwhere(mask)[\u001B[38;5;241m0\u001B[39m]\n",
      "File \u001B[0;32m~/opt/miniconda3/envs/pytorch/lib/python3.10/site-packages/sklearn/feature_selection/_from_model.py:277\u001B[0m, in \u001B[0;36mSelectFromModel._get_support_mask\u001B[0;34m(self)\u001B[0m\n\u001B[1;32m    269\u001B[0m \u001B[38;5;28;01melif\u001B[39;00m max_features \u001B[38;5;129;01mis\u001B[39;00m \u001B[38;5;129;01mnot\u001B[39;00m \u001B[38;5;28;01mNone\u001B[39;00m \u001B[38;5;129;01mand\u001B[39;00m \u001B[38;5;129;01mnot\u001B[39;00m \u001B[38;5;28misinstance\u001B[39m(\n\u001B[1;32m    270\u001B[0m     max_features, numbers\u001B[38;5;241m.\u001B[39mIntegral\n\u001B[1;32m    271\u001B[0m ):\n\u001B[1;32m    272\u001B[0m     \u001B[38;5;28;01mraise\u001B[39;00m \u001B[38;5;167;01mValueError\u001B[39;00m(\n\u001B[1;32m    273\u001B[0m         \u001B[38;5;124mf\u001B[39m\u001B[38;5;124m\"\u001B[39m\u001B[38;5;124m`max_features` must be an integer. Got `max_features=\u001B[39m\u001B[38;5;132;01m{\u001B[39;00mmax_features\u001B[38;5;132;01m}\u001B[39;00m\u001B[38;5;124m` \u001B[39m\u001B[38;5;124m\"\u001B[39m\n\u001B[1;32m    274\u001B[0m         \u001B[38;5;124m\"\u001B[39m\u001B[38;5;124minstead.\u001B[39m\u001B[38;5;124m\"\u001B[39m\n\u001B[1;32m    275\u001B[0m     )\n\u001B[0;32m--> 277\u001B[0m scores \u001B[38;5;241m=\u001B[39m \u001B[43m_get_feature_importances\u001B[49m\u001B[43m(\u001B[49m\n\u001B[1;32m    278\u001B[0m \u001B[43m    \u001B[49m\u001B[43mestimator\u001B[49m\u001B[38;5;241;43m=\u001B[39;49m\u001B[43mestimator\u001B[49m\u001B[43m,\u001B[49m\n\u001B[1;32m    279\u001B[0m \u001B[43m    \u001B[49m\u001B[43mgetter\u001B[49m\u001B[38;5;241;43m=\u001B[39;49m\u001B[38;5;28;43mself\u001B[39;49m\u001B[38;5;241;43m.\u001B[39;49m\u001B[43mimportance_getter\u001B[49m\u001B[43m,\u001B[49m\n\u001B[1;32m    280\u001B[0m \u001B[43m    \u001B[49m\u001B[43mtransform_func\u001B[49m\u001B[38;5;241;43m=\u001B[39;49m\u001B[38;5;124;43m\"\u001B[39;49m\u001B[38;5;124;43mnorm\u001B[39;49m\u001B[38;5;124;43m\"\u001B[39;49m\u001B[43m,\u001B[49m\n\u001B[1;32m    281\u001B[0m \u001B[43m    \u001B[49m\u001B[43mnorm_order\u001B[49m\u001B[38;5;241;43m=\u001B[39;49m\u001B[38;5;28;43mself\u001B[39;49m\u001B[38;5;241;43m.\u001B[39;49m\u001B[43mnorm_order\u001B[49m\u001B[43m,\u001B[49m\n\u001B[1;32m    282\u001B[0m \u001B[43m\u001B[49m\u001B[43m)\u001B[49m\n\u001B[1;32m    283\u001B[0m threshold \u001B[38;5;241m=\u001B[39m _calculate_threshold(estimator, scores, \u001B[38;5;28mself\u001B[39m\u001B[38;5;241m.\u001B[39mthreshold)\n\u001B[1;32m    284\u001B[0m \u001B[38;5;28;01mif\u001B[39;00m \u001B[38;5;28mself\u001B[39m\u001B[38;5;241m.\u001B[39mmax_features \u001B[38;5;129;01mis\u001B[39;00m \u001B[38;5;129;01mnot\u001B[39;00m \u001B[38;5;28;01mNone\u001B[39;00m:\n",
      "File \u001B[0;32m~/opt/miniconda3/envs/pytorch/lib/python3.10/site-packages/sklearn/feature_selection/_base.py:208\u001B[0m, in \u001B[0;36m_get_feature_importances\u001B[0;34m(estimator, getter, transform_func, norm_order)\u001B[0m\n\u001B[1;32m    206\u001B[0m         getter \u001B[38;5;241m=\u001B[39m attrgetter(\u001B[38;5;124m\"\u001B[39m\u001B[38;5;124mfeature_importances_\u001B[39m\u001B[38;5;124m\"\u001B[39m)\n\u001B[1;32m    207\u001B[0m     \u001B[38;5;28;01melse\u001B[39;00m:\n\u001B[0;32m--> 208\u001B[0m         \u001B[38;5;28;01mraise\u001B[39;00m \u001B[38;5;167;01mValueError\u001B[39;00m(\n\u001B[1;32m    209\u001B[0m             \u001B[38;5;124m\"\u001B[39m\u001B[38;5;124mwhen `importance_getter==\u001B[39m\u001B[38;5;124m'\u001B[39m\u001B[38;5;124mauto\u001B[39m\u001B[38;5;124m'\u001B[39m\u001B[38;5;124m`, the underlying \u001B[39m\u001B[38;5;124m\"\u001B[39m\n\u001B[1;32m    210\u001B[0m             \u001B[38;5;124mf\u001B[39m\u001B[38;5;124m\"\u001B[39m\u001B[38;5;124mestimator \u001B[39m\u001B[38;5;132;01m{\u001B[39;00mestimator\u001B[38;5;241m.\u001B[39m\u001B[38;5;18m__class__\u001B[39m\u001B[38;5;241m.\u001B[39m\u001B[38;5;18m__name__\u001B[39m\u001B[38;5;132;01m}\u001B[39;00m\u001B[38;5;124m should have \u001B[39m\u001B[38;5;124m\"\u001B[39m\n\u001B[1;32m    211\u001B[0m             \u001B[38;5;124m\"\u001B[39m\u001B[38;5;124m`coef_` or `feature_importances_` attribute. Either \u001B[39m\u001B[38;5;124m\"\u001B[39m\n\u001B[1;32m    212\u001B[0m             \u001B[38;5;124m\"\u001B[39m\u001B[38;5;124mpass a fitted estimator to feature selector or call fit \u001B[39m\u001B[38;5;124m\"\u001B[39m\n\u001B[1;32m    213\u001B[0m             \u001B[38;5;124m\"\u001B[39m\u001B[38;5;124mbefore calling transform.\u001B[39m\u001B[38;5;124m\"\u001B[39m\n\u001B[1;32m    214\u001B[0m         )\n\u001B[1;32m    215\u001B[0m \u001B[38;5;28;01melse\u001B[39;00m:\n\u001B[1;32m    216\u001B[0m     getter \u001B[38;5;241m=\u001B[39m attrgetter(getter)\n",
      "\u001B[0;31mValueError\u001B[0m: when `importance_getter=='auto'`, the underlying estimator SMOTE should have `coef_` or `feature_importances_` attribute. Either pass a fitted estimator to feature selector or call fit before calling transform."
     ]
    }
   ],
   "source": [
    "fit_xgboost(dropped_X, y, smote)"
   ],
   "metadata": {
    "collapsed": false,
    "pycharm": {
     "name": "#%%\n"
    }
   }
  },
  {
   "cell_type": "code",
   "execution_count": 177,
   "outputs": [
    {
     "name": "stdout",
     "output_type": "stream",
     "text": [
      "Accuracy: 64.36%\n"
     ]
    },
    {
     "name": "stderr",
     "output_type": "stream",
     "text": [
      "/Users/kneskung/opt/miniconda3/envs/pytorch/lib/python3.10/site-packages/sklearn/base.py:443: UserWarning: X has feature names, but SelectFromModel was fitted without feature names\n",
      "  warnings.warn(\n"
     ]
    },
    {
     "ename": "ValueError",
     "evalue": "when `importance_getter=='auto'`, the underlying estimator RandomUnderSampler should have `coef_` or `feature_importances_` attribute. Either pass a fitted estimator to feature selector or call fit before calling transform.",
     "output_type": "error",
     "traceback": [
      "\u001B[0;31m---------------------------------------------------------------------------\u001B[0m",
      "\u001B[0;31mValueError\u001B[0m                                Traceback (most recent call last)",
      "Input \u001B[0;32mIn [177]\u001B[0m, in \u001B[0;36m<cell line: 1>\u001B[0;34m()\u001B[0m\n\u001B[0;32m----> 1\u001B[0m \u001B[43mfit_xgboost\u001B[49m\u001B[43m(\u001B[49m\u001B[43mdropped_X\u001B[49m\u001B[43m,\u001B[49m\u001B[43m \u001B[49m\u001B[43my\u001B[49m\u001B[43m,\u001B[49m\u001B[43m \u001B[49m\u001B[43mrus\u001B[49m\u001B[43m)\u001B[49m\n",
      "Input \u001B[0;32mIn [175]\u001B[0m, in \u001B[0;36mfit_xgboost\u001B[0;34m(X, y, model)\u001B[0m\n\u001B[1;32m     20\u001B[0m \u001B[38;5;28;01mfor\u001B[39;00m thresh \u001B[38;5;129;01min\u001B[39;00m thresholds:\n\u001B[1;32m     21\u001B[0m     \u001B[38;5;66;03m# select features using threshold\u001B[39;00m\n\u001B[1;32m     22\u001B[0m     selection \u001B[38;5;241m=\u001B[39m SelectFromModel(model, threshold\u001B[38;5;241m=\u001B[39mthresh, prefit\u001B[38;5;241m=\u001B[39m\u001B[38;5;28;01mTrue\u001B[39;00m)\n\u001B[0;32m---> 23\u001B[0m     select_X_train \u001B[38;5;241m=\u001B[39m \u001B[43mselection\u001B[49m\u001B[38;5;241;43m.\u001B[39;49m\u001B[43mtransform\u001B[49m\u001B[43m(\u001B[49m\u001B[43mX_train\u001B[49m\u001B[43m)\u001B[49m\n\u001B[1;32m     24\u001B[0m     \u001B[38;5;66;03m# train model\u001B[39;00m\n\u001B[1;32m     25\u001B[0m     selection_model \u001B[38;5;241m=\u001B[39m ModifiedXGBClassifier()\n",
      "File \u001B[0;32m~/opt/miniconda3/envs/pytorch/lib/python3.10/site-packages/sklearn/feature_selection/_base.py:90\u001B[0m, in \u001B[0;36mSelectorMixin.transform\u001B[0;34m(self, X)\u001B[0m\n\u001B[1;32m     81\u001B[0m \u001B[38;5;66;03m# note: we use _safe_tags instead of _get_tags because this is a\u001B[39;00m\n\u001B[1;32m     82\u001B[0m \u001B[38;5;66;03m# public Mixin.\u001B[39;00m\n\u001B[1;32m     83\u001B[0m X \u001B[38;5;241m=\u001B[39m \u001B[38;5;28mself\u001B[39m\u001B[38;5;241m.\u001B[39m_validate_data(\n\u001B[1;32m     84\u001B[0m     X,\n\u001B[1;32m     85\u001B[0m     dtype\u001B[38;5;241m=\u001B[39m\u001B[38;5;28;01mNone\u001B[39;00m,\n\u001B[0;32m   (...)\u001B[0m\n\u001B[1;32m     88\u001B[0m     reset\u001B[38;5;241m=\u001B[39m\u001B[38;5;28;01mFalse\u001B[39;00m,\n\u001B[1;32m     89\u001B[0m )\n\u001B[0;32m---> 90\u001B[0m \u001B[38;5;28;01mreturn\u001B[39;00m \u001B[38;5;28;43mself\u001B[39;49m\u001B[38;5;241;43m.\u001B[39;49m\u001B[43m_transform\u001B[49m\u001B[43m(\u001B[49m\u001B[43mX\u001B[49m\u001B[43m)\u001B[49m\n",
      "File \u001B[0;32m~/opt/miniconda3/envs/pytorch/lib/python3.10/site-packages/sklearn/feature_selection/_base.py:94\u001B[0m, in \u001B[0;36mSelectorMixin._transform\u001B[0;34m(self, X)\u001B[0m\n\u001B[1;32m     92\u001B[0m \u001B[38;5;28;01mdef\u001B[39;00m \u001B[38;5;21m_transform\u001B[39m(\u001B[38;5;28mself\u001B[39m, X):\n\u001B[1;32m     93\u001B[0m     \u001B[38;5;124;03m\"\"\"Reduce X to the selected features.\"\"\"\u001B[39;00m\n\u001B[0;32m---> 94\u001B[0m     mask \u001B[38;5;241m=\u001B[39m \u001B[38;5;28;43mself\u001B[39;49m\u001B[38;5;241;43m.\u001B[39;49m\u001B[43mget_support\u001B[49m\u001B[43m(\u001B[49m\u001B[43m)\u001B[49m\n\u001B[1;32m     95\u001B[0m     \u001B[38;5;28;01mif\u001B[39;00m \u001B[38;5;129;01mnot\u001B[39;00m mask\u001B[38;5;241m.\u001B[39many():\n\u001B[1;32m     96\u001B[0m         warnings\u001B[38;5;241m.\u001B[39mwarn(\n\u001B[1;32m     97\u001B[0m             \u001B[38;5;124m\"\u001B[39m\u001B[38;5;124mNo features were selected: either the data is\u001B[39m\u001B[38;5;124m\"\u001B[39m\n\u001B[1;32m     98\u001B[0m             \u001B[38;5;124m\"\u001B[39m\u001B[38;5;124m too noisy or the selection test too strict.\u001B[39m\u001B[38;5;124m\"\u001B[39m,\n\u001B[1;32m     99\u001B[0m             \u001B[38;5;167;01mUserWarning\u001B[39;00m,\n\u001B[1;32m    100\u001B[0m         )\n",
      "File \u001B[0;32m~/opt/miniconda3/envs/pytorch/lib/python3.10/site-packages/sklearn/feature_selection/_base.py:53\u001B[0m, in \u001B[0;36mSelectorMixin.get_support\u001B[0;34m(self, indices)\u001B[0m\n\u001B[1;32m     33\u001B[0m \u001B[38;5;28;01mdef\u001B[39;00m \u001B[38;5;21mget_support\u001B[39m(\u001B[38;5;28mself\u001B[39m, indices\u001B[38;5;241m=\u001B[39m\u001B[38;5;28;01mFalse\u001B[39;00m):\n\u001B[1;32m     34\u001B[0m     \u001B[38;5;124;03m\"\"\"\u001B[39;00m\n\u001B[1;32m     35\u001B[0m \u001B[38;5;124;03m    Get a mask, or integer index, of the features selected.\u001B[39;00m\n\u001B[1;32m     36\u001B[0m \n\u001B[0;32m   (...)\u001B[0m\n\u001B[1;32m     51\u001B[0m \u001B[38;5;124;03m        values are indices into the input feature vector.\u001B[39;00m\n\u001B[1;32m     52\u001B[0m \u001B[38;5;124;03m    \"\"\"\u001B[39;00m\n\u001B[0;32m---> 53\u001B[0m     mask \u001B[38;5;241m=\u001B[39m \u001B[38;5;28;43mself\u001B[39;49m\u001B[38;5;241;43m.\u001B[39;49m\u001B[43m_get_support_mask\u001B[49m\u001B[43m(\u001B[49m\u001B[43m)\u001B[49m\n\u001B[1;32m     54\u001B[0m     \u001B[38;5;28;01mreturn\u001B[39;00m mask \u001B[38;5;28;01mif\u001B[39;00m \u001B[38;5;129;01mnot\u001B[39;00m indices \u001B[38;5;28;01melse\u001B[39;00m np\u001B[38;5;241m.\u001B[39mwhere(mask)[\u001B[38;5;241m0\u001B[39m]\n",
      "File \u001B[0;32m~/opt/miniconda3/envs/pytorch/lib/python3.10/site-packages/sklearn/feature_selection/_from_model.py:277\u001B[0m, in \u001B[0;36mSelectFromModel._get_support_mask\u001B[0;34m(self)\u001B[0m\n\u001B[1;32m    269\u001B[0m \u001B[38;5;28;01melif\u001B[39;00m max_features \u001B[38;5;129;01mis\u001B[39;00m \u001B[38;5;129;01mnot\u001B[39;00m \u001B[38;5;28;01mNone\u001B[39;00m \u001B[38;5;129;01mand\u001B[39;00m \u001B[38;5;129;01mnot\u001B[39;00m \u001B[38;5;28misinstance\u001B[39m(\n\u001B[1;32m    270\u001B[0m     max_features, numbers\u001B[38;5;241m.\u001B[39mIntegral\n\u001B[1;32m    271\u001B[0m ):\n\u001B[1;32m    272\u001B[0m     \u001B[38;5;28;01mraise\u001B[39;00m \u001B[38;5;167;01mValueError\u001B[39;00m(\n\u001B[1;32m    273\u001B[0m         \u001B[38;5;124mf\u001B[39m\u001B[38;5;124m\"\u001B[39m\u001B[38;5;124m`max_features` must be an integer. Got `max_features=\u001B[39m\u001B[38;5;132;01m{\u001B[39;00mmax_features\u001B[38;5;132;01m}\u001B[39;00m\u001B[38;5;124m` \u001B[39m\u001B[38;5;124m\"\u001B[39m\n\u001B[1;32m    274\u001B[0m         \u001B[38;5;124m\"\u001B[39m\u001B[38;5;124minstead.\u001B[39m\u001B[38;5;124m\"\u001B[39m\n\u001B[1;32m    275\u001B[0m     )\n\u001B[0;32m--> 277\u001B[0m scores \u001B[38;5;241m=\u001B[39m \u001B[43m_get_feature_importances\u001B[49m\u001B[43m(\u001B[49m\n\u001B[1;32m    278\u001B[0m \u001B[43m    \u001B[49m\u001B[43mestimator\u001B[49m\u001B[38;5;241;43m=\u001B[39;49m\u001B[43mestimator\u001B[49m\u001B[43m,\u001B[49m\n\u001B[1;32m    279\u001B[0m \u001B[43m    \u001B[49m\u001B[43mgetter\u001B[49m\u001B[38;5;241;43m=\u001B[39;49m\u001B[38;5;28;43mself\u001B[39;49m\u001B[38;5;241;43m.\u001B[39;49m\u001B[43mimportance_getter\u001B[49m\u001B[43m,\u001B[49m\n\u001B[1;32m    280\u001B[0m \u001B[43m    \u001B[49m\u001B[43mtransform_func\u001B[49m\u001B[38;5;241;43m=\u001B[39;49m\u001B[38;5;124;43m\"\u001B[39;49m\u001B[38;5;124;43mnorm\u001B[39;49m\u001B[38;5;124;43m\"\u001B[39;49m\u001B[43m,\u001B[49m\n\u001B[1;32m    281\u001B[0m \u001B[43m    \u001B[49m\u001B[43mnorm_order\u001B[49m\u001B[38;5;241;43m=\u001B[39;49m\u001B[38;5;28;43mself\u001B[39;49m\u001B[38;5;241;43m.\u001B[39;49m\u001B[43mnorm_order\u001B[49m\u001B[43m,\u001B[49m\n\u001B[1;32m    282\u001B[0m \u001B[43m\u001B[49m\u001B[43m)\u001B[49m\n\u001B[1;32m    283\u001B[0m threshold \u001B[38;5;241m=\u001B[39m _calculate_threshold(estimator, scores, \u001B[38;5;28mself\u001B[39m\u001B[38;5;241m.\u001B[39mthreshold)\n\u001B[1;32m    284\u001B[0m \u001B[38;5;28;01mif\u001B[39;00m \u001B[38;5;28mself\u001B[39m\u001B[38;5;241m.\u001B[39mmax_features \u001B[38;5;129;01mis\u001B[39;00m \u001B[38;5;129;01mnot\u001B[39;00m \u001B[38;5;28;01mNone\u001B[39;00m:\n",
      "File \u001B[0;32m~/opt/miniconda3/envs/pytorch/lib/python3.10/site-packages/sklearn/feature_selection/_base.py:208\u001B[0m, in \u001B[0;36m_get_feature_importances\u001B[0;34m(estimator, getter, transform_func, norm_order)\u001B[0m\n\u001B[1;32m    206\u001B[0m         getter \u001B[38;5;241m=\u001B[39m attrgetter(\u001B[38;5;124m\"\u001B[39m\u001B[38;5;124mfeature_importances_\u001B[39m\u001B[38;5;124m\"\u001B[39m)\n\u001B[1;32m    207\u001B[0m     \u001B[38;5;28;01melse\u001B[39;00m:\n\u001B[0;32m--> 208\u001B[0m         \u001B[38;5;28;01mraise\u001B[39;00m \u001B[38;5;167;01mValueError\u001B[39;00m(\n\u001B[1;32m    209\u001B[0m             \u001B[38;5;124m\"\u001B[39m\u001B[38;5;124mwhen `importance_getter==\u001B[39m\u001B[38;5;124m'\u001B[39m\u001B[38;5;124mauto\u001B[39m\u001B[38;5;124m'\u001B[39m\u001B[38;5;124m`, the underlying \u001B[39m\u001B[38;5;124m\"\u001B[39m\n\u001B[1;32m    210\u001B[0m             \u001B[38;5;124mf\u001B[39m\u001B[38;5;124m\"\u001B[39m\u001B[38;5;124mestimator \u001B[39m\u001B[38;5;132;01m{\u001B[39;00mestimator\u001B[38;5;241m.\u001B[39m\u001B[38;5;18m__class__\u001B[39m\u001B[38;5;241m.\u001B[39m\u001B[38;5;18m__name__\u001B[39m\u001B[38;5;132;01m}\u001B[39;00m\u001B[38;5;124m should have \u001B[39m\u001B[38;5;124m\"\u001B[39m\n\u001B[1;32m    211\u001B[0m             \u001B[38;5;124m\"\u001B[39m\u001B[38;5;124m`coef_` or `feature_importances_` attribute. Either \u001B[39m\u001B[38;5;124m\"\u001B[39m\n\u001B[1;32m    212\u001B[0m             \u001B[38;5;124m\"\u001B[39m\u001B[38;5;124mpass a fitted estimator to feature selector or call fit \u001B[39m\u001B[38;5;124m\"\u001B[39m\n\u001B[1;32m    213\u001B[0m             \u001B[38;5;124m\"\u001B[39m\u001B[38;5;124mbefore calling transform.\u001B[39m\u001B[38;5;124m\"\u001B[39m\n\u001B[1;32m    214\u001B[0m         )\n\u001B[1;32m    215\u001B[0m \u001B[38;5;28;01melse\u001B[39;00m:\n\u001B[1;32m    216\u001B[0m     getter \u001B[38;5;241m=\u001B[39m attrgetter(getter)\n",
      "\u001B[0;31mValueError\u001B[0m: when `importance_getter=='auto'`, the underlying estimator RandomUnderSampler should have `coef_` or `feature_importances_` attribute. Either pass a fitted estimator to feature selector or call fit before calling transform."
     ]
    }
   ],
   "source": [
    "fit_xgboost(dropped_X, y, rus)"
   ],
   "metadata": {
    "collapsed": false,
    "pycharm": {
     "name": "#%%\n"
    }
   }
  },
  {
   "cell_type": "code",
   "execution_count": 167,
   "outputs": [
    {
     "name": "stdout",
     "output_type": "stream",
     "text": [
      "shape x: (28452, 50)\n",
      "shape y: (18969, 50)\n",
      "0.9907744214244293 [[8956   30]\n",
      " [  82 9255]]\n"
     ]
    },
    {
     "data": {
      "text/plain": "<Figure size 640x480 with 1 Axes>",
      "image/png": "[encoded data removed]"
     },
     "metadata": {},
     "output_type": "display_data"
    },
    {
     "data": {
      "text/plain": "<Figure size 640x480 with 2 Axes>",
      "image/png": "[encoded data removed]"
     },
     "metadata": {},
     "output_type": "display_data"
    }
   ],
   "source": [
    "fit_xgboost(dropped_X, y, adasyn)"
   ],
   "metadata": {
    "collapsed": false,
    "pycharm": {
     "name": "#%%\n"
    }
   }
  },
  {
   "cell_type": "markdown",
   "source": [],
   "metadata": {
    "collapsed": false,
    "pycharm": {
     "name": "#%% md\n"
    }
   }
  },
  {
   "cell_type": "markdown",
   "source": [],
   "metadata": {
    "collapsed": false,
    "pycharm": {
     "name": "#%% md\n"
    }
   }
  },
  {
   "cell_type": "markdown",
   "source": [],
   "metadata": {
    "collapsed": false,
    "pycharm": {
     "name": "#%% md\n"
    }
   }
  },
  {
   "cell_type": "markdown",
   "source": [],
   "metadata": {
    "collapsed": false,
    "pycharm": {
     "name": "#%% md\n"
    }
   }
  },
  {
   "cell_type": "markdown",
   "source": [],
   "metadata": {
    "collapsed": false,
    "pycharm": {
     "name": "#%% md\n"
    }
   }
  },
  {
   "cell_type": "markdown",
   "source": [],
   "metadata": {
    "collapsed": false,
    "pycharm": {
     "name": "#%% md\n"
    }
   }
  },
  {
   "cell_type": "markdown",
   "source": [],
   "metadata": {
    "collapsed": false,
    "pycharm": {
     "name": "#%% md\n"
    }
   }
  },
  {
   "cell_type": "markdown",
   "source": [],
   "metadata": {
    "collapsed": false,
    "pycharm": {
     "name": "#%% md\n"
    }
   }
  },
  {
   "cell_type": "markdown",
   "source": [
    "### Training XGBoost - Over sampling"
   ],
   "metadata": {
    "collapsed": false,
    "pycharm": {
     "name": "#%% md\n"
    }
   }
  },
  {
   "cell_type": "code",
   "execution_count": 46,
   "outputs": [
    {
     "data": {
      "text/plain": "((22903, 11), (22903, 11))"
     },
     "execution_count": 46,
     "metadata": {},
     "output_type": "execute_result"
    }
   ],
   "source": [
    "from imblearn.over_sampling import SMOTE\n",
    "\n",
    "smote = SMOTE()\n",
    "\n",
    "X_smote_prep = copy.deepcopy(X)\n",
    "X_smote_prep = X_smote_prep.dropna()\n",
    "X_smote_prep = X_smote_prep.drop(['cust_id', 'data_label'], axis=1)\n",
    "y_smote_prep = X_smote_prep['sar_flag']\n",
    "X_smote, y_smote = smote.fit_resample(X_smote_prep, y_smote_prep)\n",
    "X_smote.shape\n",
    "X_smote[X_smote['sar_flag'] == 1.0].shape, X_smote[X_smote['sar_flag'] == 0.0].shape"
   ],
   "metadata": {
    "collapsed": false,
    "pycharm": {
     "name": "#%%\n"
    }
   }
  },
  {
   "cell_type": "code",
   "execution_count": 47,
   "outputs": [
    {
     "data": {
      "text/plain": "       alert_key  risk_rank  occupation_code   total_asset  AGE  date  \\\n20012     328400          1        12.000000  5.001990e+05    2   323   \n13971     283603          1        13.000000  0.000000e+00    3   244   \n40819     186974          1        18.921983  1.041448e+04    2    31   \n43705     229747          2        11.193131  7.424337e+06    4   126   \n20733     334830          1         7.000000  0.000000e+00    5   335   \n\n       sar_flag  AGE_encoding  risk_rank_encoding  date_encoding  \\\n20012       0.0      1.291712            1.293184       0.000000   \n13971       0.0      1.139073            1.293184       0.943396   \n40819       1.0      1.291712            1.293184       2.294500   \n43705       1.0      0.837438            0.422531       1.836086   \n20733       0.0      0.726172            1.293184       0.000000   \n\n       occupation_code_encoding  \n20012                  0.758534  \n13971                  1.693002  \n40819                  0.946656  \n43705                  2.249087  \n20733                  0.000000  ",
      "text/html": "<div>\n<style scoped>\n    .dataframe tbody tr th:only-of-type {\n        vertical-align: middle;\n    }\n\n    .dataframe tbody tr th {\n        vertical-align: top;\n    }\n\n    .dataframe thead th {\n        text-align: right;\n    }\n</style>\n<table border=\"1\" class=\"dataframe\">\n  <thead>\n    <tr style=\"text-align: right;\">\n      <th></th>\n      <th>alert_key</th>\n      <th>risk_rank</th>\n      <th>occupation_code</th>\n      <th>total_asset</th>\n      <th>AGE</th>\n      <th>date</th>\n      <th>sar_flag</th>\n      <th>AGE_encoding</th>\n      <th>risk_rank_encoding</th>\n      <th>date_encoding</th>\n      <th>occupation_code_encoding</th>\n    </tr>\n  </thead>\n  <tbody>\n    <tr>\n      <th>20012</th>\n      <td>328400</td>\n      <td>1</td>\n      <td>12.000000</td>\n      <td>5.001990e+05</td>\n      <td>2</td>\n      <td>323</td>\n      <td>0.0</td>\n      <td>1.291712</td>\n      <td>1.293184</td>\n      <td>0.000000</td>\n      <td>0.758534</td>\n    </tr>\n    <tr>\n      <th>13971</th>\n      <td>283603</td>\n      <td>1</td>\n      <td>13.000000</td>\n      <td>0.000000e+00</td>\n      <td>3</td>\n      <td>244</td>\n      <td>0.0</td>\n      <td>1.139073</td>\n      <td>1.293184</td>\n      <td>0.943396</td>\n      <td>1.693002</td>\n    </tr>\n    <tr>\n      <th>40819</th>\n      <td>186974</td>\n      <td>1</td>\n      <td>18.921983</td>\n      <td>1.041448e+04</td>\n      <td>2</td>\n      <td>31</td>\n      <td>1.0</td>\n      <td>1.291712</td>\n      <td>1.293184</td>\n      <td>2.294500</td>\n      <td>0.946656</td>\n    </tr>\n    <tr>\n      <th>43705</th>\n      <td>229747</td>\n      <td>2</td>\n      <td>11.193131</td>\n      <td>7.424337e+06</td>\n      <td>4</td>\n      <td>126</td>\n      <td>1.0</td>\n      <td>0.837438</td>\n      <td>0.422531</td>\n      <td>1.836086</td>\n      <td>2.249087</td>\n    </tr>\n    <tr>\n      <th>20733</th>\n      <td>334830</td>\n      <td>1</td>\n      <td>7.000000</td>\n      <td>0.000000e+00</td>\n      <td>5</td>\n      <td>335</td>\n      <td>0.0</td>\n      <td>0.726172</td>\n      <td>1.293184</td>\n      <td>0.000000</td>\n      <td>0.000000</td>\n    </tr>\n  </tbody>\n</table>\n</div>"
     },
     "execution_count": 47,
     "metadata": {},
     "output_type": "execute_result"
    }
   ],
   "source": [
    "import xgboost as xgb\n",
    "from sklearn.metrics import confusion_matrix\n",
    "import pandas as pd\n",
    "import numpy as np\n",
    "from sklearn.model_selection import train_test_split\n",
    "\n",
    "X_train_smote, X_test_smote, y_train_smote, y_test_smote = train_test_split(X_smote, y_smote, test_size=0.4,\n",
    "                                                                            random_state=123)\n",
    "X_train_smote.head()"
   ],
   "metadata": {
    "collapsed": false,
    "pycharm": {
     "name": "#%%\n"
    }
   }
  },
  {
   "cell_type": "code",
   "execution_count": 48,
   "outputs": [],
   "source": [
    "import seaborn as sns\n",
    "from sklearn.metrics import accuracy_score"
   ],
   "metadata": {
    "collapsed": false,
    "pycharm": {
     "name": "#%%\n"
    }
   }
  },
  {
   "cell_type": "code",
   "execution_count": 49,
   "outputs": [],
   "source": [
    "drop_features_smote = [\"alert_key\", \"sar_flag\"]\n",
    "X_train_smote = X_train_smote.drop(drop_features_smote, axis=1)\n",
    "X_test_smote = X_test_smote.drop(drop_features_smote, axis=1)"
   ],
   "metadata": {
    "collapsed": false,
    "pycharm": {
     "name": "#%%\n"
    }
   }
  },
  {
   "cell_type": "code",
   "execution_count": 50,
   "outputs": [
    {
     "data": {
      "text/plain": "(0.9938874638432571,\n array([[8956,   30],\n        [  82, 9255]]))"
     },
     "execution_count": 50,
     "metadata": {},
     "output_type": "execute_result"
    },
    {
     "data": {
      "text/plain": "<Figure size 640x480 with 2 Axes>",
      "image/png": "[encoded data removed]"
     },
     "metadata": {},
     "output_type": "display_data"
    }
   ],
   "source": [
    "xg_cls_smote = xgb.XGBClassifier()\n",
    "xg_cls_smote.fit(X_train_smote, y_train_smote)\n",
    "\n",
    "cls_preds_smote = xg_cls_smote.predict(X_test_smote)\n",
    "\n",
    "cm_smote = confusion_matrix(y_test_smote, cls_preds_smote)\n",
    "sns.heatmap(cm_smote, annot=True)\n",
    "\n",
    "accuracy_score(y_test_smote, cls_preds_smote), cm_smote"
   ],
   "metadata": {
    "collapsed": false,
    "pycharm": {
     "name": "#%%\n"
    }
   }
  },
  {
   "cell_type": "markdown",
   "source": [],
   "metadata": {
    "collapsed": false,
    "pycharm": {
     "name": "#%% md\n"
    }
   }
  },
  {
   "cell_type": "markdown",
   "source": [
    "### Training XGBoost - Under sampling"
   ],
   "metadata": {
    "collapsed": false,
    "pycharm": {
     "name": "#%% md\n"
    }
   }
  },
  {
   "cell_type": "code",
   "execution_count": 66,
   "outputs": [],
   "source": [
    "from imblearn.under_sampling import RandomUnderSampler\n",
    "\n",
    "undersample = RandomUnderSampler()\n",
    "X_under, y_under = undersample.fit_resample(X, y)"
   ],
   "metadata": {
    "collapsed": false,
    "pycharm": {
     "name": "#%%\n"
    }
   }
  },
  {
   "cell_type": "code",
   "execution_count": 67,
   "outputs": [
    {
     "data": {
      "text/plain": "(468, 13)"
     },
     "execution_count": 67,
     "metadata": {},
     "output_type": "execute_result"
    }
   ],
   "source": [
    "X_under.shape"
   ],
   "metadata": {
    "collapsed": false,
    "pycharm": {
     "name": "#%%\n"
    }
   }
  },
  {
   "cell_type": "code",
   "execution_count": 73,
   "outputs": [],
   "source": [
    "X_train, X_test, y_train, y_test = train_test_split(X_under, y_under, test_size=0.2, random_state=123)"
   ],
   "metadata": {
    "collapsed": false,
    "pycharm": {
     "name": "#%%\n"
    }
   }
  },
  {
   "cell_type": "markdown",
   "source": [
    "### Experiment with encoding\n",
    "Three scenarios\n",
    "1. Only original features\n",
    "2. Only encoding features\n",
    "3. Original + Encoding features"
   ],
   "metadata": {
    "collapsed": false,
    "pycharm": {
     "name": "#%% md\n"
    }
   }
  },
  {
   "cell_type": "code",
   "execution_count": 74,
   "outputs": [],
   "source": [
    "# only encoding feature\n",
    "drop_features = [\"alert_key\", \"cust_id\", \"data_label\", \"sar_flag\", \"AGE\", \"date\", \"risk_rank\", \"occupation_code\"]\n",
    "\n",
    "# only original feature\n",
    "# drop_features = [\"alert_key\", \"cust_id\", \"data_label\", \"sar_flag\",\"AGE_encoding\",\"date_encoding\",\"risk_rank_encoding\",\"occupation_code_encoding\"]\n",
    "\n",
    "# original + encoding feature\n",
    "# drop_features = [\"alert_key\", \"cust_id\", \"data_label\", \"sar_flag\"]\n",
    "\n",
    "test = cinfo[cinfo['data_label'] == 'test']\n",
    "X_train = X_train.drop(drop_features, axis=1)\n",
    "X_test = X_test.drop(drop_features, axis=1)\n",
    "test = test.drop(drop_features, axis=1)"
   ],
   "metadata": {
    "collapsed": false,
    "pycharm": {
     "name": "#%%\n"
    }
   }
  },
  {
   "cell_type": "code",
   "execution_count": 75,
   "outputs": [
    {
     "data": {
      "text/plain": "     total_asset  AGE_encoding  risk_rank_encoding  date_encoding  \\\n148      10692.0      0.556931            1.293184       0.000000   \n131      63344.0      0.837438            0.214133       0.000000   \n437      72355.0      1.139073            1.293184       1.098901   \n317     867571.0      1.139073            0.214133       3.896104   \n400      84616.0      1.139073            0.214133       0.862069   \n\n     occupation_code_encoding  \n148                  0.563014  \n131                  1.693002  \n437                  1.062135  \n317                  0.946970  \n400                  0.946970  ",
      "text/html": "<div>\n<style scoped>\n    .dataframe tbody tr th:only-of-type {\n        vertical-align: middle;\n    }\n\n    .dataframe tbody tr th {\n        vertical-align: top;\n    }\n\n    .dataframe thead th {\n        text-align: right;\n    }\n</style>\n<table border=\"1\" class=\"dataframe\">\n  <thead>\n    <tr style=\"text-align: right;\">\n      <th></th>\n      <th>total_asset</th>\n      <th>AGE_encoding</th>\n      <th>risk_rank_encoding</th>\n      <th>date_encoding</th>\n      <th>occupation_code_encoding</th>\n    </tr>\n  </thead>\n  <tbody>\n    <tr>\n      <th>148</th>\n      <td>10692.0</td>\n      <td>0.556931</td>\n      <td>1.293184</td>\n      <td>0.000000</td>\n      <td>0.563014</td>\n    </tr>\n    <tr>\n      <th>131</th>\n      <td>63344.0</td>\n      <td>0.837438</td>\n      <td>0.214133</td>\n      <td>0.000000</td>\n      <td>1.693002</td>\n    </tr>\n    <tr>\n      <th>437</th>\n      <td>72355.0</td>\n      <td>1.139073</td>\n      <td>1.293184</td>\n      <td>1.098901</td>\n      <td>1.062135</td>\n    </tr>\n    <tr>\n      <th>317</th>\n      <td>867571.0</td>\n      <td>1.139073</td>\n      <td>0.214133</td>\n      <td>3.896104</td>\n      <td>0.946970</td>\n    </tr>\n    <tr>\n      <th>400</th>\n      <td>84616.0</td>\n      <td>1.139073</td>\n      <td>0.214133</td>\n      <td>0.862069</td>\n      <td>0.946970</td>\n    </tr>\n  </tbody>\n</table>\n</div>"
     },
     "execution_count": 75,
     "metadata": {},
     "output_type": "execute_result"
    }
   ],
   "source": [
    "X_train.head()"
   ],
   "metadata": {
    "collapsed": false,
    "pycharm": {
     "name": "#%%\n"
    }
   }
  },
  {
   "cell_type": "code",
   "execution_count": 76,
   "outputs": [],
   "source": [
    "xg_cls = xgb.XGBClassifier()\n",
    "xg_cls.fit(X_train, y_train)\n",
    "\n",
    "cls_preds = xg_cls.predict(X_test)"
   ],
   "metadata": {
    "collapsed": false,
    "pycharm": {
     "name": "#%%\n"
    }
   }
  },
  {
   "cell_type": "markdown",
   "source": [
    "The results are as follows:\n",
    "- `0.7340425531914894` > only original features\n",
    "- `0.8085106382978723` > only encoding features\n",
    "- `0.776595744680851` > with encoding and original features"
   ],
   "metadata": {
    "collapsed": false,
    "pycharm": {
     "name": "#%% md\n"
    }
   }
  },
  {
   "cell_type": "code",
   "execution_count": 77,
   "outputs": [
    {
     "data": {
      "text/plain": "(0.776595744680851,\n array([[34, 13],\n        [ 8, 39]]))"
     },
     "execution_count": 77,
     "metadata": {},
     "output_type": "execute_result"
    },
    {
     "data": {
      "text/plain": "<Figure size 640x480 with 2 Axes>",
      "image/png": "[encoded data removed]"
     },
     "metadata": {},
     "output_type": "display_data"
    }
   ],
   "source": [
    "import seaborn as sns\n",
    "from sklearn.metrics import accuracy_score\n",
    "\n",
    "cm = confusion_matrix(y_test, cls_preds)\n",
    "sns.heatmap(cm, annot=True)\n",
    "accuracy_score(y_test, cls_preds), cm\n",
    "#\n",
    "# 0.6808510638297872 > only original features\n",
    "# 0.776595744680851 > only encoding features\n",
    "# 0.7127659574468085 > with encoding and original features\n"
   ],
   "metadata": {
    "collapsed": false,
    "pycharm": {
     "name": "#%%\n"
    }
   }
  },
  {
   "cell_type": "code",
   "execution_count": 58,
   "outputs": [
    {
     "data": {
      "text/plain": "[0.006731611210852861,\n 0.0007325871265493333,\n 0.006731611210852861,\n 0.0012261646334081888,\n 0.003728470765054226,\n 0.0010974747128784657,\n 0.002279371488839388,\n 0.01661984995007515,\n 0.0013915064046159387,\n 0.0019510122947394848]"
     },
     "execution_count": 58,
     "metadata": {},
     "output_type": "execute_result"
    }
   ],
   "source": [
    "prob_test = [prob[1] for prob in xg_cls.predict_proba(test).tolist()]\n",
    "prob_test[:10]"
   ],
   "metadata": {
    "collapsed": false,
    "pycharm": {
     "name": "#%%\n"
    }
   }
  },
  {
   "cell_type": "code",
   "execution_count": 59,
   "outputs": [
    {
     "data": {
      "text/plain": "(2005, 2)"
     },
     "execution_count": 59,
     "metadata": {},
     "output_type": "execute_result"
    }
   ],
   "source": [
    "non_predicted_key = sample[~sample['alert_key'].isin(test_alert_keys)]\n",
    "non_predicted_key = non_predicted_key.assign(probability=0)\n",
    "non_predicted_key.shape"
   ],
   "metadata": {
    "collapsed": false,
    "pycharm": {
     "name": "#%%\n"
    }
   }
  },
  {
   "cell_type": "code",
   "execution_count": 60,
   "outputs": [
    {
     "data": {
      "text/plain": "((3850, 2),\n       alert_key  probability\n 1689     364048     0.202310\n 195      354047     0.192471\n 1419     361859     0.191954\n 147      353566     0.191954\n 1804     364718     0.177091)"
     },
     "execution_count": 60,
     "metadata": {},
     "output_type": "execute_result"
    }
   ],
   "source": [
    "submission = pd.concat([test_alert_keys, pd.DataFrame({'probability': prob_test})], axis=1)\n",
    "submission = submission.sort_values(by=['probability'], ascending=False)\n",
    "submission = pd.concat([submission, non_predicted_key])\n",
    "submission.shape, submission.head()"
   ],
   "metadata": {
    "collapsed": false,
    "pycharm": {
     "name": "#%%\n"
    }
   }
  },
  {
   "cell_type": "code",
   "execution_count": 61,
   "outputs": [],
   "source": [
    "submission.to_csv(\"submission_xgboost.csv\", index=False)"
   ],
   "metadata": {
    "collapsed": false,
    "pycharm": {
     "name": "#%%\n"
    }
   }
  },
  {
   "cell_type": "markdown",
   "source": [],
   "metadata": {
    "collapsed": false,
    "pycharm": {
     "name": "#%% md\n"
    }
   }
  },
  {
   "cell_type": "markdown",
   "source": [],
   "metadata": {
    "collapsed": false,
    "pycharm": {
     "name": "#%% md\n"
    }
   }
  },
  {
   "cell_type": "markdown",
   "source": [],
   "metadata": {
    "collapsed": false,
    "pycharm": {
     "name": "#%% md\n"
    }
   }
  },
  {
   "cell_type": "markdown",
   "source": [
    "### Aggregation using down-sampling data"
   ],
   "metadata": {
    "collapsed": false,
    "pycharm": {
     "name": "#%% md\n"
    }
   }
  },
  {
   "cell_type": "code",
   "execution_count": 62,
   "outputs": [],
   "source": [
    "local_path = \"/Users/kneskung/Code/Datamining/esun_sar_baseline/src/\"\n",
    "CCBA_PATH = local_path + 'train_first/public_train_x_ccba_full_hashed.csv'\n",
    "ccba = pd.read_csv(CCBA_PATH)"
   ],
   "metadata": {
    "collapsed": false,
    "pycharm": {
     "name": "#%%\n"
    }
   }
  },
  {
   "cell_type": "code",
   "execution_count": 62,
   "outputs": [],
   "source": [],
   "metadata": {
    "collapsed": false,
    "pycharm": {
     "name": "#%%\n"
    }
   }
  },
  {
   "cell_type": "code",
   "execution_count": 63,
   "outputs": [
    {
     "data": {
      "text/plain": "array(['0172056578071e83399216fcd640bdc4de4583149d0fd936a363abe0724afc1c',\n       '0174dff6a8a2038f9966d61d8450e19e3bd751e4051c2ace42799d171742acc1',\n       '01b1735c3dbf0a35c1c989bb45434ce4326b365b73db0612190e56b2858e0184',\n       ...,\n       'ffdbc1a5135cb6feddf7355e5656abf6973f21639c7b9b9c8a23f77a194369c9',\n       'ffdd3f98b841d4d0ef58ad0d63abddac83ffb5babf973cae4f00fb64ba9b859a',\n       'ffeb846f2294ec4397f800736dc1e14eb754da5425398d9a3bb81469b764b16f'],\n      dtype=object)"
     },
     "execution_count": 63,
     "metadata": {},
     "output_type": "execute_result"
    }
   ],
   "source": [
    "pd.unique(ccba.cust_id)"
   ],
   "metadata": {
    "collapsed": false,
    "pycharm": {
     "name": "#%%\n"
    }
   }
  },
  {
   "cell_type": "markdown",
   "source": [
    "## CCBA description\n",
    "    cust_id\t顧客編號\t            Customer                                                    Number\n",
    "    lupay\t上月繳款總額\t        Total payment last month\t                                Numerical\n",
    "\tbyymm\t帳務年月\t            Accounting year\tand                                         Category\n",
    "\tcycam\t信用額度\t            credits\t                                                    Numerical\n",
    "\tusgam\t已使用額度\t        Quota used\t                                                Numerical\n",
    "\tclamt\t本月分期預借現金金額\tAmount of cash advance in installments this month\t        Numerical\n",
    "\tcsamt\t本月預借現金金額\t    Cash advance amount for this month\t                        Numerical\n",
    "\tinamt\t本月分期消費金額\t    Installment spending amount for this month\t                Numerical\n",
    "\tcucsm\t本月消費金額\t        Consumption of this month\t                                Numerical\n",
    "\tcucah\t本月借現金額\t        Borrowed amount this month\t                                Numerical"
   ],
   "metadata": {
    "collapsed": false,
    "pycharm": {
     "name": "#%% md\n"
    }
   }
  },
  {
   "cell_type": "code",
   "execution_count": 64,
   "outputs": [
    {
     "data": {
      "text/plain": "                                                 cust_id    lupay  byymm  \\\n0      0172056578071e83399216fcd640bdc4de4583149d0fd9...      0.0      0   \n1      0172056578071e83399216fcd640bdc4de4583149d0fd9...      0.0     30   \n2      0172056578071e83399216fcd640bdc4de4583149d0fd9...      0.0     61   \n3      0172056578071e83399216fcd640bdc4de4583149d0fd9...      0.0     91   \n4      0172056578071e83399216fcd640bdc4de4583149d0fd9...      0.0    122   \n...                                                  ...      ...    ...   \n59070  ffeb846f2294ec4397f800736dc1e14eb754da5425398d...      0.0    244   \n59071  ffeb846f2294ec4397f800736dc1e14eb754da5425398d...  61927.0    275   \n59072  ffeb846f2294ec4397f800736dc1e14eb754da5425398d...  37297.0    306   \n59073  ffeb846f2294ec4397f800736dc1e14eb754da5425398d...  19766.0    334   \n59074  ffeb846f2294ec4397f800736dc1e14eb754da5425398d...   2591.0    365   \n\n          cycam    usgam  clamt  csamt   inamt    cucsm  cucah  \n0      152628.0      0.0    0.0    0.0     0.0      0.0    0.0  \n1      152628.0      0.0    0.0    0.0     0.0      0.0    0.0  \n2      152628.0      0.0    0.0    0.0     0.0      0.0    0.0  \n3      152628.0      0.0    0.0    0.0     0.0      0.0    0.0  \n4      152628.0      0.0    0.0    0.0     0.0      0.0    0.0  \n...         ...      ...    ...    ...     ...      ...    ...  \n59070  781570.0  63952.0    0.0    0.0     0.0  61927.0    0.0  \n59071  781570.0  37297.0    0.0    0.0     0.0  37276.0    0.0  \n59072  781570.0  45413.0    0.0    0.0     0.0  19766.0    0.0  \n59073  781570.0  26360.0    0.0    0.0  1142.0   2568.0    0.0  \n59074  781570.0  23903.0    0.0    0.0  5199.0   5199.0    0.0  \n\n[59075 rows x 10 columns]",
      "text/html": "<div>\n<style scoped>\n    .dataframe tbody tr th:only-of-type {\n        vertical-align: middle;\n    }\n\n    .dataframe tbody tr th {\n        vertical-align: top;\n    }\n\n    .dataframe thead th {\n        text-align: right;\n    }\n</style>\n<table border=\"1\" class=\"dataframe\">\n  <thead>\n    <tr style=\"text-align: right;\">\n      <th></th>\n      <th>cust_id</th>\n      <th>lupay</th>\n      <th>byymm</th>\n      <th>cycam</th>\n      <th>usgam</th>\n      <th>clamt</th>\n      <th>csamt</th>\n      <th>inamt</th>\n      <th>cucsm</th>\n      <th>cucah</th>\n    </tr>\n  </thead>\n  <tbody>\n    <tr>\n      <th>0</th>\n      <td>0172056578071e83399216fcd640bdc4de4583149d0fd9...</td>\n      <td>0.0</td>\n      <td>0</td>\n      <td>152628.0</td>\n      <td>0.0</td>\n      <td>0.0</td>\n      <td>0.0</td>\n      <td>0.0</td>\n      <td>0.0</td>\n      <td>0.0</td>\n    </tr>\n    <tr>\n      <th>1</th>\n      <td>0172056578071e83399216fcd640bdc4de4583149d0fd9...</td>\n      <td>0.0</td>\n      <td>30</td>\n      <td>152628.0</td>\n      <td>0.0</td>\n      <td>0.0</td>\n      <td>0.0</td>\n      <td>0.0</td>\n      <td>0.0</td>\n      <td>0.0</td>\n    </tr>\n    <tr>\n      <th>2</th>\n      <td>0172056578071e83399216fcd640bdc4de4583149d0fd9...</td>\n      <td>0.0</td>\n      <td>61</td>\n      <td>152628.0</td>\n      <td>0.0</td>\n      <td>0.0</td>\n      <td>0.0</td>\n      <td>0.0</td>\n      <td>0.0</td>\n      <td>0.0</td>\n    </tr>\n    <tr>\n      <th>3</th>\n      <td>0172056578071e83399216fcd640bdc4de4583149d0fd9...</td>\n      <td>0.0</td>\n      <td>91</td>\n      <td>152628.0</td>\n      <td>0.0</td>\n      <td>0.0</td>\n      <td>0.0</td>\n      <td>0.0</td>\n      <td>0.0</td>\n      <td>0.0</td>\n    </tr>\n    <tr>\n      <th>4</th>\n      <td>0172056578071e83399216fcd640bdc4de4583149d0fd9...</td>\n      <td>0.0</td>\n      <td>122</td>\n      <td>152628.0</td>\n      <td>0.0</td>\n      <td>0.0</td>\n      <td>0.0</td>\n      <td>0.0</td>\n      <td>0.0</td>\n      <td>0.0</td>\n    </tr>\n    <tr>\n      <th>...</th>\n      <td>...</td>\n      <td>...</td>\n      <td>...</td>\n      <td>...</td>\n      <td>...</td>\n      <td>...</td>\n      <td>...</td>\n      <td>...</td>\n      <td>...</td>\n      <td>...</td>\n    </tr>\n    <tr>\n      <th>59070</th>\n      <td>ffeb846f2294ec4397f800736dc1e14eb754da5425398d...</td>\n      <td>0.0</td>\n      <td>244</td>\n      <td>781570.0</td>\n      <td>63952.0</td>\n      <td>0.0</td>\n      <td>0.0</td>\n      <td>0.0</td>\n      <td>61927.0</td>\n      <td>0.0</td>\n    </tr>\n    <tr>\n      <th>59071</th>\n      <td>ffeb846f2294ec4397f800736dc1e14eb754da5425398d...</td>\n      <td>61927.0</td>\n      <td>275</td>\n      <td>781570.0</td>\n      <td>37297.0</td>\n      <td>0.0</td>\n      <td>0.0</td>\n      <td>0.0</td>\n      <td>37276.0</td>\n      <td>0.0</td>\n    </tr>\n    <tr>\n      <th>59072</th>\n      <td>ffeb846f2294ec4397f800736dc1e14eb754da5425398d...</td>\n      <td>37297.0</td>\n      <td>306</td>\n      <td>781570.0</td>\n      <td>45413.0</td>\n      <td>0.0</td>\n      <td>0.0</td>\n      <td>0.0</td>\n      <td>19766.0</td>\n      <td>0.0</td>\n    </tr>\n    <tr>\n      <th>59073</th>\n      <td>ffeb846f2294ec4397f800736dc1e14eb754da5425398d...</td>\n      <td>19766.0</td>\n      <td>334</td>\n      <td>781570.0</td>\n      <td>26360.0</td>\n      <td>0.0</td>\n      <td>0.0</td>\n      <td>1142.0</td>\n      <td>2568.0</td>\n      <td>0.0</td>\n    </tr>\n    <tr>\n      <th>59074</th>\n      <td>ffeb846f2294ec4397f800736dc1e14eb754da5425398d...</td>\n      <td>2591.0</td>\n      <td>365</td>\n      <td>781570.0</td>\n      <td>23903.0</td>\n      <td>0.0</td>\n      <td>0.0</td>\n      <td>5199.0</td>\n      <td>5199.0</td>\n      <td>0.0</td>\n    </tr>\n  </tbody>\n</table>\n<p>59075 rows × 10 columns</p>\n</div>"
     },
     "execution_count": 64,
     "metadata": {},
     "output_type": "execute_result"
    }
   ],
   "source": [
    "from collections import Counter\n",
    "\n",
    "# From the observation each value mean month in the form of day\n",
    "ccba_counter = Counter(ccba.cust_id.tolist())\n",
    "most_common_cust_ids = [c[0] for c in ccba_counter.most_common()[:]]\n",
    "ccba_cust_sample = ccba[ccba['cust_id'].isin(most_common_cust_ids)]\n",
    "ccba_cust_sample"
   ],
   "metadata": {
    "collapsed": false,
    "pycharm": {
     "name": "#%%\n"
    }
   }
  },
  {
   "cell_type": "code",
   "execution_count": 65,
   "outputs": [
    {
     "name": "stdout",
     "output_type": "stream",
     "text": [
      "['lupay', 'byymm', 'cycam', 'usgam', 'clamt', 'csamt', 'inamt', 'cucsm', 'cucah']\n"
     ]
    },
    {
     "name": "stderr",
     "output_type": "stream",
     "text": [
      " 13%|█▎        | 618/4745 [00:11<01:19, 52.13it/s]\n"
     ]
    },
    {
     "ename": "KeyboardInterrupt",
     "evalue": "",
     "output_type": "error",
     "traceback": [
      "\u001B[0;31m---------------------------------------------------------------------------\u001B[0m",
      "\u001B[0;31mKeyboardInterrupt\u001B[0m                         Traceback (most recent call last)",
      "Input \u001B[0;32mIn [65]\u001B[0m, in \u001B[0;36m<cell line: 32>\u001B[0;34m()\u001B[0m\n\u001B[1;32m     29\u001B[0m     \u001B[38;5;28mprint\u001B[39m((\u001B[38;5;124m\"\u001B[39m\u001B[38;5;124m*\u001B[39m\u001B[38;5;124m\"\u001B[39m \u001B[38;5;241m*\u001B[39m \u001B[38;5;241m20\u001B[39m) \u001B[38;5;241m+\u001B[39m \u001B[38;5;124m\"\u001B[39m\u001B[38;5;124m Done \u001B[39m\u001B[38;5;124m\"\u001B[39m \u001B[38;5;241m+\u001B[39m (\u001B[38;5;124m\"\u001B[39m\u001B[38;5;124m*\u001B[39m\u001B[38;5;124m\"\u001B[39m \u001B[38;5;241m*\u001B[39m \u001B[38;5;241m20\u001B[39m))\n\u001B[1;32m     30\u001B[0m     \u001B[38;5;28;01mreturn\u001B[39;00m cus_dict\n\u001B[0;32m---> 32\u001B[0m aggregated_cust \u001B[38;5;241m=\u001B[39m \u001B[43mcal_ccba_stats\u001B[49m\u001B[43m(\u001B[49m\u001B[43mccba_cust_sample\u001B[49m\u001B[43m[\u001B[49m\u001B[43m:\u001B[49m\u001B[43m]\u001B[49m\u001B[43m,\u001B[49m\n\u001B[1;32m     33\u001B[0m \u001B[43m                                 \u001B[49m\u001B[43m[\u001B[49m\u001B[38;5;124;43m'\u001B[39;49m\u001B[38;5;124;43mlupay\u001B[39;49m\u001B[38;5;124;43m'\u001B[39;49m\u001B[43m,\u001B[49m\u001B[43m \u001B[49m\u001B[38;5;124;43m'\u001B[39;49m\u001B[38;5;124;43mbyymm\u001B[39;49m\u001B[38;5;124;43m'\u001B[39;49m\u001B[43m,\u001B[49m\u001B[43m \u001B[49m\u001B[38;5;124;43m'\u001B[39;49m\u001B[38;5;124;43mcycam\u001B[39;49m\u001B[38;5;124;43m'\u001B[39;49m\u001B[43m,\u001B[49m\u001B[43m \u001B[49m\u001B[38;5;124;43m'\u001B[39;49m\u001B[38;5;124;43musgam\u001B[39;49m\u001B[38;5;124;43m'\u001B[39;49m\u001B[43m,\u001B[49m\u001B[43m \u001B[49m\u001B[38;5;124;43m'\u001B[39;49m\u001B[38;5;124;43mclamt\u001B[39;49m\u001B[38;5;124;43m'\u001B[39;49m\u001B[43m,\u001B[49m\u001B[43m \u001B[49m\u001B[38;5;124;43m'\u001B[39;49m\u001B[38;5;124;43mcsamt\u001B[39;49m\u001B[38;5;124;43m'\u001B[39;49m\u001B[43m,\u001B[49m\u001B[43m \u001B[49m\u001B[38;5;124;43m'\u001B[39;49m\u001B[38;5;124;43minamt\u001B[39;49m\u001B[38;5;124;43m'\u001B[39;49m\u001B[43m,\u001B[49m\u001B[43m \u001B[49m\u001B[38;5;124;43m'\u001B[39;49m\u001B[38;5;124;43mcucsm\u001B[39;49m\u001B[38;5;124;43m'\u001B[39;49m\u001B[43m,\u001B[49m\u001B[43m \u001B[49m\u001B[38;5;124;43m'\u001B[39;49m\u001B[38;5;124;43mcucah\u001B[39;49m\u001B[38;5;124;43m'\u001B[39;49m\u001B[43m]\u001B[49m\u001B[43m)\u001B[49m\n\u001B[1;32m     34\u001B[0m aggregated_cust\n",
      "Input \u001B[0;32mIn [65]\u001B[0m, in \u001B[0;36mcal_ccba_stats\u001B[0;34m(_table, _columns)\u001B[0m\n\u001B[1;32m     11\u001B[0m statistic \u001B[38;5;241m=\u001B[39m {}\n\u001B[1;32m     12\u001B[0m \u001B[38;5;28;01mfor\u001B[39;00m col \u001B[38;5;129;01min\u001B[39;00m _columns:\n\u001B[0;32m---> 13\u001B[0m     cus_table \u001B[38;5;241m=\u001B[39m _table[\u001B[43m_table\u001B[49m\u001B[43m[\u001B[49m\u001B[38;5;124;43m'\u001B[39;49m\u001B[38;5;124;43mcust_id\u001B[39;49m\u001B[38;5;124;43m'\u001B[39;49m\u001B[43m]\u001B[49m\u001B[43m \u001B[49m\u001B[38;5;241;43m==\u001B[39;49m\u001B[43m \u001B[49m\u001B[43mcus\u001B[49m]\n\u001B[1;32m     14\u001B[0m     \u001B[38;5;66;03m# calculate all data\u001B[39;00m\n\u001B[1;32m     15\u001B[0m     statistic[col \u001B[38;5;241m+\u001B[39m \u001B[38;5;124m'\u001B[39m\u001B[38;5;124m_total_mean\u001B[39m\u001B[38;5;124m'\u001B[39m] \u001B[38;5;241m=\u001B[39m np\u001B[38;5;241m.\u001B[39mmean(cus_table[col])\n",
      "File \u001B[0;32m~/opt/miniconda3/envs/pytorch/lib/python3.10/site-packages/pandas/core/ops/common.py:72\u001B[0m, in \u001B[0;36m_unpack_zerodim_and_defer.<locals>.new_method\u001B[0;34m(self, other)\u001B[0m\n\u001B[1;32m     68\u001B[0m             \u001B[38;5;28;01mreturn\u001B[39;00m \u001B[38;5;28mNotImplemented\u001B[39m\n\u001B[1;32m     70\u001B[0m other \u001B[38;5;241m=\u001B[39m item_from_zerodim(other)\n\u001B[0;32m---> 72\u001B[0m \u001B[38;5;28;01mreturn\u001B[39;00m \u001B[43mmethod\u001B[49m\u001B[43m(\u001B[49m\u001B[38;5;28;43mself\u001B[39;49m\u001B[43m,\u001B[49m\u001B[43m \u001B[49m\u001B[43mother\u001B[49m\u001B[43m)\u001B[49m\n",
      "File \u001B[0;32m~/opt/miniconda3/envs/pytorch/lib/python3.10/site-packages/pandas/core/arraylike.py:42\u001B[0m, in \u001B[0;36mOpsMixin.__eq__\u001B[0;34m(self, other)\u001B[0m\n\u001B[1;32m     40\u001B[0m \u001B[38;5;129m@unpack_zerodim_and_defer\u001B[39m(\u001B[38;5;124m\"\u001B[39m\u001B[38;5;124m__eq__\u001B[39m\u001B[38;5;124m\"\u001B[39m)\n\u001B[1;32m     41\u001B[0m \u001B[38;5;28;01mdef\u001B[39;00m \u001B[38;5;21m__eq__\u001B[39m(\u001B[38;5;28mself\u001B[39m, other):\n\u001B[0;32m---> 42\u001B[0m     \u001B[38;5;28;01mreturn\u001B[39;00m \u001B[38;5;28;43mself\u001B[39;49m\u001B[38;5;241;43m.\u001B[39;49m\u001B[43m_cmp_method\u001B[49m\u001B[43m(\u001B[49m\u001B[43mother\u001B[49m\u001B[43m,\u001B[49m\u001B[43m \u001B[49m\u001B[43moperator\u001B[49m\u001B[38;5;241;43m.\u001B[39;49m\u001B[43meq\u001B[49m\u001B[43m)\u001B[49m\n",
      "File \u001B[0;32m~/opt/miniconda3/envs/pytorch/lib/python3.10/site-packages/pandas/core/series.py:6243\u001B[0m, in \u001B[0;36mSeries._cmp_method\u001B[0;34m(self, other, op)\u001B[0m\n\u001B[1;32m   6240\u001B[0m rvalues \u001B[38;5;241m=\u001B[39m extract_array(other, extract_numpy\u001B[38;5;241m=\u001B[39m\u001B[38;5;28;01mTrue\u001B[39;00m, extract_range\u001B[38;5;241m=\u001B[39m\u001B[38;5;28;01mTrue\u001B[39;00m)\n\u001B[1;32m   6242\u001B[0m \u001B[38;5;28;01mwith\u001B[39;00m np\u001B[38;5;241m.\u001B[39merrstate(\u001B[38;5;28mall\u001B[39m\u001B[38;5;241m=\u001B[39m\u001B[38;5;124m\"\u001B[39m\u001B[38;5;124mignore\u001B[39m\u001B[38;5;124m\"\u001B[39m):\n\u001B[0;32m-> 6243\u001B[0m     res_values \u001B[38;5;241m=\u001B[39m \u001B[43mops\u001B[49m\u001B[38;5;241;43m.\u001B[39;49m\u001B[43mcomparison_op\u001B[49m\u001B[43m(\u001B[49m\u001B[43mlvalues\u001B[49m\u001B[43m,\u001B[49m\u001B[43m \u001B[49m\u001B[43mrvalues\u001B[49m\u001B[43m,\u001B[49m\u001B[43m \u001B[49m\u001B[43mop\u001B[49m\u001B[43m)\u001B[49m\n\u001B[1;32m   6245\u001B[0m \u001B[38;5;28;01mreturn\u001B[39;00m \u001B[38;5;28mself\u001B[39m\u001B[38;5;241m.\u001B[39m_construct_result(res_values, name\u001B[38;5;241m=\u001B[39mres_name)\n",
      "File \u001B[0;32m~/opt/miniconda3/envs/pytorch/lib/python3.10/site-packages/pandas/core/ops/array_ops.py:287\u001B[0m, in \u001B[0;36mcomparison_op\u001B[0;34m(left, right, op)\u001B[0m\n\u001B[1;32m    284\u001B[0m     \u001B[38;5;28;01mreturn\u001B[39;00m invalid_comparison(lvalues, rvalues, op)\n\u001B[1;32m    286\u001B[0m \u001B[38;5;28;01melif\u001B[39;00m is_object_dtype(lvalues\u001B[38;5;241m.\u001B[39mdtype) \u001B[38;5;129;01mor\u001B[39;00m \u001B[38;5;28misinstance\u001B[39m(rvalues, \u001B[38;5;28mstr\u001B[39m):\n\u001B[0;32m--> 287\u001B[0m     res_values \u001B[38;5;241m=\u001B[39m \u001B[43mcomp_method_OBJECT_ARRAY\u001B[49m\u001B[43m(\u001B[49m\u001B[43mop\u001B[49m\u001B[43m,\u001B[49m\u001B[43m \u001B[49m\u001B[43mlvalues\u001B[49m\u001B[43m,\u001B[49m\u001B[43m \u001B[49m\u001B[43mrvalues\u001B[49m\u001B[43m)\u001B[49m\n\u001B[1;32m    289\u001B[0m \u001B[38;5;28;01melse\u001B[39;00m:\n\u001B[1;32m    290\u001B[0m     res_values \u001B[38;5;241m=\u001B[39m _na_arithmetic_op(lvalues, rvalues, op, is_cmp\u001B[38;5;241m=\u001B[39m\u001B[38;5;28;01mTrue\u001B[39;00m)\n",
      "File \u001B[0;32m~/opt/miniconda3/envs/pytorch/lib/python3.10/site-packages/pandas/core/ops/array_ops.py:75\u001B[0m, in \u001B[0;36mcomp_method_OBJECT_ARRAY\u001B[0;34m(op, x, y)\u001B[0m\n\u001B[1;32m     73\u001B[0m     result \u001B[38;5;241m=\u001B[39m libops\u001B[38;5;241m.\u001B[39mvec_compare(x\u001B[38;5;241m.\u001B[39mravel(), y\u001B[38;5;241m.\u001B[39mravel(), op)\n\u001B[1;32m     74\u001B[0m \u001B[38;5;28;01melse\u001B[39;00m:\n\u001B[0;32m---> 75\u001B[0m     result \u001B[38;5;241m=\u001B[39m \u001B[43mlibops\u001B[49m\u001B[38;5;241;43m.\u001B[39;49m\u001B[43mscalar_compare\u001B[49m\u001B[43m(\u001B[49m\u001B[43mx\u001B[49m\u001B[38;5;241;43m.\u001B[39;49m\u001B[43mravel\u001B[49m\u001B[43m(\u001B[49m\u001B[43m)\u001B[49m\u001B[43m,\u001B[49m\u001B[43m \u001B[49m\u001B[43my\u001B[49m\u001B[43m,\u001B[49m\u001B[43m \u001B[49m\u001B[43mop\u001B[49m\u001B[43m)\u001B[49m\n\u001B[1;32m     76\u001B[0m \u001B[38;5;28;01mreturn\u001B[39;00m result\u001B[38;5;241m.\u001B[39mreshape(x\u001B[38;5;241m.\u001B[39mshape)\n",
      "\u001B[0;31mKeyboardInterrupt\u001B[0m: "
     ]
    }
   ],
   "source": [
    "import numpy as np\n",
    "from tqdm import tqdm\n",
    "\n",
    "\n",
    "def cal_ccba_stats(_table, _columns):\n",
    "    cus_dict = {}\n",
    "    _cust_ids = pd.unique(_table['cust_id'])\n",
    "    _byymm = pd.unique(_table['byymm'])  # 0 1 2 3 4 5 6 ...\n",
    "\n",
    "    print(_columns)\n",
    "    for cus in tqdm(_cust_ids):\n",
    "        statistic = {}\n",
    "        for col in _columns:\n",
    "            cus_table = _table[_table['cust_id'] == cus]\n",
    "            # calculate all data\n",
    "            statistic[col + '_total_mean'] = np.mean(cus_table[col])\n",
    "            statistic[col + '_total_std'] = np.std(cus_table[col])\n",
    "            statistic[col + '_total_sum'] = np.sum(cus_table[col])\n",
    "\n",
    "            # comment them out first because the features are too sparse\n",
    "            # calculate data for each quarter\n",
    "            # range 4\n",
    "            # for q in range(4):\n",
    "            #     quarter = _byymm[((q) * 3):((q + 1) * 3)] # 0 1 2\n",
    "            #     cus_quarter = _table[(_table['cust_id'] == cus) & (_table['byymm'].isin(quarter))]\n",
    "            #     statistic[col + '_quarter' + str(q + 1) + '_mean'] = np.mean(cus_quarter[col])\n",
    "            #     statistic[col + '_quarter' + str(q + 1) + '_std'] = np.std(cus_quarter[col])\n",
    "            #     statistic[col + '_quarter' + str(q + 1) + '_sum'] = np.sum(cus_quarter[col])\n",
    "            cus_dict[cus] = statistic\n",
    "    print((\"*\" * 20) + \" Done \" + (\"*\" * 20))\n",
    "    return cus_dict\n",
    "\n",
    "\n",
    "aggregated_cust = cal_ccba_stats(ccba_cust_sample[:],\n",
    "                                 ['lupay', 'byymm', 'cycam', 'usgam', 'clamt', 'csamt', 'inamt', 'cucsm', 'cucah'])\n",
    "aggregated_cust"
   ],
   "metadata": {
    "collapsed": false,
    "pycharm": {
     "name": "#%%\n"
    }
   }
  },
  {
   "cell_type": "code",
   "execution_count": null,
   "outputs": [],
   "source": [
    "aggregated_cust_df = pd.DataFrame.from_dict(aggregated_cust)\n",
    "aggregated_cust_df = aggregated_cust_df.T.fillna(0)\n",
    "aggregated_cust_df.index.name = \"cust_id\"\n",
    "aggregated_cust_df.to_pickle(\"aggregated_ccba_cust.pkl\")\n",
    "aggregated_cust_df.head()"
   ],
   "metadata": {
    "collapsed": false,
    "pycharm": {
     "name": "#%%\n"
    }
   }
  },
  {
   "cell_type": "code",
   "execution_count": null,
   "outputs": [],
   "source": [
    "pd.unique(aggregated_cust_df.index)"
   ],
   "metadata": {
    "collapsed": false,
    "pycharm": {
     "name": "#%%\n"
    }
   }
  },
  {
   "cell_type": "markdown",
   "source": [],
   "metadata": {
    "collapsed": false,
    "pycharm": {
     "name": "#%% md\n"
    }
   }
  },
  {
   "cell_type": "markdown",
   "source": [],
   "metadata": {
    "collapsed": false,
    "pycharm": {
     "name": "#%% md\n"
    }
   }
  },
  {
   "cell_type": "code",
   "execution_count": null,
   "outputs": [],
   "source": [
    "pd.unique(X['cust_id'])"
   ],
   "metadata": {
    "collapsed": false,
    "pycharm": {
     "name": "#%%\n"
    }
   }
  },
  {
   "cell_type": "code",
   "execution_count": null,
   "outputs": [],
   "source": [
    "agg_cust = pd.read_pickle('aggregated_ccba_cust.pkl')"
   ],
   "metadata": {
    "collapsed": false,
    "pycharm": {
     "name": "#%%\n"
    }
   }
  },
  {
   "cell_type": "code",
   "execution_count": null,
   "outputs": [],
   "source": [
    "pd.unique(agg_cust.index)"
   ],
   "metadata": {
    "collapsed": false,
    "pycharm": {
     "name": "#%%\n"
    }
   }
  },
  {
   "cell_type": "code",
   "execution_count": null,
   "outputs": [],
   "source": [
    "test_aggregated = cinfo[cinfo['data_label'] == 'test']\n",
    "test_aggregated = test_aggregated.merge(agg_cust, on='cust_id', how='left')\n",
    "test_aggregated"
   ],
   "metadata": {
    "collapsed": false,
    "pycharm": {
     "name": "#%%\n"
    }
   }
  },
  {
   "cell_type": "code",
   "execution_count": null,
   "outputs": [],
   "source": [
    "# cinfo = cinfo.merge(answer, on='alert_key', how='left')\n",
    "X_aggreated_ccba = X.merge(agg_cust, on='cust_id', how='left')\n",
    "X_aggreated_ccba.head()"
   ],
   "metadata": {
    "collapsed": false,
    "pycharm": {
     "name": "#%%\n"
    }
   }
  },
  {
   "cell_type": "code",
   "execution_count": null,
   "outputs": [],
   "source": [
    "y_aggregated = X_aggreated_ccba['sar_flag']\n",
    "y_aggregated"
   ],
   "metadata": {
    "collapsed": false,
    "pycharm": {
     "name": "#%%\n"
    }
   }
  },
  {
   "cell_type": "code",
   "execution_count": null,
   "outputs": [],
   "source": [
    "X_aggreated_ccba[X_aggreated_ccba['sar_flag'] == 0]"
   ],
   "metadata": {
    "collapsed": false,
    "pycharm": {
     "name": "#%%\n"
    }
   }
  },
  {
   "cell_type": "code",
   "execution_count": null,
   "outputs": [],
   "source": [
    "drop_features_aggregate = ['alert_key', 'cust_id', 'data_label']\n",
    "X_aggregated_resampling = copy.deepcopy(X_aggreated_ccba)\n",
    "X_aggregated_resampling = X_aggregated_resampling.drop(drop_features_aggregate, axis=1)\n",
    "X_aggregated_resampling = X_aggregated_resampling.fillna(0)\n",
    "\n",
    "y_aggregated_resampling = X_aggregated_resampling['sar_flag']\n",
    "X_aggregated_resampling = X_aggregated_resampling.drop(['sar_flag'], axis=1)\n",
    "test_aggregated = test_aggregated.drop(['alert_key', 'cust_id', 'data_label', 'sar_flag'], axis=1)\n",
    "X_aggregated_resampling, y_aggregated_resampling = undersample.fit_resample(X_aggregated_resampling,\n",
    "                                                                            y_aggregated_resampling)"
   ],
   "metadata": {
    "collapsed": false,
    "pycharm": {
     "name": "#%%\n"
    }
   }
  },
  {
   "cell_type": "code",
   "execution_count": null,
   "outputs": [],
   "source": [
    "X_train_agg, X_test_agg, y_train_agg, y_test_agg = train_test_split(X_aggregated_resampling, y_aggregated_resampling,\n",
    "                                                                    test_size=0.2, random_state=123)"
   ],
   "metadata": {
    "collapsed": false,
    "pycharm": {
     "name": "#%%\n"
    }
   }
  },
  {
   "cell_type": "code",
   "execution_count": null,
   "outputs": [],
   "source": [],
   "metadata": {
    "collapsed": false,
    "pycharm": {
     "name": "#%%\n"
    }
   }
  },
  {
   "cell_type": "code",
   "execution_count": null,
   "outputs": [],
   "source": [
    "xg_cls = xgb.XGBClassifier()\n",
    "xg_cls.fit(X_train_agg, y_train_agg)\n",
    "\n",
    "cls_preds = xg_cls.predict(X_test_agg)"
   ],
   "metadata": {
    "collapsed": false,
    "pycharm": {
     "name": "#%%\n"
    }
   }
  },
  {
   "cell_type": "code",
   "execution_count": null,
   "outputs": [],
   "source": [
    "cm = confusion_matrix(y_test_agg, cls_preds)\n",
    "sns.heatmap(cm, annot=True)\n",
    "accuracy_score(y_test_agg, cls_preds), cm"
   ],
   "metadata": {
    "collapsed": false,
    "pycharm": {
     "name": "#%%\n"
    }
   }
  },
  {
   "cell_type": "code",
   "execution_count": null,
   "outputs": [],
   "source": [
    "prob_test = [prob[1] for prob in xg_cls.predict_proba(test_aggregated).tolist()]\n",
    "prob_test"
   ],
   "metadata": {
    "collapsed": false,
    "pycharm": {
     "name": "#%%\n"
    }
   }
  },
  {
   "cell_type": "code",
   "execution_count": null,
   "outputs": [],
   "source": [
    "non_predicted_key = sample[~sample['alert_key'].isin(test_alert_keys)]\n",
    "non_predicted_key = non_predicted_key.assign(probability=0)\n",
    "non_predicted_key.shape"
   ],
   "metadata": {
    "collapsed": false,
    "pycharm": {
     "name": "#%%\n"
    }
   }
  },
  {
   "cell_type": "code",
   "execution_count": null,
   "outputs": [],
   "source": [
    "submission = pd.concat([test_alert_keys, pd.DataFrame({'probability': prob_test})], axis=1)\n",
    "submission = submission.sort_values(by=['probability'], ascending=False)\n",
    "submission = pd.concat([submission, non_predicted_key])\n",
    "submission.shape, submission"
   ],
   "metadata": {
    "collapsed": false,
    "pycharm": {
     "name": "#%%\n"
    }
   }
  },
  {
   "cell_type": "code",
   "execution_count": null,
   "outputs": [],
   "source": [
    "submission.to_csv(\"submission_xgboost_with_aggregate_ccba.csv\", index=False)"
   ],
   "metadata": {
    "collapsed": false,
    "pycharm": {
     "name": "#%%\n"
    }
   }
  },
  {
   "cell_type": "code",
   "execution_count": null,
   "outputs": [],
   "source": [],
   "metadata": {
    "collapsed": false,
    "pycharm": {
     "name": "#%%\n"
    }
   }
  }
 ],
 "metadata": {
  "kernelspec": {
   "display_name": "Python 3.10 (pytorch)",
   "language": "python",
   "name": "pytorch"
  },
  "language_info": {
   "codemirror_mode": {
    "name": "ipython",
    "version": 3
   },
   "file_extension": ".py",
   "mimetype": "text/x-python",
   "name": "python",
   "nbconvert_exporter": "python",
   "pygments_lexer": "ipython3",
   "version": "3.10.6"
  },
  "orig_nbformat": 4,
  "vscode": {
   "interpreter": {
    "hash": "1169a9719adf803d4f5afe2209093b36dd2c9a2bfe2600a9d836282ef0b26141"
   }
  }
 },
 "nbformat": 4,
 "nbformat_minor": 2
}