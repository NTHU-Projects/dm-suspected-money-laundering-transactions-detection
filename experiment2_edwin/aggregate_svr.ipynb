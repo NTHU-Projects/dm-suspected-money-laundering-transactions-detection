{
 "cells": [
  {
   "cell_type": "code",
   "execution_count": 1,
   "metadata": {
    "collapsed": true
   },
   "outputs": [
    {
     "name": "stderr",
     "output_type": "stream",
     "text": [
      "C:\\Software\\Anaconda3\\lib\\site-packages\\statsmodels\\tsa\\base\\tsa_model.py:7: FutureWarning: pandas.Int64Index is deprecated and will be removed from pandas in a future version. Use pandas.Index with the appropriate dtype instead.\n",
      "  from pandas import (to_datetime, Int64Index, DatetimeIndex, Period,\n",
      "C:\\Software\\Anaconda3\\lib\\site-packages\\statsmodels\\tsa\\base\\tsa_model.py:7: FutureWarning: pandas.Float64Index is deprecated and will be removed from pandas in a future version. Use pandas.Index with the appropriate dtype instead.\n",
      "  from pandas import (to_datetime, Int64Index, DatetimeIndex, Period,\n"
     ]
    }
   ],
   "source": [
    "#Base\n",
    "\n",
    "import pandas as pd\n",
    "import os\n",
    "\n",
    "from sklearn.metrics import classification_report\n",
    "from sklearn.metrics import confusion_matrix\n",
    "from sklearn.model_selection import train_test_split\n",
    "from sklearn.linear_model import LogisticRegression\n",
    "from sklearn.metrics import accuracy_score\n",
    "from imblearn.over_sampling import SMOTE\n",
    "from sklearn.ensemble import RandomForestClassifier\n",
    "\n",
    "from sklearn.feature_selection import RFE\n",
    "\n",
    "import statsmodels.api as sm\n",
    "\n",
    "from tqdm import tqdm\n",
    "\n",
    "\n",
    "dataset_folder = os.path.join(os.getcwd(), 'dataset')\n",
    "\n",
    "def df_from_csv(filename):\n",
    "    f = os.path.join(dataset_folder, filename)\n",
    "    return pd.read_csv(f, delimiter='\\t|\\n|,', engine='python')\n",
    "\n",
    "x_train = df_from_csv('ori_trainx.csv')\n",
    "y_train = df_from_csv('ori_trainy.csv')\n",
    "alert_date = df_from_csv('ori_alert_date.csv')\n",
    "alert_cust = df_from_csv('ori_custinfo.csv')\n",
    "xdp = df_from_csv('ori_xdp.csv')\n",
    "\n",
    "smote = SMOTE(random_state=0)\n",
    "tqdm.pandas(desc='Progress Bar')\n",
    "\n",
    "def SMOTE_oversampling(input_x, input_y):\n",
    "    x_train, x_test, y_train, y_test = train_test_split(input_x, input_y, test_size=0.3)\n",
    "    x_cols = x_train.columns\n",
    "    y_cols = y_train.columns\n",
    "\n",
    "    sm_data_x, sm_data_y = smote.fit_resample(x_train, y_train)\n",
    "    sm_data_x = pd.DataFrame(data=sm_data_x, columns=x_cols)\n",
    "    sm_data_y = pd.DataFrame(data=sm_data_y, columns=y_cols)\n",
    "\n",
    "    print(\"length of oversampled data is \",len(sm_data_x))\n",
    "    print(\"Number of non-sar in oversampled data\",len(sm_data_y[sm_data_y['sar_flag']==0]))\n",
    "    print(\"Number of sar\",len(sm_data_y[sm_data_y['sar_flag']==1]))\n",
    "    print(\"Proportion of no subscription data in oversampled data is \", len(sm_data_y[sm_data_y['sar_flag']==0])/len(sm_data_x))\n",
    "    print(\"Proportion of subscription data in oversampled data is \", len(sm_data_y[sm_data_y['sar_flag']==1])/len(sm_data_x))\n",
    "\n",
    "    return sm_data_x, sm_data_y\n",
    "\n",
    "def RFE_analysis(input_x, input_y, model):\n",
    "    rfe = RFE(model, step=300)\n",
    "    rfe.fit(input_x, input_y.values.ravel())\n",
    "    print(input_x.columns)\n",
    "    print(rfe.support_)\n",
    "    print(rfe.ranking_)\n",
    "    return rfe.get_support(1)\n",
    "\n",
    "def LR_analysis(input_x, input_y):\n",
    "    sm_LR = sm.Logit(input_y, input_x)\n",
    "    result = sm_LR.fit()\n",
    "    print(result.summary2())\n",
    "\n",
    "def LR_training(input_x, input_y, LR_model):\n",
    "    x_train, x_test, y_train, y_test = train_test_split(input_x, input_y, test_size=0.25)\n",
    "    LR_model.fit(x_train, y_train)\n",
    "    y_train_predict = LR_model.predict(x_train)\n",
    "    y_test_predict = LR_model.predict(x_test)\n",
    "    train_acc = accuracy_score(y_train, y_train_predict)\n",
    "    test_acc = accuracy_score(y_test, y_test_predict)\n",
    "    print(f'{train_acc}  {test_acc}')\n",
    "    cm = confusion_matrix(y_true=y_test, y_pred=y_test_predict)\n",
    "    print(cm)\n",
    "    return LR_model\n",
    "\n",
    "def LR_test(input_x, input_y, LR_model):\n",
    "    y_predict = LR_model.predict(input_x)\n",
    "    test_acc = accuracy_score(input_y, y_predict)\n",
    "    print(f'{test_acc}')\n",
    "    cm = confusion_matrix(y_true=input_y, y_pred=y_predict)\n",
    "    print(cm)\n",
    "    print(classification_report(y_true=input_y, y_pred=y_predict))\n",
    "\n",
    "def calculate_tx(row):\n",
    "    if not pd.isna(row['risk_rank']):\n",
    "        temp_frame = xdp[(xdp['tx_date'] <= row['date']) & (xdp['cust_id'] == row['cust_id'])]\n",
    "        total_tx = (temp_frame['tx_amt'] * temp_frame['exchg_rate'])\n",
    "        row['total_tx'] = total_tx.sum()\n",
    "        row['avg_tx'] = total_tx.mean()\n",
    "        row['count_tx'] = total_tx.count()\n",
    "        row['std_tx'] = total_tx.std()\n",
    "        row['tx_per_day'] = row['count_tx']/row['date']+1\n",
    "    return row\n"
   ]
  },
  {
   "cell_type": "code",
   "execution_count": 2,
   "outputs": [],
   "source": [
    "# Join data for training\n",
    "\n",
    "ccba = pd.read_pickle('aggregated_ccba_cust.pkl')\n",
    "cdtx = pd.read_pickle('cdtx_agg.pkl')\n",
    "xdp = pd.read_pickle('xdp_x_train.pkl')\n",
    "remit = pd.read_pickle('cust_remit_raw.pkl')"
   ],
   "metadata": {
    "collapsed": false
   }
  },
  {
   "cell_type": "code",
   "execution_count": 3,
   "outputs": [
    {
     "data": {
      "text/plain": "   alert_key  date  sar_flag  \\\n0     171189     0         0   \n1     171202     0         0   \n2     171599     0         0   \n3     171737     0         0   \n4     171142     0         0   \n\n                                             cust_id  risk_rank  \\\n0  972ee157e63316e8a50dd489bc93730a3ee8a8959d5c6b...          1   \n1  a10ab33f90926fb18d7bb5e78034d7f04a1fbed95b7951...          3   \n2  3433ecc068ed1c9e2f5037cab5d42d7b901e9bd624c1fb...          1   \n3  a0861608615a9365d90f4ba0a813c0ea0471987f925c8b...          3   \n4  a39fea9aec90969fe66a2b2b4d1b86368a2d38e8b8d4bf...          3   \n\n   occupation_code  total_asset  AGE  cr_1_total_tx  cr_1_avg_tx  ...  \\\n0             17.0     375576.0    4            0.0          NaN  ...   \n1             12.0    2717416.0    2            0.0          NaN  ...   \n2             12.0     326517.0    4            0.0          NaN  ...   \n3             14.0    1014759.0    4            0.0          NaN  ...   \n4             12.0     241719.0    3            0.0          NaN  ...   \n\n   db_2_total_tx  db_2_avg_tx  db_2_count_tx  db_2_std_tx  db_2_tx_per_day  \\\n0            0.0          NaN              0          NaN              0.0   \n1            0.0          NaN              0          NaN              0.0   \n2            0.0          NaN              0          NaN              0.0   \n3            0.0          NaN              0          NaN              0.0   \n4            0.0          NaN              0          NaN              0.0   \n\n   db_3_total_tx  db_3_avg_tx  db_3_count_tx  db_3_std_tx  db_3_tx_per_day  \n0            0.0          NaN              0          NaN              0.0  \n1       156902.0     156902.0              1          NaN              1.0  \n2            0.0          NaN              0          NaN              0.0  \n3            0.0          NaN              0          NaN              0.0  \n4            0.0          NaN              0          NaN              0.0  \n\n[5 rows x 38 columns]",
      "text/html": "<div>\n<style scoped>\n    .dataframe tbody tr th:only-of-type {\n        vertical-align: middle;\n    }\n\n    .dataframe tbody tr th {\n        vertical-align: top;\n    }\n\n    .dataframe thead th {\n        text-align: right;\n    }\n</style>\n<table border=\"1\" class=\"dataframe\">\n  <thead>\n    <tr style=\"text-align: right;\">\n      <th></th>\n      <th>alert_key</th>\n      <th>date</th>\n      <th>sar_flag</th>\n      <th>cust_id</th>\n      <th>risk_rank</th>\n      <th>occupation_code</th>\n      <th>total_asset</th>\n      <th>AGE</th>\n      <th>cr_1_total_tx</th>\n      <th>cr_1_avg_tx</th>\n      <th>...</th>\n      <th>db_2_total_tx</th>\n      <th>db_2_avg_tx</th>\n      <th>db_2_count_tx</th>\n      <th>db_2_std_tx</th>\n      <th>db_2_tx_per_day</th>\n      <th>db_3_total_tx</th>\n      <th>db_3_avg_tx</th>\n      <th>db_3_count_tx</th>\n      <th>db_3_std_tx</th>\n      <th>db_3_tx_per_day</th>\n    </tr>\n  </thead>\n  <tbody>\n    <tr>\n      <th>0</th>\n      <td>171189</td>\n      <td>0</td>\n      <td>0</td>\n      <td>972ee157e63316e8a50dd489bc93730a3ee8a8959d5c6b...</td>\n      <td>1</td>\n      <td>17.0</td>\n      <td>375576.0</td>\n      <td>4</td>\n      <td>0.0</td>\n      <td>NaN</td>\n      <td>...</td>\n      <td>0.0</td>\n      <td>NaN</td>\n      <td>0</td>\n      <td>NaN</td>\n      <td>0.0</td>\n      <td>0.0</td>\n      <td>NaN</td>\n      <td>0</td>\n      <td>NaN</td>\n      <td>0.0</td>\n    </tr>\n    <tr>\n      <th>1</th>\n      <td>171202</td>\n      <td>0</td>\n      <td>0</td>\n      <td>a10ab33f90926fb18d7bb5e78034d7f04a1fbed95b7951...</td>\n      <td>3</td>\n      <td>12.0</td>\n      <td>2717416.0</td>\n      <td>2</td>\n      <td>0.0</td>\n      <td>NaN</td>\n      <td>...</td>\n      <td>0.0</td>\n      <td>NaN</td>\n      <td>0</td>\n      <td>NaN</td>\n      <td>0.0</td>\n      <td>156902.0</td>\n      <td>156902.0</td>\n      <td>1</td>\n      <td>NaN</td>\n      <td>1.0</td>\n    </tr>\n    <tr>\n      <th>2</th>\n      <td>171599</td>\n      <td>0</td>\n      <td>0</td>\n      <td>3433ecc068ed1c9e2f5037cab5d42d7b901e9bd624c1fb...</td>\n      <td>1</td>\n      <td>12.0</td>\n      <td>326517.0</td>\n      <td>4</td>\n      <td>0.0</td>\n      <td>NaN</td>\n      <td>...</td>\n      <td>0.0</td>\n      <td>NaN</td>\n      <td>0</td>\n      <td>NaN</td>\n      <td>0.0</td>\n      <td>0.0</td>\n      <td>NaN</td>\n      <td>0</td>\n      <td>NaN</td>\n      <td>0.0</td>\n    </tr>\n    <tr>\n      <th>3</th>\n      <td>171737</td>\n      <td>0</td>\n      <td>0</td>\n      <td>a0861608615a9365d90f4ba0a813c0ea0471987f925c8b...</td>\n      <td>3</td>\n      <td>14.0</td>\n      <td>1014759.0</td>\n      <td>4</td>\n      <td>0.0</td>\n      <td>NaN</td>\n      <td>...</td>\n      <td>0.0</td>\n      <td>NaN</td>\n      <td>0</td>\n      <td>NaN</td>\n      <td>0.0</td>\n      <td>0.0</td>\n      <td>NaN</td>\n      <td>0</td>\n      <td>NaN</td>\n      <td>0.0</td>\n    </tr>\n    <tr>\n      <th>4</th>\n      <td>171142</td>\n      <td>0</td>\n      <td>0</td>\n      <td>a39fea9aec90969fe66a2b2b4d1b86368a2d38e8b8d4bf...</td>\n      <td>3</td>\n      <td>12.0</td>\n      <td>241719.0</td>\n      <td>3</td>\n      <td>0.0</td>\n      <td>NaN</td>\n      <td>...</td>\n      <td>0.0</td>\n      <td>NaN</td>\n      <td>0</td>\n      <td>NaN</td>\n      <td>0.0</td>\n      <td>0.0</td>\n      <td>NaN</td>\n      <td>0</td>\n      <td>NaN</td>\n      <td>0.0</td>\n    </tr>\n  </tbody>\n</table>\n<p>5 rows × 38 columns</p>\n</div>"
     },
     "execution_count": 3,
     "metadata": {},
     "output_type": "execute_result"
    }
   ],
   "source": [
    "xdp.head()"
   ],
   "metadata": {
    "collapsed": false
   }
  },
  {
   "cell_type": "code",
   "execution_count": 4,
   "outputs": [
    {
     "data": {
      "text/plain": "       AGE  alert_key  avg_amt_nontw_nonntd  avg_amt_nontw_ntd  \\\n0        4     171189           9044.740741        3033.355556   \n1        2     171202                   NaN                NaN   \n2        4     171599                   NaN                NaN   \n3        4     171737                   NaN                NaN   \n4        3     171142                   NaN                NaN   \n...    ...        ...                   ...                ...   \n23901    3     352132           4332.523077        1223.939446   \n23902    3     352125                   NaN                NaN   \n23903    6     352080                   NaN                NaN   \n23904    6     352075                   NaN                NaN   \n23905    2     351927                   NaN                NaN   \n\n       avg_amt_tw_nonntd  avg_amt_tw_ntd  avg_freq_nontw_nonntd  \\\n0                    NaN     1388.550403               1.350000   \n1                    NaN             NaN                    NaN   \n2                    NaN             NaN                    NaN   \n3                    NaN     1893.333333                    NaN   \n4                    NaN     7048.368421                    NaN   \n...                  ...             ...                    ...   \n23901                NaN      988.503826               1.160714   \n23902                NaN             NaN                    NaN   \n23903                NaN             NaN                    NaN   \n23904                NaN             NaN                    NaN   \n23905                NaN             NaN                    NaN   \n\n       avg_freq_nontw_ntd  avg_freq_tw_nonntd  avg_freq_tw_ntd  ...  \\\n0                1.097561                 NaN         2.147186  ...   \n1                     NaN                 NaN              NaN  ...   \n2                     NaN                 NaN              NaN  ...   \n3                     NaN                 NaN         1.500000  ...   \n4                     NaN                 NaN         1.055556  ...   \n...                   ...                 ...              ...  ...   \n23901            2.513043                 NaN         6.668367  ...   \n23902                 NaN                 NaN              NaN  ...   \n23903                 NaN                 NaN              NaN  ...   \n23904                 NaN                 NaN              NaN  ...   \n23905                 NaN                 NaN              NaN  ...   \n\n       total_amt_tw_nonntd  total_amt_tw_ntd  total_asset  total_asset_x  \\\n0                      NaN          688721.0     375576.0       375576.0   \n1                      NaN               NaN    2717416.0      2717416.0   \n2                      NaN               NaN     326517.0       326517.0   \n3                      NaN            5680.0    1014759.0      1014759.0   \n4                      NaN          133919.0     241719.0       241719.0   \n...                    ...               ...          ...            ...   \n23901                  NaN         2583949.0    3218731.0      3218731.0   \n23902                  NaN               NaN     928963.0       928963.0   \n23903                  NaN               NaN      69080.0        69080.0   \n23904                  NaN               NaN     262604.0       262604.0   \n23905                  NaN               NaN     332834.0       332834.0   \n\n       total_asset_y  total_freq_nontw_nonntd  total_freq_nontw_ntd  \\\n0       4.886652e+05                     27.0                  45.0   \n1       2.621840e+06                      NaN                   NaN   \n2       3.265170e+05                      NaN                   NaN   \n3       1.275499e+05                      NaN                   NaN   \n4       2.212473e+05                      NaN                   NaN   \n...              ...                      ...                   ...   \n23901   2.361632e+06                     65.0                 578.0   \n23902   5.041325e+05                      NaN                   NaN   \n23903   7.500171e+04                      NaN                   NaN   \n23904   3.333440e+05                      NaN                   NaN   \n23905   2.724419e+05                      NaN                   NaN   \n\n       total_freq_tw_nonntd  total_freq_tw_ntd  trade_sum  \n0                       NaN              496.0        NaN  \n1                       NaN                NaN        NaN  \n2                       NaN                NaN        NaN  \n3                       NaN                3.0        NaN  \n4                       NaN               19.0        NaN  \n...                     ...                ...        ...  \n23901                   NaN             2614.0   364459.0  \n23902                   NaN                NaN    22127.0  \n23903                   NaN                NaN    43676.0  \n23904                   NaN                NaN        NaN  \n23905                   NaN                NaN        NaN  \n\n[23906 rows x 82 columns]",
      "text/html": "<div>\n<style scoped>\n    .dataframe tbody tr th:only-of-type {\n        vertical-align: middle;\n    }\n\n    .dataframe tbody tr th {\n        vertical-align: top;\n    }\n\n    .dataframe thead th {\n        text-align: right;\n    }\n</style>\n<table border=\"1\" class=\"dataframe\">\n  <thead>\n    <tr style=\"text-align: right;\">\n      <th></th>\n      <th>AGE</th>\n      <th>alert_key</th>\n      <th>avg_amt_nontw_nonntd</th>\n      <th>avg_amt_nontw_ntd</th>\n      <th>avg_amt_tw_nonntd</th>\n      <th>avg_amt_tw_ntd</th>\n      <th>avg_freq_nontw_nonntd</th>\n      <th>avg_freq_nontw_ntd</th>\n      <th>avg_freq_tw_nonntd</th>\n      <th>avg_freq_tw_ntd</th>\n      <th>...</th>\n      <th>total_amt_tw_nonntd</th>\n      <th>total_amt_tw_ntd</th>\n      <th>total_asset</th>\n      <th>total_asset_x</th>\n      <th>total_asset_y</th>\n      <th>total_freq_nontw_nonntd</th>\n      <th>total_freq_nontw_ntd</th>\n      <th>total_freq_tw_nonntd</th>\n      <th>total_freq_tw_ntd</th>\n      <th>trade_sum</th>\n    </tr>\n  </thead>\n  <tbody>\n    <tr>\n      <th>0</th>\n      <td>4</td>\n      <td>171189</td>\n      <td>9044.740741</td>\n      <td>3033.355556</td>\n      <td>NaN</td>\n      <td>1388.550403</td>\n      <td>1.350000</td>\n      <td>1.097561</td>\n      <td>NaN</td>\n      <td>2.147186</td>\n      <td>...</td>\n      <td>NaN</td>\n      <td>688721.0</td>\n      <td>375576.0</td>\n      <td>375576.0</td>\n      <td>4.886652e+05</td>\n      <td>27.0</td>\n      <td>45.0</td>\n      <td>NaN</td>\n      <td>496.0</td>\n      <td>NaN</td>\n    </tr>\n    <tr>\n      <th>1</th>\n      <td>2</td>\n      <td>171202</td>\n      <td>NaN</td>\n      <td>NaN</td>\n      <td>NaN</td>\n      <td>NaN</td>\n      <td>NaN</td>\n      <td>NaN</td>\n      <td>NaN</td>\n      <td>NaN</td>\n      <td>...</td>\n      <td>NaN</td>\n      <td>NaN</td>\n      <td>2717416.0</td>\n      <td>2717416.0</td>\n      <td>2.621840e+06</td>\n      <td>NaN</td>\n      <td>NaN</td>\n      <td>NaN</td>\n      <td>NaN</td>\n      <td>NaN</td>\n    </tr>\n    <tr>\n      <th>2</th>\n      <td>4</td>\n      <td>171599</td>\n      <td>NaN</td>\n      <td>NaN</td>\n      <td>NaN</td>\n      <td>NaN</td>\n      <td>NaN</td>\n      <td>NaN</td>\n      <td>NaN</td>\n      <td>NaN</td>\n      <td>...</td>\n      <td>NaN</td>\n      <td>NaN</td>\n      <td>326517.0</td>\n      <td>326517.0</td>\n      <td>3.265170e+05</td>\n      <td>NaN</td>\n      <td>NaN</td>\n      <td>NaN</td>\n      <td>NaN</td>\n      <td>NaN</td>\n    </tr>\n    <tr>\n      <th>3</th>\n      <td>4</td>\n      <td>171737</td>\n      <td>NaN</td>\n      <td>NaN</td>\n      <td>NaN</td>\n      <td>1893.333333</td>\n      <td>NaN</td>\n      <td>NaN</td>\n      <td>NaN</td>\n      <td>1.500000</td>\n      <td>...</td>\n      <td>NaN</td>\n      <td>5680.0</td>\n      <td>1014759.0</td>\n      <td>1014759.0</td>\n      <td>1.275499e+05</td>\n      <td>NaN</td>\n      <td>NaN</td>\n      <td>NaN</td>\n      <td>3.0</td>\n      <td>NaN</td>\n    </tr>\n    <tr>\n      <th>4</th>\n      <td>3</td>\n      <td>171142</td>\n      <td>NaN</td>\n      <td>NaN</td>\n      <td>NaN</td>\n      <td>7048.368421</td>\n      <td>NaN</td>\n      <td>NaN</td>\n      <td>NaN</td>\n      <td>1.055556</td>\n      <td>...</td>\n      <td>NaN</td>\n      <td>133919.0</td>\n      <td>241719.0</td>\n      <td>241719.0</td>\n      <td>2.212473e+05</td>\n      <td>NaN</td>\n      <td>NaN</td>\n      <td>NaN</td>\n      <td>19.0</td>\n      <td>NaN</td>\n    </tr>\n    <tr>\n      <th>...</th>\n      <td>...</td>\n      <td>...</td>\n      <td>...</td>\n      <td>...</td>\n      <td>...</td>\n      <td>...</td>\n      <td>...</td>\n      <td>...</td>\n      <td>...</td>\n      <td>...</td>\n      <td>...</td>\n      <td>...</td>\n      <td>...</td>\n      <td>...</td>\n      <td>...</td>\n      <td>...</td>\n      <td>...</td>\n      <td>...</td>\n      <td>...</td>\n      <td>...</td>\n      <td>...</td>\n    </tr>\n    <tr>\n      <th>23901</th>\n      <td>3</td>\n      <td>352132</td>\n      <td>4332.523077</td>\n      <td>1223.939446</td>\n      <td>NaN</td>\n      <td>988.503826</td>\n      <td>1.160714</td>\n      <td>2.513043</td>\n      <td>NaN</td>\n      <td>6.668367</td>\n      <td>...</td>\n      <td>NaN</td>\n      <td>2583949.0</td>\n      <td>3218731.0</td>\n      <td>3218731.0</td>\n      <td>2.361632e+06</td>\n      <td>65.0</td>\n      <td>578.0</td>\n      <td>NaN</td>\n      <td>2614.0</td>\n      <td>364459.0</td>\n    </tr>\n    <tr>\n      <th>23902</th>\n      <td>3</td>\n      <td>352125</td>\n      <td>NaN</td>\n      <td>NaN</td>\n      <td>NaN</td>\n      <td>NaN</td>\n      <td>NaN</td>\n      <td>NaN</td>\n      <td>NaN</td>\n      <td>NaN</td>\n      <td>...</td>\n      <td>NaN</td>\n      <td>NaN</td>\n      <td>928963.0</td>\n      <td>928963.0</td>\n      <td>5.041325e+05</td>\n      <td>NaN</td>\n      <td>NaN</td>\n      <td>NaN</td>\n      <td>NaN</td>\n      <td>22127.0</td>\n    </tr>\n    <tr>\n      <th>23903</th>\n      <td>6</td>\n      <td>352080</td>\n      <td>NaN</td>\n      <td>NaN</td>\n      <td>NaN</td>\n      <td>NaN</td>\n      <td>NaN</td>\n      <td>NaN</td>\n      <td>NaN</td>\n      <td>NaN</td>\n      <td>...</td>\n      <td>NaN</td>\n      <td>NaN</td>\n      <td>69080.0</td>\n      <td>69080.0</td>\n      <td>7.500171e+04</td>\n      <td>NaN</td>\n      <td>NaN</td>\n      <td>NaN</td>\n      <td>NaN</td>\n      <td>43676.0</td>\n    </tr>\n    <tr>\n      <th>23904</th>\n      <td>6</td>\n      <td>352075</td>\n      <td>NaN</td>\n      <td>NaN</td>\n      <td>NaN</td>\n      <td>NaN</td>\n      <td>NaN</td>\n      <td>NaN</td>\n      <td>NaN</td>\n      <td>NaN</td>\n      <td>...</td>\n      <td>NaN</td>\n      <td>NaN</td>\n      <td>262604.0</td>\n      <td>262604.0</td>\n      <td>3.333440e+05</td>\n      <td>NaN</td>\n      <td>NaN</td>\n      <td>NaN</td>\n      <td>NaN</td>\n      <td>NaN</td>\n    </tr>\n    <tr>\n      <th>23905</th>\n      <td>2</td>\n      <td>351927</td>\n      <td>NaN</td>\n      <td>NaN</td>\n      <td>NaN</td>\n      <td>NaN</td>\n      <td>NaN</td>\n      <td>NaN</td>\n      <td>NaN</td>\n      <td>NaN</td>\n      <td>...</td>\n      <td>NaN</td>\n      <td>NaN</td>\n      <td>332834.0</td>\n      <td>332834.0</td>\n      <td>2.724419e+05</td>\n      <td>NaN</td>\n      <td>NaN</td>\n      <td>NaN</td>\n      <td>NaN</td>\n      <td>NaN</td>\n    </tr>\n  </tbody>\n</table>\n<p>23906 rows × 82 columns</p>\n</div>"
     },
     "execution_count": 4,
     "metadata": {},
     "output_type": "execute_result"
    }
   ],
   "source": [
    "train = df_from_csv('ori_trainx.csv')\n",
    "train = train.merge(df_from_csv('ori_trainy.csv'), on='alert_key', how='inner')\n",
    "train = train.merge(alert_cust, on='alert_key', how='left')\n",
    "train = train[['alert_key', 'cust_id']]\n",
    "train = train.merge(ccba, on='cust_id', how='left')\n",
    "train = train.merge(cdtx, on='cust_id', how='left')\n",
    "train = train.merge(xdp, on='alert_key', how='left')\n",
    "train = train.merge(remit, on='alert_key', how='left')\n",
    "train = train.reindex(sorted(train.columns), axis=1)\n",
    "train"
   ],
   "metadata": {
    "collapsed": false
   }
  },
  {
   "cell_type": "code",
   "execution_count": 5,
   "outputs": [],
   "source": [
    "train['bad_value'] = train.isnull().sum(axis=1) + (train == 0).astype(int).sum(axis=1)"
   ],
   "metadata": {
    "collapsed": false
   }
  },
  {
   "cell_type": "code",
   "execution_count": 6,
   "outputs": [],
   "source": [
    "train = train.drop(['cust_id_x', 'cust_id_y', 'date'], axis=1)\n",
    "train.to_pickle('aggregate.pkl')"
   ],
   "metadata": {
    "collapsed": false
   }
  },
  {
   "cell_type": "code",
   "execution_count": 7,
   "outputs": [
    {
     "data": {
      "text/plain": "       AGE  avg_amt_nontw_nonntd  avg_amt_nontw_ntd  avg_amt_tw_nonntd  \\\n0        4           9044.740741        3033.355556                NaN   \n1        2                   NaN                NaN                NaN   \n2        4                   NaN                NaN                NaN   \n3        4                   NaN                NaN                NaN   \n4        3                   NaN                NaN                NaN   \n...    ...                   ...                ...                ...   \n23901    3           4332.523077        1223.939446                NaN   \n23902    3                   NaN                NaN                NaN   \n23903    6                   NaN                NaN                NaN   \n23904    6                   NaN                NaN                NaN   \n23905    2                   NaN                NaN                NaN   \n\n       avg_amt_tw_ntd  avg_freq_nontw_nonntd  avg_freq_nontw_ntd  \\\n0         1388.550403               1.350000            1.097561   \n1                 NaN                    NaN                 NaN   \n2                 NaN                    NaN                 NaN   \n3         1893.333333                    NaN                 NaN   \n4         7048.368421                    NaN                 NaN   \n...               ...                    ...                 ...   \n23901      988.503826               1.160714            2.513043   \n23902             NaN                    NaN                 NaN   \n23903             NaN                    NaN                 NaN   \n23904             NaN                    NaN                 NaN   \n23905             NaN                    NaN                 NaN   \n\n       avg_freq_tw_nonntd  avg_freq_tw_ntd    cr_1_avg_tx  ...  \\\n0                     NaN         2.147186            NaN  ...   \n1                     NaN              NaN            NaN  ...   \n2                     NaN              NaN            NaN  ...   \n3                     NaN         1.500000            NaN  ...   \n4                     NaN         1.055556            NaN  ...   \n...                   ...              ...            ...  ...   \n23901                 NaN         6.668367     932.000000  ...   \n23902                 NaN              NaN            NaN  ...   \n23903                 NaN              NaN  360378.928571  ...   \n23904                 NaN              NaN  369905.885463  ...   \n23905                 NaN              NaN    1715.666667  ...   \n\n       total_amt_tw_ntd  total_asset  total_asset_x  total_asset_y  \\\n0              688721.0     375576.0       375576.0   4.886652e+05   \n1                   NaN    2717416.0      2717416.0   2.621840e+06   \n2                   NaN     326517.0       326517.0   3.265170e+05   \n3                5680.0    1014759.0      1014759.0   1.275499e+05   \n4              133919.0     241719.0       241719.0   2.212473e+05   \n...                 ...          ...            ...            ...   \n23901         2583949.0    3218731.0      3218731.0   2.361632e+06   \n23902               NaN     928963.0       928963.0   5.041325e+05   \n23903               NaN      69080.0        69080.0   7.500171e+04   \n23904               NaN     262604.0       262604.0   3.333440e+05   \n23905               NaN     332834.0       332834.0   2.724419e+05   \n\n       total_freq_nontw_nonntd  total_freq_nontw_ntd  total_freq_tw_nonntd  \\\n0                         27.0                  45.0                   NaN   \n1                          NaN                   NaN                   NaN   \n2                          NaN                   NaN                   NaN   \n3                          NaN                   NaN                   NaN   \n4                          NaN                   NaN                   NaN   \n...                        ...                   ...                   ...   \n23901                     65.0                 578.0                   NaN   \n23902                      NaN                   NaN                   NaN   \n23903                      NaN                   NaN                   NaN   \n23904                      NaN                   NaN                   NaN   \n23905                      NaN                   NaN                   NaN   \n\n       total_freq_tw_ntd  trade_sum  bad_value  \n0                  496.0        NaN         54  \n1                    NaN        NaN         60  \n2                    NaN        NaN         72  \n3                    3.0        NaN         62  \n4                   19.0        NaN         61  \n...                  ...        ...        ...  \n23901             2614.0   364459.0         43  \n23902                NaN    22127.0         61  \n23903                NaN    43676.0         60  \n23904                NaN        NaN         56  \n23905                NaN        NaN         56  \n\n[23906 rows x 79 columns]",
      "text/html": "<div>\n<style scoped>\n    .dataframe tbody tr th:only-of-type {\n        vertical-align: middle;\n    }\n\n    .dataframe tbody tr th {\n        vertical-align: top;\n    }\n\n    .dataframe thead th {\n        text-align: right;\n    }\n</style>\n<table border=\"1\" class=\"dataframe\">\n  <thead>\n    <tr style=\"text-align: right;\">\n      <th></th>\n      <th>AGE</th>\n      <th>avg_amt_nontw_nonntd</th>\n      <th>avg_amt_nontw_ntd</th>\n      <th>avg_amt_tw_nonntd</th>\n      <th>avg_amt_tw_ntd</th>\n      <th>avg_freq_nontw_nonntd</th>\n      <th>avg_freq_nontw_ntd</th>\n      <th>avg_freq_tw_nonntd</th>\n      <th>avg_freq_tw_ntd</th>\n      <th>cr_1_avg_tx</th>\n      <th>...</th>\n      <th>total_amt_tw_ntd</th>\n      <th>total_asset</th>\n      <th>total_asset_x</th>\n      <th>total_asset_y</th>\n      <th>total_freq_nontw_nonntd</th>\n      <th>total_freq_nontw_ntd</th>\n      <th>total_freq_tw_nonntd</th>\n      <th>total_freq_tw_ntd</th>\n      <th>trade_sum</th>\n      <th>bad_value</th>\n    </tr>\n  </thead>\n  <tbody>\n    <tr>\n      <th>0</th>\n      <td>4</td>\n      <td>9044.740741</td>\n      <td>3033.355556</td>\n      <td>NaN</td>\n      <td>1388.550403</td>\n      <td>1.350000</td>\n      <td>1.097561</td>\n      <td>NaN</td>\n      <td>2.147186</td>\n      <td>NaN</td>\n      <td>...</td>\n      <td>688721.0</td>\n      <td>375576.0</td>\n      <td>375576.0</td>\n      <td>4.886652e+05</td>\n      <td>27.0</td>\n      <td>45.0</td>\n      <td>NaN</td>\n      <td>496.0</td>\n      <td>NaN</td>\n      <td>54</td>\n    </tr>\n    <tr>\n      <th>1</th>\n      <td>2</td>\n      <td>NaN</td>\n      <td>NaN</td>\n      <td>NaN</td>\n      <td>NaN</td>\n      <td>NaN</td>\n      <td>NaN</td>\n      <td>NaN</td>\n      <td>NaN</td>\n      <td>NaN</td>\n      <td>...</td>\n      <td>NaN</td>\n      <td>2717416.0</td>\n      <td>2717416.0</td>\n      <td>2.621840e+06</td>\n      <td>NaN</td>\n      <td>NaN</td>\n      <td>NaN</td>\n      <td>NaN</td>\n      <td>NaN</td>\n      <td>60</td>\n    </tr>\n    <tr>\n      <th>2</th>\n      <td>4</td>\n      <td>NaN</td>\n      <td>NaN</td>\n      <td>NaN</td>\n      <td>NaN</td>\n      <td>NaN</td>\n      <td>NaN</td>\n      <td>NaN</td>\n      <td>NaN</td>\n      <td>NaN</td>\n      <td>...</td>\n      <td>NaN</td>\n      <td>326517.0</td>\n      <td>326517.0</td>\n      <td>3.265170e+05</td>\n      <td>NaN</td>\n      <td>NaN</td>\n      <td>NaN</td>\n      <td>NaN</td>\n      <td>NaN</td>\n      <td>72</td>\n    </tr>\n    <tr>\n      <th>3</th>\n      <td>4</td>\n      <td>NaN</td>\n      <td>NaN</td>\n      <td>NaN</td>\n      <td>1893.333333</td>\n      <td>NaN</td>\n      <td>NaN</td>\n      <td>NaN</td>\n      <td>1.500000</td>\n      <td>NaN</td>\n      <td>...</td>\n      <td>5680.0</td>\n      <td>1014759.0</td>\n      <td>1014759.0</td>\n      <td>1.275499e+05</td>\n      <td>NaN</td>\n      <td>NaN</td>\n      <td>NaN</td>\n      <td>3.0</td>\n      <td>NaN</td>\n      <td>62</td>\n    </tr>\n    <tr>\n      <th>4</th>\n      <td>3</td>\n      <td>NaN</td>\n      <td>NaN</td>\n      <td>NaN</td>\n      <td>7048.368421</td>\n      <td>NaN</td>\n      <td>NaN</td>\n      <td>NaN</td>\n      <td>1.055556</td>\n      <td>NaN</td>\n      <td>...</td>\n      <td>133919.0</td>\n      <td>241719.0</td>\n      <td>241719.0</td>\n      <td>2.212473e+05</td>\n      <td>NaN</td>\n      <td>NaN</td>\n      <td>NaN</td>\n      <td>19.0</td>\n      <td>NaN</td>\n      <td>61</td>\n    </tr>\n    <tr>\n      <th>...</th>\n      <td>...</td>\n      <td>...</td>\n      <td>...</td>\n      <td>...</td>\n      <td>...</td>\n      <td>...</td>\n      <td>...</td>\n      <td>...</td>\n      <td>...</td>\n      <td>...</td>\n      <td>...</td>\n      <td>...</td>\n      <td>...</td>\n      <td>...</td>\n      <td>...</td>\n      <td>...</td>\n      <td>...</td>\n      <td>...</td>\n      <td>...</td>\n      <td>...</td>\n      <td>...</td>\n    </tr>\n    <tr>\n      <th>23901</th>\n      <td>3</td>\n      <td>4332.523077</td>\n      <td>1223.939446</td>\n      <td>NaN</td>\n      <td>988.503826</td>\n      <td>1.160714</td>\n      <td>2.513043</td>\n      <td>NaN</td>\n      <td>6.668367</td>\n      <td>932.000000</td>\n      <td>...</td>\n      <td>2583949.0</td>\n      <td>3218731.0</td>\n      <td>3218731.0</td>\n      <td>2.361632e+06</td>\n      <td>65.0</td>\n      <td>578.0</td>\n      <td>NaN</td>\n      <td>2614.0</td>\n      <td>364459.0</td>\n      <td>43</td>\n    </tr>\n    <tr>\n      <th>23902</th>\n      <td>3</td>\n      <td>NaN</td>\n      <td>NaN</td>\n      <td>NaN</td>\n      <td>NaN</td>\n      <td>NaN</td>\n      <td>NaN</td>\n      <td>NaN</td>\n      <td>NaN</td>\n      <td>NaN</td>\n      <td>...</td>\n      <td>NaN</td>\n      <td>928963.0</td>\n      <td>928963.0</td>\n      <td>5.041325e+05</td>\n      <td>NaN</td>\n      <td>NaN</td>\n      <td>NaN</td>\n      <td>NaN</td>\n      <td>22127.0</td>\n      <td>61</td>\n    </tr>\n    <tr>\n      <th>23903</th>\n      <td>6</td>\n      <td>NaN</td>\n      <td>NaN</td>\n      <td>NaN</td>\n      <td>NaN</td>\n      <td>NaN</td>\n      <td>NaN</td>\n      <td>NaN</td>\n      <td>NaN</td>\n      <td>360378.928571</td>\n      <td>...</td>\n      <td>NaN</td>\n      <td>69080.0</td>\n      <td>69080.0</td>\n      <td>7.500171e+04</td>\n      <td>NaN</td>\n      <td>NaN</td>\n      <td>NaN</td>\n      <td>NaN</td>\n      <td>43676.0</td>\n      <td>60</td>\n    </tr>\n    <tr>\n      <th>23904</th>\n      <td>6</td>\n      <td>NaN</td>\n      <td>NaN</td>\n      <td>NaN</td>\n      <td>NaN</td>\n      <td>NaN</td>\n      <td>NaN</td>\n      <td>NaN</td>\n      <td>NaN</td>\n      <td>369905.885463</td>\n      <td>...</td>\n      <td>NaN</td>\n      <td>262604.0</td>\n      <td>262604.0</td>\n      <td>3.333440e+05</td>\n      <td>NaN</td>\n      <td>NaN</td>\n      <td>NaN</td>\n      <td>NaN</td>\n      <td>NaN</td>\n      <td>56</td>\n    </tr>\n    <tr>\n      <th>23905</th>\n      <td>2</td>\n      <td>NaN</td>\n      <td>NaN</td>\n      <td>NaN</td>\n      <td>NaN</td>\n      <td>NaN</td>\n      <td>NaN</td>\n      <td>NaN</td>\n      <td>NaN</td>\n      <td>1715.666667</td>\n      <td>...</td>\n      <td>NaN</td>\n      <td>332834.0</td>\n      <td>332834.0</td>\n      <td>2.724419e+05</td>\n      <td>NaN</td>\n      <td>NaN</td>\n      <td>NaN</td>\n      <td>NaN</td>\n      <td>NaN</td>\n      <td>56</td>\n    </tr>\n  </tbody>\n</table>\n<p>23906 rows × 79 columns</p>\n</div>"
     },
     "execution_count": 7,
     "metadata": {},
     "output_type": "execute_result"
    }
   ],
   "source": [
    "train = train.drop(['alert_key'], axis=1)\n",
    "train"
   ],
   "metadata": {
    "collapsed": false
   }
  },
  {
   "cell_type": "code",
   "execution_count": 8,
   "outputs": [
    {
     "data": {
      "text/plain": "       AGE  avg_amt_nontw_nonntd  avg_amt_nontw_ntd  avg_amt_tw_nonntd  \\\n0        4           9044.740741        3033.355556                NaN   \n1        2                   NaN                NaN                NaN   \n2        4                   NaN                NaN                NaN   \n3        4                   NaN                NaN                NaN   \n4        3                   NaN                NaN                NaN   \n...    ...                   ...                ...                ...   \n23901    3           4332.523077        1223.939446                NaN   \n23902    3                   NaN                NaN                NaN   \n23903    6                   NaN                NaN                NaN   \n23904    6                   NaN                NaN                NaN   \n23905    2                   NaN                NaN                NaN   \n\n       avg_amt_tw_ntd  avg_freq_nontw_nonntd  avg_freq_nontw_ntd  \\\n0         1388.550403               1.350000            1.097561   \n1                 NaN                    NaN                 NaN   \n2                 NaN                    NaN                 NaN   \n3         1893.333333                    NaN                 NaN   \n4         7048.368421                    NaN                 NaN   \n...               ...                    ...                 ...   \n23901      988.503826               1.160714            2.513043   \n23902             NaN                    NaN                 NaN   \n23903             NaN                    NaN                 NaN   \n23904             NaN                    NaN                 NaN   \n23905             NaN                    NaN                 NaN   \n\n       avg_freq_tw_nonntd  avg_freq_tw_ntd    cr_1_avg_tx  ...  \\\n0                     NaN         2.147186            NaN  ...   \n1                     NaN              NaN            NaN  ...   \n2                     NaN              NaN            NaN  ...   \n3                     NaN         1.500000            NaN  ...   \n4                     NaN         1.055556            NaN  ...   \n...                   ...              ...            ...  ...   \n23901                 NaN         6.668367     932.000000  ...   \n23902                 NaN              NaN            NaN  ...   \n23903                 NaN              NaN  360378.928571  ...   \n23904                 NaN              NaN  369905.885463  ...   \n23905                 NaN              NaN    1715.666667  ...   \n\n       total_amt_tw_ntd  total_asset  total_asset_x  total_asset_y  \\\n0              688721.0     375576.0       375576.0   4.886652e+05   \n1                   NaN    2717416.0      2717416.0   2.621840e+06   \n2                   NaN     326517.0       326517.0   3.265170e+05   \n3                5680.0    1014759.0      1014759.0   1.275499e+05   \n4              133919.0     241719.0       241719.0   2.212473e+05   \n...                 ...          ...            ...            ...   \n23901         2583949.0    3218731.0      3218731.0   2.361632e+06   \n23902               NaN     928963.0       928963.0   5.041325e+05   \n23903               NaN      69080.0        69080.0   7.500171e+04   \n23904               NaN     262604.0       262604.0   3.333440e+05   \n23905               NaN     332834.0       332834.0   2.724419e+05   \n\n       total_freq_nontw_nonntd  total_freq_nontw_ntd  total_freq_tw_nonntd  \\\n0                         27.0                  45.0                   NaN   \n1                          NaN                   NaN                   NaN   \n2                          NaN                   NaN                   NaN   \n3                          NaN                   NaN                   NaN   \n4                          NaN                   NaN                   NaN   \n...                        ...                   ...                   ...   \n23901                     65.0                 578.0                   NaN   \n23902                      NaN                   NaN                   NaN   \n23903                      NaN                   NaN                   NaN   \n23904                      NaN                   NaN                   NaN   \n23905                      NaN                   NaN                   NaN   \n\n       total_freq_tw_ntd  trade_sum  bad_value  \n0                  496.0        NaN         53  \n1                    NaN        NaN         59  \n2                    NaN        NaN         71  \n3                    3.0        NaN         61  \n4                   19.0        NaN         60  \n...                  ...        ...        ...  \n23901             2614.0   364459.0         43  \n23902                NaN    22127.0         61  \n23903                NaN    43676.0         60  \n23904                NaN        NaN         56  \n23905                NaN        NaN         56  \n\n[23906 rows x 79 columns]",
      "text/html": "<div>\n<style scoped>\n    .dataframe tbody tr th:only-of-type {\n        vertical-align: middle;\n    }\n\n    .dataframe tbody tr th {\n        vertical-align: top;\n    }\n\n    .dataframe thead th {\n        text-align: right;\n    }\n</style>\n<table border=\"1\" class=\"dataframe\">\n  <thead>\n    <tr style=\"text-align: right;\">\n      <th></th>\n      <th>AGE</th>\n      <th>avg_amt_nontw_nonntd</th>\n      <th>avg_amt_nontw_ntd</th>\n      <th>avg_amt_tw_nonntd</th>\n      <th>avg_amt_tw_ntd</th>\n      <th>avg_freq_nontw_nonntd</th>\n      <th>avg_freq_nontw_ntd</th>\n      <th>avg_freq_tw_nonntd</th>\n      <th>avg_freq_tw_ntd</th>\n      <th>cr_1_avg_tx</th>\n      <th>...</th>\n      <th>total_amt_tw_ntd</th>\n      <th>total_asset</th>\n      <th>total_asset_x</th>\n      <th>total_asset_y</th>\n      <th>total_freq_nontw_nonntd</th>\n      <th>total_freq_nontw_ntd</th>\n      <th>total_freq_tw_nonntd</th>\n      <th>total_freq_tw_ntd</th>\n      <th>trade_sum</th>\n      <th>bad_value</th>\n    </tr>\n  </thead>\n  <tbody>\n    <tr>\n      <th>0</th>\n      <td>4</td>\n      <td>9044.740741</td>\n      <td>3033.355556</td>\n      <td>NaN</td>\n      <td>1388.550403</td>\n      <td>1.350000</td>\n      <td>1.097561</td>\n      <td>NaN</td>\n      <td>2.147186</td>\n      <td>NaN</td>\n      <td>...</td>\n      <td>688721.0</td>\n      <td>375576.0</td>\n      <td>375576.0</td>\n      <td>4.886652e+05</td>\n      <td>27.0</td>\n      <td>45.0</td>\n      <td>NaN</td>\n      <td>496.0</td>\n      <td>NaN</td>\n      <td>53</td>\n    </tr>\n    <tr>\n      <th>1</th>\n      <td>2</td>\n      <td>NaN</td>\n      <td>NaN</td>\n      <td>NaN</td>\n      <td>NaN</td>\n      <td>NaN</td>\n      <td>NaN</td>\n      <td>NaN</td>\n      <td>NaN</td>\n      <td>NaN</td>\n      <td>...</td>\n      <td>NaN</td>\n      <td>2717416.0</td>\n      <td>2717416.0</td>\n      <td>2.621840e+06</td>\n      <td>NaN</td>\n      <td>NaN</td>\n      <td>NaN</td>\n      <td>NaN</td>\n      <td>NaN</td>\n      <td>59</td>\n    </tr>\n    <tr>\n      <th>2</th>\n      <td>4</td>\n      <td>NaN</td>\n      <td>NaN</td>\n      <td>NaN</td>\n      <td>NaN</td>\n      <td>NaN</td>\n      <td>NaN</td>\n      <td>NaN</td>\n      <td>NaN</td>\n      <td>NaN</td>\n      <td>...</td>\n      <td>NaN</td>\n      <td>326517.0</td>\n      <td>326517.0</td>\n      <td>3.265170e+05</td>\n      <td>NaN</td>\n      <td>NaN</td>\n      <td>NaN</td>\n      <td>NaN</td>\n      <td>NaN</td>\n      <td>71</td>\n    </tr>\n    <tr>\n      <th>3</th>\n      <td>4</td>\n      <td>NaN</td>\n      <td>NaN</td>\n      <td>NaN</td>\n      <td>1893.333333</td>\n      <td>NaN</td>\n      <td>NaN</td>\n      <td>NaN</td>\n      <td>1.500000</td>\n      <td>NaN</td>\n      <td>...</td>\n      <td>5680.0</td>\n      <td>1014759.0</td>\n      <td>1014759.0</td>\n      <td>1.275499e+05</td>\n      <td>NaN</td>\n      <td>NaN</td>\n      <td>NaN</td>\n      <td>3.0</td>\n      <td>NaN</td>\n      <td>61</td>\n    </tr>\n    <tr>\n      <th>4</th>\n      <td>3</td>\n      <td>NaN</td>\n      <td>NaN</td>\n      <td>NaN</td>\n      <td>7048.368421</td>\n      <td>NaN</td>\n      <td>NaN</td>\n      <td>NaN</td>\n      <td>1.055556</td>\n      <td>NaN</td>\n      <td>...</td>\n      <td>133919.0</td>\n      <td>241719.0</td>\n      <td>241719.0</td>\n      <td>2.212473e+05</td>\n      <td>NaN</td>\n      <td>NaN</td>\n      <td>NaN</td>\n      <td>19.0</td>\n      <td>NaN</td>\n      <td>60</td>\n    </tr>\n    <tr>\n      <th>...</th>\n      <td>...</td>\n      <td>...</td>\n      <td>...</td>\n      <td>...</td>\n      <td>...</td>\n      <td>...</td>\n      <td>...</td>\n      <td>...</td>\n      <td>...</td>\n      <td>...</td>\n      <td>...</td>\n      <td>...</td>\n      <td>...</td>\n      <td>...</td>\n      <td>...</td>\n      <td>...</td>\n      <td>...</td>\n      <td>...</td>\n      <td>...</td>\n      <td>...</td>\n      <td>...</td>\n    </tr>\n    <tr>\n      <th>23901</th>\n      <td>3</td>\n      <td>4332.523077</td>\n      <td>1223.939446</td>\n      <td>NaN</td>\n      <td>988.503826</td>\n      <td>1.160714</td>\n      <td>2.513043</td>\n      <td>NaN</td>\n      <td>6.668367</td>\n      <td>932.000000</td>\n      <td>...</td>\n      <td>2583949.0</td>\n      <td>3218731.0</td>\n      <td>3218731.0</td>\n      <td>2.361632e+06</td>\n      <td>65.0</td>\n      <td>578.0</td>\n      <td>NaN</td>\n      <td>2614.0</td>\n      <td>364459.0</td>\n      <td>43</td>\n    </tr>\n    <tr>\n      <th>23902</th>\n      <td>3</td>\n      <td>NaN</td>\n      <td>NaN</td>\n      <td>NaN</td>\n      <td>NaN</td>\n      <td>NaN</td>\n      <td>NaN</td>\n      <td>NaN</td>\n      <td>NaN</td>\n      <td>NaN</td>\n      <td>...</td>\n      <td>NaN</td>\n      <td>928963.0</td>\n      <td>928963.0</td>\n      <td>5.041325e+05</td>\n      <td>NaN</td>\n      <td>NaN</td>\n      <td>NaN</td>\n      <td>NaN</td>\n      <td>22127.0</td>\n      <td>61</td>\n    </tr>\n    <tr>\n      <th>23903</th>\n      <td>6</td>\n      <td>NaN</td>\n      <td>NaN</td>\n      <td>NaN</td>\n      <td>NaN</td>\n      <td>NaN</td>\n      <td>NaN</td>\n      <td>NaN</td>\n      <td>NaN</td>\n      <td>360378.928571</td>\n      <td>...</td>\n      <td>NaN</td>\n      <td>69080.0</td>\n      <td>69080.0</td>\n      <td>7.500171e+04</td>\n      <td>NaN</td>\n      <td>NaN</td>\n      <td>NaN</td>\n      <td>NaN</td>\n      <td>43676.0</td>\n      <td>60</td>\n    </tr>\n    <tr>\n      <th>23904</th>\n      <td>6</td>\n      <td>NaN</td>\n      <td>NaN</td>\n      <td>NaN</td>\n      <td>NaN</td>\n      <td>NaN</td>\n      <td>NaN</td>\n      <td>NaN</td>\n      <td>NaN</td>\n      <td>369905.885463</td>\n      <td>...</td>\n      <td>NaN</td>\n      <td>262604.0</td>\n      <td>262604.0</td>\n      <td>3.333440e+05</td>\n      <td>NaN</td>\n      <td>NaN</td>\n      <td>NaN</td>\n      <td>NaN</td>\n      <td>NaN</td>\n      <td>56</td>\n    </tr>\n    <tr>\n      <th>23905</th>\n      <td>2</td>\n      <td>NaN</td>\n      <td>NaN</td>\n      <td>NaN</td>\n      <td>NaN</td>\n      <td>NaN</td>\n      <td>NaN</td>\n      <td>NaN</td>\n      <td>NaN</td>\n      <td>1715.666667</td>\n      <td>...</td>\n      <td>NaN</td>\n      <td>332834.0</td>\n      <td>332834.0</td>\n      <td>2.724419e+05</td>\n      <td>NaN</td>\n      <td>NaN</td>\n      <td>NaN</td>\n      <td>NaN</td>\n      <td>NaN</td>\n      <td>56</td>\n    </tr>\n  </tbody>\n</table>\n<p>23906 rows × 79 columns</p>\n</div>"
     },
     "execution_count": 8,
     "metadata": {},
     "output_type": "execute_result"
    }
   ],
   "source": [
    "train['bad_value'] = train.isnull().sum(axis=1) + (train == 0).astype(int).sum(axis=1)\n",
    "train"
   ],
   "metadata": {
    "collapsed": false
   }
  },
  {
   "cell_type": "code",
   "execution_count": 9,
   "outputs": [
    {
     "data": {
      "text/plain": "       AGE  avg_amt_nontw_nonntd  avg_amt_nontw_ntd  avg_amt_tw_nonntd  \\\n0        4           9044.740741        3033.355556                NaN   \n1        2                   NaN                NaN                NaN   \n2        4                   NaN                NaN                NaN   \n3        4                   NaN                NaN                NaN   \n4        3                   NaN                NaN                NaN   \n...    ...                   ...                ...                ...   \n23901    3           4332.523077        1223.939446                NaN   \n23902    3                   NaN                NaN                NaN   \n23903    6                   NaN                NaN                NaN   \n23904    6                   NaN                NaN                NaN   \n23905    2                   NaN                NaN                NaN   \n\n       avg_amt_tw_ntd  avg_freq_nontw_nonntd  avg_freq_nontw_ntd  \\\n0         1388.550403               1.350000            1.097561   \n1                 NaN                    NaN                 NaN   \n2                 NaN                    NaN                 NaN   \n3         1893.333333                    NaN                 NaN   \n4         7048.368421                    NaN                 NaN   \n...               ...                    ...                 ...   \n23901      988.503826               1.160714            2.513043   \n23902             NaN                    NaN                 NaN   \n23903             NaN                    NaN                 NaN   \n23904             NaN                    NaN                 NaN   \n23905             NaN                    NaN                 NaN   \n\n       avg_freq_tw_nonntd  avg_freq_tw_ntd    cr_1_avg_tx  ...  \\\n0                     NaN         2.147186            NaN  ...   \n1                     NaN              NaN            NaN  ...   \n2                     NaN              NaN            NaN  ...   \n3                     NaN         1.500000            NaN  ...   \n4                     NaN         1.055556            NaN  ...   \n...                   ...              ...            ...  ...   \n23901                 NaN         6.668367     932.000000  ...   \n23902                 NaN              NaN            NaN  ...   \n23903                 NaN              NaN  360378.928571  ...   \n23904                 NaN              NaN  369905.885463  ...   \n23905                 NaN              NaN    1715.666667  ...   \n\n       total_amt_tw_ntd  total_asset  total_asset_x  total_asset_y  \\\n0              688721.0     375576.0       375576.0   4.886652e+05   \n1                   NaN    2717416.0      2717416.0   2.621840e+06   \n2                   NaN     326517.0       326517.0   3.265170e+05   \n3                5680.0    1014759.0      1014759.0   1.275499e+05   \n4              133919.0     241719.0       241719.0   2.212473e+05   \n...                 ...          ...            ...            ...   \n23901         2583949.0    3218731.0      3218731.0   2.361632e+06   \n23902               NaN     928963.0       928963.0   5.041325e+05   \n23903               NaN      69080.0        69080.0   7.500171e+04   \n23904               NaN     262604.0       262604.0   3.333440e+05   \n23905               NaN     332834.0       332834.0   2.724419e+05   \n\n       total_freq_nontw_nonntd  total_freq_nontw_ntd  total_freq_tw_nonntd  \\\n0                         27.0                  45.0                   NaN   \n1                          NaN                   NaN                   NaN   \n2                          NaN                   NaN                   NaN   \n3                          NaN                   NaN                   NaN   \n4                          NaN                   NaN                   NaN   \n...                        ...                   ...                   ...   \n23901                     65.0                 578.0                   NaN   \n23902                      NaN                   NaN                   NaN   \n23903                      NaN                   NaN                   NaN   \n23904                      NaN                   NaN                   NaN   \n23905                      NaN                   NaN                   NaN   \n\n       total_freq_tw_ntd  trade_sum  bad_value  \n0                  496.0        NaN         53  \n1                    NaN        NaN         59  \n2                    NaN        NaN         71  \n3                    3.0        NaN         61  \n4                   19.0        NaN         60  \n...                  ...        ...        ...  \n23901             2614.0   364459.0         43  \n23902                NaN    22127.0         61  \n23903                NaN    43676.0         60  \n23904                NaN        NaN         56  \n23905                NaN        NaN         56  \n\n[23906 rows x 79 columns]",
      "text/html": "<div>\n<style scoped>\n    .dataframe tbody tr th:only-of-type {\n        vertical-align: middle;\n    }\n\n    .dataframe tbody tr th {\n        vertical-align: top;\n    }\n\n    .dataframe thead th {\n        text-align: right;\n    }\n</style>\n<table border=\"1\" class=\"dataframe\">\n  <thead>\n    <tr style=\"text-align: right;\">\n      <th></th>\n      <th>AGE</th>\n      <th>avg_amt_nontw_nonntd</th>\n      <th>avg_amt_nontw_ntd</th>\n      <th>avg_amt_tw_nonntd</th>\n      <th>avg_amt_tw_ntd</th>\n      <th>avg_freq_nontw_nonntd</th>\n      <th>avg_freq_nontw_ntd</th>\n      <th>avg_freq_tw_nonntd</th>\n      <th>avg_freq_tw_ntd</th>\n      <th>cr_1_avg_tx</th>\n      <th>...</th>\n      <th>total_amt_tw_ntd</th>\n      <th>total_asset</th>\n      <th>total_asset_x</th>\n      <th>total_asset_y</th>\n      <th>total_freq_nontw_nonntd</th>\n      <th>total_freq_nontw_ntd</th>\n      <th>total_freq_tw_nonntd</th>\n      <th>total_freq_tw_ntd</th>\n      <th>trade_sum</th>\n      <th>bad_value</th>\n    </tr>\n  </thead>\n  <tbody>\n    <tr>\n      <th>0</th>\n      <td>4</td>\n      <td>9044.740741</td>\n      <td>3033.355556</td>\n      <td>NaN</td>\n      <td>1388.550403</td>\n      <td>1.350000</td>\n      <td>1.097561</td>\n      <td>NaN</td>\n      <td>2.147186</td>\n      <td>NaN</td>\n      <td>...</td>\n      <td>688721.0</td>\n      <td>375576.0</td>\n      <td>375576.0</td>\n      <td>4.886652e+05</td>\n      <td>27.0</td>\n      <td>45.0</td>\n      <td>NaN</td>\n      <td>496.0</td>\n      <td>NaN</td>\n      <td>53</td>\n    </tr>\n    <tr>\n      <th>1</th>\n      <td>2</td>\n      <td>NaN</td>\n      <td>NaN</td>\n      <td>NaN</td>\n      <td>NaN</td>\n      <td>NaN</td>\n      <td>NaN</td>\n      <td>NaN</td>\n      <td>NaN</td>\n      <td>NaN</td>\n      <td>...</td>\n      <td>NaN</td>\n      <td>2717416.0</td>\n      <td>2717416.0</td>\n      <td>2.621840e+06</td>\n      <td>NaN</td>\n      <td>NaN</td>\n      <td>NaN</td>\n      <td>NaN</td>\n      <td>NaN</td>\n      <td>59</td>\n    </tr>\n    <tr>\n      <th>2</th>\n      <td>4</td>\n      <td>NaN</td>\n      <td>NaN</td>\n      <td>NaN</td>\n      <td>NaN</td>\n      <td>NaN</td>\n      <td>NaN</td>\n      <td>NaN</td>\n      <td>NaN</td>\n      <td>NaN</td>\n      <td>...</td>\n      <td>NaN</td>\n      <td>326517.0</td>\n      <td>326517.0</td>\n      <td>3.265170e+05</td>\n      <td>NaN</td>\n      <td>NaN</td>\n      <td>NaN</td>\n      <td>NaN</td>\n      <td>NaN</td>\n      <td>71</td>\n    </tr>\n    <tr>\n      <th>3</th>\n      <td>4</td>\n      <td>NaN</td>\n      <td>NaN</td>\n      <td>NaN</td>\n      <td>1893.333333</td>\n      <td>NaN</td>\n      <td>NaN</td>\n      <td>NaN</td>\n      <td>1.500000</td>\n      <td>NaN</td>\n      <td>...</td>\n      <td>5680.0</td>\n      <td>1014759.0</td>\n      <td>1014759.0</td>\n      <td>1.275499e+05</td>\n      <td>NaN</td>\n      <td>NaN</td>\n      <td>NaN</td>\n      <td>3.0</td>\n      <td>NaN</td>\n      <td>61</td>\n    </tr>\n    <tr>\n      <th>4</th>\n      <td>3</td>\n      <td>NaN</td>\n      <td>NaN</td>\n      <td>NaN</td>\n      <td>7048.368421</td>\n      <td>NaN</td>\n      <td>NaN</td>\n      <td>NaN</td>\n      <td>1.055556</td>\n      <td>NaN</td>\n      <td>...</td>\n      <td>133919.0</td>\n      <td>241719.0</td>\n      <td>241719.0</td>\n      <td>2.212473e+05</td>\n      <td>NaN</td>\n      <td>NaN</td>\n      <td>NaN</td>\n      <td>19.0</td>\n      <td>NaN</td>\n      <td>60</td>\n    </tr>\n    <tr>\n      <th>...</th>\n      <td>...</td>\n      <td>...</td>\n      <td>...</td>\n      <td>...</td>\n      <td>...</td>\n      <td>...</td>\n      <td>...</td>\n      <td>...</td>\n      <td>...</td>\n      <td>...</td>\n      <td>...</td>\n      <td>...</td>\n      <td>...</td>\n      <td>...</td>\n      <td>...</td>\n      <td>...</td>\n      <td>...</td>\n      <td>...</td>\n      <td>...</td>\n      <td>...</td>\n      <td>...</td>\n    </tr>\n    <tr>\n      <th>23901</th>\n      <td>3</td>\n      <td>4332.523077</td>\n      <td>1223.939446</td>\n      <td>NaN</td>\n      <td>988.503826</td>\n      <td>1.160714</td>\n      <td>2.513043</td>\n      <td>NaN</td>\n      <td>6.668367</td>\n      <td>932.000000</td>\n      <td>...</td>\n      <td>2583949.0</td>\n      <td>3218731.0</td>\n      <td>3218731.0</td>\n      <td>2.361632e+06</td>\n      <td>65.0</td>\n      <td>578.0</td>\n      <td>NaN</td>\n      <td>2614.0</td>\n      <td>364459.0</td>\n      <td>43</td>\n    </tr>\n    <tr>\n      <th>23902</th>\n      <td>3</td>\n      <td>NaN</td>\n      <td>NaN</td>\n      <td>NaN</td>\n      <td>NaN</td>\n      <td>NaN</td>\n      <td>NaN</td>\n      <td>NaN</td>\n      <td>NaN</td>\n      <td>NaN</td>\n      <td>...</td>\n      <td>NaN</td>\n      <td>928963.0</td>\n      <td>928963.0</td>\n      <td>5.041325e+05</td>\n      <td>NaN</td>\n      <td>NaN</td>\n      <td>NaN</td>\n      <td>NaN</td>\n      <td>22127.0</td>\n      <td>61</td>\n    </tr>\n    <tr>\n      <th>23903</th>\n      <td>6</td>\n      <td>NaN</td>\n      <td>NaN</td>\n      <td>NaN</td>\n      <td>NaN</td>\n      <td>NaN</td>\n      <td>NaN</td>\n      <td>NaN</td>\n      <td>NaN</td>\n      <td>360378.928571</td>\n      <td>...</td>\n      <td>NaN</td>\n      <td>69080.0</td>\n      <td>69080.0</td>\n      <td>7.500171e+04</td>\n      <td>NaN</td>\n      <td>NaN</td>\n      <td>NaN</td>\n      <td>NaN</td>\n      <td>43676.0</td>\n      <td>60</td>\n    </tr>\n    <tr>\n      <th>23904</th>\n      <td>6</td>\n      <td>NaN</td>\n      <td>NaN</td>\n      <td>NaN</td>\n      <td>NaN</td>\n      <td>NaN</td>\n      <td>NaN</td>\n      <td>NaN</td>\n      <td>NaN</td>\n      <td>369905.885463</td>\n      <td>...</td>\n      <td>NaN</td>\n      <td>262604.0</td>\n      <td>262604.0</td>\n      <td>3.333440e+05</td>\n      <td>NaN</td>\n      <td>NaN</td>\n      <td>NaN</td>\n      <td>NaN</td>\n      <td>NaN</td>\n      <td>56</td>\n    </tr>\n    <tr>\n      <th>23905</th>\n      <td>2</td>\n      <td>NaN</td>\n      <td>NaN</td>\n      <td>NaN</td>\n      <td>NaN</td>\n      <td>NaN</td>\n      <td>NaN</td>\n      <td>NaN</td>\n      <td>NaN</td>\n      <td>1715.666667</td>\n      <td>...</td>\n      <td>NaN</td>\n      <td>332834.0</td>\n      <td>332834.0</td>\n      <td>2.724419e+05</td>\n      <td>NaN</td>\n      <td>NaN</td>\n      <td>NaN</td>\n      <td>NaN</td>\n      <td>NaN</td>\n      <td>56</td>\n    </tr>\n  </tbody>\n</table>\n<p>23906 rows × 79 columns</p>\n</div>"
     },
     "execution_count": 9,
     "metadata": {},
     "output_type": "execute_result"
    }
   ],
   "source": [
    "ori_train = train.copy()\n",
    "# train = train.loc[train['bad_value']<41]\n",
    "train"
   ],
   "metadata": {
    "collapsed": false
   }
  },
  {
   "cell_type": "code",
   "execution_count": 10,
   "outputs": [
    {
     "data": {
      "text/plain": "       AGE  avg_amt_nontw_nonntd  avg_amt_nontw_ntd  avg_amt_tw_nonntd  \\\n0        4           9044.740741        3033.355556                0.0   \n1        2              0.000000           0.000000                0.0   \n2        4              0.000000           0.000000                0.0   \n3        4              0.000000           0.000000                0.0   \n4        3              0.000000           0.000000                0.0   \n...    ...                   ...                ...                ...   \n23901    3           4332.523077        1223.939446                0.0   \n23902    3              0.000000           0.000000                0.0   \n23903    6              0.000000           0.000000                0.0   \n23904    6              0.000000           0.000000                0.0   \n23905    2              0.000000           0.000000                0.0   \n\n       avg_amt_tw_ntd  avg_freq_nontw_nonntd  avg_freq_nontw_ntd  \\\n0         1388.550403               1.350000            1.097561   \n1            0.000000               0.000000            0.000000   \n2            0.000000               0.000000            0.000000   \n3         1893.333333               0.000000            0.000000   \n4         7048.368421               0.000000            0.000000   \n...               ...                    ...                 ...   \n23901      988.503826               1.160714            2.513043   \n23902        0.000000               0.000000            0.000000   \n23903        0.000000               0.000000            0.000000   \n23904        0.000000               0.000000            0.000000   \n23905        0.000000               0.000000            0.000000   \n\n       avg_freq_tw_nonntd  avg_freq_tw_ntd    cr_1_avg_tx  ...  \\\n0                     0.0         2.147186       0.000000  ...   \n1                     0.0         0.000000       0.000000  ...   \n2                     0.0         0.000000       0.000000  ...   \n3                     0.0         1.500000       0.000000  ...   \n4                     0.0         1.055556       0.000000  ...   \n...                   ...              ...            ...  ...   \n23901                 0.0         6.668367     932.000000  ...   \n23902                 0.0         0.000000       0.000000  ...   \n23903                 0.0         0.000000  360378.928571  ...   \n23904                 0.0         0.000000  369905.885463  ...   \n23905                 0.0         0.000000    1715.666667  ...   \n\n       total_amt_tw_ntd  total_asset  total_asset_x  total_asset_y  \\\n0              688721.0     375576.0       375576.0   4.886652e+05   \n1                   0.0    2717416.0      2717416.0   2.621840e+06   \n2                   0.0     326517.0       326517.0   3.265170e+05   \n3                5680.0    1014759.0      1014759.0   1.275499e+05   \n4              133919.0     241719.0       241719.0   2.212473e+05   \n...                 ...          ...            ...            ...   \n23901         2583949.0    3218731.0      3218731.0   2.361632e+06   \n23902               0.0     928963.0       928963.0   5.041325e+05   \n23903               0.0      69080.0        69080.0   7.500171e+04   \n23904               0.0     262604.0       262604.0   3.333440e+05   \n23905               0.0     332834.0       332834.0   2.724419e+05   \n\n       total_freq_nontw_nonntd  total_freq_nontw_ntd  total_freq_tw_nonntd  \\\n0                         27.0                  45.0                   0.0   \n1                          0.0                   0.0                   0.0   \n2                          0.0                   0.0                   0.0   \n3                          0.0                   0.0                   0.0   \n4                          0.0                   0.0                   0.0   \n...                        ...                   ...                   ...   \n23901                     65.0                 578.0                   0.0   \n23902                      0.0                   0.0                   0.0   \n23903                      0.0                   0.0                   0.0   \n23904                      0.0                   0.0                   0.0   \n23905                      0.0                   0.0                   0.0   \n\n       total_freq_tw_ntd  trade_sum  bad_value  \n0                  496.0        0.0         53  \n1                    0.0        0.0         59  \n2                    0.0        0.0         71  \n3                    3.0        0.0         61  \n4                   19.0        0.0         60  \n...                  ...        ...        ...  \n23901             2614.0   364459.0         43  \n23902                0.0    22127.0         61  \n23903                0.0    43676.0         60  \n23904                0.0        0.0         56  \n23905                0.0        0.0         56  \n\n[23906 rows x 79 columns]",
      "text/html": "<div>\n<style scoped>\n    .dataframe tbody tr th:only-of-type {\n        vertical-align: middle;\n    }\n\n    .dataframe tbody tr th {\n        vertical-align: top;\n    }\n\n    .dataframe thead th {\n        text-align: right;\n    }\n</style>\n<table border=\"1\" class=\"dataframe\">\n  <thead>\n    <tr style=\"text-align: right;\">\n      <th></th>\n      <th>AGE</th>\n      <th>avg_amt_nontw_nonntd</th>\n      <th>avg_amt_nontw_ntd</th>\n      <th>avg_amt_tw_nonntd</th>\n      <th>avg_amt_tw_ntd</th>\n      <th>avg_freq_nontw_nonntd</th>\n      <th>avg_freq_nontw_ntd</th>\n      <th>avg_freq_tw_nonntd</th>\n      <th>avg_freq_tw_ntd</th>\n      <th>cr_1_avg_tx</th>\n      <th>...</th>\n      <th>total_amt_tw_ntd</th>\n      <th>total_asset</th>\n      <th>total_asset_x</th>\n      <th>total_asset_y</th>\n      <th>total_freq_nontw_nonntd</th>\n      <th>total_freq_nontw_ntd</th>\n      <th>total_freq_tw_nonntd</th>\n      <th>total_freq_tw_ntd</th>\n      <th>trade_sum</th>\n      <th>bad_value</th>\n    </tr>\n  </thead>\n  <tbody>\n    <tr>\n      <th>0</th>\n      <td>4</td>\n      <td>9044.740741</td>\n      <td>3033.355556</td>\n      <td>0.0</td>\n      <td>1388.550403</td>\n      <td>1.350000</td>\n      <td>1.097561</td>\n      <td>0.0</td>\n      <td>2.147186</td>\n      <td>0.000000</td>\n      <td>...</td>\n      <td>688721.0</td>\n      <td>375576.0</td>\n      <td>375576.0</td>\n      <td>4.886652e+05</td>\n      <td>27.0</td>\n      <td>45.0</td>\n      <td>0.0</td>\n      <td>496.0</td>\n      <td>0.0</td>\n      <td>53</td>\n    </tr>\n    <tr>\n      <th>1</th>\n      <td>2</td>\n      <td>0.000000</td>\n      <td>0.000000</td>\n      <td>0.0</td>\n      <td>0.000000</td>\n      <td>0.000000</td>\n      <td>0.000000</td>\n      <td>0.0</td>\n      <td>0.000000</td>\n      <td>0.000000</td>\n      <td>...</td>\n      <td>0.0</td>\n      <td>2717416.0</td>\n      <td>2717416.0</td>\n      <td>2.621840e+06</td>\n      <td>0.0</td>\n      <td>0.0</td>\n      <td>0.0</td>\n      <td>0.0</td>\n      <td>0.0</td>\n      <td>59</td>\n    </tr>\n    <tr>\n      <th>2</th>\n      <td>4</td>\n      <td>0.000000</td>\n      <td>0.000000</td>\n      <td>0.0</td>\n      <td>0.000000</td>\n      <td>0.000000</td>\n      <td>0.000000</td>\n      <td>0.0</td>\n      <td>0.000000</td>\n      <td>0.000000</td>\n      <td>...</td>\n      <td>0.0</td>\n      <td>326517.0</td>\n      <td>326517.0</td>\n      <td>3.265170e+05</td>\n      <td>0.0</td>\n      <td>0.0</td>\n      <td>0.0</td>\n      <td>0.0</td>\n      <td>0.0</td>\n      <td>71</td>\n    </tr>\n    <tr>\n      <th>3</th>\n      <td>4</td>\n      <td>0.000000</td>\n      <td>0.000000</td>\n      <td>0.0</td>\n      <td>1893.333333</td>\n      <td>0.000000</td>\n      <td>0.000000</td>\n      <td>0.0</td>\n      <td>1.500000</td>\n      <td>0.000000</td>\n      <td>...</td>\n      <td>5680.0</td>\n      <td>1014759.0</td>\n      <td>1014759.0</td>\n      <td>1.275499e+05</td>\n      <td>0.0</td>\n      <td>0.0</td>\n      <td>0.0</td>\n      <td>3.0</td>\n      <td>0.0</td>\n      <td>61</td>\n    </tr>\n    <tr>\n      <th>4</th>\n      <td>3</td>\n      <td>0.000000</td>\n      <td>0.000000</td>\n      <td>0.0</td>\n      <td>7048.368421</td>\n      <td>0.000000</td>\n      <td>0.000000</td>\n      <td>0.0</td>\n      <td>1.055556</td>\n      <td>0.000000</td>\n      <td>...</td>\n      <td>133919.0</td>\n      <td>241719.0</td>\n      <td>241719.0</td>\n      <td>2.212473e+05</td>\n      <td>0.0</td>\n      <td>0.0</td>\n      <td>0.0</td>\n      <td>19.0</td>\n      <td>0.0</td>\n      <td>60</td>\n    </tr>\n    <tr>\n      <th>...</th>\n      <td>...</td>\n      <td>...</td>\n      <td>...</td>\n      <td>...</td>\n      <td>...</td>\n      <td>...</td>\n      <td>...</td>\n      <td>...</td>\n      <td>...</td>\n      <td>...</td>\n      <td>...</td>\n      <td>...</td>\n      <td>...</td>\n      <td>...</td>\n      <td>...</td>\n      <td>...</td>\n      <td>...</td>\n      <td>...</td>\n      <td>...</td>\n      <td>...</td>\n      <td>...</td>\n    </tr>\n    <tr>\n      <th>23901</th>\n      <td>3</td>\n      <td>4332.523077</td>\n      <td>1223.939446</td>\n      <td>0.0</td>\n      <td>988.503826</td>\n      <td>1.160714</td>\n      <td>2.513043</td>\n      <td>0.0</td>\n      <td>6.668367</td>\n      <td>932.000000</td>\n      <td>...</td>\n      <td>2583949.0</td>\n      <td>3218731.0</td>\n      <td>3218731.0</td>\n      <td>2.361632e+06</td>\n      <td>65.0</td>\n      <td>578.0</td>\n      <td>0.0</td>\n      <td>2614.0</td>\n      <td>364459.0</td>\n      <td>43</td>\n    </tr>\n    <tr>\n      <th>23902</th>\n      <td>3</td>\n      <td>0.000000</td>\n      <td>0.000000</td>\n      <td>0.0</td>\n      <td>0.000000</td>\n      <td>0.000000</td>\n      <td>0.000000</td>\n      <td>0.0</td>\n      <td>0.000000</td>\n      <td>0.000000</td>\n      <td>...</td>\n      <td>0.0</td>\n      <td>928963.0</td>\n      <td>928963.0</td>\n      <td>5.041325e+05</td>\n      <td>0.0</td>\n      <td>0.0</td>\n      <td>0.0</td>\n      <td>0.0</td>\n      <td>22127.0</td>\n      <td>61</td>\n    </tr>\n    <tr>\n      <th>23903</th>\n      <td>6</td>\n      <td>0.000000</td>\n      <td>0.000000</td>\n      <td>0.0</td>\n      <td>0.000000</td>\n      <td>0.000000</td>\n      <td>0.000000</td>\n      <td>0.0</td>\n      <td>0.000000</td>\n      <td>360378.928571</td>\n      <td>...</td>\n      <td>0.0</td>\n      <td>69080.0</td>\n      <td>69080.0</td>\n      <td>7.500171e+04</td>\n      <td>0.0</td>\n      <td>0.0</td>\n      <td>0.0</td>\n      <td>0.0</td>\n      <td>43676.0</td>\n      <td>60</td>\n    </tr>\n    <tr>\n      <th>23904</th>\n      <td>6</td>\n      <td>0.000000</td>\n      <td>0.000000</td>\n      <td>0.0</td>\n      <td>0.000000</td>\n      <td>0.000000</td>\n      <td>0.000000</td>\n      <td>0.0</td>\n      <td>0.000000</td>\n      <td>369905.885463</td>\n      <td>...</td>\n      <td>0.0</td>\n      <td>262604.0</td>\n      <td>262604.0</td>\n      <td>3.333440e+05</td>\n      <td>0.0</td>\n      <td>0.0</td>\n      <td>0.0</td>\n      <td>0.0</td>\n      <td>0.0</td>\n      <td>56</td>\n    </tr>\n    <tr>\n      <th>23905</th>\n      <td>2</td>\n      <td>0.000000</td>\n      <td>0.000000</td>\n      <td>0.0</td>\n      <td>0.000000</td>\n      <td>0.000000</td>\n      <td>0.000000</td>\n      <td>0.0</td>\n      <td>0.000000</td>\n      <td>1715.666667</td>\n      <td>...</td>\n      <td>0.0</td>\n      <td>332834.0</td>\n      <td>332834.0</td>\n      <td>2.724419e+05</td>\n      <td>0.0</td>\n      <td>0.0</td>\n      <td>0.0</td>\n      <td>0.0</td>\n      <td>0.0</td>\n      <td>56</td>\n    </tr>\n  </tbody>\n</table>\n<p>23906 rows × 79 columns</p>\n</div>"
     },
     "execution_count": 10,
     "metadata": {},
     "output_type": "execute_result"
    }
   ],
   "source": [
    "ori_train.iloc[:, 1:] = ori_train.iloc[:, 1:].fillna(0)\n",
    "train.iloc[:, 1:] = train.iloc[:, 1:].fillna(0)\n",
    "train"
   ],
   "metadata": {
    "collapsed": false
   }
  },
  {
   "cell_type": "code",
   "execution_count": 11,
   "outputs": [
    {
     "data": {
      "text/plain": "       AGE  avg_amt_nontw_nonntd  avg_amt_nontw_ntd  avg_amt_tw_nonntd  \\\n0        4           9044.740741        3033.355556                0.0   \n1        2              0.000000           0.000000                0.0   \n2        4              0.000000           0.000000                0.0   \n3        4              0.000000           0.000000                0.0   \n4        3              0.000000           0.000000                0.0   \n...    ...                   ...                ...                ...   \n23901    3           4332.523077        1223.939446                0.0   \n23902    3              0.000000           0.000000                0.0   \n23903    6              0.000000           0.000000                0.0   \n23904    6              0.000000           0.000000                0.0   \n23905    2              0.000000           0.000000                0.0   \n\n       avg_amt_tw_ntd  avg_freq_nontw_nonntd  avg_freq_nontw_ntd  \\\n0         1388.550403               1.350000            1.097561   \n1            0.000000               0.000000            0.000000   \n2            0.000000               0.000000            0.000000   \n3         1893.333333               0.000000            0.000000   \n4         7048.368421               0.000000            0.000000   \n...               ...                    ...                 ...   \n23901      988.503826               1.160714            2.513043   \n23902        0.000000               0.000000            0.000000   \n23903        0.000000               0.000000            0.000000   \n23904        0.000000               0.000000            0.000000   \n23905        0.000000               0.000000            0.000000   \n\n       avg_freq_tw_nonntd  avg_freq_tw_ntd    cr_1_avg_tx  ...  \\\n0                     0.0         2.147186       0.000000  ...   \n1                     0.0         0.000000       0.000000  ...   \n2                     0.0         0.000000       0.000000  ...   \n3                     0.0         1.500000       0.000000  ...   \n4                     0.0         1.055556       0.000000  ...   \n...                   ...              ...            ...  ...   \n23901                 0.0         6.668367     932.000000  ...   \n23902                 0.0         0.000000       0.000000  ...   \n23903                 0.0         0.000000  360378.928571  ...   \n23904                 0.0         0.000000  369905.885463  ...   \n23905                 0.0         0.000000    1715.666667  ...   \n\n       total_amt_tw_nonntd  total_amt_tw_ntd  total_asset  total_asset_x  \\\n0                      0.0          688721.0     375576.0       375576.0   \n1                      0.0               0.0    2717416.0      2717416.0   \n2                      0.0               0.0     326517.0       326517.0   \n3                      0.0            5680.0    1014759.0      1014759.0   \n4                      0.0          133919.0     241719.0       241719.0   \n...                    ...               ...          ...            ...   \n23901                  0.0         2583949.0    3218731.0      3218731.0   \n23902                  0.0               0.0     928963.0       928963.0   \n23903                  0.0               0.0      69080.0        69080.0   \n23904                  0.0               0.0     262604.0       262604.0   \n23905                  0.0               0.0     332834.0       332834.0   \n\n       total_asset_y  total_freq_nontw_nonntd  total_freq_nontw_ntd  \\\n0       4.886652e+05                     27.0                  45.0   \n1       2.621840e+06                      0.0                   0.0   \n2       3.265170e+05                      0.0                   0.0   \n3       1.275499e+05                      0.0                   0.0   \n4       2.212473e+05                      0.0                   0.0   \n...              ...                      ...                   ...   \n23901   2.361632e+06                     65.0                 578.0   \n23902   5.041325e+05                      0.0                   0.0   \n23903   7.500171e+04                      0.0                   0.0   \n23904   3.333440e+05                      0.0                   0.0   \n23905   2.724419e+05                      0.0                   0.0   \n\n       total_freq_tw_nonntd  total_freq_tw_ntd  trade_sum  \n0                       0.0              496.0        0.0  \n1                       0.0                0.0        0.0  \n2                       0.0                0.0        0.0  \n3                       0.0                3.0        0.0  \n4                       0.0               19.0        0.0  \n...                     ...                ...        ...  \n23901                   0.0             2614.0   364459.0  \n23902                   0.0                0.0    22127.0  \n23903                   0.0                0.0    43676.0  \n23904                   0.0                0.0        0.0  \n23905                   0.0                0.0        0.0  \n\n[23906 rows x 78 columns]",
      "text/html": "<div>\n<style scoped>\n    .dataframe tbody tr th:only-of-type {\n        vertical-align: middle;\n    }\n\n    .dataframe tbody tr th {\n        vertical-align: top;\n    }\n\n    .dataframe thead th {\n        text-align: right;\n    }\n</style>\n<table border=\"1\" class=\"dataframe\">\n  <thead>\n    <tr style=\"text-align: right;\">\n      <th></th>\n      <th>AGE</th>\n      <th>avg_amt_nontw_nonntd</th>\n      <th>avg_amt_nontw_ntd</th>\n      <th>avg_amt_tw_nonntd</th>\n      <th>avg_amt_tw_ntd</th>\n      <th>avg_freq_nontw_nonntd</th>\n      <th>avg_freq_nontw_ntd</th>\n      <th>avg_freq_tw_nonntd</th>\n      <th>avg_freq_tw_ntd</th>\n      <th>cr_1_avg_tx</th>\n      <th>...</th>\n      <th>total_amt_tw_nonntd</th>\n      <th>total_amt_tw_ntd</th>\n      <th>total_asset</th>\n      <th>total_asset_x</th>\n      <th>total_asset_y</th>\n      <th>total_freq_nontw_nonntd</th>\n      <th>total_freq_nontw_ntd</th>\n      <th>total_freq_tw_nonntd</th>\n      <th>total_freq_tw_ntd</th>\n      <th>trade_sum</th>\n    </tr>\n  </thead>\n  <tbody>\n    <tr>\n      <th>0</th>\n      <td>4</td>\n      <td>9044.740741</td>\n      <td>3033.355556</td>\n      <td>0.0</td>\n      <td>1388.550403</td>\n      <td>1.350000</td>\n      <td>1.097561</td>\n      <td>0.0</td>\n      <td>2.147186</td>\n      <td>0.000000</td>\n      <td>...</td>\n      <td>0.0</td>\n      <td>688721.0</td>\n      <td>375576.0</td>\n      <td>375576.0</td>\n      <td>4.886652e+05</td>\n      <td>27.0</td>\n      <td>45.0</td>\n      <td>0.0</td>\n      <td>496.0</td>\n      <td>0.0</td>\n    </tr>\n    <tr>\n      <th>1</th>\n      <td>2</td>\n      <td>0.000000</td>\n      <td>0.000000</td>\n      <td>0.0</td>\n      <td>0.000000</td>\n      <td>0.000000</td>\n      <td>0.000000</td>\n      <td>0.0</td>\n      <td>0.000000</td>\n      <td>0.000000</td>\n      <td>...</td>\n      <td>0.0</td>\n      <td>0.0</td>\n      <td>2717416.0</td>\n      <td>2717416.0</td>\n      <td>2.621840e+06</td>\n      <td>0.0</td>\n      <td>0.0</td>\n      <td>0.0</td>\n      <td>0.0</td>\n      <td>0.0</td>\n    </tr>\n    <tr>\n      <th>2</th>\n      <td>4</td>\n      <td>0.000000</td>\n      <td>0.000000</td>\n      <td>0.0</td>\n      <td>0.000000</td>\n      <td>0.000000</td>\n      <td>0.000000</td>\n      <td>0.0</td>\n      <td>0.000000</td>\n      <td>0.000000</td>\n      <td>...</td>\n      <td>0.0</td>\n      <td>0.0</td>\n      <td>326517.0</td>\n      <td>326517.0</td>\n      <td>3.265170e+05</td>\n      <td>0.0</td>\n      <td>0.0</td>\n      <td>0.0</td>\n      <td>0.0</td>\n      <td>0.0</td>\n    </tr>\n    <tr>\n      <th>3</th>\n      <td>4</td>\n      <td>0.000000</td>\n      <td>0.000000</td>\n      <td>0.0</td>\n      <td>1893.333333</td>\n      <td>0.000000</td>\n      <td>0.000000</td>\n      <td>0.0</td>\n      <td>1.500000</td>\n      <td>0.000000</td>\n      <td>...</td>\n      <td>0.0</td>\n      <td>5680.0</td>\n      <td>1014759.0</td>\n      <td>1014759.0</td>\n      <td>1.275499e+05</td>\n      <td>0.0</td>\n      <td>0.0</td>\n      <td>0.0</td>\n      <td>3.0</td>\n      <td>0.0</td>\n    </tr>\n    <tr>\n      <th>4</th>\n      <td>3</td>\n      <td>0.000000</td>\n      <td>0.000000</td>\n      <td>0.0</td>\n      <td>7048.368421</td>\n      <td>0.000000</td>\n      <td>0.000000</td>\n      <td>0.0</td>\n      <td>1.055556</td>\n      <td>0.000000</td>\n      <td>...</td>\n      <td>0.0</td>\n      <td>133919.0</td>\n      <td>241719.0</td>\n      <td>241719.0</td>\n      <td>2.212473e+05</td>\n      <td>0.0</td>\n      <td>0.0</td>\n      <td>0.0</td>\n      <td>19.0</td>\n      <td>0.0</td>\n    </tr>\n    <tr>\n      <th>...</th>\n      <td>...</td>\n      <td>...</td>\n      <td>...</td>\n      <td>...</td>\n      <td>...</td>\n      <td>...</td>\n      <td>...</td>\n      <td>...</td>\n      <td>...</td>\n      <td>...</td>\n      <td>...</td>\n      <td>...</td>\n      <td>...</td>\n      <td>...</td>\n      <td>...</td>\n      <td>...</td>\n      <td>...</td>\n      <td>...</td>\n      <td>...</td>\n      <td>...</td>\n      <td>...</td>\n    </tr>\n    <tr>\n      <th>23901</th>\n      <td>3</td>\n      <td>4332.523077</td>\n      <td>1223.939446</td>\n      <td>0.0</td>\n      <td>988.503826</td>\n      <td>1.160714</td>\n      <td>2.513043</td>\n      <td>0.0</td>\n      <td>6.668367</td>\n      <td>932.000000</td>\n      <td>...</td>\n      <td>0.0</td>\n      <td>2583949.0</td>\n      <td>3218731.0</td>\n      <td>3218731.0</td>\n      <td>2.361632e+06</td>\n      <td>65.0</td>\n      <td>578.0</td>\n      <td>0.0</td>\n      <td>2614.0</td>\n      <td>364459.0</td>\n    </tr>\n    <tr>\n      <th>23902</th>\n      <td>3</td>\n      <td>0.000000</td>\n      <td>0.000000</td>\n      <td>0.0</td>\n      <td>0.000000</td>\n      <td>0.000000</td>\n      <td>0.000000</td>\n      <td>0.0</td>\n      <td>0.000000</td>\n      <td>0.000000</td>\n      <td>...</td>\n      <td>0.0</td>\n      <td>0.0</td>\n      <td>928963.0</td>\n      <td>928963.0</td>\n      <td>5.041325e+05</td>\n      <td>0.0</td>\n      <td>0.0</td>\n      <td>0.0</td>\n      <td>0.0</td>\n      <td>22127.0</td>\n    </tr>\n    <tr>\n      <th>23903</th>\n      <td>6</td>\n      <td>0.000000</td>\n      <td>0.000000</td>\n      <td>0.0</td>\n      <td>0.000000</td>\n      <td>0.000000</td>\n      <td>0.000000</td>\n      <td>0.0</td>\n      <td>0.000000</td>\n      <td>360378.928571</td>\n      <td>...</td>\n      <td>0.0</td>\n      <td>0.0</td>\n      <td>69080.0</td>\n      <td>69080.0</td>\n      <td>7.500171e+04</td>\n      <td>0.0</td>\n      <td>0.0</td>\n      <td>0.0</td>\n      <td>0.0</td>\n      <td>43676.0</td>\n    </tr>\n    <tr>\n      <th>23904</th>\n      <td>6</td>\n      <td>0.000000</td>\n      <td>0.000000</td>\n      <td>0.0</td>\n      <td>0.000000</td>\n      <td>0.000000</td>\n      <td>0.000000</td>\n      <td>0.0</td>\n      <td>0.000000</td>\n      <td>369905.885463</td>\n      <td>...</td>\n      <td>0.0</td>\n      <td>0.0</td>\n      <td>262604.0</td>\n      <td>262604.0</td>\n      <td>3.333440e+05</td>\n      <td>0.0</td>\n      <td>0.0</td>\n      <td>0.0</td>\n      <td>0.0</td>\n      <td>0.0</td>\n    </tr>\n    <tr>\n      <th>23905</th>\n      <td>2</td>\n      <td>0.000000</td>\n      <td>0.000000</td>\n      <td>0.0</td>\n      <td>0.000000</td>\n      <td>0.000000</td>\n      <td>0.000000</td>\n      <td>0.0</td>\n      <td>0.000000</td>\n      <td>1715.666667</td>\n      <td>...</td>\n      <td>0.0</td>\n      <td>0.0</td>\n      <td>332834.0</td>\n      <td>332834.0</td>\n      <td>2.724419e+05</td>\n      <td>0.0</td>\n      <td>0.0</td>\n      <td>0.0</td>\n      <td>0.0</td>\n      <td>0.0</td>\n    </tr>\n  </tbody>\n</table>\n<p>23906 rows × 78 columns</p>\n</div>"
     },
     "execution_count": 11,
     "metadata": {},
     "output_type": "execute_result"
    }
   ],
   "source": [
    "ori_train = ori_train.drop(['bad_value'], axis=1)\n",
    "train = train.drop(['bad_value'], axis=1)\n",
    "train"
   ],
   "metadata": {
    "collapsed": false
   }
  },
  {
   "cell_type": "code",
   "execution_count": 12,
   "outputs": [
    {
     "data": {
      "text/plain": "       AGE  avg_amt_nontw_nonntd  avg_amt_nontw_ntd  avg_amt_tw_nonntd  \\\n0        4           9044.740741        3033.355556                0.0   \n1        2              0.000000           0.000000                0.0   \n2        4              0.000000           0.000000                0.0   \n3        4              0.000000           0.000000                0.0   \n4        3              0.000000           0.000000                0.0   \n...    ...                   ...                ...                ...   \n23901    3           4332.523077        1223.939446                0.0   \n23902    3              0.000000           0.000000                0.0   \n23903    6              0.000000           0.000000                0.0   \n23904    6              0.000000           0.000000                0.0   \n23905    2              0.000000           0.000000                0.0   \n\n       avg_amt_tw_ntd  avg_freq_nontw_nonntd  avg_freq_nontw_ntd  \\\n0         1388.550403               1.350000            1.097561   \n1            0.000000               0.000000            0.000000   \n2            0.000000               0.000000            0.000000   \n3         1893.333333               0.000000            0.000000   \n4         7048.368421               0.000000            0.000000   \n...               ...                    ...                 ...   \n23901      988.503826               1.160714            2.513043   \n23902        0.000000               0.000000            0.000000   \n23903        0.000000               0.000000            0.000000   \n23904        0.000000               0.000000            0.000000   \n23905        0.000000               0.000000            0.000000   \n\n       avg_freq_tw_nonntd  avg_freq_tw_ntd    cr_1_avg_tx  ...  \\\n0                     0.0         2.147186       0.000000  ...   \n1                     0.0         0.000000       0.000000  ...   \n2                     0.0         0.000000       0.000000  ...   \n3                     0.0         1.500000       0.000000  ...   \n4                     0.0         1.055556       0.000000  ...   \n...                   ...              ...            ...  ...   \n23901                 0.0         6.668367     932.000000  ...   \n23902                 0.0         0.000000       0.000000  ...   \n23903                 0.0         0.000000  360378.928571  ...   \n23904                 0.0         0.000000  369905.885463  ...   \n23905                 0.0         0.000000    1715.666667  ...   \n\n       total_amt_tw_nonntd  total_amt_tw_ntd  total_asset  total_asset_x  \\\n0                      0.0          688721.0     375576.0       375576.0   \n1                      0.0               0.0    2717416.0      2717416.0   \n2                      0.0               0.0     326517.0       326517.0   \n3                      0.0            5680.0    1014759.0      1014759.0   \n4                      0.0          133919.0     241719.0       241719.0   \n...                    ...               ...          ...            ...   \n23901                  0.0         2583949.0    3218731.0      3218731.0   \n23902                  0.0               0.0     928963.0       928963.0   \n23903                  0.0               0.0      69080.0        69080.0   \n23904                  0.0               0.0     262604.0       262604.0   \n23905                  0.0               0.0     332834.0       332834.0   \n\n       total_asset_y  total_freq_nontw_nonntd  total_freq_nontw_ntd  \\\n0       4.886652e+05                     27.0                  45.0   \n1       2.621840e+06                      0.0                   0.0   \n2       3.265170e+05                      0.0                   0.0   \n3       1.275499e+05                      0.0                   0.0   \n4       2.212473e+05                      0.0                   0.0   \n...              ...                      ...                   ...   \n23901   2.361632e+06                     65.0                 578.0   \n23902   5.041325e+05                      0.0                   0.0   \n23903   7.500171e+04                      0.0                   0.0   \n23904   3.333440e+05                      0.0                   0.0   \n23905   2.724419e+05                      0.0                   0.0   \n\n       total_freq_tw_nonntd  total_freq_tw_ntd  trade_sum  \n0                       0.0              496.0        0.0  \n1                       0.0                0.0        0.0  \n2                       0.0                0.0        0.0  \n3                       0.0                3.0        0.0  \n4                       0.0               19.0        0.0  \n...                     ...                ...        ...  \n23901                   0.0             2614.0   364459.0  \n23902                   0.0                0.0    22127.0  \n23903                   0.0                0.0    43676.0  \n23904                   0.0                0.0        0.0  \n23905                   0.0                0.0        0.0  \n\n[23906 rows x 77 columns]",
      "text/html": "<div>\n<style scoped>\n    .dataframe tbody tr th:only-of-type {\n        vertical-align: middle;\n    }\n\n    .dataframe tbody tr th {\n        vertical-align: top;\n    }\n\n    .dataframe thead th {\n        text-align: right;\n    }\n</style>\n<table border=\"1\" class=\"dataframe\">\n  <thead>\n    <tr style=\"text-align: right;\">\n      <th></th>\n      <th>AGE</th>\n      <th>avg_amt_nontw_nonntd</th>\n      <th>avg_amt_nontw_ntd</th>\n      <th>avg_amt_tw_nonntd</th>\n      <th>avg_amt_tw_ntd</th>\n      <th>avg_freq_nontw_nonntd</th>\n      <th>avg_freq_nontw_ntd</th>\n      <th>avg_freq_tw_nonntd</th>\n      <th>avg_freq_tw_ntd</th>\n      <th>cr_1_avg_tx</th>\n      <th>...</th>\n      <th>total_amt_tw_nonntd</th>\n      <th>total_amt_tw_ntd</th>\n      <th>total_asset</th>\n      <th>total_asset_x</th>\n      <th>total_asset_y</th>\n      <th>total_freq_nontw_nonntd</th>\n      <th>total_freq_nontw_ntd</th>\n      <th>total_freq_tw_nonntd</th>\n      <th>total_freq_tw_ntd</th>\n      <th>trade_sum</th>\n    </tr>\n  </thead>\n  <tbody>\n    <tr>\n      <th>0</th>\n      <td>4</td>\n      <td>9044.740741</td>\n      <td>3033.355556</td>\n      <td>0.0</td>\n      <td>1388.550403</td>\n      <td>1.350000</td>\n      <td>1.097561</td>\n      <td>0.0</td>\n      <td>2.147186</td>\n      <td>0.000000</td>\n      <td>...</td>\n      <td>0.0</td>\n      <td>688721.0</td>\n      <td>375576.0</td>\n      <td>375576.0</td>\n      <td>4.886652e+05</td>\n      <td>27.0</td>\n      <td>45.0</td>\n      <td>0.0</td>\n      <td>496.0</td>\n      <td>0.0</td>\n    </tr>\n    <tr>\n      <th>1</th>\n      <td>2</td>\n      <td>0.000000</td>\n      <td>0.000000</td>\n      <td>0.0</td>\n      <td>0.000000</td>\n      <td>0.000000</td>\n      <td>0.000000</td>\n      <td>0.0</td>\n      <td>0.000000</td>\n      <td>0.000000</td>\n      <td>...</td>\n      <td>0.0</td>\n      <td>0.0</td>\n      <td>2717416.0</td>\n      <td>2717416.0</td>\n      <td>2.621840e+06</td>\n      <td>0.0</td>\n      <td>0.0</td>\n      <td>0.0</td>\n      <td>0.0</td>\n      <td>0.0</td>\n    </tr>\n    <tr>\n      <th>2</th>\n      <td>4</td>\n      <td>0.000000</td>\n      <td>0.000000</td>\n      <td>0.0</td>\n      <td>0.000000</td>\n      <td>0.000000</td>\n      <td>0.000000</td>\n      <td>0.0</td>\n      <td>0.000000</td>\n      <td>0.000000</td>\n      <td>...</td>\n      <td>0.0</td>\n      <td>0.0</td>\n      <td>326517.0</td>\n      <td>326517.0</td>\n      <td>3.265170e+05</td>\n      <td>0.0</td>\n      <td>0.0</td>\n      <td>0.0</td>\n      <td>0.0</td>\n      <td>0.0</td>\n    </tr>\n    <tr>\n      <th>3</th>\n      <td>4</td>\n      <td>0.000000</td>\n      <td>0.000000</td>\n      <td>0.0</td>\n      <td>1893.333333</td>\n      <td>0.000000</td>\n      <td>0.000000</td>\n      <td>0.0</td>\n      <td>1.500000</td>\n      <td>0.000000</td>\n      <td>...</td>\n      <td>0.0</td>\n      <td>5680.0</td>\n      <td>1014759.0</td>\n      <td>1014759.0</td>\n      <td>1.275499e+05</td>\n      <td>0.0</td>\n      <td>0.0</td>\n      <td>0.0</td>\n      <td>3.0</td>\n      <td>0.0</td>\n    </tr>\n    <tr>\n      <th>4</th>\n      <td>3</td>\n      <td>0.000000</td>\n      <td>0.000000</td>\n      <td>0.0</td>\n      <td>7048.368421</td>\n      <td>0.000000</td>\n      <td>0.000000</td>\n      <td>0.0</td>\n      <td>1.055556</td>\n      <td>0.000000</td>\n      <td>...</td>\n      <td>0.0</td>\n      <td>133919.0</td>\n      <td>241719.0</td>\n      <td>241719.0</td>\n      <td>2.212473e+05</td>\n      <td>0.0</td>\n      <td>0.0</td>\n      <td>0.0</td>\n      <td>19.0</td>\n      <td>0.0</td>\n    </tr>\n    <tr>\n      <th>...</th>\n      <td>...</td>\n      <td>...</td>\n      <td>...</td>\n      <td>...</td>\n      <td>...</td>\n      <td>...</td>\n      <td>...</td>\n      <td>...</td>\n      <td>...</td>\n      <td>...</td>\n      <td>...</td>\n      <td>...</td>\n      <td>...</td>\n      <td>...</td>\n      <td>...</td>\n      <td>...</td>\n      <td>...</td>\n      <td>...</td>\n      <td>...</td>\n      <td>...</td>\n      <td>...</td>\n    </tr>\n    <tr>\n      <th>23901</th>\n      <td>3</td>\n      <td>4332.523077</td>\n      <td>1223.939446</td>\n      <td>0.0</td>\n      <td>988.503826</td>\n      <td>1.160714</td>\n      <td>2.513043</td>\n      <td>0.0</td>\n      <td>6.668367</td>\n      <td>932.000000</td>\n      <td>...</td>\n      <td>0.0</td>\n      <td>2583949.0</td>\n      <td>3218731.0</td>\n      <td>3218731.0</td>\n      <td>2.361632e+06</td>\n      <td>65.0</td>\n      <td>578.0</td>\n      <td>0.0</td>\n      <td>2614.0</td>\n      <td>364459.0</td>\n    </tr>\n    <tr>\n      <th>23902</th>\n      <td>3</td>\n      <td>0.000000</td>\n      <td>0.000000</td>\n      <td>0.0</td>\n      <td>0.000000</td>\n      <td>0.000000</td>\n      <td>0.000000</td>\n      <td>0.0</td>\n      <td>0.000000</td>\n      <td>0.000000</td>\n      <td>...</td>\n      <td>0.0</td>\n      <td>0.0</td>\n      <td>928963.0</td>\n      <td>928963.0</td>\n      <td>5.041325e+05</td>\n      <td>0.0</td>\n      <td>0.0</td>\n      <td>0.0</td>\n      <td>0.0</td>\n      <td>22127.0</td>\n    </tr>\n    <tr>\n      <th>23903</th>\n      <td>6</td>\n      <td>0.000000</td>\n      <td>0.000000</td>\n      <td>0.0</td>\n      <td>0.000000</td>\n      <td>0.000000</td>\n      <td>0.000000</td>\n      <td>0.0</td>\n      <td>0.000000</td>\n      <td>360378.928571</td>\n      <td>...</td>\n      <td>0.0</td>\n      <td>0.0</td>\n      <td>69080.0</td>\n      <td>69080.0</td>\n      <td>7.500171e+04</td>\n      <td>0.0</td>\n      <td>0.0</td>\n      <td>0.0</td>\n      <td>0.0</td>\n      <td>43676.0</td>\n    </tr>\n    <tr>\n      <th>23904</th>\n      <td>6</td>\n      <td>0.000000</td>\n      <td>0.000000</td>\n      <td>0.0</td>\n      <td>0.000000</td>\n      <td>0.000000</td>\n      <td>0.000000</td>\n      <td>0.0</td>\n      <td>0.000000</td>\n      <td>369905.885463</td>\n      <td>...</td>\n      <td>0.0</td>\n      <td>0.0</td>\n      <td>262604.0</td>\n      <td>262604.0</td>\n      <td>3.333440e+05</td>\n      <td>0.0</td>\n      <td>0.0</td>\n      <td>0.0</td>\n      <td>0.0</td>\n      <td>0.0</td>\n    </tr>\n    <tr>\n      <th>23905</th>\n      <td>2</td>\n      <td>0.000000</td>\n      <td>0.000000</td>\n      <td>0.0</td>\n      <td>0.000000</td>\n      <td>0.000000</td>\n      <td>0.000000</td>\n      <td>0.0</td>\n      <td>0.000000</td>\n      <td>1715.666667</td>\n      <td>...</td>\n      <td>0.0</td>\n      <td>0.0</td>\n      <td>332834.0</td>\n      <td>332834.0</td>\n      <td>2.724419e+05</td>\n      <td>0.0</td>\n      <td>0.0</td>\n      <td>0.0</td>\n      <td>0.0</td>\n      <td>0.0</td>\n    </tr>\n  </tbody>\n</table>\n<p>23906 rows × 77 columns</p>\n</div>"
     },
     "execution_count": 12,
     "metadata": {},
     "output_type": "execute_result"
    }
   ],
   "source": [
    "# Training\n",
    "ori_train_x = ori_train.loc[:, train.columns != 'sar_flag']\n",
    "ori_train_y = ori_train.loc[:, train.columns == 'sar_flag']\n",
    "train_x = train.loc[:, train.columns != 'sar_flag']\n",
    "train_y = train.loc[:, train.columns == 'sar_flag']\n",
    "train_x"
   ],
   "metadata": {
    "collapsed": false
   }
  },
  {
   "cell_type": "code",
   "execution_count": 13,
   "outputs": [],
   "source": [
    "#normalize\n",
    "from sklearn import preprocessing\n",
    "\n",
    "def normalize_mms(input_df):\n",
    "    scaler = preprocessing.MinMaxScaler()\n",
    "    result = scaler.fit_transform(input_df)\n",
    "    return pd.DataFrame(result, index=input_df.index, columns=input_df.columns)"
   ],
   "metadata": {
    "collapsed": false
   }
  },
  {
   "cell_type": "code",
   "execution_count": 14,
   "outputs": [
    {
     "data": {
      "text/plain": "       AGE  avg_amt_nontw_nonntd  avg_amt_nontw_ntd  avg_amt_tw_nonntd  \\\n0      0.4              0.005648           0.018591                0.0   \n1      0.2              0.000000           0.000000                0.0   \n2      0.4              0.000000           0.000000                0.0   \n3      0.4              0.000000           0.000000                0.0   \n4      0.3              0.000000           0.000000                0.0   \n...    ...                   ...                ...                ...   \n23901  0.3              0.002705           0.007501                0.0   \n23902  0.3              0.000000           0.000000                0.0   \n23903  0.6              0.000000           0.000000                0.0   \n23904  0.6              0.000000           0.000000                0.0   \n23905  0.2              0.000000           0.000000                0.0   \n\n       avg_amt_tw_ntd  avg_freq_nontw_nonntd  avg_freq_nontw_ntd  \\\n0            0.000110               0.004122            0.055273   \n1            0.000000               0.000000            0.000000   \n2            0.000000               0.000000            0.000000   \n3            0.000151               0.000000            0.000000   \n4            0.000560               0.000000            0.000000   \n...               ...                    ...                 ...   \n23901        0.000079               0.003544            0.126556   \n23902        0.000000               0.000000            0.000000   \n23903        0.000000               0.000000            0.000000   \n23904        0.000000               0.000000            0.000000   \n23905        0.000000               0.000000            0.000000   \n\n       avg_freq_tw_nonntd  avg_freq_tw_ntd  cr_1_avg_tx  ...  \\\n0                     0.0         0.031604     0.000308  ...   \n1                     0.0         0.000000     0.000308  ...   \n2                     0.0         0.000000     0.000308  ...   \n3                     0.0         0.022078     0.000308  ...   \n4                     0.0         0.015536     0.000308  ...   \n...                   ...              ...          ...  ...   \n23901                 0.0         0.098149     0.000354  ...   \n23902                 0.0         0.000000     0.000308  ...   \n23903                 0.0         0.000000     0.018332  ...   \n23904                 0.0         0.000000     0.018809  ...   \n23905                 0.0         0.000000     0.000393  ...   \n\n       total_amt_tw_nonntd  total_amt_tw_ntd  total_asset  total_asset_x  \\\n0                      0.0          0.001897     0.005085       0.005085   \n1                      0.0          0.000000     0.036790       0.036790   \n2                      0.0          0.000000     0.004421       0.004421   \n3                      0.0          0.000016     0.013738       0.013738   \n4                      0.0          0.000369     0.003273       0.003273   \n...                    ...               ...          ...            ...   \n23901                  0.0          0.007115     0.043577       0.043577   \n23902                  0.0          0.000000     0.012577       0.012577   \n23903                  0.0          0.000000     0.000935       0.000935   \n23904                  0.0          0.000000     0.003555       0.003555   \n23905                  0.0          0.000000     0.004506       0.004506   \n\n       total_asset_y  total_freq_nontw_nonntd  total_freq_nontw_ntd  \\\n0           0.009321                 0.000229              0.011081   \n1           0.050010                 0.000000              0.000000   \n2           0.006228                 0.000000              0.000000   \n3           0.002433                 0.000000              0.000000   \n4           0.004220                 0.000000              0.000000   \n...              ...                      ...                   ...   \n23901       0.045047                 0.000551              0.142329   \n23902       0.009616                 0.000000              0.000000   \n23903       0.001431                 0.000000              0.000000   \n23904       0.006358                 0.000000              0.000000   \n23905       0.005197                 0.000000              0.000000   \n\n       total_freq_tw_nonntd  total_freq_tw_ntd  trade_sum  \n0                       0.0           0.023780   0.000000  \n1                       0.0           0.000000   0.000000  \n2                       0.0           0.000000   0.000000  \n3                       0.0           0.000144   0.000000  \n4                       0.0           0.000911   0.000000  \n...                     ...                ...        ...  \n23901                   0.0           0.125324   0.008875  \n23902                   0.0           0.000000   0.000539  \n23903                   0.0           0.000000   0.001064  \n23904                   0.0           0.000000   0.000000  \n23905                   0.0           0.000000   0.000000  \n\n[23906 rows x 77 columns]",
      "text/html": "<div>\n<style scoped>\n    .dataframe tbody tr th:only-of-type {\n        vertical-align: middle;\n    }\n\n    .dataframe tbody tr th {\n        vertical-align: top;\n    }\n\n    .dataframe thead th {\n        text-align: right;\n    }\n</style>\n<table border=\"1\" class=\"dataframe\">\n  <thead>\n    <tr style=\"text-align: right;\">\n      <th></th>\n      <th>AGE</th>\n      <th>avg_amt_nontw_nonntd</th>\n      <th>avg_amt_nontw_ntd</th>\n      <th>avg_amt_tw_nonntd</th>\n      <th>avg_amt_tw_ntd</th>\n      <th>avg_freq_nontw_nonntd</th>\n      <th>avg_freq_nontw_ntd</th>\n      <th>avg_freq_tw_nonntd</th>\n      <th>avg_freq_tw_ntd</th>\n      <th>cr_1_avg_tx</th>\n      <th>...</th>\n      <th>total_amt_tw_nonntd</th>\n      <th>total_amt_tw_ntd</th>\n      <th>total_asset</th>\n      <th>total_asset_x</th>\n      <th>total_asset_y</th>\n      <th>total_freq_nontw_nonntd</th>\n      <th>total_freq_nontw_ntd</th>\n      <th>total_freq_tw_nonntd</th>\n      <th>total_freq_tw_ntd</th>\n      <th>trade_sum</th>\n    </tr>\n  </thead>\n  <tbody>\n    <tr>\n      <th>0</th>\n      <td>0.4</td>\n      <td>0.005648</td>\n      <td>0.018591</td>\n      <td>0.0</td>\n      <td>0.000110</td>\n      <td>0.004122</td>\n      <td>0.055273</td>\n      <td>0.0</td>\n      <td>0.031604</td>\n      <td>0.000308</td>\n      <td>...</td>\n      <td>0.0</td>\n      <td>0.001897</td>\n      <td>0.005085</td>\n      <td>0.005085</td>\n      <td>0.009321</td>\n      <td>0.000229</td>\n      <td>0.011081</td>\n      <td>0.0</td>\n      <td>0.023780</td>\n      <td>0.000000</td>\n    </tr>\n    <tr>\n      <th>1</th>\n      <td>0.2</td>\n      <td>0.000000</td>\n      <td>0.000000</td>\n      <td>0.0</td>\n      <td>0.000000</td>\n      <td>0.000000</td>\n      <td>0.000000</td>\n      <td>0.0</td>\n      <td>0.000000</td>\n      <td>0.000308</td>\n      <td>...</td>\n      <td>0.0</td>\n      <td>0.000000</td>\n      <td>0.036790</td>\n      <td>0.036790</td>\n      <td>0.050010</td>\n      <td>0.000000</td>\n      <td>0.000000</td>\n      <td>0.0</td>\n      <td>0.000000</td>\n      <td>0.000000</td>\n    </tr>\n    <tr>\n      <th>2</th>\n      <td>0.4</td>\n      <td>0.000000</td>\n      <td>0.000000</td>\n      <td>0.0</td>\n      <td>0.000000</td>\n      <td>0.000000</td>\n      <td>0.000000</td>\n      <td>0.0</td>\n      <td>0.000000</td>\n      <td>0.000308</td>\n      <td>...</td>\n      <td>0.0</td>\n      <td>0.000000</td>\n      <td>0.004421</td>\n      <td>0.004421</td>\n      <td>0.006228</td>\n      <td>0.000000</td>\n      <td>0.000000</td>\n      <td>0.0</td>\n      <td>0.000000</td>\n      <td>0.000000</td>\n    </tr>\n    <tr>\n      <th>3</th>\n      <td>0.4</td>\n      <td>0.000000</td>\n      <td>0.000000</td>\n      <td>0.0</td>\n      <td>0.000151</td>\n      <td>0.000000</td>\n      <td>0.000000</td>\n      <td>0.0</td>\n      <td>0.022078</td>\n      <td>0.000308</td>\n      <td>...</td>\n      <td>0.0</td>\n      <td>0.000016</td>\n      <td>0.013738</td>\n      <td>0.013738</td>\n      <td>0.002433</td>\n      <td>0.000000</td>\n      <td>0.000000</td>\n      <td>0.0</td>\n      <td>0.000144</td>\n      <td>0.000000</td>\n    </tr>\n    <tr>\n      <th>4</th>\n      <td>0.3</td>\n      <td>0.000000</td>\n      <td>0.000000</td>\n      <td>0.0</td>\n      <td>0.000560</td>\n      <td>0.000000</td>\n      <td>0.000000</td>\n      <td>0.0</td>\n      <td>0.015536</td>\n      <td>0.000308</td>\n      <td>...</td>\n      <td>0.0</td>\n      <td>0.000369</td>\n      <td>0.003273</td>\n      <td>0.003273</td>\n      <td>0.004220</td>\n      <td>0.000000</td>\n      <td>0.000000</td>\n      <td>0.0</td>\n      <td>0.000911</td>\n      <td>0.000000</td>\n    </tr>\n    <tr>\n      <th>...</th>\n      <td>...</td>\n      <td>...</td>\n      <td>...</td>\n      <td>...</td>\n      <td>...</td>\n      <td>...</td>\n      <td>...</td>\n      <td>...</td>\n      <td>...</td>\n      <td>...</td>\n      <td>...</td>\n      <td>...</td>\n      <td>...</td>\n      <td>...</td>\n      <td>...</td>\n      <td>...</td>\n      <td>...</td>\n      <td>...</td>\n      <td>...</td>\n      <td>...</td>\n      <td>...</td>\n    </tr>\n    <tr>\n      <th>23901</th>\n      <td>0.3</td>\n      <td>0.002705</td>\n      <td>0.007501</td>\n      <td>0.0</td>\n      <td>0.000079</td>\n      <td>0.003544</td>\n      <td>0.126556</td>\n      <td>0.0</td>\n      <td>0.098149</td>\n      <td>0.000354</td>\n      <td>...</td>\n      <td>0.0</td>\n      <td>0.007115</td>\n      <td>0.043577</td>\n      <td>0.043577</td>\n      <td>0.045047</td>\n      <td>0.000551</td>\n      <td>0.142329</td>\n      <td>0.0</td>\n      <td>0.125324</td>\n      <td>0.008875</td>\n    </tr>\n    <tr>\n      <th>23902</th>\n      <td>0.3</td>\n      <td>0.000000</td>\n      <td>0.000000</td>\n      <td>0.0</td>\n      <td>0.000000</td>\n      <td>0.000000</td>\n      <td>0.000000</td>\n      <td>0.0</td>\n      <td>0.000000</td>\n      <td>0.000308</td>\n      <td>...</td>\n      <td>0.0</td>\n      <td>0.000000</td>\n      <td>0.012577</td>\n      <td>0.012577</td>\n      <td>0.009616</td>\n      <td>0.000000</td>\n      <td>0.000000</td>\n      <td>0.0</td>\n      <td>0.000000</td>\n      <td>0.000539</td>\n    </tr>\n    <tr>\n      <th>23903</th>\n      <td>0.6</td>\n      <td>0.000000</td>\n      <td>0.000000</td>\n      <td>0.0</td>\n      <td>0.000000</td>\n      <td>0.000000</td>\n      <td>0.000000</td>\n      <td>0.0</td>\n      <td>0.000000</td>\n      <td>0.018332</td>\n      <td>...</td>\n      <td>0.0</td>\n      <td>0.000000</td>\n      <td>0.000935</td>\n      <td>0.000935</td>\n      <td>0.001431</td>\n      <td>0.000000</td>\n      <td>0.000000</td>\n      <td>0.0</td>\n      <td>0.000000</td>\n      <td>0.001064</td>\n    </tr>\n    <tr>\n      <th>23904</th>\n      <td>0.6</td>\n      <td>0.000000</td>\n      <td>0.000000</td>\n      <td>0.0</td>\n      <td>0.000000</td>\n      <td>0.000000</td>\n      <td>0.000000</td>\n      <td>0.0</td>\n      <td>0.000000</td>\n      <td>0.018809</td>\n      <td>...</td>\n      <td>0.0</td>\n      <td>0.000000</td>\n      <td>0.003555</td>\n      <td>0.003555</td>\n      <td>0.006358</td>\n      <td>0.000000</td>\n      <td>0.000000</td>\n      <td>0.0</td>\n      <td>0.000000</td>\n      <td>0.000000</td>\n    </tr>\n    <tr>\n      <th>23905</th>\n      <td>0.2</td>\n      <td>0.000000</td>\n      <td>0.000000</td>\n      <td>0.0</td>\n      <td>0.000000</td>\n      <td>0.000000</td>\n      <td>0.000000</td>\n      <td>0.0</td>\n      <td>0.000000</td>\n      <td>0.000393</td>\n      <td>...</td>\n      <td>0.0</td>\n      <td>0.000000</td>\n      <td>0.004506</td>\n      <td>0.004506</td>\n      <td>0.005197</td>\n      <td>0.000000</td>\n      <td>0.000000</td>\n      <td>0.0</td>\n      <td>0.000000</td>\n      <td>0.000000</td>\n    </tr>\n  </tbody>\n</table>\n<p>23906 rows × 77 columns</p>\n</div>"
     },
     "execution_count": 14,
     "metadata": {},
     "output_type": "execute_result"
    }
   ],
   "source": [
    "train_x = normalize_mms(train_x)\n",
    "train_x"
   ],
   "metadata": {
    "collapsed": false
   }
  },
  {
   "cell_type": "code",
   "execution_count": 15,
   "outputs": [
    {
     "name": "stdout",
     "output_type": "stream",
     "text": [
      "length of oversampled data is  33170\n",
      "Number of non-sar in oversampled data 16585\n",
      "Number of sar 16585\n",
      "Proportion of no subscription data in oversampled data is  0.5\n",
      "Proportion of subscription data in oversampled data is  0.5\n"
     ]
    }
   ],
   "source": [
    "sm_x, sm_y = SMOTE_oversampling(train_x, train_y)"
   ],
   "metadata": {
    "collapsed": false
   }
  },
  {
   "cell_type": "code",
   "execution_count": 16,
   "outputs": [
    {
     "name": "stdout",
     "output_type": "stream",
     "text": [
      "Index(['AGE', 'avg_amt_nontw_nonntd', 'avg_amt_nontw_ntd', 'avg_amt_tw_nonntd',\n",
      "       'avg_amt_tw_ntd', 'avg_freq_nontw_nonntd', 'avg_freq_nontw_ntd',\n",
      "       'avg_freq_tw_nonntd', 'avg_freq_tw_ntd', 'cr_1_avg_tx', 'cr_1_count_tx',\n",
      "       'cr_1_std_tx', 'cr_1_total_tx', 'cr_1_tx_per_day', 'cr_2_avg_tx',\n",
      "       'cr_2_count_tx', 'cr_2_std_tx', 'cr_2_total_tx', 'cr_2_tx_per_day',\n",
      "       'cr_3_avg_tx', 'cr_3_count_tx', 'cr_3_std_tx', 'cr_3_total_tx',\n",
      "       'cr_3_tx_per_day', 'cucah_quarter1_mean', 'cucah_quarter1_std',\n",
      "       'cucah_quarter1_sum', 'cucah_quarter2_mean', 'cucah_quarter2_std',\n",
      "       'cucah_quarter2_sum', 'cucah_quarter3_mean', 'cucah_quarter3_std',\n",
      "       'cucah_quarter3_sum', 'cucah_quarter4_mean', 'cucah_quarter4_std',\n",
      "       'cucah_quarter4_sum', 'cucah_total_mean', 'cucah_total_std',\n",
      "       'cucah_total_sum', 'db_1_avg_tx', 'db_1_count_tx', 'db_1_std_tx',\n",
      "       'db_1_total_tx', 'db_1_tx_per_day', 'db_2_avg_tx', 'db_2_count_tx',\n",
      "       'db_2_std_tx', 'db_2_total_tx', 'db_2_tx_per_day', 'db_3_avg_tx',\n",
      "       'db_3_count_tx', 'db_3_std_tx', 'db_3_total_tx', 'db_3_tx_per_day',\n",
      "       'occupation_code', 'risk_rank', 'sd_amt_nontw_nonntd',\n",
      "       'sd_amt_nontw_ntd', 'sd_amt_tw_nonntd', 'sd_amt_tw_ntd',\n",
      "       'sd_freq_nontw_nonntd', 'sd_freq_nontw_ntd', 'sd_freq_tw_nonntd',\n",
      "       'sd_freq_tw_ntd', 'sum_assets', 'total_amt_nontw_nonntd',\n",
      "       'total_amt_nontw_ntd', 'total_amt_tw_nonntd', 'total_amt_tw_ntd',\n",
      "       'total_asset', 'total_asset_x', 'total_asset_y',\n",
      "       'total_freq_nontw_nonntd', 'total_freq_nontw_ntd',\n",
      "       'total_freq_tw_nonntd', 'total_freq_tw_ntd', 'trade_sum'],\n",
      "      dtype='object')\n",
      "[ True False  True False  True  True  True False  True  True  True  True\n",
      "  True  True  True  True  True  True  True False False False False False\n",
      " False False False False False False False False False False False False\n",
      " False False False  True  True  True  True  True False False False False\n",
      " False False False False False False  True  True False  True False  True\n",
      " False  True False  True  True  True  True False  True  True  True  True\n",
      "  True  True False  True  True]\n",
      "[1 2 1 2 1 1 1 2 1 1 1 1 1 1 1 1 1 1 1 2 2 2 2 2 2 2 2 2 2 2 2 2 2 2 2 2 2\n",
      " 2 2 1 1 1 1 1 2 2 2 2 2 2 2 2 2 2 1 1 2 1 2 1 2 1 2 1 1 1 1 2 1 1 1 1 1 1\n",
      " 2 1 1]\n"
     ]
    }
   ],
   "source": [
    "RF = RandomForestClassifier()\n",
    "rfe_columns = RFE_analysis(sm_x, sm_y, RF)"
   ],
   "metadata": {
    "collapsed": false
   }
  },
  {
   "cell_type": "code",
   "execution_count": 17,
   "outputs": [
    {
     "data": {
      "text/plain": "            AGE  avg_amt_nontw_nonntd  avg_amt_nontw_ntd  avg_amt_tw_nonntd  \\\n0      0.400000              0.000000           0.000000                0.0   \n1      0.400000              0.000365           0.004162                0.0   \n2      0.300000              0.000000           0.000000                0.0   \n3      0.500000              0.000000           0.021041                0.0   \n4      0.200000              0.000000           0.000000                0.0   \n...         ...                   ...                ...                ...   \n33165  0.291320              0.000000           0.000000                0.0   \n33166  0.408901              0.000000           0.000000                0.0   \n33167  0.200000              0.000000           0.000000                0.0   \n33168  0.431741              0.000000           0.000000                0.0   \n33169  0.307444              0.000231           0.000475                0.0   \n\n       avg_amt_tw_ntd  avg_freq_nontw_nonntd  avg_freq_nontw_ntd  \\\n0            0.000000               0.000000            0.000000   \n1            0.000139               0.003054            0.050360   \n2            0.000002               0.000000            0.000000   \n3            0.003924               0.000000            0.050360   \n4            0.000000               0.000000            0.000000   \n...               ...                    ...                 ...   \n33165        0.000000               0.000000            0.000000   \n33166        0.000000               0.000000            0.000000   \n33167        0.000000               0.000000            0.000000   \n33168        0.000000               0.000000            0.000000   \n33169        0.000033               0.000227            0.003749   \n\n       avg_freq_tw_nonntd  avg_freq_tw_ntd  cr_1_avg_tx  ...  \\\n0                     0.0         0.000000     0.003402  ...   \n1                     0.0         0.019391     0.000308  ...   \n2                     0.0         0.014719     0.000467  ...   \n3                     0.0         0.024885     0.000308  ...   \n4                     0.0         0.000000     0.019010  ...   \n...                   ...              ...          ...  ...   \n33165                 0.0         0.000000     0.002643  ...   \n33166                 0.0         0.000000     0.000312  ...   \n33167                 0.0         0.000000     0.000405  ...   \n33168                 0.0         0.000000     0.000425  ...   \n33169                 0.0         0.019529     0.000308  ...   \n\n       total_amt_tw_nonntd  total_amt_tw_ntd  total_asset  total_asset_x  \\\n0                      0.0      0.000000e+00     0.004325       0.004325   \n1                      0.0      8.010966e-04     0.000401       0.000401   \n2                      0.0      8.261141e-08     0.001434       0.001434   \n3                      0.0      2.228357e-02     0.007716       0.007716   \n4                      0.0      0.000000e+00     0.007708       0.007708   \n...                    ...               ...          ...            ...   \n33165                  0.0      0.000000e+00     0.007653       0.007653   \n33166                  0.0      0.000000e+00     0.000152       0.000152   \n33167                  0.0      0.000000e+00     0.000107       0.000107   \n33168                  0.0      0.000000e+00     0.000913       0.000913   \n33169                  0.0      1.021628e-04     0.010719       0.010719   \n\n       total_asset_y  total_freq_nontw_nonntd  total_freq_nontw_ntd  \\\n0           0.009470                 0.000000              0.000000   \n1           0.000540                 0.000025              0.000246   \n2           0.009925                 0.000000              0.000000   \n3           0.008875                 0.000000              0.000246   \n4           0.008692                 0.000000              0.000000   \n...              ...                      ...                   ...   \n33165       0.010783                 0.000000              0.000000   \n33166       0.000214                 0.000000              0.000000   \n33167       0.000151                 0.000000              0.000000   \n33168       0.001286                 0.000000              0.000000   \n33169       0.012424                 0.000001              0.000330   \n\n       total_freq_tw_nonntd  total_freq_tw_ntd  trade_sum  \n0                       0.0           0.000000   0.107272  \n1                       0.0           0.007959   0.000000  \n2                       0.0           0.000048   0.000000  \n3                       0.0           0.007863   0.000000  \n4                       0.0           0.000000   0.000000  \n...                     ...                ...        ...  \n33165                   0.0           0.000000   0.000000  \n33166                   0.0           0.000000   0.000000  \n33167                   0.0           0.000000   0.054262  \n33168                   0.0           0.000000   0.143436  \n33169                   0.0           0.004805   0.218848  \n\n[33170 rows x 77 columns]",
      "text/html": "<div>\n<style scoped>\n    .dataframe tbody tr th:only-of-type {\n        vertical-align: middle;\n    }\n\n    .dataframe tbody tr th {\n        vertical-align: top;\n    }\n\n    .dataframe thead th {\n        text-align: right;\n    }\n</style>\n<table border=\"1\" class=\"dataframe\">\n  <thead>\n    <tr style=\"text-align: right;\">\n      <th></th>\n      <th>AGE</th>\n      <th>avg_amt_nontw_nonntd</th>\n      <th>avg_amt_nontw_ntd</th>\n      <th>avg_amt_tw_nonntd</th>\n      <th>avg_amt_tw_ntd</th>\n      <th>avg_freq_nontw_nonntd</th>\n      <th>avg_freq_nontw_ntd</th>\n      <th>avg_freq_tw_nonntd</th>\n      <th>avg_freq_tw_ntd</th>\n      <th>cr_1_avg_tx</th>\n      <th>...</th>\n      <th>total_amt_tw_nonntd</th>\n      <th>total_amt_tw_ntd</th>\n      <th>total_asset</th>\n      <th>total_asset_x</th>\n      <th>total_asset_y</th>\n      <th>total_freq_nontw_nonntd</th>\n      <th>total_freq_nontw_ntd</th>\n      <th>total_freq_tw_nonntd</th>\n      <th>total_freq_tw_ntd</th>\n      <th>trade_sum</th>\n    </tr>\n  </thead>\n  <tbody>\n    <tr>\n      <th>0</th>\n      <td>0.400000</td>\n      <td>0.000000</td>\n      <td>0.000000</td>\n      <td>0.0</td>\n      <td>0.000000</td>\n      <td>0.000000</td>\n      <td>0.000000</td>\n      <td>0.0</td>\n      <td>0.000000</td>\n      <td>0.003402</td>\n      <td>...</td>\n      <td>0.0</td>\n      <td>0.000000e+00</td>\n      <td>0.004325</td>\n      <td>0.004325</td>\n      <td>0.009470</td>\n      <td>0.000000</td>\n      <td>0.000000</td>\n      <td>0.0</td>\n      <td>0.000000</td>\n      <td>0.107272</td>\n    </tr>\n    <tr>\n      <th>1</th>\n      <td>0.400000</td>\n      <td>0.000365</td>\n      <td>0.004162</td>\n      <td>0.0</td>\n      <td>0.000139</td>\n      <td>0.003054</td>\n      <td>0.050360</td>\n      <td>0.0</td>\n      <td>0.019391</td>\n      <td>0.000308</td>\n      <td>...</td>\n      <td>0.0</td>\n      <td>8.010966e-04</td>\n      <td>0.000401</td>\n      <td>0.000401</td>\n      <td>0.000540</td>\n      <td>0.000025</td>\n      <td>0.000246</td>\n      <td>0.0</td>\n      <td>0.007959</td>\n      <td>0.000000</td>\n    </tr>\n    <tr>\n      <th>2</th>\n      <td>0.300000</td>\n      <td>0.000000</td>\n      <td>0.000000</td>\n      <td>0.0</td>\n      <td>0.000002</td>\n      <td>0.000000</td>\n      <td>0.000000</td>\n      <td>0.0</td>\n      <td>0.014719</td>\n      <td>0.000467</td>\n      <td>...</td>\n      <td>0.0</td>\n      <td>8.261141e-08</td>\n      <td>0.001434</td>\n      <td>0.001434</td>\n      <td>0.009925</td>\n      <td>0.000000</td>\n      <td>0.000000</td>\n      <td>0.0</td>\n      <td>0.000048</td>\n      <td>0.000000</td>\n    </tr>\n    <tr>\n      <th>3</th>\n      <td>0.500000</td>\n      <td>0.000000</td>\n      <td>0.021041</td>\n      <td>0.0</td>\n      <td>0.003924</td>\n      <td>0.000000</td>\n      <td>0.050360</td>\n      <td>0.0</td>\n      <td>0.024885</td>\n      <td>0.000308</td>\n      <td>...</td>\n      <td>0.0</td>\n      <td>2.228357e-02</td>\n      <td>0.007716</td>\n      <td>0.007716</td>\n      <td>0.008875</td>\n      <td>0.000000</td>\n      <td>0.000246</td>\n      <td>0.0</td>\n      <td>0.007863</td>\n      <td>0.000000</td>\n    </tr>\n    <tr>\n      <th>4</th>\n      <td>0.200000</td>\n      <td>0.000000</td>\n      <td>0.000000</td>\n      <td>0.0</td>\n      <td>0.000000</td>\n      <td>0.000000</td>\n      <td>0.000000</td>\n      <td>0.0</td>\n      <td>0.000000</td>\n      <td>0.019010</td>\n      <td>...</td>\n      <td>0.0</td>\n      <td>0.000000e+00</td>\n      <td>0.007708</td>\n      <td>0.007708</td>\n      <td>0.008692</td>\n      <td>0.000000</td>\n      <td>0.000000</td>\n      <td>0.0</td>\n      <td>0.000000</td>\n      <td>0.000000</td>\n    </tr>\n    <tr>\n      <th>...</th>\n      <td>...</td>\n      <td>...</td>\n      <td>...</td>\n      <td>...</td>\n      <td>...</td>\n      <td>...</td>\n      <td>...</td>\n      <td>...</td>\n      <td>...</td>\n      <td>...</td>\n      <td>...</td>\n      <td>...</td>\n      <td>...</td>\n      <td>...</td>\n      <td>...</td>\n      <td>...</td>\n      <td>...</td>\n      <td>...</td>\n      <td>...</td>\n      <td>...</td>\n      <td>...</td>\n    </tr>\n    <tr>\n      <th>33165</th>\n      <td>0.291320</td>\n      <td>0.000000</td>\n      <td>0.000000</td>\n      <td>0.0</td>\n      <td>0.000000</td>\n      <td>0.000000</td>\n      <td>0.000000</td>\n      <td>0.0</td>\n      <td>0.000000</td>\n      <td>0.002643</td>\n      <td>...</td>\n      <td>0.0</td>\n      <td>0.000000e+00</td>\n      <td>0.007653</td>\n      <td>0.007653</td>\n      <td>0.010783</td>\n      <td>0.000000</td>\n      <td>0.000000</td>\n      <td>0.0</td>\n      <td>0.000000</td>\n      <td>0.000000</td>\n    </tr>\n    <tr>\n      <th>33166</th>\n      <td>0.408901</td>\n      <td>0.000000</td>\n      <td>0.000000</td>\n      <td>0.0</td>\n      <td>0.000000</td>\n      <td>0.000000</td>\n      <td>0.000000</td>\n      <td>0.0</td>\n      <td>0.000000</td>\n      <td>0.000312</td>\n      <td>...</td>\n      <td>0.0</td>\n      <td>0.000000e+00</td>\n      <td>0.000152</td>\n      <td>0.000152</td>\n      <td>0.000214</td>\n      <td>0.000000</td>\n      <td>0.000000</td>\n      <td>0.0</td>\n      <td>0.000000</td>\n      <td>0.000000</td>\n    </tr>\n    <tr>\n      <th>33167</th>\n      <td>0.200000</td>\n      <td>0.000000</td>\n      <td>0.000000</td>\n      <td>0.0</td>\n      <td>0.000000</td>\n      <td>0.000000</td>\n      <td>0.000000</td>\n      <td>0.0</td>\n      <td>0.000000</td>\n      <td>0.000405</td>\n      <td>...</td>\n      <td>0.0</td>\n      <td>0.000000e+00</td>\n      <td>0.000107</td>\n      <td>0.000107</td>\n      <td>0.000151</td>\n      <td>0.000000</td>\n      <td>0.000000</td>\n      <td>0.0</td>\n      <td>0.000000</td>\n      <td>0.054262</td>\n    </tr>\n    <tr>\n      <th>33168</th>\n      <td>0.431741</td>\n      <td>0.000000</td>\n      <td>0.000000</td>\n      <td>0.0</td>\n      <td>0.000000</td>\n      <td>0.000000</td>\n      <td>0.000000</td>\n      <td>0.0</td>\n      <td>0.000000</td>\n      <td>0.000425</td>\n      <td>...</td>\n      <td>0.0</td>\n      <td>0.000000e+00</td>\n      <td>0.000913</td>\n      <td>0.000913</td>\n      <td>0.001286</td>\n      <td>0.000000</td>\n      <td>0.000000</td>\n      <td>0.0</td>\n      <td>0.000000</td>\n      <td>0.143436</td>\n    </tr>\n    <tr>\n      <th>33169</th>\n      <td>0.307444</td>\n      <td>0.000231</td>\n      <td>0.000475</td>\n      <td>0.0</td>\n      <td>0.000033</td>\n      <td>0.000227</td>\n      <td>0.003749</td>\n      <td>0.0</td>\n      <td>0.019529</td>\n      <td>0.000308</td>\n      <td>...</td>\n      <td>0.0</td>\n      <td>1.021628e-04</td>\n      <td>0.010719</td>\n      <td>0.010719</td>\n      <td>0.012424</td>\n      <td>0.000001</td>\n      <td>0.000330</td>\n      <td>0.0</td>\n      <td>0.004805</td>\n      <td>0.218848</td>\n    </tr>\n  </tbody>\n</table>\n<p>33170 rows × 77 columns</p>\n</div>"
     },
     "execution_count": 17,
     "metadata": {},
     "output_type": "execute_result"
    }
   ],
   "source": [
    "# sm_x = sm_x[sm_x.columns[rfe_columns]]\n",
    "sm_x"
   ],
   "metadata": {
    "collapsed": false
   }
  },
  {
   "cell_type": "code",
   "execution_count": 18,
   "outputs": [
    {
     "name": "stderr",
     "output_type": "stream",
     "text": [
      "C:\\Users\\EDWINS~1\\AppData\\Local\\Temp/ipykernel_42220/965348609.py:68: DataConversionWarning: A column-vector y was passed when a 1d array was expected. Please change the shape of y to (n_samples,), for example using ravel().\n",
      "  LR_model.fit(x_train, y_train)\n"
     ]
    },
    {
     "name": "stdout",
     "output_type": "stream",
     "text": [
      "1.0  0.9886230550443367\n",
      "[[5907    5]\n",
      " [  63    2]]\n"
     ]
    }
   ],
   "source": [
    "RF = LR_training(train_x, train_y, RF)"
   ],
   "metadata": {
    "collapsed": false
   }
  },
  {
   "cell_type": "code",
   "execution_count": 19,
   "outputs": [
    {
     "name": "stderr",
     "output_type": "stream",
     "text": [
      "C:\\Users\\EDWINS~1\\AppData\\Local\\Temp/ipykernel_42220/965348609.py:68: DataConversionWarning: A column-vector y was passed when a 1d array was expected. Please change the shape of y to (n_samples,), for example using ravel().\n",
      "  LR_model.fit(x_train, y_train)\n"
     ]
    },
    {
     "name": "stdout",
     "output_type": "stream",
     "text": [
      "0.9999598022269566  0.9955384058844808\n",
      "[[4166   22]\n",
      " [  15 4090]]\n"
     ]
    }
   ],
   "source": [
    "RF = LR_training(sm_x, sm_y, RF)"
   ],
   "metadata": {
    "collapsed": false
   }
  },
  {
   "cell_type": "code",
   "execution_count": 20,
   "outputs": [
    {
     "name": "stdout",
     "output_type": "stream",
     "text": [
      "0.9939764075964193\n",
      "[[23611    61]\n",
      " [   83   151]]\n",
      "              precision    recall  f1-score   support\n",
      "\n",
      "           0       1.00      1.00      1.00     23672\n",
      "           1       0.71      0.65      0.68       234\n",
      "\n",
      "    accuracy                           0.99     23906\n",
      "   macro avg       0.85      0.82      0.84     23906\n",
      "weighted avg       0.99      0.99      0.99     23906\n",
      "\n"
     ]
    }
   ],
   "source": [
    "# Training Evaluation: DONT USE RFE IN RF\n",
    "# train_x_rfe = train_x[train_x.columns[rfe_columns]]\n",
    "LR_test(train_x, train_y, RF)\n"
   ],
   "metadata": {
    "collapsed": false
   }
  },
  {
   "cell_type": "code",
   "execution_count": 21,
   "outputs": [
    {
     "name": "stdout",
     "output_type": "stream",
     "text": [
      "Fitting 3 folds for each of 100 candidates, totalling 300 fits\n"
     ]
    },
    {
     "name": "stderr",
     "output_type": "stream",
     "text": [
      "C:\\Software\\Anaconda3\\lib\\site-packages\\sklearn\\model_selection\\_search.py:910: DataConversionWarning: A column-vector y was passed when a 1d array was expected. Please change the shape of y to (n_samples,), for example using ravel().\n",
      "  self.best_estimator_.fit(X, y, **fit_params)\n"
     ]
    },
    {
     "data": {
      "text/plain": "{'n_estimators': 600,\n 'min_samples_split': 5,\n 'min_samples_leaf': 1,\n 'max_features': 'sqrt',\n 'max_depth': 60,\n 'bootstrap': False}"
     },
     "execution_count": 21,
     "metadata": {},
     "output_type": "execute_result"
    }
   ],
   "source": [
    "# Fine-tuning test\n",
    "\n",
    "from sklearn.model_selection import GridSearchCV\n",
    "from sklearn.model_selection import RandomizedSearchCV\n",
    "import numpy as np\n",
    "\n",
    "n_estimators = [int(x) for x in np.linspace(start = 200, stop = 2000, num = 10)]\n",
    "max_features = ['auto', 'sqrt']\n",
    "max_depth = [int(x) for x in np.linspace(10, 110, num = 11)]\n",
    "max_depth.append(None)\n",
    "min_samples_split = [2, 5, 10]\n",
    "min_samples_leaf = [1, 2, 4]\n",
    "bootstrap = [True, False]\n",
    "\n",
    "random_grid = {'n_estimators': n_estimators,\n",
    "               'max_features': max_features,\n",
    "               'max_depth': max_depth,\n",
    "               'min_samples_split': min_samples_split,\n",
    "               'min_samples_leaf': min_samples_leaf,\n",
    "               'bootstrap': bootstrap}\n",
    "\n",
    "RF_search = RandomForestClassifier()\n",
    "RF_random = RandomizedSearchCV(estimator = RF_search, param_distributions = random_grid, n_iter = 100, cv = 3, verbose=2, random_state=42, n_jobs = -1)\n",
    "RF_random.fit(sm_x, sm_y)\n",
    "RF_random.best_params_"
   ],
   "metadata": {
    "collapsed": false
   }
  },
  {
   "cell_type": "code",
   "execution_count": 22,
   "outputs": [
    {
     "name": "stdout",
     "output_type": "stream",
     "text": [
      "0.995775119216933\n",
      "[[23648    24]\n",
      " [   77   157]]\n",
      "              precision    recall  f1-score   support\n",
      "\n",
      "           0       1.00      1.00      1.00     23672\n",
      "           1       0.87      0.67      0.76       234\n",
      "\n",
      "    accuracy                           1.00     23906\n",
      "   macro avg       0.93      0.83      0.88     23906\n",
      "weighted avg       1.00      1.00      1.00     23906\n",
      "\n"
     ]
    }
   ],
   "source": [
    "# Test\n",
    "# train_x_rfe = train_x[train_x.columns[rfe_columns]]\n",
    "\n",
    "\n",
    "# {'n_estimators': 1000,\n",
    "#  'min_samples_split': 2,\n",
    "#  'min_samples_leaf': 1,\n",
    "#  'max_features': 'auto',\n",
    "#  'max_depth': 50,\n",
    "#  'bootstrap': False}\n",
    "\n",
    "\n",
    "# {'n_estimators': 400,\n",
    "#  'min_samples_split': 2,\n",
    "#  'min_samples_leaf': 1,\n",
    "#  'max_features': 'sqrt',\n",
    "#  'max_depth': None,\n",
    "#  'bootstrap': False}\n",
    "\n",
    "#best param\n",
    "# RF_random = RandomForestClassifier(n_estimators=1000, min_samples_split=2, min_samples_leaf=1, max_features='sqrt', max_depth=50, bootstrap=False)\n",
    "# RF_random.fit(sm_x, sm_y)\n",
    "ori_train_x_normal = normalize_mms(ori_train_x)\n",
    "LR_test(ori_train_x_normal, ori_train_y, RF_random)"
   ],
   "metadata": {
    "collapsed": false
   }
  },
  {
   "cell_type": "code",
   "execution_count": 23,
   "outputs": [],
   "source": [
    "# Test\n",
    "# xdp = df_from_csv('ori_xdp.csv')\n",
    "#\n",
    "# test_xdp = df_from_csv('submit_format.csv')\n",
    "# test_xdp = test_xdp.drop(['probability'], axis=1)\n",
    "# test_xdp = test_xdp.merge(alert_date, on='alert_key', how='left')\n",
    "# test_xdp = test_xdp.merge(alert_cust, on='alert_key', how='left')\n",
    "# test_xdp = test_xdp.progress_apply(calculate_tx, axis=1)\n",
    "# test_xdp"
   ],
   "metadata": {
    "collapsed": false
   }
  },
  {
   "cell_type": "code",
   "execution_count": 24,
   "outputs": [],
   "source": [
    "test_xdp = pd.read_pickle('xdp_x_test.pkl')"
   ],
   "metadata": {
    "collapsed": false
   }
  },
  {
   "cell_type": "code",
   "execution_count": 31,
   "outputs": [
    {
     "data": {
      "text/plain": "        AGE  avg_amt_nontw_nonntd  avg_amt_nontw_ntd  avg_amt_tw_nonntd  \\\n0     0.250              0.000000           0.000000                0.0   \n3     0.500              0.000000           0.000000                0.0   \n4     0.250              0.000000           0.004095                0.0   \n5     0.375              0.000000           0.004175                0.0   \n6     0.250              0.000000           0.000000                0.0   \n...     ...                   ...                ...                ...   \n3842  0.375              0.000000           0.000000                0.0   \n3844  0.625              0.000000           0.000000                0.0   \n3845  0.125              0.001118           0.009599                0.0   \n3846  0.125              0.000000           0.007782                0.0   \n3848  0.250              0.000000           0.000000                0.0   \n\n      avg_amt_tw_ntd  avg_freq_nontw_nonntd  avg_freq_nontw_ntd  \\\n0           0.009252               0.000000            0.000000   \n3           0.000204               0.000000            0.000000   \n4           0.000036               0.000000            0.112200   \n5           0.000037               0.000000            0.112200   \n6           0.000000               0.000000            0.000000   \n...              ...                    ...                 ...   \n3842        0.000000               0.000000            0.000000   \n3844        0.000443               0.000000            0.000000   \n3845        0.000108               0.054348            0.115600   \n3846        0.000155               0.000000            0.115233   \n3848        0.000000               0.000000            0.000000   \n\n      avg_freq_tw_nonntd  avg_freq_tw_ntd  cr_1_avg_tx  ...  \\\n0                    0.0         0.018408     0.005766  ...   \n3                    0.0         0.016324     0.000000  ...   \n4                    0.0         0.028396     0.000000  ...   \n5                    0.0         0.042043     0.002113  ...   \n6                    0.0         0.000000     0.000448  ...   \n...                  ...              ...          ...  ...   \n3842                 0.0         0.000000     0.000000  ...   \n3844                 0.0         0.018089     0.000000  ...   \n3845                 0.0         0.033196     0.015637  ...   \n3846                 0.0         0.022280     0.000001  ...   \n3848                 0.0         0.000000     0.002282  ...   \n\n      total_amt_tw_nonntd  total_amt_tw_ntd  total_asset  total_asset_x  \\\n0                     0.0          0.098068     0.133775       0.133775   \n3                     0.0          0.000327     0.101530       0.101530   \n4                     0.0          0.001485     0.022967       0.022967   \n5                     0.0          0.002010     0.017026       0.017026   \n6                     0.0          0.000000     0.016757       0.016757   \n...                   ...               ...          ...            ...   \n3842                  0.0          0.000000     0.000000       0.000000   \n3844                  0.0          0.003633     0.020827       0.020827   \n3845                  0.0          0.013083     0.033291       0.033291   \n3846                  0.0          0.003137     0.005914       0.005914   \n3848                  0.0          0.000000     0.018992       0.018992   \n\n      total_asset_y  total_freq_nontw_nonntd  total_freq_nontw_ntd  \\\n0          0.150170                 0.000000               0.00000   \n3          0.113974                 0.000000               0.00000   \n4          0.021281                 0.000000               0.00123   \n5          0.018172                 0.000000               0.00369   \n6          0.018810                 0.000000               0.00000   \n...             ...                      ...                   ...   \n3842       0.000000                 0.000000               0.00000   \n3844       0.030088                 0.000000               0.00000   \n3845       0.037372                 0.000138               0.02091   \n3846       0.010011                 0.000000               0.02337   \n3848       0.023327                 0.000000               0.00000   \n\n      total_freq_tw_nonntd  total_freq_tw_ntd  trade_sum  \n0                      0.0           0.007458   0.000000  \n3                      0.0           0.001126   0.000131  \n4                      0.0           0.029130   0.063476  \n5                      0.0           0.038418   0.054310  \n6                      0.0           0.000000   0.019646  \n...                    ...                ...        ...  \n3842                   0.0           0.000000   0.000000  \n3844                   0.0           0.005770   0.185010  \n3845                   0.0           0.085280   0.000000  \n3846                   0.0           0.014213   0.085655  \n3848                   0.0           0.000000   0.046544  \n\n[1845 rows x 77 columns]",
      "text/html": "<div>\n<style scoped>\n    .dataframe tbody tr th:only-of-type {\n        vertical-align: middle;\n    }\n\n    .dataframe tbody tr th {\n        vertical-align: top;\n    }\n\n    .dataframe thead th {\n        text-align: right;\n    }\n</style>\n<table border=\"1\" class=\"dataframe\">\n  <thead>\n    <tr style=\"text-align: right;\">\n      <th></th>\n      <th>AGE</th>\n      <th>avg_amt_nontw_nonntd</th>\n      <th>avg_amt_nontw_ntd</th>\n      <th>avg_amt_tw_nonntd</th>\n      <th>avg_amt_tw_ntd</th>\n      <th>avg_freq_nontw_nonntd</th>\n      <th>avg_freq_nontw_ntd</th>\n      <th>avg_freq_tw_nonntd</th>\n      <th>avg_freq_tw_ntd</th>\n      <th>cr_1_avg_tx</th>\n      <th>...</th>\n      <th>total_amt_tw_nonntd</th>\n      <th>total_amt_tw_ntd</th>\n      <th>total_asset</th>\n      <th>total_asset_x</th>\n      <th>total_asset_y</th>\n      <th>total_freq_nontw_nonntd</th>\n      <th>total_freq_nontw_ntd</th>\n      <th>total_freq_tw_nonntd</th>\n      <th>total_freq_tw_ntd</th>\n      <th>trade_sum</th>\n    </tr>\n  </thead>\n  <tbody>\n    <tr>\n      <th>0</th>\n      <td>0.250</td>\n      <td>0.000000</td>\n      <td>0.000000</td>\n      <td>0.0</td>\n      <td>0.009252</td>\n      <td>0.000000</td>\n      <td>0.000000</td>\n      <td>0.0</td>\n      <td>0.018408</td>\n      <td>0.005766</td>\n      <td>...</td>\n      <td>0.0</td>\n      <td>0.098068</td>\n      <td>0.133775</td>\n      <td>0.133775</td>\n      <td>0.150170</td>\n      <td>0.000000</td>\n      <td>0.00000</td>\n      <td>0.0</td>\n      <td>0.007458</td>\n      <td>0.000000</td>\n    </tr>\n    <tr>\n      <th>3</th>\n      <td>0.500</td>\n      <td>0.000000</td>\n      <td>0.000000</td>\n      <td>0.0</td>\n      <td>0.000204</td>\n      <td>0.000000</td>\n      <td>0.000000</td>\n      <td>0.0</td>\n      <td>0.016324</td>\n      <td>0.000000</td>\n      <td>...</td>\n      <td>0.0</td>\n      <td>0.000327</td>\n      <td>0.101530</td>\n      <td>0.101530</td>\n      <td>0.113974</td>\n      <td>0.000000</td>\n      <td>0.00000</td>\n      <td>0.0</td>\n      <td>0.001126</td>\n      <td>0.000131</td>\n    </tr>\n    <tr>\n      <th>4</th>\n      <td>0.250</td>\n      <td>0.000000</td>\n      <td>0.004095</td>\n      <td>0.0</td>\n      <td>0.000036</td>\n      <td>0.000000</td>\n      <td>0.112200</td>\n      <td>0.0</td>\n      <td>0.028396</td>\n      <td>0.000000</td>\n      <td>...</td>\n      <td>0.0</td>\n      <td>0.001485</td>\n      <td>0.022967</td>\n      <td>0.022967</td>\n      <td>0.021281</td>\n      <td>0.000000</td>\n      <td>0.00123</td>\n      <td>0.0</td>\n      <td>0.029130</td>\n      <td>0.063476</td>\n    </tr>\n    <tr>\n      <th>5</th>\n      <td>0.375</td>\n      <td>0.000000</td>\n      <td>0.004175</td>\n      <td>0.0</td>\n      <td>0.000037</td>\n      <td>0.000000</td>\n      <td>0.112200</td>\n      <td>0.0</td>\n      <td>0.042043</td>\n      <td>0.002113</td>\n      <td>...</td>\n      <td>0.0</td>\n      <td>0.002010</td>\n      <td>0.017026</td>\n      <td>0.017026</td>\n      <td>0.018172</td>\n      <td>0.000000</td>\n      <td>0.00369</td>\n      <td>0.0</td>\n      <td>0.038418</td>\n      <td>0.054310</td>\n    </tr>\n    <tr>\n      <th>6</th>\n      <td>0.250</td>\n      <td>0.000000</td>\n      <td>0.000000</td>\n      <td>0.0</td>\n      <td>0.000000</td>\n      <td>0.000000</td>\n      <td>0.000000</td>\n      <td>0.0</td>\n      <td>0.000000</td>\n      <td>0.000448</td>\n      <td>...</td>\n      <td>0.0</td>\n      <td>0.000000</td>\n      <td>0.016757</td>\n      <td>0.016757</td>\n      <td>0.018810</td>\n      <td>0.000000</td>\n      <td>0.00000</td>\n      <td>0.0</td>\n      <td>0.000000</td>\n      <td>0.019646</td>\n    </tr>\n    <tr>\n      <th>...</th>\n      <td>...</td>\n      <td>...</td>\n      <td>...</td>\n      <td>...</td>\n      <td>...</td>\n      <td>...</td>\n      <td>...</td>\n      <td>...</td>\n      <td>...</td>\n      <td>...</td>\n      <td>...</td>\n      <td>...</td>\n      <td>...</td>\n      <td>...</td>\n      <td>...</td>\n      <td>...</td>\n      <td>...</td>\n      <td>...</td>\n      <td>...</td>\n      <td>...</td>\n      <td>...</td>\n    </tr>\n    <tr>\n      <th>3842</th>\n      <td>0.375</td>\n      <td>0.000000</td>\n      <td>0.000000</td>\n      <td>0.0</td>\n      <td>0.000000</td>\n      <td>0.000000</td>\n      <td>0.000000</td>\n      <td>0.0</td>\n      <td>0.000000</td>\n      <td>0.000000</td>\n      <td>...</td>\n      <td>0.0</td>\n      <td>0.000000</td>\n      <td>0.000000</td>\n      <td>0.000000</td>\n      <td>0.000000</td>\n      <td>0.000000</td>\n      <td>0.00000</td>\n      <td>0.0</td>\n      <td>0.000000</td>\n      <td>0.000000</td>\n    </tr>\n    <tr>\n      <th>3844</th>\n      <td>0.625</td>\n      <td>0.000000</td>\n      <td>0.000000</td>\n      <td>0.0</td>\n      <td>0.000443</td>\n      <td>0.000000</td>\n      <td>0.000000</td>\n      <td>0.0</td>\n      <td>0.018089</td>\n      <td>0.000000</td>\n      <td>...</td>\n      <td>0.0</td>\n      <td>0.003633</td>\n      <td>0.020827</td>\n      <td>0.020827</td>\n      <td>0.030088</td>\n      <td>0.000000</td>\n      <td>0.00000</td>\n      <td>0.0</td>\n      <td>0.005770</td>\n      <td>0.185010</td>\n    </tr>\n    <tr>\n      <th>3845</th>\n      <td>0.125</td>\n      <td>0.001118</td>\n      <td>0.009599</td>\n      <td>0.0</td>\n      <td>0.000108</td>\n      <td>0.054348</td>\n      <td>0.115600</td>\n      <td>0.0</td>\n      <td>0.033196</td>\n      <td>0.015637</td>\n      <td>...</td>\n      <td>0.0</td>\n      <td>0.013083</td>\n      <td>0.033291</td>\n      <td>0.033291</td>\n      <td>0.037372</td>\n      <td>0.000138</td>\n      <td>0.02091</td>\n      <td>0.0</td>\n      <td>0.085280</td>\n      <td>0.000000</td>\n    </tr>\n    <tr>\n      <th>3846</th>\n      <td>0.125</td>\n      <td>0.000000</td>\n      <td>0.007782</td>\n      <td>0.0</td>\n      <td>0.000155</td>\n      <td>0.000000</td>\n      <td>0.115233</td>\n      <td>0.0</td>\n      <td>0.022280</td>\n      <td>0.000001</td>\n      <td>...</td>\n      <td>0.0</td>\n      <td>0.003137</td>\n      <td>0.005914</td>\n      <td>0.005914</td>\n      <td>0.010011</td>\n      <td>0.000000</td>\n      <td>0.02337</td>\n      <td>0.0</td>\n      <td>0.014213</td>\n      <td>0.085655</td>\n    </tr>\n    <tr>\n      <th>3848</th>\n      <td>0.250</td>\n      <td>0.000000</td>\n      <td>0.000000</td>\n      <td>0.0</td>\n      <td>0.000000</td>\n      <td>0.000000</td>\n      <td>0.000000</td>\n      <td>0.0</td>\n      <td>0.000000</td>\n      <td>0.002282</td>\n      <td>...</td>\n      <td>0.0</td>\n      <td>0.000000</td>\n      <td>0.018992</td>\n      <td>0.018992</td>\n      <td>0.023327</td>\n      <td>0.000000</td>\n      <td>0.00000</td>\n      <td>0.0</td>\n      <td>0.000000</td>\n      <td>0.046544</td>\n    </tr>\n  </tbody>\n</table>\n<p>1845 rows × 77 columns</p>\n</div>"
     },
     "execution_count": 31,
     "metadata": {},
     "output_type": "execute_result"
    }
   ],
   "source": [
    "# Test\n",
    "test = df_from_csv('submit_format.csv')\n",
    "test = test.drop(['probability'], axis=1)\n",
    "test = test.merge(test_xdp, on='alert_key', how='left')\n",
    "test = test.merge(ccba, on='cust_id', how='left')\n",
    "test = test.merge(cdtx, on='cust_id', how='left')\n",
    "test = test.merge(remit, on='alert_key', how='left')\n",
    "test = test.drop(['alert_key', 'cust_id', 'date'], axis=1)\n",
    "test['bad_value'] = test.isnull().sum(axis=1) + (test == 0).astype(int).sum(axis=1)\n",
    "test = test.loc[test['bad_value'] < 77]\n",
    "test.iloc[:, :] = test.iloc[:, :].fillna(0)\n",
    "test = test.drop(['bad_value'], axis=1)\n",
    "test = test.reindex(sorted(test.columns), axis=1)\n",
    "test = normalize_mms(test)\n",
    "test\n",
    "\n",
    "#test[test.columns.difference(train_x.columns.tolist(), sort=False)]"
   ],
   "metadata": {
    "collapsed": false
   }
  },
  {
   "cell_type": "code",
   "execution_count": 33,
   "outputs": [
    {
     "data": {
      "text/plain": "      probability\n0        0.212222\n3        0.024444\n4        0.140694\n5        0.260000\n6        0.080000\n...           ...\n3842     0.035000\n3844     0.065139\n3845     0.239028\n3846     0.167639\n3848     0.051389\n\n[1845 rows x 1 columns]",
      "text/html": "<div>\n<style scoped>\n    .dataframe tbody tr th:only-of-type {\n        vertical-align: middle;\n    }\n\n    .dataframe tbody tr th {\n        vertical-align: top;\n    }\n\n    .dataframe thead th {\n        text-align: right;\n    }\n</style>\n<table border=\"1\" class=\"dataframe\">\n  <thead>\n    <tr style=\"text-align: right;\">\n      <th></th>\n      <th>probability</th>\n    </tr>\n  </thead>\n  <tbody>\n    <tr>\n      <th>0</th>\n      <td>0.212222</td>\n    </tr>\n    <tr>\n      <th>3</th>\n      <td>0.024444</td>\n    </tr>\n    <tr>\n      <th>4</th>\n      <td>0.140694</td>\n    </tr>\n    <tr>\n      <th>5</th>\n      <td>0.260000</td>\n    </tr>\n    <tr>\n      <th>6</th>\n      <td>0.080000</td>\n    </tr>\n    <tr>\n      <th>...</th>\n      <td>...</td>\n    </tr>\n    <tr>\n      <th>3842</th>\n      <td>0.035000</td>\n    </tr>\n    <tr>\n      <th>3844</th>\n      <td>0.065139</td>\n    </tr>\n    <tr>\n      <th>3845</th>\n      <td>0.239028</td>\n    </tr>\n    <tr>\n      <th>3846</th>\n      <td>0.167639</td>\n    </tr>\n    <tr>\n      <th>3848</th>\n      <td>0.051389</td>\n    </tr>\n  </tbody>\n</table>\n<p>1845 rows × 1 columns</p>\n</div>"
     },
     "execution_count": 33,
     "metadata": {},
     "output_type": "execute_result"
    }
   ],
   "source": [
    "y_test = RF_random.predict_proba(test)\n",
    "y_test = pd.DataFrame(y_test, columns=['probability0','probability'])\n",
    "y_test = y_test.drop(['probability0'], axis=1)\n",
    "# y_test['probability'] = round(y_test['probability'], 6)\n",
    "y_test.index = test.index\n",
    "y_test"
   ],
   "metadata": {
    "collapsed": false
   }
  },
  {
   "cell_type": "code",
   "execution_count": 34,
   "outputs": [
    {
     "data": {
      "text/plain": "      probability\n2019     0.000000\n1569     0.000000\n1530     0.000000\n2735     0.000000\n1057     0.000000\n...           ...\n2681     0.477222\n3537     0.480278\n1816     0.487180\n3472     0.539722\n3745     0.569444\n\n[1845 rows x 1 columns]",
      "text/html": "<div>\n<style scoped>\n    .dataframe tbody tr th:only-of-type {\n        vertical-align: middle;\n    }\n\n    .dataframe tbody tr th {\n        vertical-align: top;\n    }\n\n    .dataframe thead th {\n        text-align: right;\n    }\n</style>\n<table border=\"1\" class=\"dataframe\">\n  <thead>\n    <tr style=\"text-align: right;\">\n      <th></th>\n      <th>probability</th>\n    </tr>\n  </thead>\n  <tbody>\n    <tr>\n      <th>2019</th>\n      <td>0.000000</td>\n    </tr>\n    <tr>\n      <th>1569</th>\n      <td>0.000000</td>\n    </tr>\n    <tr>\n      <th>1530</th>\n      <td>0.000000</td>\n    </tr>\n    <tr>\n      <th>2735</th>\n      <td>0.000000</td>\n    </tr>\n    <tr>\n      <th>1057</th>\n      <td>0.000000</td>\n    </tr>\n    <tr>\n      <th>...</th>\n      <td>...</td>\n    </tr>\n    <tr>\n      <th>2681</th>\n      <td>0.477222</td>\n    </tr>\n    <tr>\n      <th>3537</th>\n      <td>0.480278</td>\n    </tr>\n    <tr>\n      <th>1816</th>\n      <td>0.487180</td>\n    </tr>\n    <tr>\n      <th>3472</th>\n      <td>0.539722</td>\n    </tr>\n    <tr>\n      <th>3745</th>\n      <td>0.569444</td>\n    </tr>\n  </tbody>\n</table>\n<p>1845 rows × 1 columns</p>\n</div>"
     },
     "execution_count": 34,
     "metadata": {},
     "output_type": "execute_result"
    }
   ],
   "source": [
    "y_test.sort_values(by='probability', ascending=True)"
   ],
   "metadata": {
    "collapsed": false
   }
  },
  {
   "cell_type": "code",
   "execution_count": null,
   "outputs": [],
   "source": [
    "y_test.loc[y_test['probability'] == 0, 'probability'] = 0.000001\n",
    "y_test.sort_values(by='probability', ascending=True)"
   ],
   "metadata": {
    "collapsed": false
   }
  },
  {
   "cell_type": "code",
   "execution_count": 35,
   "outputs": [
    {
     "data": {
      "text/plain": "      alert_key  probability\n3745     364031     0.569444\n3472     364978     0.539722\n1816     355737     0.487180\n3537     353075     0.480278\n2681     358192     0.477222\n...         ...          ...\n1646     367567     0.000000\n1647     373667     0.000000\n1648     371071     0.000000\n1650     369630     0.000000\n3849     372119     0.000000\n\n[3850 rows x 2 columns]",
      "text/html": "<div>\n<style scoped>\n    .dataframe tbody tr th:only-of-type {\n        vertical-align: middle;\n    }\n\n    .dataframe tbody tr th {\n        vertical-align: top;\n    }\n\n    .dataframe thead th {\n        text-align: right;\n    }\n</style>\n<table border=\"1\" class=\"dataframe\">\n  <thead>\n    <tr style=\"text-align: right;\">\n      <th></th>\n      <th>alert_key</th>\n      <th>probability</th>\n    </tr>\n  </thead>\n  <tbody>\n    <tr>\n      <th>3745</th>\n      <td>364031</td>\n      <td>0.569444</td>\n    </tr>\n    <tr>\n      <th>3472</th>\n      <td>364978</td>\n      <td>0.539722</td>\n    </tr>\n    <tr>\n      <th>1816</th>\n      <td>355737</td>\n      <td>0.487180</td>\n    </tr>\n    <tr>\n      <th>3537</th>\n      <td>353075</td>\n      <td>0.480278</td>\n    </tr>\n    <tr>\n      <th>2681</th>\n      <td>358192</td>\n      <td>0.477222</td>\n    </tr>\n    <tr>\n      <th>...</th>\n      <td>...</td>\n      <td>...</td>\n    </tr>\n    <tr>\n      <th>1646</th>\n      <td>367567</td>\n      <td>0.000000</td>\n    </tr>\n    <tr>\n      <th>1647</th>\n      <td>373667</td>\n      <td>0.000000</td>\n    </tr>\n    <tr>\n      <th>1648</th>\n      <td>371071</td>\n      <td>0.000000</td>\n    </tr>\n    <tr>\n      <th>1650</th>\n      <td>369630</td>\n      <td>0.000000</td>\n    </tr>\n    <tr>\n      <th>3849</th>\n      <td>372119</td>\n      <td>0.000000</td>\n    </tr>\n  </tbody>\n</table>\n<p>3850 rows × 2 columns</p>\n</div>"
     },
     "execution_count": 35,
     "metadata": {},
     "output_type": "execute_result"
    }
   ],
   "source": [
    "xy_test = pd.concat([test, y_test], axis=1)\n",
    "submit = df_from_csv('submit_format.csv')\n",
    "submit = submit.drop(columns=['probability'])\n",
    "submit = pd.concat([submit, xy_test], axis=1)\n",
    "submit = submit[['alert_key','probability']]\n",
    "submit['probability'] = submit['probability'].fillna(0)\n",
    "submit = submit.sort_values(by='probability', ascending=False)\n",
    "submit.to_csv('final_submit.csv')\n",
    "submit"
   ],
   "metadata": {
    "collapsed": false
   }
  },
  {
   "cell_type": "code",
   "execution_count": null,
   "outputs": [],
   "source": [
    "submit.isnull().any()"
   ],
   "metadata": {
    "collapsed": false
   }
  },
  {
   "cell_type": "code",
   "execution_count": null,
   "outputs": [],
   "source": [
    "submit.loc[submit.duplicated(keep=False)]"
   ],
   "metadata": {
    "collapsed": false
   }
  }
 ],
 "metadata": {
  "kernelspec": {
   "display_name": "Python 3",
   "language": "python",
   "name": "python3"
  },
  "language_info": {
   "codemirror_mode": {
    "name": "ipython",
    "version": 2
   },
   "file_extension": ".py",
   "mimetype": "text/x-python",
   "name": "python",
   "nbconvert_exporter": "python",
   "pygments_lexer": "ipython2",
   "version": "2.7.6"
  }
 },
 "nbformat": 4,
 "nbformat_minor": 0
}
