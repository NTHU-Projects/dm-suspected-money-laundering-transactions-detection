{
 "cells": [
  {
   "cell_type": "code",
   "execution_count": 1,
   "metadata": {
    "collapsed": true
   },
   "outputs": [
    {
     "name": "stderr",
     "output_type": "stream",
     "text": [
      "C:\\Software\\Anaconda3\\lib\\site-packages\\statsmodels\\tsa\\base\\tsa_model.py:7: FutureWarning: pandas.Int64Index is deprecated and will be removed from pandas in a future version. Use pandas.Index with the appropriate dtype instead.\n",
      "  from pandas import (to_datetime, Int64Index, DatetimeIndex, Period,\n",
      "C:\\Software\\Anaconda3\\lib\\site-packages\\statsmodels\\tsa\\base\\tsa_model.py:7: FutureWarning: pandas.Float64Index is deprecated and will be removed from pandas in a future version. Use pandas.Index with the appropriate dtype instead.\n",
      "  from pandas import (to_datetime, Int64Index, DatetimeIndex, Period,\n"
     ]
    }
   ],
   "source": [
    "#Base\n",
    "\n",
    "import pandas as pd\n",
    "import os\n",
    "\n",
    "from sklearn.metrics import confusion_matrix\n",
    "from sklearn.model_selection import train_test_split\n",
    "from sklearn.linear_model import LogisticRegression\n",
    "from sklearn.metrics import accuracy_score\n",
    "from imblearn.over_sampling import SMOTE\n",
    "\n",
    "from sklearn.feature_selection import RFE\n",
    "\n",
    "import statsmodels.api as sm\n",
    "\n",
    "from tqdm import tqdm\n",
    "\n",
    "\n",
    "dataset_folder = os.path.join(os.getcwd(), 'dataset')\n",
    "\n",
    "def df_from_csv(filename):\n",
    "    f = os.path.join(dataset_folder, filename)\n",
    "    return pd.read_csv(f, delimiter='\\t|\\n|,', engine='python')\n",
    "\n",
    "x_train = df_from_csv('ori_trainx.csv')\n",
    "y_train = df_from_csv('ori_trainy.csv')\n",
    "alert_date = df_from_csv('ori_alert_date.csv')\n",
    "alert_cust = df_from_csv('ori_custinfo.csv')\n",
    "xdp = df_from_csv('ori_xdp.csv')\n",
    "\n",
    "smote = SMOTE(random_state=0)\n",
    "tqdm.pandas(desc='Progress Bar')\n",
    "\n",
    "def SMOTE_oversampling(input_x, input_y):\n",
    "    x_train, x_test, y_train, y_test = train_test_split(input_x, input_y, test_size=0.3)\n",
    "    x_cols = x_train.columns\n",
    "    y_cols = y_train.columns\n",
    "\n",
    "    sm_data_x, sm_data_y = smote.fit_resample(x_train, y_train)\n",
    "    sm_data_x = pd.DataFrame(data=sm_data_x, columns=x_cols)\n",
    "    sm_data_y = pd.DataFrame(data=sm_data_y, columns=y_cols)\n",
    "\n",
    "    print(\"length of oversampled data is \",len(sm_data_x))\n",
    "    print(\"Number of non-sar in oversampled data\",len(sm_data_y[sm_data_y['sar_flag']==0]))\n",
    "    print(\"Number of sar\",len(sm_data_y[sm_data_y['sar_flag']==1]))\n",
    "    print(\"Proportion of no subscription data in oversampled data is \", len(sm_data_y[sm_data_y['sar_flag']==0])/len(sm_data_x))\n",
    "    print(\"Proportion of subscription data in oversampled data is \", len(sm_data_y[sm_data_y['sar_flag']==1])/len(sm_data_x))\n",
    "\n",
    "    return sm_data_x, sm_data_y\n",
    "\n",
    "def RFE_analysis(input_x, input_y, model):\n",
    "    rfe = RFE(model, step=300)\n",
    "    rfe.fit(input_x, input_y.values.ravel())\n",
    "    print(input_x.columns)\n",
    "    print(rfe.support_)\n",
    "    print(rfe.ranking_)\n",
    "    return rfe.get_support(1)\n",
    "\n",
    "def LR_analysis(input_x, input_y):\n",
    "    sm_LR = sm.Logit(input_y, input_x)\n",
    "    result = sm_LR.fit()\n",
    "    print(result.summary2())\n",
    "\n",
    "def LR_training(input_x, input_y, LR_model):\n",
    "    x_train, x_test, y_train, y_test = train_test_split(input_x, input_y, test_size=0.25)\n",
    "    LR_model.fit(x_train, y_train)\n",
    "    y_train_predict = LR_model.predict(x_train)\n",
    "    y_test_predict = LR_model.predict(x_test)\n",
    "    train_acc = accuracy_score(y_train, y_train_predict)\n",
    "    test_acc = accuracy_score(y_test, y_test_predict)\n",
    "    print(f'{train_acc}  {test_acc}')\n",
    "    cm = confusion_matrix(y_true=y_test, y_pred=y_test_predict)\n",
    "    print(cm)\n",
    "    return LR_model\n",
    "\n",
    "def LR_test(input_x, input_y, LR_model):\n",
    "    y_predict = LR_model.predict(input_x)\n",
    "    test_acc = accuracy_score(input_y, y_predict)\n",
    "    print(f'{test_acc}')\n",
    "    cm = confusion_matrix(y_true=input_y, y_pred=y_predict)\n",
    "    print(cm)\n",
    "\n",
    "def calculate_tx(row):\n",
    "    if not pd.isna(row['risk_rank']):\n",
    "        temp_frame = xdp[(xdp['tx_date'] <= row['date']) & (xdp['cust_id'] == row['cust_id'])]\n",
    "        total_tx = (temp_frame['tx_amt'] * temp_frame['exchg_rate'])\n",
    "        row['total_tx'] = total_tx.sum()\n",
    "        row['avg_tx'] = total_tx.mean()\n",
    "        row['count_tx'] = total_tx.count()\n",
    "        row['std_tx'] = total_tx.std()\n",
    "        row['tx_per_day'] = row['count_tx']/row['date'] if row['date'] > 0 else 0\n",
    "    return row\n"
   ]
  },
  {
   "cell_type": "code",
   "execution_count": 2,
   "outputs": [],
   "source": [
    "# Join data for training\n",
    "\n",
    "ccba = pd.read_pickle('aggregated_ccba_cust.pkl')\n",
    "cdtx = pd.read_pickle('cdtx_agg.pkl')\n",
    "xdp = pd.read_pickle('xdp_train_test1.pkl')"
   ],
   "metadata": {
    "collapsed": false
   }
  },
  {
   "cell_type": "code",
   "execution_count": 19,
   "outputs": [
    {
     "data": {
      "text/plain": "       AGE  alert_key  avg_amt_nontw_nonntd  avg_amt_nontw_ntd  \\\n0        4     171189           9044.740741        3033.355556   \n1        2     171202                   NaN                NaN   \n2        4     171599                   NaN                NaN   \n3        4     171737                   NaN                NaN   \n4        3     171142                   NaN                NaN   \n...    ...        ...                   ...                ...   \n23901    3     352132           4332.523077        1223.939446   \n23902    3     352125                   NaN                NaN   \n23903    6     352080                   NaN                NaN   \n23904    6     352075                   NaN                NaN   \n23905    2     351927                   NaN                NaN   \n\n       avg_amt_tw_nonntd  avg_amt_tw_ntd  avg_freq_nontw_nonntd  \\\n0                    NaN     1388.550403               1.350000   \n1                    NaN             NaN                    NaN   \n2                    NaN             NaN                    NaN   \n3                    NaN     1893.333333                    NaN   \n4                    NaN     7048.368421                    NaN   \n...                  ...             ...                    ...   \n23901                NaN      988.503826               1.160714   \n23902                NaN             NaN                    NaN   \n23903                NaN             NaN                    NaN   \n23904                NaN             NaN                    NaN   \n23905                NaN             NaN                    NaN   \n\n       avg_freq_nontw_ntd  avg_freq_tw_nonntd  avg_freq_tw_ntd  ...  \\\n0                1.097561                 NaN         2.147186  ...   \n1                     NaN                 NaN              NaN  ...   \n2                     NaN                 NaN              NaN  ...   \n3                     NaN                 NaN         1.500000  ...   \n4                     NaN                 NaN         1.055556  ...   \n...                   ...                 ...              ...  ...   \n23901            2.513043                 NaN         6.668367  ...   \n23902                 NaN                 NaN              NaN  ...   \n23903                 NaN                 NaN              NaN  ...   \n23904                 NaN                 NaN              NaN  ...   \n23905                 NaN                 NaN              NaN  ...   \n\n       total_amt_nontw_nonntd  total_amt_nontw_ntd  total_amt_tw_nonntd  \\\n0                    244208.0             136501.0                  NaN   \n1                         NaN                  NaN                  NaN   \n2                         NaN                  NaN                  NaN   \n3                         NaN                  NaN                  NaN   \n4                         NaN                  NaN                  NaN   \n...                       ...                  ...                  ...   \n23901                281614.0             707437.0                  NaN   \n23902                     NaN                  NaN                  NaN   \n23903                     NaN                  NaN                  NaN   \n23904                     NaN                  NaN                  NaN   \n23905                     NaN                  NaN                  NaN   \n\n       total_amt_tw_ntd  total_freq_nontw_nonntd  total_freq_nontw_ntd  \\\n0              688721.0                     27.0                  45.0   \n1                   NaN                      NaN                   NaN   \n2                   NaN                      NaN                   NaN   \n3                5680.0                      NaN                   NaN   \n4              133919.0                      NaN                   NaN   \n...                 ...                      ...                   ...   \n23901         2583949.0                     65.0                 578.0   \n23902               NaN                      NaN                   NaN   \n23903               NaN                      NaN                   NaN   \n23904               NaN                      NaN                   NaN   \n23905               NaN                      NaN                   NaN   \n\n       total_freq_tw_nonntd  total_freq_tw_ntd      total_tx  tx_per_day  \n0                       NaN              496.0  1.515000e+03    0.000000  \n1                       NaN                NaN  2.092020e+05    0.000000  \n2                       NaN                NaN  3.105930e+05    0.000000  \n3                       NaN                3.0  4.312500e+04    0.000000  \n4                       NaN               19.0  2.963440e+05    0.000000  \n...                     ...                ...           ...         ...  \n23901                   NaN             2614.0  1.532000e+08    0.390110  \n23902                   NaN                NaN  4.615283e+07    0.054945  \n23903                   NaN                NaN  1.555772e+08    0.192308  \n23904                   NaN                NaN  1.365559e+08    1.181319  \n23905                   NaN                NaN  5.918977e+07    0.618132  \n\n[23906 rows x 51 columns]",
      "text/html": "<div>\n<style scoped>\n    .dataframe tbody tr th:only-of-type {\n        vertical-align: middle;\n    }\n\n    .dataframe tbody tr th {\n        vertical-align: top;\n    }\n\n    .dataframe thead th {\n        text-align: right;\n    }\n</style>\n<table border=\"1\" class=\"dataframe\">\n  <thead>\n    <tr style=\"text-align: right;\">\n      <th></th>\n      <th>AGE</th>\n      <th>alert_key</th>\n      <th>avg_amt_nontw_nonntd</th>\n      <th>avg_amt_nontw_ntd</th>\n      <th>avg_amt_tw_nonntd</th>\n      <th>avg_amt_tw_ntd</th>\n      <th>avg_freq_nontw_nonntd</th>\n      <th>avg_freq_nontw_ntd</th>\n      <th>avg_freq_tw_nonntd</th>\n      <th>avg_freq_tw_ntd</th>\n      <th>...</th>\n      <th>total_amt_nontw_nonntd</th>\n      <th>total_amt_nontw_ntd</th>\n      <th>total_amt_tw_nonntd</th>\n      <th>total_amt_tw_ntd</th>\n      <th>total_freq_nontw_nonntd</th>\n      <th>total_freq_nontw_ntd</th>\n      <th>total_freq_tw_nonntd</th>\n      <th>total_freq_tw_ntd</th>\n      <th>total_tx</th>\n      <th>tx_per_day</th>\n    </tr>\n  </thead>\n  <tbody>\n    <tr>\n      <th>0</th>\n      <td>4</td>\n      <td>171189</td>\n      <td>9044.740741</td>\n      <td>3033.355556</td>\n      <td>NaN</td>\n      <td>1388.550403</td>\n      <td>1.350000</td>\n      <td>1.097561</td>\n      <td>NaN</td>\n      <td>2.147186</td>\n      <td>...</td>\n      <td>244208.0</td>\n      <td>136501.0</td>\n      <td>NaN</td>\n      <td>688721.0</td>\n      <td>27.0</td>\n      <td>45.0</td>\n      <td>NaN</td>\n      <td>496.0</td>\n      <td>1.515000e+03</td>\n      <td>0.000000</td>\n    </tr>\n    <tr>\n      <th>1</th>\n      <td>2</td>\n      <td>171202</td>\n      <td>NaN</td>\n      <td>NaN</td>\n      <td>NaN</td>\n      <td>NaN</td>\n      <td>NaN</td>\n      <td>NaN</td>\n      <td>NaN</td>\n      <td>NaN</td>\n      <td>...</td>\n      <td>NaN</td>\n      <td>NaN</td>\n      <td>NaN</td>\n      <td>NaN</td>\n      <td>NaN</td>\n      <td>NaN</td>\n      <td>NaN</td>\n      <td>NaN</td>\n      <td>2.092020e+05</td>\n      <td>0.000000</td>\n    </tr>\n    <tr>\n      <th>2</th>\n      <td>4</td>\n      <td>171599</td>\n      <td>NaN</td>\n      <td>NaN</td>\n      <td>NaN</td>\n      <td>NaN</td>\n      <td>NaN</td>\n      <td>NaN</td>\n      <td>NaN</td>\n      <td>NaN</td>\n      <td>...</td>\n      <td>NaN</td>\n      <td>NaN</td>\n      <td>NaN</td>\n      <td>NaN</td>\n      <td>NaN</td>\n      <td>NaN</td>\n      <td>NaN</td>\n      <td>NaN</td>\n      <td>3.105930e+05</td>\n      <td>0.000000</td>\n    </tr>\n    <tr>\n      <th>3</th>\n      <td>4</td>\n      <td>171737</td>\n      <td>NaN</td>\n      <td>NaN</td>\n      <td>NaN</td>\n      <td>1893.333333</td>\n      <td>NaN</td>\n      <td>NaN</td>\n      <td>NaN</td>\n      <td>1.500000</td>\n      <td>...</td>\n      <td>NaN</td>\n      <td>NaN</td>\n      <td>NaN</td>\n      <td>5680.0</td>\n      <td>NaN</td>\n      <td>NaN</td>\n      <td>NaN</td>\n      <td>3.0</td>\n      <td>4.312500e+04</td>\n      <td>0.000000</td>\n    </tr>\n    <tr>\n      <th>4</th>\n      <td>3</td>\n      <td>171142</td>\n      <td>NaN</td>\n      <td>NaN</td>\n      <td>NaN</td>\n      <td>7048.368421</td>\n      <td>NaN</td>\n      <td>NaN</td>\n      <td>NaN</td>\n      <td>1.055556</td>\n      <td>...</td>\n      <td>NaN</td>\n      <td>NaN</td>\n      <td>NaN</td>\n      <td>133919.0</td>\n      <td>NaN</td>\n      <td>NaN</td>\n      <td>NaN</td>\n      <td>19.0</td>\n      <td>2.963440e+05</td>\n      <td>0.000000</td>\n    </tr>\n    <tr>\n      <th>...</th>\n      <td>...</td>\n      <td>...</td>\n      <td>...</td>\n      <td>...</td>\n      <td>...</td>\n      <td>...</td>\n      <td>...</td>\n      <td>...</td>\n      <td>...</td>\n      <td>...</td>\n      <td>...</td>\n      <td>...</td>\n      <td>...</td>\n      <td>...</td>\n      <td>...</td>\n      <td>...</td>\n      <td>...</td>\n      <td>...</td>\n      <td>...</td>\n      <td>...</td>\n      <td>...</td>\n    </tr>\n    <tr>\n      <th>23901</th>\n      <td>3</td>\n      <td>352132</td>\n      <td>4332.523077</td>\n      <td>1223.939446</td>\n      <td>NaN</td>\n      <td>988.503826</td>\n      <td>1.160714</td>\n      <td>2.513043</td>\n      <td>NaN</td>\n      <td>6.668367</td>\n      <td>...</td>\n      <td>281614.0</td>\n      <td>707437.0</td>\n      <td>NaN</td>\n      <td>2583949.0</td>\n      <td>65.0</td>\n      <td>578.0</td>\n      <td>NaN</td>\n      <td>2614.0</td>\n      <td>1.532000e+08</td>\n      <td>0.390110</td>\n    </tr>\n    <tr>\n      <th>23902</th>\n      <td>3</td>\n      <td>352125</td>\n      <td>NaN</td>\n      <td>NaN</td>\n      <td>NaN</td>\n      <td>NaN</td>\n      <td>NaN</td>\n      <td>NaN</td>\n      <td>NaN</td>\n      <td>NaN</td>\n      <td>...</td>\n      <td>NaN</td>\n      <td>NaN</td>\n      <td>NaN</td>\n      <td>NaN</td>\n      <td>NaN</td>\n      <td>NaN</td>\n      <td>NaN</td>\n      <td>NaN</td>\n      <td>4.615283e+07</td>\n      <td>0.054945</td>\n    </tr>\n    <tr>\n      <th>23903</th>\n      <td>6</td>\n      <td>352080</td>\n      <td>NaN</td>\n      <td>NaN</td>\n      <td>NaN</td>\n      <td>NaN</td>\n      <td>NaN</td>\n      <td>NaN</td>\n      <td>NaN</td>\n      <td>NaN</td>\n      <td>...</td>\n      <td>NaN</td>\n      <td>NaN</td>\n      <td>NaN</td>\n      <td>NaN</td>\n      <td>NaN</td>\n      <td>NaN</td>\n      <td>NaN</td>\n      <td>NaN</td>\n      <td>1.555772e+08</td>\n      <td>0.192308</td>\n    </tr>\n    <tr>\n      <th>23904</th>\n      <td>6</td>\n      <td>352075</td>\n      <td>NaN</td>\n      <td>NaN</td>\n      <td>NaN</td>\n      <td>NaN</td>\n      <td>NaN</td>\n      <td>NaN</td>\n      <td>NaN</td>\n      <td>NaN</td>\n      <td>...</td>\n      <td>NaN</td>\n      <td>NaN</td>\n      <td>NaN</td>\n      <td>NaN</td>\n      <td>NaN</td>\n      <td>NaN</td>\n      <td>NaN</td>\n      <td>NaN</td>\n      <td>1.365559e+08</td>\n      <td>1.181319</td>\n    </tr>\n    <tr>\n      <th>23905</th>\n      <td>2</td>\n      <td>351927</td>\n      <td>NaN</td>\n      <td>NaN</td>\n      <td>NaN</td>\n      <td>NaN</td>\n      <td>NaN</td>\n      <td>NaN</td>\n      <td>NaN</td>\n      <td>NaN</td>\n      <td>...</td>\n      <td>NaN</td>\n      <td>NaN</td>\n      <td>NaN</td>\n      <td>NaN</td>\n      <td>NaN</td>\n      <td>NaN</td>\n      <td>NaN</td>\n      <td>NaN</td>\n      <td>5.918977e+07</td>\n      <td>0.618132</td>\n    </tr>\n  </tbody>\n</table>\n<p>23906 rows × 51 columns</p>\n</div>"
     },
     "execution_count": 19,
     "metadata": {},
     "output_type": "execute_result"
    }
   ],
   "source": [
    "train = df_from_csv('ori_trainx.csv')\n",
    "train = train.merge(df_from_csv('ori_trainy.csv'), on='alert_key', how='inner')\n",
    "train = train.merge(alert_cust, on='alert_key', how='left')\n",
    "train = train[['alert_key', 'cust_id']]\n",
    "train = train.merge(ccba, on='cust_id', how='left')\n",
    "train = train.merge(cdtx, on='cust_id', how='left')\n",
    "train = train.merge(xdp, on='alert_key', how='left')\n",
    "train = train.reindex(sorted(train.columns), axis=1)\n",
    "train"
   ],
   "metadata": {
    "collapsed": false
   }
  },
  {
   "cell_type": "code",
   "execution_count": 20,
   "outputs": [],
   "source": [
    "train.iloc[:, 2:] = train.iloc[:, 2:].fillna(0)\n",
    "train = train.drop(['cust_id_x', 'cust_id_y'], axis=1)\n",
    "train.to_pickle('aggregate.pkl')"
   ],
   "metadata": {
    "collapsed": false
   }
  },
  {
   "cell_type": "code",
   "execution_count": 21,
   "outputs": [
    {
     "data": {
      "text/plain": "       AGE  avg_amt_nontw_nonntd  avg_amt_nontw_ntd  avg_amt_tw_nonntd  \\\n0        4           9044.740741        3033.355556                0.0   \n1        2              0.000000           0.000000                0.0   \n2        4              0.000000           0.000000                0.0   \n3        4              0.000000           0.000000                0.0   \n4        3              0.000000           0.000000                0.0   \n...    ...                   ...                ...                ...   \n23901    3           4332.523077        1223.939446                0.0   \n23902    3              0.000000           0.000000                0.0   \n23903    6              0.000000           0.000000                0.0   \n23904    6              0.000000           0.000000                0.0   \n23905    2              0.000000           0.000000                0.0   \n\n       avg_amt_tw_ntd  avg_freq_nontw_nonntd  avg_freq_nontw_ntd  \\\n0         1388.550403               1.350000            1.097561   \n1            0.000000               0.000000            0.000000   \n2            0.000000               0.000000            0.000000   \n3         1893.333333               0.000000            0.000000   \n4         7048.368421               0.000000            0.000000   \n...               ...                    ...                 ...   \n23901      988.503826               1.160714            2.513043   \n23902        0.000000               0.000000            0.000000   \n23903        0.000000               0.000000            0.000000   \n23904        0.000000               0.000000            0.000000   \n23905        0.000000               0.000000            0.000000   \n\n       avg_freq_tw_nonntd  avg_freq_tw_ntd        avg_tx  ...  \\\n0                     0.0         2.147186  5.050000e+02  ...   \n1                     0.0         0.000000  6.973400e+04  ...   \n2                     0.0         0.000000  7.764825e+04  ...   \n3                     0.0         1.500000  4.312500e+03  ...   \n4                     0.0         1.055556  4.939067e+03  ...   \n...                   ...              ...           ...  ...   \n23901                 0.0         6.668367  1.078873e+06  ...   \n23902                 0.0         0.000000  2.307641e+06  ...   \n23903                 0.0         0.000000  2.222531e+06  ...   \n23904                 0.0         0.000000  3.175717e+05  ...   \n23905                 0.0         0.000000  2.630657e+05  ...   \n\n       total_amt_nontw_nonntd  total_amt_nontw_ntd  total_amt_tw_nonntd  \\\n0                    244208.0             136501.0                  0.0   \n1                         0.0                  0.0                  0.0   \n2                         0.0                  0.0                  0.0   \n3                         0.0                  0.0                  0.0   \n4                         0.0                  0.0                  0.0   \n...                       ...                  ...                  ...   \n23901                281614.0             707437.0                  0.0   \n23902                     0.0                  0.0                  0.0   \n23903                     0.0                  0.0                  0.0   \n23904                     0.0                  0.0                  0.0   \n23905                     0.0                  0.0                  0.0   \n\n       total_amt_tw_ntd  total_freq_nontw_nonntd  total_freq_nontw_ntd  \\\n0              688721.0                     27.0                  45.0   \n1                   0.0                      0.0                   0.0   \n2                   0.0                      0.0                   0.0   \n3                5680.0                      0.0                   0.0   \n4              133919.0                      0.0                   0.0   \n...                 ...                      ...                   ...   \n23901         2583949.0                     65.0                 578.0   \n23902               0.0                      0.0                   0.0   \n23903               0.0                      0.0                   0.0   \n23904               0.0                      0.0                   0.0   \n23905               0.0                      0.0                   0.0   \n\n       total_freq_tw_nonntd  total_freq_tw_ntd      total_tx  tx_per_day  \n0                       0.0              496.0  1.515000e+03    0.000000  \n1                       0.0                0.0  2.092020e+05    0.000000  \n2                       0.0                0.0  3.105930e+05    0.000000  \n3                       0.0                3.0  4.312500e+04    0.000000  \n4                       0.0               19.0  2.963440e+05    0.000000  \n...                     ...                ...           ...         ...  \n23901                   0.0             2614.0  1.532000e+08    0.390110  \n23902                   0.0                0.0  4.615283e+07    0.054945  \n23903                   0.0                0.0  1.555772e+08    0.192308  \n23904                   0.0                0.0  1.365559e+08    1.181319  \n23905                   0.0                0.0  5.918977e+07    0.618132  \n\n[23906 rows x 48 columns]",
      "text/html": "<div>\n<style scoped>\n    .dataframe tbody tr th:only-of-type {\n        vertical-align: middle;\n    }\n\n    .dataframe tbody tr th {\n        vertical-align: top;\n    }\n\n    .dataframe thead th {\n        text-align: right;\n    }\n</style>\n<table border=\"1\" class=\"dataframe\">\n  <thead>\n    <tr style=\"text-align: right;\">\n      <th></th>\n      <th>AGE</th>\n      <th>avg_amt_nontw_nonntd</th>\n      <th>avg_amt_nontw_ntd</th>\n      <th>avg_amt_tw_nonntd</th>\n      <th>avg_amt_tw_ntd</th>\n      <th>avg_freq_nontw_nonntd</th>\n      <th>avg_freq_nontw_ntd</th>\n      <th>avg_freq_tw_nonntd</th>\n      <th>avg_freq_tw_ntd</th>\n      <th>avg_tx</th>\n      <th>...</th>\n      <th>total_amt_nontw_nonntd</th>\n      <th>total_amt_nontw_ntd</th>\n      <th>total_amt_tw_nonntd</th>\n      <th>total_amt_tw_ntd</th>\n      <th>total_freq_nontw_nonntd</th>\n      <th>total_freq_nontw_ntd</th>\n      <th>total_freq_tw_nonntd</th>\n      <th>total_freq_tw_ntd</th>\n      <th>total_tx</th>\n      <th>tx_per_day</th>\n    </tr>\n  </thead>\n  <tbody>\n    <tr>\n      <th>0</th>\n      <td>4</td>\n      <td>9044.740741</td>\n      <td>3033.355556</td>\n      <td>0.0</td>\n      <td>1388.550403</td>\n      <td>1.350000</td>\n      <td>1.097561</td>\n      <td>0.0</td>\n      <td>2.147186</td>\n      <td>5.050000e+02</td>\n      <td>...</td>\n      <td>244208.0</td>\n      <td>136501.0</td>\n      <td>0.0</td>\n      <td>688721.0</td>\n      <td>27.0</td>\n      <td>45.0</td>\n      <td>0.0</td>\n      <td>496.0</td>\n      <td>1.515000e+03</td>\n      <td>0.000000</td>\n    </tr>\n    <tr>\n      <th>1</th>\n      <td>2</td>\n      <td>0.000000</td>\n      <td>0.000000</td>\n      <td>0.0</td>\n      <td>0.000000</td>\n      <td>0.000000</td>\n      <td>0.000000</td>\n      <td>0.0</td>\n      <td>0.000000</td>\n      <td>6.973400e+04</td>\n      <td>...</td>\n      <td>0.0</td>\n      <td>0.0</td>\n      <td>0.0</td>\n      <td>0.0</td>\n      <td>0.0</td>\n      <td>0.0</td>\n      <td>0.0</td>\n      <td>0.0</td>\n      <td>2.092020e+05</td>\n      <td>0.000000</td>\n    </tr>\n    <tr>\n      <th>2</th>\n      <td>4</td>\n      <td>0.000000</td>\n      <td>0.000000</td>\n      <td>0.0</td>\n      <td>0.000000</td>\n      <td>0.000000</td>\n      <td>0.000000</td>\n      <td>0.0</td>\n      <td>0.000000</td>\n      <td>7.764825e+04</td>\n      <td>...</td>\n      <td>0.0</td>\n      <td>0.0</td>\n      <td>0.0</td>\n      <td>0.0</td>\n      <td>0.0</td>\n      <td>0.0</td>\n      <td>0.0</td>\n      <td>0.0</td>\n      <td>3.105930e+05</td>\n      <td>0.000000</td>\n    </tr>\n    <tr>\n      <th>3</th>\n      <td>4</td>\n      <td>0.000000</td>\n      <td>0.000000</td>\n      <td>0.0</td>\n      <td>1893.333333</td>\n      <td>0.000000</td>\n      <td>0.000000</td>\n      <td>0.0</td>\n      <td>1.500000</td>\n      <td>4.312500e+03</td>\n      <td>...</td>\n      <td>0.0</td>\n      <td>0.0</td>\n      <td>0.0</td>\n      <td>5680.0</td>\n      <td>0.0</td>\n      <td>0.0</td>\n      <td>0.0</td>\n      <td>3.0</td>\n      <td>4.312500e+04</td>\n      <td>0.000000</td>\n    </tr>\n    <tr>\n      <th>4</th>\n      <td>3</td>\n      <td>0.000000</td>\n      <td>0.000000</td>\n      <td>0.0</td>\n      <td>7048.368421</td>\n      <td>0.000000</td>\n      <td>0.000000</td>\n      <td>0.0</td>\n      <td>1.055556</td>\n      <td>4.939067e+03</td>\n      <td>...</td>\n      <td>0.0</td>\n      <td>0.0</td>\n      <td>0.0</td>\n      <td>133919.0</td>\n      <td>0.0</td>\n      <td>0.0</td>\n      <td>0.0</td>\n      <td>19.0</td>\n      <td>2.963440e+05</td>\n      <td>0.000000</td>\n    </tr>\n    <tr>\n      <th>...</th>\n      <td>...</td>\n      <td>...</td>\n      <td>...</td>\n      <td>...</td>\n      <td>...</td>\n      <td>...</td>\n      <td>...</td>\n      <td>...</td>\n      <td>...</td>\n      <td>...</td>\n      <td>...</td>\n      <td>...</td>\n      <td>...</td>\n      <td>...</td>\n      <td>...</td>\n      <td>...</td>\n      <td>...</td>\n      <td>...</td>\n      <td>...</td>\n      <td>...</td>\n      <td>...</td>\n    </tr>\n    <tr>\n      <th>23901</th>\n      <td>3</td>\n      <td>4332.523077</td>\n      <td>1223.939446</td>\n      <td>0.0</td>\n      <td>988.503826</td>\n      <td>1.160714</td>\n      <td>2.513043</td>\n      <td>0.0</td>\n      <td>6.668367</td>\n      <td>1.078873e+06</td>\n      <td>...</td>\n      <td>281614.0</td>\n      <td>707437.0</td>\n      <td>0.0</td>\n      <td>2583949.0</td>\n      <td>65.0</td>\n      <td>578.0</td>\n      <td>0.0</td>\n      <td>2614.0</td>\n      <td>1.532000e+08</td>\n      <td>0.390110</td>\n    </tr>\n    <tr>\n      <th>23902</th>\n      <td>3</td>\n      <td>0.000000</td>\n      <td>0.000000</td>\n      <td>0.0</td>\n      <td>0.000000</td>\n      <td>0.000000</td>\n      <td>0.000000</td>\n      <td>0.0</td>\n      <td>0.000000</td>\n      <td>2.307641e+06</td>\n      <td>...</td>\n      <td>0.0</td>\n      <td>0.0</td>\n      <td>0.0</td>\n      <td>0.0</td>\n      <td>0.0</td>\n      <td>0.0</td>\n      <td>0.0</td>\n      <td>0.0</td>\n      <td>4.615283e+07</td>\n      <td>0.054945</td>\n    </tr>\n    <tr>\n      <th>23903</th>\n      <td>6</td>\n      <td>0.000000</td>\n      <td>0.000000</td>\n      <td>0.0</td>\n      <td>0.000000</td>\n      <td>0.000000</td>\n      <td>0.000000</td>\n      <td>0.0</td>\n      <td>0.000000</td>\n      <td>2.222531e+06</td>\n      <td>...</td>\n      <td>0.0</td>\n      <td>0.0</td>\n      <td>0.0</td>\n      <td>0.0</td>\n      <td>0.0</td>\n      <td>0.0</td>\n      <td>0.0</td>\n      <td>0.0</td>\n      <td>1.555772e+08</td>\n      <td>0.192308</td>\n    </tr>\n    <tr>\n      <th>23904</th>\n      <td>6</td>\n      <td>0.000000</td>\n      <td>0.000000</td>\n      <td>0.0</td>\n      <td>0.000000</td>\n      <td>0.000000</td>\n      <td>0.000000</td>\n      <td>0.0</td>\n      <td>0.000000</td>\n      <td>3.175717e+05</td>\n      <td>...</td>\n      <td>0.0</td>\n      <td>0.0</td>\n      <td>0.0</td>\n      <td>0.0</td>\n      <td>0.0</td>\n      <td>0.0</td>\n      <td>0.0</td>\n      <td>0.0</td>\n      <td>1.365559e+08</td>\n      <td>1.181319</td>\n    </tr>\n    <tr>\n      <th>23905</th>\n      <td>2</td>\n      <td>0.000000</td>\n      <td>0.000000</td>\n      <td>0.0</td>\n      <td>0.000000</td>\n      <td>0.000000</td>\n      <td>0.000000</td>\n      <td>0.0</td>\n      <td>0.000000</td>\n      <td>2.630657e+05</td>\n      <td>...</td>\n      <td>0.0</td>\n      <td>0.0</td>\n      <td>0.0</td>\n      <td>0.0</td>\n      <td>0.0</td>\n      <td>0.0</td>\n      <td>0.0</td>\n      <td>0.0</td>\n      <td>5.918977e+07</td>\n      <td>0.618132</td>\n    </tr>\n  </tbody>\n</table>\n<p>23906 rows × 48 columns</p>\n</div>"
     },
     "execution_count": 21,
     "metadata": {},
     "output_type": "execute_result"
    }
   ],
   "source": [
    "train = train.drop(['alert_key'], axis=1)\n",
    "train"
   ],
   "metadata": {
    "collapsed": false
   }
  },
  {
   "cell_type": "code",
   "execution_count": 6,
   "outputs": [
    {
     "data": {
      "text/plain": "       AGE  avg_amt_nontw_nonntd  avg_amt_nontw_ntd  avg_amt_tw_nonntd  \\\n0        4           9044.740741        3033.355556                0.0   \n1        2              0.000000           0.000000                0.0   \n2        4              0.000000           0.000000                0.0   \n3        4              0.000000           0.000000                0.0   \n4        3              0.000000           0.000000                0.0   \n...    ...                   ...                ...                ...   \n23901    3           4332.523077        1223.939446                0.0   \n23902    3              0.000000           0.000000                0.0   \n23903    6              0.000000           0.000000                0.0   \n23904    6              0.000000           0.000000                0.0   \n23905    2              0.000000           0.000000                0.0   \n\n       avg_amt_tw_ntd  avg_freq_nontw_nonntd  avg_freq_nontw_ntd  \\\n0         1388.550403               1.350000            1.097561   \n1            0.000000               0.000000            0.000000   \n2            0.000000               0.000000            0.000000   \n3         1893.333333               0.000000            0.000000   \n4         7048.368421               0.000000            0.000000   \n...               ...                    ...                 ...   \n23901      988.503826               1.160714            2.513043   \n23902        0.000000               0.000000            0.000000   \n23903        0.000000               0.000000            0.000000   \n23904        0.000000               0.000000            0.000000   \n23905        0.000000               0.000000            0.000000   \n\n       avg_freq_tw_nonntd  avg_freq_tw_ntd        avg_tx  ...  \\\n0                     0.0         2.147186  5.050000e+02  ...   \n1                     0.0         0.000000  6.973400e+04  ...   \n2                     0.0         0.000000  7.764825e+04  ...   \n3                     0.0         1.500000  4.312500e+03  ...   \n4                     0.0         1.055556  4.939067e+03  ...   \n...                   ...              ...           ...  ...   \n23901                 0.0         6.668367  1.078873e+06  ...   \n23902                 0.0         0.000000  2.307641e+06  ...   \n23903                 0.0         0.000000  2.222531e+06  ...   \n23904                 0.0         0.000000  3.175717e+05  ...   \n23905                 0.0         0.000000  2.630657e+05  ...   \n\n       total_amt_nontw_nonntd  total_amt_nontw_ntd  total_amt_tw_nonntd  \\\n0                    244208.0             136501.0                  0.0   \n1                         0.0                  0.0                  0.0   \n2                         0.0                  0.0                  0.0   \n3                         0.0                  0.0                  0.0   \n4                         0.0                  0.0                  0.0   \n...                       ...                  ...                  ...   \n23901                281614.0             707437.0                  0.0   \n23902                     0.0                  0.0                  0.0   \n23903                     0.0                  0.0                  0.0   \n23904                     0.0                  0.0                  0.0   \n23905                     0.0                  0.0                  0.0   \n\n       total_amt_tw_ntd  total_freq_nontw_nonntd  total_freq_nontw_ntd  \\\n0              688721.0                     27.0                  45.0   \n1                   0.0                      0.0                   0.0   \n2                   0.0                      0.0                   0.0   \n3                5680.0                      0.0                   0.0   \n4              133919.0                      0.0                   0.0   \n...                 ...                      ...                   ...   \n23901         2583949.0                     65.0                 578.0   \n23902               0.0                      0.0                   0.0   \n23903               0.0                      0.0                   0.0   \n23904               0.0                      0.0                   0.0   \n23905               0.0                      0.0                   0.0   \n\n       total_freq_tw_nonntd  total_freq_tw_ntd      total_tx  tx_per_day  \n0                       0.0              496.0  1.515000e+03    0.000000  \n1                       0.0                0.0  2.092020e+05    0.000000  \n2                       0.0                0.0  3.105930e+05    0.000000  \n3                       0.0                3.0  4.312500e+04    0.000000  \n4                       0.0               19.0  2.963440e+05    0.000000  \n...                     ...                ...           ...         ...  \n23901                   0.0             2614.0  1.532000e+08    0.390110  \n23902                   0.0                0.0  4.615283e+07    0.054945  \n23903                   0.0                0.0  1.555772e+08    0.192308  \n23904                   0.0                0.0  1.365559e+08    1.181319  \n23905                   0.0                0.0  5.918977e+07    0.618132  \n\n[23906 rows x 47 columns]",
      "text/html": "<div>\n<style scoped>\n    .dataframe tbody tr th:only-of-type {\n        vertical-align: middle;\n    }\n\n    .dataframe tbody tr th {\n        vertical-align: top;\n    }\n\n    .dataframe thead th {\n        text-align: right;\n    }\n</style>\n<table border=\"1\" class=\"dataframe\">\n  <thead>\n    <tr style=\"text-align: right;\">\n      <th></th>\n      <th>AGE</th>\n      <th>avg_amt_nontw_nonntd</th>\n      <th>avg_amt_nontw_ntd</th>\n      <th>avg_amt_tw_nonntd</th>\n      <th>avg_amt_tw_ntd</th>\n      <th>avg_freq_nontw_nonntd</th>\n      <th>avg_freq_nontw_ntd</th>\n      <th>avg_freq_tw_nonntd</th>\n      <th>avg_freq_tw_ntd</th>\n      <th>avg_tx</th>\n      <th>...</th>\n      <th>total_amt_nontw_nonntd</th>\n      <th>total_amt_nontw_ntd</th>\n      <th>total_amt_tw_nonntd</th>\n      <th>total_amt_tw_ntd</th>\n      <th>total_freq_nontw_nonntd</th>\n      <th>total_freq_nontw_ntd</th>\n      <th>total_freq_tw_nonntd</th>\n      <th>total_freq_tw_ntd</th>\n      <th>total_tx</th>\n      <th>tx_per_day</th>\n    </tr>\n  </thead>\n  <tbody>\n    <tr>\n      <th>0</th>\n      <td>4</td>\n      <td>9044.740741</td>\n      <td>3033.355556</td>\n      <td>0.0</td>\n      <td>1388.550403</td>\n      <td>1.350000</td>\n      <td>1.097561</td>\n      <td>0.0</td>\n      <td>2.147186</td>\n      <td>5.050000e+02</td>\n      <td>...</td>\n      <td>244208.0</td>\n      <td>136501.0</td>\n      <td>0.0</td>\n      <td>688721.0</td>\n      <td>27.0</td>\n      <td>45.0</td>\n      <td>0.0</td>\n      <td>496.0</td>\n      <td>1.515000e+03</td>\n      <td>0.000000</td>\n    </tr>\n    <tr>\n      <th>1</th>\n      <td>2</td>\n      <td>0.000000</td>\n      <td>0.000000</td>\n      <td>0.0</td>\n      <td>0.000000</td>\n      <td>0.000000</td>\n      <td>0.000000</td>\n      <td>0.0</td>\n      <td>0.000000</td>\n      <td>6.973400e+04</td>\n      <td>...</td>\n      <td>0.0</td>\n      <td>0.0</td>\n      <td>0.0</td>\n      <td>0.0</td>\n      <td>0.0</td>\n      <td>0.0</td>\n      <td>0.0</td>\n      <td>0.0</td>\n      <td>2.092020e+05</td>\n      <td>0.000000</td>\n    </tr>\n    <tr>\n      <th>2</th>\n      <td>4</td>\n      <td>0.000000</td>\n      <td>0.000000</td>\n      <td>0.0</td>\n      <td>0.000000</td>\n      <td>0.000000</td>\n      <td>0.000000</td>\n      <td>0.0</td>\n      <td>0.000000</td>\n      <td>7.764825e+04</td>\n      <td>...</td>\n      <td>0.0</td>\n      <td>0.0</td>\n      <td>0.0</td>\n      <td>0.0</td>\n      <td>0.0</td>\n      <td>0.0</td>\n      <td>0.0</td>\n      <td>0.0</td>\n      <td>3.105930e+05</td>\n      <td>0.000000</td>\n    </tr>\n    <tr>\n      <th>3</th>\n      <td>4</td>\n      <td>0.000000</td>\n      <td>0.000000</td>\n      <td>0.0</td>\n      <td>1893.333333</td>\n      <td>0.000000</td>\n      <td>0.000000</td>\n      <td>0.0</td>\n      <td>1.500000</td>\n      <td>4.312500e+03</td>\n      <td>...</td>\n      <td>0.0</td>\n      <td>0.0</td>\n      <td>0.0</td>\n      <td>5680.0</td>\n      <td>0.0</td>\n      <td>0.0</td>\n      <td>0.0</td>\n      <td>3.0</td>\n      <td>4.312500e+04</td>\n      <td>0.000000</td>\n    </tr>\n    <tr>\n      <th>4</th>\n      <td>3</td>\n      <td>0.000000</td>\n      <td>0.000000</td>\n      <td>0.0</td>\n      <td>7048.368421</td>\n      <td>0.000000</td>\n      <td>0.000000</td>\n      <td>0.0</td>\n      <td>1.055556</td>\n      <td>4.939067e+03</td>\n      <td>...</td>\n      <td>0.0</td>\n      <td>0.0</td>\n      <td>0.0</td>\n      <td>133919.0</td>\n      <td>0.0</td>\n      <td>0.0</td>\n      <td>0.0</td>\n      <td>19.0</td>\n      <td>2.963440e+05</td>\n      <td>0.000000</td>\n    </tr>\n    <tr>\n      <th>...</th>\n      <td>...</td>\n      <td>...</td>\n      <td>...</td>\n      <td>...</td>\n      <td>...</td>\n      <td>...</td>\n      <td>...</td>\n      <td>...</td>\n      <td>...</td>\n      <td>...</td>\n      <td>...</td>\n      <td>...</td>\n      <td>...</td>\n      <td>...</td>\n      <td>...</td>\n      <td>...</td>\n      <td>...</td>\n      <td>...</td>\n      <td>...</td>\n      <td>...</td>\n      <td>...</td>\n    </tr>\n    <tr>\n      <th>23901</th>\n      <td>3</td>\n      <td>4332.523077</td>\n      <td>1223.939446</td>\n      <td>0.0</td>\n      <td>988.503826</td>\n      <td>1.160714</td>\n      <td>2.513043</td>\n      <td>0.0</td>\n      <td>6.668367</td>\n      <td>1.078873e+06</td>\n      <td>...</td>\n      <td>281614.0</td>\n      <td>707437.0</td>\n      <td>0.0</td>\n      <td>2583949.0</td>\n      <td>65.0</td>\n      <td>578.0</td>\n      <td>0.0</td>\n      <td>2614.0</td>\n      <td>1.532000e+08</td>\n      <td>0.390110</td>\n    </tr>\n    <tr>\n      <th>23902</th>\n      <td>3</td>\n      <td>0.000000</td>\n      <td>0.000000</td>\n      <td>0.0</td>\n      <td>0.000000</td>\n      <td>0.000000</td>\n      <td>0.000000</td>\n      <td>0.0</td>\n      <td>0.000000</td>\n      <td>2.307641e+06</td>\n      <td>...</td>\n      <td>0.0</td>\n      <td>0.0</td>\n      <td>0.0</td>\n      <td>0.0</td>\n      <td>0.0</td>\n      <td>0.0</td>\n      <td>0.0</td>\n      <td>0.0</td>\n      <td>4.615283e+07</td>\n      <td>0.054945</td>\n    </tr>\n    <tr>\n      <th>23903</th>\n      <td>6</td>\n      <td>0.000000</td>\n      <td>0.000000</td>\n      <td>0.0</td>\n      <td>0.000000</td>\n      <td>0.000000</td>\n      <td>0.000000</td>\n      <td>0.0</td>\n      <td>0.000000</td>\n      <td>2.222531e+06</td>\n      <td>...</td>\n      <td>0.0</td>\n      <td>0.0</td>\n      <td>0.0</td>\n      <td>0.0</td>\n      <td>0.0</td>\n      <td>0.0</td>\n      <td>0.0</td>\n      <td>0.0</td>\n      <td>1.555772e+08</td>\n      <td>0.192308</td>\n    </tr>\n    <tr>\n      <th>23904</th>\n      <td>6</td>\n      <td>0.000000</td>\n      <td>0.000000</td>\n      <td>0.0</td>\n      <td>0.000000</td>\n      <td>0.000000</td>\n      <td>0.000000</td>\n      <td>0.0</td>\n      <td>0.000000</td>\n      <td>3.175717e+05</td>\n      <td>...</td>\n      <td>0.0</td>\n      <td>0.0</td>\n      <td>0.0</td>\n      <td>0.0</td>\n      <td>0.0</td>\n      <td>0.0</td>\n      <td>0.0</td>\n      <td>0.0</td>\n      <td>1.365559e+08</td>\n      <td>1.181319</td>\n    </tr>\n    <tr>\n      <th>23905</th>\n      <td>2</td>\n      <td>0.000000</td>\n      <td>0.000000</td>\n      <td>0.0</td>\n      <td>0.000000</td>\n      <td>0.000000</td>\n      <td>0.000000</td>\n      <td>0.0</td>\n      <td>0.000000</td>\n      <td>2.630657e+05</td>\n      <td>...</td>\n      <td>0.0</td>\n      <td>0.0</td>\n      <td>0.0</td>\n      <td>0.0</td>\n      <td>0.0</td>\n      <td>0.0</td>\n      <td>0.0</td>\n      <td>0.0</td>\n      <td>5.918977e+07</td>\n      <td>0.618132</td>\n    </tr>\n  </tbody>\n</table>\n<p>23906 rows × 47 columns</p>\n</div>"
     },
     "execution_count": 6,
     "metadata": {},
     "output_type": "execute_result"
    }
   ],
   "source": [
    "# Training\n",
    "train_x = train.loc[:, train.columns != 'sar_flag']\n",
    "train_y = train.loc[:, train.columns == 'sar_flag']\n",
    "train_x"
   ],
   "metadata": {
    "collapsed": false
   }
  },
  {
   "cell_type": "code",
   "execution_count": 7,
   "outputs": [
    {
     "name": "stdout",
     "output_type": "stream",
     "text": [
      "length of oversampled data is  33116\n",
      "Number of non-sar in oversampled data 16558\n",
      "Number of sar 16558\n",
      "Proportion of no subscription data in oversampled data is  0.5\n",
      "Proportion of subscription data in oversampled data is  0.5\n"
     ]
    }
   ],
   "source": [
    "sm_x, sm_y = SMOTE_oversampling(train_x, train_y)"
   ],
   "metadata": {
    "collapsed": false
   }
  },
  {
   "cell_type": "code",
   "execution_count": 8,
   "outputs": [
    {
     "name": "stdout",
     "output_type": "stream",
     "text": [
      "Index(['AGE', 'avg_amt_nontw_nonntd', 'avg_amt_nontw_ntd', 'avg_amt_tw_nonntd',\n",
      "       'avg_amt_tw_ntd', 'avg_freq_nontw_nonntd', 'avg_freq_nontw_ntd',\n",
      "       'avg_freq_tw_nonntd', 'avg_freq_tw_ntd', 'avg_tx', 'count_tx',\n",
      "       'cucah_quarter1_mean', 'cucah_quarter1_std', 'cucah_quarter1_sum',\n",
      "       'cucah_quarter2_mean', 'cucah_quarter2_std', 'cucah_quarter2_sum',\n",
      "       'cucah_quarter3_mean', 'cucah_quarter3_std', 'cucah_quarter3_sum',\n",
      "       'cucah_quarter4_mean', 'cucah_quarter4_std', 'cucah_quarter4_sum',\n",
      "       'cucah_total_mean', 'cucah_total_std', 'cucah_total_sum', 'date',\n",
      "       'risk_rank', 'sd_amt_nontw_nonntd', 'sd_amt_nontw_ntd',\n",
      "       'sd_amt_tw_nonntd', 'sd_amt_tw_ntd', 'sd_freq_nontw_nonntd',\n",
      "       'sd_freq_nontw_ntd', 'sd_freq_tw_nonntd', 'sd_freq_tw_ntd', 'std_tx',\n",
      "       'total_amt_nontw_nonntd', 'total_amt_nontw_ntd', 'total_amt_tw_nonntd',\n",
      "       'total_amt_tw_ntd', 'total_freq_nontw_nonntd', 'total_freq_nontw_ntd',\n",
      "       'total_freq_tw_nonntd', 'total_freq_tw_ntd', 'total_tx', 'tx_per_day'],\n",
      "      dtype='object')\n",
      "[False  True  True False  True False False False False  True False  True\n",
      "  True  True  True False  True  True False  True  True False  True  True\n",
      "  True  True  True False  True  True False  True False False False False\n",
      " False False  True False False  True False False  True False False]\n",
      "[2 1 1 2 1 2 2 2 2 1 2 1 1 1 1 2 1 1 2 1 1 2 1 1 1 1 1 2 1 1 2 1 2 2 2 2 2\n",
      " 2 1 2 2 1 2 2 1 2 2]\n"
     ]
    }
   ],
   "source": [
    "LR = LogisticRegression(max_iter=400, n_jobs=-1)\n",
    "rfe_columns = RFE_analysis(sm_x, sm_y, LR)"
   ],
   "metadata": {
    "collapsed": false
   }
  },
  {
   "cell_type": "code",
   "execution_count": 9,
   "outputs": [
    {
     "data": {
      "text/plain": "       avg_amt_nontw_nonntd  avg_amt_nontw_ntd  avg_amt_tw_ntd         avg_tx  \\\n0                  0.000000           0.000000        0.000000   52585.666667   \n1                  0.000000           0.000000        0.000000  254956.051650   \n2                  0.000000           0.000000        0.000000       0.000000   \n3                  0.000000         120.615385      849.085427  138016.639144   \n4                  0.000000           0.000000        0.000000  331541.172577   \n...                     ...                ...             ...            ...   \n33111              0.000000           0.000000        0.000000   34190.745211   \n33112              0.000000           0.000000    59178.312617   35255.202941   \n33113         485062.939708        1661.814989     1710.098824    1192.102536   \n33114           1264.069639        1533.364449      717.058634   42382.335636   \n33115              0.000000         208.750556     2013.580806    3321.512699   \n\n       cucah_quarter1_mean  cucah_quarter1_std  cucah_quarter1_sum  \\\n0                      0.0                 0.0                 0.0   \n1                      0.0                 0.0                 0.0   \n2                      0.0                 0.0                 0.0   \n3                      0.0                 0.0                 0.0   \n4                      0.0                 0.0                 0.0   \n...                    ...                 ...                 ...   \n33111                  0.0                 0.0                 0.0   \n33112                  0.0                 0.0                 0.0   \n33113                  0.0                 0.0                 0.0   \n33114                  0.0                 0.0                 0.0   \n33115                  0.0                 0.0                 0.0   \n\n       cucah_quarter2_mean  cucah_quarter2_sum  cucah_quarter3_mean  ...  \\\n0                      0.0                 0.0                  0.0  ...   \n1                      0.0                 0.0                  0.0  ...   \n2                      0.0                 0.0                  0.0  ...   \n3                      0.0                 0.0                  0.0  ...   \n4                      0.0                 0.0                  0.0  ...   \n...                    ...                 ...                  ...  ...   \n33111                  0.0                 0.0                  0.0  ...   \n33112                  0.0                 0.0                  0.0  ...   \n33113                  0.0                 0.0                  0.0  ...   \n33114                  0.0                 0.0                  0.0  ...   \n33115                  0.0                 0.0                  0.0  ...   \n\n       cucah_total_mean  cucah_total_std  cucah_total_sum  date  \\\n0                   0.0              0.0              0.0   194   \n1                   0.0              0.0              0.0   116   \n2                   0.0              0.0              0.0    11   \n3                   0.0              0.0              0.0   354   \n4                   0.0              0.0              0.0   138   \n...                 ...              ...              ...   ...   \n33111               0.0              0.0              0.0   318   \n33112               0.0              0.0              0.0    73   \n33113               0.0              0.0              0.0    53   \n33114               0.0              0.0              0.0   162   \n33115               0.0              0.0              0.0   199   \n\n       sd_amt_nontw_nonntd  sd_amt_nontw_ntd  sd_amt_tw_ntd  \\\n0                 0.000000          0.000000       0.000000   \n1                 0.000000          0.000000       0.000000   \n2                 0.000000          0.000000       0.000000   \n3                 0.000000        251.813270    2238.120596   \n4                 0.000000          0.000000       0.000000   \n...                    ...               ...            ...   \n33111             0.000000          0.000000       0.000000   \n33112             0.000000          0.000000   44380.687434   \n33113        316457.159146       2998.266829    3747.259506   \n33114          2074.989116       2870.437562     375.260767   \n33115             0.000000        210.914703    2023.677311   \n\n       total_amt_nontw_ntd  total_freq_nontw_nonntd  total_freq_tw_ntd  \n0                 0.000000                 0.000000           0.000000  \n1                 0.000000                 0.000000           0.000000  \n2                 0.000000                 0.000000           0.000000  \n3              1568.000000                 0.000000         398.000000  \n4                 0.000000                 0.000000           0.000000  \n...                    ...                      ...                ...  \n33111             0.000000                 0.000000           0.000000  \n33112             0.000000                 0.000000         314.527356  \n33113        289155.808156                 1.514423         404.528880  \n33114        709947.739873                12.352338          31.292589  \n33115         11481.280603                 0.000000         135.803268  \n\n[33116 rows x 23 columns]",
      "text/html": "<div>\n<style scoped>\n    .dataframe tbody tr th:only-of-type {\n        vertical-align: middle;\n    }\n\n    .dataframe tbody tr th {\n        vertical-align: top;\n    }\n\n    .dataframe thead th {\n        text-align: right;\n    }\n</style>\n<table border=\"1\" class=\"dataframe\">\n  <thead>\n    <tr style=\"text-align: right;\">\n      <th></th>\n      <th>avg_amt_nontw_nonntd</th>\n      <th>avg_amt_nontw_ntd</th>\n      <th>avg_amt_tw_ntd</th>\n      <th>avg_tx</th>\n      <th>cucah_quarter1_mean</th>\n      <th>cucah_quarter1_std</th>\n      <th>cucah_quarter1_sum</th>\n      <th>cucah_quarter2_mean</th>\n      <th>cucah_quarter2_sum</th>\n      <th>cucah_quarter3_mean</th>\n      <th>...</th>\n      <th>cucah_total_mean</th>\n      <th>cucah_total_std</th>\n      <th>cucah_total_sum</th>\n      <th>date</th>\n      <th>sd_amt_nontw_nonntd</th>\n      <th>sd_amt_nontw_ntd</th>\n      <th>sd_amt_tw_ntd</th>\n      <th>total_amt_nontw_ntd</th>\n      <th>total_freq_nontw_nonntd</th>\n      <th>total_freq_tw_ntd</th>\n    </tr>\n  </thead>\n  <tbody>\n    <tr>\n      <th>0</th>\n      <td>0.000000</td>\n      <td>0.000000</td>\n      <td>0.000000</td>\n      <td>52585.666667</td>\n      <td>0.0</td>\n      <td>0.0</td>\n      <td>0.0</td>\n      <td>0.0</td>\n      <td>0.0</td>\n      <td>0.0</td>\n      <td>...</td>\n      <td>0.0</td>\n      <td>0.0</td>\n      <td>0.0</td>\n      <td>194</td>\n      <td>0.000000</td>\n      <td>0.000000</td>\n      <td>0.000000</td>\n      <td>0.000000</td>\n      <td>0.000000</td>\n      <td>0.000000</td>\n    </tr>\n    <tr>\n      <th>1</th>\n      <td>0.000000</td>\n      <td>0.000000</td>\n      <td>0.000000</td>\n      <td>254956.051650</td>\n      <td>0.0</td>\n      <td>0.0</td>\n      <td>0.0</td>\n      <td>0.0</td>\n      <td>0.0</td>\n      <td>0.0</td>\n      <td>...</td>\n      <td>0.0</td>\n      <td>0.0</td>\n      <td>0.0</td>\n      <td>116</td>\n      <td>0.000000</td>\n      <td>0.000000</td>\n      <td>0.000000</td>\n      <td>0.000000</td>\n      <td>0.000000</td>\n      <td>0.000000</td>\n    </tr>\n    <tr>\n      <th>2</th>\n      <td>0.000000</td>\n      <td>0.000000</td>\n      <td>0.000000</td>\n      <td>0.000000</td>\n      <td>0.0</td>\n      <td>0.0</td>\n      <td>0.0</td>\n      <td>0.0</td>\n      <td>0.0</td>\n      <td>0.0</td>\n      <td>...</td>\n      <td>0.0</td>\n      <td>0.0</td>\n      <td>0.0</td>\n      <td>11</td>\n      <td>0.000000</td>\n      <td>0.000000</td>\n      <td>0.000000</td>\n      <td>0.000000</td>\n      <td>0.000000</td>\n      <td>0.000000</td>\n    </tr>\n    <tr>\n      <th>3</th>\n      <td>0.000000</td>\n      <td>120.615385</td>\n      <td>849.085427</td>\n      <td>138016.639144</td>\n      <td>0.0</td>\n      <td>0.0</td>\n      <td>0.0</td>\n      <td>0.0</td>\n      <td>0.0</td>\n      <td>0.0</td>\n      <td>...</td>\n      <td>0.0</td>\n      <td>0.0</td>\n      <td>0.0</td>\n      <td>354</td>\n      <td>0.000000</td>\n      <td>251.813270</td>\n      <td>2238.120596</td>\n      <td>1568.000000</td>\n      <td>0.000000</td>\n      <td>398.000000</td>\n    </tr>\n    <tr>\n      <th>4</th>\n      <td>0.000000</td>\n      <td>0.000000</td>\n      <td>0.000000</td>\n      <td>331541.172577</td>\n      <td>0.0</td>\n      <td>0.0</td>\n      <td>0.0</td>\n      <td>0.0</td>\n      <td>0.0</td>\n      <td>0.0</td>\n      <td>...</td>\n      <td>0.0</td>\n      <td>0.0</td>\n      <td>0.0</td>\n      <td>138</td>\n      <td>0.000000</td>\n      <td>0.000000</td>\n      <td>0.000000</td>\n      <td>0.000000</td>\n      <td>0.000000</td>\n      <td>0.000000</td>\n    </tr>\n    <tr>\n      <th>...</th>\n      <td>...</td>\n      <td>...</td>\n      <td>...</td>\n      <td>...</td>\n      <td>...</td>\n      <td>...</td>\n      <td>...</td>\n      <td>...</td>\n      <td>...</td>\n      <td>...</td>\n      <td>...</td>\n      <td>...</td>\n      <td>...</td>\n      <td>...</td>\n      <td>...</td>\n      <td>...</td>\n      <td>...</td>\n      <td>...</td>\n      <td>...</td>\n      <td>...</td>\n      <td>...</td>\n    </tr>\n    <tr>\n      <th>33111</th>\n      <td>0.000000</td>\n      <td>0.000000</td>\n      <td>0.000000</td>\n      <td>34190.745211</td>\n      <td>0.0</td>\n      <td>0.0</td>\n      <td>0.0</td>\n      <td>0.0</td>\n      <td>0.0</td>\n      <td>0.0</td>\n      <td>...</td>\n      <td>0.0</td>\n      <td>0.0</td>\n      <td>0.0</td>\n      <td>318</td>\n      <td>0.000000</td>\n      <td>0.000000</td>\n      <td>0.000000</td>\n      <td>0.000000</td>\n      <td>0.000000</td>\n      <td>0.000000</td>\n    </tr>\n    <tr>\n      <th>33112</th>\n      <td>0.000000</td>\n      <td>0.000000</td>\n      <td>59178.312617</td>\n      <td>35255.202941</td>\n      <td>0.0</td>\n      <td>0.0</td>\n      <td>0.0</td>\n      <td>0.0</td>\n      <td>0.0</td>\n      <td>0.0</td>\n      <td>...</td>\n      <td>0.0</td>\n      <td>0.0</td>\n      <td>0.0</td>\n      <td>73</td>\n      <td>0.000000</td>\n      <td>0.000000</td>\n      <td>44380.687434</td>\n      <td>0.000000</td>\n      <td>0.000000</td>\n      <td>314.527356</td>\n    </tr>\n    <tr>\n      <th>33113</th>\n      <td>485062.939708</td>\n      <td>1661.814989</td>\n      <td>1710.098824</td>\n      <td>1192.102536</td>\n      <td>0.0</td>\n      <td>0.0</td>\n      <td>0.0</td>\n      <td>0.0</td>\n      <td>0.0</td>\n      <td>0.0</td>\n      <td>...</td>\n      <td>0.0</td>\n      <td>0.0</td>\n      <td>0.0</td>\n      <td>53</td>\n      <td>316457.159146</td>\n      <td>2998.266829</td>\n      <td>3747.259506</td>\n      <td>289155.808156</td>\n      <td>1.514423</td>\n      <td>404.528880</td>\n    </tr>\n    <tr>\n      <th>33114</th>\n      <td>1264.069639</td>\n      <td>1533.364449</td>\n      <td>717.058634</td>\n      <td>42382.335636</td>\n      <td>0.0</td>\n      <td>0.0</td>\n      <td>0.0</td>\n      <td>0.0</td>\n      <td>0.0</td>\n      <td>0.0</td>\n      <td>...</td>\n      <td>0.0</td>\n      <td>0.0</td>\n      <td>0.0</td>\n      <td>162</td>\n      <td>2074.989116</td>\n      <td>2870.437562</td>\n      <td>375.260767</td>\n      <td>709947.739873</td>\n      <td>12.352338</td>\n      <td>31.292589</td>\n    </tr>\n    <tr>\n      <th>33115</th>\n      <td>0.000000</td>\n      <td>208.750556</td>\n      <td>2013.580806</td>\n      <td>3321.512699</td>\n      <td>0.0</td>\n      <td>0.0</td>\n      <td>0.0</td>\n      <td>0.0</td>\n      <td>0.0</td>\n      <td>0.0</td>\n      <td>...</td>\n      <td>0.0</td>\n      <td>0.0</td>\n      <td>0.0</td>\n      <td>199</td>\n      <td>0.000000</td>\n      <td>210.914703</td>\n      <td>2023.677311</td>\n      <td>11481.280603</td>\n      <td>0.000000</td>\n      <td>135.803268</td>\n    </tr>\n  </tbody>\n</table>\n<p>33116 rows × 23 columns</p>\n</div>"
     },
     "execution_count": 9,
     "metadata": {},
     "output_type": "execute_result"
    }
   ],
   "source": [
    "sm_x = sm_x[sm_x.columns[rfe_columns]]\n",
    "sm_x"
   ],
   "metadata": {
    "collapsed": false
   }
  },
  {
   "cell_type": "code",
   "execution_count": 10,
   "outputs": [],
   "source": [
    "# LR_analysis(sm_x, sm_y)"
   ],
   "metadata": {
    "collapsed": false
   }
  },
  {
   "cell_type": "code",
   "execution_count": 11,
   "outputs": [
    {
     "name": "stderr",
     "output_type": "stream",
     "text": [
      "C:\\Software\\Anaconda3\\lib\\site-packages\\sklearn\\utils\\validation.py:1111: DataConversionWarning: A column-vector y was passed when a 1d array was expected. Please change the shape of y to (n_samples, ), for example using ravel().\n",
      "  y = column_or_1d(y, warn=True)\n"
     ]
    },
    {
     "name": "stdout",
     "output_type": "stream",
     "text": [
      "0.597696984337883  0.5923420702983452\n",
      "[[3115  974]\n",
      " [2401 1789]]\n"
     ]
    }
   ],
   "source": [
    "LR = LR_training(sm_x, sm_y, LR)"
   ],
   "metadata": {
    "collapsed": false
   }
  },
  {
   "cell_type": "code",
   "execution_count": 13,
   "outputs": [
    {
     "name": "stdout",
     "output_type": "stream",
     "text": [
      "0.7551660670961265\n",
      "[[17958  5714]\n",
      " [  139    95]]\n"
     ]
    }
   ],
   "source": [
    "# Training Evaluation\n",
    "train_x_rfe = train_x[train_x.columns[rfe_columns]]\n",
    "LR_test(train_x_rfe, train_y, LR)\n",
    "\n",
    "# LR_test(train_x, train_y, LR)"
   ],
   "metadata": {
    "collapsed": false
   }
  },
  {
   "cell_type": "code",
   "execution_count": 14,
   "outputs": [
    {
     "data": {
      "text/plain": "      AGE  avg_amt_nontw_nonntd  avg_amt_nontw_ntd  avg_amt_tw_nonntd  \\\n0     3.0                   0.0           0.000000                0.0   \n1     0.0                   0.0           0.000000                0.0   \n2     0.0                   0.0           0.000000                0.0   \n3     5.0                   0.0           0.000000                0.0   \n4     3.0                   0.0         154.000000                0.0   \n...   ...                   ...                ...                ...   \n3845  2.0                1115.5         361.000000                0.0   \n3846  2.0                   0.0         292.657895                0.0   \n3847  0.0                   0.0           0.000000                0.0   \n3848  3.0                   0.0           0.000000                0.0   \n3849  0.0                   0.0           0.000000                0.0   \n\n      avg_amt_tw_ntd  avg_freq_nontw_nonntd  avg_freq_nontw_ntd  \\\n0       78507.452830                    0.0            0.000000   \n1           0.000000                    0.0            0.000000   \n2           0.000000                    0.0            0.000000   \n3        1732.125000                    0.0            0.000000   \n4         304.458937                    0.0            1.000000   \n...              ...                    ...                 ...   \n3845      915.968647                    2.0            1.030303   \n3846     1317.712871                    0.0            1.027027   \n3847        0.000000                    0.0            0.000000   \n3848        0.000000                    0.0            0.000000   \n3849        0.000000                    0.0            0.000000   \n\n      avg_freq_tw_nonntd  avg_freq_tw_ntd        avg_tx  ...  \\\n0                    0.0         1.127660  3.715794e+04  ...   \n1                    0.0         0.000000  0.000000e+00  ...   \n2                    0.0         0.000000  0.000000e+00  ...   \n3                    0.0         1.000000  3.953497e+05  ...   \n4                    0.0         1.739496  1.391112e+06  ...   \n...                  ...              ...           ...  ...   \n3845                 0.0         2.033557  2.116042e+04  ...   \n3846                 0.0         1.364865  1.021493e+06  ...   \n3847                 0.0         0.000000  0.000000e+00  ...   \n3848                 0.0         0.000000  2.265351e+06  ...   \n3849                 0.0         0.000000  0.000000e+00  ...   \n\n      total_amt_nontw_nonntd  total_amt_nontw_ntd  total_amt_tw_nonntd  \\\n0                        0.0                  0.0                  0.0   \n1                        0.0                  0.0                  0.0   \n2                        0.0                  0.0                  0.0   \n3                        0.0                  0.0                  0.0   \n4                        0.0                308.0                  0.0   \n...                      ...                  ...                  ...   \n3845                  2231.0              12274.0                  0.0   \n3846                     0.0              11121.0                  0.0   \n3847                     0.0                  0.0                  0.0   \n3848                     0.0                  0.0                  0.0   \n3849                     0.0                  0.0                  0.0   \n\n      total_amt_tw_ntd  total_freq_nontw_nonntd  total_freq_nontw_ntd  \\\n0            4160895.0                      0.0                   0.0   \n1                  0.0                      0.0                   0.0   \n2                  0.0                      0.0                   0.0   \n3              13857.0                      0.0                   0.0   \n4              63023.0                      0.0                   2.0   \n...                ...                      ...                   ...   \n3845          555077.0                      2.0                  34.0   \n3846          133089.0                      0.0                  38.0   \n3847               0.0                      0.0                   0.0   \n3848               0.0                      0.0                   0.0   \n3849               0.0                      0.0                   0.0   \n\n      total_freq_tw_nonntd  total_freq_tw_ntd      total_tx  tx_per_day  \n0                      0.0               53.0  1.040422e+07    0.756757  \n1                      0.0                0.0  0.000000e+00    0.000000  \n2                      0.0                0.0  0.000000e+00    0.000000  \n3                      0.0                8.0  1.407445e+08    0.962162  \n4                      0.0              207.0  3.380401e+08    0.653226  \n...                    ...                ...           ...         ...  \n3845                   0.0              606.0  7.173381e+06    0.862595  \n3846                   0.0              101.0  5.413915e+08    1.352041  \n3847                   0.0                0.0  0.000000e+00    0.000000  \n3848                   0.0                0.0  6.999934e+08    0.808901  \n3849                   0.0                0.0  0.000000e+00    0.000000  \n\n[3850 rows x 47 columns]",
      "text/html": "<div>\n<style scoped>\n    .dataframe tbody tr th:only-of-type {\n        vertical-align: middle;\n    }\n\n    .dataframe tbody tr th {\n        vertical-align: top;\n    }\n\n    .dataframe thead th {\n        text-align: right;\n    }\n</style>\n<table border=\"1\" class=\"dataframe\">\n  <thead>\n    <tr style=\"text-align: right;\">\n      <th></th>\n      <th>AGE</th>\n      <th>avg_amt_nontw_nonntd</th>\n      <th>avg_amt_nontw_ntd</th>\n      <th>avg_amt_tw_nonntd</th>\n      <th>avg_amt_tw_ntd</th>\n      <th>avg_freq_nontw_nonntd</th>\n      <th>avg_freq_nontw_ntd</th>\n      <th>avg_freq_tw_nonntd</th>\n      <th>avg_freq_tw_ntd</th>\n      <th>avg_tx</th>\n      <th>...</th>\n      <th>total_amt_nontw_nonntd</th>\n      <th>total_amt_nontw_ntd</th>\n      <th>total_amt_tw_nonntd</th>\n      <th>total_amt_tw_ntd</th>\n      <th>total_freq_nontw_nonntd</th>\n      <th>total_freq_nontw_ntd</th>\n      <th>total_freq_tw_nonntd</th>\n      <th>total_freq_tw_ntd</th>\n      <th>total_tx</th>\n      <th>tx_per_day</th>\n    </tr>\n  </thead>\n  <tbody>\n    <tr>\n      <th>0</th>\n      <td>3.0</td>\n      <td>0.0</td>\n      <td>0.000000</td>\n      <td>0.0</td>\n      <td>78507.452830</td>\n      <td>0.0</td>\n      <td>0.000000</td>\n      <td>0.0</td>\n      <td>1.127660</td>\n      <td>3.715794e+04</td>\n      <td>...</td>\n      <td>0.0</td>\n      <td>0.0</td>\n      <td>0.0</td>\n      <td>4160895.0</td>\n      <td>0.0</td>\n      <td>0.0</td>\n      <td>0.0</td>\n      <td>53.0</td>\n      <td>1.040422e+07</td>\n      <td>0.756757</td>\n    </tr>\n    <tr>\n      <th>1</th>\n      <td>0.0</td>\n      <td>0.0</td>\n      <td>0.000000</td>\n      <td>0.0</td>\n      <td>0.000000</td>\n      <td>0.0</td>\n      <td>0.000000</td>\n      <td>0.0</td>\n      <td>0.000000</td>\n      <td>0.000000e+00</td>\n      <td>...</td>\n      <td>0.0</td>\n      <td>0.0</td>\n      <td>0.0</td>\n      <td>0.0</td>\n      <td>0.0</td>\n      <td>0.0</td>\n      <td>0.0</td>\n      <td>0.0</td>\n      <td>0.000000e+00</td>\n      <td>0.000000</td>\n    </tr>\n    <tr>\n      <th>2</th>\n      <td>0.0</td>\n      <td>0.0</td>\n      <td>0.000000</td>\n      <td>0.0</td>\n      <td>0.000000</td>\n      <td>0.0</td>\n      <td>0.000000</td>\n      <td>0.0</td>\n      <td>0.000000</td>\n      <td>0.000000e+00</td>\n      <td>...</td>\n      <td>0.0</td>\n      <td>0.0</td>\n      <td>0.0</td>\n      <td>0.0</td>\n      <td>0.0</td>\n      <td>0.0</td>\n      <td>0.0</td>\n      <td>0.0</td>\n      <td>0.000000e+00</td>\n      <td>0.000000</td>\n    </tr>\n    <tr>\n      <th>3</th>\n      <td>5.0</td>\n      <td>0.0</td>\n      <td>0.000000</td>\n      <td>0.0</td>\n      <td>1732.125000</td>\n      <td>0.0</td>\n      <td>0.000000</td>\n      <td>0.0</td>\n      <td>1.000000</td>\n      <td>3.953497e+05</td>\n      <td>...</td>\n      <td>0.0</td>\n      <td>0.0</td>\n      <td>0.0</td>\n      <td>13857.0</td>\n      <td>0.0</td>\n      <td>0.0</td>\n      <td>0.0</td>\n      <td>8.0</td>\n      <td>1.407445e+08</td>\n      <td>0.962162</td>\n    </tr>\n    <tr>\n      <th>4</th>\n      <td>3.0</td>\n      <td>0.0</td>\n      <td>154.000000</td>\n      <td>0.0</td>\n      <td>304.458937</td>\n      <td>0.0</td>\n      <td>1.000000</td>\n      <td>0.0</td>\n      <td>1.739496</td>\n      <td>1.391112e+06</td>\n      <td>...</td>\n      <td>0.0</td>\n      <td>308.0</td>\n      <td>0.0</td>\n      <td>63023.0</td>\n      <td>0.0</td>\n      <td>2.0</td>\n      <td>0.0</td>\n      <td>207.0</td>\n      <td>3.380401e+08</td>\n      <td>0.653226</td>\n    </tr>\n    <tr>\n      <th>...</th>\n      <td>...</td>\n      <td>...</td>\n      <td>...</td>\n      <td>...</td>\n      <td>...</td>\n      <td>...</td>\n      <td>...</td>\n      <td>...</td>\n      <td>...</td>\n      <td>...</td>\n      <td>...</td>\n      <td>...</td>\n      <td>...</td>\n      <td>...</td>\n      <td>...</td>\n      <td>...</td>\n      <td>...</td>\n      <td>...</td>\n      <td>...</td>\n      <td>...</td>\n      <td>...</td>\n    </tr>\n    <tr>\n      <th>3845</th>\n      <td>2.0</td>\n      <td>1115.5</td>\n      <td>361.000000</td>\n      <td>0.0</td>\n      <td>915.968647</td>\n      <td>2.0</td>\n      <td>1.030303</td>\n      <td>0.0</td>\n      <td>2.033557</td>\n      <td>2.116042e+04</td>\n      <td>...</td>\n      <td>2231.0</td>\n      <td>12274.0</td>\n      <td>0.0</td>\n      <td>555077.0</td>\n      <td>2.0</td>\n      <td>34.0</td>\n      <td>0.0</td>\n      <td>606.0</td>\n      <td>7.173381e+06</td>\n      <td>0.862595</td>\n    </tr>\n    <tr>\n      <th>3846</th>\n      <td>2.0</td>\n      <td>0.0</td>\n      <td>292.657895</td>\n      <td>0.0</td>\n      <td>1317.712871</td>\n      <td>0.0</td>\n      <td>1.027027</td>\n      <td>0.0</td>\n      <td>1.364865</td>\n      <td>1.021493e+06</td>\n      <td>...</td>\n      <td>0.0</td>\n      <td>11121.0</td>\n      <td>0.0</td>\n      <td>133089.0</td>\n      <td>0.0</td>\n      <td>38.0</td>\n      <td>0.0</td>\n      <td>101.0</td>\n      <td>5.413915e+08</td>\n      <td>1.352041</td>\n    </tr>\n    <tr>\n      <th>3847</th>\n      <td>0.0</td>\n      <td>0.0</td>\n      <td>0.000000</td>\n      <td>0.0</td>\n      <td>0.000000</td>\n      <td>0.0</td>\n      <td>0.000000</td>\n      <td>0.0</td>\n      <td>0.000000</td>\n      <td>0.000000e+00</td>\n      <td>...</td>\n      <td>0.0</td>\n      <td>0.0</td>\n      <td>0.0</td>\n      <td>0.0</td>\n      <td>0.0</td>\n      <td>0.0</td>\n      <td>0.0</td>\n      <td>0.0</td>\n      <td>0.000000e+00</td>\n      <td>0.000000</td>\n    </tr>\n    <tr>\n      <th>3848</th>\n      <td>3.0</td>\n      <td>0.0</td>\n      <td>0.000000</td>\n      <td>0.0</td>\n      <td>0.000000</td>\n      <td>0.0</td>\n      <td>0.000000</td>\n      <td>0.0</td>\n      <td>0.000000</td>\n      <td>2.265351e+06</td>\n      <td>...</td>\n      <td>0.0</td>\n      <td>0.0</td>\n      <td>0.0</td>\n      <td>0.0</td>\n      <td>0.0</td>\n      <td>0.0</td>\n      <td>0.0</td>\n      <td>0.0</td>\n      <td>6.999934e+08</td>\n      <td>0.808901</td>\n    </tr>\n    <tr>\n      <th>3849</th>\n      <td>0.0</td>\n      <td>0.0</td>\n      <td>0.000000</td>\n      <td>0.0</td>\n      <td>0.000000</td>\n      <td>0.0</td>\n      <td>0.000000</td>\n      <td>0.0</td>\n      <td>0.000000</td>\n      <td>0.000000e+00</td>\n      <td>...</td>\n      <td>0.0</td>\n      <td>0.0</td>\n      <td>0.0</td>\n      <td>0.0</td>\n      <td>0.0</td>\n      <td>0.0</td>\n      <td>0.0</td>\n      <td>0.0</td>\n      <td>0.000000e+00</td>\n      <td>0.000000</td>\n    </tr>\n  </tbody>\n</table>\n<p>3850 rows × 47 columns</p>\n</div>"
     },
     "execution_count": 14,
     "metadata": {},
     "output_type": "execute_result"
    }
   ],
   "source": [
    "# Test\n",
    "xdp_test = pd.read_pickle('submit_format.pkl')\n",
    "\n",
    "test = df_from_csv('submit_format.csv')\n",
    "test = test.drop(['probability'], axis=1)\n",
    "test = test.merge(alert_cust, on='alert_key', how='left')\n",
    "test = test[['alert_key', 'cust_id']]\n",
    "test = test.merge(ccba, on='cust_id', how='left')\n",
    "test = test.merge(cdtx, on='cust_id', how='left')\n",
    "test = test.merge(xdp_test.drop(['occupation_code', 'total_asset'], axis=1), on='alert_key', how='left')\n",
    "test.iloc[:, 2:] = test.iloc[:, 2:].fillna(0)\n",
    "test = test.drop(['cust_id_x', 'cust_id_y', 'alert_key'], axis=1)\n",
    "test = test.reindex(sorted(test.columns), axis=1)\n",
    "test"
   ],
   "metadata": {
    "collapsed": false
   }
  },
  {
   "cell_type": "code",
   "execution_count": 15,
   "outputs": [
    {
     "data": {
      "text/plain": "array([[0.98739898, 0.01260102],\n       [0.49999996, 0.50000004],\n       [0.49999996, 0.50000004],\n       ...,\n       [0.49999996, 0.50000004],\n       [0.45957617, 0.54042383],\n       [0.49999996, 0.50000004]])"
     },
     "execution_count": 15,
     "metadata": {},
     "output_type": "execute_result"
    }
   ],
   "source": [
    "y_prob = LR.predict_proba(test[test.columns[rfe_columns]])\n",
    "# y_prob = LR.predict_proba(test)\n",
    "y_prob"
   ],
   "metadata": {
    "collapsed": false
   }
  },
  {
   "cell_type": "markdown",
   "source": [
    "# DNN"
   ],
   "metadata": {
    "collapsed": false
   }
  },
  {
   "cell_type": "code",
   "execution_count": 16,
   "outputs": [
    {
     "name": "stdout",
     "output_type": "stream",
     "text": [
      "Model: \"DNN_1\"\n",
      "_________________________________________________________________\n",
      " Layer (type)                Output Shape              Param #   \n",
      "=================================================================\n",
      " input (InputLayer)          [(None, 23)]              0         \n",
      "                                                                 \n",
      " h1 (Dense)                  (None, 12)                288       \n",
      "                                                                 \n",
      " drop1 (Dropout)             (None, 12)                0         \n",
      "                                                                 \n",
      " h2 (Dense)                  (None, 6)                 78        \n",
      "                                                                 \n",
      " drop2 (Dropout)             (None, 6)                 0         \n",
      "                                                                 \n",
      " output (Dense)              (None, 1)                 7         \n",
      "                                                                 \n",
      "=================================================================\n",
      "Total params: 373\n",
      "Trainable params: 373\n",
      "Non-trainable params: 0\n",
      "_________________________________________________________________\n"
     ]
    }
   ],
   "source": [
    "# DNN\n",
    "# https://towardsdatascience.com/deep-learning-with-python-neural-networks-complete-tutorial-6b53c0b06af0\n",
    "# https://towardsdatascience.com/deep-neural-networks-for-regression-problems-81321897ca33\n",
    "\n",
    "from keras import models, layers, utils, backend as K\n",
    "from keras.callbacks import ModelCheckpoint\n",
    "import tensorflow as tf\n",
    "\n",
    "input_x = sm_x\n",
    "input_y = sm_y\n",
    "n_features = len(input_x.columns)\n",
    "epoch = 50\n",
    "\n",
    "inputs = layers.Input(name='input', shape=(n_features,))\n",
    "\n",
    "h1 = layers.Dense(name='h1', units=int(round((n_features+1)/2)), activation='relu')(inputs)\n",
    "h1 = layers.Dropout(name='drop1', rate=0.2)(h1)\n",
    "\n",
    "h2 = layers.Dense(name='h2', units=int(round((n_features+1)/4)), activation='relu')(h1)\n",
    "h2 = layers.Dropout(name='drop2', rate=0.2)(h2)\n",
    "\n",
    "outputs = layers.Dense(name='output', units=1, activation='sigmoid')(h2)\n",
    "\n",
    "DNN_1 = models.Model(inputs=inputs, outputs=outputs, name='DNN_1')\n",
    "DNN_1.compile(loss='mean_absolute_error', optimizer='adam', metrics=['mean_absolute_error'])\n",
    "DNN_1.summary()"
   ],
   "metadata": {
    "collapsed": false
   }
  },
  {
   "cell_type": "code",
   "execution_count": 17,
   "outputs": [],
   "source": [
    "# Save checkpoint in case learning stopped in the middle\n",
    "# param 'mode' is based on 'monitor' param\n",
    "# classification: monitor accuracy\n",
    "# regression: monitor loss\n",
    "\n",
    "checkpoint_path = \"weights-improvement-{epoch:02d}-{val_loss:.2f}.hdf5\"\n",
    "checkpoint = ModelCheckpoint(checkpoint_path, monitor='val_loss', verbose=1, save_best_only=True, mode='auto')\n",
    "callbacks = [checkpoint]"
   ],
   "metadata": {
    "collapsed": false
   }
  },
  {
   "cell_type": "code",
   "execution_count": 18,
   "outputs": [
    {
     "name": "stdout",
     "output_type": "stream",
     "text": [
      "Epoch 1/50\n",
      "712/725 [============================>.] - ETA: 0s - loss: 0.3003 - mean_absolute_error: 0.3003\n",
      "Epoch 1: val_loss improved from inf to 1.00000, saving model to weights-improvement-01-1.00.hdf5\n",
      "725/725 [==============================] - 1s 1ms/step - loss: 0.3000 - mean_absolute_error: 0.3000 - val_loss: 1.0000 - val_mean_absolute_error: 1.0000\n",
      "Epoch 2/50\n",
      "715/725 [============================>.] - ETA: 0s - loss: 0.2897 - mean_absolute_error: 0.2897\n",
      "Epoch 2: val_loss did not improve from 1.00000\n",
      "725/725 [==============================] - 1s 851us/step - loss: 0.2897 - mean_absolute_error: 0.2897 - val_loss: 1.0000 - val_mean_absolute_error: 1.0000\n",
      "Epoch 3/50\n",
      "654/725 [==========================>...] - ETA: 0s - loss: 0.2898 - mean_absolute_error: 0.2898\n",
      "Epoch 3: val_loss did not improve from 1.00000\n",
      "725/725 [==============================] - 1s 833us/step - loss: 0.2900 - mean_absolute_error: 0.2900 - val_loss: 1.0000 - val_mean_absolute_error: 1.0000\n",
      "Epoch 4/50\n",
      "724/725 [============================>.] - ETA: 0s - loss: 0.2887 - mean_absolute_error: 0.2887\n",
      "Epoch 4: val_loss did not improve from 1.00000\n",
      "725/725 [==============================] - 1s 838us/step - loss: 0.2888 - mean_absolute_error: 0.2888 - val_loss: 1.0000 - val_mean_absolute_error: 1.0000\n",
      "Epoch 5/50\n",
      "724/725 [============================>.] - ETA: 0s - loss: 0.2894 - mean_absolute_error: 0.2894\n",
      "Epoch 5: val_loss did not improve from 1.00000\n",
      "725/725 [==============================] - 1s 838us/step - loss: 0.2894 - mean_absolute_error: 0.2894 - val_loss: 1.0000 - val_mean_absolute_error: 1.0000\n",
      "Epoch 6/50\n",
      "725/725 [==============================] - ETA: 0s - loss: 0.2890 - mean_absolute_error: 0.2890\n",
      "Epoch 6: val_loss did not improve from 1.00000\n",
      "725/725 [==============================] - 1s 862us/step - loss: 0.2890 - mean_absolute_error: 0.2890 - val_loss: 1.0000 - val_mean_absolute_error: 1.0000\n",
      "Epoch 7/50\n",
      "681/725 [===========================>..] - ETA: 0s - loss: 0.2873 - mean_absolute_error: 0.2873\n",
      "Epoch 7: val_loss did not improve from 1.00000\n",
      "725/725 [==============================] - 1s 891us/step - loss: 0.2872 - mean_absolute_error: 0.2872 - val_loss: 1.0000 - val_mean_absolute_error: 1.0000\n",
      "Epoch 8/50\n",
      "684/725 [===========================>..] - ETA: 0s - loss: 0.2880 - mean_absolute_error: 0.2880"
     ]
    },
    {
     "ename": "KeyboardInterrupt",
     "evalue": "",
     "output_type": "error",
     "traceback": [
      "\u001B[1;31m---------------------------------------------------------------------------\u001B[0m",
      "\u001B[1;31mKeyboardInterrupt\u001B[0m                         Traceback (most recent call last)",
      "\u001B[1;32mC:\\Users\\EDWINS~1\\AppData\\Local\\Temp/ipykernel_23804/3863599074.py\u001B[0m in \u001B[0;36m<module>\u001B[1;34m\u001B[0m\n\u001B[1;32m----> 1\u001B[1;33m \u001B[0mDNN_1\u001B[0m\u001B[1;33m.\u001B[0m\u001B[0mfit\u001B[0m\u001B[1;33m(\u001B[0m\u001B[0mx\u001B[0m\u001B[1;33m=\u001B[0m\u001B[0minput_x\u001B[0m\u001B[1;33m,\u001B[0m \u001B[0my\u001B[0m\u001B[1;33m=\u001B[0m\u001B[0minput_y\u001B[0m\u001B[1;33m,\u001B[0m \u001B[0mbatch_size\u001B[0m\u001B[1;33m=\u001B[0m\u001B[1;36m32\u001B[0m\u001B[1;33m,\u001B[0m \u001B[0mepochs\u001B[0m\u001B[1;33m=\u001B[0m\u001B[0mepoch\u001B[0m\u001B[1;33m,\u001B[0m \u001B[0mvalidation_split\u001B[0m\u001B[1;33m=\u001B[0m\u001B[1;36m0.3\u001B[0m\u001B[1;33m,\u001B[0m \u001B[0mcallbacks\u001B[0m\u001B[1;33m=\u001B[0m\u001B[0mcallbacks\u001B[0m\u001B[1;33m)\u001B[0m\u001B[1;33m\u001B[0m\u001B[1;33m\u001B[0m\u001B[0m\n\u001B[0m",
      "\u001B[1;32mC:\\Software\\Anaconda3\\lib\\site-packages\\keras\\utils\\traceback_utils.py\u001B[0m in \u001B[0;36merror_handler\u001B[1;34m(*args, **kwargs)\u001B[0m\n\u001B[0;32m     63\u001B[0m         \u001B[0mfiltered_tb\u001B[0m \u001B[1;33m=\u001B[0m \u001B[1;32mNone\u001B[0m\u001B[1;33m\u001B[0m\u001B[1;33m\u001B[0m\u001B[0m\n\u001B[0;32m     64\u001B[0m         \u001B[1;32mtry\u001B[0m\u001B[1;33m:\u001B[0m\u001B[1;33m\u001B[0m\u001B[1;33m\u001B[0m\u001B[0m\n\u001B[1;32m---> 65\u001B[1;33m             \u001B[1;32mreturn\u001B[0m \u001B[0mfn\u001B[0m\u001B[1;33m(\u001B[0m\u001B[1;33m*\u001B[0m\u001B[0margs\u001B[0m\u001B[1;33m,\u001B[0m \u001B[1;33m**\u001B[0m\u001B[0mkwargs\u001B[0m\u001B[1;33m)\u001B[0m\u001B[1;33m\u001B[0m\u001B[1;33m\u001B[0m\u001B[0m\n\u001B[0m\u001B[0;32m     66\u001B[0m         \u001B[1;32mexcept\u001B[0m \u001B[0mException\u001B[0m \u001B[1;32mas\u001B[0m \u001B[0me\u001B[0m\u001B[1;33m:\u001B[0m\u001B[1;33m\u001B[0m\u001B[1;33m\u001B[0m\u001B[0m\n\u001B[0;32m     67\u001B[0m             \u001B[0mfiltered_tb\u001B[0m \u001B[1;33m=\u001B[0m \u001B[0m_process_traceback_frames\u001B[0m\u001B[1;33m(\u001B[0m\u001B[0me\u001B[0m\u001B[1;33m.\u001B[0m\u001B[0m__traceback__\u001B[0m\u001B[1;33m)\u001B[0m\u001B[1;33m\u001B[0m\u001B[1;33m\u001B[0m\u001B[0m\n",
      "\u001B[1;32mC:\\Software\\Anaconda3\\lib\\site-packages\\keras\\engine\\training.py\u001B[0m in \u001B[0;36mfit\u001B[1;34m(self, x, y, batch_size, epochs, verbose, callbacks, validation_split, validation_data, shuffle, class_weight, sample_weight, initial_epoch, steps_per_epoch, validation_steps, validation_batch_size, validation_freq, max_queue_size, workers, use_multiprocessing)\u001B[0m\n\u001B[0;32m   1604\u001B[0m                             \u001B[0msteps_per_execution\u001B[0m\u001B[1;33m=\u001B[0m\u001B[0mself\u001B[0m\u001B[1;33m.\u001B[0m\u001B[0m_steps_per_execution\u001B[0m\u001B[1;33m,\u001B[0m\u001B[1;33m\u001B[0m\u001B[1;33m\u001B[0m\u001B[0m\n\u001B[0;32m   1605\u001B[0m                         )\n\u001B[1;32m-> 1606\u001B[1;33m                     val_logs = self.evaluate(\n\u001B[0m\u001B[0;32m   1607\u001B[0m                         \u001B[0mx\u001B[0m\u001B[1;33m=\u001B[0m\u001B[0mval_x\u001B[0m\u001B[1;33m,\u001B[0m\u001B[1;33m\u001B[0m\u001B[1;33m\u001B[0m\u001B[0m\n\u001B[0;32m   1608\u001B[0m                         \u001B[0my\u001B[0m\u001B[1;33m=\u001B[0m\u001B[0mval_y\u001B[0m\u001B[1;33m,\u001B[0m\u001B[1;33m\u001B[0m\u001B[1;33m\u001B[0m\u001B[0m\n",
      "\u001B[1;32mC:\\Software\\Anaconda3\\lib\\site-packages\\keras\\utils\\traceback_utils.py\u001B[0m in \u001B[0;36merror_handler\u001B[1;34m(*args, **kwargs)\u001B[0m\n\u001B[0;32m     63\u001B[0m         \u001B[0mfiltered_tb\u001B[0m \u001B[1;33m=\u001B[0m \u001B[1;32mNone\u001B[0m\u001B[1;33m\u001B[0m\u001B[1;33m\u001B[0m\u001B[0m\n\u001B[0;32m     64\u001B[0m         \u001B[1;32mtry\u001B[0m\u001B[1;33m:\u001B[0m\u001B[1;33m\u001B[0m\u001B[1;33m\u001B[0m\u001B[0m\n\u001B[1;32m---> 65\u001B[1;33m             \u001B[1;32mreturn\u001B[0m \u001B[0mfn\u001B[0m\u001B[1;33m(\u001B[0m\u001B[1;33m*\u001B[0m\u001B[0margs\u001B[0m\u001B[1;33m,\u001B[0m \u001B[1;33m**\u001B[0m\u001B[0mkwargs\u001B[0m\u001B[1;33m)\u001B[0m\u001B[1;33m\u001B[0m\u001B[1;33m\u001B[0m\u001B[0m\n\u001B[0m\u001B[0;32m     66\u001B[0m         \u001B[1;32mexcept\u001B[0m \u001B[0mException\u001B[0m \u001B[1;32mas\u001B[0m \u001B[0me\u001B[0m\u001B[1;33m:\u001B[0m\u001B[1;33m\u001B[0m\u001B[1;33m\u001B[0m\u001B[0m\n\u001B[0;32m     67\u001B[0m             \u001B[0mfiltered_tb\u001B[0m \u001B[1;33m=\u001B[0m \u001B[0m_process_traceback_frames\u001B[0m\u001B[1;33m(\u001B[0m\u001B[0me\u001B[0m\u001B[1;33m.\u001B[0m\u001B[0m__traceback__\u001B[0m\u001B[1;33m)\u001B[0m\u001B[1;33m\u001B[0m\u001B[1;33m\u001B[0m\u001B[0m\n",
      "\u001B[1;32mC:\\Software\\Anaconda3\\lib\\site-packages\\keras\\engine\\training.py\u001B[0m in \u001B[0;36mevaluate\u001B[1;34m(self, x, y, batch_size, verbose, sample_weight, steps, callbacks, max_queue_size, workers, use_multiprocessing, return_dict, **kwargs)\u001B[0m\n\u001B[0;32m   1945\u001B[0m                         ):\n\u001B[0;32m   1946\u001B[0m                             \u001B[0mcallbacks\u001B[0m\u001B[1;33m.\u001B[0m\u001B[0mon_test_batch_begin\u001B[0m\u001B[1;33m(\u001B[0m\u001B[0mstep\u001B[0m\u001B[1;33m)\u001B[0m\u001B[1;33m\u001B[0m\u001B[1;33m\u001B[0m\u001B[0m\n\u001B[1;32m-> 1947\u001B[1;33m                             \u001B[0mtmp_logs\u001B[0m \u001B[1;33m=\u001B[0m \u001B[0mself\u001B[0m\u001B[1;33m.\u001B[0m\u001B[0mtest_function\u001B[0m\u001B[1;33m(\u001B[0m\u001B[0miterator\u001B[0m\u001B[1;33m)\u001B[0m\u001B[1;33m\u001B[0m\u001B[1;33m\u001B[0m\u001B[0m\n\u001B[0m\u001B[0;32m   1948\u001B[0m                             \u001B[1;32mif\u001B[0m \u001B[0mdata_handler\u001B[0m\u001B[1;33m.\u001B[0m\u001B[0mshould_sync\u001B[0m\u001B[1;33m:\u001B[0m\u001B[1;33m\u001B[0m\u001B[1;33m\u001B[0m\u001B[0m\n\u001B[0;32m   1949\u001B[0m                                 \u001B[0mcontext\u001B[0m\u001B[1;33m.\u001B[0m\u001B[0masync_wait\u001B[0m\u001B[1;33m(\u001B[0m\u001B[1;33m)\u001B[0m\u001B[1;33m\u001B[0m\u001B[1;33m\u001B[0m\u001B[0m\n",
      "\u001B[1;32mC:\\Software\\Anaconda3\\lib\\site-packages\\tensorflow\\python\\util\\traceback_utils.py\u001B[0m in \u001B[0;36merror_handler\u001B[1;34m(*args, **kwargs)\u001B[0m\n\u001B[0;32m    148\u001B[0m     \u001B[0mfiltered_tb\u001B[0m \u001B[1;33m=\u001B[0m \u001B[1;32mNone\u001B[0m\u001B[1;33m\u001B[0m\u001B[1;33m\u001B[0m\u001B[0m\n\u001B[0;32m    149\u001B[0m     \u001B[1;32mtry\u001B[0m\u001B[1;33m:\u001B[0m\u001B[1;33m\u001B[0m\u001B[1;33m\u001B[0m\u001B[0m\n\u001B[1;32m--> 150\u001B[1;33m       \u001B[1;32mreturn\u001B[0m \u001B[0mfn\u001B[0m\u001B[1;33m(\u001B[0m\u001B[1;33m*\u001B[0m\u001B[0margs\u001B[0m\u001B[1;33m,\u001B[0m \u001B[1;33m**\u001B[0m\u001B[0mkwargs\u001B[0m\u001B[1;33m)\u001B[0m\u001B[1;33m\u001B[0m\u001B[1;33m\u001B[0m\u001B[0m\n\u001B[0m\u001B[0;32m    151\u001B[0m     \u001B[1;32mexcept\u001B[0m \u001B[0mException\u001B[0m \u001B[1;32mas\u001B[0m \u001B[0me\u001B[0m\u001B[1;33m:\u001B[0m\u001B[1;33m\u001B[0m\u001B[1;33m\u001B[0m\u001B[0m\n\u001B[0;32m    152\u001B[0m       \u001B[0mfiltered_tb\u001B[0m \u001B[1;33m=\u001B[0m \u001B[0m_process_traceback_frames\u001B[0m\u001B[1;33m(\u001B[0m\u001B[0me\u001B[0m\u001B[1;33m.\u001B[0m\u001B[0m__traceback__\u001B[0m\u001B[1;33m)\u001B[0m\u001B[1;33m\u001B[0m\u001B[1;33m\u001B[0m\u001B[0m\n",
      "\u001B[1;32mC:\\Software\\Anaconda3\\lib\\site-packages\\tensorflow\\python\\eager\\def_function.py\u001B[0m in \u001B[0;36m__call__\u001B[1;34m(self, *args, **kwds)\u001B[0m\n\u001B[0;32m    913\u001B[0m \u001B[1;33m\u001B[0m\u001B[0m\n\u001B[0;32m    914\u001B[0m       \u001B[1;32mwith\u001B[0m \u001B[0mOptionalXlaContext\u001B[0m\u001B[1;33m(\u001B[0m\u001B[0mself\u001B[0m\u001B[1;33m.\u001B[0m\u001B[0m_jit_compile\u001B[0m\u001B[1;33m)\u001B[0m\u001B[1;33m:\u001B[0m\u001B[1;33m\u001B[0m\u001B[1;33m\u001B[0m\u001B[0m\n\u001B[1;32m--> 915\u001B[1;33m         \u001B[0mresult\u001B[0m \u001B[1;33m=\u001B[0m \u001B[0mself\u001B[0m\u001B[1;33m.\u001B[0m\u001B[0m_call\u001B[0m\u001B[1;33m(\u001B[0m\u001B[1;33m*\u001B[0m\u001B[0margs\u001B[0m\u001B[1;33m,\u001B[0m \u001B[1;33m**\u001B[0m\u001B[0mkwds\u001B[0m\u001B[1;33m)\u001B[0m\u001B[1;33m\u001B[0m\u001B[1;33m\u001B[0m\u001B[0m\n\u001B[0m\u001B[0;32m    916\u001B[0m \u001B[1;33m\u001B[0m\u001B[0m\n\u001B[0;32m    917\u001B[0m       \u001B[0mnew_tracing_count\u001B[0m \u001B[1;33m=\u001B[0m \u001B[0mself\u001B[0m\u001B[1;33m.\u001B[0m\u001B[0mexperimental_get_tracing_count\u001B[0m\u001B[1;33m(\u001B[0m\u001B[1;33m)\u001B[0m\u001B[1;33m\u001B[0m\u001B[1;33m\u001B[0m\u001B[0m\n",
      "\u001B[1;32mC:\\Software\\Anaconda3\\lib\\site-packages\\tensorflow\\python\\eager\\def_function.py\u001B[0m in \u001B[0;36m_call\u001B[1;34m(self, *args, **kwds)\u001B[0m\n\u001B[0;32m    952\u001B[0m       \u001B[1;31m# In this case we have not created variables on the first call. So we can\u001B[0m\u001B[1;33m\u001B[0m\u001B[1;33m\u001B[0m\u001B[0m\n\u001B[0;32m    953\u001B[0m       \u001B[1;31m# run the first trace but we should fail if variables are created.\u001B[0m\u001B[1;33m\u001B[0m\u001B[1;33m\u001B[0m\u001B[0m\n\u001B[1;32m--> 954\u001B[1;33m       \u001B[0mresults\u001B[0m \u001B[1;33m=\u001B[0m \u001B[0mself\u001B[0m\u001B[1;33m.\u001B[0m\u001B[0m_stateful_fn\u001B[0m\u001B[1;33m(\u001B[0m\u001B[1;33m*\u001B[0m\u001B[0margs\u001B[0m\u001B[1;33m,\u001B[0m \u001B[1;33m**\u001B[0m\u001B[0mkwds\u001B[0m\u001B[1;33m)\u001B[0m\u001B[1;33m\u001B[0m\u001B[1;33m\u001B[0m\u001B[0m\n\u001B[0m\u001B[0;32m    955\u001B[0m       \u001B[1;32mif\u001B[0m \u001B[0mself\u001B[0m\u001B[1;33m.\u001B[0m\u001B[0m_created_variables\u001B[0m \u001B[1;32mand\u001B[0m \u001B[1;32mnot\u001B[0m \u001B[0mALLOW_DYNAMIC_VARIABLE_CREATION\u001B[0m\u001B[1;33m:\u001B[0m\u001B[1;33m\u001B[0m\u001B[1;33m\u001B[0m\u001B[0m\n\u001B[0;32m    956\u001B[0m         raise ValueError(\"Creating variables on a non-first call to a function\"\n",
      "\u001B[1;32mC:\\Software\\Anaconda3\\lib\\site-packages\\tensorflow\\python\\eager\\function.py\u001B[0m in \u001B[0;36m__call__\u001B[1;34m(self, *args, **kwargs)\u001B[0m\n\u001B[0;32m   2494\u001B[0m       (graph_function,\n\u001B[0;32m   2495\u001B[0m        filtered_flat_args) = self._maybe_define_function(args, kwargs)\n\u001B[1;32m-> 2496\u001B[1;33m     return graph_function._call_flat(\n\u001B[0m\u001B[0;32m   2497\u001B[0m         filtered_flat_args, captured_inputs=graph_function.captured_inputs)  # pylint: disable=protected-access\n\u001B[0;32m   2498\u001B[0m \u001B[1;33m\u001B[0m\u001B[0m\n",
      "\u001B[1;32mC:\\Software\\Anaconda3\\lib\\site-packages\\tensorflow\\python\\eager\\function.py\u001B[0m in \u001B[0;36m_call_flat\u001B[1;34m(self, args, captured_inputs, cancellation_manager)\u001B[0m\n\u001B[0;32m   1860\u001B[0m         and executing_eagerly):\n\u001B[0;32m   1861\u001B[0m       \u001B[1;31m# No tape is watching; skip to running the function.\u001B[0m\u001B[1;33m\u001B[0m\u001B[1;33m\u001B[0m\u001B[0m\n\u001B[1;32m-> 1862\u001B[1;33m       return self._build_call_outputs(self._inference_function.call(\n\u001B[0m\u001B[0;32m   1863\u001B[0m           ctx, args, cancellation_manager=cancellation_manager))\n\u001B[0;32m   1864\u001B[0m     forward_backward = self._select_forward_and_backward_functions(\n",
      "\u001B[1;32mC:\\Software\\Anaconda3\\lib\\site-packages\\tensorflow\\python\\eager\\function.py\u001B[0m in \u001B[0;36mcall\u001B[1;34m(self, ctx, args, cancellation_manager)\u001B[0m\n\u001B[0;32m    497\u001B[0m       \u001B[1;32mwith\u001B[0m \u001B[0m_InterpolateFunctionError\u001B[0m\u001B[1;33m(\u001B[0m\u001B[0mself\u001B[0m\u001B[1;33m)\u001B[0m\u001B[1;33m:\u001B[0m\u001B[1;33m\u001B[0m\u001B[1;33m\u001B[0m\u001B[0m\n\u001B[0;32m    498\u001B[0m         \u001B[1;32mif\u001B[0m \u001B[0mcancellation_manager\u001B[0m \u001B[1;32mis\u001B[0m \u001B[1;32mNone\u001B[0m\u001B[1;33m:\u001B[0m\u001B[1;33m\u001B[0m\u001B[1;33m\u001B[0m\u001B[0m\n\u001B[1;32m--> 499\u001B[1;33m           outputs = execute.execute(\n\u001B[0m\u001B[0;32m    500\u001B[0m               \u001B[0mstr\u001B[0m\u001B[1;33m(\u001B[0m\u001B[0mself\u001B[0m\u001B[1;33m.\u001B[0m\u001B[0msignature\u001B[0m\u001B[1;33m.\u001B[0m\u001B[0mname\u001B[0m\u001B[1;33m)\u001B[0m\u001B[1;33m,\u001B[0m\u001B[1;33m\u001B[0m\u001B[1;33m\u001B[0m\u001B[0m\n\u001B[0;32m    501\u001B[0m               \u001B[0mnum_outputs\u001B[0m\u001B[1;33m=\u001B[0m\u001B[0mself\u001B[0m\u001B[1;33m.\u001B[0m\u001B[0m_num_outputs\u001B[0m\u001B[1;33m,\u001B[0m\u001B[1;33m\u001B[0m\u001B[1;33m\u001B[0m\u001B[0m\n",
      "\u001B[1;32mC:\\Software\\Anaconda3\\lib\\site-packages\\tensorflow\\python\\eager\\execute.py\u001B[0m in \u001B[0;36mquick_execute\u001B[1;34m(op_name, num_outputs, inputs, attrs, ctx, name)\u001B[0m\n\u001B[0;32m     52\u001B[0m   \u001B[1;32mtry\u001B[0m\u001B[1;33m:\u001B[0m\u001B[1;33m\u001B[0m\u001B[1;33m\u001B[0m\u001B[0m\n\u001B[0;32m     53\u001B[0m     \u001B[0mctx\u001B[0m\u001B[1;33m.\u001B[0m\u001B[0mensure_initialized\u001B[0m\u001B[1;33m(\u001B[0m\u001B[1;33m)\u001B[0m\u001B[1;33m\u001B[0m\u001B[1;33m\u001B[0m\u001B[0m\n\u001B[1;32m---> 54\u001B[1;33m     tensors = pywrap_tfe.TFE_Py_Execute(ctx._handle, device_name, op_name,\n\u001B[0m\u001B[0;32m     55\u001B[0m                                         inputs, attrs, num_outputs)\n\u001B[0;32m     56\u001B[0m   \u001B[1;32mexcept\u001B[0m \u001B[0mcore\u001B[0m\u001B[1;33m.\u001B[0m\u001B[0m_NotOkStatusException\u001B[0m \u001B[1;32mas\u001B[0m \u001B[0me\u001B[0m\u001B[1;33m:\u001B[0m\u001B[1;33m\u001B[0m\u001B[1;33m\u001B[0m\u001B[0m\n",
      "\u001B[1;31mKeyboardInterrupt\u001B[0m: "
     ]
    }
   ],
   "source": [
    "DNN_1.fit(x=input_x, y=input_y, batch_size=32, epochs=epoch, validation_split=0.3, callbacks=callbacks)"
   ],
   "metadata": {
    "collapsed": false
   }
  },
  {
   "cell_type": "code",
   "execution_count": 75,
   "outputs": [],
   "source": [
    "best_file = 'weights-improvement-01-1.00.hdf5'\n",
    "DNN_1.load_weights(best_file)\n",
    "DNN_1.compile(loss='mean_absolute_error', optimizer='adam', metrics=['mean_absolute_error'])"
   ],
   "metadata": {
    "collapsed": false
   }
  },
  {
   "cell_type": "code",
   "execution_count": 76,
   "outputs": [
    {
     "name": "stdout",
     "output_type": "stream",
     "text": [
      "1035/1035 [==============================] - 1s 459us/step\n"
     ]
    }
   ],
   "source": [
    "DNN_y_pred = DNN_1.predict(input_x)"
   ],
   "metadata": {
    "collapsed": false
   }
  },
  {
   "cell_type": "code",
   "execution_count": 77,
   "outputs": [
    {
     "data": {
      "text/plain": "array([[0.],\n       [0.],\n       [0.],\n       ...,\n       [0.],\n       [0.],\n       [0.]], dtype=float32)"
     },
     "execution_count": 77,
     "metadata": {},
     "output_type": "execute_result"
    }
   ],
   "source": [
    "DNN_y_pred"
   ],
   "metadata": {
    "collapsed": false
   }
  },
  {
   "cell_type": "code",
   "execution_count": null,
   "outputs": [],
   "source": [],
   "metadata": {
    "collapsed": false
   }
  }
 ],
 "metadata": {
  "kernelspec": {
   "display_name": "Python 3",
   "language": "python",
   "name": "python3"
  },
  "language_info": {
   "codemirror_mode": {
    "name": "ipython",
    "version": 2
   },
   "file_extension": ".py",
   "mimetype": "text/x-python",
   "name": "python",
   "nbconvert_exporter": "python",
   "pygments_lexer": "ipython2",
   "version": "2.7.6"
  }
 },
 "nbformat": 4,
 "nbformat_minor": 0
}
