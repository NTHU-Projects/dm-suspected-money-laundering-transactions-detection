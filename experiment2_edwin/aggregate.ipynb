{
 "cells": [
  {
   "cell_type": "code",
   "execution_count": 83,
   "metadata": {
    "collapsed": true
   },
   "outputs": [],
   "source": [
    "#Base\n",
    "\n",
    "import pandas as pd\n",
    "import os\n",
    "\n",
    "from sklearn.metrics import confusion_matrix\n",
    "from sklearn.model_selection import train_test_split\n",
    "from sklearn.linear_model import LogisticRegression\n",
    "from sklearn.metrics import accuracy_score\n",
    "from imblearn.over_sampling import SMOTE\n",
    "\n",
    "from sklearn.feature_selection import RFE\n",
    "\n",
    "import statsmodels.api as sm\n",
    "\n",
    "from tqdm import tqdm\n",
    "\n",
    "\n",
    "dataset_folder = os.path.join(os.getcwd(), 'dataset')\n",
    "\n",
    "def df_from_csv(filename):\n",
    "    f = os.path.join(dataset_folder, filename)\n",
    "    return pd.read_csv(f, delimiter='\\t|\\n|,', engine='python')\n",
    "\n",
    "x_train = df_from_csv('ori_trainx.csv')\n",
    "y_train = df_from_csv('ori_trainy.csv')\n",
    "alert_date = df_from_csv('ori_alert_date.csv')\n",
    "alert_cust = df_from_csv('ori_custinfo.csv')\n",
    "xdp = df_from_csv('ori_xdp.csv')\n",
    "\n",
    "smote = SMOTE(random_state=0)\n",
    "tqdm.pandas(desc='Progress Bar')\n",
    "\n",
    "def SMOTE_oversampling(input_x, input_y):\n",
    "    x_train, x_test, y_train, y_test = train_test_split(input_x, input_y, test_size=0.3)\n",
    "    x_cols = x_train.columns\n",
    "    y_cols = y_train.columns\n",
    "\n",
    "    sm_data_x, sm_data_y = smote.fit_resample(x_train, y_train)\n",
    "    sm_data_x = pd.DataFrame(data=sm_data_x, columns=x_cols)\n",
    "    sm_data_y = pd.DataFrame(data=sm_data_y, columns=y_cols)\n",
    "\n",
    "    print(\"length of oversampled data is \",len(sm_data_x))\n",
    "    print(\"Number of non-sar in oversampled data\",len(sm_data_y[sm_data_y['sar_flag']==0]))\n",
    "    print(\"Number of sar\",len(sm_data_y[sm_data_y['sar_flag']==1]))\n",
    "    print(\"Proportion of no subscription data in oversampled data is \", len(sm_data_y[sm_data_y['sar_flag']==0])/len(sm_data_x))\n",
    "    print(\"Proportion of subscription data in oversampled data is \", len(sm_data_y[sm_data_y['sar_flag']==1])/len(sm_data_x))\n",
    "\n",
    "    return sm_data_x, sm_data_y\n",
    "\n",
    "def RFE_analysis(input_x, input_y, model):\n",
    "    rfe = RFE(model, step=300)\n",
    "    rfe.fit(input_x, input_y.values.ravel())\n",
    "    print(input_x.columns)\n",
    "    print(rfe.support_)\n",
    "    print(rfe.ranking_)\n",
    "    return rfe.get_support(1)\n",
    "\n",
    "def LR_analysis(input_x, input_y):\n",
    "    sm_LR = sm.Logit(input_y, input_x)\n",
    "    result = sm_LR.fit()\n",
    "    print(result.summary2())\n",
    "\n",
    "def LR_training(input_x, input_y, LR_model):\n",
    "    x_train, x_test, y_train, y_test = train_test_split(input_x, input_y, test_size=0.25)\n",
    "    LR_model.fit(x_train, y_train)\n",
    "    y_train_predict = LR_model.predict(x_train)\n",
    "    y_test_predict = LR_model.predict(x_test)\n",
    "    train_acc = accuracy_score(y_train, y_train_predict)\n",
    "    test_acc = accuracy_score(y_test, y_test_predict)\n",
    "    print(f'{train_acc}  {test_acc}')\n",
    "    cm = confusion_matrix(y_true=y_test, y_pred=y_test_predict)\n",
    "    print(cm)\n",
    "    return LR_model\n",
    "\n",
    "def LR_test(input_x, input_y, LR_model):\n",
    "    y_predict = LR_model.predict(input_x)\n",
    "    test_acc = accuracy_score(input_y, y_predict)\n",
    "    print(f'{test_acc}')\n",
    "    cm = confusion_matrix(y_true=input_y, y_pred=y_predict)\n",
    "    print(cm)\n",
    "\n",
    "def calculate_tx(row):\n",
    "    if not pd.isna(row['risk_rank']):\n",
    "        temp_frame = xdp[(xdp['tx_date'] <= row['date']) & (xdp['cust_id'] == row['cust_id'])]\n",
    "        total_tx = (temp_frame['tx_amt'] * temp_frame['exchg_rate'])\n",
    "        row['total_tx'] = total_tx.sum()\n",
    "        row['avg_tx'] = total_tx.mean()\n",
    "        row['count_tx'] = total_tx.count()\n",
    "        row['std_tx'] = total_tx.std()\n",
    "        row['tx_per_day'] = row['count_tx']/row['date']+1\n",
    "    return row\n"
   ]
  },
  {
   "cell_type": "code",
   "execution_count": 2,
   "outputs": [],
   "source": [
    "# Join data for training\n",
    "\n",
    "ccba = pd.read_pickle('aggregated_ccba_cust.pkl')\n",
    "cdtx = pd.read_pickle('cdtx_agg.pkl')\n",
    "xdp = pd.read_pickle('xdp_train_test1.pkl')"
   ],
   "metadata": {
    "collapsed": false
   }
  },
  {
   "cell_type": "code",
   "execution_count": 3,
   "outputs": [
    {
     "data": {
      "text/plain": "       AGE  alert_key  avg_amt_nontw_nonntd  avg_amt_nontw_ntd  \\\n0        4     171189           9044.740741        3033.355556   \n1        2     171202                   NaN                NaN   \n2        4     171599                   NaN                NaN   \n3        4     171737                   NaN                NaN   \n4        3     171142                   NaN                NaN   \n...    ...        ...                   ...                ...   \n23901    3     352132           4332.523077        1223.939446   \n23902    3     352125                   NaN                NaN   \n23903    6     352080                   NaN                NaN   \n23904    6     352075                   NaN                NaN   \n23905    2     351927                   NaN                NaN   \n\n       avg_amt_tw_nonntd  avg_amt_tw_ntd  avg_freq_nontw_nonntd  \\\n0                    NaN     1388.550403               1.350000   \n1                    NaN             NaN                    NaN   \n2                    NaN             NaN                    NaN   \n3                    NaN     1893.333333                    NaN   \n4                    NaN     7048.368421                    NaN   \n...                  ...             ...                    ...   \n23901                NaN      988.503826               1.160714   \n23902                NaN             NaN                    NaN   \n23903                NaN             NaN                    NaN   \n23904                NaN             NaN                    NaN   \n23905                NaN             NaN                    NaN   \n\n       avg_freq_nontw_ntd  avg_freq_tw_nonntd  avg_freq_tw_ntd  ...  \\\n0                1.097561                 NaN         2.147186  ...   \n1                     NaN                 NaN              NaN  ...   \n2                     NaN                 NaN              NaN  ...   \n3                     NaN                 NaN         1.500000  ...   \n4                     NaN                 NaN         1.055556  ...   \n...                   ...                 ...              ...  ...   \n23901            2.513043                 NaN         6.668367  ...   \n23902                 NaN                 NaN              NaN  ...   \n23903                 NaN                 NaN              NaN  ...   \n23904                 NaN                 NaN              NaN  ...   \n23905                 NaN                 NaN              NaN  ...   \n\n       total_amt_nontw_nonntd  total_amt_nontw_ntd  total_amt_tw_nonntd  \\\n0                    244208.0             136501.0                  NaN   \n1                         NaN                  NaN                  NaN   \n2                         NaN                  NaN                  NaN   \n3                         NaN                  NaN                  NaN   \n4                         NaN                  NaN                  NaN   \n...                       ...                  ...                  ...   \n23901                281614.0             707437.0                  NaN   \n23902                     NaN                  NaN                  NaN   \n23903                     NaN                  NaN                  NaN   \n23904                     NaN                  NaN                  NaN   \n23905                     NaN                  NaN                  NaN   \n\n       total_amt_tw_ntd  total_freq_nontw_nonntd  total_freq_nontw_ntd  \\\n0              688721.0                     27.0                  45.0   \n1                   NaN                      NaN                   NaN   \n2                   NaN                      NaN                   NaN   \n3                5680.0                      NaN                   NaN   \n4              133919.0                      NaN                   NaN   \n...                 ...                      ...                   ...   \n23901         2583949.0                     65.0                 578.0   \n23902               NaN                      NaN                   NaN   \n23903               NaN                      NaN                   NaN   \n23904               NaN                      NaN                   NaN   \n23905               NaN                      NaN                   NaN   \n\n       total_freq_tw_nonntd  total_freq_tw_ntd      total_tx  tx_per_day  \n0                       NaN              496.0  1.515000e+03    0.000000  \n1                       NaN                NaN  2.092020e+05    0.000000  \n2                       NaN                NaN  3.105930e+05    0.000000  \n3                       NaN                3.0  4.312500e+04    0.000000  \n4                       NaN               19.0  2.963440e+05    0.000000  \n...                     ...                ...           ...         ...  \n23901                   NaN             2614.0  1.532000e+08    0.390110  \n23902                   NaN                NaN  4.615283e+07    0.054945  \n23903                   NaN                NaN  1.555772e+08    0.192308  \n23904                   NaN                NaN  1.365559e+08    1.181319  \n23905                   NaN                NaN  5.918977e+07    0.618132  \n\n[23906 rows x 51 columns]",
      "text/html": "<div>\n<style scoped>\n    .dataframe tbody tr th:only-of-type {\n        vertical-align: middle;\n    }\n\n    .dataframe tbody tr th {\n        vertical-align: top;\n    }\n\n    .dataframe thead th {\n        text-align: right;\n    }\n</style>\n<table border=\"1\" class=\"dataframe\">\n  <thead>\n    <tr style=\"text-align: right;\">\n      <th></th>\n      <th>AGE</th>\n      <th>alert_key</th>\n      <th>avg_amt_nontw_nonntd</th>\n      <th>avg_amt_nontw_ntd</th>\n      <th>avg_amt_tw_nonntd</th>\n      <th>avg_amt_tw_ntd</th>\n      <th>avg_freq_nontw_nonntd</th>\n      <th>avg_freq_nontw_ntd</th>\n      <th>avg_freq_tw_nonntd</th>\n      <th>avg_freq_tw_ntd</th>\n      <th>...</th>\n      <th>total_amt_nontw_nonntd</th>\n      <th>total_amt_nontw_ntd</th>\n      <th>total_amt_tw_nonntd</th>\n      <th>total_amt_tw_ntd</th>\n      <th>total_freq_nontw_nonntd</th>\n      <th>total_freq_nontw_ntd</th>\n      <th>total_freq_tw_nonntd</th>\n      <th>total_freq_tw_ntd</th>\n      <th>total_tx</th>\n      <th>tx_per_day</th>\n    </tr>\n  </thead>\n  <tbody>\n    <tr>\n      <th>0</th>\n      <td>4</td>\n      <td>171189</td>\n      <td>9044.740741</td>\n      <td>3033.355556</td>\n      <td>NaN</td>\n      <td>1388.550403</td>\n      <td>1.350000</td>\n      <td>1.097561</td>\n      <td>NaN</td>\n      <td>2.147186</td>\n      <td>...</td>\n      <td>244208.0</td>\n      <td>136501.0</td>\n      <td>NaN</td>\n      <td>688721.0</td>\n      <td>27.0</td>\n      <td>45.0</td>\n      <td>NaN</td>\n      <td>496.0</td>\n      <td>1.515000e+03</td>\n      <td>0.000000</td>\n    </tr>\n    <tr>\n      <th>1</th>\n      <td>2</td>\n      <td>171202</td>\n      <td>NaN</td>\n      <td>NaN</td>\n      <td>NaN</td>\n      <td>NaN</td>\n      <td>NaN</td>\n      <td>NaN</td>\n      <td>NaN</td>\n      <td>NaN</td>\n      <td>...</td>\n      <td>NaN</td>\n      <td>NaN</td>\n      <td>NaN</td>\n      <td>NaN</td>\n      <td>NaN</td>\n      <td>NaN</td>\n      <td>NaN</td>\n      <td>NaN</td>\n      <td>2.092020e+05</td>\n      <td>0.000000</td>\n    </tr>\n    <tr>\n      <th>2</th>\n      <td>4</td>\n      <td>171599</td>\n      <td>NaN</td>\n      <td>NaN</td>\n      <td>NaN</td>\n      <td>NaN</td>\n      <td>NaN</td>\n      <td>NaN</td>\n      <td>NaN</td>\n      <td>NaN</td>\n      <td>...</td>\n      <td>NaN</td>\n      <td>NaN</td>\n      <td>NaN</td>\n      <td>NaN</td>\n      <td>NaN</td>\n      <td>NaN</td>\n      <td>NaN</td>\n      <td>NaN</td>\n      <td>3.105930e+05</td>\n      <td>0.000000</td>\n    </tr>\n    <tr>\n      <th>3</th>\n      <td>4</td>\n      <td>171737</td>\n      <td>NaN</td>\n      <td>NaN</td>\n      <td>NaN</td>\n      <td>1893.333333</td>\n      <td>NaN</td>\n      <td>NaN</td>\n      <td>NaN</td>\n      <td>1.500000</td>\n      <td>...</td>\n      <td>NaN</td>\n      <td>NaN</td>\n      <td>NaN</td>\n      <td>5680.0</td>\n      <td>NaN</td>\n      <td>NaN</td>\n      <td>NaN</td>\n      <td>3.0</td>\n      <td>4.312500e+04</td>\n      <td>0.000000</td>\n    </tr>\n    <tr>\n      <th>4</th>\n      <td>3</td>\n      <td>171142</td>\n      <td>NaN</td>\n      <td>NaN</td>\n      <td>NaN</td>\n      <td>7048.368421</td>\n      <td>NaN</td>\n      <td>NaN</td>\n      <td>NaN</td>\n      <td>1.055556</td>\n      <td>...</td>\n      <td>NaN</td>\n      <td>NaN</td>\n      <td>NaN</td>\n      <td>133919.0</td>\n      <td>NaN</td>\n      <td>NaN</td>\n      <td>NaN</td>\n      <td>19.0</td>\n      <td>2.963440e+05</td>\n      <td>0.000000</td>\n    </tr>\n    <tr>\n      <th>...</th>\n      <td>...</td>\n      <td>...</td>\n      <td>...</td>\n      <td>...</td>\n      <td>...</td>\n      <td>...</td>\n      <td>...</td>\n      <td>...</td>\n      <td>...</td>\n      <td>...</td>\n      <td>...</td>\n      <td>...</td>\n      <td>...</td>\n      <td>...</td>\n      <td>...</td>\n      <td>...</td>\n      <td>...</td>\n      <td>...</td>\n      <td>...</td>\n      <td>...</td>\n      <td>...</td>\n    </tr>\n    <tr>\n      <th>23901</th>\n      <td>3</td>\n      <td>352132</td>\n      <td>4332.523077</td>\n      <td>1223.939446</td>\n      <td>NaN</td>\n      <td>988.503826</td>\n      <td>1.160714</td>\n      <td>2.513043</td>\n      <td>NaN</td>\n      <td>6.668367</td>\n      <td>...</td>\n      <td>281614.0</td>\n      <td>707437.0</td>\n      <td>NaN</td>\n      <td>2583949.0</td>\n      <td>65.0</td>\n      <td>578.0</td>\n      <td>NaN</td>\n      <td>2614.0</td>\n      <td>1.532000e+08</td>\n      <td>0.390110</td>\n    </tr>\n    <tr>\n      <th>23902</th>\n      <td>3</td>\n      <td>352125</td>\n      <td>NaN</td>\n      <td>NaN</td>\n      <td>NaN</td>\n      <td>NaN</td>\n      <td>NaN</td>\n      <td>NaN</td>\n      <td>NaN</td>\n      <td>NaN</td>\n      <td>...</td>\n      <td>NaN</td>\n      <td>NaN</td>\n      <td>NaN</td>\n      <td>NaN</td>\n      <td>NaN</td>\n      <td>NaN</td>\n      <td>NaN</td>\n      <td>NaN</td>\n      <td>4.615283e+07</td>\n      <td>0.054945</td>\n    </tr>\n    <tr>\n      <th>23903</th>\n      <td>6</td>\n      <td>352080</td>\n      <td>NaN</td>\n      <td>NaN</td>\n      <td>NaN</td>\n      <td>NaN</td>\n      <td>NaN</td>\n      <td>NaN</td>\n      <td>NaN</td>\n      <td>NaN</td>\n      <td>...</td>\n      <td>NaN</td>\n      <td>NaN</td>\n      <td>NaN</td>\n      <td>NaN</td>\n      <td>NaN</td>\n      <td>NaN</td>\n      <td>NaN</td>\n      <td>NaN</td>\n      <td>1.555772e+08</td>\n      <td>0.192308</td>\n    </tr>\n    <tr>\n      <th>23904</th>\n      <td>6</td>\n      <td>352075</td>\n      <td>NaN</td>\n      <td>NaN</td>\n      <td>NaN</td>\n      <td>NaN</td>\n      <td>NaN</td>\n      <td>NaN</td>\n      <td>NaN</td>\n      <td>NaN</td>\n      <td>...</td>\n      <td>NaN</td>\n      <td>NaN</td>\n      <td>NaN</td>\n      <td>NaN</td>\n      <td>NaN</td>\n      <td>NaN</td>\n      <td>NaN</td>\n      <td>NaN</td>\n      <td>1.365559e+08</td>\n      <td>1.181319</td>\n    </tr>\n    <tr>\n      <th>23905</th>\n      <td>2</td>\n      <td>351927</td>\n      <td>NaN</td>\n      <td>NaN</td>\n      <td>NaN</td>\n      <td>NaN</td>\n      <td>NaN</td>\n      <td>NaN</td>\n      <td>NaN</td>\n      <td>NaN</td>\n      <td>...</td>\n      <td>NaN</td>\n      <td>NaN</td>\n      <td>NaN</td>\n      <td>NaN</td>\n      <td>NaN</td>\n      <td>NaN</td>\n      <td>NaN</td>\n      <td>NaN</td>\n      <td>5.918977e+07</td>\n      <td>0.618132</td>\n    </tr>\n  </tbody>\n</table>\n<p>23906 rows × 51 columns</p>\n</div>"
     },
     "execution_count": 3,
     "metadata": {},
     "output_type": "execute_result"
    }
   ],
   "source": [
    "train = df_from_csv('ori_trainx.csv')\n",
    "train = train.merge(df_from_csv('ori_trainy.csv'), on='alert_key', how='inner')\n",
    "train = train.merge(alert_cust, on='alert_key', how='left')\n",
    "train = train[['alert_key', 'cust_id']]\n",
    "train = train.merge(ccba, on='cust_id', how='left')\n",
    "train = train.merge(cdtx, on='cust_id', how='left')\n",
    "train = train.merge(xdp, on='alert_key', how='left')\n",
    "train = train.reindex(sorted(train.columns), axis=1)\n",
    "train"
   ],
   "metadata": {
    "collapsed": false
   }
  },
  {
   "cell_type": "code",
   "execution_count": 4,
   "outputs": [],
   "source": [
    "train['bad_value'] = train.isnull().sum(axis=1) + (train == 0).astype(int).sum(axis=1)"
   ],
   "metadata": {
    "collapsed": false
   }
  },
  {
   "cell_type": "code",
   "execution_count": 5,
   "outputs": [],
   "source": [
    "train = train.drop(['cust_id_x', 'cust_id_y'], axis=1)\n",
    "train.to_pickle('aggregate.pkl')"
   ],
   "metadata": {
    "collapsed": false
   }
  },
  {
   "cell_type": "code",
   "execution_count": 6,
   "outputs": [
    {
     "data": {
      "text/plain": "       AGE  avg_amt_nontw_nonntd  avg_amt_nontw_ntd  avg_amt_tw_nonntd  \\\n0        4           9044.740741        3033.355556                NaN   \n1        2                   NaN                NaN                NaN   \n2        4                   NaN                NaN                NaN   \n3        4                   NaN                NaN                NaN   \n4        3                   NaN                NaN                NaN   \n...    ...                   ...                ...                ...   \n23901    3           4332.523077        1223.939446                NaN   \n23902    3                   NaN                NaN                NaN   \n23903    6                   NaN                NaN                NaN   \n23904    6                   NaN                NaN                NaN   \n23905    2                   NaN                NaN                NaN   \n\n       avg_amt_tw_ntd  avg_freq_nontw_nonntd  avg_freq_nontw_ntd  \\\n0         1388.550403               1.350000            1.097561   \n1                 NaN                    NaN                 NaN   \n2                 NaN                    NaN                 NaN   \n3         1893.333333                    NaN                 NaN   \n4         7048.368421                    NaN                 NaN   \n...               ...                    ...                 ...   \n23901      988.503826               1.160714            2.513043   \n23902             NaN                    NaN                 NaN   \n23903             NaN                    NaN                 NaN   \n23904             NaN                    NaN                 NaN   \n23905             NaN                    NaN                 NaN   \n\n       avg_freq_tw_nonntd  avg_freq_tw_ntd        avg_tx  ...  \\\n0                     NaN         2.147186  5.050000e+02  ...   \n1                     NaN              NaN  6.973400e+04  ...   \n2                     NaN              NaN  7.764825e+04  ...   \n3                     NaN         1.500000  4.312500e+03  ...   \n4                     NaN         1.055556  4.939067e+03  ...   \n...                   ...              ...           ...  ...   \n23901                 NaN         6.668367  1.078873e+06  ...   \n23902                 NaN              NaN  2.307641e+06  ...   \n23903                 NaN              NaN  2.222531e+06  ...   \n23904                 NaN              NaN  3.175717e+05  ...   \n23905                 NaN              NaN  2.630657e+05  ...   \n\n       total_amt_nontw_ntd  total_amt_tw_nonntd  total_amt_tw_ntd  \\\n0                 136501.0                  NaN          688721.0   \n1                      NaN                  NaN               NaN   \n2                      NaN                  NaN               NaN   \n3                      NaN                  NaN            5680.0   \n4                      NaN                  NaN          133919.0   \n...                    ...                  ...               ...   \n23901             707437.0                  NaN         2583949.0   \n23902                  NaN                  NaN               NaN   \n23903                  NaN                  NaN               NaN   \n23904                  NaN                  NaN               NaN   \n23905                  NaN                  NaN               NaN   \n\n       total_freq_nontw_nonntd  total_freq_nontw_ntd  total_freq_tw_nonntd  \\\n0                         27.0                  45.0                   NaN   \n1                          NaN                   NaN                   NaN   \n2                          NaN                   NaN                   NaN   \n3                          NaN                   NaN                   NaN   \n4                          NaN                   NaN                   NaN   \n...                        ...                   ...                   ...   \n23901                     65.0                 578.0                   NaN   \n23902                      NaN                   NaN                   NaN   \n23903                      NaN                   NaN                   NaN   \n23904                      NaN                   NaN                   NaN   \n23905                      NaN                   NaN                   NaN   \n\n       total_freq_tw_ntd      total_tx  tx_per_day  bad_value  \n0                  496.0  1.515000e+03    0.000000         24  \n1                    NaN  2.092020e+05    0.000000         42  \n2                    NaN  3.105930e+05    0.000000         42  \n3                    3.0  4.312500e+04    0.000000         36  \n4                   19.0  2.963440e+05    0.000000         36  \n...                  ...           ...         ...        ...  \n23901             2614.0  1.532000e+08    0.390110         22  \n23902                NaN  4.615283e+07    0.054945         40  \n23903                NaN  1.555772e+08    0.192308         40  \n23904                NaN  1.365559e+08    1.181319         40  \n23905                NaN  5.918977e+07    0.618132         40  \n\n[23906 rows x 49 columns]",
      "text/html": "<div>\n<style scoped>\n    .dataframe tbody tr th:only-of-type {\n        vertical-align: middle;\n    }\n\n    .dataframe tbody tr th {\n        vertical-align: top;\n    }\n\n    .dataframe thead th {\n        text-align: right;\n    }\n</style>\n<table border=\"1\" class=\"dataframe\">\n  <thead>\n    <tr style=\"text-align: right;\">\n      <th></th>\n      <th>AGE</th>\n      <th>avg_amt_nontw_nonntd</th>\n      <th>avg_amt_nontw_ntd</th>\n      <th>avg_amt_tw_nonntd</th>\n      <th>avg_amt_tw_ntd</th>\n      <th>avg_freq_nontw_nonntd</th>\n      <th>avg_freq_nontw_ntd</th>\n      <th>avg_freq_tw_nonntd</th>\n      <th>avg_freq_tw_ntd</th>\n      <th>avg_tx</th>\n      <th>...</th>\n      <th>total_amt_nontw_ntd</th>\n      <th>total_amt_tw_nonntd</th>\n      <th>total_amt_tw_ntd</th>\n      <th>total_freq_nontw_nonntd</th>\n      <th>total_freq_nontw_ntd</th>\n      <th>total_freq_tw_nonntd</th>\n      <th>total_freq_tw_ntd</th>\n      <th>total_tx</th>\n      <th>tx_per_day</th>\n      <th>bad_value</th>\n    </tr>\n  </thead>\n  <tbody>\n    <tr>\n      <th>0</th>\n      <td>4</td>\n      <td>9044.740741</td>\n      <td>3033.355556</td>\n      <td>NaN</td>\n      <td>1388.550403</td>\n      <td>1.350000</td>\n      <td>1.097561</td>\n      <td>NaN</td>\n      <td>2.147186</td>\n      <td>5.050000e+02</td>\n      <td>...</td>\n      <td>136501.0</td>\n      <td>NaN</td>\n      <td>688721.0</td>\n      <td>27.0</td>\n      <td>45.0</td>\n      <td>NaN</td>\n      <td>496.0</td>\n      <td>1.515000e+03</td>\n      <td>0.000000</td>\n      <td>24</td>\n    </tr>\n    <tr>\n      <th>1</th>\n      <td>2</td>\n      <td>NaN</td>\n      <td>NaN</td>\n      <td>NaN</td>\n      <td>NaN</td>\n      <td>NaN</td>\n      <td>NaN</td>\n      <td>NaN</td>\n      <td>NaN</td>\n      <td>6.973400e+04</td>\n      <td>...</td>\n      <td>NaN</td>\n      <td>NaN</td>\n      <td>NaN</td>\n      <td>NaN</td>\n      <td>NaN</td>\n      <td>NaN</td>\n      <td>NaN</td>\n      <td>2.092020e+05</td>\n      <td>0.000000</td>\n      <td>42</td>\n    </tr>\n    <tr>\n      <th>2</th>\n      <td>4</td>\n      <td>NaN</td>\n      <td>NaN</td>\n      <td>NaN</td>\n      <td>NaN</td>\n      <td>NaN</td>\n      <td>NaN</td>\n      <td>NaN</td>\n      <td>NaN</td>\n      <td>7.764825e+04</td>\n      <td>...</td>\n      <td>NaN</td>\n      <td>NaN</td>\n      <td>NaN</td>\n      <td>NaN</td>\n      <td>NaN</td>\n      <td>NaN</td>\n      <td>NaN</td>\n      <td>3.105930e+05</td>\n      <td>0.000000</td>\n      <td>42</td>\n    </tr>\n    <tr>\n      <th>3</th>\n      <td>4</td>\n      <td>NaN</td>\n      <td>NaN</td>\n      <td>NaN</td>\n      <td>1893.333333</td>\n      <td>NaN</td>\n      <td>NaN</td>\n      <td>NaN</td>\n      <td>1.500000</td>\n      <td>4.312500e+03</td>\n      <td>...</td>\n      <td>NaN</td>\n      <td>NaN</td>\n      <td>5680.0</td>\n      <td>NaN</td>\n      <td>NaN</td>\n      <td>NaN</td>\n      <td>3.0</td>\n      <td>4.312500e+04</td>\n      <td>0.000000</td>\n      <td>36</td>\n    </tr>\n    <tr>\n      <th>4</th>\n      <td>3</td>\n      <td>NaN</td>\n      <td>NaN</td>\n      <td>NaN</td>\n      <td>7048.368421</td>\n      <td>NaN</td>\n      <td>NaN</td>\n      <td>NaN</td>\n      <td>1.055556</td>\n      <td>4.939067e+03</td>\n      <td>...</td>\n      <td>NaN</td>\n      <td>NaN</td>\n      <td>133919.0</td>\n      <td>NaN</td>\n      <td>NaN</td>\n      <td>NaN</td>\n      <td>19.0</td>\n      <td>2.963440e+05</td>\n      <td>0.000000</td>\n      <td>36</td>\n    </tr>\n    <tr>\n      <th>...</th>\n      <td>...</td>\n      <td>...</td>\n      <td>...</td>\n      <td>...</td>\n      <td>...</td>\n      <td>...</td>\n      <td>...</td>\n      <td>...</td>\n      <td>...</td>\n      <td>...</td>\n      <td>...</td>\n      <td>...</td>\n      <td>...</td>\n      <td>...</td>\n      <td>...</td>\n      <td>...</td>\n      <td>...</td>\n      <td>...</td>\n      <td>...</td>\n      <td>...</td>\n      <td>...</td>\n    </tr>\n    <tr>\n      <th>23901</th>\n      <td>3</td>\n      <td>4332.523077</td>\n      <td>1223.939446</td>\n      <td>NaN</td>\n      <td>988.503826</td>\n      <td>1.160714</td>\n      <td>2.513043</td>\n      <td>NaN</td>\n      <td>6.668367</td>\n      <td>1.078873e+06</td>\n      <td>...</td>\n      <td>707437.0</td>\n      <td>NaN</td>\n      <td>2583949.0</td>\n      <td>65.0</td>\n      <td>578.0</td>\n      <td>NaN</td>\n      <td>2614.0</td>\n      <td>1.532000e+08</td>\n      <td>0.390110</td>\n      <td>22</td>\n    </tr>\n    <tr>\n      <th>23902</th>\n      <td>3</td>\n      <td>NaN</td>\n      <td>NaN</td>\n      <td>NaN</td>\n      <td>NaN</td>\n      <td>NaN</td>\n      <td>NaN</td>\n      <td>NaN</td>\n      <td>NaN</td>\n      <td>2.307641e+06</td>\n      <td>...</td>\n      <td>NaN</td>\n      <td>NaN</td>\n      <td>NaN</td>\n      <td>NaN</td>\n      <td>NaN</td>\n      <td>NaN</td>\n      <td>NaN</td>\n      <td>4.615283e+07</td>\n      <td>0.054945</td>\n      <td>40</td>\n    </tr>\n    <tr>\n      <th>23903</th>\n      <td>6</td>\n      <td>NaN</td>\n      <td>NaN</td>\n      <td>NaN</td>\n      <td>NaN</td>\n      <td>NaN</td>\n      <td>NaN</td>\n      <td>NaN</td>\n      <td>NaN</td>\n      <td>2.222531e+06</td>\n      <td>...</td>\n      <td>NaN</td>\n      <td>NaN</td>\n      <td>NaN</td>\n      <td>NaN</td>\n      <td>NaN</td>\n      <td>NaN</td>\n      <td>NaN</td>\n      <td>1.555772e+08</td>\n      <td>0.192308</td>\n      <td>40</td>\n    </tr>\n    <tr>\n      <th>23904</th>\n      <td>6</td>\n      <td>NaN</td>\n      <td>NaN</td>\n      <td>NaN</td>\n      <td>NaN</td>\n      <td>NaN</td>\n      <td>NaN</td>\n      <td>NaN</td>\n      <td>NaN</td>\n      <td>3.175717e+05</td>\n      <td>...</td>\n      <td>NaN</td>\n      <td>NaN</td>\n      <td>NaN</td>\n      <td>NaN</td>\n      <td>NaN</td>\n      <td>NaN</td>\n      <td>NaN</td>\n      <td>1.365559e+08</td>\n      <td>1.181319</td>\n      <td>40</td>\n    </tr>\n    <tr>\n      <th>23905</th>\n      <td>2</td>\n      <td>NaN</td>\n      <td>NaN</td>\n      <td>NaN</td>\n      <td>NaN</td>\n      <td>NaN</td>\n      <td>NaN</td>\n      <td>NaN</td>\n      <td>NaN</td>\n      <td>2.630657e+05</td>\n      <td>...</td>\n      <td>NaN</td>\n      <td>NaN</td>\n      <td>NaN</td>\n      <td>NaN</td>\n      <td>NaN</td>\n      <td>NaN</td>\n      <td>NaN</td>\n      <td>5.918977e+07</td>\n      <td>0.618132</td>\n      <td>40</td>\n    </tr>\n  </tbody>\n</table>\n<p>23906 rows × 49 columns</p>\n</div>"
     },
     "execution_count": 6,
     "metadata": {},
     "output_type": "execute_result"
    }
   ],
   "source": [
    "train = train.drop(['alert_key'], axis=1)\n",
    "train"
   ],
   "metadata": {
    "collapsed": false
   }
  },
  {
   "cell_type": "code",
   "execution_count": 7,
   "outputs": [
    {
     "data": {
      "text/plain": "       AGE  avg_amt_nontw_nonntd  avg_amt_nontw_ntd  avg_amt_tw_nonntd  \\\n0        4           9044.740741        3033.355556                NaN   \n1        2                   NaN                NaN                NaN   \n2        4                   NaN                NaN                NaN   \n3        4                   NaN                NaN                NaN   \n4        3                   NaN                NaN                NaN   \n...    ...                   ...                ...                ...   \n23901    3           4332.523077        1223.939446                NaN   \n23902    3                   NaN                NaN                NaN   \n23903    6                   NaN                NaN                NaN   \n23904    6                   NaN                NaN                NaN   \n23905    2                   NaN                NaN                NaN   \n\n       avg_amt_tw_ntd  avg_freq_nontw_nonntd  avg_freq_nontw_ntd  \\\n0         1388.550403               1.350000            1.097561   \n1                 NaN                    NaN                 NaN   \n2                 NaN                    NaN                 NaN   \n3         1893.333333                    NaN                 NaN   \n4         7048.368421                    NaN                 NaN   \n...               ...                    ...                 ...   \n23901      988.503826               1.160714            2.513043   \n23902             NaN                    NaN                 NaN   \n23903             NaN                    NaN                 NaN   \n23904             NaN                    NaN                 NaN   \n23905             NaN                    NaN                 NaN   \n\n       avg_freq_tw_nonntd  avg_freq_tw_ntd        avg_tx  ...  \\\n0                     NaN         2.147186  5.050000e+02  ...   \n1                     NaN              NaN  6.973400e+04  ...   \n2                     NaN              NaN  7.764825e+04  ...   \n3                     NaN         1.500000  4.312500e+03  ...   \n4                     NaN         1.055556  4.939067e+03  ...   \n...                   ...              ...           ...  ...   \n23901                 NaN         6.668367  1.078873e+06  ...   \n23902                 NaN              NaN  2.307641e+06  ...   \n23903                 NaN              NaN  2.222531e+06  ...   \n23904                 NaN              NaN  3.175717e+05  ...   \n23905                 NaN              NaN  2.630657e+05  ...   \n\n       total_amt_nontw_ntd  total_amt_tw_nonntd  total_amt_tw_ntd  \\\n0                 136501.0                  NaN          688721.0   \n1                      NaN                  NaN               NaN   \n2                      NaN                  NaN               NaN   \n3                      NaN                  NaN            5680.0   \n4                      NaN                  NaN          133919.0   \n...                    ...                  ...               ...   \n23901             707437.0                  NaN         2583949.0   \n23902                  NaN                  NaN               NaN   \n23903                  NaN                  NaN               NaN   \n23904                  NaN                  NaN               NaN   \n23905                  NaN                  NaN               NaN   \n\n       total_freq_nontw_nonntd  total_freq_nontw_ntd  total_freq_tw_nonntd  \\\n0                         27.0                  45.0                   NaN   \n1                          NaN                   NaN                   NaN   \n2                          NaN                   NaN                   NaN   \n3                          NaN                   NaN                   NaN   \n4                          NaN                   NaN                   NaN   \n...                        ...                   ...                   ...   \n23901                     65.0                 578.0                   NaN   \n23902                      NaN                   NaN                   NaN   \n23903                      NaN                   NaN                   NaN   \n23904                      NaN                   NaN                   NaN   \n23905                      NaN                   NaN                   NaN   \n\n       total_freq_tw_ntd      total_tx  tx_per_day  bad_value  \n0                  496.0  1.515000e+03    0.000000         24  \n1                    NaN  2.092020e+05    0.000000         42  \n2                    NaN  3.105930e+05    0.000000         42  \n3                    3.0  4.312500e+04    0.000000         36  \n4                   19.0  2.963440e+05    0.000000         36  \n...                  ...           ...         ...        ...  \n23901             2614.0  1.532000e+08    0.390110         22  \n23902                NaN  4.615283e+07    0.054945         40  \n23903                NaN  1.555772e+08    0.192308         40  \n23904                NaN  1.365559e+08    1.181319         40  \n23905                NaN  5.918977e+07    0.618132         40  \n\n[23906 rows x 49 columns]",
      "text/html": "<div>\n<style scoped>\n    .dataframe tbody tr th:only-of-type {\n        vertical-align: middle;\n    }\n\n    .dataframe tbody tr th {\n        vertical-align: top;\n    }\n\n    .dataframe thead th {\n        text-align: right;\n    }\n</style>\n<table border=\"1\" class=\"dataframe\">\n  <thead>\n    <tr style=\"text-align: right;\">\n      <th></th>\n      <th>AGE</th>\n      <th>avg_amt_nontw_nonntd</th>\n      <th>avg_amt_nontw_ntd</th>\n      <th>avg_amt_tw_nonntd</th>\n      <th>avg_amt_tw_ntd</th>\n      <th>avg_freq_nontw_nonntd</th>\n      <th>avg_freq_nontw_ntd</th>\n      <th>avg_freq_tw_nonntd</th>\n      <th>avg_freq_tw_ntd</th>\n      <th>avg_tx</th>\n      <th>...</th>\n      <th>total_amt_nontw_ntd</th>\n      <th>total_amt_tw_nonntd</th>\n      <th>total_amt_tw_ntd</th>\n      <th>total_freq_nontw_nonntd</th>\n      <th>total_freq_nontw_ntd</th>\n      <th>total_freq_tw_nonntd</th>\n      <th>total_freq_tw_ntd</th>\n      <th>total_tx</th>\n      <th>tx_per_day</th>\n      <th>bad_value</th>\n    </tr>\n  </thead>\n  <tbody>\n    <tr>\n      <th>0</th>\n      <td>4</td>\n      <td>9044.740741</td>\n      <td>3033.355556</td>\n      <td>NaN</td>\n      <td>1388.550403</td>\n      <td>1.350000</td>\n      <td>1.097561</td>\n      <td>NaN</td>\n      <td>2.147186</td>\n      <td>5.050000e+02</td>\n      <td>...</td>\n      <td>136501.0</td>\n      <td>NaN</td>\n      <td>688721.0</td>\n      <td>27.0</td>\n      <td>45.0</td>\n      <td>NaN</td>\n      <td>496.0</td>\n      <td>1.515000e+03</td>\n      <td>0.000000</td>\n      <td>24</td>\n    </tr>\n    <tr>\n      <th>1</th>\n      <td>2</td>\n      <td>NaN</td>\n      <td>NaN</td>\n      <td>NaN</td>\n      <td>NaN</td>\n      <td>NaN</td>\n      <td>NaN</td>\n      <td>NaN</td>\n      <td>NaN</td>\n      <td>6.973400e+04</td>\n      <td>...</td>\n      <td>NaN</td>\n      <td>NaN</td>\n      <td>NaN</td>\n      <td>NaN</td>\n      <td>NaN</td>\n      <td>NaN</td>\n      <td>NaN</td>\n      <td>2.092020e+05</td>\n      <td>0.000000</td>\n      <td>42</td>\n    </tr>\n    <tr>\n      <th>2</th>\n      <td>4</td>\n      <td>NaN</td>\n      <td>NaN</td>\n      <td>NaN</td>\n      <td>NaN</td>\n      <td>NaN</td>\n      <td>NaN</td>\n      <td>NaN</td>\n      <td>NaN</td>\n      <td>7.764825e+04</td>\n      <td>...</td>\n      <td>NaN</td>\n      <td>NaN</td>\n      <td>NaN</td>\n      <td>NaN</td>\n      <td>NaN</td>\n      <td>NaN</td>\n      <td>NaN</td>\n      <td>3.105930e+05</td>\n      <td>0.000000</td>\n      <td>42</td>\n    </tr>\n    <tr>\n      <th>3</th>\n      <td>4</td>\n      <td>NaN</td>\n      <td>NaN</td>\n      <td>NaN</td>\n      <td>1893.333333</td>\n      <td>NaN</td>\n      <td>NaN</td>\n      <td>NaN</td>\n      <td>1.500000</td>\n      <td>4.312500e+03</td>\n      <td>...</td>\n      <td>NaN</td>\n      <td>NaN</td>\n      <td>5680.0</td>\n      <td>NaN</td>\n      <td>NaN</td>\n      <td>NaN</td>\n      <td>3.0</td>\n      <td>4.312500e+04</td>\n      <td>0.000000</td>\n      <td>36</td>\n    </tr>\n    <tr>\n      <th>4</th>\n      <td>3</td>\n      <td>NaN</td>\n      <td>NaN</td>\n      <td>NaN</td>\n      <td>7048.368421</td>\n      <td>NaN</td>\n      <td>NaN</td>\n      <td>NaN</td>\n      <td>1.055556</td>\n      <td>4.939067e+03</td>\n      <td>...</td>\n      <td>NaN</td>\n      <td>NaN</td>\n      <td>133919.0</td>\n      <td>NaN</td>\n      <td>NaN</td>\n      <td>NaN</td>\n      <td>19.0</td>\n      <td>2.963440e+05</td>\n      <td>0.000000</td>\n      <td>36</td>\n    </tr>\n    <tr>\n      <th>...</th>\n      <td>...</td>\n      <td>...</td>\n      <td>...</td>\n      <td>...</td>\n      <td>...</td>\n      <td>...</td>\n      <td>...</td>\n      <td>...</td>\n      <td>...</td>\n      <td>...</td>\n      <td>...</td>\n      <td>...</td>\n      <td>...</td>\n      <td>...</td>\n      <td>...</td>\n      <td>...</td>\n      <td>...</td>\n      <td>...</td>\n      <td>...</td>\n      <td>...</td>\n      <td>...</td>\n    </tr>\n    <tr>\n      <th>23901</th>\n      <td>3</td>\n      <td>4332.523077</td>\n      <td>1223.939446</td>\n      <td>NaN</td>\n      <td>988.503826</td>\n      <td>1.160714</td>\n      <td>2.513043</td>\n      <td>NaN</td>\n      <td>6.668367</td>\n      <td>1.078873e+06</td>\n      <td>...</td>\n      <td>707437.0</td>\n      <td>NaN</td>\n      <td>2583949.0</td>\n      <td>65.0</td>\n      <td>578.0</td>\n      <td>NaN</td>\n      <td>2614.0</td>\n      <td>1.532000e+08</td>\n      <td>0.390110</td>\n      <td>22</td>\n    </tr>\n    <tr>\n      <th>23902</th>\n      <td>3</td>\n      <td>NaN</td>\n      <td>NaN</td>\n      <td>NaN</td>\n      <td>NaN</td>\n      <td>NaN</td>\n      <td>NaN</td>\n      <td>NaN</td>\n      <td>NaN</td>\n      <td>2.307641e+06</td>\n      <td>...</td>\n      <td>NaN</td>\n      <td>NaN</td>\n      <td>NaN</td>\n      <td>NaN</td>\n      <td>NaN</td>\n      <td>NaN</td>\n      <td>NaN</td>\n      <td>4.615283e+07</td>\n      <td>0.054945</td>\n      <td>40</td>\n    </tr>\n    <tr>\n      <th>23903</th>\n      <td>6</td>\n      <td>NaN</td>\n      <td>NaN</td>\n      <td>NaN</td>\n      <td>NaN</td>\n      <td>NaN</td>\n      <td>NaN</td>\n      <td>NaN</td>\n      <td>NaN</td>\n      <td>2.222531e+06</td>\n      <td>...</td>\n      <td>NaN</td>\n      <td>NaN</td>\n      <td>NaN</td>\n      <td>NaN</td>\n      <td>NaN</td>\n      <td>NaN</td>\n      <td>NaN</td>\n      <td>1.555772e+08</td>\n      <td>0.192308</td>\n      <td>40</td>\n    </tr>\n    <tr>\n      <th>23904</th>\n      <td>6</td>\n      <td>NaN</td>\n      <td>NaN</td>\n      <td>NaN</td>\n      <td>NaN</td>\n      <td>NaN</td>\n      <td>NaN</td>\n      <td>NaN</td>\n      <td>NaN</td>\n      <td>3.175717e+05</td>\n      <td>...</td>\n      <td>NaN</td>\n      <td>NaN</td>\n      <td>NaN</td>\n      <td>NaN</td>\n      <td>NaN</td>\n      <td>NaN</td>\n      <td>NaN</td>\n      <td>1.365559e+08</td>\n      <td>1.181319</td>\n      <td>40</td>\n    </tr>\n    <tr>\n      <th>23905</th>\n      <td>2</td>\n      <td>NaN</td>\n      <td>NaN</td>\n      <td>NaN</td>\n      <td>NaN</td>\n      <td>NaN</td>\n      <td>NaN</td>\n      <td>NaN</td>\n      <td>NaN</td>\n      <td>2.630657e+05</td>\n      <td>...</td>\n      <td>NaN</td>\n      <td>NaN</td>\n      <td>NaN</td>\n      <td>NaN</td>\n      <td>NaN</td>\n      <td>NaN</td>\n      <td>NaN</td>\n      <td>5.918977e+07</td>\n      <td>0.618132</td>\n      <td>40</td>\n    </tr>\n  </tbody>\n</table>\n<p>23906 rows × 49 columns</p>\n</div>"
     },
     "execution_count": 7,
     "metadata": {},
     "output_type": "execute_result"
    }
   ],
   "source": [
    "train['bad_value'] = train.isnull().sum(axis=1) + (train == 0).astype(int).sum(axis=1)\n",
    "train"
   ],
   "metadata": {
    "collapsed": false
   }
  },
  {
   "cell_type": "code",
   "execution_count": 8,
   "outputs": [
    {
     "data": {
      "text/plain": "       AGE  avg_amt_nontw_nonntd  avg_amt_nontw_ntd  avg_amt_tw_nonntd  \\\n0        4           9044.740741        3033.355556                NaN   \n3        4                   NaN                NaN                NaN   \n4        3                   NaN                NaN                NaN   \n5        6                   NaN                NaN                NaN   \n7        3                   NaN                NaN                NaN   \n...    ...                   ...                ...                ...   \n23901    3           4332.523077        1223.939446                NaN   \n23902    3                   NaN                NaN                NaN   \n23903    6                   NaN                NaN                NaN   \n23904    6                   NaN                NaN                NaN   \n23905    2                   NaN                NaN                NaN   \n\n       avg_amt_tw_ntd  avg_freq_nontw_nonntd  avg_freq_nontw_ntd  \\\n0        1.388550e+03               1.350000            1.097561   \n3        1.893333e+03                    NaN                 NaN   \n4        7.048368e+03                    NaN                 NaN   \n5        1.112640e+06                    NaN                 NaN   \n7        2.710122e+04                    NaN                 NaN   \n...               ...                    ...                 ...   \n23901    9.885038e+02               1.160714            2.513043   \n23902             NaN                    NaN                 NaN   \n23903             NaN                    NaN                 NaN   \n23904             NaN                    NaN                 NaN   \n23905             NaN                    NaN                 NaN   \n\n       avg_freq_tw_nonntd  avg_freq_tw_ntd        avg_tx  ...  \\\n0                     NaN         2.147186  5.050000e+02  ...   \n3                     NaN         1.500000  4.312500e+03  ...   \n4                     NaN         1.055556  4.939067e+03  ...   \n5                     NaN         2.000000  1.063333e+03  ...   \n7                     NaN         1.500000  1.916968e+05  ...   \n...                   ...              ...           ...  ...   \n23901                 NaN         6.668367  1.078873e+06  ...   \n23902                 NaN              NaN  2.307641e+06  ...   \n23903                 NaN              NaN  2.222531e+06  ...   \n23904                 NaN              NaN  3.175717e+05  ...   \n23905                 NaN              NaN  2.630657e+05  ...   \n\n       total_amt_nontw_ntd  total_amt_tw_nonntd  total_amt_tw_ntd  \\\n0                 136501.0                  NaN          688721.0   \n3                      NaN                  NaN            5680.0   \n4                      NaN                  NaN          133919.0   \n5                      NaN                  NaN        11126405.0   \n7                      NaN                  NaN          243911.0   \n...                    ...                  ...               ...   \n23901             707437.0                  NaN         2583949.0   \n23902                  NaN                  NaN               NaN   \n23903                  NaN                  NaN               NaN   \n23904                  NaN                  NaN               NaN   \n23905                  NaN                  NaN               NaN   \n\n       total_freq_nontw_nonntd  total_freq_nontw_ntd  total_freq_tw_nonntd  \\\n0                         27.0                  45.0                   NaN   \n3                          NaN                   NaN                   NaN   \n4                          NaN                   NaN                   NaN   \n5                          NaN                   NaN                   NaN   \n7                          NaN                   NaN                   NaN   \n...                        ...                   ...                   ...   \n23901                     65.0                 578.0                   NaN   \n23902                      NaN                   NaN                   NaN   \n23903                      NaN                   NaN                   NaN   \n23904                      NaN                   NaN                   NaN   \n23905                      NaN                   NaN                   NaN   \n\n       total_freq_tw_ntd      total_tx  tx_per_day  bad_value  \n0                  496.0  1.515000e+03    0.000000         24  \n3                    3.0  4.312500e+04    0.000000         36  \n4                   19.0  2.963440e+05    0.000000         36  \n5                   10.0  3.190000e+03    0.000000         36  \n7                    9.0  1.725271e+06    0.000000         36  \n...                  ...           ...         ...        ...  \n23901             2614.0  1.532000e+08    0.390110         22  \n23902                NaN  4.615283e+07    0.054945         40  \n23903                NaN  1.555772e+08    0.192308         40  \n23904                NaN  1.365559e+08    1.181319         40  \n23905                NaN  5.918977e+07    0.618132         40  \n\n[21781 rows x 49 columns]",
      "text/html": "<div>\n<style scoped>\n    .dataframe tbody tr th:only-of-type {\n        vertical-align: middle;\n    }\n\n    .dataframe tbody tr th {\n        vertical-align: top;\n    }\n\n    .dataframe thead th {\n        text-align: right;\n    }\n</style>\n<table border=\"1\" class=\"dataframe\">\n  <thead>\n    <tr style=\"text-align: right;\">\n      <th></th>\n      <th>AGE</th>\n      <th>avg_amt_nontw_nonntd</th>\n      <th>avg_amt_nontw_ntd</th>\n      <th>avg_amt_tw_nonntd</th>\n      <th>avg_amt_tw_ntd</th>\n      <th>avg_freq_nontw_nonntd</th>\n      <th>avg_freq_nontw_ntd</th>\n      <th>avg_freq_tw_nonntd</th>\n      <th>avg_freq_tw_ntd</th>\n      <th>avg_tx</th>\n      <th>...</th>\n      <th>total_amt_nontw_ntd</th>\n      <th>total_amt_tw_nonntd</th>\n      <th>total_amt_tw_ntd</th>\n      <th>total_freq_nontw_nonntd</th>\n      <th>total_freq_nontw_ntd</th>\n      <th>total_freq_tw_nonntd</th>\n      <th>total_freq_tw_ntd</th>\n      <th>total_tx</th>\n      <th>tx_per_day</th>\n      <th>bad_value</th>\n    </tr>\n  </thead>\n  <tbody>\n    <tr>\n      <th>0</th>\n      <td>4</td>\n      <td>9044.740741</td>\n      <td>3033.355556</td>\n      <td>NaN</td>\n      <td>1.388550e+03</td>\n      <td>1.350000</td>\n      <td>1.097561</td>\n      <td>NaN</td>\n      <td>2.147186</td>\n      <td>5.050000e+02</td>\n      <td>...</td>\n      <td>136501.0</td>\n      <td>NaN</td>\n      <td>688721.0</td>\n      <td>27.0</td>\n      <td>45.0</td>\n      <td>NaN</td>\n      <td>496.0</td>\n      <td>1.515000e+03</td>\n      <td>0.000000</td>\n      <td>24</td>\n    </tr>\n    <tr>\n      <th>3</th>\n      <td>4</td>\n      <td>NaN</td>\n      <td>NaN</td>\n      <td>NaN</td>\n      <td>1.893333e+03</td>\n      <td>NaN</td>\n      <td>NaN</td>\n      <td>NaN</td>\n      <td>1.500000</td>\n      <td>4.312500e+03</td>\n      <td>...</td>\n      <td>NaN</td>\n      <td>NaN</td>\n      <td>5680.0</td>\n      <td>NaN</td>\n      <td>NaN</td>\n      <td>NaN</td>\n      <td>3.0</td>\n      <td>4.312500e+04</td>\n      <td>0.000000</td>\n      <td>36</td>\n    </tr>\n    <tr>\n      <th>4</th>\n      <td>3</td>\n      <td>NaN</td>\n      <td>NaN</td>\n      <td>NaN</td>\n      <td>7.048368e+03</td>\n      <td>NaN</td>\n      <td>NaN</td>\n      <td>NaN</td>\n      <td>1.055556</td>\n      <td>4.939067e+03</td>\n      <td>...</td>\n      <td>NaN</td>\n      <td>NaN</td>\n      <td>133919.0</td>\n      <td>NaN</td>\n      <td>NaN</td>\n      <td>NaN</td>\n      <td>19.0</td>\n      <td>2.963440e+05</td>\n      <td>0.000000</td>\n      <td>36</td>\n    </tr>\n    <tr>\n      <th>5</th>\n      <td>6</td>\n      <td>NaN</td>\n      <td>NaN</td>\n      <td>NaN</td>\n      <td>1.112640e+06</td>\n      <td>NaN</td>\n      <td>NaN</td>\n      <td>NaN</td>\n      <td>2.000000</td>\n      <td>1.063333e+03</td>\n      <td>...</td>\n      <td>NaN</td>\n      <td>NaN</td>\n      <td>11126405.0</td>\n      <td>NaN</td>\n      <td>NaN</td>\n      <td>NaN</td>\n      <td>10.0</td>\n      <td>3.190000e+03</td>\n      <td>0.000000</td>\n      <td>36</td>\n    </tr>\n    <tr>\n      <th>7</th>\n      <td>3</td>\n      <td>NaN</td>\n      <td>NaN</td>\n      <td>NaN</td>\n      <td>2.710122e+04</td>\n      <td>NaN</td>\n      <td>NaN</td>\n      <td>NaN</td>\n      <td>1.500000</td>\n      <td>1.916968e+05</td>\n      <td>...</td>\n      <td>NaN</td>\n      <td>NaN</td>\n      <td>243911.0</td>\n      <td>NaN</td>\n      <td>NaN</td>\n      <td>NaN</td>\n      <td>9.0</td>\n      <td>1.725271e+06</td>\n      <td>0.000000</td>\n      <td>36</td>\n    </tr>\n    <tr>\n      <th>...</th>\n      <td>...</td>\n      <td>...</td>\n      <td>...</td>\n      <td>...</td>\n      <td>...</td>\n      <td>...</td>\n      <td>...</td>\n      <td>...</td>\n      <td>...</td>\n      <td>...</td>\n      <td>...</td>\n      <td>...</td>\n      <td>...</td>\n      <td>...</td>\n      <td>...</td>\n      <td>...</td>\n      <td>...</td>\n      <td>...</td>\n      <td>...</td>\n      <td>...</td>\n      <td>...</td>\n    </tr>\n    <tr>\n      <th>23901</th>\n      <td>3</td>\n      <td>4332.523077</td>\n      <td>1223.939446</td>\n      <td>NaN</td>\n      <td>9.885038e+02</td>\n      <td>1.160714</td>\n      <td>2.513043</td>\n      <td>NaN</td>\n      <td>6.668367</td>\n      <td>1.078873e+06</td>\n      <td>...</td>\n      <td>707437.0</td>\n      <td>NaN</td>\n      <td>2583949.0</td>\n      <td>65.0</td>\n      <td>578.0</td>\n      <td>NaN</td>\n      <td>2614.0</td>\n      <td>1.532000e+08</td>\n      <td>0.390110</td>\n      <td>22</td>\n    </tr>\n    <tr>\n      <th>23902</th>\n      <td>3</td>\n      <td>NaN</td>\n      <td>NaN</td>\n      <td>NaN</td>\n      <td>NaN</td>\n      <td>NaN</td>\n      <td>NaN</td>\n      <td>NaN</td>\n      <td>NaN</td>\n      <td>2.307641e+06</td>\n      <td>...</td>\n      <td>NaN</td>\n      <td>NaN</td>\n      <td>NaN</td>\n      <td>NaN</td>\n      <td>NaN</td>\n      <td>NaN</td>\n      <td>NaN</td>\n      <td>4.615283e+07</td>\n      <td>0.054945</td>\n      <td>40</td>\n    </tr>\n    <tr>\n      <th>23903</th>\n      <td>6</td>\n      <td>NaN</td>\n      <td>NaN</td>\n      <td>NaN</td>\n      <td>NaN</td>\n      <td>NaN</td>\n      <td>NaN</td>\n      <td>NaN</td>\n      <td>NaN</td>\n      <td>2.222531e+06</td>\n      <td>...</td>\n      <td>NaN</td>\n      <td>NaN</td>\n      <td>NaN</td>\n      <td>NaN</td>\n      <td>NaN</td>\n      <td>NaN</td>\n      <td>NaN</td>\n      <td>1.555772e+08</td>\n      <td>0.192308</td>\n      <td>40</td>\n    </tr>\n    <tr>\n      <th>23904</th>\n      <td>6</td>\n      <td>NaN</td>\n      <td>NaN</td>\n      <td>NaN</td>\n      <td>NaN</td>\n      <td>NaN</td>\n      <td>NaN</td>\n      <td>NaN</td>\n      <td>NaN</td>\n      <td>3.175717e+05</td>\n      <td>...</td>\n      <td>NaN</td>\n      <td>NaN</td>\n      <td>NaN</td>\n      <td>NaN</td>\n      <td>NaN</td>\n      <td>NaN</td>\n      <td>NaN</td>\n      <td>1.365559e+08</td>\n      <td>1.181319</td>\n      <td>40</td>\n    </tr>\n    <tr>\n      <th>23905</th>\n      <td>2</td>\n      <td>NaN</td>\n      <td>NaN</td>\n      <td>NaN</td>\n      <td>NaN</td>\n      <td>NaN</td>\n      <td>NaN</td>\n      <td>NaN</td>\n      <td>NaN</td>\n      <td>2.630657e+05</td>\n      <td>...</td>\n      <td>NaN</td>\n      <td>NaN</td>\n      <td>NaN</td>\n      <td>NaN</td>\n      <td>NaN</td>\n      <td>NaN</td>\n      <td>NaN</td>\n      <td>5.918977e+07</td>\n      <td>0.618132</td>\n      <td>40</td>\n    </tr>\n  </tbody>\n</table>\n<p>21781 rows × 49 columns</p>\n</div>"
     },
     "execution_count": 8,
     "metadata": {},
     "output_type": "execute_result"
    }
   ],
   "source": [
    "train = train.loc[train['bad_value']<41]\n",
    "train"
   ],
   "metadata": {
    "collapsed": false
   }
  },
  {
   "cell_type": "code",
   "execution_count": 9,
   "outputs": [
    {
     "name": "stderr",
     "output_type": "stream",
     "text": [
      "C:\\Users\\EDWINS~1\\AppData\\Local\\Temp/ipykernel_36356/4174439498.py:1: SettingWithCopyWarning: \n",
      "A value is trying to be set on a copy of a slice from a DataFrame.\n",
      "Try using .loc[row_indexer,col_indexer] = value instead\n",
      "\n",
      "See the caveats in the documentation: https://pandas.pydata.org/pandas-docs/stable/user_guide/indexing.html#returning-a-view-versus-a-copy\n",
      "  train.iloc[:, 1:] = train.iloc[:, 1:].fillna(0)\n"
     ]
    },
    {
     "data": {
      "text/plain": "       AGE  avg_amt_nontw_nonntd  avg_amt_nontw_ntd  avg_amt_tw_nonntd  \\\n0        4           9044.740741        3033.355556                0.0   \n3        4              0.000000           0.000000                0.0   \n4        3              0.000000           0.000000                0.0   \n5        6              0.000000           0.000000                0.0   \n7        3              0.000000           0.000000                0.0   \n...    ...                   ...                ...                ...   \n23901    3           4332.523077        1223.939446                0.0   \n23902    3              0.000000           0.000000                0.0   \n23903    6              0.000000           0.000000                0.0   \n23904    6              0.000000           0.000000                0.0   \n23905    2              0.000000           0.000000                0.0   \n\n       avg_amt_tw_ntd  avg_freq_nontw_nonntd  avg_freq_nontw_ntd  \\\n0        1.388550e+03               1.350000            1.097561   \n3        1.893333e+03               0.000000            0.000000   \n4        7.048368e+03               0.000000            0.000000   \n5        1.112640e+06               0.000000            0.000000   \n7        2.710122e+04               0.000000            0.000000   \n...               ...                    ...                 ...   \n23901    9.885038e+02               1.160714            2.513043   \n23902    0.000000e+00               0.000000            0.000000   \n23903    0.000000e+00               0.000000            0.000000   \n23904    0.000000e+00               0.000000            0.000000   \n23905    0.000000e+00               0.000000            0.000000   \n\n       avg_freq_tw_nonntd  avg_freq_tw_ntd        avg_tx  ...  \\\n0                     0.0         2.147186  5.050000e+02  ...   \n3                     0.0         1.500000  4.312500e+03  ...   \n4                     0.0         1.055556  4.939067e+03  ...   \n5                     0.0         2.000000  1.063333e+03  ...   \n7                     0.0         1.500000  1.916968e+05  ...   \n...                   ...              ...           ...  ...   \n23901                 0.0         6.668367  1.078873e+06  ...   \n23902                 0.0         0.000000  2.307641e+06  ...   \n23903                 0.0         0.000000  2.222531e+06  ...   \n23904                 0.0         0.000000  3.175717e+05  ...   \n23905                 0.0         0.000000  2.630657e+05  ...   \n\n       total_amt_nontw_ntd  total_amt_tw_nonntd  total_amt_tw_ntd  \\\n0                 136501.0                  0.0          688721.0   \n3                      0.0                  0.0            5680.0   \n4                      0.0                  0.0          133919.0   \n5                      0.0                  0.0        11126405.0   \n7                      0.0                  0.0          243911.0   \n...                    ...                  ...               ...   \n23901             707437.0                  0.0         2583949.0   \n23902                  0.0                  0.0               0.0   \n23903                  0.0                  0.0               0.0   \n23904                  0.0                  0.0               0.0   \n23905                  0.0                  0.0               0.0   \n\n       total_freq_nontw_nonntd  total_freq_nontw_ntd  total_freq_tw_nonntd  \\\n0                         27.0                  45.0                   0.0   \n3                          0.0                   0.0                   0.0   \n4                          0.0                   0.0                   0.0   \n5                          0.0                   0.0                   0.0   \n7                          0.0                   0.0                   0.0   \n...                        ...                   ...                   ...   \n23901                     65.0                 578.0                   0.0   \n23902                      0.0                   0.0                   0.0   \n23903                      0.0                   0.0                   0.0   \n23904                      0.0                   0.0                   0.0   \n23905                      0.0                   0.0                   0.0   \n\n       total_freq_tw_ntd      total_tx  tx_per_day  bad_value  \n0                  496.0  1.515000e+03    0.000000         24  \n3                    3.0  4.312500e+04    0.000000         36  \n4                   19.0  2.963440e+05    0.000000         36  \n5                   10.0  3.190000e+03    0.000000         36  \n7                    9.0  1.725271e+06    0.000000         36  \n...                  ...           ...         ...        ...  \n23901             2614.0  1.532000e+08    0.390110         22  \n23902                0.0  4.615283e+07    0.054945         40  \n23903                0.0  1.555772e+08    0.192308         40  \n23904                0.0  1.365559e+08    1.181319         40  \n23905                0.0  5.918977e+07    0.618132         40  \n\n[21781 rows x 49 columns]",
      "text/html": "<div>\n<style scoped>\n    .dataframe tbody tr th:only-of-type {\n        vertical-align: middle;\n    }\n\n    .dataframe tbody tr th {\n        vertical-align: top;\n    }\n\n    .dataframe thead th {\n        text-align: right;\n    }\n</style>\n<table border=\"1\" class=\"dataframe\">\n  <thead>\n    <tr style=\"text-align: right;\">\n      <th></th>\n      <th>AGE</th>\n      <th>avg_amt_nontw_nonntd</th>\n      <th>avg_amt_nontw_ntd</th>\n      <th>avg_amt_tw_nonntd</th>\n      <th>avg_amt_tw_ntd</th>\n      <th>avg_freq_nontw_nonntd</th>\n      <th>avg_freq_nontw_ntd</th>\n      <th>avg_freq_tw_nonntd</th>\n      <th>avg_freq_tw_ntd</th>\n      <th>avg_tx</th>\n      <th>...</th>\n      <th>total_amt_nontw_ntd</th>\n      <th>total_amt_tw_nonntd</th>\n      <th>total_amt_tw_ntd</th>\n      <th>total_freq_nontw_nonntd</th>\n      <th>total_freq_nontw_ntd</th>\n      <th>total_freq_tw_nonntd</th>\n      <th>total_freq_tw_ntd</th>\n      <th>total_tx</th>\n      <th>tx_per_day</th>\n      <th>bad_value</th>\n    </tr>\n  </thead>\n  <tbody>\n    <tr>\n      <th>0</th>\n      <td>4</td>\n      <td>9044.740741</td>\n      <td>3033.355556</td>\n      <td>0.0</td>\n      <td>1.388550e+03</td>\n      <td>1.350000</td>\n      <td>1.097561</td>\n      <td>0.0</td>\n      <td>2.147186</td>\n      <td>5.050000e+02</td>\n      <td>...</td>\n      <td>136501.0</td>\n      <td>0.0</td>\n      <td>688721.0</td>\n      <td>27.0</td>\n      <td>45.0</td>\n      <td>0.0</td>\n      <td>496.0</td>\n      <td>1.515000e+03</td>\n      <td>0.000000</td>\n      <td>24</td>\n    </tr>\n    <tr>\n      <th>3</th>\n      <td>4</td>\n      <td>0.000000</td>\n      <td>0.000000</td>\n      <td>0.0</td>\n      <td>1.893333e+03</td>\n      <td>0.000000</td>\n      <td>0.000000</td>\n      <td>0.0</td>\n      <td>1.500000</td>\n      <td>4.312500e+03</td>\n      <td>...</td>\n      <td>0.0</td>\n      <td>0.0</td>\n      <td>5680.0</td>\n      <td>0.0</td>\n      <td>0.0</td>\n      <td>0.0</td>\n      <td>3.0</td>\n      <td>4.312500e+04</td>\n      <td>0.000000</td>\n      <td>36</td>\n    </tr>\n    <tr>\n      <th>4</th>\n      <td>3</td>\n      <td>0.000000</td>\n      <td>0.000000</td>\n      <td>0.0</td>\n      <td>7.048368e+03</td>\n      <td>0.000000</td>\n      <td>0.000000</td>\n      <td>0.0</td>\n      <td>1.055556</td>\n      <td>4.939067e+03</td>\n      <td>...</td>\n      <td>0.0</td>\n      <td>0.0</td>\n      <td>133919.0</td>\n      <td>0.0</td>\n      <td>0.0</td>\n      <td>0.0</td>\n      <td>19.0</td>\n      <td>2.963440e+05</td>\n      <td>0.000000</td>\n      <td>36</td>\n    </tr>\n    <tr>\n      <th>5</th>\n      <td>6</td>\n      <td>0.000000</td>\n      <td>0.000000</td>\n      <td>0.0</td>\n      <td>1.112640e+06</td>\n      <td>0.000000</td>\n      <td>0.000000</td>\n      <td>0.0</td>\n      <td>2.000000</td>\n      <td>1.063333e+03</td>\n      <td>...</td>\n      <td>0.0</td>\n      <td>0.0</td>\n      <td>11126405.0</td>\n      <td>0.0</td>\n      <td>0.0</td>\n      <td>0.0</td>\n      <td>10.0</td>\n      <td>3.190000e+03</td>\n      <td>0.000000</td>\n      <td>36</td>\n    </tr>\n    <tr>\n      <th>7</th>\n      <td>3</td>\n      <td>0.000000</td>\n      <td>0.000000</td>\n      <td>0.0</td>\n      <td>2.710122e+04</td>\n      <td>0.000000</td>\n      <td>0.000000</td>\n      <td>0.0</td>\n      <td>1.500000</td>\n      <td>1.916968e+05</td>\n      <td>...</td>\n      <td>0.0</td>\n      <td>0.0</td>\n      <td>243911.0</td>\n      <td>0.0</td>\n      <td>0.0</td>\n      <td>0.0</td>\n      <td>9.0</td>\n      <td>1.725271e+06</td>\n      <td>0.000000</td>\n      <td>36</td>\n    </tr>\n    <tr>\n      <th>...</th>\n      <td>...</td>\n      <td>...</td>\n      <td>...</td>\n      <td>...</td>\n      <td>...</td>\n      <td>...</td>\n      <td>...</td>\n      <td>...</td>\n      <td>...</td>\n      <td>...</td>\n      <td>...</td>\n      <td>...</td>\n      <td>...</td>\n      <td>...</td>\n      <td>...</td>\n      <td>...</td>\n      <td>...</td>\n      <td>...</td>\n      <td>...</td>\n      <td>...</td>\n      <td>...</td>\n    </tr>\n    <tr>\n      <th>23901</th>\n      <td>3</td>\n      <td>4332.523077</td>\n      <td>1223.939446</td>\n      <td>0.0</td>\n      <td>9.885038e+02</td>\n      <td>1.160714</td>\n      <td>2.513043</td>\n      <td>0.0</td>\n      <td>6.668367</td>\n      <td>1.078873e+06</td>\n      <td>...</td>\n      <td>707437.0</td>\n      <td>0.0</td>\n      <td>2583949.0</td>\n      <td>65.0</td>\n      <td>578.0</td>\n      <td>0.0</td>\n      <td>2614.0</td>\n      <td>1.532000e+08</td>\n      <td>0.390110</td>\n      <td>22</td>\n    </tr>\n    <tr>\n      <th>23902</th>\n      <td>3</td>\n      <td>0.000000</td>\n      <td>0.000000</td>\n      <td>0.0</td>\n      <td>0.000000e+00</td>\n      <td>0.000000</td>\n      <td>0.000000</td>\n      <td>0.0</td>\n      <td>0.000000</td>\n      <td>2.307641e+06</td>\n      <td>...</td>\n      <td>0.0</td>\n      <td>0.0</td>\n      <td>0.0</td>\n      <td>0.0</td>\n      <td>0.0</td>\n      <td>0.0</td>\n      <td>0.0</td>\n      <td>4.615283e+07</td>\n      <td>0.054945</td>\n      <td>40</td>\n    </tr>\n    <tr>\n      <th>23903</th>\n      <td>6</td>\n      <td>0.000000</td>\n      <td>0.000000</td>\n      <td>0.0</td>\n      <td>0.000000e+00</td>\n      <td>0.000000</td>\n      <td>0.000000</td>\n      <td>0.0</td>\n      <td>0.000000</td>\n      <td>2.222531e+06</td>\n      <td>...</td>\n      <td>0.0</td>\n      <td>0.0</td>\n      <td>0.0</td>\n      <td>0.0</td>\n      <td>0.0</td>\n      <td>0.0</td>\n      <td>0.0</td>\n      <td>1.555772e+08</td>\n      <td>0.192308</td>\n      <td>40</td>\n    </tr>\n    <tr>\n      <th>23904</th>\n      <td>6</td>\n      <td>0.000000</td>\n      <td>0.000000</td>\n      <td>0.0</td>\n      <td>0.000000e+00</td>\n      <td>0.000000</td>\n      <td>0.000000</td>\n      <td>0.0</td>\n      <td>0.000000</td>\n      <td>3.175717e+05</td>\n      <td>...</td>\n      <td>0.0</td>\n      <td>0.0</td>\n      <td>0.0</td>\n      <td>0.0</td>\n      <td>0.0</td>\n      <td>0.0</td>\n      <td>0.0</td>\n      <td>1.365559e+08</td>\n      <td>1.181319</td>\n      <td>40</td>\n    </tr>\n    <tr>\n      <th>23905</th>\n      <td>2</td>\n      <td>0.000000</td>\n      <td>0.000000</td>\n      <td>0.0</td>\n      <td>0.000000e+00</td>\n      <td>0.000000</td>\n      <td>0.000000</td>\n      <td>0.0</td>\n      <td>0.000000</td>\n      <td>2.630657e+05</td>\n      <td>...</td>\n      <td>0.0</td>\n      <td>0.0</td>\n      <td>0.0</td>\n      <td>0.0</td>\n      <td>0.0</td>\n      <td>0.0</td>\n      <td>0.0</td>\n      <td>5.918977e+07</td>\n      <td>0.618132</td>\n      <td>40</td>\n    </tr>\n  </tbody>\n</table>\n<p>21781 rows × 49 columns</p>\n</div>"
     },
     "execution_count": 9,
     "metadata": {},
     "output_type": "execute_result"
    }
   ],
   "source": [
    "train.iloc[:, 1:] = train.iloc[:, 1:].fillna(0)\n",
    "train"
   ],
   "metadata": {
    "collapsed": false
   }
  },
  {
   "cell_type": "code",
   "execution_count": 10,
   "outputs": [
    {
     "data": {
      "text/plain": "       AGE  avg_amt_nontw_nonntd  avg_amt_nontw_ntd  avg_amt_tw_nonntd  \\\n0        4           9044.740741        3033.355556                0.0   \n3        4              0.000000           0.000000                0.0   \n4        3              0.000000           0.000000                0.0   \n5        6              0.000000           0.000000                0.0   \n7        3              0.000000           0.000000                0.0   \n...    ...                   ...                ...                ...   \n23901    3           4332.523077        1223.939446                0.0   \n23902    3              0.000000           0.000000                0.0   \n23903    6              0.000000           0.000000                0.0   \n23904    6              0.000000           0.000000                0.0   \n23905    2              0.000000           0.000000                0.0   \n\n       avg_amt_tw_ntd  avg_freq_nontw_nonntd  avg_freq_nontw_ntd  \\\n0        1.388550e+03               1.350000            1.097561   \n3        1.893333e+03               0.000000            0.000000   \n4        7.048368e+03               0.000000            0.000000   \n5        1.112640e+06               0.000000            0.000000   \n7        2.710122e+04               0.000000            0.000000   \n...               ...                    ...                 ...   \n23901    9.885038e+02               1.160714            2.513043   \n23902    0.000000e+00               0.000000            0.000000   \n23903    0.000000e+00               0.000000            0.000000   \n23904    0.000000e+00               0.000000            0.000000   \n23905    0.000000e+00               0.000000            0.000000   \n\n       avg_freq_tw_nonntd  avg_freq_tw_ntd        avg_tx  ...  \\\n0                     0.0         2.147186  5.050000e+02  ...   \n3                     0.0         1.500000  4.312500e+03  ...   \n4                     0.0         1.055556  4.939067e+03  ...   \n5                     0.0         2.000000  1.063333e+03  ...   \n7                     0.0         1.500000  1.916968e+05  ...   \n...                   ...              ...           ...  ...   \n23901                 0.0         6.668367  1.078873e+06  ...   \n23902                 0.0         0.000000  2.307641e+06  ...   \n23903                 0.0         0.000000  2.222531e+06  ...   \n23904                 0.0         0.000000  3.175717e+05  ...   \n23905                 0.0         0.000000  2.630657e+05  ...   \n\n       total_amt_nontw_nonntd  total_amt_nontw_ntd  total_amt_tw_nonntd  \\\n0                    244208.0             136501.0                  0.0   \n3                         0.0                  0.0                  0.0   \n4                         0.0                  0.0                  0.0   \n5                         0.0                  0.0                  0.0   \n7                         0.0                  0.0                  0.0   \n...                       ...                  ...                  ...   \n23901                281614.0             707437.0                  0.0   \n23902                     0.0                  0.0                  0.0   \n23903                     0.0                  0.0                  0.0   \n23904                     0.0                  0.0                  0.0   \n23905                     0.0                  0.0                  0.0   \n\n       total_amt_tw_ntd  total_freq_nontw_nonntd  total_freq_nontw_ntd  \\\n0              688721.0                     27.0                  45.0   \n3                5680.0                      0.0                   0.0   \n4              133919.0                      0.0                   0.0   \n5            11126405.0                      0.0                   0.0   \n7              243911.0                      0.0                   0.0   \n...                 ...                      ...                   ...   \n23901         2583949.0                     65.0                 578.0   \n23902               0.0                      0.0                   0.0   \n23903               0.0                      0.0                   0.0   \n23904               0.0                      0.0                   0.0   \n23905               0.0                      0.0                   0.0   \n\n       total_freq_tw_nonntd  total_freq_tw_ntd      total_tx  tx_per_day  \n0                       0.0              496.0  1.515000e+03    0.000000  \n3                       0.0                3.0  4.312500e+04    0.000000  \n4                       0.0               19.0  2.963440e+05    0.000000  \n5                       0.0               10.0  3.190000e+03    0.000000  \n7                       0.0                9.0  1.725271e+06    0.000000  \n...                     ...                ...           ...         ...  \n23901                   0.0             2614.0  1.532000e+08    0.390110  \n23902                   0.0                0.0  4.615283e+07    0.054945  \n23903                   0.0                0.0  1.555772e+08    0.192308  \n23904                   0.0                0.0  1.365559e+08    1.181319  \n23905                   0.0                0.0  5.918977e+07    0.618132  \n\n[21781 rows x 48 columns]",
      "text/html": "<div>\n<style scoped>\n    .dataframe tbody tr th:only-of-type {\n        vertical-align: middle;\n    }\n\n    .dataframe tbody tr th {\n        vertical-align: top;\n    }\n\n    .dataframe thead th {\n        text-align: right;\n    }\n</style>\n<table border=\"1\" class=\"dataframe\">\n  <thead>\n    <tr style=\"text-align: right;\">\n      <th></th>\n      <th>AGE</th>\n      <th>avg_amt_nontw_nonntd</th>\n      <th>avg_amt_nontw_ntd</th>\n      <th>avg_amt_tw_nonntd</th>\n      <th>avg_amt_tw_ntd</th>\n      <th>avg_freq_nontw_nonntd</th>\n      <th>avg_freq_nontw_ntd</th>\n      <th>avg_freq_tw_nonntd</th>\n      <th>avg_freq_tw_ntd</th>\n      <th>avg_tx</th>\n      <th>...</th>\n      <th>total_amt_nontw_nonntd</th>\n      <th>total_amt_nontw_ntd</th>\n      <th>total_amt_tw_nonntd</th>\n      <th>total_amt_tw_ntd</th>\n      <th>total_freq_nontw_nonntd</th>\n      <th>total_freq_nontw_ntd</th>\n      <th>total_freq_tw_nonntd</th>\n      <th>total_freq_tw_ntd</th>\n      <th>total_tx</th>\n      <th>tx_per_day</th>\n    </tr>\n  </thead>\n  <tbody>\n    <tr>\n      <th>0</th>\n      <td>4</td>\n      <td>9044.740741</td>\n      <td>3033.355556</td>\n      <td>0.0</td>\n      <td>1.388550e+03</td>\n      <td>1.350000</td>\n      <td>1.097561</td>\n      <td>0.0</td>\n      <td>2.147186</td>\n      <td>5.050000e+02</td>\n      <td>...</td>\n      <td>244208.0</td>\n      <td>136501.0</td>\n      <td>0.0</td>\n      <td>688721.0</td>\n      <td>27.0</td>\n      <td>45.0</td>\n      <td>0.0</td>\n      <td>496.0</td>\n      <td>1.515000e+03</td>\n      <td>0.000000</td>\n    </tr>\n    <tr>\n      <th>3</th>\n      <td>4</td>\n      <td>0.000000</td>\n      <td>0.000000</td>\n      <td>0.0</td>\n      <td>1.893333e+03</td>\n      <td>0.000000</td>\n      <td>0.000000</td>\n      <td>0.0</td>\n      <td>1.500000</td>\n      <td>4.312500e+03</td>\n      <td>...</td>\n      <td>0.0</td>\n      <td>0.0</td>\n      <td>0.0</td>\n      <td>5680.0</td>\n      <td>0.0</td>\n      <td>0.0</td>\n      <td>0.0</td>\n      <td>3.0</td>\n      <td>4.312500e+04</td>\n      <td>0.000000</td>\n    </tr>\n    <tr>\n      <th>4</th>\n      <td>3</td>\n      <td>0.000000</td>\n      <td>0.000000</td>\n      <td>0.0</td>\n      <td>7.048368e+03</td>\n      <td>0.000000</td>\n      <td>0.000000</td>\n      <td>0.0</td>\n      <td>1.055556</td>\n      <td>4.939067e+03</td>\n      <td>...</td>\n      <td>0.0</td>\n      <td>0.0</td>\n      <td>0.0</td>\n      <td>133919.0</td>\n      <td>0.0</td>\n      <td>0.0</td>\n      <td>0.0</td>\n      <td>19.0</td>\n      <td>2.963440e+05</td>\n      <td>0.000000</td>\n    </tr>\n    <tr>\n      <th>5</th>\n      <td>6</td>\n      <td>0.000000</td>\n      <td>0.000000</td>\n      <td>0.0</td>\n      <td>1.112640e+06</td>\n      <td>0.000000</td>\n      <td>0.000000</td>\n      <td>0.0</td>\n      <td>2.000000</td>\n      <td>1.063333e+03</td>\n      <td>...</td>\n      <td>0.0</td>\n      <td>0.0</td>\n      <td>0.0</td>\n      <td>11126405.0</td>\n      <td>0.0</td>\n      <td>0.0</td>\n      <td>0.0</td>\n      <td>10.0</td>\n      <td>3.190000e+03</td>\n      <td>0.000000</td>\n    </tr>\n    <tr>\n      <th>7</th>\n      <td>3</td>\n      <td>0.000000</td>\n      <td>0.000000</td>\n      <td>0.0</td>\n      <td>2.710122e+04</td>\n      <td>0.000000</td>\n      <td>0.000000</td>\n      <td>0.0</td>\n      <td>1.500000</td>\n      <td>1.916968e+05</td>\n      <td>...</td>\n      <td>0.0</td>\n      <td>0.0</td>\n      <td>0.0</td>\n      <td>243911.0</td>\n      <td>0.0</td>\n      <td>0.0</td>\n      <td>0.0</td>\n      <td>9.0</td>\n      <td>1.725271e+06</td>\n      <td>0.000000</td>\n    </tr>\n    <tr>\n      <th>...</th>\n      <td>...</td>\n      <td>...</td>\n      <td>...</td>\n      <td>...</td>\n      <td>...</td>\n      <td>...</td>\n      <td>...</td>\n      <td>...</td>\n      <td>...</td>\n      <td>...</td>\n      <td>...</td>\n      <td>...</td>\n      <td>...</td>\n      <td>...</td>\n      <td>...</td>\n      <td>...</td>\n      <td>...</td>\n      <td>...</td>\n      <td>...</td>\n      <td>...</td>\n      <td>...</td>\n    </tr>\n    <tr>\n      <th>23901</th>\n      <td>3</td>\n      <td>4332.523077</td>\n      <td>1223.939446</td>\n      <td>0.0</td>\n      <td>9.885038e+02</td>\n      <td>1.160714</td>\n      <td>2.513043</td>\n      <td>0.0</td>\n      <td>6.668367</td>\n      <td>1.078873e+06</td>\n      <td>...</td>\n      <td>281614.0</td>\n      <td>707437.0</td>\n      <td>0.0</td>\n      <td>2583949.0</td>\n      <td>65.0</td>\n      <td>578.0</td>\n      <td>0.0</td>\n      <td>2614.0</td>\n      <td>1.532000e+08</td>\n      <td>0.390110</td>\n    </tr>\n    <tr>\n      <th>23902</th>\n      <td>3</td>\n      <td>0.000000</td>\n      <td>0.000000</td>\n      <td>0.0</td>\n      <td>0.000000e+00</td>\n      <td>0.000000</td>\n      <td>0.000000</td>\n      <td>0.0</td>\n      <td>0.000000</td>\n      <td>2.307641e+06</td>\n      <td>...</td>\n      <td>0.0</td>\n      <td>0.0</td>\n      <td>0.0</td>\n      <td>0.0</td>\n      <td>0.0</td>\n      <td>0.0</td>\n      <td>0.0</td>\n      <td>0.0</td>\n      <td>4.615283e+07</td>\n      <td>0.054945</td>\n    </tr>\n    <tr>\n      <th>23903</th>\n      <td>6</td>\n      <td>0.000000</td>\n      <td>0.000000</td>\n      <td>0.0</td>\n      <td>0.000000e+00</td>\n      <td>0.000000</td>\n      <td>0.000000</td>\n      <td>0.0</td>\n      <td>0.000000</td>\n      <td>2.222531e+06</td>\n      <td>...</td>\n      <td>0.0</td>\n      <td>0.0</td>\n      <td>0.0</td>\n      <td>0.0</td>\n      <td>0.0</td>\n      <td>0.0</td>\n      <td>0.0</td>\n      <td>0.0</td>\n      <td>1.555772e+08</td>\n      <td>0.192308</td>\n    </tr>\n    <tr>\n      <th>23904</th>\n      <td>6</td>\n      <td>0.000000</td>\n      <td>0.000000</td>\n      <td>0.0</td>\n      <td>0.000000e+00</td>\n      <td>0.000000</td>\n      <td>0.000000</td>\n      <td>0.0</td>\n      <td>0.000000</td>\n      <td>3.175717e+05</td>\n      <td>...</td>\n      <td>0.0</td>\n      <td>0.0</td>\n      <td>0.0</td>\n      <td>0.0</td>\n      <td>0.0</td>\n      <td>0.0</td>\n      <td>0.0</td>\n      <td>0.0</td>\n      <td>1.365559e+08</td>\n      <td>1.181319</td>\n    </tr>\n    <tr>\n      <th>23905</th>\n      <td>2</td>\n      <td>0.000000</td>\n      <td>0.000000</td>\n      <td>0.0</td>\n      <td>0.000000e+00</td>\n      <td>0.000000</td>\n      <td>0.000000</td>\n      <td>0.0</td>\n      <td>0.000000</td>\n      <td>2.630657e+05</td>\n      <td>...</td>\n      <td>0.0</td>\n      <td>0.0</td>\n      <td>0.0</td>\n      <td>0.0</td>\n      <td>0.0</td>\n      <td>0.0</td>\n      <td>0.0</td>\n      <td>0.0</td>\n      <td>5.918977e+07</td>\n      <td>0.618132</td>\n    </tr>\n  </tbody>\n</table>\n<p>21781 rows × 48 columns</p>\n</div>"
     },
     "execution_count": 10,
     "metadata": {},
     "output_type": "execute_result"
    }
   ],
   "source": [
    "train = train.drop(['bad_value'], axis=1)\n",
    "train"
   ],
   "metadata": {
    "collapsed": false
   }
  },
  {
   "cell_type": "code",
   "execution_count": 11,
   "outputs": [
    {
     "data": {
      "text/plain": "       AGE  avg_amt_nontw_nonntd  avg_amt_nontw_ntd  avg_amt_tw_nonntd  \\\n0        4           9044.740741        3033.355556                0.0   \n3        4              0.000000           0.000000                0.0   \n4        3              0.000000           0.000000                0.0   \n5        6              0.000000           0.000000                0.0   \n7        3              0.000000           0.000000                0.0   \n...    ...                   ...                ...                ...   \n23901    3           4332.523077        1223.939446                0.0   \n23902    3              0.000000           0.000000                0.0   \n23903    6              0.000000           0.000000                0.0   \n23904    6              0.000000           0.000000                0.0   \n23905    2              0.000000           0.000000                0.0   \n\n       avg_amt_tw_ntd  avg_freq_nontw_nonntd  avg_freq_nontw_ntd  \\\n0        1.388550e+03               1.350000            1.097561   \n3        1.893333e+03               0.000000            0.000000   \n4        7.048368e+03               0.000000            0.000000   \n5        1.112640e+06               0.000000            0.000000   \n7        2.710122e+04               0.000000            0.000000   \n...               ...                    ...                 ...   \n23901    9.885038e+02               1.160714            2.513043   \n23902    0.000000e+00               0.000000            0.000000   \n23903    0.000000e+00               0.000000            0.000000   \n23904    0.000000e+00               0.000000            0.000000   \n23905    0.000000e+00               0.000000            0.000000   \n\n       avg_freq_tw_nonntd  avg_freq_tw_ntd        avg_tx  ...  \\\n0                     0.0         2.147186  5.050000e+02  ...   \n3                     0.0         1.500000  4.312500e+03  ...   \n4                     0.0         1.055556  4.939067e+03  ...   \n5                     0.0         2.000000  1.063333e+03  ...   \n7                     0.0         1.500000  1.916968e+05  ...   \n...                   ...              ...           ...  ...   \n23901                 0.0         6.668367  1.078873e+06  ...   \n23902                 0.0         0.000000  2.307641e+06  ...   \n23903                 0.0         0.000000  2.222531e+06  ...   \n23904                 0.0         0.000000  3.175717e+05  ...   \n23905                 0.0         0.000000  2.630657e+05  ...   \n\n       total_amt_nontw_nonntd  total_amt_nontw_ntd  total_amt_tw_nonntd  \\\n0                    244208.0             136501.0                  0.0   \n3                         0.0                  0.0                  0.0   \n4                         0.0                  0.0                  0.0   \n5                         0.0                  0.0                  0.0   \n7                         0.0                  0.0                  0.0   \n...                       ...                  ...                  ...   \n23901                281614.0             707437.0                  0.0   \n23902                     0.0                  0.0                  0.0   \n23903                     0.0                  0.0                  0.0   \n23904                     0.0                  0.0                  0.0   \n23905                     0.0                  0.0                  0.0   \n\n       total_amt_tw_ntd  total_freq_nontw_nonntd  total_freq_nontw_ntd  \\\n0              688721.0                     27.0                  45.0   \n3                5680.0                      0.0                   0.0   \n4              133919.0                      0.0                   0.0   \n5            11126405.0                      0.0                   0.0   \n7              243911.0                      0.0                   0.0   \n...                 ...                      ...                   ...   \n23901         2583949.0                     65.0                 578.0   \n23902               0.0                      0.0                   0.0   \n23903               0.0                      0.0                   0.0   \n23904               0.0                      0.0                   0.0   \n23905               0.0                      0.0                   0.0   \n\n       total_freq_tw_nonntd  total_freq_tw_ntd      total_tx  tx_per_day  \n0                       0.0              496.0  1.515000e+03    0.000000  \n3                       0.0                3.0  4.312500e+04    0.000000  \n4                       0.0               19.0  2.963440e+05    0.000000  \n5                       0.0               10.0  3.190000e+03    0.000000  \n7                       0.0                9.0  1.725271e+06    0.000000  \n...                     ...                ...           ...         ...  \n23901                   0.0             2614.0  1.532000e+08    0.390110  \n23902                   0.0                0.0  4.615283e+07    0.054945  \n23903                   0.0                0.0  1.555772e+08    0.192308  \n23904                   0.0                0.0  1.365559e+08    1.181319  \n23905                   0.0                0.0  5.918977e+07    0.618132  \n\n[21781 rows x 47 columns]",
      "text/html": "<div>\n<style scoped>\n    .dataframe tbody tr th:only-of-type {\n        vertical-align: middle;\n    }\n\n    .dataframe tbody tr th {\n        vertical-align: top;\n    }\n\n    .dataframe thead th {\n        text-align: right;\n    }\n</style>\n<table border=\"1\" class=\"dataframe\">\n  <thead>\n    <tr style=\"text-align: right;\">\n      <th></th>\n      <th>AGE</th>\n      <th>avg_amt_nontw_nonntd</th>\n      <th>avg_amt_nontw_ntd</th>\n      <th>avg_amt_tw_nonntd</th>\n      <th>avg_amt_tw_ntd</th>\n      <th>avg_freq_nontw_nonntd</th>\n      <th>avg_freq_nontw_ntd</th>\n      <th>avg_freq_tw_nonntd</th>\n      <th>avg_freq_tw_ntd</th>\n      <th>avg_tx</th>\n      <th>...</th>\n      <th>total_amt_nontw_nonntd</th>\n      <th>total_amt_nontw_ntd</th>\n      <th>total_amt_tw_nonntd</th>\n      <th>total_amt_tw_ntd</th>\n      <th>total_freq_nontw_nonntd</th>\n      <th>total_freq_nontw_ntd</th>\n      <th>total_freq_tw_nonntd</th>\n      <th>total_freq_tw_ntd</th>\n      <th>total_tx</th>\n      <th>tx_per_day</th>\n    </tr>\n  </thead>\n  <tbody>\n    <tr>\n      <th>0</th>\n      <td>4</td>\n      <td>9044.740741</td>\n      <td>3033.355556</td>\n      <td>0.0</td>\n      <td>1.388550e+03</td>\n      <td>1.350000</td>\n      <td>1.097561</td>\n      <td>0.0</td>\n      <td>2.147186</td>\n      <td>5.050000e+02</td>\n      <td>...</td>\n      <td>244208.0</td>\n      <td>136501.0</td>\n      <td>0.0</td>\n      <td>688721.0</td>\n      <td>27.0</td>\n      <td>45.0</td>\n      <td>0.0</td>\n      <td>496.0</td>\n      <td>1.515000e+03</td>\n      <td>0.000000</td>\n    </tr>\n    <tr>\n      <th>3</th>\n      <td>4</td>\n      <td>0.000000</td>\n      <td>0.000000</td>\n      <td>0.0</td>\n      <td>1.893333e+03</td>\n      <td>0.000000</td>\n      <td>0.000000</td>\n      <td>0.0</td>\n      <td>1.500000</td>\n      <td>4.312500e+03</td>\n      <td>...</td>\n      <td>0.0</td>\n      <td>0.0</td>\n      <td>0.0</td>\n      <td>5680.0</td>\n      <td>0.0</td>\n      <td>0.0</td>\n      <td>0.0</td>\n      <td>3.0</td>\n      <td>4.312500e+04</td>\n      <td>0.000000</td>\n    </tr>\n    <tr>\n      <th>4</th>\n      <td>3</td>\n      <td>0.000000</td>\n      <td>0.000000</td>\n      <td>0.0</td>\n      <td>7.048368e+03</td>\n      <td>0.000000</td>\n      <td>0.000000</td>\n      <td>0.0</td>\n      <td>1.055556</td>\n      <td>4.939067e+03</td>\n      <td>...</td>\n      <td>0.0</td>\n      <td>0.0</td>\n      <td>0.0</td>\n      <td>133919.0</td>\n      <td>0.0</td>\n      <td>0.0</td>\n      <td>0.0</td>\n      <td>19.0</td>\n      <td>2.963440e+05</td>\n      <td>0.000000</td>\n    </tr>\n    <tr>\n      <th>5</th>\n      <td>6</td>\n      <td>0.000000</td>\n      <td>0.000000</td>\n      <td>0.0</td>\n      <td>1.112640e+06</td>\n      <td>0.000000</td>\n      <td>0.000000</td>\n      <td>0.0</td>\n      <td>2.000000</td>\n      <td>1.063333e+03</td>\n      <td>...</td>\n      <td>0.0</td>\n      <td>0.0</td>\n      <td>0.0</td>\n      <td>11126405.0</td>\n      <td>0.0</td>\n      <td>0.0</td>\n      <td>0.0</td>\n      <td>10.0</td>\n      <td>3.190000e+03</td>\n      <td>0.000000</td>\n    </tr>\n    <tr>\n      <th>7</th>\n      <td>3</td>\n      <td>0.000000</td>\n      <td>0.000000</td>\n      <td>0.0</td>\n      <td>2.710122e+04</td>\n      <td>0.000000</td>\n      <td>0.000000</td>\n      <td>0.0</td>\n      <td>1.500000</td>\n      <td>1.916968e+05</td>\n      <td>...</td>\n      <td>0.0</td>\n      <td>0.0</td>\n      <td>0.0</td>\n      <td>243911.0</td>\n      <td>0.0</td>\n      <td>0.0</td>\n      <td>0.0</td>\n      <td>9.0</td>\n      <td>1.725271e+06</td>\n      <td>0.000000</td>\n    </tr>\n    <tr>\n      <th>...</th>\n      <td>...</td>\n      <td>...</td>\n      <td>...</td>\n      <td>...</td>\n      <td>...</td>\n      <td>...</td>\n      <td>...</td>\n      <td>...</td>\n      <td>...</td>\n      <td>...</td>\n      <td>...</td>\n      <td>...</td>\n      <td>...</td>\n      <td>...</td>\n      <td>...</td>\n      <td>...</td>\n      <td>...</td>\n      <td>...</td>\n      <td>...</td>\n      <td>...</td>\n      <td>...</td>\n    </tr>\n    <tr>\n      <th>23901</th>\n      <td>3</td>\n      <td>4332.523077</td>\n      <td>1223.939446</td>\n      <td>0.0</td>\n      <td>9.885038e+02</td>\n      <td>1.160714</td>\n      <td>2.513043</td>\n      <td>0.0</td>\n      <td>6.668367</td>\n      <td>1.078873e+06</td>\n      <td>...</td>\n      <td>281614.0</td>\n      <td>707437.0</td>\n      <td>0.0</td>\n      <td>2583949.0</td>\n      <td>65.0</td>\n      <td>578.0</td>\n      <td>0.0</td>\n      <td>2614.0</td>\n      <td>1.532000e+08</td>\n      <td>0.390110</td>\n    </tr>\n    <tr>\n      <th>23902</th>\n      <td>3</td>\n      <td>0.000000</td>\n      <td>0.000000</td>\n      <td>0.0</td>\n      <td>0.000000e+00</td>\n      <td>0.000000</td>\n      <td>0.000000</td>\n      <td>0.0</td>\n      <td>0.000000</td>\n      <td>2.307641e+06</td>\n      <td>...</td>\n      <td>0.0</td>\n      <td>0.0</td>\n      <td>0.0</td>\n      <td>0.0</td>\n      <td>0.0</td>\n      <td>0.0</td>\n      <td>0.0</td>\n      <td>0.0</td>\n      <td>4.615283e+07</td>\n      <td>0.054945</td>\n    </tr>\n    <tr>\n      <th>23903</th>\n      <td>6</td>\n      <td>0.000000</td>\n      <td>0.000000</td>\n      <td>0.0</td>\n      <td>0.000000e+00</td>\n      <td>0.000000</td>\n      <td>0.000000</td>\n      <td>0.0</td>\n      <td>0.000000</td>\n      <td>2.222531e+06</td>\n      <td>...</td>\n      <td>0.0</td>\n      <td>0.0</td>\n      <td>0.0</td>\n      <td>0.0</td>\n      <td>0.0</td>\n      <td>0.0</td>\n      <td>0.0</td>\n      <td>0.0</td>\n      <td>1.555772e+08</td>\n      <td>0.192308</td>\n    </tr>\n    <tr>\n      <th>23904</th>\n      <td>6</td>\n      <td>0.000000</td>\n      <td>0.000000</td>\n      <td>0.0</td>\n      <td>0.000000e+00</td>\n      <td>0.000000</td>\n      <td>0.000000</td>\n      <td>0.0</td>\n      <td>0.000000</td>\n      <td>3.175717e+05</td>\n      <td>...</td>\n      <td>0.0</td>\n      <td>0.0</td>\n      <td>0.0</td>\n      <td>0.0</td>\n      <td>0.0</td>\n      <td>0.0</td>\n      <td>0.0</td>\n      <td>0.0</td>\n      <td>1.365559e+08</td>\n      <td>1.181319</td>\n    </tr>\n    <tr>\n      <th>23905</th>\n      <td>2</td>\n      <td>0.000000</td>\n      <td>0.000000</td>\n      <td>0.0</td>\n      <td>0.000000e+00</td>\n      <td>0.000000</td>\n      <td>0.000000</td>\n      <td>0.0</td>\n      <td>0.000000</td>\n      <td>2.630657e+05</td>\n      <td>...</td>\n      <td>0.0</td>\n      <td>0.0</td>\n      <td>0.0</td>\n      <td>0.0</td>\n      <td>0.0</td>\n      <td>0.0</td>\n      <td>0.0</td>\n      <td>0.0</td>\n      <td>5.918977e+07</td>\n      <td>0.618132</td>\n    </tr>\n  </tbody>\n</table>\n<p>21781 rows × 47 columns</p>\n</div>"
     },
     "execution_count": 11,
     "metadata": {},
     "output_type": "execute_result"
    }
   ],
   "source": [
    "# Training\n",
    "train_x = train.loc[:, train.columns != 'sar_flag']\n",
    "train_y = train.loc[:, train.columns == 'sar_flag']\n",
    "train_x"
   ],
   "metadata": {
    "collapsed": false
   }
  },
  {
   "cell_type": "code",
   "execution_count": 106,
   "outputs": [],
   "source": [
    "#normalize\n",
    "from sklearn import preprocessing\n",
    "\n",
    "def normalize_mms(input_df):\n",
    "    scaler = preprocessing.MinMaxScaler()\n",
    "    result = scaler.fit_transform(input_df)\n",
    "    return pd.DataFrame(result, index=input_df.index, columns=input_df.columns)"
   ],
   "metadata": {
    "collapsed": false
   }
  },
  {
   "cell_type": "code",
   "execution_count": 13,
   "outputs": [
    {
     "data": {
      "text/plain": "         AGE  avg_amt_nontw_nonntd  avg_amt_nontw_ntd  avg_amt_tw_nonntd  \\\n0      0.375              0.005648           0.018591                0.0   \n1      0.375              0.000000           0.000000                0.0   \n2      0.250              0.000000           0.000000                0.0   \n3      0.625              0.000000           0.000000                0.0   \n4      0.250              0.000000           0.000000                0.0   \n...      ...                   ...                ...                ...   \n21776  0.250              0.002705           0.007501                0.0   \n21777  0.250              0.000000           0.000000                0.0   \n21778  0.625              0.000000           0.000000                0.0   \n21779  0.625              0.000000           0.000000                0.0   \n21780  0.125              0.000000           0.000000                0.0   \n\n       avg_amt_tw_ntd  avg_freq_nontw_nonntd  avg_freq_nontw_ntd  \\\n0            0.000110               0.004122            0.055273   \n1            0.000151               0.000000            0.000000   \n2            0.000560               0.000000            0.000000   \n3            0.088478               0.000000            0.000000   \n4            0.002155               0.000000            0.000000   \n...               ...                    ...                 ...   \n21776        0.000079               0.003544            0.126556   \n21777        0.000000               0.000000            0.000000   \n21778        0.000000               0.000000            0.000000   \n21779        0.000000               0.000000            0.000000   \n21780        0.000000               0.000000            0.000000   \n\n       avg_freq_tw_nonntd  avg_freq_tw_ntd    avg_tx  ...  \\\n0                     0.0         0.031604  0.000008  ...   \n1                     0.0         0.022078  0.000066  ...   \n2                     0.0         0.015536  0.000076  ...   \n3                     0.0         0.029437  0.000016  ...   \n4                     0.0         0.022078  0.002945  ...   \n...                   ...              ...       ...  ...   \n21776                 0.0         0.098149  0.016576  ...   \n21777                 0.0         0.000000  0.035455  ...   \n21778                 0.0         0.000000  0.034148  ...   \n21779                 0.0         0.000000  0.004879  ...   \n21780                 0.0         0.000000  0.004042  ...   \n\n       total_amt_nontw_nonntd  total_amt_nontw_ntd  total_amt_tw_nonntd  \\\n0                    0.002336             0.004388                  0.0   \n1                    0.000000             0.000000                  0.0   \n2                    0.000000             0.000000                  0.0   \n3                    0.000000             0.000000                  0.0   \n4                    0.000000             0.000000                  0.0   \n...                       ...                  ...                  ...   \n21776                0.002694             0.022742                  0.0   \n21777                0.000000             0.000000                  0.0   \n21778                0.000000             0.000000                  0.0   \n21779                0.000000             0.000000                  0.0   \n21780                0.000000             0.000000                  0.0   \n\n       total_amt_tw_ntd  total_freq_nontw_nonntd  total_freq_nontw_ntd  \\\n0              0.001897                 0.000229              0.011081   \n1              0.000016                 0.000000              0.000000   \n2              0.000369                 0.000000              0.000000   \n3              0.030639                 0.000000              0.000000   \n4              0.000672                 0.000000              0.000000   \n...                 ...                      ...                   ...   \n21776          0.007115                 0.000551              0.142329   \n21777          0.000000                 0.000000              0.000000   \n21778          0.000000                 0.000000              0.000000   \n21779          0.000000                 0.000000              0.000000   \n21780          0.000000                 0.000000              0.000000   \n\n       total_freq_tw_nonntd  total_freq_tw_ntd      total_tx  tx_per_day  \n0                       0.0           0.023780  2.083666e-08    0.000000  \n1                       0.0           0.000144  5.931227e-07    0.000000  \n2                       0.0           0.000911  4.075788e-06    0.000000  \n3                       0.0           0.000479  4.387389e-08    0.000000  \n4                       0.0           0.000431  2.372864e-05    0.000000  \n...                     ...                ...           ...         ...  \n21776                   0.0           0.125324  2.107046e-03    0.001085  \n21777                   0.0           0.000000  6.347662e-04    0.000153  \n21778                   0.0           0.000000  2.139742e-03    0.000535  \n21779                   0.0           0.000000  1.878131e-03    0.003285  \n21780                   0.0           0.000000  8.140707e-04    0.001719  \n\n[21781 rows x 47 columns]",
      "text/html": "<div>\n<style scoped>\n    .dataframe tbody tr th:only-of-type {\n        vertical-align: middle;\n    }\n\n    .dataframe tbody tr th {\n        vertical-align: top;\n    }\n\n    .dataframe thead th {\n        text-align: right;\n    }\n</style>\n<table border=\"1\" class=\"dataframe\">\n  <thead>\n    <tr style=\"text-align: right;\">\n      <th></th>\n      <th>AGE</th>\n      <th>avg_amt_nontw_nonntd</th>\n      <th>avg_amt_nontw_ntd</th>\n      <th>avg_amt_tw_nonntd</th>\n      <th>avg_amt_tw_ntd</th>\n      <th>avg_freq_nontw_nonntd</th>\n      <th>avg_freq_nontw_ntd</th>\n      <th>avg_freq_tw_nonntd</th>\n      <th>avg_freq_tw_ntd</th>\n      <th>avg_tx</th>\n      <th>...</th>\n      <th>total_amt_nontw_nonntd</th>\n      <th>total_amt_nontw_ntd</th>\n      <th>total_amt_tw_nonntd</th>\n      <th>total_amt_tw_ntd</th>\n      <th>total_freq_nontw_nonntd</th>\n      <th>total_freq_nontw_ntd</th>\n      <th>total_freq_tw_nonntd</th>\n      <th>total_freq_tw_ntd</th>\n      <th>total_tx</th>\n      <th>tx_per_day</th>\n    </tr>\n  </thead>\n  <tbody>\n    <tr>\n      <th>0</th>\n      <td>0.375</td>\n      <td>0.005648</td>\n      <td>0.018591</td>\n      <td>0.0</td>\n      <td>0.000110</td>\n      <td>0.004122</td>\n      <td>0.055273</td>\n      <td>0.0</td>\n      <td>0.031604</td>\n      <td>0.000008</td>\n      <td>...</td>\n      <td>0.002336</td>\n      <td>0.004388</td>\n      <td>0.0</td>\n      <td>0.001897</td>\n      <td>0.000229</td>\n      <td>0.011081</td>\n      <td>0.0</td>\n      <td>0.023780</td>\n      <td>2.083666e-08</td>\n      <td>0.000000</td>\n    </tr>\n    <tr>\n      <th>1</th>\n      <td>0.375</td>\n      <td>0.000000</td>\n      <td>0.000000</td>\n      <td>0.0</td>\n      <td>0.000151</td>\n      <td>0.000000</td>\n      <td>0.000000</td>\n      <td>0.0</td>\n      <td>0.022078</td>\n      <td>0.000066</td>\n      <td>...</td>\n      <td>0.000000</td>\n      <td>0.000000</td>\n      <td>0.0</td>\n      <td>0.000016</td>\n      <td>0.000000</td>\n      <td>0.000000</td>\n      <td>0.0</td>\n      <td>0.000144</td>\n      <td>5.931227e-07</td>\n      <td>0.000000</td>\n    </tr>\n    <tr>\n      <th>2</th>\n      <td>0.250</td>\n      <td>0.000000</td>\n      <td>0.000000</td>\n      <td>0.0</td>\n      <td>0.000560</td>\n      <td>0.000000</td>\n      <td>0.000000</td>\n      <td>0.0</td>\n      <td>0.015536</td>\n      <td>0.000076</td>\n      <td>...</td>\n      <td>0.000000</td>\n      <td>0.000000</td>\n      <td>0.0</td>\n      <td>0.000369</td>\n      <td>0.000000</td>\n      <td>0.000000</td>\n      <td>0.0</td>\n      <td>0.000911</td>\n      <td>4.075788e-06</td>\n      <td>0.000000</td>\n    </tr>\n    <tr>\n      <th>3</th>\n      <td>0.625</td>\n      <td>0.000000</td>\n      <td>0.000000</td>\n      <td>0.0</td>\n      <td>0.088478</td>\n      <td>0.000000</td>\n      <td>0.000000</td>\n      <td>0.0</td>\n      <td>0.029437</td>\n      <td>0.000016</td>\n      <td>...</td>\n      <td>0.000000</td>\n      <td>0.000000</td>\n      <td>0.0</td>\n      <td>0.030639</td>\n      <td>0.000000</td>\n      <td>0.000000</td>\n      <td>0.0</td>\n      <td>0.000479</td>\n      <td>4.387389e-08</td>\n      <td>0.000000</td>\n    </tr>\n    <tr>\n      <th>4</th>\n      <td>0.250</td>\n      <td>0.000000</td>\n      <td>0.000000</td>\n      <td>0.0</td>\n      <td>0.002155</td>\n      <td>0.000000</td>\n      <td>0.000000</td>\n      <td>0.0</td>\n      <td>0.022078</td>\n      <td>0.002945</td>\n      <td>...</td>\n      <td>0.000000</td>\n      <td>0.000000</td>\n      <td>0.0</td>\n      <td>0.000672</td>\n      <td>0.000000</td>\n      <td>0.000000</td>\n      <td>0.0</td>\n      <td>0.000431</td>\n      <td>2.372864e-05</td>\n      <td>0.000000</td>\n    </tr>\n    <tr>\n      <th>...</th>\n      <td>...</td>\n      <td>...</td>\n      <td>...</td>\n      <td>...</td>\n      <td>...</td>\n      <td>...</td>\n      <td>...</td>\n      <td>...</td>\n      <td>...</td>\n      <td>...</td>\n      <td>...</td>\n      <td>...</td>\n      <td>...</td>\n      <td>...</td>\n      <td>...</td>\n      <td>...</td>\n      <td>...</td>\n      <td>...</td>\n      <td>...</td>\n      <td>...</td>\n      <td>...</td>\n    </tr>\n    <tr>\n      <th>21776</th>\n      <td>0.250</td>\n      <td>0.002705</td>\n      <td>0.007501</td>\n      <td>0.0</td>\n      <td>0.000079</td>\n      <td>0.003544</td>\n      <td>0.126556</td>\n      <td>0.0</td>\n      <td>0.098149</td>\n      <td>0.016576</td>\n      <td>...</td>\n      <td>0.002694</td>\n      <td>0.022742</td>\n      <td>0.0</td>\n      <td>0.007115</td>\n      <td>0.000551</td>\n      <td>0.142329</td>\n      <td>0.0</td>\n      <td>0.125324</td>\n      <td>2.107046e-03</td>\n      <td>0.001085</td>\n    </tr>\n    <tr>\n      <th>21777</th>\n      <td>0.250</td>\n      <td>0.000000</td>\n      <td>0.000000</td>\n      <td>0.0</td>\n      <td>0.000000</td>\n      <td>0.000000</td>\n      <td>0.000000</td>\n      <td>0.0</td>\n      <td>0.000000</td>\n      <td>0.035455</td>\n      <td>...</td>\n      <td>0.000000</td>\n      <td>0.000000</td>\n      <td>0.0</td>\n      <td>0.000000</td>\n      <td>0.000000</td>\n      <td>0.000000</td>\n      <td>0.0</td>\n      <td>0.000000</td>\n      <td>6.347662e-04</td>\n      <td>0.000153</td>\n    </tr>\n    <tr>\n      <th>21778</th>\n      <td>0.625</td>\n      <td>0.000000</td>\n      <td>0.000000</td>\n      <td>0.0</td>\n      <td>0.000000</td>\n      <td>0.000000</td>\n      <td>0.000000</td>\n      <td>0.0</td>\n      <td>0.000000</td>\n      <td>0.034148</td>\n      <td>...</td>\n      <td>0.000000</td>\n      <td>0.000000</td>\n      <td>0.0</td>\n      <td>0.000000</td>\n      <td>0.000000</td>\n      <td>0.000000</td>\n      <td>0.0</td>\n      <td>0.000000</td>\n      <td>2.139742e-03</td>\n      <td>0.000535</td>\n    </tr>\n    <tr>\n      <th>21779</th>\n      <td>0.625</td>\n      <td>0.000000</td>\n      <td>0.000000</td>\n      <td>0.0</td>\n      <td>0.000000</td>\n      <td>0.000000</td>\n      <td>0.000000</td>\n      <td>0.0</td>\n      <td>0.000000</td>\n      <td>0.004879</td>\n      <td>...</td>\n      <td>0.000000</td>\n      <td>0.000000</td>\n      <td>0.0</td>\n      <td>0.000000</td>\n      <td>0.000000</td>\n      <td>0.000000</td>\n      <td>0.0</td>\n      <td>0.000000</td>\n      <td>1.878131e-03</td>\n      <td>0.003285</td>\n    </tr>\n    <tr>\n      <th>21780</th>\n      <td>0.125</td>\n      <td>0.000000</td>\n      <td>0.000000</td>\n      <td>0.0</td>\n      <td>0.000000</td>\n      <td>0.000000</td>\n      <td>0.000000</td>\n      <td>0.0</td>\n      <td>0.000000</td>\n      <td>0.004042</td>\n      <td>...</td>\n      <td>0.000000</td>\n      <td>0.000000</td>\n      <td>0.0</td>\n      <td>0.000000</td>\n      <td>0.000000</td>\n      <td>0.000000</td>\n      <td>0.0</td>\n      <td>0.000000</td>\n      <td>8.140707e-04</td>\n      <td>0.001719</td>\n    </tr>\n  </tbody>\n</table>\n<p>21781 rows × 47 columns</p>\n</div>"
     },
     "execution_count": 13,
     "metadata": {},
     "output_type": "execute_result"
    }
   ],
   "source": [
    "train_x = normalize_mms(train_x)\n",
    "train_x"
   ],
   "metadata": {
    "collapsed": false
   }
  },
  {
   "cell_type": "code",
   "execution_count": 14,
   "outputs": [
    {
     "name": "stdout",
     "output_type": "stream",
     "text": [
      "length of oversampled data is  30168\n",
      "Number of non-sar in oversampled data 15084\n",
      "Number of sar 15084\n",
      "Proportion of no subscription data in oversampled data is  0.5\n",
      "Proportion of subscription data in oversampled data is  0.5\n"
     ]
    }
   ],
   "source": [
    "sm_x, sm_y = SMOTE_oversampling(train_x, train_y)"
   ],
   "metadata": {
    "collapsed": false
   }
  },
  {
   "cell_type": "code",
   "execution_count": 15,
   "outputs": [
    {
     "name": "stdout",
     "output_type": "stream",
     "text": [
      "Index(['AGE', 'avg_amt_nontw_nonntd', 'avg_amt_nontw_ntd', 'avg_amt_tw_nonntd',\n",
      "       'avg_amt_tw_ntd', 'avg_freq_nontw_nonntd', 'avg_freq_nontw_ntd',\n",
      "       'avg_freq_tw_nonntd', 'avg_freq_tw_ntd', 'avg_tx', 'count_tx',\n",
      "       'cucah_quarter1_mean', 'cucah_quarter1_std', 'cucah_quarter1_sum',\n",
      "       'cucah_quarter2_mean', 'cucah_quarter2_std', 'cucah_quarter2_sum',\n",
      "       'cucah_quarter3_mean', 'cucah_quarter3_std', 'cucah_quarter3_sum',\n",
      "       'cucah_quarter4_mean', 'cucah_quarter4_std', 'cucah_quarter4_sum',\n",
      "       'cucah_total_mean', 'cucah_total_std', 'cucah_total_sum', 'date',\n",
      "       'risk_rank', 'sd_amt_nontw_nonntd', 'sd_amt_nontw_ntd',\n",
      "       'sd_amt_tw_nonntd', 'sd_amt_tw_ntd', 'sd_freq_nontw_nonntd',\n",
      "       'sd_freq_nontw_ntd', 'sd_freq_tw_nonntd', 'sd_freq_tw_ntd', 'std_tx',\n",
      "       'total_amt_nontw_nonntd', 'total_amt_nontw_ntd', 'total_amt_tw_nonntd',\n",
      "       'total_amt_tw_ntd', 'total_freq_nontw_nonntd', 'total_freq_nontw_ntd',\n",
      "       'total_freq_tw_nonntd', 'total_freq_tw_ntd', 'total_tx', 'tx_per_day'],\n",
      "      dtype='object')\n",
      "[ True  True  True False  True  True  True False  True False  True False\n",
      "  True False False  True False False False False False False False False\n",
      " False False  True  True False  True False  True  True  True False  True\n",
      " False  True  True False  True  True  True False False  True False]\n",
      "[1 1 1 2 1 1 1 2 1 2 1 2 1 2 2 1 2 2 2 2 2 2 2 2 2 2 1 1 2 1 2 1 1 1 2 1 2\n",
      " 1 1 2 1 1 1 2 2 1 2]\n"
     ]
    }
   ],
   "source": [
    "LR = LogisticRegression(max_iter=1000, n_jobs=-1)\n",
    "rfe_columns = RFE_analysis(sm_x, sm_y, LR)"
   ],
   "metadata": {
    "collapsed": false
   }
  },
  {
   "cell_type": "code",
   "execution_count": 16,
   "outputs": [
    {
     "data": {
      "text/plain": "            AGE  avg_amt_nontw_nonntd  avg_amt_nontw_ntd  avg_amt_tw_ntd  \\\n0      1.000000                   0.0           0.000000        0.000000   \n1      0.375000                   0.0           0.000000        0.000000   \n2      0.125000                   0.0           0.000000        0.000000   \n3      0.125000                   0.0           0.000000        0.000000   \n4      0.500000                   0.0           0.001698        0.038948   \n...         ...                   ...                ...             ...   \n30163  0.125000                   0.0           0.000000        0.000003   \n30164  0.250000                   0.0           0.000000        0.000080   \n30165  0.375000                   0.0           0.023222        0.000239   \n30166  0.250000                   0.0           0.000000        0.000067   \n30167  0.354125                   0.0           0.000000        0.000612   \n\n       avg_freq_nontw_nonntd  avg_freq_nontw_ntd  avg_freq_tw_ntd  count_tx  \\\n0                        0.0            0.000000         0.000000  0.001070   \n1                        0.0            0.000000         0.000000  0.002617   \n2                        0.0            0.000000         0.000000  0.000049   \n3                        0.0            0.000000         0.000000  0.000148   \n4                        0.0            0.050360         0.016241  0.000839   \n...                      ...                 ...              ...       ...   \n30163                    0.0            0.000000         0.000859  0.000772   \n30164                    0.0            0.000000         0.019328  0.001154   \n30165                    0.0            0.033557         0.031401  0.008880   \n30166                    0.0            0.000000         0.016289  0.001035   \n30167                    0.0            0.000000         0.008710  0.002365   \n\n       cucah_quarter1_std  cucah_quarter2_std  ...  sd_amt_tw_ntd  \\\n0                     0.0                 0.0  ...       0.000000   \n1                     0.0                 0.0  ...       0.000000   \n2                     0.0                 0.0  ...       0.000000   \n3                     0.0                 0.0  ...       0.000000   \n4                     0.0                 0.0  ...       0.077861   \n...                   ...                 ...  ...            ...   \n30163                 0.0                 0.0  ...       0.000004   \n30164                 0.0                 0.0  ...       0.000260   \n30165                 0.0                 0.0  ...       0.000230   \n30166                 0.0                 0.0  ...       0.000219   \n30167                 0.0                 0.0  ...       0.000404   \n\n       sd_freq_nontw_nonntd  sd_freq_nontw_ntd  sd_freq_tw_ntd  \\\n0                       0.0                0.0        0.000000   \n1                       0.0                0.0        0.000000   \n2                       0.0                0.0        0.000000   \n3                       0.0                0.0        0.000000   \n4                       0.0                0.0        0.003012   \n...                     ...                ...             ...   \n30163                   0.0                0.0        0.000223   \n30164                   0.0                0.0        0.005183   \n30165                   0.0                0.0        0.011976   \n30166                   0.0                0.0        0.004369   \n30167                   0.0                0.0        0.006814   \n\n       total_amt_nontw_nonntd  total_amt_nontw_ntd  total_amt_tw_ntd  \\\n0                         0.0             0.000000          0.000000   \n1                         0.0             0.000000          0.000000   \n2                         0.0             0.000000          0.000000   \n3                         0.0             0.000000          0.000000   \n4                         0.0             0.000009          0.043159   \n...                       ...                  ...               ...   \n30163                     0.0             0.000000          0.000010   \n30164                     0.0             0.000000          0.000744   \n30165                     0.0             0.000244          0.006173   \n30166                     0.0             0.000000          0.000627   \n30167                     0.0             0.000000          0.006913   \n\n       total_freq_nontw_nonntd  total_freq_nontw_ntd  total_tx  \n0                          0.0              0.000000  0.000019  \n1                          0.0              0.000000  0.000246  \n2                          0.0              0.000000  0.000005  \n3                          0.0              0.000000  0.000002  \n4                          0.0              0.000246  0.000409  \n...                        ...                   ...       ...  \n30163                      0.0              0.000000  0.001753  \n30164                      0.0              0.000000  0.002455  \n30165                      0.0              0.000328  0.001776  \n30166                      0.0              0.000000  0.002104  \n30167                      0.0              0.000000  0.000195  \n\n[30168 rows x 23 columns]",
      "text/html": "<div>\n<style scoped>\n    .dataframe tbody tr th:only-of-type {\n        vertical-align: middle;\n    }\n\n    .dataframe tbody tr th {\n        vertical-align: top;\n    }\n\n    .dataframe thead th {\n        text-align: right;\n    }\n</style>\n<table border=\"1\" class=\"dataframe\">\n  <thead>\n    <tr style=\"text-align: right;\">\n      <th></th>\n      <th>AGE</th>\n      <th>avg_amt_nontw_nonntd</th>\n      <th>avg_amt_nontw_ntd</th>\n      <th>avg_amt_tw_ntd</th>\n      <th>avg_freq_nontw_nonntd</th>\n      <th>avg_freq_nontw_ntd</th>\n      <th>avg_freq_tw_ntd</th>\n      <th>count_tx</th>\n      <th>cucah_quarter1_std</th>\n      <th>cucah_quarter2_std</th>\n      <th>...</th>\n      <th>sd_amt_tw_ntd</th>\n      <th>sd_freq_nontw_nonntd</th>\n      <th>sd_freq_nontw_ntd</th>\n      <th>sd_freq_tw_ntd</th>\n      <th>total_amt_nontw_nonntd</th>\n      <th>total_amt_nontw_ntd</th>\n      <th>total_amt_tw_ntd</th>\n      <th>total_freq_nontw_nonntd</th>\n      <th>total_freq_nontw_ntd</th>\n      <th>total_tx</th>\n    </tr>\n  </thead>\n  <tbody>\n    <tr>\n      <th>0</th>\n      <td>1.000000</td>\n      <td>0.0</td>\n      <td>0.000000</td>\n      <td>0.000000</td>\n      <td>0.0</td>\n      <td>0.000000</td>\n      <td>0.000000</td>\n      <td>0.001070</td>\n      <td>0.0</td>\n      <td>0.0</td>\n      <td>...</td>\n      <td>0.000000</td>\n      <td>0.0</td>\n      <td>0.0</td>\n      <td>0.000000</td>\n      <td>0.0</td>\n      <td>0.000000</td>\n      <td>0.000000</td>\n      <td>0.0</td>\n      <td>0.000000</td>\n      <td>0.000019</td>\n    </tr>\n    <tr>\n      <th>1</th>\n      <td>0.375000</td>\n      <td>0.0</td>\n      <td>0.000000</td>\n      <td>0.000000</td>\n      <td>0.0</td>\n      <td>0.000000</td>\n      <td>0.000000</td>\n      <td>0.002617</td>\n      <td>0.0</td>\n      <td>0.0</td>\n      <td>...</td>\n      <td>0.000000</td>\n      <td>0.0</td>\n      <td>0.0</td>\n      <td>0.000000</td>\n      <td>0.0</td>\n      <td>0.000000</td>\n      <td>0.000000</td>\n      <td>0.0</td>\n      <td>0.000000</td>\n      <td>0.000246</td>\n    </tr>\n    <tr>\n      <th>2</th>\n      <td>0.125000</td>\n      <td>0.0</td>\n      <td>0.000000</td>\n      <td>0.000000</td>\n      <td>0.0</td>\n      <td>0.000000</td>\n      <td>0.000000</td>\n      <td>0.000049</td>\n      <td>0.0</td>\n      <td>0.0</td>\n      <td>...</td>\n      <td>0.000000</td>\n      <td>0.0</td>\n      <td>0.0</td>\n      <td>0.000000</td>\n      <td>0.0</td>\n      <td>0.000000</td>\n      <td>0.000000</td>\n      <td>0.0</td>\n      <td>0.000000</td>\n      <td>0.000005</td>\n    </tr>\n    <tr>\n      <th>3</th>\n      <td>0.125000</td>\n      <td>0.0</td>\n      <td>0.000000</td>\n      <td>0.000000</td>\n      <td>0.0</td>\n      <td>0.000000</td>\n      <td>0.000000</td>\n      <td>0.000148</td>\n      <td>0.0</td>\n      <td>0.0</td>\n      <td>...</td>\n      <td>0.000000</td>\n      <td>0.0</td>\n      <td>0.0</td>\n      <td>0.000000</td>\n      <td>0.0</td>\n      <td>0.000000</td>\n      <td>0.000000</td>\n      <td>0.0</td>\n      <td>0.000000</td>\n      <td>0.000002</td>\n    </tr>\n    <tr>\n      <th>4</th>\n      <td>0.500000</td>\n      <td>0.0</td>\n      <td>0.001698</td>\n      <td>0.038948</td>\n      <td>0.0</td>\n      <td>0.050360</td>\n      <td>0.016241</td>\n      <td>0.000839</td>\n      <td>0.0</td>\n      <td>0.0</td>\n      <td>...</td>\n      <td>0.077861</td>\n      <td>0.0</td>\n      <td>0.0</td>\n      <td>0.003012</td>\n      <td>0.0</td>\n      <td>0.000009</td>\n      <td>0.043159</td>\n      <td>0.0</td>\n      <td>0.000246</td>\n      <td>0.000409</td>\n    </tr>\n    <tr>\n      <th>...</th>\n      <td>...</td>\n      <td>...</td>\n      <td>...</td>\n      <td>...</td>\n      <td>...</td>\n      <td>...</td>\n      <td>...</td>\n      <td>...</td>\n      <td>...</td>\n      <td>...</td>\n      <td>...</td>\n      <td>...</td>\n      <td>...</td>\n      <td>...</td>\n      <td>...</td>\n      <td>...</td>\n      <td>...</td>\n      <td>...</td>\n      <td>...</td>\n      <td>...</td>\n      <td>...</td>\n    </tr>\n    <tr>\n      <th>30163</th>\n      <td>0.125000</td>\n      <td>0.0</td>\n      <td>0.000000</td>\n      <td>0.000003</td>\n      <td>0.0</td>\n      <td>0.000000</td>\n      <td>0.000859</td>\n      <td>0.000772</td>\n      <td>0.0</td>\n      <td>0.0</td>\n      <td>...</td>\n      <td>0.000004</td>\n      <td>0.0</td>\n      <td>0.0</td>\n      <td>0.000223</td>\n      <td>0.0</td>\n      <td>0.000000</td>\n      <td>0.000010</td>\n      <td>0.0</td>\n      <td>0.000000</td>\n      <td>0.001753</td>\n    </tr>\n    <tr>\n      <th>30164</th>\n      <td>0.250000</td>\n      <td>0.0</td>\n      <td>0.000000</td>\n      <td>0.000080</td>\n      <td>0.0</td>\n      <td>0.000000</td>\n      <td>0.019328</td>\n      <td>0.001154</td>\n      <td>0.0</td>\n      <td>0.0</td>\n      <td>...</td>\n      <td>0.000260</td>\n      <td>0.0</td>\n      <td>0.0</td>\n      <td>0.005183</td>\n      <td>0.0</td>\n      <td>0.000000</td>\n      <td>0.000744</td>\n      <td>0.0</td>\n      <td>0.000000</td>\n      <td>0.002455</td>\n    </tr>\n    <tr>\n      <th>30165</th>\n      <td>0.375000</td>\n      <td>0.0</td>\n      <td>0.023222</td>\n      <td>0.000239</td>\n      <td>0.0</td>\n      <td>0.033557</td>\n      <td>0.031401</td>\n      <td>0.008880</td>\n      <td>0.0</td>\n      <td>0.0</td>\n      <td>...</td>\n      <td>0.000230</td>\n      <td>0.0</td>\n      <td>0.0</td>\n      <td>0.011976</td>\n      <td>0.0</td>\n      <td>0.000244</td>\n      <td>0.006173</td>\n      <td>0.0</td>\n      <td>0.000328</td>\n      <td>0.001776</td>\n    </tr>\n    <tr>\n      <th>30166</th>\n      <td>0.250000</td>\n      <td>0.0</td>\n      <td>0.000000</td>\n      <td>0.000067</td>\n      <td>0.0</td>\n      <td>0.000000</td>\n      <td>0.016289</td>\n      <td>0.001035</td>\n      <td>0.0</td>\n      <td>0.0</td>\n      <td>...</td>\n      <td>0.000219</td>\n      <td>0.0</td>\n      <td>0.0</td>\n      <td>0.004369</td>\n      <td>0.0</td>\n      <td>0.000000</td>\n      <td>0.000627</td>\n      <td>0.0</td>\n      <td>0.000000</td>\n      <td>0.002104</td>\n    </tr>\n    <tr>\n      <th>30167</th>\n      <td>0.354125</td>\n      <td>0.0</td>\n      <td>0.000000</td>\n      <td>0.000612</td>\n      <td>0.0</td>\n      <td>0.000000</td>\n      <td>0.008710</td>\n      <td>0.002365</td>\n      <td>0.0</td>\n      <td>0.0</td>\n      <td>...</td>\n      <td>0.000404</td>\n      <td>0.0</td>\n      <td>0.0</td>\n      <td>0.006814</td>\n      <td>0.0</td>\n      <td>0.000000</td>\n      <td>0.006913</td>\n      <td>0.0</td>\n      <td>0.000000</td>\n      <td>0.000195</td>\n    </tr>\n  </tbody>\n</table>\n<p>30168 rows × 23 columns</p>\n</div>"
     },
     "execution_count": 16,
     "metadata": {},
     "output_type": "execute_result"
    }
   ],
   "source": [
    "sm_x = sm_x[sm_x.columns[rfe_columns]]\n",
    "sm_x"
   ],
   "metadata": {
    "collapsed": false
   }
  },
  {
   "cell_type": "code",
   "execution_count": null,
   "outputs": [],
   "source": [
    "# LR_analysis(sm_x, sm_y)"
   ],
   "metadata": {
    "collapsed": false
   }
  },
  {
   "cell_type": "code",
   "execution_count": 17,
   "outputs": [
    {
     "name": "stderr",
     "output_type": "stream",
     "text": [
      "C:\\Software\\Anaconda3\\lib\\site-packages\\sklearn\\utils\\validation.py:1111: DataConversionWarning: A column-vector y was passed when a 1d array was expected. Please change the shape of y to (n_samples, ), for example using ravel().\n",
      "  y = column_or_1d(y, warn=True)\n"
     ]
    },
    {
     "name": "stdout",
     "output_type": "stream",
     "text": [
      "0.7304870502961195  0.7309732166534075\n",
      "[[2714 1074]\n",
      " [ 955 2799]]\n"
     ]
    }
   ],
   "source": [
    "LR = LR_training(sm_x, sm_y, LR)"
   ],
   "metadata": {
    "collapsed": false
   }
  },
  {
   "cell_type": "code",
   "execution_count": 19,
   "outputs": [
    {
     "name": "stdout",
     "output_type": "stream",
     "text": [
      "0.719021165235756\n",
      "[[15493  6054]\n",
      " [   66   168]]\n"
     ]
    }
   ],
   "source": [
    "# Training Evaluation\n",
    "train_x_rfe = train_x[train_x.columns[rfe_columns]]\n",
    "LR_test(train_x_rfe, train_y, LR)\n"
   ],
   "metadata": {
    "collapsed": false
   }
  },
  {
   "cell_type": "code",
   "execution_count": null,
   "outputs": [],
   "source": [
    "# Fine-tuning test\n",
    "\n",
    "from sklearn.model_selection import GridSearchCV\n",
    "\n",
    "LR = LogisticRegression(max_iter=1000)\n",
    "LRparam_grid = {\n",
    "    'C': [0.001, 0.01, 0.1, 1, 10, 100, 1000],\n",
    "    'penalty': ['l1', 'l2'],\n",
    "    # 'max_iter': list(range(100,800,100)),\n",
    "    'solver': ['newton-cg', 'lbfgs', 'liblinear', 'sag', 'saga']\n",
    "}\n",
    "LRparam_grid2 = {\n",
    "    'C': [0.1, 1, 10, 100, 1000, 10000],\n",
    "    'penalty': ['l1', 'l2'],\n",
    "    'max_iter': [100,200,300,400,600,700,800,900],\n",
    "    'solver': ['newton-cg', 'lbfgs', 'liblinear', 'sag', 'saga']\n",
    "}\n",
    "\n",
    "#{'C': 10000, 'max_iter': 600, 'penalty': 'l2', 'solver': 'lbfgs'}\n",
    "\n",
    "LR_search = GridSearchCV(LR, param_grid=LRparam_grid2, refit = True, verbose = 3, cv=5)\n",
    "\n",
    "# fitting the model for grid search\n",
    "LR_search.fit(sm_x , sm_y.values.ravel())\n",
    "# summarize\n",
    "print('Mean Accuracy: %.3f' % LR_search.best_score_)\n",
    "print('Config: %s' % LR_search.best_params_)"
   ],
   "metadata": {
    "collapsed": false,
    "pycharm": {
     "is_executing": true
    }
   }
  },
  {
   "cell_type": "code",
   "execution_count": 21,
   "outputs": [
    {
     "name": "stdout",
     "output_type": "stream",
     "text": [
      "0.72370414581516\n",
      "[[15593  5954]\n",
      " [   64   170]]\n"
     ]
    }
   ],
   "source": [
    "# Test\n",
    "train_x_rfe = train_x[train_x.columns[rfe_columns]]\n",
    "LR_test(train_x_rfe, train_y, LR_search)"
   ],
   "metadata": {
    "collapsed": false
   }
  },
  {
   "cell_type": "code",
   "execution_count": 84,
   "outputs": [
    {
     "name": "stderr",
     "output_type": "stream",
     "text": [
      "Progress Bar: 100%|██████████| 3850/3850 [02:09<00:00, 29.73it/s]\n"
     ]
    },
    {
     "data": {
      "text/plain": "      AGE  alert_key        avg_tx  count_tx  \\\n0     3.0     357307  3.715794e+04     280.0   \n1     NaN     376329           NaN       NaN   \n2     NaN     373644           NaN       NaN   \n3     5.0     357668  3.953497e+05     356.0   \n4     3.0     354443  1.391112e+06     243.0   \n...   ...        ...           ...       ...   \n3845  2.0     364485  2.116042e+04     339.0   \n3846  2.0     363155  1.021493e+06     530.0   \n3847  NaN     368710           NaN       NaN   \n3848  3.0     358067  2.265351e+06     309.0   \n3849  NaN     372119           NaN       NaN   \n\n                                                cust_id   date  \\\n0     1d69b4daf9c5c8b8d68b1776193b6e80bf2e84c999d038...  370.0   \n1                                                   NaN    NaN   \n2                                                   NaN    NaN   \n3     8b51184740375f7ccdd68484aeeaca44c5892818eda908...  370.0   \n4     c6def618ad861703c025be4f41bdf7569310228ae93aef...  372.0   \n...                                                 ...    ...   \n3845  f41c0860cf0cb5e7b72b0ced16ab427a06fc0ad3fc0f71...  393.0   \n3846  823fc5ce48cd827628ce0d1c574e6c3582cb772cf6173a...  392.0   \n3847                                                NaN    NaN   \n3848  33ff49ea8a07c6d1b7cc203dcc3638ebde62dfb960a169...  382.0   \n3849                                                NaN    NaN   \n\n      occupation_code  risk_rank        std_tx  total_asset      total_tx  \\\n0                 4.0        1.0  1.134937e+05    2588452.0  1.040422e+07   \n1                 NaN        NaN           NaN          NaN           NaN   \n2                 NaN        NaN           NaN          NaN           NaN   \n3                19.0        1.0  3.312853e+06    1964540.0  1.407445e+08   \n4                 2.0        1.0  5.941655e+06     444392.0  3.380401e+08   \n...               ...        ...           ...          ...           ...   \n3845             17.0        1.0  4.365511e+04     644169.0  7.173381e+06   \n3846             17.0        1.0  4.010326e+06     114439.0  5.413915e+08   \n3847              NaN        NaN           NaN          NaN           NaN   \n3848              9.0        1.0  7.909179e+06     367478.0  6.999934e+08   \n3849              NaN        NaN           NaN          NaN           NaN   \n\n      tx_per_day  \n0       1.756757  \n1            NaN  \n2            NaN  \n3       1.962162  \n4       1.653226  \n...          ...  \n3845    1.862595  \n3846    2.352041  \n3847         NaN  \n3848    1.808901  \n3849         NaN  \n\n[3850 rows x 12 columns]",
      "text/html": "<div>\n<style scoped>\n    .dataframe tbody tr th:only-of-type {\n        vertical-align: middle;\n    }\n\n    .dataframe tbody tr th {\n        vertical-align: top;\n    }\n\n    .dataframe thead th {\n        text-align: right;\n    }\n</style>\n<table border=\"1\" class=\"dataframe\">\n  <thead>\n    <tr style=\"text-align: right;\">\n      <th></th>\n      <th>AGE</th>\n      <th>alert_key</th>\n      <th>avg_tx</th>\n      <th>count_tx</th>\n      <th>cust_id</th>\n      <th>date</th>\n      <th>occupation_code</th>\n      <th>risk_rank</th>\n      <th>std_tx</th>\n      <th>total_asset</th>\n      <th>total_tx</th>\n      <th>tx_per_day</th>\n    </tr>\n  </thead>\n  <tbody>\n    <tr>\n      <th>0</th>\n      <td>3.0</td>\n      <td>357307</td>\n      <td>3.715794e+04</td>\n      <td>280.0</td>\n      <td>1d69b4daf9c5c8b8d68b1776193b6e80bf2e84c999d038...</td>\n      <td>370.0</td>\n      <td>4.0</td>\n      <td>1.0</td>\n      <td>1.134937e+05</td>\n      <td>2588452.0</td>\n      <td>1.040422e+07</td>\n      <td>1.756757</td>\n    </tr>\n    <tr>\n      <th>1</th>\n      <td>NaN</td>\n      <td>376329</td>\n      <td>NaN</td>\n      <td>NaN</td>\n      <td>NaN</td>\n      <td>NaN</td>\n      <td>NaN</td>\n      <td>NaN</td>\n      <td>NaN</td>\n      <td>NaN</td>\n      <td>NaN</td>\n      <td>NaN</td>\n    </tr>\n    <tr>\n      <th>2</th>\n      <td>NaN</td>\n      <td>373644</td>\n      <td>NaN</td>\n      <td>NaN</td>\n      <td>NaN</td>\n      <td>NaN</td>\n      <td>NaN</td>\n      <td>NaN</td>\n      <td>NaN</td>\n      <td>NaN</td>\n      <td>NaN</td>\n      <td>NaN</td>\n    </tr>\n    <tr>\n      <th>3</th>\n      <td>5.0</td>\n      <td>357668</td>\n      <td>3.953497e+05</td>\n      <td>356.0</td>\n      <td>8b51184740375f7ccdd68484aeeaca44c5892818eda908...</td>\n      <td>370.0</td>\n      <td>19.0</td>\n      <td>1.0</td>\n      <td>3.312853e+06</td>\n      <td>1964540.0</td>\n      <td>1.407445e+08</td>\n      <td>1.962162</td>\n    </tr>\n    <tr>\n      <th>4</th>\n      <td>3.0</td>\n      <td>354443</td>\n      <td>1.391112e+06</td>\n      <td>243.0</td>\n      <td>c6def618ad861703c025be4f41bdf7569310228ae93aef...</td>\n      <td>372.0</td>\n      <td>2.0</td>\n      <td>1.0</td>\n      <td>5.941655e+06</td>\n      <td>444392.0</td>\n      <td>3.380401e+08</td>\n      <td>1.653226</td>\n    </tr>\n    <tr>\n      <th>...</th>\n      <td>...</td>\n      <td>...</td>\n      <td>...</td>\n      <td>...</td>\n      <td>...</td>\n      <td>...</td>\n      <td>...</td>\n      <td>...</td>\n      <td>...</td>\n      <td>...</td>\n      <td>...</td>\n      <td>...</td>\n    </tr>\n    <tr>\n      <th>3845</th>\n      <td>2.0</td>\n      <td>364485</td>\n      <td>2.116042e+04</td>\n      <td>339.0</td>\n      <td>f41c0860cf0cb5e7b72b0ced16ab427a06fc0ad3fc0f71...</td>\n      <td>393.0</td>\n      <td>17.0</td>\n      <td>1.0</td>\n      <td>4.365511e+04</td>\n      <td>644169.0</td>\n      <td>7.173381e+06</td>\n      <td>1.862595</td>\n    </tr>\n    <tr>\n      <th>3846</th>\n      <td>2.0</td>\n      <td>363155</td>\n      <td>1.021493e+06</td>\n      <td>530.0</td>\n      <td>823fc5ce48cd827628ce0d1c574e6c3582cb772cf6173a...</td>\n      <td>392.0</td>\n      <td>17.0</td>\n      <td>1.0</td>\n      <td>4.010326e+06</td>\n      <td>114439.0</td>\n      <td>5.413915e+08</td>\n      <td>2.352041</td>\n    </tr>\n    <tr>\n      <th>3847</th>\n      <td>NaN</td>\n      <td>368710</td>\n      <td>NaN</td>\n      <td>NaN</td>\n      <td>NaN</td>\n      <td>NaN</td>\n      <td>NaN</td>\n      <td>NaN</td>\n      <td>NaN</td>\n      <td>NaN</td>\n      <td>NaN</td>\n      <td>NaN</td>\n    </tr>\n    <tr>\n      <th>3848</th>\n      <td>3.0</td>\n      <td>358067</td>\n      <td>2.265351e+06</td>\n      <td>309.0</td>\n      <td>33ff49ea8a07c6d1b7cc203dcc3638ebde62dfb960a169...</td>\n      <td>382.0</td>\n      <td>9.0</td>\n      <td>1.0</td>\n      <td>7.909179e+06</td>\n      <td>367478.0</td>\n      <td>6.999934e+08</td>\n      <td>1.808901</td>\n    </tr>\n    <tr>\n      <th>3849</th>\n      <td>NaN</td>\n      <td>372119</td>\n      <td>NaN</td>\n      <td>NaN</td>\n      <td>NaN</td>\n      <td>NaN</td>\n      <td>NaN</td>\n      <td>NaN</td>\n      <td>NaN</td>\n      <td>NaN</td>\n      <td>NaN</td>\n      <td>NaN</td>\n    </tr>\n  </tbody>\n</table>\n<p>3850 rows × 12 columns</p>\n</div>"
     },
     "execution_count": 84,
     "metadata": {},
     "output_type": "execute_result"
    }
   ],
   "source": [
    "# Test\n",
    "test_xdp = df_from_csv('submit_format.csv')\n",
    "test_xdp = test_xdp.drop(['probability'], axis=1)\n",
    "test_xdp = test_xdp.merge(alert_date, on='alert_key', how='left')\n",
    "test_xdp = test_xdp.merge(alert_cust, on='alert_key', how='left')\n",
    "test_xdp = test_xdp.progress_apply(calculate_tx, axis=1)\n",
    "test_xdp"
   ],
   "metadata": {
    "collapsed": false
   }
  },
  {
   "cell_type": "code",
   "execution_count": 107,
   "outputs": [
    {
     "data": {
      "text/plain": "        AGE  avg_amt_nontw_nonntd  avg_amt_nontw_ntd  avg_amt_tw_nonntd  \\\n0     0.250              0.000000           0.000000                0.0   \n3     0.500              0.000000           0.000000                0.0   \n4     0.250              0.000000           0.004095                0.0   \n5     0.375              0.000000           0.004175                0.0   \n6     0.250              0.000000           0.000000                0.0   \n...     ...                   ...                ...                ...   \n3842  0.375              0.000000           0.000000                0.0   \n3844  0.625              0.000000           0.000000                0.0   \n3845  0.125              0.001118           0.009599                0.0   \n3846  0.125              0.000000           0.007782                0.0   \n3848  0.250              0.000000           0.000000                0.0   \n\n      avg_amt_tw_ntd  avg_freq_nontw_nonntd  avg_freq_nontw_ntd  \\\n0           0.009252               0.000000            0.000000   \n3           0.000204               0.000000            0.000000   \n4           0.000036               0.000000            0.112200   \n5           0.000037               0.000000            0.112200   \n6           0.000000               0.000000            0.000000   \n...              ...                    ...                 ...   \n3842        0.000000               0.000000            0.000000   \n3844        0.000443               0.000000            0.000000   \n3845        0.000108               0.054348            0.115600   \n3846        0.000155               0.000000            0.115233   \n3848        0.000000               0.000000            0.000000   \n\n      avg_freq_tw_nonntd  avg_freq_tw_ntd    avg_tx  ...  \\\n0                    0.0         0.018408  0.002079  ...   \n3                    0.0         0.016324  0.022120  ...   \n4                    0.0         0.028396  0.077833  ...   \n5                    0.0         0.042043  0.008877  ...   \n6                    0.0         0.000000  0.012880  ...   \n...                  ...              ...       ...  ...   \n3842                 0.0         0.000000  0.000000  ...   \n3844                 0.0         0.018089  0.002789  ...   \n3845                 0.0         0.033196  0.001184  ...   \n3846                 0.0         0.022280  0.057153  ...   \n3848                 0.0         0.000000  0.126747  ...   \n\n      total_amt_nontw_nonntd  total_amt_nontw_ntd  total_amt_tw_nonntd  \\\n0                   0.000000             0.000000                  0.0   \n3                   0.000000             0.000000                  0.0   \n4                   0.000000             0.000022                  0.0   \n5                   0.000000             0.000068                  0.0   \n6                   0.000000             0.000000                  0.0   \n...                      ...                  ...                  ...   \n3842                0.000000             0.000000                  0.0   \n3844                0.000000             0.000000                  0.0   \n3845                0.000157             0.000892                  0.0   \n3846                0.000000             0.000808                  0.0   \n3848                0.000000             0.000000                  0.0   \n\n      total_amt_tw_ntd  total_freq_nontw_nonntd  total_freq_nontw_ntd  \\\n0             0.098068                 0.000000               0.00000   \n3             0.000327                 0.000000               0.00000   \n4             0.001485                 0.000000               0.00123   \n5             0.002010                 0.000000               0.00369   \n6             0.000000                 0.000000               0.00000   \n...                ...                      ...                   ...   \n3842          0.000000                 0.000000               0.00000   \n3844          0.003633                 0.000000               0.00000   \n3845          0.013083                 0.000138               0.02091   \n3846          0.003137                 0.000000               0.02337   \n3848          0.000000                 0.000000               0.00000   \n\n      total_freq_tw_nonntd  total_freq_tw_ntd  total_tx  tx_per_day  \n0                      0.0           0.007458  0.001114    0.002202  \n3                      0.0           0.001126  0.015066    0.002800  \n4                      0.0           0.029130  0.036186    0.001901  \n5                      0.0           0.038418  0.004807    0.002117  \n6                      0.0           0.000000  0.002366    0.000711  \n...                    ...                ...       ...         ...  \n3842                   0.0           0.000000  0.000000    0.000000  \n3844                   0.0           0.005770  0.000459    0.000648  \n3845                   0.0           0.085280  0.000768    0.002510  \n3846                   0.0           0.014213  0.057954    0.003935  \n3848                   0.0           0.000000  0.074932    0.002354  \n\n[1845 rows x 47 columns]",
      "text/html": "<div>\n<style scoped>\n    .dataframe tbody tr th:only-of-type {\n        vertical-align: middle;\n    }\n\n    .dataframe tbody tr th {\n        vertical-align: top;\n    }\n\n    .dataframe thead th {\n        text-align: right;\n    }\n</style>\n<table border=\"1\" class=\"dataframe\">\n  <thead>\n    <tr style=\"text-align: right;\">\n      <th></th>\n      <th>AGE</th>\n      <th>avg_amt_nontw_nonntd</th>\n      <th>avg_amt_nontw_ntd</th>\n      <th>avg_amt_tw_nonntd</th>\n      <th>avg_amt_tw_ntd</th>\n      <th>avg_freq_nontw_nonntd</th>\n      <th>avg_freq_nontw_ntd</th>\n      <th>avg_freq_tw_nonntd</th>\n      <th>avg_freq_tw_ntd</th>\n      <th>avg_tx</th>\n      <th>...</th>\n      <th>total_amt_nontw_nonntd</th>\n      <th>total_amt_nontw_ntd</th>\n      <th>total_amt_tw_nonntd</th>\n      <th>total_amt_tw_ntd</th>\n      <th>total_freq_nontw_nonntd</th>\n      <th>total_freq_nontw_ntd</th>\n      <th>total_freq_tw_nonntd</th>\n      <th>total_freq_tw_ntd</th>\n      <th>total_tx</th>\n      <th>tx_per_day</th>\n    </tr>\n  </thead>\n  <tbody>\n    <tr>\n      <th>0</th>\n      <td>0.250</td>\n      <td>0.000000</td>\n      <td>0.000000</td>\n      <td>0.0</td>\n      <td>0.009252</td>\n      <td>0.000000</td>\n      <td>0.000000</td>\n      <td>0.0</td>\n      <td>0.018408</td>\n      <td>0.002079</td>\n      <td>...</td>\n      <td>0.000000</td>\n      <td>0.000000</td>\n      <td>0.0</td>\n      <td>0.098068</td>\n      <td>0.000000</td>\n      <td>0.00000</td>\n      <td>0.0</td>\n      <td>0.007458</td>\n      <td>0.001114</td>\n      <td>0.002202</td>\n    </tr>\n    <tr>\n      <th>3</th>\n      <td>0.500</td>\n      <td>0.000000</td>\n      <td>0.000000</td>\n      <td>0.0</td>\n      <td>0.000204</td>\n      <td>0.000000</td>\n      <td>0.000000</td>\n      <td>0.0</td>\n      <td>0.016324</td>\n      <td>0.022120</td>\n      <td>...</td>\n      <td>0.000000</td>\n      <td>0.000000</td>\n      <td>0.0</td>\n      <td>0.000327</td>\n      <td>0.000000</td>\n      <td>0.00000</td>\n      <td>0.0</td>\n      <td>0.001126</td>\n      <td>0.015066</td>\n      <td>0.002800</td>\n    </tr>\n    <tr>\n      <th>4</th>\n      <td>0.250</td>\n      <td>0.000000</td>\n      <td>0.004095</td>\n      <td>0.0</td>\n      <td>0.000036</td>\n      <td>0.000000</td>\n      <td>0.112200</td>\n      <td>0.0</td>\n      <td>0.028396</td>\n      <td>0.077833</td>\n      <td>...</td>\n      <td>0.000000</td>\n      <td>0.000022</td>\n      <td>0.0</td>\n      <td>0.001485</td>\n      <td>0.000000</td>\n      <td>0.00123</td>\n      <td>0.0</td>\n      <td>0.029130</td>\n      <td>0.036186</td>\n      <td>0.001901</td>\n    </tr>\n    <tr>\n      <th>5</th>\n      <td>0.375</td>\n      <td>0.000000</td>\n      <td>0.004175</td>\n      <td>0.0</td>\n      <td>0.000037</td>\n      <td>0.000000</td>\n      <td>0.112200</td>\n      <td>0.0</td>\n      <td>0.042043</td>\n      <td>0.008877</td>\n      <td>...</td>\n      <td>0.000000</td>\n      <td>0.000068</td>\n      <td>0.0</td>\n      <td>0.002010</td>\n      <td>0.000000</td>\n      <td>0.00369</td>\n      <td>0.0</td>\n      <td>0.038418</td>\n      <td>0.004807</td>\n      <td>0.002117</td>\n    </tr>\n    <tr>\n      <th>6</th>\n      <td>0.250</td>\n      <td>0.000000</td>\n      <td>0.000000</td>\n      <td>0.0</td>\n      <td>0.000000</td>\n      <td>0.000000</td>\n      <td>0.000000</td>\n      <td>0.0</td>\n      <td>0.000000</td>\n      <td>0.012880</td>\n      <td>...</td>\n      <td>0.000000</td>\n      <td>0.000000</td>\n      <td>0.0</td>\n      <td>0.000000</td>\n      <td>0.000000</td>\n      <td>0.00000</td>\n      <td>0.0</td>\n      <td>0.000000</td>\n      <td>0.002366</td>\n      <td>0.000711</td>\n    </tr>\n    <tr>\n      <th>...</th>\n      <td>...</td>\n      <td>...</td>\n      <td>...</td>\n      <td>...</td>\n      <td>...</td>\n      <td>...</td>\n      <td>...</td>\n      <td>...</td>\n      <td>...</td>\n      <td>...</td>\n      <td>...</td>\n      <td>...</td>\n      <td>...</td>\n      <td>...</td>\n      <td>...</td>\n      <td>...</td>\n      <td>...</td>\n      <td>...</td>\n      <td>...</td>\n      <td>...</td>\n      <td>...</td>\n    </tr>\n    <tr>\n      <th>3842</th>\n      <td>0.375</td>\n      <td>0.000000</td>\n      <td>0.000000</td>\n      <td>0.0</td>\n      <td>0.000000</td>\n      <td>0.000000</td>\n      <td>0.000000</td>\n      <td>0.0</td>\n      <td>0.000000</td>\n      <td>0.000000</td>\n      <td>...</td>\n      <td>0.000000</td>\n      <td>0.000000</td>\n      <td>0.0</td>\n      <td>0.000000</td>\n      <td>0.000000</td>\n      <td>0.00000</td>\n      <td>0.0</td>\n      <td>0.000000</td>\n      <td>0.000000</td>\n      <td>0.000000</td>\n    </tr>\n    <tr>\n      <th>3844</th>\n      <td>0.625</td>\n      <td>0.000000</td>\n      <td>0.000000</td>\n      <td>0.0</td>\n      <td>0.000443</td>\n      <td>0.000000</td>\n      <td>0.000000</td>\n      <td>0.0</td>\n      <td>0.018089</td>\n      <td>0.002789</td>\n      <td>...</td>\n      <td>0.000000</td>\n      <td>0.000000</td>\n      <td>0.0</td>\n      <td>0.003633</td>\n      <td>0.000000</td>\n      <td>0.00000</td>\n      <td>0.0</td>\n      <td>0.005770</td>\n      <td>0.000459</td>\n      <td>0.000648</td>\n    </tr>\n    <tr>\n      <th>3845</th>\n      <td>0.125</td>\n      <td>0.001118</td>\n      <td>0.009599</td>\n      <td>0.0</td>\n      <td>0.000108</td>\n      <td>0.054348</td>\n      <td>0.115600</td>\n      <td>0.0</td>\n      <td>0.033196</td>\n      <td>0.001184</td>\n      <td>...</td>\n      <td>0.000157</td>\n      <td>0.000892</td>\n      <td>0.0</td>\n      <td>0.013083</td>\n      <td>0.000138</td>\n      <td>0.02091</td>\n      <td>0.0</td>\n      <td>0.085280</td>\n      <td>0.000768</td>\n      <td>0.002510</td>\n    </tr>\n    <tr>\n      <th>3846</th>\n      <td>0.125</td>\n      <td>0.000000</td>\n      <td>0.007782</td>\n      <td>0.0</td>\n      <td>0.000155</td>\n      <td>0.000000</td>\n      <td>0.115233</td>\n      <td>0.0</td>\n      <td>0.022280</td>\n      <td>0.057153</td>\n      <td>...</td>\n      <td>0.000000</td>\n      <td>0.000808</td>\n      <td>0.0</td>\n      <td>0.003137</td>\n      <td>0.000000</td>\n      <td>0.02337</td>\n      <td>0.0</td>\n      <td>0.014213</td>\n      <td>0.057954</td>\n      <td>0.003935</td>\n    </tr>\n    <tr>\n      <th>3848</th>\n      <td>0.250</td>\n      <td>0.000000</td>\n      <td>0.000000</td>\n      <td>0.0</td>\n      <td>0.000000</td>\n      <td>0.000000</td>\n      <td>0.000000</td>\n      <td>0.0</td>\n      <td>0.000000</td>\n      <td>0.126747</td>\n      <td>...</td>\n      <td>0.000000</td>\n      <td>0.000000</td>\n      <td>0.0</td>\n      <td>0.000000</td>\n      <td>0.000000</td>\n      <td>0.00000</td>\n      <td>0.0</td>\n      <td>0.000000</td>\n      <td>0.074932</td>\n      <td>0.002354</td>\n    </tr>\n  </tbody>\n</table>\n<p>1845 rows × 47 columns</p>\n</div>"
     },
     "execution_count": 107,
     "metadata": {},
     "output_type": "execute_result"
    }
   ],
   "source": [
    "# Test\n",
    "test = df_from_csv('submit_format.csv')\n",
    "test = test.drop(['probability'], axis=1)\n",
    "test = test.merge(test_xdp, on='alert_key', how='left')\n",
    "test = test.merge(ccba, on='cust_id', how='left')\n",
    "test = test.merge(cdtx, on='cust_id', how='left')\n",
    "test = test.drop(['alert_key', 'cust_id', 'occupation_code', 'total_asset'], axis=1)\n",
    "test['bad_value'] = test.isnull().sum(axis=1) + (test == 0).astype(int).sum(axis=1)\n",
    "test = test.loc[test['bad_value'] < 47]\n",
    "test.iloc[:, :] = test.iloc[:, :].fillna(0)\n",
    "test = test.drop(['bad_value'], axis=1)\n",
    "test = test.reindex(sorted(test.columns), axis=1)\n",
    "test = normalize_mms(test)\n",
    "test\n",
    "\n",
    "#test[test.columns.difference(train_x.columns.tolist(), sort=False)]"
   ],
   "metadata": {
    "collapsed": false
   }
  },
  {
   "cell_type": "code",
   "execution_count": 113,
   "outputs": [
    {
     "data": {
      "text/plain": "      probability\n0        0.396870\n3        0.617891\n4        0.546751\n5        0.367926\n6        0.062164\n...           ...\n3842     0.835441\n3844     0.258380\n3845     0.005943\n3846     0.059511\n3848     0.202200\n\n[1845 rows x 1 columns]",
      "text/html": "<div>\n<style scoped>\n    .dataframe tbody tr th:only-of-type {\n        vertical-align: middle;\n    }\n\n    .dataframe tbody tr th {\n        vertical-align: top;\n    }\n\n    .dataframe thead th {\n        text-align: right;\n    }\n</style>\n<table border=\"1\" class=\"dataframe\">\n  <thead>\n    <tr style=\"text-align: right;\">\n      <th></th>\n      <th>probability</th>\n    </tr>\n  </thead>\n  <tbody>\n    <tr>\n      <th>0</th>\n      <td>0.396870</td>\n    </tr>\n    <tr>\n      <th>3</th>\n      <td>0.617891</td>\n    </tr>\n    <tr>\n      <th>4</th>\n      <td>0.546751</td>\n    </tr>\n    <tr>\n      <th>5</th>\n      <td>0.367926</td>\n    </tr>\n    <tr>\n      <th>6</th>\n      <td>0.062164</td>\n    </tr>\n    <tr>\n      <th>...</th>\n      <td>...</td>\n    </tr>\n    <tr>\n      <th>3842</th>\n      <td>0.835441</td>\n    </tr>\n    <tr>\n      <th>3844</th>\n      <td>0.258380</td>\n    </tr>\n    <tr>\n      <th>3845</th>\n      <td>0.005943</td>\n    </tr>\n    <tr>\n      <th>3846</th>\n      <td>0.059511</td>\n    </tr>\n    <tr>\n      <th>3848</th>\n      <td>0.202200</td>\n    </tr>\n  </tbody>\n</table>\n<p>1845 rows × 1 columns</p>\n</div>"
     },
     "execution_count": 113,
     "metadata": {},
     "output_type": "execute_result"
    }
   ],
   "source": [
    "y_test = LR_search.predict_proba(test[test.columns[rfe_columns]])\n",
    "y_test = pd.DataFrame(y_test, columns=['probability0','probability'])\n",
    "y_test = y_test.drop(['probability0'], axis=1)\n",
    "y_test['probability'] = round(y_test['probability'], 6)\n",
    "y_test.index = test.index\n",
    "y_test"
   ],
   "metadata": {
    "collapsed": false
   }
  },
  {
   "cell_type": "code",
   "execution_count": 116,
   "outputs": [
    {
     "data": {
      "text/plain": "      alert_key  probability\n528      364191     1.000000\n98       356306     1.000000\n3286     358265     1.000000\n1347     353568     0.999941\n2438     361277     0.999576\n...         ...          ...\n3611     359626     0.000000\n2165     354668     0.000000\n1753     353879     0.000000\n1496     354013     0.000000\n258      355202     0.000000\n\n[3850 rows x 2 columns]",
      "text/html": "<div>\n<style scoped>\n    .dataframe tbody tr th:only-of-type {\n        vertical-align: middle;\n    }\n\n    .dataframe tbody tr th {\n        vertical-align: top;\n    }\n\n    .dataframe thead th {\n        text-align: right;\n    }\n</style>\n<table border=\"1\" class=\"dataframe\">\n  <thead>\n    <tr style=\"text-align: right;\">\n      <th></th>\n      <th>alert_key</th>\n      <th>probability</th>\n    </tr>\n  </thead>\n  <tbody>\n    <tr>\n      <th>528</th>\n      <td>364191</td>\n      <td>1.000000</td>\n    </tr>\n    <tr>\n      <th>98</th>\n      <td>356306</td>\n      <td>1.000000</td>\n    </tr>\n    <tr>\n      <th>3286</th>\n      <td>358265</td>\n      <td>1.000000</td>\n    </tr>\n    <tr>\n      <th>1347</th>\n      <td>353568</td>\n      <td>0.999941</td>\n    </tr>\n    <tr>\n      <th>2438</th>\n      <td>361277</td>\n      <td>0.999576</td>\n    </tr>\n    <tr>\n      <th>...</th>\n      <td>...</td>\n      <td>...</td>\n    </tr>\n    <tr>\n      <th>3611</th>\n      <td>359626</td>\n      <td>0.000000</td>\n    </tr>\n    <tr>\n      <th>2165</th>\n      <td>354668</td>\n      <td>0.000000</td>\n    </tr>\n    <tr>\n      <th>1753</th>\n      <td>353879</td>\n      <td>0.000000</td>\n    </tr>\n    <tr>\n      <th>1496</th>\n      <td>354013</td>\n      <td>0.000000</td>\n    </tr>\n    <tr>\n      <th>258</th>\n      <td>355202</td>\n      <td>0.000000</td>\n    </tr>\n  </tbody>\n</table>\n<p>3850 rows × 2 columns</p>\n</div>"
     },
     "execution_count": 116,
     "metadata": {},
     "output_type": "execute_result"
    }
   ],
   "source": [
    "xy_test = pd.concat([test, y_test], axis=1)\n",
    "submit = df_from_csv('submit_format.csv')\n",
    "submit = submit.drop(columns=['probability'])\n",
    "submit = pd.concat([submit, xy_test], axis=1)\n",
    "submit = submit[['alert_key','probability']]\n",
    "submit['probability'] = submit['probability'].fillna(0.01)\n",
    "submit = submit.sort_values(by='probability', ascending=False)\n",
    "submit.to_csv('final_submit.csv')\n",
    "submit"
   ],
   "metadata": {
    "collapsed": false
   }
  },
  {
   "cell_type": "code",
   "execution_count": 117,
   "outputs": [
    {
     "data": {
      "text/plain": "alert_key      False\nprobability    False\ndtype: bool"
     },
     "execution_count": 117,
     "metadata": {},
     "output_type": "execute_result"
    }
   ],
   "source": [
    "submit.isnull().any()"
   ],
   "metadata": {
    "collapsed": false
   }
  },
  {
   "cell_type": "code",
   "execution_count": 118,
   "outputs": [
    {
     "data": {
      "text/plain": "Empty DataFrame\nColumns: [alert_key, probability]\nIndex: []",
      "text/html": "<div>\n<style scoped>\n    .dataframe tbody tr th:only-of-type {\n        vertical-align: middle;\n    }\n\n    .dataframe tbody tr th {\n        vertical-align: top;\n    }\n\n    .dataframe thead th {\n        text-align: right;\n    }\n</style>\n<table border=\"1\" class=\"dataframe\">\n  <thead>\n    <tr style=\"text-align: right;\">\n      <th></th>\n      <th>alert_key</th>\n      <th>probability</th>\n    </tr>\n  </thead>\n  <tbody>\n  </tbody>\n</table>\n</div>"
     },
     "execution_count": 118,
     "metadata": {},
     "output_type": "execute_result"
    }
   ],
   "source": [
    "submit.loc[submit.duplicated(keep=False)]"
   ],
   "metadata": {
    "collapsed": false
   }
  },
  {
   "cell_type": "markdown",
   "source": [
    "# DNN"
   ],
   "metadata": {
    "collapsed": false
   }
  },
  {
   "cell_type": "code",
   "execution_count": null,
   "outputs": [],
   "source": [
    "# DNN\n",
    "# https://towardsdatascience.com/deep-learning-with-python-neural-networks-complete-tutorial-6b53c0b06af0\n",
    "# https://towardsdatascience.com/deep-neural-networks-for-regression-problems-81321897ca33\n",
    "\n",
    "from keras import models, layers, utils, backend as K\n",
    "from keras.callbacks import ModelCheckpoint\n",
    "import tensorflow as tf\n",
    "\n",
    "input_x = sm_x\n",
    "input_y = sm_y\n",
    "n_features = len(input_x.columns)\n",
    "epoch = 50\n",
    "\n",
    "inputs = layers.Input(name='input', shape=(n_features,))\n",
    "\n",
    "h1 = layers.Dense(name='h1', units=int(round((n_features+1)/2)), activation='relu')(inputs)\n",
    "h1 = layers.Dropout(name='drop1', rate=0.2)(h1)\n",
    "\n",
    "h2 = layers.Dense(name='h2', units=int(round((n_features+1)/4)), activation='relu')(h1)\n",
    "h2 = layers.Dropout(name='drop2', rate=0.2)(h2)\n",
    "\n",
    "outputs = layers.Dense(name='output', units=1, activation='sigmoid')(h2)\n",
    "\n",
    "DNN_1 = models.Model(inputs=inputs, outputs=outputs, name='DNN_1')\n",
    "DNN_1.compile(loss='mean_absolute_error', optimizer='adam', metrics=['mean_absolute_error'])\n",
    "DNN_1.summary()"
   ],
   "metadata": {
    "collapsed": false
   }
  },
  {
   "cell_type": "code",
   "execution_count": null,
   "outputs": [],
   "source": [
    "# Save checkpoint in case learning stopped in the middle\n",
    "# param 'mode' is based on 'monitor' param\n",
    "# classification: monitor accuracy\n",
    "# regression: monitor loss\n",
    "\n",
    "checkpoint_path = \"weights-improvement-{epoch:02d}-{val_loss:.2f}.hdf5\"\n",
    "checkpoint = ModelCheckpoint(checkpoint_path, monitor='val_loss', verbose=1, save_best_only=True, mode='auto')\n",
    "callbacks = [checkpoint]"
   ],
   "metadata": {
    "collapsed": false
   }
  },
  {
   "cell_type": "code",
   "execution_count": null,
   "outputs": [],
   "source": [
    "DNN_1.fit(x=input_x, y=input_y, batch_size=32, epochs=epoch, validation_split=0.3, callbacks=callbacks)"
   ],
   "metadata": {
    "collapsed": false
   }
  },
  {
   "cell_type": "code",
   "execution_count": null,
   "outputs": [],
   "source": [
    "best_file = 'weights-improvement-01-1.00.hdf5'\n",
    "DNN_1.load_weights(best_file)\n",
    "DNN_1.compile(loss='mean_absolute_error', optimizer='adam', metrics=['mean_absolute_error'])"
   ],
   "metadata": {
    "collapsed": false
   }
  },
  {
   "cell_type": "code",
   "execution_count": null,
   "outputs": [],
   "source": [
    "DNN_y_pred = DNN_1.predict(input_x)"
   ],
   "metadata": {
    "collapsed": false
   }
  },
  {
   "cell_type": "code",
   "execution_count": null,
   "outputs": [],
   "source": [
    "DNN_y_pred"
   ],
   "metadata": {
    "collapsed": false
   }
  },
  {
   "cell_type": "code",
   "execution_count": null,
   "outputs": [],
   "source": [],
   "metadata": {
    "collapsed": false
   }
  }
 ],
 "metadata": {
  "kernelspec": {
   "display_name": "Python 3",
   "language": "python",
   "name": "python3"
  },
  "language_info": {
   "codemirror_mode": {
    "name": "ipython",
    "version": 2
   },
   "file_extension": ".py",
   "mimetype": "text/x-python",
   "name": "python",
   "nbconvert_exporter": "python",
   "pygments_lexer": "ipython2",
   "version": "2.7.6"
  }
 },
 "nbformat": 4,
 "nbformat_minor": 0
}
