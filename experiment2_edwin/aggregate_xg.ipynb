{
 "cells": [
  {
   "cell_type": "code",
   "execution_count": 23,
   "metadata": {
    "collapsed": true
   },
   "outputs": [],
   "source": [
    "#Base\n",
    "\n",
    "import pandas as pd\n",
    "import os\n",
    "\n",
    "from sklearn.metrics import classification_report\n",
    "from sklearn.metrics import confusion_matrix\n",
    "from sklearn.model_selection import train_test_split\n",
    "from sklearn.metrics import accuracy_score\n",
    "from imblearn.over_sampling import SMOTE\n",
    "from imblearn.combine import SMOTETomek\n",
    "from sklearn.ensemble import RandomForestClassifier\n",
    "\n",
    "from sklearn.feature_selection import RFE\n",
    "\n",
    "import time\n",
    "from matplotlib import pyplot\n",
    "from sklearn.metrics import ConfusionMatrixDisplay\n",
    "import xgboost as xgb\n",
    "\n",
    "import statsmodels.api as sm\n",
    "\n",
    "from tqdm import tqdm\n",
    "\n",
    "\n",
    "dataset_folder = os.path.join(os.getcwd(), 'dataset')\n",
    "\n",
    "def df_from_csv(filename):\n",
    "    f = os.path.join(dataset_folder, filename)\n",
    "    return pd.read_csv(f, delimiter='\\t|\\n|,', engine='python')\n",
    "\n",
    "x_train = df_from_csv('ori_trainx.csv')\n",
    "y_train = df_from_csv('ori_trainy.csv')\n",
    "alert_date = df_from_csv('ori_alert_date.csv')\n",
    "alert_cust = df_from_csv('ori_custinfo.csv')\n",
    "xdp = df_from_csv('ori_xdp.csv')\n",
    "\n",
    "smote = SMOTE(random_state=0)\n",
    "tqdm.pandas(desc='Progress Bar')\n",
    "\n",
    "def SMOTE_oversampling(input_x, input_y):\n",
    "    x_train, x_test, y_train, y_test = train_test_split(input_x, input_y, test_size=0.3)\n",
    "    x_cols = x_train.columns\n",
    "    y_cols = y_train.columns\n",
    "\n",
    "    sm_data_x, sm_data_y = smote.fit_resample(x_train, y_train)\n",
    "    sm_data_x = pd.DataFrame(data=sm_data_x, columns=x_cols)\n",
    "    sm_data_y = pd.DataFrame(data=sm_data_y, columns=y_cols)\n",
    "\n",
    "    print(\"length of oversampled data is \",len(sm_data_x))\n",
    "    print(\"Number of non-sar in oversampled data\",len(sm_data_y[sm_data_y['sar_flag']==0]))\n",
    "    print(\"Number of sar\",len(sm_data_y[sm_data_y['sar_flag']==1]))\n",
    "    print(\"Proportion of no subscription data in oversampled data is \", len(sm_data_y[sm_data_y['sar_flag']==0])/len(sm_data_x))\n",
    "    print(\"Proportion of subscription data in oversampled data is \", len(sm_data_y[sm_data_y['sar_flag']==1])/len(sm_data_x))\n",
    "\n",
    "    return sm_data_x, sm_data_y\n",
    "\n",
    "def RFE_analysis(input_x, input_y, model):\n",
    "    rfe = RFE(model, step=300)\n",
    "    rfe.fit(input_x, input_y.values.ravel())\n",
    "    print(input_x.columns)\n",
    "    print(rfe.support_)\n",
    "    print(rfe.ranking_)\n",
    "    return rfe.get_support(1)\n",
    "\n",
    "def LR_analysis(input_x, input_y):\n",
    "    sm_LR = sm.Logit(input_y, input_x)\n",
    "    result = sm_LR.fit()\n",
    "    print(result.summary2())\n",
    "\n",
    "def LR_training(input_x, input_y, LR_model):\n",
    "    x_train, x_test, y_train, y_test = train_test_split(input_x, input_y, test_size=0.25)\n",
    "    LR_model.fit(x_train, y_train)\n",
    "    y_train_predict = LR_model.predict(x_train)\n",
    "    y_test_predict = LR_model.predict(x_test)\n",
    "    train_acc = accuracy_score(y_train, y_train_predict)\n",
    "    test_acc = accuracy_score(y_test, y_test_predict)\n",
    "    print(f'{train_acc}  {test_acc}')\n",
    "    cm = confusion_matrix(y_true=y_test, y_pred=y_test_predict)\n",
    "    print(cm)\n",
    "    return LR_model\n",
    "\n",
    "def LR_test(input_x, input_y, LR_model):\n",
    "    y_predict = LR_model.predict(input_x)\n",
    "    test_acc = accuracy_score(input_y, y_predict)\n",
    "    print(f'{test_acc}')\n",
    "    cm = confusion_matrix(y_true=input_y, y_pred=y_predict)\n",
    "    print(cm)\n",
    "    print(classification_report(y_true=input_y, y_pred=y_predict))\n",
    "\n",
    "def calculate_tx(row):\n",
    "    if not pd.isna(row['risk_rank']):\n",
    "        temp_frame = xdp[(xdp['tx_date'] <= row['date']) & (xdp['cust_id'] == row['cust_id'])]\n",
    "        total_tx = (temp_frame['tx_amt'] * temp_frame['exchg_rate'])\n",
    "        row['total_tx'] = total_tx.sum()\n",
    "        row['avg_tx'] = total_tx.mean()\n",
    "        row['count_tx'] = total_tx.count()\n",
    "        row['std_tx'] = total_tx.std()\n",
    "        row['tx_per_day'] = row['count_tx']/row['date']+1\n",
    "    return row\n",
    "\n",
    "def generate_train_dataset(X, y, model):\n",
    "    X_resampled, y_resampled = model.fit_resample(X, y)\n",
    "    return train_test_split(X_resampled, y_resampled, test_size=0.25, random_state=123)\n",
    "\n",
    "eta = 0.1\n",
    "max_depth = 3\n",
    "subsample = 0.9\n",
    "colsample_bytree = 1\n",
    "\n",
    "params_1 = {\n",
    "    \"booster\": \"gbtree\",\n",
    "    \"eval_metric\": \"auc\",\n",
    "    \"eta\": eta,\n",
    "    \"tree_method\": 'auto',\n",
    "    \"max_depth\": max_depth,\n",
    "    \"sampling_method\": \"uniform\",\n",
    "    \"subsample\": subsample,\n",
    "    \"colsample_bytree\": colsample_bytree\n",
    "}"
   ]
  },
  {
   "cell_type": "code",
   "execution_count": 24,
   "outputs": [],
   "source": [
    "# Join data for training\n",
    "\n",
    "ccba = pd.read_pickle('aggregated_ccba_cust.pkl')\n",
    "cdtx = pd.read_pickle('cdtx_agg.pkl')\n",
    "xdp = pd.read_pickle('xdp_x_train.pkl')\n",
    "remit = pd.read_pickle('cust_remit_raw.pkl')"
   ],
   "metadata": {
    "collapsed": false
   }
  },
  {
   "cell_type": "code",
   "execution_count": 25,
   "outputs": [
    {
     "data": {
      "text/plain": "   alert_key  date  sar_flag  \\\n0     171189     0         0   \n1     171202     0         0   \n2     171599     0         0   \n3     171737     0         0   \n4     171142     0         0   \n\n                                             cust_id  risk_rank  total_asset  \\\n0  972ee157e63316e8a50dd489bc93730a3ee8a8959d5c6b...          1     375576.0   \n1  a10ab33f90926fb18d7bb5e78034d7f04a1fbed95b7951...          3    2717416.0   \n2  3433ecc068ed1c9e2f5037cab5d42d7b901e9bd624c1fb...          1     326517.0   \n3  a0861608615a9365d90f4ba0a813c0ea0471987f925c8b...          3    1014759.0   \n4  a39fea9aec90969fe66a2b2b4d1b86368a2d38e8b8d4bf...          3     241719.0   \n\n   AGE  occupation_code_0  occupation_code_1  occupation_code_2  ...  \\\n0    4                  0                  0                  0  ...   \n1    2                  0                  0                  0  ...   \n2    4                  0                  0                  0  ...   \n3    4                  0                  0                  0  ...   \n4    3                  0                  0                  0  ...   \n\n   db_2_total_tx  db_2_avg_tx  db_2_count_tx  db_2_std_tx  db_2_tx_per_day  \\\n0            0.0          NaN              0          NaN              0.0   \n1            0.0          NaN              0          NaN              0.0   \n2            0.0          NaN              0          NaN              0.0   \n3            0.0          NaN              0          NaN              0.0   \n4            0.0          NaN              0          NaN              0.0   \n\n   db_3_total_tx  db_3_avg_tx  db_3_count_tx  db_3_std_tx  db_3_tx_per_day  \n0            0.0          NaN              0          NaN              0.0  \n1       156902.0     156902.0              1          NaN              1.0  \n2            0.0          NaN              0          NaN              0.0  \n3            0.0          NaN              0          NaN              0.0  \n4            0.0          NaN              0          NaN              0.0  \n\n[5 rows x 58 columns]",
      "text/html": "<div>\n<style scoped>\n    .dataframe tbody tr th:only-of-type {\n        vertical-align: middle;\n    }\n\n    .dataframe tbody tr th {\n        vertical-align: top;\n    }\n\n    .dataframe thead th {\n        text-align: right;\n    }\n</style>\n<table border=\"1\" class=\"dataframe\">\n  <thead>\n    <tr style=\"text-align: right;\">\n      <th></th>\n      <th>alert_key</th>\n      <th>date</th>\n      <th>sar_flag</th>\n      <th>cust_id</th>\n      <th>risk_rank</th>\n      <th>total_asset</th>\n      <th>AGE</th>\n      <th>occupation_code_0</th>\n      <th>occupation_code_1</th>\n      <th>occupation_code_2</th>\n      <th>...</th>\n      <th>db_2_total_tx</th>\n      <th>db_2_avg_tx</th>\n      <th>db_2_count_tx</th>\n      <th>db_2_std_tx</th>\n      <th>db_2_tx_per_day</th>\n      <th>db_3_total_tx</th>\n      <th>db_3_avg_tx</th>\n      <th>db_3_count_tx</th>\n      <th>db_3_std_tx</th>\n      <th>db_3_tx_per_day</th>\n    </tr>\n  </thead>\n  <tbody>\n    <tr>\n      <th>0</th>\n      <td>171189</td>\n      <td>0</td>\n      <td>0</td>\n      <td>972ee157e63316e8a50dd489bc93730a3ee8a8959d5c6b...</td>\n      <td>1</td>\n      <td>375576.0</td>\n      <td>4</td>\n      <td>0</td>\n      <td>0</td>\n      <td>0</td>\n      <td>...</td>\n      <td>0.0</td>\n      <td>NaN</td>\n      <td>0</td>\n      <td>NaN</td>\n      <td>0.0</td>\n      <td>0.0</td>\n      <td>NaN</td>\n      <td>0</td>\n      <td>NaN</td>\n      <td>0.0</td>\n    </tr>\n    <tr>\n      <th>1</th>\n      <td>171202</td>\n      <td>0</td>\n      <td>0</td>\n      <td>a10ab33f90926fb18d7bb5e78034d7f04a1fbed95b7951...</td>\n      <td>3</td>\n      <td>2717416.0</td>\n      <td>2</td>\n      <td>0</td>\n      <td>0</td>\n      <td>0</td>\n      <td>...</td>\n      <td>0.0</td>\n      <td>NaN</td>\n      <td>0</td>\n      <td>NaN</td>\n      <td>0.0</td>\n      <td>156902.0</td>\n      <td>156902.0</td>\n      <td>1</td>\n      <td>NaN</td>\n      <td>1.0</td>\n    </tr>\n    <tr>\n      <th>2</th>\n      <td>171599</td>\n      <td>0</td>\n      <td>0</td>\n      <td>3433ecc068ed1c9e2f5037cab5d42d7b901e9bd624c1fb...</td>\n      <td>1</td>\n      <td>326517.0</td>\n      <td>4</td>\n      <td>0</td>\n      <td>0</td>\n      <td>0</td>\n      <td>...</td>\n      <td>0.0</td>\n      <td>NaN</td>\n      <td>0</td>\n      <td>NaN</td>\n      <td>0.0</td>\n      <td>0.0</td>\n      <td>NaN</td>\n      <td>0</td>\n      <td>NaN</td>\n      <td>0.0</td>\n    </tr>\n    <tr>\n      <th>3</th>\n      <td>171737</td>\n      <td>0</td>\n      <td>0</td>\n      <td>a0861608615a9365d90f4ba0a813c0ea0471987f925c8b...</td>\n      <td>3</td>\n      <td>1014759.0</td>\n      <td>4</td>\n      <td>0</td>\n      <td>0</td>\n      <td>0</td>\n      <td>...</td>\n      <td>0.0</td>\n      <td>NaN</td>\n      <td>0</td>\n      <td>NaN</td>\n      <td>0.0</td>\n      <td>0.0</td>\n      <td>NaN</td>\n      <td>0</td>\n      <td>NaN</td>\n      <td>0.0</td>\n    </tr>\n    <tr>\n      <th>4</th>\n      <td>171142</td>\n      <td>0</td>\n      <td>0</td>\n      <td>a39fea9aec90969fe66a2b2b4d1b86368a2d38e8b8d4bf...</td>\n      <td>3</td>\n      <td>241719.0</td>\n      <td>3</td>\n      <td>0</td>\n      <td>0</td>\n      <td>0</td>\n      <td>...</td>\n      <td>0.0</td>\n      <td>NaN</td>\n      <td>0</td>\n      <td>NaN</td>\n      <td>0.0</td>\n      <td>0.0</td>\n      <td>NaN</td>\n      <td>0</td>\n      <td>NaN</td>\n      <td>0.0</td>\n    </tr>\n  </tbody>\n</table>\n<p>5 rows × 58 columns</p>\n</div>"
     },
     "execution_count": 25,
     "metadata": {},
     "output_type": "execute_result"
    }
   ],
   "source": [
    "xdp.head()"
   ],
   "metadata": {
    "collapsed": false
   }
  },
  {
   "cell_type": "code",
   "execution_count": 26,
   "outputs": [
    {
     "data": {
      "text/plain": "       AGE  alert_key  avg_amt_nontw_nonntd  avg_amt_nontw_ntd  \\\n0        4     171189           9044.740741        3033.355556   \n1        2     171202                   NaN                NaN   \n2        4     171599                   NaN                NaN   \n3        4     171737                   NaN                NaN   \n4        3     171142                   NaN                NaN   \n...    ...        ...                   ...                ...   \n23901    3     352132           4332.523077        1223.939446   \n23902    3     352125                   NaN                NaN   \n23903    6     352080                   NaN                NaN   \n23904    6     352075                   NaN                NaN   \n23905    2     351927                   NaN                NaN   \n\n       avg_amt_tw_nonntd  avg_amt_tw_ntd  avg_freq_nontw_nonntd  \\\n0                    NaN     1388.550403               1.350000   \n1                    NaN             NaN                    NaN   \n2                    NaN             NaN                    NaN   \n3                    NaN     1893.333333                    NaN   \n4                    NaN     7048.368421                    NaN   \n...                  ...             ...                    ...   \n23901                NaN      988.503826               1.160714   \n23902                NaN             NaN                    NaN   \n23903                NaN             NaN                    NaN   \n23904                NaN             NaN                    NaN   \n23905                NaN             NaN                    NaN   \n\n       avg_freq_nontw_ntd  avg_freq_tw_nonntd  avg_freq_tw_ntd  ...  \\\n0                1.097561                 NaN         2.147186  ...   \n1                     NaN                 NaN              NaN  ...   \n2                     NaN                 NaN              NaN  ...   \n3                     NaN                 NaN         1.500000  ...   \n4                     NaN                 NaN         1.055556  ...   \n...                   ...                 ...              ...  ...   \n23901            2.513043                 NaN         6.668367  ...   \n23902                 NaN                 NaN              NaN  ...   \n23903                 NaN                 NaN              NaN  ...   \n23904                 NaN                 NaN              NaN  ...   \n23905                 NaN                 NaN              NaN  ...   \n\n       total_amt_tw_nonntd  total_amt_tw_ntd  total_asset  total_asset_x  \\\n0                      NaN          688721.0     375576.0       375576.0   \n1                      NaN               NaN    2717416.0      2717416.0   \n2                      NaN               NaN     326517.0       326517.0   \n3                      NaN            5680.0    1014759.0      1014759.0   \n4                      NaN          133919.0     241719.0       241719.0   \n...                    ...               ...          ...            ...   \n23901                  NaN         2583949.0    3218731.0      3218731.0   \n23902                  NaN               NaN     928963.0       928963.0   \n23903                  NaN               NaN      69080.0        69080.0   \n23904                  NaN               NaN     262604.0       262604.0   \n23905                  NaN               NaN     332834.0       332834.0   \n\n       total_asset_y  total_freq_nontw_nonntd  total_freq_nontw_ntd  \\\n0       4.886652e+05                     27.0                  45.0   \n1       2.621840e+06                      NaN                   NaN   \n2       3.265170e+05                      NaN                   NaN   \n3       1.275499e+05                      NaN                   NaN   \n4       2.212473e+05                      NaN                   NaN   \n...              ...                      ...                   ...   \n23901   2.361632e+06                     65.0                 578.0   \n23902   5.041325e+05                      NaN                   NaN   \n23903   7.500171e+04                      NaN                   NaN   \n23904   3.333440e+05                      NaN                   NaN   \n23905   2.724419e+05                      NaN                   NaN   \n\n       total_freq_tw_nonntd  total_freq_tw_ntd  trade_sum  \n0                       NaN              496.0        NaN  \n1                       NaN                NaN        NaN  \n2                       NaN                NaN        NaN  \n3                       NaN                3.0        NaN  \n4                       NaN               19.0        NaN  \n...                     ...                ...        ...  \n23901                   NaN             2614.0   364459.0  \n23902                   NaN                NaN    22127.0  \n23903                   NaN                NaN    43676.0  \n23904                   NaN                NaN        NaN  \n23905                   NaN                NaN        NaN  \n\n[23906 rows x 102 columns]",
      "text/html": "<div>\n<style scoped>\n    .dataframe tbody tr th:only-of-type {\n        vertical-align: middle;\n    }\n\n    .dataframe tbody tr th {\n        vertical-align: top;\n    }\n\n    .dataframe thead th {\n        text-align: right;\n    }\n</style>\n<table border=\"1\" class=\"dataframe\">\n  <thead>\n    <tr style=\"text-align: right;\">\n      <th></th>\n      <th>AGE</th>\n      <th>alert_key</th>\n      <th>avg_amt_nontw_nonntd</th>\n      <th>avg_amt_nontw_ntd</th>\n      <th>avg_amt_tw_nonntd</th>\n      <th>avg_amt_tw_ntd</th>\n      <th>avg_freq_nontw_nonntd</th>\n      <th>avg_freq_nontw_ntd</th>\n      <th>avg_freq_tw_nonntd</th>\n      <th>avg_freq_tw_ntd</th>\n      <th>...</th>\n      <th>total_amt_tw_nonntd</th>\n      <th>total_amt_tw_ntd</th>\n      <th>total_asset</th>\n      <th>total_asset_x</th>\n      <th>total_asset_y</th>\n      <th>total_freq_nontw_nonntd</th>\n      <th>total_freq_nontw_ntd</th>\n      <th>total_freq_tw_nonntd</th>\n      <th>total_freq_tw_ntd</th>\n      <th>trade_sum</th>\n    </tr>\n  </thead>\n  <tbody>\n    <tr>\n      <th>0</th>\n      <td>4</td>\n      <td>171189</td>\n      <td>9044.740741</td>\n      <td>3033.355556</td>\n      <td>NaN</td>\n      <td>1388.550403</td>\n      <td>1.350000</td>\n      <td>1.097561</td>\n      <td>NaN</td>\n      <td>2.147186</td>\n      <td>...</td>\n      <td>NaN</td>\n      <td>688721.0</td>\n      <td>375576.0</td>\n      <td>375576.0</td>\n      <td>4.886652e+05</td>\n      <td>27.0</td>\n      <td>45.0</td>\n      <td>NaN</td>\n      <td>496.0</td>\n      <td>NaN</td>\n    </tr>\n    <tr>\n      <th>1</th>\n      <td>2</td>\n      <td>171202</td>\n      <td>NaN</td>\n      <td>NaN</td>\n      <td>NaN</td>\n      <td>NaN</td>\n      <td>NaN</td>\n      <td>NaN</td>\n      <td>NaN</td>\n      <td>NaN</td>\n      <td>...</td>\n      <td>NaN</td>\n      <td>NaN</td>\n      <td>2717416.0</td>\n      <td>2717416.0</td>\n      <td>2.621840e+06</td>\n      <td>NaN</td>\n      <td>NaN</td>\n      <td>NaN</td>\n      <td>NaN</td>\n      <td>NaN</td>\n    </tr>\n    <tr>\n      <th>2</th>\n      <td>4</td>\n      <td>171599</td>\n      <td>NaN</td>\n      <td>NaN</td>\n      <td>NaN</td>\n      <td>NaN</td>\n      <td>NaN</td>\n      <td>NaN</td>\n      <td>NaN</td>\n      <td>NaN</td>\n      <td>...</td>\n      <td>NaN</td>\n      <td>NaN</td>\n      <td>326517.0</td>\n      <td>326517.0</td>\n      <td>3.265170e+05</td>\n      <td>NaN</td>\n      <td>NaN</td>\n      <td>NaN</td>\n      <td>NaN</td>\n      <td>NaN</td>\n    </tr>\n    <tr>\n      <th>3</th>\n      <td>4</td>\n      <td>171737</td>\n      <td>NaN</td>\n      <td>NaN</td>\n      <td>NaN</td>\n      <td>1893.333333</td>\n      <td>NaN</td>\n      <td>NaN</td>\n      <td>NaN</td>\n      <td>1.500000</td>\n      <td>...</td>\n      <td>NaN</td>\n      <td>5680.0</td>\n      <td>1014759.0</td>\n      <td>1014759.0</td>\n      <td>1.275499e+05</td>\n      <td>NaN</td>\n      <td>NaN</td>\n      <td>NaN</td>\n      <td>3.0</td>\n      <td>NaN</td>\n    </tr>\n    <tr>\n      <th>4</th>\n      <td>3</td>\n      <td>171142</td>\n      <td>NaN</td>\n      <td>NaN</td>\n      <td>NaN</td>\n      <td>7048.368421</td>\n      <td>NaN</td>\n      <td>NaN</td>\n      <td>NaN</td>\n      <td>1.055556</td>\n      <td>...</td>\n      <td>NaN</td>\n      <td>133919.0</td>\n      <td>241719.0</td>\n      <td>241719.0</td>\n      <td>2.212473e+05</td>\n      <td>NaN</td>\n      <td>NaN</td>\n      <td>NaN</td>\n      <td>19.0</td>\n      <td>NaN</td>\n    </tr>\n    <tr>\n      <th>...</th>\n      <td>...</td>\n      <td>...</td>\n      <td>...</td>\n      <td>...</td>\n      <td>...</td>\n      <td>...</td>\n      <td>...</td>\n      <td>...</td>\n      <td>...</td>\n      <td>...</td>\n      <td>...</td>\n      <td>...</td>\n      <td>...</td>\n      <td>...</td>\n      <td>...</td>\n      <td>...</td>\n      <td>...</td>\n      <td>...</td>\n      <td>...</td>\n      <td>...</td>\n      <td>...</td>\n    </tr>\n    <tr>\n      <th>23901</th>\n      <td>3</td>\n      <td>352132</td>\n      <td>4332.523077</td>\n      <td>1223.939446</td>\n      <td>NaN</td>\n      <td>988.503826</td>\n      <td>1.160714</td>\n      <td>2.513043</td>\n      <td>NaN</td>\n      <td>6.668367</td>\n      <td>...</td>\n      <td>NaN</td>\n      <td>2583949.0</td>\n      <td>3218731.0</td>\n      <td>3218731.0</td>\n      <td>2.361632e+06</td>\n      <td>65.0</td>\n      <td>578.0</td>\n      <td>NaN</td>\n      <td>2614.0</td>\n      <td>364459.0</td>\n    </tr>\n    <tr>\n      <th>23902</th>\n      <td>3</td>\n      <td>352125</td>\n      <td>NaN</td>\n      <td>NaN</td>\n      <td>NaN</td>\n      <td>NaN</td>\n      <td>NaN</td>\n      <td>NaN</td>\n      <td>NaN</td>\n      <td>NaN</td>\n      <td>...</td>\n      <td>NaN</td>\n      <td>NaN</td>\n      <td>928963.0</td>\n      <td>928963.0</td>\n      <td>5.041325e+05</td>\n      <td>NaN</td>\n      <td>NaN</td>\n      <td>NaN</td>\n      <td>NaN</td>\n      <td>22127.0</td>\n    </tr>\n    <tr>\n      <th>23903</th>\n      <td>6</td>\n      <td>352080</td>\n      <td>NaN</td>\n      <td>NaN</td>\n      <td>NaN</td>\n      <td>NaN</td>\n      <td>NaN</td>\n      <td>NaN</td>\n      <td>NaN</td>\n      <td>NaN</td>\n      <td>...</td>\n      <td>NaN</td>\n      <td>NaN</td>\n      <td>69080.0</td>\n      <td>69080.0</td>\n      <td>7.500171e+04</td>\n      <td>NaN</td>\n      <td>NaN</td>\n      <td>NaN</td>\n      <td>NaN</td>\n      <td>43676.0</td>\n    </tr>\n    <tr>\n      <th>23904</th>\n      <td>6</td>\n      <td>352075</td>\n      <td>NaN</td>\n      <td>NaN</td>\n      <td>NaN</td>\n      <td>NaN</td>\n      <td>NaN</td>\n      <td>NaN</td>\n      <td>NaN</td>\n      <td>NaN</td>\n      <td>...</td>\n      <td>NaN</td>\n      <td>NaN</td>\n      <td>262604.0</td>\n      <td>262604.0</td>\n      <td>3.333440e+05</td>\n      <td>NaN</td>\n      <td>NaN</td>\n      <td>NaN</td>\n      <td>NaN</td>\n      <td>NaN</td>\n    </tr>\n    <tr>\n      <th>23905</th>\n      <td>2</td>\n      <td>351927</td>\n      <td>NaN</td>\n      <td>NaN</td>\n      <td>NaN</td>\n      <td>NaN</td>\n      <td>NaN</td>\n      <td>NaN</td>\n      <td>NaN</td>\n      <td>NaN</td>\n      <td>...</td>\n      <td>NaN</td>\n      <td>NaN</td>\n      <td>332834.0</td>\n      <td>332834.0</td>\n      <td>2.724419e+05</td>\n      <td>NaN</td>\n      <td>NaN</td>\n      <td>NaN</td>\n      <td>NaN</td>\n      <td>NaN</td>\n    </tr>\n  </tbody>\n</table>\n<p>23906 rows × 102 columns</p>\n</div>"
     },
     "execution_count": 26,
     "metadata": {},
     "output_type": "execute_result"
    }
   ],
   "source": [
    "train = df_from_csv('ori_trainx.csv')\n",
    "train = train.merge(df_from_csv('ori_trainy.csv'), on='alert_key', how='inner')\n",
    "train = train.merge(alert_cust, on='alert_key', how='left')\n",
    "train = train[['alert_key', 'cust_id']]\n",
    "train = train.merge(ccba, on='cust_id', how='left')\n",
    "train = train.merge(cdtx, on='cust_id', how='left')\n",
    "train = train.merge(xdp, on='alert_key', how='left')\n",
    "train = train.merge(remit, on='alert_key', how='left')\n",
    "train = train.reindex(sorted(train.columns), axis=1)\n",
    "train"
   ],
   "metadata": {
    "collapsed": false
   }
  },
  {
   "cell_type": "code",
   "execution_count": 27,
   "outputs": [],
   "source": [
    "train['bad_value'] = train.isnull().sum(axis=1) + (train == 0).astype(int).sum(axis=1)"
   ],
   "metadata": {
    "collapsed": false
   }
  },
  {
   "cell_type": "code",
   "execution_count": 28,
   "outputs": [],
   "source": [
    "train = train.drop(['cust_id_x', 'cust_id_y', 'date'], axis=1)\n",
    "train.to_pickle('aggregate.pkl')"
   ],
   "metadata": {
    "collapsed": false
   }
  },
  {
   "cell_type": "code",
   "execution_count": 29,
   "outputs": [
    {
     "data": {
      "text/plain": "       AGE  avg_amt_nontw_nonntd  avg_amt_nontw_ntd  avg_amt_tw_nonntd  \\\n0        4           9044.740741        3033.355556                NaN   \n1        2                   NaN                NaN                NaN   \n2        4                   NaN                NaN                NaN   \n3        4                   NaN                NaN                NaN   \n4        3                   NaN                NaN                NaN   \n...    ...                   ...                ...                ...   \n23901    3           4332.523077        1223.939446                NaN   \n23902    3                   NaN                NaN                NaN   \n23903    6                   NaN                NaN                NaN   \n23904    6                   NaN                NaN                NaN   \n23905    2                   NaN                NaN                NaN   \n\n       avg_amt_tw_ntd  avg_freq_nontw_nonntd  avg_freq_nontw_ntd  \\\n0         1388.550403               1.350000            1.097561   \n1                 NaN                    NaN                 NaN   \n2                 NaN                    NaN                 NaN   \n3         1893.333333                    NaN                 NaN   \n4         7048.368421                    NaN                 NaN   \n...               ...                    ...                 ...   \n23901      988.503826               1.160714            2.513043   \n23902             NaN                    NaN                 NaN   \n23903             NaN                    NaN                 NaN   \n23904             NaN                    NaN                 NaN   \n23905             NaN                    NaN                 NaN   \n\n       avg_freq_tw_nonntd  avg_freq_tw_ntd    cr_1_avg_tx  ...  \\\n0                     NaN         2.147186            NaN  ...   \n1                     NaN              NaN            NaN  ...   \n2                     NaN              NaN            NaN  ...   \n3                     NaN         1.500000            NaN  ...   \n4                     NaN         1.055556            NaN  ...   \n...                   ...              ...            ...  ...   \n23901                 NaN         6.668367     932.000000  ...   \n23902                 NaN              NaN            NaN  ...   \n23903                 NaN              NaN  360378.928571  ...   \n23904                 NaN              NaN  369905.885463  ...   \n23905                 NaN              NaN    1715.666667  ...   \n\n       total_amt_tw_ntd  total_asset  total_asset_x  total_asset_y  \\\n0              688721.0     375576.0       375576.0   4.886652e+05   \n1                   NaN    2717416.0      2717416.0   2.621840e+06   \n2                   NaN     326517.0       326517.0   3.265170e+05   \n3                5680.0    1014759.0      1014759.0   1.275499e+05   \n4              133919.0     241719.0       241719.0   2.212473e+05   \n...                 ...          ...            ...            ...   \n23901         2583949.0    3218731.0      3218731.0   2.361632e+06   \n23902               NaN     928963.0       928963.0   5.041325e+05   \n23903               NaN      69080.0        69080.0   7.500171e+04   \n23904               NaN     262604.0       262604.0   3.333440e+05   \n23905               NaN     332834.0       332834.0   2.724419e+05   \n\n       total_freq_nontw_nonntd  total_freq_nontw_ntd  total_freq_tw_nonntd  \\\n0                         27.0                  45.0                   NaN   \n1                          NaN                   NaN                   NaN   \n2                          NaN                   NaN                   NaN   \n3                          NaN                   NaN                   NaN   \n4                          NaN                   NaN                   NaN   \n...                        ...                   ...                   ...   \n23901                     65.0                 578.0                   NaN   \n23902                      NaN                   NaN                   NaN   \n23903                      NaN                   NaN                   NaN   \n23904                      NaN                   NaN                   NaN   \n23905                      NaN                   NaN                   NaN   \n\n       total_freq_tw_ntd  trade_sum  bad_value  \n0                  496.0        NaN         74  \n1                    NaN        NaN         80  \n2                    NaN        NaN         92  \n3                    3.0        NaN         82  \n4                   19.0        NaN         81  \n...                  ...        ...        ...  \n23901             2614.0   364459.0         63  \n23902                NaN    22127.0         81  \n23903                NaN    43676.0         80  \n23904                NaN        NaN         76  \n23905                NaN        NaN         76  \n\n[23906 rows x 99 columns]",
      "text/html": "<div>\n<style scoped>\n    .dataframe tbody tr th:only-of-type {\n        vertical-align: middle;\n    }\n\n    .dataframe tbody tr th {\n        vertical-align: top;\n    }\n\n    .dataframe thead th {\n        text-align: right;\n    }\n</style>\n<table border=\"1\" class=\"dataframe\">\n  <thead>\n    <tr style=\"text-align: right;\">\n      <th></th>\n      <th>AGE</th>\n      <th>avg_amt_nontw_nonntd</th>\n      <th>avg_amt_nontw_ntd</th>\n      <th>avg_amt_tw_nonntd</th>\n      <th>avg_amt_tw_ntd</th>\n      <th>avg_freq_nontw_nonntd</th>\n      <th>avg_freq_nontw_ntd</th>\n      <th>avg_freq_tw_nonntd</th>\n      <th>avg_freq_tw_ntd</th>\n      <th>cr_1_avg_tx</th>\n      <th>...</th>\n      <th>total_amt_tw_ntd</th>\n      <th>total_asset</th>\n      <th>total_asset_x</th>\n      <th>total_asset_y</th>\n      <th>total_freq_nontw_nonntd</th>\n      <th>total_freq_nontw_ntd</th>\n      <th>total_freq_tw_nonntd</th>\n      <th>total_freq_tw_ntd</th>\n      <th>trade_sum</th>\n      <th>bad_value</th>\n    </tr>\n  </thead>\n  <tbody>\n    <tr>\n      <th>0</th>\n      <td>4</td>\n      <td>9044.740741</td>\n      <td>3033.355556</td>\n      <td>NaN</td>\n      <td>1388.550403</td>\n      <td>1.350000</td>\n      <td>1.097561</td>\n      <td>NaN</td>\n      <td>2.147186</td>\n      <td>NaN</td>\n      <td>...</td>\n      <td>688721.0</td>\n      <td>375576.0</td>\n      <td>375576.0</td>\n      <td>4.886652e+05</td>\n      <td>27.0</td>\n      <td>45.0</td>\n      <td>NaN</td>\n      <td>496.0</td>\n      <td>NaN</td>\n      <td>74</td>\n    </tr>\n    <tr>\n      <th>1</th>\n      <td>2</td>\n      <td>NaN</td>\n      <td>NaN</td>\n      <td>NaN</td>\n      <td>NaN</td>\n      <td>NaN</td>\n      <td>NaN</td>\n      <td>NaN</td>\n      <td>NaN</td>\n      <td>NaN</td>\n      <td>...</td>\n      <td>NaN</td>\n      <td>2717416.0</td>\n      <td>2717416.0</td>\n      <td>2.621840e+06</td>\n      <td>NaN</td>\n      <td>NaN</td>\n      <td>NaN</td>\n      <td>NaN</td>\n      <td>NaN</td>\n      <td>80</td>\n    </tr>\n    <tr>\n      <th>2</th>\n      <td>4</td>\n      <td>NaN</td>\n      <td>NaN</td>\n      <td>NaN</td>\n      <td>NaN</td>\n      <td>NaN</td>\n      <td>NaN</td>\n      <td>NaN</td>\n      <td>NaN</td>\n      <td>NaN</td>\n      <td>...</td>\n      <td>NaN</td>\n      <td>326517.0</td>\n      <td>326517.0</td>\n      <td>3.265170e+05</td>\n      <td>NaN</td>\n      <td>NaN</td>\n      <td>NaN</td>\n      <td>NaN</td>\n      <td>NaN</td>\n      <td>92</td>\n    </tr>\n    <tr>\n      <th>3</th>\n      <td>4</td>\n      <td>NaN</td>\n      <td>NaN</td>\n      <td>NaN</td>\n      <td>1893.333333</td>\n      <td>NaN</td>\n      <td>NaN</td>\n      <td>NaN</td>\n      <td>1.500000</td>\n      <td>NaN</td>\n      <td>...</td>\n      <td>5680.0</td>\n      <td>1014759.0</td>\n      <td>1014759.0</td>\n      <td>1.275499e+05</td>\n      <td>NaN</td>\n      <td>NaN</td>\n      <td>NaN</td>\n      <td>3.0</td>\n      <td>NaN</td>\n      <td>82</td>\n    </tr>\n    <tr>\n      <th>4</th>\n      <td>3</td>\n      <td>NaN</td>\n      <td>NaN</td>\n      <td>NaN</td>\n      <td>7048.368421</td>\n      <td>NaN</td>\n      <td>NaN</td>\n      <td>NaN</td>\n      <td>1.055556</td>\n      <td>NaN</td>\n      <td>...</td>\n      <td>133919.0</td>\n      <td>241719.0</td>\n      <td>241719.0</td>\n      <td>2.212473e+05</td>\n      <td>NaN</td>\n      <td>NaN</td>\n      <td>NaN</td>\n      <td>19.0</td>\n      <td>NaN</td>\n      <td>81</td>\n    </tr>\n    <tr>\n      <th>...</th>\n      <td>...</td>\n      <td>...</td>\n      <td>...</td>\n      <td>...</td>\n      <td>...</td>\n      <td>...</td>\n      <td>...</td>\n      <td>...</td>\n      <td>...</td>\n      <td>...</td>\n      <td>...</td>\n      <td>...</td>\n      <td>...</td>\n      <td>...</td>\n      <td>...</td>\n      <td>...</td>\n      <td>...</td>\n      <td>...</td>\n      <td>...</td>\n      <td>...</td>\n      <td>...</td>\n    </tr>\n    <tr>\n      <th>23901</th>\n      <td>3</td>\n      <td>4332.523077</td>\n      <td>1223.939446</td>\n      <td>NaN</td>\n      <td>988.503826</td>\n      <td>1.160714</td>\n      <td>2.513043</td>\n      <td>NaN</td>\n      <td>6.668367</td>\n      <td>932.000000</td>\n      <td>...</td>\n      <td>2583949.0</td>\n      <td>3218731.0</td>\n      <td>3218731.0</td>\n      <td>2.361632e+06</td>\n      <td>65.0</td>\n      <td>578.0</td>\n      <td>NaN</td>\n      <td>2614.0</td>\n      <td>364459.0</td>\n      <td>63</td>\n    </tr>\n    <tr>\n      <th>23902</th>\n      <td>3</td>\n      <td>NaN</td>\n      <td>NaN</td>\n      <td>NaN</td>\n      <td>NaN</td>\n      <td>NaN</td>\n      <td>NaN</td>\n      <td>NaN</td>\n      <td>NaN</td>\n      <td>NaN</td>\n      <td>...</td>\n      <td>NaN</td>\n      <td>928963.0</td>\n      <td>928963.0</td>\n      <td>5.041325e+05</td>\n      <td>NaN</td>\n      <td>NaN</td>\n      <td>NaN</td>\n      <td>NaN</td>\n      <td>22127.0</td>\n      <td>81</td>\n    </tr>\n    <tr>\n      <th>23903</th>\n      <td>6</td>\n      <td>NaN</td>\n      <td>NaN</td>\n      <td>NaN</td>\n      <td>NaN</td>\n      <td>NaN</td>\n      <td>NaN</td>\n      <td>NaN</td>\n      <td>NaN</td>\n      <td>360378.928571</td>\n      <td>...</td>\n      <td>NaN</td>\n      <td>69080.0</td>\n      <td>69080.0</td>\n      <td>7.500171e+04</td>\n      <td>NaN</td>\n      <td>NaN</td>\n      <td>NaN</td>\n      <td>NaN</td>\n      <td>43676.0</td>\n      <td>80</td>\n    </tr>\n    <tr>\n      <th>23904</th>\n      <td>6</td>\n      <td>NaN</td>\n      <td>NaN</td>\n      <td>NaN</td>\n      <td>NaN</td>\n      <td>NaN</td>\n      <td>NaN</td>\n      <td>NaN</td>\n      <td>NaN</td>\n      <td>369905.885463</td>\n      <td>...</td>\n      <td>NaN</td>\n      <td>262604.0</td>\n      <td>262604.0</td>\n      <td>3.333440e+05</td>\n      <td>NaN</td>\n      <td>NaN</td>\n      <td>NaN</td>\n      <td>NaN</td>\n      <td>NaN</td>\n      <td>76</td>\n    </tr>\n    <tr>\n      <th>23905</th>\n      <td>2</td>\n      <td>NaN</td>\n      <td>NaN</td>\n      <td>NaN</td>\n      <td>NaN</td>\n      <td>NaN</td>\n      <td>NaN</td>\n      <td>NaN</td>\n      <td>NaN</td>\n      <td>1715.666667</td>\n      <td>...</td>\n      <td>NaN</td>\n      <td>332834.0</td>\n      <td>332834.0</td>\n      <td>2.724419e+05</td>\n      <td>NaN</td>\n      <td>NaN</td>\n      <td>NaN</td>\n      <td>NaN</td>\n      <td>NaN</td>\n      <td>76</td>\n    </tr>\n  </tbody>\n</table>\n<p>23906 rows × 99 columns</p>\n</div>"
     },
     "execution_count": 29,
     "metadata": {},
     "output_type": "execute_result"
    }
   ],
   "source": [
    "train = train.drop(['alert_key'], axis=1)\n",
    "train"
   ],
   "metadata": {
    "collapsed": false
   }
  },
  {
   "cell_type": "code",
   "execution_count": 30,
   "outputs": [
    {
     "data": {
      "text/plain": "       AGE  avg_amt_nontw_nonntd  avg_amt_nontw_ntd  avg_amt_tw_nonntd  \\\n0        4           9044.740741        3033.355556                NaN   \n1        2                   NaN                NaN                NaN   \n2        4                   NaN                NaN                NaN   \n3        4                   NaN                NaN                NaN   \n4        3                   NaN                NaN                NaN   \n...    ...                   ...                ...                ...   \n23901    3           4332.523077        1223.939446                NaN   \n23902    3                   NaN                NaN                NaN   \n23903    6                   NaN                NaN                NaN   \n23904    6                   NaN                NaN                NaN   \n23905    2                   NaN                NaN                NaN   \n\n       avg_amt_tw_ntd  avg_freq_nontw_nonntd  avg_freq_nontw_ntd  \\\n0         1388.550403               1.350000            1.097561   \n1                 NaN                    NaN                 NaN   \n2                 NaN                    NaN                 NaN   \n3         1893.333333                    NaN                 NaN   \n4         7048.368421                    NaN                 NaN   \n...               ...                    ...                 ...   \n23901      988.503826               1.160714            2.513043   \n23902             NaN                    NaN                 NaN   \n23903             NaN                    NaN                 NaN   \n23904             NaN                    NaN                 NaN   \n23905             NaN                    NaN                 NaN   \n\n       avg_freq_tw_nonntd  avg_freq_tw_ntd    cr_1_avg_tx  ...  \\\n0                     NaN         2.147186            NaN  ...   \n1                     NaN              NaN            NaN  ...   \n2                     NaN              NaN            NaN  ...   \n3                     NaN         1.500000            NaN  ...   \n4                     NaN         1.055556            NaN  ...   \n...                   ...              ...            ...  ...   \n23901                 NaN         6.668367     932.000000  ...   \n23902                 NaN              NaN            NaN  ...   \n23903                 NaN              NaN  360378.928571  ...   \n23904                 NaN              NaN  369905.885463  ...   \n23905                 NaN              NaN    1715.666667  ...   \n\n       total_amt_tw_ntd  total_asset  total_asset_x  total_asset_y  \\\n0              688721.0     375576.0       375576.0   4.886652e+05   \n1                   NaN    2717416.0      2717416.0   2.621840e+06   \n2                   NaN     326517.0       326517.0   3.265170e+05   \n3                5680.0    1014759.0      1014759.0   1.275499e+05   \n4              133919.0     241719.0       241719.0   2.212473e+05   \n...                 ...          ...            ...            ...   \n23901         2583949.0    3218731.0      3218731.0   2.361632e+06   \n23902               NaN     928963.0       928963.0   5.041325e+05   \n23903               NaN      69080.0        69080.0   7.500171e+04   \n23904               NaN     262604.0       262604.0   3.333440e+05   \n23905               NaN     332834.0       332834.0   2.724419e+05   \n\n       total_freq_nontw_nonntd  total_freq_nontw_ntd  total_freq_tw_nonntd  \\\n0                         27.0                  45.0                   NaN   \n1                          NaN                   NaN                   NaN   \n2                          NaN                   NaN                   NaN   \n3                          NaN                   NaN                   NaN   \n4                          NaN                   NaN                   NaN   \n...                        ...                   ...                   ...   \n23901                     65.0                 578.0                   NaN   \n23902                      NaN                   NaN                   NaN   \n23903                      NaN                   NaN                   NaN   \n23904                      NaN                   NaN                   NaN   \n23905                      NaN                   NaN                   NaN   \n\n       total_freq_tw_ntd  trade_sum  bad_value  \n0                  496.0        NaN         73  \n1                    NaN        NaN         79  \n2                    NaN        NaN         91  \n3                    3.0        NaN         81  \n4                   19.0        NaN         80  \n...                  ...        ...        ...  \n23901             2614.0   364459.0         63  \n23902                NaN    22127.0         81  \n23903                NaN    43676.0         80  \n23904                NaN        NaN         76  \n23905                NaN        NaN         76  \n\n[23906 rows x 99 columns]",
      "text/html": "<div>\n<style scoped>\n    .dataframe tbody tr th:only-of-type {\n        vertical-align: middle;\n    }\n\n    .dataframe tbody tr th {\n        vertical-align: top;\n    }\n\n    .dataframe thead th {\n        text-align: right;\n    }\n</style>\n<table border=\"1\" class=\"dataframe\">\n  <thead>\n    <tr style=\"text-align: right;\">\n      <th></th>\n      <th>AGE</th>\n      <th>avg_amt_nontw_nonntd</th>\n      <th>avg_amt_nontw_ntd</th>\n      <th>avg_amt_tw_nonntd</th>\n      <th>avg_amt_tw_ntd</th>\n      <th>avg_freq_nontw_nonntd</th>\n      <th>avg_freq_nontw_ntd</th>\n      <th>avg_freq_tw_nonntd</th>\n      <th>avg_freq_tw_ntd</th>\n      <th>cr_1_avg_tx</th>\n      <th>...</th>\n      <th>total_amt_tw_ntd</th>\n      <th>total_asset</th>\n      <th>total_asset_x</th>\n      <th>total_asset_y</th>\n      <th>total_freq_nontw_nonntd</th>\n      <th>total_freq_nontw_ntd</th>\n      <th>total_freq_tw_nonntd</th>\n      <th>total_freq_tw_ntd</th>\n      <th>trade_sum</th>\n      <th>bad_value</th>\n    </tr>\n  </thead>\n  <tbody>\n    <tr>\n      <th>0</th>\n      <td>4</td>\n      <td>9044.740741</td>\n      <td>3033.355556</td>\n      <td>NaN</td>\n      <td>1388.550403</td>\n      <td>1.350000</td>\n      <td>1.097561</td>\n      <td>NaN</td>\n      <td>2.147186</td>\n      <td>NaN</td>\n      <td>...</td>\n      <td>688721.0</td>\n      <td>375576.0</td>\n      <td>375576.0</td>\n      <td>4.886652e+05</td>\n      <td>27.0</td>\n      <td>45.0</td>\n      <td>NaN</td>\n      <td>496.0</td>\n      <td>NaN</td>\n      <td>73</td>\n    </tr>\n    <tr>\n      <th>1</th>\n      <td>2</td>\n      <td>NaN</td>\n      <td>NaN</td>\n      <td>NaN</td>\n      <td>NaN</td>\n      <td>NaN</td>\n      <td>NaN</td>\n      <td>NaN</td>\n      <td>NaN</td>\n      <td>NaN</td>\n      <td>...</td>\n      <td>NaN</td>\n      <td>2717416.0</td>\n      <td>2717416.0</td>\n      <td>2.621840e+06</td>\n      <td>NaN</td>\n      <td>NaN</td>\n      <td>NaN</td>\n      <td>NaN</td>\n      <td>NaN</td>\n      <td>79</td>\n    </tr>\n    <tr>\n      <th>2</th>\n      <td>4</td>\n      <td>NaN</td>\n      <td>NaN</td>\n      <td>NaN</td>\n      <td>NaN</td>\n      <td>NaN</td>\n      <td>NaN</td>\n      <td>NaN</td>\n      <td>NaN</td>\n      <td>NaN</td>\n      <td>...</td>\n      <td>NaN</td>\n      <td>326517.0</td>\n      <td>326517.0</td>\n      <td>3.265170e+05</td>\n      <td>NaN</td>\n      <td>NaN</td>\n      <td>NaN</td>\n      <td>NaN</td>\n      <td>NaN</td>\n      <td>91</td>\n    </tr>\n    <tr>\n      <th>3</th>\n      <td>4</td>\n      <td>NaN</td>\n      <td>NaN</td>\n      <td>NaN</td>\n      <td>1893.333333</td>\n      <td>NaN</td>\n      <td>NaN</td>\n      <td>NaN</td>\n      <td>1.500000</td>\n      <td>NaN</td>\n      <td>...</td>\n      <td>5680.0</td>\n      <td>1014759.0</td>\n      <td>1014759.0</td>\n      <td>1.275499e+05</td>\n      <td>NaN</td>\n      <td>NaN</td>\n      <td>NaN</td>\n      <td>3.0</td>\n      <td>NaN</td>\n      <td>81</td>\n    </tr>\n    <tr>\n      <th>4</th>\n      <td>3</td>\n      <td>NaN</td>\n      <td>NaN</td>\n      <td>NaN</td>\n      <td>7048.368421</td>\n      <td>NaN</td>\n      <td>NaN</td>\n      <td>NaN</td>\n      <td>1.055556</td>\n      <td>NaN</td>\n      <td>...</td>\n      <td>133919.0</td>\n      <td>241719.0</td>\n      <td>241719.0</td>\n      <td>2.212473e+05</td>\n      <td>NaN</td>\n      <td>NaN</td>\n      <td>NaN</td>\n      <td>19.0</td>\n      <td>NaN</td>\n      <td>80</td>\n    </tr>\n    <tr>\n      <th>...</th>\n      <td>...</td>\n      <td>...</td>\n      <td>...</td>\n      <td>...</td>\n      <td>...</td>\n      <td>...</td>\n      <td>...</td>\n      <td>...</td>\n      <td>...</td>\n      <td>...</td>\n      <td>...</td>\n      <td>...</td>\n      <td>...</td>\n      <td>...</td>\n      <td>...</td>\n      <td>...</td>\n      <td>...</td>\n      <td>...</td>\n      <td>...</td>\n      <td>...</td>\n      <td>...</td>\n    </tr>\n    <tr>\n      <th>23901</th>\n      <td>3</td>\n      <td>4332.523077</td>\n      <td>1223.939446</td>\n      <td>NaN</td>\n      <td>988.503826</td>\n      <td>1.160714</td>\n      <td>2.513043</td>\n      <td>NaN</td>\n      <td>6.668367</td>\n      <td>932.000000</td>\n      <td>...</td>\n      <td>2583949.0</td>\n      <td>3218731.0</td>\n      <td>3218731.0</td>\n      <td>2.361632e+06</td>\n      <td>65.0</td>\n      <td>578.0</td>\n      <td>NaN</td>\n      <td>2614.0</td>\n      <td>364459.0</td>\n      <td>63</td>\n    </tr>\n    <tr>\n      <th>23902</th>\n      <td>3</td>\n      <td>NaN</td>\n      <td>NaN</td>\n      <td>NaN</td>\n      <td>NaN</td>\n      <td>NaN</td>\n      <td>NaN</td>\n      <td>NaN</td>\n      <td>NaN</td>\n      <td>NaN</td>\n      <td>...</td>\n      <td>NaN</td>\n      <td>928963.0</td>\n      <td>928963.0</td>\n      <td>5.041325e+05</td>\n      <td>NaN</td>\n      <td>NaN</td>\n      <td>NaN</td>\n      <td>NaN</td>\n      <td>22127.0</td>\n      <td>81</td>\n    </tr>\n    <tr>\n      <th>23903</th>\n      <td>6</td>\n      <td>NaN</td>\n      <td>NaN</td>\n      <td>NaN</td>\n      <td>NaN</td>\n      <td>NaN</td>\n      <td>NaN</td>\n      <td>NaN</td>\n      <td>NaN</td>\n      <td>360378.928571</td>\n      <td>...</td>\n      <td>NaN</td>\n      <td>69080.0</td>\n      <td>69080.0</td>\n      <td>7.500171e+04</td>\n      <td>NaN</td>\n      <td>NaN</td>\n      <td>NaN</td>\n      <td>NaN</td>\n      <td>43676.0</td>\n      <td>80</td>\n    </tr>\n    <tr>\n      <th>23904</th>\n      <td>6</td>\n      <td>NaN</td>\n      <td>NaN</td>\n      <td>NaN</td>\n      <td>NaN</td>\n      <td>NaN</td>\n      <td>NaN</td>\n      <td>NaN</td>\n      <td>NaN</td>\n      <td>369905.885463</td>\n      <td>...</td>\n      <td>NaN</td>\n      <td>262604.0</td>\n      <td>262604.0</td>\n      <td>3.333440e+05</td>\n      <td>NaN</td>\n      <td>NaN</td>\n      <td>NaN</td>\n      <td>NaN</td>\n      <td>NaN</td>\n      <td>76</td>\n    </tr>\n    <tr>\n      <th>23905</th>\n      <td>2</td>\n      <td>NaN</td>\n      <td>NaN</td>\n      <td>NaN</td>\n      <td>NaN</td>\n      <td>NaN</td>\n      <td>NaN</td>\n      <td>NaN</td>\n      <td>NaN</td>\n      <td>1715.666667</td>\n      <td>...</td>\n      <td>NaN</td>\n      <td>332834.0</td>\n      <td>332834.0</td>\n      <td>2.724419e+05</td>\n      <td>NaN</td>\n      <td>NaN</td>\n      <td>NaN</td>\n      <td>NaN</td>\n      <td>NaN</td>\n      <td>76</td>\n    </tr>\n  </tbody>\n</table>\n<p>23906 rows × 99 columns</p>\n</div>"
     },
     "execution_count": 30,
     "metadata": {},
     "output_type": "execute_result"
    }
   ],
   "source": [
    "train['bad_value'] = train.isnull().sum(axis=1) + (train == 0).astype(int).sum(axis=1)\n",
    "train"
   ],
   "metadata": {
    "collapsed": false
   }
  },
  {
   "cell_type": "code",
   "execution_count": 31,
   "outputs": [
    {
     "data": {
      "text/plain": "       AGE  avg_amt_nontw_nonntd  avg_amt_nontw_ntd  avg_amt_tw_nonntd  \\\n0        4           9044.740741        3033.355556                NaN   \n1        2                   NaN                NaN                NaN   \n2        4                   NaN                NaN                NaN   \n3        4                   NaN                NaN                NaN   \n4        3                   NaN                NaN                NaN   \n...    ...                   ...                ...                ...   \n23901    3           4332.523077        1223.939446                NaN   \n23902    3                   NaN                NaN                NaN   \n23903    6                   NaN                NaN                NaN   \n23904    6                   NaN                NaN                NaN   \n23905    2                   NaN                NaN                NaN   \n\n       avg_amt_tw_ntd  avg_freq_nontw_nonntd  avg_freq_nontw_ntd  \\\n0         1388.550403               1.350000            1.097561   \n1                 NaN                    NaN                 NaN   \n2                 NaN                    NaN                 NaN   \n3         1893.333333                    NaN                 NaN   \n4         7048.368421                    NaN                 NaN   \n...               ...                    ...                 ...   \n23901      988.503826               1.160714            2.513043   \n23902             NaN                    NaN                 NaN   \n23903             NaN                    NaN                 NaN   \n23904             NaN                    NaN                 NaN   \n23905             NaN                    NaN                 NaN   \n\n       avg_freq_tw_nonntd  avg_freq_tw_ntd    cr_1_avg_tx  ...  \\\n0                     NaN         2.147186            NaN  ...   \n1                     NaN              NaN            NaN  ...   \n2                     NaN              NaN            NaN  ...   \n3                     NaN         1.500000            NaN  ...   \n4                     NaN         1.055556            NaN  ...   \n...                   ...              ...            ...  ...   \n23901                 NaN         6.668367     932.000000  ...   \n23902                 NaN              NaN            NaN  ...   \n23903                 NaN              NaN  360378.928571  ...   \n23904                 NaN              NaN  369905.885463  ...   \n23905                 NaN              NaN    1715.666667  ...   \n\n       total_amt_tw_ntd  total_asset  total_asset_x  total_asset_y  \\\n0              688721.0     375576.0       375576.0   4.886652e+05   \n1                   NaN    2717416.0      2717416.0   2.621840e+06   \n2                   NaN     326517.0       326517.0   3.265170e+05   \n3                5680.0    1014759.0      1014759.0   1.275499e+05   \n4              133919.0     241719.0       241719.0   2.212473e+05   \n...                 ...          ...            ...            ...   \n23901         2583949.0    3218731.0      3218731.0   2.361632e+06   \n23902               NaN     928963.0       928963.0   5.041325e+05   \n23903               NaN      69080.0        69080.0   7.500171e+04   \n23904               NaN     262604.0       262604.0   3.333440e+05   \n23905               NaN     332834.0       332834.0   2.724419e+05   \n\n       total_freq_nontw_nonntd  total_freq_nontw_ntd  total_freq_tw_nonntd  \\\n0                         27.0                  45.0                   NaN   \n1                          NaN                   NaN                   NaN   \n2                          NaN                   NaN                   NaN   \n3                          NaN                   NaN                   NaN   \n4                          NaN                   NaN                   NaN   \n...                        ...                   ...                   ...   \n23901                     65.0                 578.0                   NaN   \n23902                      NaN                   NaN                   NaN   \n23903                      NaN                   NaN                   NaN   \n23904                      NaN                   NaN                   NaN   \n23905                      NaN                   NaN                   NaN   \n\n       total_freq_tw_ntd  trade_sum  bad_value  \n0                  496.0        NaN         73  \n1                    NaN        NaN         79  \n2                    NaN        NaN         91  \n3                    3.0        NaN         81  \n4                   19.0        NaN         80  \n...                  ...        ...        ...  \n23901             2614.0   364459.0         63  \n23902                NaN    22127.0         81  \n23903                NaN    43676.0         80  \n23904                NaN        NaN         76  \n23905                NaN        NaN         76  \n\n[23906 rows x 99 columns]",
      "text/html": "<div>\n<style scoped>\n    .dataframe tbody tr th:only-of-type {\n        vertical-align: middle;\n    }\n\n    .dataframe tbody tr th {\n        vertical-align: top;\n    }\n\n    .dataframe thead th {\n        text-align: right;\n    }\n</style>\n<table border=\"1\" class=\"dataframe\">\n  <thead>\n    <tr style=\"text-align: right;\">\n      <th></th>\n      <th>AGE</th>\n      <th>avg_amt_nontw_nonntd</th>\n      <th>avg_amt_nontw_ntd</th>\n      <th>avg_amt_tw_nonntd</th>\n      <th>avg_amt_tw_ntd</th>\n      <th>avg_freq_nontw_nonntd</th>\n      <th>avg_freq_nontw_ntd</th>\n      <th>avg_freq_tw_nonntd</th>\n      <th>avg_freq_tw_ntd</th>\n      <th>cr_1_avg_tx</th>\n      <th>...</th>\n      <th>total_amt_tw_ntd</th>\n      <th>total_asset</th>\n      <th>total_asset_x</th>\n      <th>total_asset_y</th>\n      <th>total_freq_nontw_nonntd</th>\n      <th>total_freq_nontw_ntd</th>\n      <th>total_freq_tw_nonntd</th>\n      <th>total_freq_tw_ntd</th>\n      <th>trade_sum</th>\n      <th>bad_value</th>\n    </tr>\n  </thead>\n  <tbody>\n    <tr>\n      <th>0</th>\n      <td>4</td>\n      <td>9044.740741</td>\n      <td>3033.355556</td>\n      <td>NaN</td>\n      <td>1388.550403</td>\n      <td>1.350000</td>\n      <td>1.097561</td>\n      <td>NaN</td>\n      <td>2.147186</td>\n      <td>NaN</td>\n      <td>...</td>\n      <td>688721.0</td>\n      <td>375576.0</td>\n      <td>375576.0</td>\n      <td>4.886652e+05</td>\n      <td>27.0</td>\n      <td>45.0</td>\n      <td>NaN</td>\n      <td>496.0</td>\n      <td>NaN</td>\n      <td>73</td>\n    </tr>\n    <tr>\n      <th>1</th>\n      <td>2</td>\n      <td>NaN</td>\n      <td>NaN</td>\n      <td>NaN</td>\n      <td>NaN</td>\n      <td>NaN</td>\n      <td>NaN</td>\n      <td>NaN</td>\n      <td>NaN</td>\n      <td>NaN</td>\n      <td>...</td>\n      <td>NaN</td>\n      <td>2717416.0</td>\n      <td>2717416.0</td>\n      <td>2.621840e+06</td>\n      <td>NaN</td>\n      <td>NaN</td>\n      <td>NaN</td>\n      <td>NaN</td>\n      <td>NaN</td>\n      <td>79</td>\n    </tr>\n    <tr>\n      <th>2</th>\n      <td>4</td>\n      <td>NaN</td>\n      <td>NaN</td>\n      <td>NaN</td>\n      <td>NaN</td>\n      <td>NaN</td>\n      <td>NaN</td>\n      <td>NaN</td>\n      <td>NaN</td>\n      <td>NaN</td>\n      <td>...</td>\n      <td>NaN</td>\n      <td>326517.0</td>\n      <td>326517.0</td>\n      <td>3.265170e+05</td>\n      <td>NaN</td>\n      <td>NaN</td>\n      <td>NaN</td>\n      <td>NaN</td>\n      <td>NaN</td>\n      <td>91</td>\n    </tr>\n    <tr>\n      <th>3</th>\n      <td>4</td>\n      <td>NaN</td>\n      <td>NaN</td>\n      <td>NaN</td>\n      <td>1893.333333</td>\n      <td>NaN</td>\n      <td>NaN</td>\n      <td>NaN</td>\n      <td>1.500000</td>\n      <td>NaN</td>\n      <td>...</td>\n      <td>5680.0</td>\n      <td>1014759.0</td>\n      <td>1014759.0</td>\n      <td>1.275499e+05</td>\n      <td>NaN</td>\n      <td>NaN</td>\n      <td>NaN</td>\n      <td>3.0</td>\n      <td>NaN</td>\n      <td>81</td>\n    </tr>\n    <tr>\n      <th>4</th>\n      <td>3</td>\n      <td>NaN</td>\n      <td>NaN</td>\n      <td>NaN</td>\n      <td>7048.368421</td>\n      <td>NaN</td>\n      <td>NaN</td>\n      <td>NaN</td>\n      <td>1.055556</td>\n      <td>NaN</td>\n      <td>...</td>\n      <td>133919.0</td>\n      <td>241719.0</td>\n      <td>241719.0</td>\n      <td>2.212473e+05</td>\n      <td>NaN</td>\n      <td>NaN</td>\n      <td>NaN</td>\n      <td>19.0</td>\n      <td>NaN</td>\n      <td>80</td>\n    </tr>\n    <tr>\n      <th>...</th>\n      <td>...</td>\n      <td>...</td>\n      <td>...</td>\n      <td>...</td>\n      <td>...</td>\n      <td>...</td>\n      <td>...</td>\n      <td>...</td>\n      <td>...</td>\n      <td>...</td>\n      <td>...</td>\n      <td>...</td>\n      <td>...</td>\n      <td>...</td>\n      <td>...</td>\n      <td>...</td>\n      <td>...</td>\n      <td>...</td>\n      <td>...</td>\n      <td>...</td>\n      <td>...</td>\n    </tr>\n    <tr>\n      <th>23901</th>\n      <td>3</td>\n      <td>4332.523077</td>\n      <td>1223.939446</td>\n      <td>NaN</td>\n      <td>988.503826</td>\n      <td>1.160714</td>\n      <td>2.513043</td>\n      <td>NaN</td>\n      <td>6.668367</td>\n      <td>932.000000</td>\n      <td>...</td>\n      <td>2583949.0</td>\n      <td>3218731.0</td>\n      <td>3218731.0</td>\n      <td>2.361632e+06</td>\n      <td>65.0</td>\n      <td>578.0</td>\n      <td>NaN</td>\n      <td>2614.0</td>\n      <td>364459.0</td>\n      <td>63</td>\n    </tr>\n    <tr>\n      <th>23902</th>\n      <td>3</td>\n      <td>NaN</td>\n      <td>NaN</td>\n      <td>NaN</td>\n      <td>NaN</td>\n      <td>NaN</td>\n      <td>NaN</td>\n      <td>NaN</td>\n      <td>NaN</td>\n      <td>NaN</td>\n      <td>...</td>\n      <td>NaN</td>\n      <td>928963.0</td>\n      <td>928963.0</td>\n      <td>5.041325e+05</td>\n      <td>NaN</td>\n      <td>NaN</td>\n      <td>NaN</td>\n      <td>NaN</td>\n      <td>22127.0</td>\n      <td>81</td>\n    </tr>\n    <tr>\n      <th>23903</th>\n      <td>6</td>\n      <td>NaN</td>\n      <td>NaN</td>\n      <td>NaN</td>\n      <td>NaN</td>\n      <td>NaN</td>\n      <td>NaN</td>\n      <td>NaN</td>\n      <td>NaN</td>\n      <td>360378.928571</td>\n      <td>...</td>\n      <td>NaN</td>\n      <td>69080.0</td>\n      <td>69080.0</td>\n      <td>7.500171e+04</td>\n      <td>NaN</td>\n      <td>NaN</td>\n      <td>NaN</td>\n      <td>NaN</td>\n      <td>43676.0</td>\n      <td>80</td>\n    </tr>\n    <tr>\n      <th>23904</th>\n      <td>6</td>\n      <td>NaN</td>\n      <td>NaN</td>\n      <td>NaN</td>\n      <td>NaN</td>\n      <td>NaN</td>\n      <td>NaN</td>\n      <td>NaN</td>\n      <td>NaN</td>\n      <td>369905.885463</td>\n      <td>...</td>\n      <td>NaN</td>\n      <td>262604.0</td>\n      <td>262604.0</td>\n      <td>3.333440e+05</td>\n      <td>NaN</td>\n      <td>NaN</td>\n      <td>NaN</td>\n      <td>NaN</td>\n      <td>NaN</td>\n      <td>76</td>\n    </tr>\n    <tr>\n      <th>23905</th>\n      <td>2</td>\n      <td>NaN</td>\n      <td>NaN</td>\n      <td>NaN</td>\n      <td>NaN</td>\n      <td>NaN</td>\n      <td>NaN</td>\n      <td>NaN</td>\n      <td>NaN</td>\n      <td>1715.666667</td>\n      <td>...</td>\n      <td>NaN</td>\n      <td>332834.0</td>\n      <td>332834.0</td>\n      <td>2.724419e+05</td>\n      <td>NaN</td>\n      <td>NaN</td>\n      <td>NaN</td>\n      <td>NaN</td>\n      <td>NaN</td>\n      <td>76</td>\n    </tr>\n  </tbody>\n</table>\n<p>23906 rows × 99 columns</p>\n</div>"
     },
     "execution_count": 31,
     "metadata": {},
     "output_type": "execute_result"
    }
   ],
   "source": [
    "ori_train = train.copy()\n",
    "# train = train.loc[train['bad_value']<41]\n",
    "train"
   ],
   "metadata": {
    "collapsed": false
   }
  },
  {
   "cell_type": "code",
   "execution_count": 32,
   "outputs": [
    {
     "data": {
      "text/plain": "       AGE  avg_amt_nontw_nonntd  avg_amt_nontw_ntd  avg_amt_tw_nonntd  \\\n0        4           9044.740741        3033.355556                0.0   \n1        2              0.000000           0.000000                0.0   \n2        4              0.000000           0.000000                0.0   \n3        4              0.000000           0.000000                0.0   \n4        3              0.000000           0.000000                0.0   \n...    ...                   ...                ...                ...   \n23901    3           4332.523077        1223.939446                0.0   \n23902    3              0.000000           0.000000                0.0   \n23903    6              0.000000           0.000000                0.0   \n23904    6              0.000000           0.000000                0.0   \n23905    2              0.000000           0.000000                0.0   \n\n       avg_amt_tw_ntd  avg_freq_nontw_nonntd  avg_freq_nontw_ntd  \\\n0         1388.550403               1.350000            1.097561   \n1            0.000000               0.000000            0.000000   \n2            0.000000               0.000000            0.000000   \n3         1893.333333               0.000000            0.000000   \n4         7048.368421               0.000000            0.000000   \n...               ...                    ...                 ...   \n23901      988.503826               1.160714            2.513043   \n23902        0.000000               0.000000            0.000000   \n23903        0.000000               0.000000            0.000000   \n23904        0.000000               0.000000            0.000000   \n23905        0.000000               0.000000            0.000000   \n\n       avg_freq_tw_nonntd  avg_freq_tw_ntd    cr_1_avg_tx  ...  \\\n0                     0.0         2.147186       0.000000  ...   \n1                     0.0         0.000000       0.000000  ...   \n2                     0.0         0.000000       0.000000  ...   \n3                     0.0         1.500000       0.000000  ...   \n4                     0.0         1.055556       0.000000  ...   \n...                   ...              ...            ...  ...   \n23901                 0.0         6.668367     932.000000  ...   \n23902                 0.0         0.000000       0.000000  ...   \n23903                 0.0         0.000000  360378.928571  ...   \n23904                 0.0         0.000000  369905.885463  ...   \n23905                 0.0         0.000000    1715.666667  ...   \n\n       total_amt_tw_ntd  total_asset  total_asset_x  total_asset_y  \\\n0              688721.0     375576.0       375576.0   4.886652e+05   \n1                   0.0    2717416.0      2717416.0   2.621840e+06   \n2                   0.0     326517.0       326517.0   3.265170e+05   \n3                5680.0    1014759.0      1014759.0   1.275499e+05   \n4              133919.0     241719.0       241719.0   2.212473e+05   \n...                 ...          ...            ...            ...   \n23901         2583949.0    3218731.0      3218731.0   2.361632e+06   \n23902               0.0     928963.0       928963.0   5.041325e+05   \n23903               0.0      69080.0        69080.0   7.500171e+04   \n23904               0.0     262604.0       262604.0   3.333440e+05   \n23905               0.0     332834.0       332834.0   2.724419e+05   \n\n       total_freq_nontw_nonntd  total_freq_nontw_ntd  total_freq_tw_nonntd  \\\n0                         27.0                  45.0                   0.0   \n1                          0.0                   0.0                   0.0   \n2                          0.0                   0.0                   0.0   \n3                          0.0                   0.0                   0.0   \n4                          0.0                   0.0                   0.0   \n...                        ...                   ...                   ...   \n23901                     65.0                 578.0                   0.0   \n23902                      0.0                   0.0                   0.0   \n23903                      0.0                   0.0                   0.0   \n23904                      0.0                   0.0                   0.0   \n23905                      0.0                   0.0                   0.0   \n\n       total_freq_tw_ntd  trade_sum  bad_value  \n0                  496.0        0.0         73  \n1                    0.0        0.0         79  \n2                    0.0        0.0         91  \n3                    3.0        0.0         81  \n4                   19.0        0.0         80  \n...                  ...        ...        ...  \n23901             2614.0   364459.0         63  \n23902                0.0    22127.0         81  \n23903                0.0    43676.0         80  \n23904                0.0        0.0         76  \n23905                0.0        0.0         76  \n\n[23906 rows x 99 columns]",
      "text/html": "<div>\n<style scoped>\n    .dataframe tbody tr th:only-of-type {\n        vertical-align: middle;\n    }\n\n    .dataframe tbody tr th {\n        vertical-align: top;\n    }\n\n    .dataframe thead th {\n        text-align: right;\n    }\n</style>\n<table border=\"1\" class=\"dataframe\">\n  <thead>\n    <tr style=\"text-align: right;\">\n      <th></th>\n      <th>AGE</th>\n      <th>avg_amt_nontw_nonntd</th>\n      <th>avg_amt_nontw_ntd</th>\n      <th>avg_amt_tw_nonntd</th>\n      <th>avg_amt_tw_ntd</th>\n      <th>avg_freq_nontw_nonntd</th>\n      <th>avg_freq_nontw_ntd</th>\n      <th>avg_freq_tw_nonntd</th>\n      <th>avg_freq_tw_ntd</th>\n      <th>cr_1_avg_tx</th>\n      <th>...</th>\n      <th>total_amt_tw_ntd</th>\n      <th>total_asset</th>\n      <th>total_asset_x</th>\n      <th>total_asset_y</th>\n      <th>total_freq_nontw_nonntd</th>\n      <th>total_freq_nontw_ntd</th>\n      <th>total_freq_tw_nonntd</th>\n      <th>total_freq_tw_ntd</th>\n      <th>trade_sum</th>\n      <th>bad_value</th>\n    </tr>\n  </thead>\n  <tbody>\n    <tr>\n      <th>0</th>\n      <td>4</td>\n      <td>9044.740741</td>\n      <td>3033.355556</td>\n      <td>0.0</td>\n      <td>1388.550403</td>\n      <td>1.350000</td>\n      <td>1.097561</td>\n      <td>0.0</td>\n      <td>2.147186</td>\n      <td>0.000000</td>\n      <td>...</td>\n      <td>688721.0</td>\n      <td>375576.0</td>\n      <td>375576.0</td>\n      <td>4.886652e+05</td>\n      <td>27.0</td>\n      <td>45.0</td>\n      <td>0.0</td>\n      <td>496.0</td>\n      <td>0.0</td>\n      <td>73</td>\n    </tr>\n    <tr>\n      <th>1</th>\n      <td>2</td>\n      <td>0.000000</td>\n      <td>0.000000</td>\n      <td>0.0</td>\n      <td>0.000000</td>\n      <td>0.000000</td>\n      <td>0.000000</td>\n      <td>0.0</td>\n      <td>0.000000</td>\n      <td>0.000000</td>\n      <td>...</td>\n      <td>0.0</td>\n      <td>2717416.0</td>\n      <td>2717416.0</td>\n      <td>2.621840e+06</td>\n      <td>0.0</td>\n      <td>0.0</td>\n      <td>0.0</td>\n      <td>0.0</td>\n      <td>0.0</td>\n      <td>79</td>\n    </tr>\n    <tr>\n      <th>2</th>\n      <td>4</td>\n      <td>0.000000</td>\n      <td>0.000000</td>\n      <td>0.0</td>\n      <td>0.000000</td>\n      <td>0.000000</td>\n      <td>0.000000</td>\n      <td>0.0</td>\n      <td>0.000000</td>\n      <td>0.000000</td>\n      <td>...</td>\n      <td>0.0</td>\n      <td>326517.0</td>\n      <td>326517.0</td>\n      <td>3.265170e+05</td>\n      <td>0.0</td>\n      <td>0.0</td>\n      <td>0.0</td>\n      <td>0.0</td>\n      <td>0.0</td>\n      <td>91</td>\n    </tr>\n    <tr>\n      <th>3</th>\n      <td>4</td>\n      <td>0.000000</td>\n      <td>0.000000</td>\n      <td>0.0</td>\n      <td>1893.333333</td>\n      <td>0.000000</td>\n      <td>0.000000</td>\n      <td>0.0</td>\n      <td>1.500000</td>\n      <td>0.000000</td>\n      <td>...</td>\n      <td>5680.0</td>\n      <td>1014759.0</td>\n      <td>1014759.0</td>\n      <td>1.275499e+05</td>\n      <td>0.0</td>\n      <td>0.0</td>\n      <td>0.0</td>\n      <td>3.0</td>\n      <td>0.0</td>\n      <td>81</td>\n    </tr>\n    <tr>\n      <th>4</th>\n      <td>3</td>\n      <td>0.000000</td>\n      <td>0.000000</td>\n      <td>0.0</td>\n      <td>7048.368421</td>\n      <td>0.000000</td>\n      <td>0.000000</td>\n      <td>0.0</td>\n      <td>1.055556</td>\n      <td>0.000000</td>\n      <td>...</td>\n      <td>133919.0</td>\n      <td>241719.0</td>\n      <td>241719.0</td>\n      <td>2.212473e+05</td>\n      <td>0.0</td>\n      <td>0.0</td>\n      <td>0.0</td>\n      <td>19.0</td>\n      <td>0.0</td>\n      <td>80</td>\n    </tr>\n    <tr>\n      <th>...</th>\n      <td>...</td>\n      <td>...</td>\n      <td>...</td>\n      <td>...</td>\n      <td>...</td>\n      <td>...</td>\n      <td>...</td>\n      <td>...</td>\n      <td>...</td>\n      <td>...</td>\n      <td>...</td>\n      <td>...</td>\n      <td>...</td>\n      <td>...</td>\n      <td>...</td>\n      <td>...</td>\n      <td>...</td>\n      <td>...</td>\n      <td>...</td>\n      <td>...</td>\n      <td>...</td>\n    </tr>\n    <tr>\n      <th>23901</th>\n      <td>3</td>\n      <td>4332.523077</td>\n      <td>1223.939446</td>\n      <td>0.0</td>\n      <td>988.503826</td>\n      <td>1.160714</td>\n      <td>2.513043</td>\n      <td>0.0</td>\n      <td>6.668367</td>\n      <td>932.000000</td>\n      <td>...</td>\n      <td>2583949.0</td>\n      <td>3218731.0</td>\n      <td>3218731.0</td>\n      <td>2.361632e+06</td>\n      <td>65.0</td>\n      <td>578.0</td>\n      <td>0.0</td>\n      <td>2614.0</td>\n      <td>364459.0</td>\n      <td>63</td>\n    </tr>\n    <tr>\n      <th>23902</th>\n      <td>3</td>\n      <td>0.000000</td>\n      <td>0.000000</td>\n      <td>0.0</td>\n      <td>0.000000</td>\n      <td>0.000000</td>\n      <td>0.000000</td>\n      <td>0.0</td>\n      <td>0.000000</td>\n      <td>0.000000</td>\n      <td>...</td>\n      <td>0.0</td>\n      <td>928963.0</td>\n      <td>928963.0</td>\n      <td>5.041325e+05</td>\n      <td>0.0</td>\n      <td>0.0</td>\n      <td>0.0</td>\n      <td>0.0</td>\n      <td>22127.0</td>\n      <td>81</td>\n    </tr>\n    <tr>\n      <th>23903</th>\n      <td>6</td>\n      <td>0.000000</td>\n      <td>0.000000</td>\n      <td>0.0</td>\n      <td>0.000000</td>\n      <td>0.000000</td>\n      <td>0.000000</td>\n      <td>0.0</td>\n      <td>0.000000</td>\n      <td>360378.928571</td>\n      <td>...</td>\n      <td>0.0</td>\n      <td>69080.0</td>\n      <td>69080.0</td>\n      <td>7.500171e+04</td>\n      <td>0.0</td>\n      <td>0.0</td>\n      <td>0.0</td>\n      <td>0.0</td>\n      <td>43676.0</td>\n      <td>80</td>\n    </tr>\n    <tr>\n      <th>23904</th>\n      <td>6</td>\n      <td>0.000000</td>\n      <td>0.000000</td>\n      <td>0.0</td>\n      <td>0.000000</td>\n      <td>0.000000</td>\n      <td>0.000000</td>\n      <td>0.0</td>\n      <td>0.000000</td>\n      <td>369905.885463</td>\n      <td>...</td>\n      <td>0.0</td>\n      <td>262604.0</td>\n      <td>262604.0</td>\n      <td>3.333440e+05</td>\n      <td>0.0</td>\n      <td>0.0</td>\n      <td>0.0</td>\n      <td>0.0</td>\n      <td>0.0</td>\n      <td>76</td>\n    </tr>\n    <tr>\n      <th>23905</th>\n      <td>2</td>\n      <td>0.000000</td>\n      <td>0.000000</td>\n      <td>0.0</td>\n      <td>0.000000</td>\n      <td>0.000000</td>\n      <td>0.000000</td>\n      <td>0.0</td>\n      <td>0.000000</td>\n      <td>1715.666667</td>\n      <td>...</td>\n      <td>0.0</td>\n      <td>332834.0</td>\n      <td>332834.0</td>\n      <td>2.724419e+05</td>\n      <td>0.0</td>\n      <td>0.0</td>\n      <td>0.0</td>\n      <td>0.0</td>\n      <td>0.0</td>\n      <td>76</td>\n    </tr>\n  </tbody>\n</table>\n<p>23906 rows × 99 columns</p>\n</div>"
     },
     "execution_count": 32,
     "metadata": {},
     "output_type": "execute_result"
    }
   ],
   "source": [
    "ori_train.iloc[:, 1:] = ori_train.iloc[:, 1:].fillna(0)\n",
    "train.iloc[:, 1:] = train.iloc[:, 1:].fillna(0)\n",
    "train"
   ],
   "metadata": {
    "collapsed": false
   }
  },
  {
   "cell_type": "code",
   "execution_count": 33,
   "outputs": [
    {
     "data": {
      "text/plain": "       AGE  avg_amt_nontw_nonntd  avg_amt_nontw_ntd  avg_amt_tw_nonntd  \\\n0        4           9044.740741        3033.355556                0.0   \n1        2              0.000000           0.000000                0.0   \n2        4              0.000000           0.000000                0.0   \n3        4              0.000000           0.000000                0.0   \n4        3              0.000000           0.000000                0.0   \n...    ...                   ...                ...                ...   \n23901    3           4332.523077        1223.939446                0.0   \n23902    3              0.000000           0.000000                0.0   \n23903    6              0.000000           0.000000                0.0   \n23904    6              0.000000           0.000000                0.0   \n23905    2              0.000000           0.000000                0.0   \n\n       avg_amt_tw_ntd  avg_freq_nontw_nonntd  avg_freq_nontw_ntd  \\\n0         1388.550403               1.350000            1.097561   \n1            0.000000               0.000000            0.000000   \n2            0.000000               0.000000            0.000000   \n3         1893.333333               0.000000            0.000000   \n4         7048.368421               0.000000            0.000000   \n...               ...                    ...                 ...   \n23901      988.503826               1.160714            2.513043   \n23902        0.000000               0.000000            0.000000   \n23903        0.000000               0.000000            0.000000   \n23904        0.000000               0.000000            0.000000   \n23905        0.000000               0.000000            0.000000   \n\n       avg_freq_tw_nonntd  avg_freq_tw_ntd    cr_1_avg_tx  ...  \\\n0                     0.0         2.147186       0.000000  ...   \n1                     0.0         0.000000       0.000000  ...   \n2                     0.0         0.000000       0.000000  ...   \n3                     0.0         1.500000       0.000000  ...   \n4                     0.0         1.055556       0.000000  ...   \n...                   ...              ...            ...  ...   \n23901                 0.0         6.668367     932.000000  ...   \n23902                 0.0         0.000000       0.000000  ...   \n23903                 0.0         0.000000  360378.928571  ...   \n23904                 0.0         0.000000  369905.885463  ...   \n23905                 0.0         0.000000    1715.666667  ...   \n\n       total_amt_tw_nonntd  total_amt_tw_ntd  total_asset  total_asset_x  \\\n0                      0.0          688721.0     375576.0       375576.0   \n1                      0.0               0.0    2717416.0      2717416.0   \n2                      0.0               0.0     326517.0       326517.0   \n3                      0.0            5680.0    1014759.0      1014759.0   \n4                      0.0          133919.0     241719.0       241719.0   \n...                    ...               ...          ...            ...   \n23901                  0.0         2583949.0    3218731.0      3218731.0   \n23902                  0.0               0.0     928963.0       928963.0   \n23903                  0.0               0.0      69080.0        69080.0   \n23904                  0.0               0.0     262604.0       262604.0   \n23905                  0.0               0.0     332834.0       332834.0   \n\n       total_asset_y  total_freq_nontw_nonntd  total_freq_nontw_ntd  \\\n0       4.886652e+05                     27.0                  45.0   \n1       2.621840e+06                      0.0                   0.0   \n2       3.265170e+05                      0.0                   0.0   \n3       1.275499e+05                      0.0                   0.0   \n4       2.212473e+05                      0.0                   0.0   \n...              ...                      ...                   ...   \n23901   2.361632e+06                     65.0                 578.0   \n23902   5.041325e+05                      0.0                   0.0   \n23903   7.500171e+04                      0.0                   0.0   \n23904   3.333440e+05                      0.0                   0.0   \n23905   2.724419e+05                      0.0                   0.0   \n\n       total_freq_tw_nonntd  total_freq_tw_ntd  trade_sum  \n0                       0.0              496.0        0.0  \n1                       0.0                0.0        0.0  \n2                       0.0                0.0        0.0  \n3                       0.0                3.0        0.0  \n4                       0.0               19.0        0.0  \n...                     ...                ...        ...  \n23901                   0.0             2614.0   364459.0  \n23902                   0.0                0.0    22127.0  \n23903                   0.0                0.0    43676.0  \n23904                   0.0                0.0        0.0  \n23905                   0.0                0.0        0.0  \n\n[23906 rows x 98 columns]",
      "text/html": "<div>\n<style scoped>\n    .dataframe tbody tr th:only-of-type {\n        vertical-align: middle;\n    }\n\n    .dataframe tbody tr th {\n        vertical-align: top;\n    }\n\n    .dataframe thead th {\n        text-align: right;\n    }\n</style>\n<table border=\"1\" class=\"dataframe\">\n  <thead>\n    <tr style=\"text-align: right;\">\n      <th></th>\n      <th>AGE</th>\n      <th>avg_amt_nontw_nonntd</th>\n      <th>avg_amt_nontw_ntd</th>\n      <th>avg_amt_tw_nonntd</th>\n      <th>avg_amt_tw_ntd</th>\n      <th>avg_freq_nontw_nonntd</th>\n      <th>avg_freq_nontw_ntd</th>\n      <th>avg_freq_tw_nonntd</th>\n      <th>avg_freq_tw_ntd</th>\n      <th>cr_1_avg_tx</th>\n      <th>...</th>\n      <th>total_amt_tw_nonntd</th>\n      <th>total_amt_tw_ntd</th>\n      <th>total_asset</th>\n      <th>total_asset_x</th>\n      <th>total_asset_y</th>\n      <th>total_freq_nontw_nonntd</th>\n      <th>total_freq_nontw_ntd</th>\n      <th>total_freq_tw_nonntd</th>\n      <th>total_freq_tw_ntd</th>\n      <th>trade_sum</th>\n    </tr>\n  </thead>\n  <tbody>\n    <tr>\n      <th>0</th>\n      <td>4</td>\n      <td>9044.740741</td>\n      <td>3033.355556</td>\n      <td>0.0</td>\n      <td>1388.550403</td>\n      <td>1.350000</td>\n      <td>1.097561</td>\n      <td>0.0</td>\n      <td>2.147186</td>\n      <td>0.000000</td>\n      <td>...</td>\n      <td>0.0</td>\n      <td>688721.0</td>\n      <td>375576.0</td>\n      <td>375576.0</td>\n      <td>4.886652e+05</td>\n      <td>27.0</td>\n      <td>45.0</td>\n      <td>0.0</td>\n      <td>496.0</td>\n      <td>0.0</td>\n    </tr>\n    <tr>\n      <th>1</th>\n      <td>2</td>\n      <td>0.000000</td>\n      <td>0.000000</td>\n      <td>0.0</td>\n      <td>0.000000</td>\n      <td>0.000000</td>\n      <td>0.000000</td>\n      <td>0.0</td>\n      <td>0.000000</td>\n      <td>0.000000</td>\n      <td>...</td>\n      <td>0.0</td>\n      <td>0.0</td>\n      <td>2717416.0</td>\n      <td>2717416.0</td>\n      <td>2.621840e+06</td>\n      <td>0.0</td>\n      <td>0.0</td>\n      <td>0.0</td>\n      <td>0.0</td>\n      <td>0.0</td>\n    </tr>\n    <tr>\n      <th>2</th>\n      <td>4</td>\n      <td>0.000000</td>\n      <td>0.000000</td>\n      <td>0.0</td>\n      <td>0.000000</td>\n      <td>0.000000</td>\n      <td>0.000000</td>\n      <td>0.0</td>\n      <td>0.000000</td>\n      <td>0.000000</td>\n      <td>...</td>\n      <td>0.0</td>\n      <td>0.0</td>\n      <td>326517.0</td>\n      <td>326517.0</td>\n      <td>3.265170e+05</td>\n      <td>0.0</td>\n      <td>0.0</td>\n      <td>0.0</td>\n      <td>0.0</td>\n      <td>0.0</td>\n    </tr>\n    <tr>\n      <th>3</th>\n      <td>4</td>\n      <td>0.000000</td>\n      <td>0.000000</td>\n      <td>0.0</td>\n      <td>1893.333333</td>\n      <td>0.000000</td>\n      <td>0.000000</td>\n      <td>0.0</td>\n      <td>1.500000</td>\n      <td>0.000000</td>\n      <td>...</td>\n      <td>0.0</td>\n      <td>5680.0</td>\n      <td>1014759.0</td>\n      <td>1014759.0</td>\n      <td>1.275499e+05</td>\n      <td>0.0</td>\n      <td>0.0</td>\n      <td>0.0</td>\n      <td>3.0</td>\n      <td>0.0</td>\n    </tr>\n    <tr>\n      <th>4</th>\n      <td>3</td>\n      <td>0.000000</td>\n      <td>0.000000</td>\n      <td>0.0</td>\n      <td>7048.368421</td>\n      <td>0.000000</td>\n      <td>0.000000</td>\n      <td>0.0</td>\n      <td>1.055556</td>\n      <td>0.000000</td>\n      <td>...</td>\n      <td>0.0</td>\n      <td>133919.0</td>\n      <td>241719.0</td>\n      <td>241719.0</td>\n      <td>2.212473e+05</td>\n      <td>0.0</td>\n      <td>0.0</td>\n      <td>0.0</td>\n      <td>19.0</td>\n      <td>0.0</td>\n    </tr>\n    <tr>\n      <th>...</th>\n      <td>...</td>\n      <td>...</td>\n      <td>...</td>\n      <td>...</td>\n      <td>...</td>\n      <td>...</td>\n      <td>...</td>\n      <td>...</td>\n      <td>...</td>\n      <td>...</td>\n      <td>...</td>\n      <td>...</td>\n      <td>...</td>\n      <td>...</td>\n      <td>...</td>\n      <td>...</td>\n      <td>...</td>\n      <td>...</td>\n      <td>...</td>\n      <td>...</td>\n      <td>...</td>\n    </tr>\n    <tr>\n      <th>23901</th>\n      <td>3</td>\n      <td>4332.523077</td>\n      <td>1223.939446</td>\n      <td>0.0</td>\n      <td>988.503826</td>\n      <td>1.160714</td>\n      <td>2.513043</td>\n      <td>0.0</td>\n      <td>6.668367</td>\n      <td>932.000000</td>\n      <td>...</td>\n      <td>0.0</td>\n      <td>2583949.0</td>\n      <td>3218731.0</td>\n      <td>3218731.0</td>\n      <td>2.361632e+06</td>\n      <td>65.0</td>\n      <td>578.0</td>\n      <td>0.0</td>\n      <td>2614.0</td>\n      <td>364459.0</td>\n    </tr>\n    <tr>\n      <th>23902</th>\n      <td>3</td>\n      <td>0.000000</td>\n      <td>0.000000</td>\n      <td>0.0</td>\n      <td>0.000000</td>\n      <td>0.000000</td>\n      <td>0.000000</td>\n      <td>0.0</td>\n      <td>0.000000</td>\n      <td>0.000000</td>\n      <td>...</td>\n      <td>0.0</td>\n      <td>0.0</td>\n      <td>928963.0</td>\n      <td>928963.0</td>\n      <td>5.041325e+05</td>\n      <td>0.0</td>\n      <td>0.0</td>\n      <td>0.0</td>\n      <td>0.0</td>\n      <td>22127.0</td>\n    </tr>\n    <tr>\n      <th>23903</th>\n      <td>6</td>\n      <td>0.000000</td>\n      <td>0.000000</td>\n      <td>0.0</td>\n      <td>0.000000</td>\n      <td>0.000000</td>\n      <td>0.000000</td>\n      <td>0.0</td>\n      <td>0.000000</td>\n      <td>360378.928571</td>\n      <td>...</td>\n      <td>0.0</td>\n      <td>0.0</td>\n      <td>69080.0</td>\n      <td>69080.0</td>\n      <td>7.500171e+04</td>\n      <td>0.0</td>\n      <td>0.0</td>\n      <td>0.0</td>\n      <td>0.0</td>\n      <td>43676.0</td>\n    </tr>\n    <tr>\n      <th>23904</th>\n      <td>6</td>\n      <td>0.000000</td>\n      <td>0.000000</td>\n      <td>0.0</td>\n      <td>0.000000</td>\n      <td>0.000000</td>\n      <td>0.000000</td>\n      <td>0.0</td>\n      <td>0.000000</td>\n      <td>369905.885463</td>\n      <td>...</td>\n      <td>0.0</td>\n      <td>0.0</td>\n      <td>262604.0</td>\n      <td>262604.0</td>\n      <td>3.333440e+05</td>\n      <td>0.0</td>\n      <td>0.0</td>\n      <td>0.0</td>\n      <td>0.0</td>\n      <td>0.0</td>\n    </tr>\n    <tr>\n      <th>23905</th>\n      <td>2</td>\n      <td>0.000000</td>\n      <td>0.000000</td>\n      <td>0.0</td>\n      <td>0.000000</td>\n      <td>0.000000</td>\n      <td>0.000000</td>\n      <td>0.0</td>\n      <td>0.000000</td>\n      <td>1715.666667</td>\n      <td>...</td>\n      <td>0.0</td>\n      <td>0.0</td>\n      <td>332834.0</td>\n      <td>332834.0</td>\n      <td>2.724419e+05</td>\n      <td>0.0</td>\n      <td>0.0</td>\n      <td>0.0</td>\n      <td>0.0</td>\n      <td>0.0</td>\n    </tr>\n  </tbody>\n</table>\n<p>23906 rows × 98 columns</p>\n</div>"
     },
     "execution_count": 33,
     "metadata": {},
     "output_type": "execute_result"
    }
   ],
   "source": [
    "ori_train = ori_train.drop(['bad_value'], axis=1)\n",
    "train = train.drop(['bad_value'], axis=1)\n",
    "train"
   ],
   "metadata": {
    "collapsed": false
   }
  },
  {
   "cell_type": "code",
   "execution_count": 34,
   "outputs": [
    {
     "data": {
      "text/plain": "       AGE  avg_amt_nontw_nonntd  avg_amt_nontw_ntd  avg_amt_tw_nonntd  \\\n0        4           9044.740741        3033.355556                0.0   \n1        2              0.000000           0.000000                0.0   \n2        4              0.000000           0.000000                0.0   \n3        4              0.000000           0.000000                0.0   \n4        3              0.000000           0.000000                0.0   \n...    ...                   ...                ...                ...   \n23901    3           4332.523077        1223.939446                0.0   \n23902    3              0.000000           0.000000                0.0   \n23903    6              0.000000           0.000000                0.0   \n23904    6              0.000000           0.000000                0.0   \n23905    2              0.000000           0.000000                0.0   \n\n       avg_amt_tw_ntd  avg_freq_nontw_nonntd  avg_freq_nontw_ntd  \\\n0         1388.550403               1.350000            1.097561   \n1            0.000000               0.000000            0.000000   \n2            0.000000               0.000000            0.000000   \n3         1893.333333               0.000000            0.000000   \n4         7048.368421               0.000000            0.000000   \n...               ...                    ...                 ...   \n23901      988.503826               1.160714            2.513043   \n23902        0.000000               0.000000            0.000000   \n23903        0.000000               0.000000            0.000000   \n23904        0.000000               0.000000            0.000000   \n23905        0.000000               0.000000            0.000000   \n\n       avg_freq_tw_nonntd  avg_freq_tw_ntd    cr_1_avg_tx  ...  \\\n0                     0.0         2.147186       0.000000  ...   \n1                     0.0         0.000000       0.000000  ...   \n2                     0.0         0.000000       0.000000  ...   \n3                     0.0         1.500000       0.000000  ...   \n4                     0.0         1.055556       0.000000  ...   \n...                   ...              ...            ...  ...   \n23901                 0.0         6.668367     932.000000  ...   \n23902                 0.0         0.000000       0.000000  ...   \n23903                 0.0         0.000000  360378.928571  ...   \n23904                 0.0         0.000000  369905.885463  ...   \n23905                 0.0         0.000000    1715.666667  ...   \n\n       total_amt_tw_nonntd  total_amt_tw_ntd  total_asset  total_asset_x  \\\n0                      0.0          688721.0     375576.0       375576.0   \n1                      0.0               0.0    2717416.0      2717416.0   \n2                      0.0               0.0     326517.0       326517.0   \n3                      0.0            5680.0    1014759.0      1014759.0   \n4                      0.0          133919.0     241719.0       241719.0   \n...                    ...               ...          ...            ...   \n23901                  0.0         2583949.0    3218731.0      3218731.0   \n23902                  0.0               0.0     928963.0       928963.0   \n23903                  0.0               0.0      69080.0        69080.0   \n23904                  0.0               0.0     262604.0       262604.0   \n23905                  0.0               0.0     332834.0       332834.0   \n\n       total_asset_y  total_freq_nontw_nonntd  total_freq_nontw_ntd  \\\n0       4.886652e+05                     27.0                  45.0   \n1       2.621840e+06                      0.0                   0.0   \n2       3.265170e+05                      0.0                   0.0   \n3       1.275499e+05                      0.0                   0.0   \n4       2.212473e+05                      0.0                   0.0   \n...              ...                      ...                   ...   \n23901   2.361632e+06                     65.0                 578.0   \n23902   5.041325e+05                      0.0                   0.0   \n23903   7.500171e+04                      0.0                   0.0   \n23904   3.333440e+05                      0.0                   0.0   \n23905   2.724419e+05                      0.0                   0.0   \n\n       total_freq_tw_nonntd  total_freq_tw_ntd  trade_sum  \n0                       0.0              496.0        0.0  \n1                       0.0                0.0        0.0  \n2                       0.0                0.0        0.0  \n3                       0.0                3.0        0.0  \n4                       0.0               19.0        0.0  \n...                     ...                ...        ...  \n23901                   0.0             2614.0   364459.0  \n23902                   0.0                0.0    22127.0  \n23903                   0.0                0.0    43676.0  \n23904                   0.0                0.0        0.0  \n23905                   0.0                0.0        0.0  \n\n[23906 rows x 97 columns]",
      "text/html": "<div>\n<style scoped>\n    .dataframe tbody tr th:only-of-type {\n        vertical-align: middle;\n    }\n\n    .dataframe tbody tr th {\n        vertical-align: top;\n    }\n\n    .dataframe thead th {\n        text-align: right;\n    }\n</style>\n<table border=\"1\" class=\"dataframe\">\n  <thead>\n    <tr style=\"text-align: right;\">\n      <th></th>\n      <th>AGE</th>\n      <th>avg_amt_nontw_nonntd</th>\n      <th>avg_amt_nontw_ntd</th>\n      <th>avg_amt_tw_nonntd</th>\n      <th>avg_amt_tw_ntd</th>\n      <th>avg_freq_nontw_nonntd</th>\n      <th>avg_freq_nontw_ntd</th>\n      <th>avg_freq_tw_nonntd</th>\n      <th>avg_freq_tw_ntd</th>\n      <th>cr_1_avg_tx</th>\n      <th>...</th>\n      <th>total_amt_tw_nonntd</th>\n      <th>total_amt_tw_ntd</th>\n      <th>total_asset</th>\n      <th>total_asset_x</th>\n      <th>total_asset_y</th>\n      <th>total_freq_nontw_nonntd</th>\n      <th>total_freq_nontw_ntd</th>\n      <th>total_freq_tw_nonntd</th>\n      <th>total_freq_tw_ntd</th>\n      <th>trade_sum</th>\n    </tr>\n  </thead>\n  <tbody>\n    <tr>\n      <th>0</th>\n      <td>4</td>\n      <td>9044.740741</td>\n      <td>3033.355556</td>\n      <td>0.0</td>\n      <td>1388.550403</td>\n      <td>1.350000</td>\n      <td>1.097561</td>\n      <td>0.0</td>\n      <td>2.147186</td>\n      <td>0.000000</td>\n      <td>...</td>\n      <td>0.0</td>\n      <td>688721.0</td>\n      <td>375576.0</td>\n      <td>375576.0</td>\n      <td>4.886652e+05</td>\n      <td>27.0</td>\n      <td>45.0</td>\n      <td>0.0</td>\n      <td>496.0</td>\n      <td>0.0</td>\n    </tr>\n    <tr>\n      <th>1</th>\n      <td>2</td>\n      <td>0.000000</td>\n      <td>0.000000</td>\n      <td>0.0</td>\n      <td>0.000000</td>\n      <td>0.000000</td>\n      <td>0.000000</td>\n      <td>0.0</td>\n      <td>0.000000</td>\n      <td>0.000000</td>\n      <td>...</td>\n      <td>0.0</td>\n      <td>0.0</td>\n      <td>2717416.0</td>\n      <td>2717416.0</td>\n      <td>2.621840e+06</td>\n      <td>0.0</td>\n      <td>0.0</td>\n      <td>0.0</td>\n      <td>0.0</td>\n      <td>0.0</td>\n    </tr>\n    <tr>\n      <th>2</th>\n      <td>4</td>\n      <td>0.000000</td>\n      <td>0.000000</td>\n      <td>0.0</td>\n      <td>0.000000</td>\n      <td>0.000000</td>\n      <td>0.000000</td>\n      <td>0.0</td>\n      <td>0.000000</td>\n      <td>0.000000</td>\n      <td>...</td>\n      <td>0.0</td>\n      <td>0.0</td>\n      <td>326517.0</td>\n      <td>326517.0</td>\n      <td>3.265170e+05</td>\n      <td>0.0</td>\n      <td>0.0</td>\n      <td>0.0</td>\n      <td>0.0</td>\n      <td>0.0</td>\n    </tr>\n    <tr>\n      <th>3</th>\n      <td>4</td>\n      <td>0.000000</td>\n      <td>0.000000</td>\n      <td>0.0</td>\n      <td>1893.333333</td>\n      <td>0.000000</td>\n      <td>0.000000</td>\n      <td>0.0</td>\n      <td>1.500000</td>\n      <td>0.000000</td>\n      <td>...</td>\n      <td>0.0</td>\n      <td>5680.0</td>\n      <td>1014759.0</td>\n      <td>1014759.0</td>\n      <td>1.275499e+05</td>\n      <td>0.0</td>\n      <td>0.0</td>\n      <td>0.0</td>\n      <td>3.0</td>\n      <td>0.0</td>\n    </tr>\n    <tr>\n      <th>4</th>\n      <td>3</td>\n      <td>0.000000</td>\n      <td>0.000000</td>\n      <td>0.0</td>\n      <td>7048.368421</td>\n      <td>0.000000</td>\n      <td>0.000000</td>\n      <td>0.0</td>\n      <td>1.055556</td>\n      <td>0.000000</td>\n      <td>...</td>\n      <td>0.0</td>\n      <td>133919.0</td>\n      <td>241719.0</td>\n      <td>241719.0</td>\n      <td>2.212473e+05</td>\n      <td>0.0</td>\n      <td>0.0</td>\n      <td>0.0</td>\n      <td>19.0</td>\n      <td>0.0</td>\n    </tr>\n    <tr>\n      <th>...</th>\n      <td>...</td>\n      <td>...</td>\n      <td>...</td>\n      <td>...</td>\n      <td>...</td>\n      <td>...</td>\n      <td>...</td>\n      <td>...</td>\n      <td>...</td>\n      <td>...</td>\n      <td>...</td>\n      <td>...</td>\n      <td>...</td>\n      <td>...</td>\n      <td>...</td>\n      <td>...</td>\n      <td>...</td>\n      <td>...</td>\n      <td>...</td>\n      <td>...</td>\n      <td>...</td>\n    </tr>\n    <tr>\n      <th>23901</th>\n      <td>3</td>\n      <td>4332.523077</td>\n      <td>1223.939446</td>\n      <td>0.0</td>\n      <td>988.503826</td>\n      <td>1.160714</td>\n      <td>2.513043</td>\n      <td>0.0</td>\n      <td>6.668367</td>\n      <td>932.000000</td>\n      <td>...</td>\n      <td>0.0</td>\n      <td>2583949.0</td>\n      <td>3218731.0</td>\n      <td>3218731.0</td>\n      <td>2.361632e+06</td>\n      <td>65.0</td>\n      <td>578.0</td>\n      <td>0.0</td>\n      <td>2614.0</td>\n      <td>364459.0</td>\n    </tr>\n    <tr>\n      <th>23902</th>\n      <td>3</td>\n      <td>0.000000</td>\n      <td>0.000000</td>\n      <td>0.0</td>\n      <td>0.000000</td>\n      <td>0.000000</td>\n      <td>0.000000</td>\n      <td>0.0</td>\n      <td>0.000000</td>\n      <td>0.000000</td>\n      <td>...</td>\n      <td>0.0</td>\n      <td>0.0</td>\n      <td>928963.0</td>\n      <td>928963.0</td>\n      <td>5.041325e+05</td>\n      <td>0.0</td>\n      <td>0.0</td>\n      <td>0.0</td>\n      <td>0.0</td>\n      <td>22127.0</td>\n    </tr>\n    <tr>\n      <th>23903</th>\n      <td>6</td>\n      <td>0.000000</td>\n      <td>0.000000</td>\n      <td>0.0</td>\n      <td>0.000000</td>\n      <td>0.000000</td>\n      <td>0.000000</td>\n      <td>0.0</td>\n      <td>0.000000</td>\n      <td>360378.928571</td>\n      <td>...</td>\n      <td>0.0</td>\n      <td>0.0</td>\n      <td>69080.0</td>\n      <td>69080.0</td>\n      <td>7.500171e+04</td>\n      <td>0.0</td>\n      <td>0.0</td>\n      <td>0.0</td>\n      <td>0.0</td>\n      <td>43676.0</td>\n    </tr>\n    <tr>\n      <th>23904</th>\n      <td>6</td>\n      <td>0.000000</td>\n      <td>0.000000</td>\n      <td>0.0</td>\n      <td>0.000000</td>\n      <td>0.000000</td>\n      <td>0.000000</td>\n      <td>0.0</td>\n      <td>0.000000</td>\n      <td>369905.885463</td>\n      <td>...</td>\n      <td>0.0</td>\n      <td>0.0</td>\n      <td>262604.0</td>\n      <td>262604.0</td>\n      <td>3.333440e+05</td>\n      <td>0.0</td>\n      <td>0.0</td>\n      <td>0.0</td>\n      <td>0.0</td>\n      <td>0.0</td>\n    </tr>\n    <tr>\n      <th>23905</th>\n      <td>2</td>\n      <td>0.000000</td>\n      <td>0.000000</td>\n      <td>0.0</td>\n      <td>0.000000</td>\n      <td>0.000000</td>\n      <td>0.000000</td>\n      <td>0.0</td>\n      <td>0.000000</td>\n      <td>1715.666667</td>\n      <td>...</td>\n      <td>0.0</td>\n      <td>0.0</td>\n      <td>332834.0</td>\n      <td>332834.0</td>\n      <td>2.724419e+05</td>\n      <td>0.0</td>\n      <td>0.0</td>\n      <td>0.0</td>\n      <td>0.0</td>\n      <td>0.0</td>\n    </tr>\n  </tbody>\n</table>\n<p>23906 rows × 97 columns</p>\n</div>"
     },
     "execution_count": 34,
     "metadata": {},
     "output_type": "execute_result"
    }
   ],
   "source": [
    "# Training\n",
    "ori_train_x = ori_train.loc[:, train.columns != 'sar_flag']\n",
    "ori_train_y = ori_train.loc[:, train.columns == 'sar_flag']\n",
    "train_x = train.loc[:, train.columns != 'sar_flag']\n",
    "train_y = train.loc[:, train.columns == 'sar_flag']\n",
    "train_x"
   ],
   "metadata": {
    "collapsed": false
   }
  },
  {
   "cell_type": "code",
   "execution_count": 35,
   "outputs": [],
   "source": [
    "#normalize\n",
    "from sklearn import preprocessing\n",
    "\n",
    "def normalize_mms(input_df):\n",
    "    scaler = preprocessing.MinMaxScaler()\n",
    "    result = scaler.fit_transform(input_df)\n",
    "    return pd.DataFrame(result, index=input_df.index, columns=input_df.columns)"
   ],
   "metadata": {
    "collapsed": false
   }
  },
  {
   "cell_type": "code",
   "execution_count": 36,
   "outputs": [
    {
     "data": {
      "text/plain": "       AGE  avg_amt_nontw_nonntd  avg_amt_nontw_ntd  avg_amt_tw_nonntd  \\\n0      0.4              0.005648           0.018591                0.0   \n1      0.2              0.000000           0.000000                0.0   \n2      0.4              0.000000           0.000000                0.0   \n3      0.4              0.000000           0.000000                0.0   \n4      0.3              0.000000           0.000000                0.0   \n...    ...                   ...                ...                ...   \n23901  0.3              0.002705           0.007501                0.0   \n23902  0.3              0.000000           0.000000                0.0   \n23903  0.6              0.000000           0.000000                0.0   \n23904  0.6              0.000000           0.000000                0.0   \n23905  0.2              0.000000           0.000000                0.0   \n\n       avg_amt_tw_ntd  avg_freq_nontw_nonntd  avg_freq_nontw_ntd  \\\n0            0.000110               0.004122            0.055273   \n1            0.000000               0.000000            0.000000   \n2            0.000000               0.000000            0.000000   \n3            0.000151               0.000000            0.000000   \n4            0.000560               0.000000            0.000000   \n...               ...                    ...                 ...   \n23901        0.000079               0.003544            0.126556   \n23902        0.000000               0.000000            0.000000   \n23903        0.000000               0.000000            0.000000   \n23904        0.000000               0.000000            0.000000   \n23905        0.000000               0.000000            0.000000   \n\n       avg_freq_tw_nonntd  avg_freq_tw_ntd  cr_1_avg_tx  ...  \\\n0                     0.0         0.031604     0.000308  ...   \n1                     0.0         0.000000     0.000308  ...   \n2                     0.0         0.000000     0.000308  ...   \n3                     0.0         0.022078     0.000308  ...   \n4                     0.0         0.015536     0.000308  ...   \n...                   ...              ...          ...  ...   \n23901                 0.0         0.098149     0.000354  ...   \n23902                 0.0         0.000000     0.000308  ...   \n23903                 0.0         0.000000     0.018332  ...   \n23904                 0.0         0.000000     0.018809  ...   \n23905                 0.0         0.000000     0.000393  ...   \n\n       total_amt_tw_nonntd  total_amt_tw_ntd  total_asset  total_asset_x  \\\n0                      0.0          0.001897     0.005085       0.005085   \n1                      0.0          0.000000     0.036790       0.036790   \n2                      0.0          0.000000     0.004421       0.004421   \n3                      0.0          0.000016     0.013738       0.013738   \n4                      0.0          0.000369     0.003273       0.003273   \n...                    ...               ...          ...            ...   \n23901                  0.0          0.007115     0.043577       0.043577   \n23902                  0.0          0.000000     0.012577       0.012577   \n23903                  0.0          0.000000     0.000935       0.000935   \n23904                  0.0          0.000000     0.003555       0.003555   \n23905                  0.0          0.000000     0.004506       0.004506   \n\n       total_asset_y  total_freq_nontw_nonntd  total_freq_nontw_ntd  \\\n0           0.009321                 0.000229              0.011081   \n1           0.050010                 0.000000              0.000000   \n2           0.006228                 0.000000              0.000000   \n3           0.002433                 0.000000              0.000000   \n4           0.004220                 0.000000              0.000000   \n...              ...                      ...                   ...   \n23901       0.045047                 0.000551              0.142329   \n23902       0.009616                 0.000000              0.000000   \n23903       0.001431                 0.000000              0.000000   \n23904       0.006358                 0.000000              0.000000   \n23905       0.005197                 0.000000              0.000000   \n\n       total_freq_tw_nonntd  total_freq_tw_ntd  trade_sum  \n0                       0.0           0.023780   0.000000  \n1                       0.0           0.000000   0.000000  \n2                       0.0           0.000000   0.000000  \n3                       0.0           0.000144   0.000000  \n4                       0.0           0.000911   0.000000  \n...                     ...                ...        ...  \n23901                   0.0           0.125324   0.008875  \n23902                   0.0           0.000000   0.000539  \n23903                   0.0           0.000000   0.001064  \n23904                   0.0           0.000000   0.000000  \n23905                   0.0           0.000000   0.000000  \n\n[23906 rows x 97 columns]",
      "text/html": "<div>\n<style scoped>\n    .dataframe tbody tr th:only-of-type {\n        vertical-align: middle;\n    }\n\n    .dataframe tbody tr th {\n        vertical-align: top;\n    }\n\n    .dataframe thead th {\n        text-align: right;\n    }\n</style>\n<table border=\"1\" class=\"dataframe\">\n  <thead>\n    <tr style=\"text-align: right;\">\n      <th></th>\n      <th>AGE</th>\n      <th>avg_amt_nontw_nonntd</th>\n      <th>avg_amt_nontw_ntd</th>\n      <th>avg_amt_tw_nonntd</th>\n      <th>avg_amt_tw_ntd</th>\n      <th>avg_freq_nontw_nonntd</th>\n      <th>avg_freq_nontw_ntd</th>\n      <th>avg_freq_tw_nonntd</th>\n      <th>avg_freq_tw_ntd</th>\n      <th>cr_1_avg_tx</th>\n      <th>...</th>\n      <th>total_amt_tw_nonntd</th>\n      <th>total_amt_tw_ntd</th>\n      <th>total_asset</th>\n      <th>total_asset_x</th>\n      <th>total_asset_y</th>\n      <th>total_freq_nontw_nonntd</th>\n      <th>total_freq_nontw_ntd</th>\n      <th>total_freq_tw_nonntd</th>\n      <th>total_freq_tw_ntd</th>\n      <th>trade_sum</th>\n    </tr>\n  </thead>\n  <tbody>\n    <tr>\n      <th>0</th>\n      <td>0.4</td>\n      <td>0.005648</td>\n      <td>0.018591</td>\n      <td>0.0</td>\n      <td>0.000110</td>\n      <td>0.004122</td>\n      <td>0.055273</td>\n      <td>0.0</td>\n      <td>0.031604</td>\n      <td>0.000308</td>\n      <td>...</td>\n      <td>0.0</td>\n      <td>0.001897</td>\n      <td>0.005085</td>\n      <td>0.005085</td>\n      <td>0.009321</td>\n      <td>0.000229</td>\n      <td>0.011081</td>\n      <td>0.0</td>\n      <td>0.023780</td>\n      <td>0.000000</td>\n    </tr>\n    <tr>\n      <th>1</th>\n      <td>0.2</td>\n      <td>0.000000</td>\n      <td>0.000000</td>\n      <td>0.0</td>\n      <td>0.000000</td>\n      <td>0.000000</td>\n      <td>0.000000</td>\n      <td>0.0</td>\n      <td>0.000000</td>\n      <td>0.000308</td>\n      <td>...</td>\n      <td>0.0</td>\n      <td>0.000000</td>\n      <td>0.036790</td>\n      <td>0.036790</td>\n      <td>0.050010</td>\n      <td>0.000000</td>\n      <td>0.000000</td>\n      <td>0.0</td>\n      <td>0.000000</td>\n      <td>0.000000</td>\n    </tr>\n    <tr>\n      <th>2</th>\n      <td>0.4</td>\n      <td>0.000000</td>\n      <td>0.000000</td>\n      <td>0.0</td>\n      <td>0.000000</td>\n      <td>0.000000</td>\n      <td>0.000000</td>\n      <td>0.0</td>\n      <td>0.000000</td>\n      <td>0.000308</td>\n      <td>...</td>\n      <td>0.0</td>\n      <td>0.000000</td>\n      <td>0.004421</td>\n      <td>0.004421</td>\n      <td>0.006228</td>\n      <td>0.000000</td>\n      <td>0.000000</td>\n      <td>0.0</td>\n      <td>0.000000</td>\n      <td>0.000000</td>\n    </tr>\n    <tr>\n      <th>3</th>\n      <td>0.4</td>\n      <td>0.000000</td>\n      <td>0.000000</td>\n      <td>0.0</td>\n      <td>0.000151</td>\n      <td>0.000000</td>\n      <td>0.000000</td>\n      <td>0.0</td>\n      <td>0.022078</td>\n      <td>0.000308</td>\n      <td>...</td>\n      <td>0.0</td>\n      <td>0.000016</td>\n      <td>0.013738</td>\n      <td>0.013738</td>\n      <td>0.002433</td>\n      <td>0.000000</td>\n      <td>0.000000</td>\n      <td>0.0</td>\n      <td>0.000144</td>\n      <td>0.000000</td>\n    </tr>\n    <tr>\n      <th>4</th>\n      <td>0.3</td>\n      <td>0.000000</td>\n      <td>0.000000</td>\n      <td>0.0</td>\n      <td>0.000560</td>\n      <td>0.000000</td>\n      <td>0.000000</td>\n      <td>0.0</td>\n      <td>0.015536</td>\n      <td>0.000308</td>\n      <td>...</td>\n      <td>0.0</td>\n      <td>0.000369</td>\n      <td>0.003273</td>\n      <td>0.003273</td>\n      <td>0.004220</td>\n      <td>0.000000</td>\n      <td>0.000000</td>\n      <td>0.0</td>\n      <td>0.000911</td>\n      <td>0.000000</td>\n    </tr>\n    <tr>\n      <th>...</th>\n      <td>...</td>\n      <td>...</td>\n      <td>...</td>\n      <td>...</td>\n      <td>...</td>\n      <td>...</td>\n      <td>...</td>\n      <td>...</td>\n      <td>...</td>\n      <td>...</td>\n      <td>...</td>\n      <td>...</td>\n      <td>...</td>\n      <td>...</td>\n      <td>...</td>\n      <td>...</td>\n      <td>...</td>\n      <td>...</td>\n      <td>...</td>\n      <td>...</td>\n      <td>...</td>\n    </tr>\n    <tr>\n      <th>23901</th>\n      <td>0.3</td>\n      <td>0.002705</td>\n      <td>0.007501</td>\n      <td>0.0</td>\n      <td>0.000079</td>\n      <td>0.003544</td>\n      <td>0.126556</td>\n      <td>0.0</td>\n      <td>0.098149</td>\n      <td>0.000354</td>\n      <td>...</td>\n      <td>0.0</td>\n      <td>0.007115</td>\n      <td>0.043577</td>\n      <td>0.043577</td>\n      <td>0.045047</td>\n      <td>0.000551</td>\n      <td>0.142329</td>\n      <td>0.0</td>\n      <td>0.125324</td>\n      <td>0.008875</td>\n    </tr>\n    <tr>\n      <th>23902</th>\n      <td>0.3</td>\n      <td>0.000000</td>\n      <td>0.000000</td>\n      <td>0.0</td>\n      <td>0.000000</td>\n      <td>0.000000</td>\n      <td>0.000000</td>\n      <td>0.0</td>\n      <td>0.000000</td>\n      <td>0.000308</td>\n      <td>...</td>\n      <td>0.0</td>\n      <td>0.000000</td>\n      <td>0.012577</td>\n      <td>0.012577</td>\n      <td>0.009616</td>\n      <td>0.000000</td>\n      <td>0.000000</td>\n      <td>0.0</td>\n      <td>0.000000</td>\n      <td>0.000539</td>\n    </tr>\n    <tr>\n      <th>23903</th>\n      <td>0.6</td>\n      <td>0.000000</td>\n      <td>0.000000</td>\n      <td>0.0</td>\n      <td>0.000000</td>\n      <td>0.000000</td>\n      <td>0.000000</td>\n      <td>0.0</td>\n      <td>0.000000</td>\n      <td>0.018332</td>\n      <td>...</td>\n      <td>0.0</td>\n      <td>0.000000</td>\n      <td>0.000935</td>\n      <td>0.000935</td>\n      <td>0.001431</td>\n      <td>0.000000</td>\n      <td>0.000000</td>\n      <td>0.0</td>\n      <td>0.000000</td>\n      <td>0.001064</td>\n    </tr>\n    <tr>\n      <th>23904</th>\n      <td>0.6</td>\n      <td>0.000000</td>\n      <td>0.000000</td>\n      <td>0.0</td>\n      <td>0.000000</td>\n      <td>0.000000</td>\n      <td>0.000000</td>\n      <td>0.0</td>\n      <td>0.000000</td>\n      <td>0.018809</td>\n      <td>...</td>\n      <td>0.0</td>\n      <td>0.000000</td>\n      <td>0.003555</td>\n      <td>0.003555</td>\n      <td>0.006358</td>\n      <td>0.000000</td>\n      <td>0.000000</td>\n      <td>0.0</td>\n      <td>0.000000</td>\n      <td>0.000000</td>\n    </tr>\n    <tr>\n      <th>23905</th>\n      <td>0.2</td>\n      <td>0.000000</td>\n      <td>0.000000</td>\n      <td>0.0</td>\n      <td>0.000000</td>\n      <td>0.000000</td>\n      <td>0.000000</td>\n      <td>0.0</td>\n      <td>0.000000</td>\n      <td>0.000393</td>\n      <td>...</td>\n      <td>0.0</td>\n      <td>0.000000</td>\n      <td>0.004506</td>\n      <td>0.004506</td>\n      <td>0.005197</td>\n      <td>0.000000</td>\n      <td>0.000000</td>\n      <td>0.0</td>\n      <td>0.000000</td>\n      <td>0.000000</td>\n    </tr>\n  </tbody>\n</table>\n<p>23906 rows × 97 columns</p>\n</div>"
     },
     "execution_count": 36,
     "metadata": {},
     "output_type": "execute_result"
    }
   ],
   "source": [
    "train_x = normalize_mms(train_x)\n",
    "train_x"
   ],
   "metadata": {
    "collapsed": false
   }
  },
  {
   "cell_type": "code",
   "execution_count": 37,
   "outputs": [
    {
     "data": {
      "text/plain": "AGE                        False\navg_amt_nontw_nonntd       False\navg_amt_nontw_ntd          False\navg_amt_tw_nonntd          False\navg_amt_tw_ntd             False\n                           ...  \ntotal_freq_nontw_nonntd    False\ntotal_freq_nontw_ntd       False\ntotal_freq_tw_nonntd       False\ntotal_freq_tw_ntd          False\ntrade_sum                  False\nLength: 97, dtype: bool"
     },
     "execution_count": 37,
     "metadata": {},
     "output_type": "execute_result"
    }
   ],
   "source": [
    "train_x.isna().any()"
   ],
   "metadata": {
    "collapsed": false
   }
  },
  {
   "cell_type": "code",
   "execution_count": 38,
   "outputs": [
    {
     "data": {
      "text/plain": "Empty DataFrame\nColumns: [AGE, avg_amt_nontw_nonntd, avg_amt_nontw_ntd, avg_amt_tw_nonntd, avg_amt_tw_ntd, avg_freq_nontw_nonntd, avg_freq_nontw_ntd, avg_freq_tw_nonntd, avg_freq_tw_ntd, cr_1_avg_tx, cr_1_count_tx, cr_1_std_tx, cr_1_total_tx, cr_1_tx_per_day, cr_2_avg_tx, cr_2_count_tx, cr_2_std_tx, cr_2_total_tx, cr_2_tx_per_day, cr_3_avg_tx, cr_3_count_tx, cr_3_std_tx, cr_3_total_tx, cr_3_tx_per_day, cucah_quarter1_mean, cucah_quarter1_std, cucah_quarter1_sum, cucah_quarter2_mean, cucah_quarter2_std, cucah_quarter2_sum, cucah_quarter3_mean, cucah_quarter3_std, cucah_quarter3_sum, cucah_quarter4_mean, cucah_quarter4_std, cucah_quarter4_sum, cucah_total_mean, cucah_total_std, cucah_total_sum, db_1_avg_tx, db_1_count_tx, db_1_std_tx, db_1_total_tx, db_1_tx_per_day, db_2_avg_tx, db_2_count_tx, db_2_std_tx, db_2_total_tx, db_2_tx_per_day, db_3_avg_tx, db_3_count_tx, db_3_std_tx, db_3_total_tx, db_3_tx_per_day, occupation_code_0, occupation_code_1, occupation_code_10, occupation_code_11, occupation_code_12, occupation_code_13, occupation_code_14, occupation_code_15, occupation_code_16, occupation_code_17, occupation_code_18, occupation_code_19, occupation_code_2, occupation_code_20, occupation_code_3, occupation_code_4, occupation_code_5, occupation_code_6, occupation_code_7, occupation_code_8, occupation_code_9, risk_rank, sd_amt_nontw_nonntd, sd_amt_nontw_ntd, sd_amt_tw_nonntd, sd_amt_tw_ntd, sd_freq_nontw_nonntd, sd_freq_nontw_ntd, sd_freq_tw_nonntd, sd_freq_tw_ntd, sum_assets, total_amt_nontw_nonntd, total_amt_nontw_ntd, total_amt_tw_nonntd, total_amt_tw_ntd, total_asset, total_asset_x, total_asset_y, total_freq_nontw_nonntd, total_freq_nontw_ntd, total_freq_tw_nonntd, total_freq_tw_ntd, trade_sum]\nIndex: []\n\n[0 rows x 97 columns]",
      "text/html": "<div>\n<style scoped>\n    .dataframe tbody tr th:only-of-type {\n        vertical-align: middle;\n    }\n\n    .dataframe tbody tr th {\n        vertical-align: top;\n    }\n\n    .dataframe thead th {\n        text-align: right;\n    }\n</style>\n<table border=\"1\" class=\"dataframe\">\n  <thead>\n    <tr style=\"text-align: right;\">\n      <th></th>\n      <th>AGE</th>\n      <th>avg_amt_nontw_nonntd</th>\n      <th>avg_amt_nontw_ntd</th>\n      <th>avg_amt_tw_nonntd</th>\n      <th>avg_amt_tw_ntd</th>\n      <th>avg_freq_nontw_nonntd</th>\n      <th>avg_freq_nontw_ntd</th>\n      <th>avg_freq_tw_nonntd</th>\n      <th>avg_freq_tw_ntd</th>\n      <th>cr_1_avg_tx</th>\n      <th>...</th>\n      <th>total_amt_tw_nonntd</th>\n      <th>total_amt_tw_ntd</th>\n      <th>total_asset</th>\n      <th>total_asset_x</th>\n      <th>total_asset_y</th>\n      <th>total_freq_nontw_nonntd</th>\n      <th>total_freq_nontw_ntd</th>\n      <th>total_freq_tw_nonntd</th>\n      <th>total_freq_tw_ntd</th>\n      <th>trade_sum</th>\n    </tr>\n  </thead>\n  <tbody>\n  </tbody>\n</table>\n<p>0 rows × 97 columns</p>\n</div>"
     },
     "execution_count": 38,
     "metadata": {},
     "output_type": "execute_result"
    }
   ],
   "source": [
    "train_x[train_x.isna().any(axis=1)]"
   ],
   "metadata": {
    "collapsed": false
   }
  },
  {
   "cell_type": "code",
   "execution_count": 39,
   "outputs": [],
   "source": [
    "# sm_x, sm_y = SMOTE_oversampling(train_x, train_y)\n",
    "\n",
    "smt = SMOTETomek(random_state=42)\n",
    "sm_x, sm_y = smt.fit_resample(train_x, train_y)"
   ],
   "metadata": {
    "collapsed": false
   }
  },
  {
   "cell_type": "code",
   "execution_count": 40,
   "outputs": [],
   "source": [
    "XG = xgb.XGBClassifier(**params_1, missing=-99)\n",
    "# rfe_columns = RFE_analysis(sm_x, sm_y, XG)"
   ],
   "metadata": {
    "collapsed": false
   }
  },
  {
   "cell_type": "code",
   "execution_count": 41,
   "outputs": [
    {
     "data": {
      "text/plain": "            AGE  avg_amt_nontw_nonntd  avg_amt_nontw_ntd  avg_amt_tw_nonntd  \\\n0      0.400000              0.005648           0.018591                0.0   \n1      0.200000              0.000000           0.000000                0.0   \n2      0.400000              0.000000           0.000000                0.0   \n3      0.400000              0.000000           0.000000                0.0   \n4      0.300000              0.000000           0.000000                0.0   \n...         ...                   ...                ...                ...   \n47315  0.485870              0.000000           0.000000                0.0   \n47316  0.351037              0.000000           0.017786                0.0   \n47317  0.300000              0.000000           0.004686                0.0   \n47318  0.400000              0.000000           0.000000                0.0   \n47319  0.305159              0.000000           0.000867                0.0   \n\n       avg_amt_tw_ntd  avg_freq_nontw_nonntd  avg_freq_nontw_ntd  \\\n0            0.000110               0.004122            0.055273   \n1            0.000000               0.000000            0.000000   \n2            0.000000               0.000000            0.000000   \n3            0.000151               0.000000            0.000000   \n4            0.000560               0.000000            0.000000   \n...               ...                    ...                 ...   \n47315        0.000122               0.000000            0.000000   \n47316        0.000183               0.000000            0.025702   \n47317        0.000130               0.000000            0.051383   \n47318        0.000440               0.000000            0.000000   \n47319        0.000210               0.000000            0.027861   \n\n       avg_freq_tw_nonntd  avg_freq_tw_ntd  cr_1_avg_tx  ...  \\\n0                     0.0         0.031604     0.000308  ...   \n1                     0.0         0.000000     0.000308  ...   \n2                     0.0         0.000000     0.000308  ...   \n3                     0.0         0.022078     0.000308  ...   \n4                     0.0         0.015536     0.000308  ...   \n...                   ...              ...          ...  ...   \n47315                 0.0         0.018686     0.005609  ...   \n47316                 0.0         0.024051     0.000571  ...   \n47317                 0.0         0.020810     0.017825  ...   \n47318                 0.0         0.009347     0.001652  ...   \n47319                 0.0         0.032757     0.001305  ...   \n\n       total_amt_tw_nonntd  total_amt_tw_ntd  total_asset  total_asset_x  \\\n0                      0.0          0.001897     0.005085       0.005085   \n1                      0.0          0.000000     0.036790       0.036790   \n2                      0.0          0.000000     0.004421       0.004421   \n3                      0.0          0.000016     0.013738       0.013738   \n4                      0.0          0.000369     0.003273       0.003273   \n...                    ...               ...          ...            ...   \n47315                  0.0          0.000674     0.025197       0.025197   \n47316                  0.0          0.004728     0.005338       0.005338   \n47317                  0.0          0.000787     0.000125       0.000125   \n47318                  0.0          0.000183     0.017222       0.017222   \n47319                  0.0          0.006502     0.004950       0.004950   \n\n       total_asset_y  total_freq_nontw_nonntd  total_freq_nontw_ntd  \\\n0           0.009321                 0.000229              0.011081   \n1           0.050010                 0.000000              0.000000   \n2           0.006228                 0.000000              0.000000   \n3           0.002433                 0.000000              0.000000   \n4           0.004220                 0.000000              0.000000   \n...              ...                      ...                   ...   \n47315       0.035500                 0.000000              0.000000   \n47316       0.009643                 0.000000              0.000251   \n47317       0.000176                 0.000000              0.003630   \n47318       0.024264                 0.000000              0.000000   \n47319       0.007455                 0.000000              0.000817   \n\n       total_freq_tw_nonntd  total_freq_tw_ntd  trade_sum  \n0                       0.0           0.023780   0.000000  \n1                       0.0           0.000000   0.000000  \n2                       0.0           0.000000   0.000000  \n3                       0.0           0.000144   0.000000  \n4                       0.0           0.000911   0.000000  \n...                     ...                ...        ...  \n47315                   0.0           0.007819   0.000000  \n47316                   0.0           0.018254   0.000000  \n47317                   0.0           0.010877   0.083501  \n47318                   0.0           0.000365   0.000000  \n47319                   0.0           0.030740   0.000000  \n\n[47320 rows x 97 columns]",
      "text/html": "<div>\n<style scoped>\n    .dataframe tbody tr th:only-of-type {\n        vertical-align: middle;\n    }\n\n    .dataframe tbody tr th {\n        vertical-align: top;\n    }\n\n    .dataframe thead th {\n        text-align: right;\n    }\n</style>\n<table border=\"1\" class=\"dataframe\">\n  <thead>\n    <tr style=\"text-align: right;\">\n      <th></th>\n      <th>AGE</th>\n      <th>avg_amt_nontw_nonntd</th>\n      <th>avg_amt_nontw_ntd</th>\n      <th>avg_amt_tw_nonntd</th>\n      <th>avg_amt_tw_ntd</th>\n      <th>avg_freq_nontw_nonntd</th>\n      <th>avg_freq_nontw_ntd</th>\n      <th>avg_freq_tw_nonntd</th>\n      <th>avg_freq_tw_ntd</th>\n      <th>cr_1_avg_tx</th>\n      <th>...</th>\n      <th>total_amt_tw_nonntd</th>\n      <th>total_amt_tw_ntd</th>\n      <th>total_asset</th>\n      <th>total_asset_x</th>\n      <th>total_asset_y</th>\n      <th>total_freq_nontw_nonntd</th>\n      <th>total_freq_nontw_ntd</th>\n      <th>total_freq_tw_nonntd</th>\n      <th>total_freq_tw_ntd</th>\n      <th>trade_sum</th>\n    </tr>\n  </thead>\n  <tbody>\n    <tr>\n      <th>0</th>\n      <td>0.400000</td>\n      <td>0.005648</td>\n      <td>0.018591</td>\n      <td>0.0</td>\n      <td>0.000110</td>\n      <td>0.004122</td>\n      <td>0.055273</td>\n      <td>0.0</td>\n      <td>0.031604</td>\n      <td>0.000308</td>\n      <td>...</td>\n      <td>0.0</td>\n      <td>0.001897</td>\n      <td>0.005085</td>\n      <td>0.005085</td>\n      <td>0.009321</td>\n      <td>0.000229</td>\n      <td>0.011081</td>\n      <td>0.0</td>\n      <td>0.023780</td>\n      <td>0.000000</td>\n    </tr>\n    <tr>\n      <th>1</th>\n      <td>0.200000</td>\n      <td>0.000000</td>\n      <td>0.000000</td>\n      <td>0.0</td>\n      <td>0.000000</td>\n      <td>0.000000</td>\n      <td>0.000000</td>\n      <td>0.0</td>\n      <td>0.000000</td>\n      <td>0.000308</td>\n      <td>...</td>\n      <td>0.0</td>\n      <td>0.000000</td>\n      <td>0.036790</td>\n      <td>0.036790</td>\n      <td>0.050010</td>\n      <td>0.000000</td>\n      <td>0.000000</td>\n      <td>0.0</td>\n      <td>0.000000</td>\n      <td>0.000000</td>\n    </tr>\n    <tr>\n      <th>2</th>\n      <td>0.400000</td>\n      <td>0.000000</td>\n      <td>0.000000</td>\n      <td>0.0</td>\n      <td>0.000000</td>\n      <td>0.000000</td>\n      <td>0.000000</td>\n      <td>0.0</td>\n      <td>0.000000</td>\n      <td>0.000308</td>\n      <td>...</td>\n      <td>0.0</td>\n      <td>0.000000</td>\n      <td>0.004421</td>\n      <td>0.004421</td>\n      <td>0.006228</td>\n      <td>0.000000</td>\n      <td>0.000000</td>\n      <td>0.0</td>\n      <td>0.000000</td>\n      <td>0.000000</td>\n    </tr>\n    <tr>\n      <th>3</th>\n      <td>0.400000</td>\n      <td>0.000000</td>\n      <td>0.000000</td>\n      <td>0.0</td>\n      <td>0.000151</td>\n      <td>0.000000</td>\n      <td>0.000000</td>\n      <td>0.0</td>\n      <td>0.022078</td>\n      <td>0.000308</td>\n      <td>...</td>\n      <td>0.0</td>\n      <td>0.000016</td>\n      <td>0.013738</td>\n      <td>0.013738</td>\n      <td>0.002433</td>\n      <td>0.000000</td>\n      <td>0.000000</td>\n      <td>0.0</td>\n      <td>0.000144</td>\n      <td>0.000000</td>\n    </tr>\n    <tr>\n      <th>4</th>\n      <td>0.300000</td>\n      <td>0.000000</td>\n      <td>0.000000</td>\n      <td>0.0</td>\n      <td>0.000560</td>\n      <td>0.000000</td>\n      <td>0.000000</td>\n      <td>0.0</td>\n      <td>0.015536</td>\n      <td>0.000308</td>\n      <td>...</td>\n      <td>0.0</td>\n      <td>0.000369</td>\n      <td>0.003273</td>\n      <td>0.003273</td>\n      <td>0.004220</td>\n      <td>0.000000</td>\n      <td>0.000000</td>\n      <td>0.0</td>\n      <td>0.000911</td>\n      <td>0.000000</td>\n    </tr>\n    <tr>\n      <th>...</th>\n      <td>...</td>\n      <td>...</td>\n      <td>...</td>\n      <td>...</td>\n      <td>...</td>\n      <td>...</td>\n      <td>...</td>\n      <td>...</td>\n      <td>...</td>\n      <td>...</td>\n      <td>...</td>\n      <td>...</td>\n      <td>...</td>\n      <td>...</td>\n      <td>...</td>\n      <td>...</td>\n      <td>...</td>\n      <td>...</td>\n      <td>...</td>\n      <td>...</td>\n      <td>...</td>\n    </tr>\n    <tr>\n      <th>47315</th>\n      <td>0.485870</td>\n      <td>0.000000</td>\n      <td>0.000000</td>\n      <td>0.0</td>\n      <td>0.000122</td>\n      <td>0.000000</td>\n      <td>0.000000</td>\n      <td>0.0</td>\n      <td>0.018686</td>\n      <td>0.005609</td>\n      <td>...</td>\n      <td>0.0</td>\n      <td>0.000674</td>\n      <td>0.025197</td>\n      <td>0.025197</td>\n      <td>0.035500</td>\n      <td>0.000000</td>\n      <td>0.000000</td>\n      <td>0.0</td>\n      <td>0.007819</td>\n      <td>0.000000</td>\n    </tr>\n    <tr>\n      <th>47316</th>\n      <td>0.351037</td>\n      <td>0.000000</td>\n      <td>0.017786</td>\n      <td>0.0</td>\n      <td>0.000183</td>\n      <td>0.000000</td>\n      <td>0.025702</td>\n      <td>0.0</td>\n      <td>0.024051</td>\n      <td>0.000571</td>\n      <td>...</td>\n      <td>0.0</td>\n      <td>0.004728</td>\n      <td>0.005338</td>\n      <td>0.005338</td>\n      <td>0.009643</td>\n      <td>0.000000</td>\n      <td>0.000251</td>\n      <td>0.0</td>\n      <td>0.018254</td>\n      <td>0.000000</td>\n    </tr>\n    <tr>\n      <th>47317</th>\n      <td>0.300000</td>\n      <td>0.000000</td>\n      <td>0.004686</td>\n      <td>0.0</td>\n      <td>0.000130</td>\n      <td>0.000000</td>\n      <td>0.051383</td>\n      <td>0.0</td>\n      <td>0.020810</td>\n      <td>0.017825</td>\n      <td>...</td>\n      <td>0.0</td>\n      <td>0.000787</td>\n      <td>0.000125</td>\n      <td>0.000125</td>\n      <td>0.000176</td>\n      <td>0.000000</td>\n      <td>0.003630</td>\n      <td>0.0</td>\n      <td>0.010877</td>\n      <td>0.083501</td>\n    </tr>\n    <tr>\n      <th>47318</th>\n      <td>0.400000</td>\n      <td>0.000000</td>\n      <td>0.000000</td>\n      <td>0.0</td>\n      <td>0.000440</td>\n      <td>0.000000</td>\n      <td>0.000000</td>\n      <td>0.0</td>\n      <td>0.009347</td>\n      <td>0.001652</td>\n      <td>...</td>\n      <td>0.0</td>\n      <td>0.000183</td>\n      <td>0.017222</td>\n      <td>0.017222</td>\n      <td>0.024264</td>\n      <td>0.000000</td>\n      <td>0.000000</td>\n      <td>0.0</td>\n      <td>0.000365</td>\n      <td>0.000000</td>\n    </tr>\n    <tr>\n      <th>47319</th>\n      <td>0.305159</td>\n      <td>0.000000</td>\n      <td>0.000867</td>\n      <td>0.0</td>\n      <td>0.000210</td>\n      <td>0.000000</td>\n      <td>0.027861</td>\n      <td>0.0</td>\n      <td>0.032757</td>\n      <td>0.001305</td>\n      <td>...</td>\n      <td>0.0</td>\n      <td>0.006502</td>\n      <td>0.004950</td>\n      <td>0.004950</td>\n      <td>0.007455</td>\n      <td>0.000000</td>\n      <td>0.000817</td>\n      <td>0.0</td>\n      <td>0.030740</td>\n      <td>0.000000</td>\n    </tr>\n  </tbody>\n</table>\n<p>47320 rows × 97 columns</p>\n</div>"
     },
     "execution_count": 41,
     "metadata": {},
     "output_type": "execute_result"
    }
   ],
   "source": [
    "# sm_x = sm_x[sm_x.columns[rfe_columns]]\n",
    "sm_x"
   ],
   "metadata": {
    "collapsed": false
   }
  },
  {
   "cell_type": "code",
   "execution_count": 42,
   "outputs": [
    {
     "name": "stderr",
     "output_type": "stream",
     "text": [
      "C:\\Software\\Anaconda3\\lib\\site-packages\\xgboost\\sklearn.py:1224: UserWarning: The use of label encoder in XGBClassifier is deprecated and will be removed in a future release. To remove this warning, do the following: 1) Pass option use_label_encoder=False when constructing XGBClassifier object; and 2) Encode your labels (y) as integers starting with 0, i.e. 0, 1, 2, ..., [num_class - 1].\n",
      "  warnings.warn(label_encoder_deprecation_msg, UserWarning)\n",
      "C:\\Software\\Anaconda3\\lib\\site-packages\\sklearn\\preprocessing\\_label.py:98: DataConversionWarning: A column-vector y was passed when a 1d array was expected. Please change the shape of y to (n_samples, ), for example using ravel().\n",
      "  y = column_or_1d(y, warn=True)\n",
      "C:\\Software\\Anaconda3\\lib\\site-packages\\sklearn\\preprocessing\\_label.py:133: DataConversionWarning: A column-vector y was passed when a 1d array was expected. Please change the shape of y to (n_samples, ), for example using ravel().\n",
      "  y = column_or_1d(y, warn=True)\n",
      "C:\\Software\\Anaconda3\\lib\\site-packages\\xgboost\\data.py:250: FutureWarning: pandas.Int64Index is deprecated and will be removed from pandas in a future version. Use pandas.Index with the appropriate dtype instead.\n",
      "  elif isinstance(data.columns, (pd.Int64Index, pd.RangeIndex)):\n"
     ]
    },
    {
     "name": "stdout",
     "output_type": "stream",
     "text": [
      "0.9932511573428524  0.992136523339468\n",
      "[[5925    2]\n",
      " [  45    5]]\n"
     ]
    }
   ],
   "source": [
    "XG = LR_training(train_x, train_y, XG)"
   ],
   "metadata": {
    "collapsed": false
   }
  },
  {
   "cell_type": "code",
   "execution_count": 43,
   "outputs": [
    {
     "name": "stderr",
     "output_type": "stream",
     "text": [
      "C:\\Software\\Anaconda3\\lib\\site-packages\\xgboost\\sklearn.py:1224: UserWarning: The use of label encoder in XGBClassifier is deprecated and will be removed in a future release. To remove this warning, do the following: 1) Pass option use_label_encoder=False when constructing XGBClassifier object; and 2) Encode your labels (y) as integers starting with 0, i.e. 0, 1, 2, ..., [num_class - 1].\n",
      "  warnings.warn(label_encoder_deprecation_msg, UserWarning)\n",
      "C:\\Software\\Anaconda3\\lib\\site-packages\\sklearn\\preprocessing\\_label.py:98: DataConversionWarning: A column-vector y was passed when a 1d array was expected. Please change the shape of y to (n_samples, ), for example using ravel().\n",
      "  y = column_or_1d(y, warn=True)\n",
      "C:\\Software\\Anaconda3\\lib\\site-packages\\sklearn\\preprocessing\\_label.py:133: DataConversionWarning: A column-vector y was passed when a 1d array was expected. Please change the shape of y to (n_samples, ), for example using ravel().\n",
      "  y = column_or_1d(y, warn=True)\n",
      "C:\\Software\\Anaconda3\\lib\\site-packages\\xgboost\\data.py:250: FutureWarning: pandas.Int64Index is deprecated and will be removed from pandas in a future version. Use pandas.Index with the appropriate dtype instead.\n",
      "  elif isinstance(data.columns, (pd.Int64Index, pd.RangeIndex)):\n"
     ]
    },
    {
     "name": "stdout",
     "output_type": "stream",
     "text": [
      "0.9723302338686954  0.9703296703296703\n",
      "[[5684  229]\n",
      " [ 122 5795]]\n"
     ]
    }
   ],
   "source": [
    "XG = LR_training(sm_x, sm_y, XG)"
   ],
   "metadata": {
    "collapsed": false
   }
  },
  {
   "cell_type": "code",
   "execution_count": 44,
   "outputs": [
    {
     "name": "stdout",
     "output_type": "stream",
     "text": [
      "0.9584204802141721\n",
      "[[22751   921]\n",
      " [   73   161]]\n",
      "              precision    recall  f1-score   support\n",
      "\n",
      "           0       1.00      0.96      0.98     23672\n",
      "           1       0.15      0.69      0.24       234\n",
      "\n",
      "    accuracy                           0.96     23906\n",
      "   macro avg       0.57      0.82      0.61     23906\n",
      "weighted avg       0.99      0.96      0.97     23906\n",
      "\n"
     ]
    }
   ],
   "source": [
    "# Training Evaluation: DONT USE RFE IN RF\n",
    "# train_x_rfe = train_x[train_x.columns[rfe_columns]]\n",
    "LR_test(train_x, train_y, XG)\n"
   ],
   "metadata": {
    "collapsed": false
   }
  },
  {
   "cell_type": "code",
   "execution_count": null,
   "outputs": [],
   "source": [
    "# Fine-tuning test\n"
   ],
   "metadata": {
    "collapsed": false
   }
  },
  {
   "cell_type": "code",
   "execution_count": null,
   "outputs": [],
   "source": [
    "ori_train_x_normal = normalize_mms(ori_train_x)\n",
    "LR_test(ori_train_x_normal, ori_train_y, XG)"
   ],
   "metadata": {
    "collapsed": false
   }
  },
  {
   "cell_type": "code",
   "execution_count": null,
   "outputs": [],
   "source": [
    "test_xdp = pd.read_pickle('xdp_x_test.pkl')"
   ],
   "metadata": {
    "collapsed": false
   }
  },
  {
   "cell_type": "code",
   "execution_count": null,
   "outputs": [],
   "source": [
    "# Test\n",
    "test = df_from_csv('submit_format.csv')\n",
    "test = test.drop(['probability'], axis=1)\n",
    "test = test.merge(test_xdp, on='alert_key', how='left')\n",
    "test = test.merge(ccba, on='cust_id', how='left')\n",
    "test = test.merge(cdtx, on='cust_id', how='left')\n",
    "test = test.merge(remit, on='alert_key', how='left')\n",
    "test = test.drop(['alert_key', 'cust_id', 'date'], axis=1)\n",
    "test['bad_value'] = test.isnull().sum(axis=1) + (test == 0).astype(int).sum(axis=1)\n",
    "test = test.loc[test['bad_value'] < 77]\n",
    "test.iloc[:, :] = test.iloc[:, :].fillna(0)\n",
    "test = test.drop(['bad_value'], axis=1)\n",
    "test = test.reindex(sorted(test.columns), axis=1)\n",
    "test = normalize_mms(test)\n",
    "test"
   ],
   "metadata": {
    "collapsed": false
   }
  },
  {
   "cell_type": "code",
   "execution_count": null,
   "outputs": [],
   "source": [
    "#handle missing column\n",
    "test['occupation_code_0'] = 0\n",
    "test['occupation_code_6'] = 0\n",
    "test['occupation_code_8'] = 0"
   ],
   "metadata": {
    "collapsed": false
   }
  },
  {
   "cell_type": "code",
   "execution_count": null,
   "outputs": [],
   "source": [
    "y_test = XG.predict_proba(test)\n",
    "# y_test = RF_random.predict_proba(test)\n",
    "y_test = pd.DataFrame(y_test, columns=['probability0','probability'])\n",
    "y_test = y_test.drop(['probability0'], axis=1)\n",
    "# y_test['probability'] = round(y_test['probability'], 6)\n",
    "y_test.index = test.index\n",
    "y_test"
   ],
   "metadata": {
    "collapsed": false
   }
  },
  {
   "cell_type": "code",
   "execution_count": null,
   "outputs": [],
   "source": [
    "y_test.sort_values(by='probability', ascending=True)"
   ],
   "metadata": {
    "collapsed": false
   }
  },
  {
   "cell_type": "code",
   "execution_count": null,
   "outputs": [],
   "source": [
    "y_test.loc[y_test['probability'] == 0, 'probability'] = 0.000001\n",
    "y_test.sort_values(by='probability', ascending=True)"
   ],
   "metadata": {
    "collapsed": false
   }
  },
  {
   "cell_type": "code",
   "execution_count": null,
   "outputs": [],
   "source": [
    "xy_test = pd.concat([test, y_test], axis=1)\n",
    "submit = df_from_csv('submit_format.csv')\n",
    "submit = submit.drop(columns=['probability'])\n",
    "submit = pd.concat([submit, xy_test], axis=1)\n",
    "submit = submit[['alert_key','probability']]\n",
    "submit['probability'] = submit['probability'].fillna(0)\n",
    "submit = submit.sort_values(by='probability', ascending=False)\n",
    "submit.to_csv('final_submit.csv')\n",
    "submit"
   ],
   "metadata": {
    "collapsed": false
   }
  },
  {
   "cell_type": "code",
   "execution_count": null,
   "outputs": [],
   "source": [
    "submit.isnull().any()"
   ],
   "metadata": {
    "collapsed": false
   }
  },
  {
   "cell_type": "code",
   "execution_count": null,
   "outputs": [],
   "source": [
    "submit.loc[submit.duplicated(keep=False)]"
   ],
   "metadata": {
    "collapsed": false
   }
  },
  {
   "cell_type": "code",
   "execution_count": null,
   "outputs": [],
   "source": [],
   "metadata": {
    "collapsed": false
   }
  }
 ],
 "metadata": {
  "kernelspec": {
   "display_name": "Python 3",
   "language": "python",
   "name": "python3"
  },
  "language_info": {
   "codemirror_mode": {
    "name": "ipython",
    "version": 2
   },
   "file_extension": ".py",
   "mimetype": "text/x-python",
   "name": "python",
   "nbconvert_exporter": "python",
   "pygments_lexer": "ipython2",
   "version": "2.7.6"
  }
 },
 "nbformat": 4,
 "nbformat_minor": 0
}
