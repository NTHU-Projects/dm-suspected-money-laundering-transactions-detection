{
 "cells": [
  {
   "cell_type": "code",
   "execution_count": 33,
   "metadata": {
    "collapsed": true
   },
   "outputs": [],
   "source": [
    "#Base\n",
    "\n",
    "import pandas as pd\n",
    "import os\n",
    "\n",
    "from sklearn.metrics import classification_report\n",
    "from sklearn.metrics import confusion_matrix\n",
    "from sklearn.model_selection import train_test_split\n",
    "from sklearn.linear_model import LogisticRegression\n",
    "from sklearn.metrics import accuracy_score\n",
    "from imblearn.over_sampling import SMOTE\n",
    "from sklearn.ensemble import RandomForestClassifier\n",
    "\n",
    "from sklearn.feature_selection import RFE\n",
    "\n",
    "import statsmodels.api as sm\n",
    "\n",
    "from tqdm import tqdm\n",
    "\n",
    "\n",
    "dataset_folder = os.path.join(os.getcwd(), 'dataset')\n",
    "\n",
    "def df_from_csv(filename):\n",
    "    f = os.path.join(dataset_folder, filename)\n",
    "    return pd.read_csv(f, delimiter='\\t|\\n|,', engine='python')\n",
    "\n",
    "x_train = df_from_csv('ori_trainx.csv')\n",
    "y_train = df_from_csv('ori_trainy.csv')\n",
    "alert_date = df_from_csv('ori_alert_date.csv')\n",
    "alert_cust = df_from_csv('ori_custinfo.csv')\n",
    "xdp = df_from_csv('ori_xdp.csv')\n",
    "\n",
    "smote = SMOTE(random_state=0)\n",
    "tqdm.pandas(desc='Progress Bar')\n",
    "\n",
    "def SMOTE_oversampling(input_x, input_y):\n",
    "    x_train, x_test, y_train, y_test = train_test_split(input_x, input_y, test_size=0.3)\n",
    "    x_cols = x_train.columns\n",
    "    y_cols = y_train.columns\n",
    "\n",
    "    sm_data_x, sm_data_y = smote.fit_resample(x_train, y_train)\n",
    "    sm_data_x = pd.DataFrame(data=sm_data_x, columns=x_cols)\n",
    "    sm_data_y = pd.DataFrame(data=sm_data_y, columns=y_cols)\n",
    "\n",
    "    print(\"length of oversampled data is \",len(sm_data_x))\n",
    "    print(\"Number of non-sar in oversampled data\",len(sm_data_y[sm_data_y['sar_flag']==0]))\n",
    "    print(\"Number of sar\",len(sm_data_y[sm_data_y['sar_flag']==1]))\n",
    "    print(\"Proportion of no subscription data in oversampled data is \", len(sm_data_y[sm_data_y['sar_flag']==0])/len(sm_data_x))\n",
    "    print(\"Proportion of subscription data in oversampled data is \", len(sm_data_y[sm_data_y['sar_flag']==1])/len(sm_data_x))\n",
    "\n",
    "    return sm_data_x, sm_data_y\n",
    "\n",
    "def RFE_analysis(input_x, input_y, model):\n",
    "    rfe = RFE(model, step=300)\n",
    "    rfe.fit(input_x, input_y.values.ravel())\n",
    "    print(input_x.columns)\n",
    "    print(rfe.support_)\n",
    "    print(rfe.ranking_)\n",
    "    return rfe.get_support(1)\n",
    "\n",
    "def LR_analysis(input_x, input_y):\n",
    "    sm_LR = sm.Logit(input_y, input_x)\n",
    "    result = sm_LR.fit()\n",
    "    print(result.summary2())\n",
    "\n",
    "def LR_training(input_x, input_y, LR_model):\n",
    "    x_train, x_test, y_train, y_test = train_test_split(input_x, input_y, test_size=0.25)\n",
    "    LR_model.fit(x_train, y_train)\n",
    "    y_train_predict = LR_model.predict(x_train)\n",
    "    y_test_predict = LR_model.predict(x_test)\n",
    "    train_acc = accuracy_score(y_train, y_train_predict)\n",
    "    test_acc = accuracy_score(y_test, y_test_predict)\n",
    "    print(f'{train_acc}  {test_acc}')\n",
    "    cm = confusion_matrix(y_true=y_test, y_pred=y_test_predict)\n",
    "    print(cm)\n",
    "    return LR_model\n",
    "\n",
    "def LR_test(input_x, input_y, LR_model):\n",
    "    y_predict = LR_model.predict(input_x)\n",
    "    test_acc = accuracy_score(input_y, y_predict)\n",
    "    print(f'{test_acc}')\n",
    "    cm = confusion_matrix(y_true=input_y, y_pred=y_predict)\n",
    "    print(cm)\n",
    "    print(classification_report(y_true=input_y, y_pred=y_predict))\n",
    "\n",
    "def calculate_tx(row):\n",
    "    if not pd.isna(row['risk_rank']):\n",
    "        temp_frame = xdp[(xdp['tx_date'] <= row['date']) & (xdp['cust_id'] == row['cust_id'])]\n",
    "        total_tx = (temp_frame['tx_amt'] * temp_frame['exchg_rate'])\n",
    "        row['total_tx'] = total_tx.sum()\n",
    "        row['avg_tx'] = total_tx.mean()\n",
    "        row['count_tx'] = total_tx.count()\n",
    "        row['std_tx'] = total_tx.std()\n",
    "        row['tx_per_day'] = row['count_tx']/row['date']+1\n",
    "    return row\n"
   ]
  },
  {
   "cell_type": "code",
   "execution_count": 35,
   "outputs": [],
   "source": [
    "# Join data for training\n",
    "\n",
    "ccba = pd.read_pickle('aggregated_ccba_cust.pkl')\n",
    "cdtx = pd.read_pickle('cdtx_agg.pkl')\n",
    "xdp = pd.read_pickle('xdp_train_test1.pkl')\n",
    "remit = pd.read_pickle('cust_remit_raw.pkl')"
   ],
   "metadata": {
    "collapsed": false
   }
  },
  {
   "cell_type": "code",
   "execution_count": 36,
   "outputs": [
    {
     "data": {
      "text/plain": "   alert_key  date  sar_flag  \\\n0     171189     0         0   \n1     171202     0         0   \n2     171599     0         0   \n3     171737     0         0   \n4     171142     0         0   \n\n                                             cust_id  risk_rank  AGE  \\\n0  972ee157e63316e8a50dd489bc93730a3ee8a8959d5c6b...          1    4   \n1  a10ab33f90926fb18d7bb5e78034d7f04a1fbed95b7951...          3    2   \n2  3433ecc068ed1c9e2f5037cab5d42d7b901e9bd624c1fb...          1    4   \n3  a0861608615a9365d90f4ba0a813c0ea0471987f925c8b...          3    4   \n4  a39fea9aec90969fe66a2b2b4d1b86368a2d38e8b8d4bf...          3    3   \n\n   total_tx        avg_tx  count_tx         std_tx  tx_per_day  \n0    1515.0    505.000000         3     450.223278         0.0  \n1  209202.0  69734.000000         3   75670.655263         0.0  \n2  310593.0  77648.250000         4  134725.210913         0.0  \n3   43125.0   4312.500000        10    5920.365665         0.0  \n4  296344.0   4939.066667        60    6547.864806         0.0  ",
      "text/html": "<div>\n<style scoped>\n    .dataframe tbody tr th:only-of-type {\n        vertical-align: middle;\n    }\n\n    .dataframe tbody tr th {\n        vertical-align: top;\n    }\n\n    .dataframe thead th {\n        text-align: right;\n    }\n</style>\n<table border=\"1\" class=\"dataframe\">\n  <thead>\n    <tr style=\"text-align: right;\">\n      <th></th>\n      <th>alert_key</th>\n      <th>date</th>\n      <th>sar_flag</th>\n      <th>cust_id</th>\n      <th>risk_rank</th>\n      <th>AGE</th>\n      <th>total_tx</th>\n      <th>avg_tx</th>\n      <th>count_tx</th>\n      <th>std_tx</th>\n      <th>tx_per_day</th>\n    </tr>\n  </thead>\n  <tbody>\n    <tr>\n      <th>0</th>\n      <td>171189</td>\n      <td>0</td>\n      <td>0</td>\n      <td>972ee157e63316e8a50dd489bc93730a3ee8a8959d5c6b...</td>\n      <td>1</td>\n      <td>4</td>\n      <td>1515.0</td>\n      <td>505.000000</td>\n      <td>3</td>\n      <td>450.223278</td>\n      <td>0.0</td>\n    </tr>\n    <tr>\n      <th>1</th>\n      <td>171202</td>\n      <td>0</td>\n      <td>0</td>\n      <td>a10ab33f90926fb18d7bb5e78034d7f04a1fbed95b7951...</td>\n      <td>3</td>\n      <td>2</td>\n      <td>209202.0</td>\n      <td>69734.000000</td>\n      <td>3</td>\n      <td>75670.655263</td>\n      <td>0.0</td>\n    </tr>\n    <tr>\n      <th>2</th>\n      <td>171599</td>\n      <td>0</td>\n      <td>0</td>\n      <td>3433ecc068ed1c9e2f5037cab5d42d7b901e9bd624c1fb...</td>\n      <td>1</td>\n      <td>4</td>\n      <td>310593.0</td>\n      <td>77648.250000</td>\n      <td>4</td>\n      <td>134725.210913</td>\n      <td>0.0</td>\n    </tr>\n    <tr>\n      <th>3</th>\n      <td>171737</td>\n      <td>0</td>\n      <td>0</td>\n      <td>a0861608615a9365d90f4ba0a813c0ea0471987f925c8b...</td>\n      <td>3</td>\n      <td>4</td>\n      <td>43125.0</td>\n      <td>4312.500000</td>\n      <td>10</td>\n      <td>5920.365665</td>\n      <td>0.0</td>\n    </tr>\n    <tr>\n      <th>4</th>\n      <td>171142</td>\n      <td>0</td>\n      <td>0</td>\n      <td>a39fea9aec90969fe66a2b2b4d1b86368a2d38e8b8d4bf...</td>\n      <td>3</td>\n      <td>3</td>\n      <td>296344.0</td>\n      <td>4939.066667</td>\n      <td>60</td>\n      <td>6547.864806</td>\n      <td>0.0</td>\n    </tr>\n  </tbody>\n</table>\n</div>"
     },
     "execution_count": 36,
     "metadata": {},
     "output_type": "execute_result"
    }
   ],
   "source": [
    "xdp.head()"
   ],
   "metadata": {
    "collapsed": false
   }
  },
  {
   "cell_type": "code",
   "execution_count": 3,
   "outputs": [
    {
     "data": {
      "text/plain": "       AGE  alert_key  avg_amt_nontw_nonntd  avg_amt_nontw_ntd  \\\n0        4     171189           9044.740741        3033.355556   \n1        2     171202                   NaN                NaN   \n2        4     171599                   NaN                NaN   \n3        4     171737                   NaN                NaN   \n4        3     171142                   NaN                NaN   \n...    ...        ...                   ...                ...   \n23901    3     352132           4332.523077        1223.939446   \n23902    3     352125                   NaN                NaN   \n23903    6     352080                   NaN                NaN   \n23904    6     352075                   NaN                NaN   \n23905    2     351927                   NaN                NaN   \n\n       avg_amt_tw_nonntd  avg_amt_tw_ntd  avg_freq_nontw_nonntd  \\\n0                    NaN     1388.550403               1.350000   \n1                    NaN             NaN                    NaN   \n2                    NaN             NaN                    NaN   \n3                    NaN     1893.333333                    NaN   \n4                    NaN     7048.368421                    NaN   \n...                  ...             ...                    ...   \n23901                NaN      988.503826               1.160714   \n23902                NaN             NaN                    NaN   \n23903                NaN             NaN                    NaN   \n23904                NaN             NaN                    NaN   \n23905                NaN             NaN                    NaN   \n\n       avg_freq_nontw_ntd  avg_freq_tw_nonntd  avg_freq_tw_ntd  ...  \\\n0                1.097561                 NaN         2.147186  ...   \n1                     NaN                 NaN              NaN  ...   \n2                     NaN                 NaN              NaN  ...   \n3                     NaN                 NaN         1.500000  ...   \n4                     NaN                 NaN         1.055556  ...   \n...                   ...                 ...              ...  ...   \n23901            2.513043                 NaN         6.668367  ...   \n23902                 NaN                 NaN              NaN  ...   \n23903                 NaN                 NaN              NaN  ...   \n23904                 NaN                 NaN              NaN  ...   \n23905                 NaN                 NaN              NaN  ...   \n\n       total_amt_tw_ntd  total_asset_x  total_asset_y  \\\n0              688721.0       375576.0   4.886652e+05   \n1                   NaN      2717416.0   2.621840e+06   \n2                   NaN       326517.0   3.265170e+05   \n3                5680.0      1014759.0   1.275499e+05   \n4              133919.0       241719.0   2.212473e+05   \n...                 ...            ...            ...   \n23901         2583949.0      3218731.0   2.361632e+06   \n23902               NaN       928963.0   5.041325e+05   \n23903               NaN        69080.0   7.500171e+04   \n23904               NaN       262604.0   3.333440e+05   \n23905               NaN       332834.0   2.724419e+05   \n\n       total_freq_nontw_nonntd  total_freq_nontw_ntd  total_freq_tw_nonntd  \\\n0                         27.0                  45.0                   NaN   \n1                          NaN                   NaN                   NaN   \n2                          NaN                   NaN                   NaN   \n3                          NaN                   NaN                   NaN   \n4                          NaN                   NaN                   NaN   \n...                        ...                   ...                   ...   \n23901                     65.0                 578.0                   NaN   \n23902                      NaN                   NaN                   NaN   \n23903                      NaN                   NaN                   NaN   \n23904                      NaN                   NaN                   NaN   \n23905                      NaN                   NaN                   NaN   \n\n       total_freq_tw_ntd      total_tx  trade_sum  tx_per_day  \n0                  496.0  1.515000e+03        NaN    0.000000  \n1                    NaN  2.092020e+05        NaN    0.000000  \n2                    NaN  3.105930e+05        NaN    0.000000  \n3                    3.0  4.312500e+04        NaN    0.000000  \n4                   19.0  2.963440e+05        NaN    0.000000  \n...                  ...           ...        ...         ...  \n23901             2614.0  1.532000e+08   364459.0    0.390110  \n23902                NaN  4.615283e+07    22127.0    0.054945  \n23903                NaN  1.555772e+08    43676.0    0.192308  \n23904                NaN  1.365559e+08        NaN    1.181319  \n23905                NaN  5.918977e+07        NaN    0.618132  \n\n[23906 rows x 55 columns]",
      "text/html": "<div>\n<style scoped>\n    .dataframe tbody tr th:only-of-type {\n        vertical-align: middle;\n    }\n\n    .dataframe tbody tr th {\n        vertical-align: top;\n    }\n\n    .dataframe thead th {\n        text-align: right;\n    }\n</style>\n<table border=\"1\" class=\"dataframe\">\n  <thead>\n    <tr style=\"text-align: right;\">\n      <th></th>\n      <th>AGE</th>\n      <th>alert_key</th>\n      <th>avg_amt_nontw_nonntd</th>\n      <th>avg_amt_nontw_ntd</th>\n      <th>avg_amt_tw_nonntd</th>\n      <th>avg_amt_tw_ntd</th>\n      <th>avg_freq_nontw_nonntd</th>\n      <th>avg_freq_nontw_ntd</th>\n      <th>avg_freq_tw_nonntd</th>\n      <th>avg_freq_tw_ntd</th>\n      <th>...</th>\n      <th>total_amt_tw_ntd</th>\n      <th>total_asset_x</th>\n      <th>total_asset_y</th>\n      <th>total_freq_nontw_nonntd</th>\n      <th>total_freq_nontw_ntd</th>\n      <th>total_freq_tw_nonntd</th>\n      <th>total_freq_tw_ntd</th>\n      <th>total_tx</th>\n      <th>trade_sum</th>\n      <th>tx_per_day</th>\n    </tr>\n  </thead>\n  <tbody>\n    <tr>\n      <th>0</th>\n      <td>4</td>\n      <td>171189</td>\n      <td>9044.740741</td>\n      <td>3033.355556</td>\n      <td>NaN</td>\n      <td>1388.550403</td>\n      <td>1.350000</td>\n      <td>1.097561</td>\n      <td>NaN</td>\n      <td>2.147186</td>\n      <td>...</td>\n      <td>688721.0</td>\n      <td>375576.0</td>\n      <td>4.886652e+05</td>\n      <td>27.0</td>\n      <td>45.0</td>\n      <td>NaN</td>\n      <td>496.0</td>\n      <td>1.515000e+03</td>\n      <td>NaN</td>\n      <td>0.000000</td>\n    </tr>\n    <tr>\n      <th>1</th>\n      <td>2</td>\n      <td>171202</td>\n      <td>NaN</td>\n      <td>NaN</td>\n      <td>NaN</td>\n      <td>NaN</td>\n      <td>NaN</td>\n      <td>NaN</td>\n      <td>NaN</td>\n      <td>NaN</td>\n      <td>...</td>\n      <td>NaN</td>\n      <td>2717416.0</td>\n      <td>2.621840e+06</td>\n      <td>NaN</td>\n      <td>NaN</td>\n      <td>NaN</td>\n      <td>NaN</td>\n      <td>2.092020e+05</td>\n      <td>NaN</td>\n      <td>0.000000</td>\n    </tr>\n    <tr>\n      <th>2</th>\n      <td>4</td>\n      <td>171599</td>\n      <td>NaN</td>\n      <td>NaN</td>\n      <td>NaN</td>\n      <td>NaN</td>\n      <td>NaN</td>\n      <td>NaN</td>\n      <td>NaN</td>\n      <td>NaN</td>\n      <td>...</td>\n      <td>NaN</td>\n      <td>326517.0</td>\n      <td>3.265170e+05</td>\n      <td>NaN</td>\n      <td>NaN</td>\n      <td>NaN</td>\n      <td>NaN</td>\n      <td>3.105930e+05</td>\n      <td>NaN</td>\n      <td>0.000000</td>\n    </tr>\n    <tr>\n      <th>3</th>\n      <td>4</td>\n      <td>171737</td>\n      <td>NaN</td>\n      <td>NaN</td>\n      <td>NaN</td>\n      <td>1893.333333</td>\n      <td>NaN</td>\n      <td>NaN</td>\n      <td>NaN</td>\n      <td>1.500000</td>\n      <td>...</td>\n      <td>5680.0</td>\n      <td>1014759.0</td>\n      <td>1.275499e+05</td>\n      <td>NaN</td>\n      <td>NaN</td>\n      <td>NaN</td>\n      <td>3.0</td>\n      <td>4.312500e+04</td>\n      <td>NaN</td>\n      <td>0.000000</td>\n    </tr>\n    <tr>\n      <th>4</th>\n      <td>3</td>\n      <td>171142</td>\n      <td>NaN</td>\n      <td>NaN</td>\n      <td>NaN</td>\n      <td>7048.368421</td>\n      <td>NaN</td>\n      <td>NaN</td>\n      <td>NaN</td>\n      <td>1.055556</td>\n      <td>...</td>\n      <td>133919.0</td>\n      <td>241719.0</td>\n      <td>2.212473e+05</td>\n      <td>NaN</td>\n      <td>NaN</td>\n      <td>NaN</td>\n      <td>19.0</td>\n      <td>2.963440e+05</td>\n      <td>NaN</td>\n      <td>0.000000</td>\n    </tr>\n    <tr>\n      <th>...</th>\n      <td>...</td>\n      <td>...</td>\n      <td>...</td>\n      <td>...</td>\n      <td>...</td>\n      <td>...</td>\n      <td>...</td>\n      <td>...</td>\n      <td>...</td>\n      <td>...</td>\n      <td>...</td>\n      <td>...</td>\n      <td>...</td>\n      <td>...</td>\n      <td>...</td>\n      <td>...</td>\n      <td>...</td>\n      <td>...</td>\n      <td>...</td>\n      <td>...</td>\n      <td>...</td>\n    </tr>\n    <tr>\n      <th>23901</th>\n      <td>3</td>\n      <td>352132</td>\n      <td>4332.523077</td>\n      <td>1223.939446</td>\n      <td>NaN</td>\n      <td>988.503826</td>\n      <td>1.160714</td>\n      <td>2.513043</td>\n      <td>NaN</td>\n      <td>6.668367</td>\n      <td>...</td>\n      <td>2583949.0</td>\n      <td>3218731.0</td>\n      <td>2.361632e+06</td>\n      <td>65.0</td>\n      <td>578.0</td>\n      <td>NaN</td>\n      <td>2614.0</td>\n      <td>1.532000e+08</td>\n      <td>364459.0</td>\n      <td>0.390110</td>\n    </tr>\n    <tr>\n      <th>23902</th>\n      <td>3</td>\n      <td>352125</td>\n      <td>NaN</td>\n      <td>NaN</td>\n      <td>NaN</td>\n      <td>NaN</td>\n      <td>NaN</td>\n      <td>NaN</td>\n      <td>NaN</td>\n      <td>NaN</td>\n      <td>...</td>\n      <td>NaN</td>\n      <td>928963.0</td>\n      <td>5.041325e+05</td>\n      <td>NaN</td>\n      <td>NaN</td>\n      <td>NaN</td>\n      <td>NaN</td>\n      <td>4.615283e+07</td>\n      <td>22127.0</td>\n      <td>0.054945</td>\n    </tr>\n    <tr>\n      <th>23903</th>\n      <td>6</td>\n      <td>352080</td>\n      <td>NaN</td>\n      <td>NaN</td>\n      <td>NaN</td>\n      <td>NaN</td>\n      <td>NaN</td>\n      <td>NaN</td>\n      <td>NaN</td>\n      <td>NaN</td>\n      <td>...</td>\n      <td>NaN</td>\n      <td>69080.0</td>\n      <td>7.500171e+04</td>\n      <td>NaN</td>\n      <td>NaN</td>\n      <td>NaN</td>\n      <td>NaN</td>\n      <td>1.555772e+08</td>\n      <td>43676.0</td>\n      <td>0.192308</td>\n    </tr>\n    <tr>\n      <th>23904</th>\n      <td>6</td>\n      <td>352075</td>\n      <td>NaN</td>\n      <td>NaN</td>\n      <td>NaN</td>\n      <td>NaN</td>\n      <td>NaN</td>\n      <td>NaN</td>\n      <td>NaN</td>\n      <td>NaN</td>\n      <td>...</td>\n      <td>NaN</td>\n      <td>262604.0</td>\n      <td>3.333440e+05</td>\n      <td>NaN</td>\n      <td>NaN</td>\n      <td>NaN</td>\n      <td>NaN</td>\n      <td>1.365559e+08</td>\n      <td>NaN</td>\n      <td>1.181319</td>\n    </tr>\n    <tr>\n      <th>23905</th>\n      <td>2</td>\n      <td>351927</td>\n      <td>NaN</td>\n      <td>NaN</td>\n      <td>NaN</td>\n      <td>NaN</td>\n      <td>NaN</td>\n      <td>NaN</td>\n      <td>NaN</td>\n      <td>NaN</td>\n      <td>...</td>\n      <td>NaN</td>\n      <td>332834.0</td>\n      <td>2.724419e+05</td>\n      <td>NaN</td>\n      <td>NaN</td>\n      <td>NaN</td>\n      <td>NaN</td>\n      <td>5.918977e+07</td>\n      <td>NaN</td>\n      <td>0.618132</td>\n    </tr>\n  </tbody>\n</table>\n<p>23906 rows × 55 columns</p>\n</div>"
     },
     "execution_count": 3,
     "metadata": {},
     "output_type": "execute_result"
    }
   ],
   "source": [
    "train = df_from_csv('ori_trainx.csv')\n",
    "train = train.merge(df_from_csv('ori_trainy.csv'), on='alert_key', how='inner')\n",
    "train = train.merge(alert_cust, on='alert_key', how='left')\n",
    "train = train[['alert_key', 'cust_id']]\n",
    "train = train.merge(ccba, on='cust_id', how='left')\n",
    "train = train.merge(cdtx, on='cust_id', how='left')\n",
    "train = train.merge(xdp, on='alert_key', how='left')\n",
    "train = train.merge(remit, on='alert_key', how='left')\n",
    "train = train.reindex(sorted(train.columns), axis=1)\n",
    "train"
   ],
   "metadata": {
    "collapsed": false
   }
  },
  {
   "cell_type": "code",
   "execution_count": 4,
   "outputs": [],
   "source": [
    "train['bad_value'] = train.isnull().sum(axis=1) + (train == 0).astype(int).sum(axis=1)"
   ],
   "metadata": {
    "collapsed": false
   }
  },
  {
   "cell_type": "code",
   "execution_count": 5,
   "outputs": [],
   "source": [
    "train = train.drop(['cust_id_x', 'cust_id_y', 'date'], axis=1)\n",
    "train.to_pickle('aggregate.pkl')"
   ],
   "metadata": {
    "collapsed": false
   }
  },
  {
   "cell_type": "code",
   "execution_count": 6,
   "outputs": [
    {
     "data": {
      "text/plain": "       AGE  avg_amt_nontw_nonntd  avg_amt_nontw_ntd  avg_amt_tw_nonntd  \\\n0        4           9044.740741        3033.355556                NaN   \n1        2                   NaN                NaN                NaN   \n2        4                   NaN                NaN                NaN   \n3        4                   NaN                NaN                NaN   \n4        3                   NaN                NaN                NaN   \n...    ...                   ...                ...                ...   \n23901    3           4332.523077        1223.939446                NaN   \n23902    3                   NaN                NaN                NaN   \n23903    6                   NaN                NaN                NaN   \n23904    6                   NaN                NaN                NaN   \n23905    2                   NaN                NaN                NaN   \n\n       avg_amt_tw_ntd  avg_freq_nontw_nonntd  avg_freq_nontw_ntd  \\\n0         1388.550403               1.350000            1.097561   \n1                 NaN                    NaN                 NaN   \n2                 NaN                    NaN                 NaN   \n3         1893.333333                    NaN                 NaN   \n4         7048.368421                    NaN                 NaN   \n...               ...                    ...                 ...   \n23901      988.503826               1.160714            2.513043   \n23902             NaN                    NaN                 NaN   \n23903             NaN                    NaN                 NaN   \n23904             NaN                    NaN                 NaN   \n23905             NaN                    NaN                 NaN   \n\n       avg_freq_tw_nonntd  avg_freq_tw_ntd        avg_tx  ...  total_asset_x  \\\n0                     NaN         2.147186  5.050000e+02  ...       375576.0   \n1                     NaN              NaN  6.973400e+04  ...      2717416.0   \n2                     NaN              NaN  7.764825e+04  ...       326517.0   \n3                     NaN         1.500000  4.312500e+03  ...      1014759.0   \n4                     NaN         1.055556  4.939067e+03  ...       241719.0   \n...                   ...              ...           ...  ...            ...   \n23901                 NaN         6.668367  1.078873e+06  ...      3218731.0   \n23902                 NaN              NaN  2.307641e+06  ...       928963.0   \n23903                 NaN              NaN  2.222531e+06  ...        69080.0   \n23904                 NaN              NaN  3.175717e+05  ...       262604.0   \n23905                 NaN              NaN  2.630657e+05  ...       332834.0   \n\n       total_asset_y  total_freq_nontw_nonntd  total_freq_nontw_ntd  \\\n0       4.886652e+05                     27.0                  45.0   \n1       2.621840e+06                      NaN                   NaN   \n2       3.265170e+05                      NaN                   NaN   \n3       1.275499e+05                      NaN                   NaN   \n4       2.212473e+05                      NaN                   NaN   \n...              ...                      ...                   ...   \n23901   2.361632e+06                     65.0                 578.0   \n23902   5.041325e+05                      NaN                   NaN   \n23903   7.500171e+04                      NaN                   NaN   \n23904   3.333440e+05                      NaN                   NaN   \n23905   2.724419e+05                      NaN                   NaN   \n\n       total_freq_tw_nonntd  total_freq_tw_ntd      total_tx  trade_sum  \\\n0                       NaN              496.0  1.515000e+03        NaN   \n1                       NaN                NaN  2.092020e+05        NaN   \n2                       NaN                NaN  3.105930e+05        NaN   \n3                       NaN                3.0  4.312500e+04        NaN   \n4                       NaN               19.0  2.963440e+05        NaN   \n...                     ...                ...           ...        ...   \n23901                   NaN             2614.0  1.532000e+08   364459.0   \n23902                   NaN                NaN  4.615283e+07    22127.0   \n23903                   NaN                NaN  1.555772e+08    43676.0   \n23904                   NaN                NaN  1.365559e+08        NaN   \n23905                   NaN                NaN  5.918977e+07        NaN   \n\n       tx_per_day  bad_value  \n0        0.000000         25  \n1        0.000000         43  \n2        0.000000         43  \n3        0.000000         37  \n4        0.000000         37  \n...           ...        ...  \n23901    0.390110         22  \n23902    0.054945         40  \n23903    0.192308         40  \n23904    1.181319         41  \n23905    0.618132         41  \n\n[23906 rows x 52 columns]",
      "text/html": "<div>\n<style scoped>\n    .dataframe tbody tr th:only-of-type {\n        vertical-align: middle;\n    }\n\n    .dataframe tbody tr th {\n        vertical-align: top;\n    }\n\n    .dataframe thead th {\n        text-align: right;\n    }\n</style>\n<table border=\"1\" class=\"dataframe\">\n  <thead>\n    <tr style=\"text-align: right;\">\n      <th></th>\n      <th>AGE</th>\n      <th>avg_amt_nontw_nonntd</th>\n      <th>avg_amt_nontw_ntd</th>\n      <th>avg_amt_tw_nonntd</th>\n      <th>avg_amt_tw_ntd</th>\n      <th>avg_freq_nontw_nonntd</th>\n      <th>avg_freq_nontw_ntd</th>\n      <th>avg_freq_tw_nonntd</th>\n      <th>avg_freq_tw_ntd</th>\n      <th>avg_tx</th>\n      <th>...</th>\n      <th>total_asset_x</th>\n      <th>total_asset_y</th>\n      <th>total_freq_nontw_nonntd</th>\n      <th>total_freq_nontw_ntd</th>\n      <th>total_freq_tw_nonntd</th>\n      <th>total_freq_tw_ntd</th>\n      <th>total_tx</th>\n      <th>trade_sum</th>\n      <th>tx_per_day</th>\n      <th>bad_value</th>\n    </tr>\n  </thead>\n  <tbody>\n    <tr>\n      <th>0</th>\n      <td>4</td>\n      <td>9044.740741</td>\n      <td>3033.355556</td>\n      <td>NaN</td>\n      <td>1388.550403</td>\n      <td>1.350000</td>\n      <td>1.097561</td>\n      <td>NaN</td>\n      <td>2.147186</td>\n      <td>5.050000e+02</td>\n      <td>...</td>\n      <td>375576.0</td>\n      <td>4.886652e+05</td>\n      <td>27.0</td>\n      <td>45.0</td>\n      <td>NaN</td>\n      <td>496.0</td>\n      <td>1.515000e+03</td>\n      <td>NaN</td>\n      <td>0.000000</td>\n      <td>25</td>\n    </tr>\n    <tr>\n      <th>1</th>\n      <td>2</td>\n      <td>NaN</td>\n      <td>NaN</td>\n      <td>NaN</td>\n      <td>NaN</td>\n      <td>NaN</td>\n      <td>NaN</td>\n      <td>NaN</td>\n      <td>NaN</td>\n      <td>6.973400e+04</td>\n      <td>...</td>\n      <td>2717416.0</td>\n      <td>2.621840e+06</td>\n      <td>NaN</td>\n      <td>NaN</td>\n      <td>NaN</td>\n      <td>NaN</td>\n      <td>2.092020e+05</td>\n      <td>NaN</td>\n      <td>0.000000</td>\n      <td>43</td>\n    </tr>\n    <tr>\n      <th>2</th>\n      <td>4</td>\n      <td>NaN</td>\n      <td>NaN</td>\n      <td>NaN</td>\n      <td>NaN</td>\n      <td>NaN</td>\n      <td>NaN</td>\n      <td>NaN</td>\n      <td>NaN</td>\n      <td>7.764825e+04</td>\n      <td>...</td>\n      <td>326517.0</td>\n      <td>3.265170e+05</td>\n      <td>NaN</td>\n      <td>NaN</td>\n      <td>NaN</td>\n      <td>NaN</td>\n      <td>3.105930e+05</td>\n      <td>NaN</td>\n      <td>0.000000</td>\n      <td>43</td>\n    </tr>\n    <tr>\n      <th>3</th>\n      <td>4</td>\n      <td>NaN</td>\n      <td>NaN</td>\n      <td>NaN</td>\n      <td>1893.333333</td>\n      <td>NaN</td>\n      <td>NaN</td>\n      <td>NaN</td>\n      <td>1.500000</td>\n      <td>4.312500e+03</td>\n      <td>...</td>\n      <td>1014759.0</td>\n      <td>1.275499e+05</td>\n      <td>NaN</td>\n      <td>NaN</td>\n      <td>NaN</td>\n      <td>3.0</td>\n      <td>4.312500e+04</td>\n      <td>NaN</td>\n      <td>0.000000</td>\n      <td>37</td>\n    </tr>\n    <tr>\n      <th>4</th>\n      <td>3</td>\n      <td>NaN</td>\n      <td>NaN</td>\n      <td>NaN</td>\n      <td>7048.368421</td>\n      <td>NaN</td>\n      <td>NaN</td>\n      <td>NaN</td>\n      <td>1.055556</td>\n      <td>4.939067e+03</td>\n      <td>...</td>\n      <td>241719.0</td>\n      <td>2.212473e+05</td>\n      <td>NaN</td>\n      <td>NaN</td>\n      <td>NaN</td>\n      <td>19.0</td>\n      <td>2.963440e+05</td>\n      <td>NaN</td>\n      <td>0.000000</td>\n      <td>37</td>\n    </tr>\n    <tr>\n      <th>...</th>\n      <td>...</td>\n      <td>...</td>\n      <td>...</td>\n      <td>...</td>\n      <td>...</td>\n      <td>...</td>\n      <td>...</td>\n      <td>...</td>\n      <td>...</td>\n      <td>...</td>\n      <td>...</td>\n      <td>...</td>\n      <td>...</td>\n      <td>...</td>\n      <td>...</td>\n      <td>...</td>\n      <td>...</td>\n      <td>...</td>\n      <td>...</td>\n      <td>...</td>\n      <td>...</td>\n    </tr>\n    <tr>\n      <th>23901</th>\n      <td>3</td>\n      <td>4332.523077</td>\n      <td>1223.939446</td>\n      <td>NaN</td>\n      <td>988.503826</td>\n      <td>1.160714</td>\n      <td>2.513043</td>\n      <td>NaN</td>\n      <td>6.668367</td>\n      <td>1.078873e+06</td>\n      <td>...</td>\n      <td>3218731.0</td>\n      <td>2.361632e+06</td>\n      <td>65.0</td>\n      <td>578.0</td>\n      <td>NaN</td>\n      <td>2614.0</td>\n      <td>1.532000e+08</td>\n      <td>364459.0</td>\n      <td>0.390110</td>\n      <td>22</td>\n    </tr>\n    <tr>\n      <th>23902</th>\n      <td>3</td>\n      <td>NaN</td>\n      <td>NaN</td>\n      <td>NaN</td>\n      <td>NaN</td>\n      <td>NaN</td>\n      <td>NaN</td>\n      <td>NaN</td>\n      <td>NaN</td>\n      <td>2.307641e+06</td>\n      <td>...</td>\n      <td>928963.0</td>\n      <td>5.041325e+05</td>\n      <td>NaN</td>\n      <td>NaN</td>\n      <td>NaN</td>\n      <td>NaN</td>\n      <td>4.615283e+07</td>\n      <td>22127.0</td>\n      <td>0.054945</td>\n      <td>40</td>\n    </tr>\n    <tr>\n      <th>23903</th>\n      <td>6</td>\n      <td>NaN</td>\n      <td>NaN</td>\n      <td>NaN</td>\n      <td>NaN</td>\n      <td>NaN</td>\n      <td>NaN</td>\n      <td>NaN</td>\n      <td>NaN</td>\n      <td>2.222531e+06</td>\n      <td>...</td>\n      <td>69080.0</td>\n      <td>7.500171e+04</td>\n      <td>NaN</td>\n      <td>NaN</td>\n      <td>NaN</td>\n      <td>NaN</td>\n      <td>1.555772e+08</td>\n      <td>43676.0</td>\n      <td>0.192308</td>\n      <td>40</td>\n    </tr>\n    <tr>\n      <th>23904</th>\n      <td>6</td>\n      <td>NaN</td>\n      <td>NaN</td>\n      <td>NaN</td>\n      <td>NaN</td>\n      <td>NaN</td>\n      <td>NaN</td>\n      <td>NaN</td>\n      <td>NaN</td>\n      <td>3.175717e+05</td>\n      <td>...</td>\n      <td>262604.0</td>\n      <td>3.333440e+05</td>\n      <td>NaN</td>\n      <td>NaN</td>\n      <td>NaN</td>\n      <td>NaN</td>\n      <td>1.365559e+08</td>\n      <td>NaN</td>\n      <td>1.181319</td>\n      <td>41</td>\n    </tr>\n    <tr>\n      <th>23905</th>\n      <td>2</td>\n      <td>NaN</td>\n      <td>NaN</td>\n      <td>NaN</td>\n      <td>NaN</td>\n      <td>NaN</td>\n      <td>NaN</td>\n      <td>NaN</td>\n      <td>NaN</td>\n      <td>2.630657e+05</td>\n      <td>...</td>\n      <td>332834.0</td>\n      <td>2.724419e+05</td>\n      <td>NaN</td>\n      <td>NaN</td>\n      <td>NaN</td>\n      <td>NaN</td>\n      <td>5.918977e+07</td>\n      <td>NaN</td>\n      <td>0.618132</td>\n      <td>41</td>\n    </tr>\n  </tbody>\n</table>\n<p>23906 rows × 52 columns</p>\n</div>"
     },
     "execution_count": 6,
     "metadata": {},
     "output_type": "execute_result"
    }
   ],
   "source": [
    "train = train.drop(['alert_key'], axis=1)\n",
    "train"
   ],
   "metadata": {
    "collapsed": false
   }
  },
  {
   "cell_type": "code",
   "execution_count": 7,
   "outputs": [
    {
     "data": {
      "text/plain": "       AGE  avg_amt_nontw_nonntd  avg_amt_nontw_ntd  avg_amt_tw_nonntd  \\\n0        4           9044.740741        3033.355556                NaN   \n1        2                   NaN                NaN                NaN   \n2        4                   NaN                NaN                NaN   \n3        4                   NaN                NaN                NaN   \n4        3                   NaN                NaN                NaN   \n...    ...                   ...                ...                ...   \n23901    3           4332.523077        1223.939446                NaN   \n23902    3                   NaN                NaN                NaN   \n23903    6                   NaN                NaN                NaN   \n23904    6                   NaN                NaN                NaN   \n23905    2                   NaN                NaN                NaN   \n\n       avg_amt_tw_ntd  avg_freq_nontw_nonntd  avg_freq_nontw_ntd  \\\n0         1388.550403               1.350000            1.097561   \n1                 NaN                    NaN                 NaN   \n2                 NaN                    NaN                 NaN   \n3         1893.333333                    NaN                 NaN   \n4         7048.368421                    NaN                 NaN   \n...               ...                    ...                 ...   \n23901      988.503826               1.160714            2.513043   \n23902             NaN                    NaN                 NaN   \n23903             NaN                    NaN                 NaN   \n23904             NaN                    NaN                 NaN   \n23905             NaN                    NaN                 NaN   \n\n       avg_freq_tw_nonntd  avg_freq_tw_ntd        avg_tx  ...  total_asset_x  \\\n0                     NaN         2.147186  5.050000e+02  ...       375576.0   \n1                     NaN              NaN  6.973400e+04  ...      2717416.0   \n2                     NaN              NaN  7.764825e+04  ...       326517.0   \n3                     NaN         1.500000  4.312500e+03  ...      1014759.0   \n4                     NaN         1.055556  4.939067e+03  ...       241719.0   \n...                   ...              ...           ...  ...            ...   \n23901                 NaN         6.668367  1.078873e+06  ...      3218731.0   \n23902                 NaN              NaN  2.307641e+06  ...       928963.0   \n23903                 NaN              NaN  2.222531e+06  ...        69080.0   \n23904                 NaN              NaN  3.175717e+05  ...       262604.0   \n23905                 NaN              NaN  2.630657e+05  ...       332834.0   \n\n       total_asset_y  total_freq_nontw_nonntd  total_freq_nontw_ntd  \\\n0       4.886652e+05                     27.0                  45.0   \n1       2.621840e+06                      NaN                   NaN   \n2       3.265170e+05                      NaN                   NaN   \n3       1.275499e+05                      NaN                   NaN   \n4       2.212473e+05                      NaN                   NaN   \n...              ...                      ...                   ...   \n23901   2.361632e+06                     65.0                 578.0   \n23902   5.041325e+05                      NaN                   NaN   \n23903   7.500171e+04                      NaN                   NaN   \n23904   3.333440e+05                      NaN                   NaN   \n23905   2.724419e+05                      NaN                   NaN   \n\n       total_freq_tw_nonntd  total_freq_tw_ntd      total_tx  trade_sum  \\\n0                       NaN              496.0  1.515000e+03        NaN   \n1                       NaN                NaN  2.092020e+05        NaN   \n2                       NaN                NaN  3.105930e+05        NaN   \n3                       NaN                3.0  4.312500e+04        NaN   \n4                       NaN               19.0  2.963440e+05        NaN   \n...                     ...                ...           ...        ...   \n23901                   NaN             2614.0  1.532000e+08   364459.0   \n23902                   NaN                NaN  4.615283e+07    22127.0   \n23903                   NaN                NaN  1.555772e+08    43676.0   \n23904                   NaN                NaN  1.365559e+08        NaN   \n23905                   NaN                NaN  5.918977e+07        NaN   \n\n       tx_per_day  bad_value  \n0        0.000000         24  \n1        0.000000         42  \n2        0.000000         42  \n3        0.000000         36  \n4        0.000000         36  \n...           ...        ...  \n23901    0.390110         22  \n23902    0.054945         40  \n23903    0.192308         40  \n23904    1.181319         41  \n23905    0.618132         41  \n\n[23906 rows x 52 columns]",
      "text/html": "<div>\n<style scoped>\n    .dataframe tbody tr th:only-of-type {\n        vertical-align: middle;\n    }\n\n    .dataframe tbody tr th {\n        vertical-align: top;\n    }\n\n    .dataframe thead th {\n        text-align: right;\n    }\n</style>\n<table border=\"1\" class=\"dataframe\">\n  <thead>\n    <tr style=\"text-align: right;\">\n      <th></th>\n      <th>AGE</th>\n      <th>avg_amt_nontw_nonntd</th>\n      <th>avg_amt_nontw_ntd</th>\n      <th>avg_amt_tw_nonntd</th>\n      <th>avg_amt_tw_ntd</th>\n      <th>avg_freq_nontw_nonntd</th>\n      <th>avg_freq_nontw_ntd</th>\n      <th>avg_freq_tw_nonntd</th>\n      <th>avg_freq_tw_ntd</th>\n      <th>avg_tx</th>\n      <th>...</th>\n      <th>total_asset_x</th>\n      <th>total_asset_y</th>\n      <th>total_freq_nontw_nonntd</th>\n      <th>total_freq_nontw_ntd</th>\n      <th>total_freq_tw_nonntd</th>\n      <th>total_freq_tw_ntd</th>\n      <th>total_tx</th>\n      <th>trade_sum</th>\n      <th>tx_per_day</th>\n      <th>bad_value</th>\n    </tr>\n  </thead>\n  <tbody>\n    <tr>\n      <th>0</th>\n      <td>4</td>\n      <td>9044.740741</td>\n      <td>3033.355556</td>\n      <td>NaN</td>\n      <td>1388.550403</td>\n      <td>1.350000</td>\n      <td>1.097561</td>\n      <td>NaN</td>\n      <td>2.147186</td>\n      <td>5.050000e+02</td>\n      <td>...</td>\n      <td>375576.0</td>\n      <td>4.886652e+05</td>\n      <td>27.0</td>\n      <td>45.0</td>\n      <td>NaN</td>\n      <td>496.0</td>\n      <td>1.515000e+03</td>\n      <td>NaN</td>\n      <td>0.000000</td>\n      <td>24</td>\n    </tr>\n    <tr>\n      <th>1</th>\n      <td>2</td>\n      <td>NaN</td>\n      <td>NaN</td>\n      <td>NaN</td>\n      <td>NaN</td>\n      <td>NaN</td>\n      <td>NaN</td>\n      <td>NaN</td>\n      <td>NaN</td>\n      <td>6.973400e+04</td>\n      <td>...</td>\n      <td>2717416.0</td>\n      <td>2.621840e+06</td>\n      <td>NaN</td>\n      <td>NaN</td>\n      <td>NaN</td>\n      <td>NaN</td>\n      <td>2.092020e+05</td>\n      <td>NaN</td>\n      <td>0.000000</td>\n      <td>42</td>\n    </tr>\n    <tr>\n      <th>2</th>\n      <td>4</td>\n      <td>NaN</td>\n      <td>NaN</td>\n      <td>NaN</td>\n      <td>NaN</td>\n      <td>NaN</td>\n      <td>NaN</td>\n      <td>NaN</td>\n      <td>NaN</td>\n      <td>7.764825e+04</td>\n      <td>...</td>\n      <td>326517.0</td>\n      <td>3.265170e+05</td>\n      <td>NaN</td>\n      <td>NaN</td>\n      <td>NaN</td>\n      <td>NaN</td>\n      <td>3.105930e+05</td>\n      <td>NaN</td>\n      <td>0.000000</td>\n      <td>42</td>\n    </tr>\n    <tr>\n      <th>3</th>\n      <td>4</td>\n      <td>NaN</td>\n      <td>NaN</td>\n      <td>NaN</td>\n      <td>1893.333333</td>\n      <td>NaN</td>\n      <td>NaN</td>\n      <td>NaN</td>\n      <td>1.500000</td>\n      <td>4.312500e+03</td>\n      <td>...</td>\n      <td>1014759.0</td>\n      <td>1.275499e+05</td>\n      <td>NaN</td>\n      <td>NaN</td>\n      <td>NaN</td>\n      <td>3.0</td>\n      <td>4.312500e+04</td>\n      <td>NaN</td>\n      <td>0.000000</td>\n      <td>36</td>\n    </tr>\n    <tr>\n      <th>4</th>\n      <td>3</td>\n      <td>NaN</td>\n      <td>NaN</td>\n      <td>NaN</td>\n      <td>7048.368421</td>\n      <td>NaN</td>\n      <td>NaN</td>\n      <td>NaN</td>\n      <td>1.055556</td>\n      <td>4.939067e+03</td>\n      <td>...</td>\n      <td>241719.0</td>\n      <td>2.212473e+05</td>\n      <td>NaN</td>\n      <td>NaN</td>\n      <td>NaN</td>\n      <td>19.0</td>\n      <td>2.963440e+05</td>\n      <td>NaN</td>\n      <td>0.000000</td>\n      <td>36</td>\n    </tr>\n    <tr>\n      <th>...</th>\n      <td>...</td>\n      <td>...</td>\n      <td>...</td>\n      <td>...</td>\n      <td>...</td>\n      <td>...</td>\n      <td>...</td>\n      <td>...</td>\n      <td>...</td>\n      <td>...</td>\n      <td>...</td>\n      <td>...</td>\n      <td>...</td>\n      <td>...</td>\n      <td>...</td>\n      <td>...</td>\n      <td>...</td>\n      <td>...</td>\n      <td>...</td>\n      <td>...</td>\n      <td>...</td>\n    </tr>\n    <tr>\n      <th>23901</th>\n      <td>3</td>\n      <td>4332.523077</td>\n      <td>1223.939446</td>\n      <td>NaN</td>\n      <td>988.503826</td>\n      <td>1.160714</td>\n      <td>2.513043</td>\n      <td>NaN</td>\n      <td>6.668367</td>\n      <td>1.078873e+06</td>\n      <td>...</td>\n      <td>3218731.0</td>\n      <td>2.361632e+06</td>\n      <td>65.0</td>\n      <td>578.0</td>\n      <td>NaN</td>\n      <td>2614.0</td>\n      <td>1.532000e+08</td>\n      <td>364459.0</td>\n      <td>0.390110</td>\n      <td>22</td>\n    </tr>\n    <tr>\n      <th>23902</th>\n      <td>3</td>\n      <td>NaN</td>\n      <td>NaN</td>\n      <td>NaN</td>\n      <td>NaN</td>\n      <td>NaN</td>\n      <td>NaN</td>\n      <td>NaN</td>\n      <td>NaN</td>\n      <td>2.307641e+06</td>\n      <td>...</td>\n      <td>928963.0</td>\n      <td>5.041325e+05</td>\n      <td>NaN</td>\n      <td>NaN</td>\n      <td>NaN</td>\n      <td>NaN</td>\n      <td>4.615283e+07</td>\n      <td>22127.0</td>\n      <td>0.054945</td>\n      <td>40</td>\n    </tr>\n    <tr>\n      <th>23903</th>\n      <td>6</td>\n      <td>NaN</td>\n      <td>NaN</td>\n      <td>NaN</td>\n      <td>NaN</td>\n      <td>NaN</td>\n      <td>NaN</td>\n      <td>NaN</td>\n      <td>NaN</td>\n      <td>2.222531e+06</td>\n      <td>...</td>\n      <td>69080.0</td>\n      <td>7.500171e+04</td>\n      <td>NaN</td>\n      <td>NaN</td>\n      <td>NaN</td>\n      <td>NaN</td>\n      <td>1.555772e+08</td>\n      <td>43676.0</td>\n      <td>0.192308</td>\n      <td>40</td>\n    </tr>\n    <tr>\n      <th>23904</th>\n      <td>6</td>\n      <td>NaN</td>\n      <td>NaN</td>\n      <td>NaN</td>\n      <td>NaN</td>\n      <td>NaN</td>\n      <td>NaN</td>\n      <td>NaN</td>\n      <td>NaN</td>\n      <td>3.175717e+05</td>\n      <td>...</td>\n      <td>262604.0</td>\n      <td>3.333440e+05</td>\n      <td>NaN</td>\n      <td>NaN</td>\n      <td>NaN</td>\n      <td>NaN</td>\n      <td>1.365559e+08</td>\n      <td>NaN</td>\n      <td>1.181319</td>\n      <td>41</td>\n    </tr>\n    <tr>\n      <th>23905</th>\n      <td>2</td>\n      <td>NaN</td>\n      <td>NaN</td>\n      <td>NaN</td>\n      <td>NaN</td>\n      <td>NaN</td>\n      <td>NaN</td>\n      <td>NaN</td>\n      <td>NaN</td>\n      <td>2.630657e+05</td>\n      <td>...</td>\n      <td>332834.0</td>\n      <td>2.724419e+05</td>\n      <td>NaN</td>\n      <td>NaN</td>\n      <td>NaN</td>\n      <td>NaN</td>\n      <td>5.918977e+07</td>\n      <td>NaN</td>\n      <td>0.618132</td>\n      <td>41</td>\n    </tr>\n  </tbody>\n</table>\n<p>23906 rows × 52 columns</p>\n</div>"
     },
     "execution_count": 7,
     "metadata": {},
     "output_type": "execute_result"
    }
   ],
   "source": [
    "train['bad_value'] = train.isnull().sum(axis=1) + (train == 0).astype(int).sum(axis=1)\n",
    "train"
   ],
   "metadata": {
    "collapsed": false
   }
  },
  {
   "cell_type": "code",
   "execution_count": 8,
   "outputs": [
    {
     "data": {
      "text/plain": "       AGE  avg_amt_nontw_nonntd  avg_amt_nontw_ntd  avg_amt_tw_nonntd  \\\n0        4           9044.740741        3033.355556                NaN   \n1        2                   NaN                NaN                NaN   \n2        4                   NaN                NaN                NaN   \n3        4                   NaN                NaN                NaN   \n4        3                   NaN                NaN                NaN   \n...    ...                   ...                ...                ...   \n23901    3           4332.523077        1223.939446                NaN   \n23902    3                   NaN                NaN                NaN   \n23903    6                   NaN                NaN                NaN   \n23904    6                   NaN                NaN                NaN   \n23905    2                   NaN                NaN                NaN   \n\n       avg_amt_tw_ntd  avg_freq_nontw_nonntd  avg_freq_nontw_ntd  \\\n0         1388.550403               1.350000            1.097561   \n1                 NaN                    NaN                 NaN   \n2                 NaN                    NaN                 NaN   \n3         1893.333333                    NaN                 NaN   \n4         7048.368421                    NaN                 NaN   \n...               ...                    ...                 ...   \n23901      988.503826               1.160714            2.513043   \n23902             NaN                    NaN                 NaN   \n23903             NaN                    NaN                 NaN   \n23904             NaN                    NaN                 NaN   \n23905             NaN                    NaN                 NaN   \n\n       avg_freq_tw_nonntd  avg_freq_tw_ntd        avg_tx  ...  total_asset_x  \\\n0                     NaN         2.147186  5.050000e+02  ...       375576.0   \n1                     NaN              NaN  6.973400e+04  ...      2717416.0   \n2                     NaN              NaN  7.764825e+04  ...       326517.0   \n3                     NaN         1.500000  4.312500e+03  ...      1014759.0   \n4                     NaN         1.055556  4.939067e+03  ...       241719.0   \n...                   ...              ...           ...  ...            ...   \n23901                 NaN         6.668367  1.078873e+06  ...      3218731.0   \n23902                 NaN              NaN  2.307641e+06  ...       928963.0   \n23903                 NaN              NaN  2.222531e+06  ...        69080.0   \n23904                 NaN              NaN  3.175717e+05  ...       262604.0   \n23905                 NaN              NaN  2.630657e+05  ...       332834.0   \n\n       total_asset_y  total_freq_nontw_nonntd  total_freq_nontw_ntd  \\\n0       4.886652e+05                     27.0                  45.0   \n1       2.621840e+06                      NaN                   NaN   \n2       3.265170e+05                      NaN                   NaN   \n3       1.275499e+05                      NaN                   NaN   \n4       2.212473e+05                      NaN                   NaN   \n...              ...                      ...                   ...   \n23901   2.361632e+06                     65.0                 578.0   \n23902   5.041325e+05                      NaN                   NaN   \n23903   7.500171e+04                      NaN                   NaN   \n23904   3.333440e+05                      NaN                   NaN   \n23905   2.724419e+05                      NaN                   NaN   \n\n       total_freq_tw_nonntd  total_freq_tw_ntd      total_tx  trade_sum  \\\n0                       NaN              496.0  1.515000e+03        NaN   \n1                       NaN                NaN  2.092020e+05        NaN   \n2                       NaN                NaN  3.105930e+05        NaN   \n3                       NaN                3.0  4.312500e+04        NaN   \n4                       NaN               19.0  2.963440e+05        NaN   \n...                     ...                ...           ...        ...   \n23901                   NaN             2614.0  1.532000e+08   364459.0   \n23902                   NaN                NaN  4.615283e+07    22127.0   \n23903                   NaN                NaN  1.555772e+08    43676.0   \n23904                   NaN                NaN  1.365559e+08        NaN   \n23905                   NaN                NaN  5.918977e+07        NaN   \n\n       tx_per_day  bad_value  \n0        0.000000         24  \n1        0.000000         42  \n2        0.000000         42  \n3        0.000000         36  \n4        0.000000         36  \n...           ...        ...  \n23901    0.390110         22  \n23902    0.054945         40  \n23903    0.192308         40  \n23904    1.181319         41  \n23905    0.618132         41  \n\n[23906 rows x 52 columns]",
      "text/html": "<div>\n<style scoped>\n    .dataframe tbody tr th:only-of-type {\n        vertical-align: middle;\n    }\n\n    .dataframe tbody tr th {\n        vertical-align: top;\n    }\n\n    .dataframe thead th {\n        text-align: right;\n    }\n</style>\n<table border=\"1\" class=\"dataframe\">\n  <thead>\n    <tr style=\"text-align: right;\">\n      <th></th>\n      <th>AGE</th>\n      <th>avg_amt_nontw_nonntd</th>\n      <th>avg_amt_nontw_ntd</th>\n      <th>avg_amt_tw_nonntd</th>\n      <th>avg_amt_tw_ntd</th>\n      <th>avg_freq_nontw_nonntd</th>\n      <th>avg_freq_nontw_ntd</th>\n      <th>avg_freq_tw_nonntd</th>\n      <th>avg_freq_tw_ntd</th>\n      <th>avg_tx</th>\n      <th>...</th>\n      <th>total_asset_x</th>\n      <th>total_asset_y</th>\n      <th>total_freq_nontw_nonntd</th>\n      <th>total_freq_nontw_ntd</th>\n      <th>total_freq_tw_nonntd</th>\n      <th>total_freq_tw_ntd</th>\n      <th>total_tx</th>\n      <th>trade_sum</th>\n      <th>tx_per_day</th>\n      <th>bad_value</th>\n    </tr>\n  </thead>\n  <tbody>\n    <tr>\n      <th>0</th>\n      <td>4</td>\n      <td>9044.740741</td>\n      <td>3033.355556</td>\n      <td>NaN</td>\n      <td>1388.550403</td>\n      <td>1.350000</td>\n      <td>1.097561</td>\n      <td>NaN</td>\n      <td>2.147186</td>\n      <td>5.050000e+02</td>\n      <td>...</td>\n      <td>375576.0</td>\n      <td>4.886652e+05</td>\n      <td>27.0</td>\n      <td>45.0</td>\n      <td>NaN</td>\n      <td>496.0</td>\n      <td>1.515000e+03</td>\n      <td>NaN</td>\n      <td>0.000000</td>\n      <td>24</td>\n    </tr>\n    <tr>\n      <th>1</th>\n      <td>2</td>\n      <td>NaN</td>\n      <td>NaN</td>\n      <td>NaN</td>\n      <td>NaN</td>\n      <td>NaN</td>\n      <td>NaN</td>\n      <td>NaN</td>\n      <td>NaN</td>\n      <td>6.973400e+04</td>\n      <td>...</td>\n      <td>2717416.0</td>\n      <td>2.621840e+06</td>\n      <td>NaN</td>\n      <td>NaN</td>\n      <td>NaN</td>\n      <td>NaN</td>\n      <td>2.092020e+05</td>\n      <td>NaN</td>\n      <td>0.000000</td>\n      <td>42</td>\n    </tr>\n    <tr>\n      <th>2</th>\n      <td>4</td>\n      <td>NaN</td>\n      <td>NaN</td>\n      <td>NaN</td>\n      <td>NaN</td>\n      <td>NaN</td>\n      <td>NaN</td>\n      <td>NaN</td>\n      <td>NaN</td>\n      <td>7.764825e+04</td>\n      <td>...</td>\n      <td>326517.0</td>\n      <td>3.265170e+05</td>\n      <td>NaN</td>\n      <td>NaN</td>\n      <td>NaN</td>\n      <td>NaN</td>\n      <td>3.105930e+05</td>\n      <td>NaN</td>\n      <td>0.000000</td>\n      <td>42</td>\n    </tr>\n    <tr>\n      <th>3</th>\n      <td>4</td>\n      <td>NaN</td>\n      <td>NaN</td>\n      <td>NaN</td>\n      <td>1893.333333</td>\n      <td>NaN</td>\n      <td>NaN</td>\n      <td>NaN</td>\n      <td>1.500000</td>\n      <td>4.312500e+03</td>\n      <td>...</td>\n      <td>1014759.0</td>\n      <td>1.275499e+05</td>\n      <td>NaN</td>\n      <td>NaN</td>\n      <td>NaN</td>\n      <td>3.0</td>\n      <td>4.312500e+04</td>\n      <td>NaN</td>\n      <td>0.000000</td>\n      <td>36</td>\n    </tr>\n    <tr>\n      <th>4</th>\n      <td>3</td>\n      <td>NaN</td>\n      <td>NaN</td>\n      <td>NaN</td>\n      <td>7048.368421</td>\n      <td>NaN</td>\n      <td>NaN</td>\n      <td>NaN</td>\n      <td>1.055556</td>\n      <td>4.939067e+03</td>\n      <td>...</td>\n      <td>241719.0</td>\n      <td>2.212473e+05</td>\n      <td>NaN</td>\n      <td>NaN</td>\n      <td>NaN</td>\n      <td>19.0</td>\n      <td>2.963440e+05</td>\n      <td>NaN</td>\n      <td>0.000000</td>\n      <td>36</td>\n    </tr>\n    <tr>\n      <th>...</th>\n      <td>...</td>\n      <td>...</td>\n      <td>...</td>\n      <td>...</td>\n      <td>...</td>\n      <td>...</td>\n      <td>...</td>\n      <td>...</td>\n      <td>...</td>\n      <td>...</td>\n      <td>...</td>\n      <td>...</td>\n      <td>...</td>\n      <td>...</td>\n      <td>...</td>\n      <td>...</td>\n      <td>...</td>\n      <td>...</td>\n      <td>...</td>\n      <td>...</td>\n      <td>...</td>\n    </tr>\n    <tr>\n      <th>23901</th>\n      <td>3</td>\n      <td>4332.523077</td>\n      <td>1223.939446</td>\n      <td>NaN</td>\n      <td>988.503826</td>\n      <td>1.160714</td>\n      <td>2.513043</td>\n      <td>NaN</td>\n      <td>6.668367</td>\n      <td>1.078873e+06</td>\n      <td>...</td>\n      <td>3218731.0</td>\n      <td>2.361632e+06</td>\n      <td>65.0</td>\n      <td>578.0</td>\n      <td>NaN</td>\n      <td>2614.0</td>\n      <td>1.532000e+08</td>\n      <td>364459.0</td>\n      <td>0.390110</td>\n      <td>22</td>\n    </tr>\n    <tr>\n      <th>23902</th>\n      <td>3</td>\n      <td>NaN</td>\n      <td>NaN</td>\n      <td>NaN</td>\n      <td>NaN</td>\n      <td>NaN</td>\n      <td>NaN</td>\n      <td>NaN</td>\n      <td>NaN</td>\n      <td>2.307641e+06</td>\n      <td>...</td>\n      <td>928963.0</td>\n      <td>5.041325e+05</td>\n      <td>NaN</td>\n      <td>NaN</td>\n      <td>NaN</td>\n      <td>NaN</td>\n      <td>4.615283e+07</td>\n      <td>22127.0</td>\n      <td>0.054945</td>\n      <td>40</td>\n    </tr>\n    <tr>\n      <th>23903</th>\n      <td>6</td>\n      <td>NaN</td>\n      <td>NaN</td>\n      <td>NaN</td>\n      <td>NaN</td>\n      <td>NaN</td>\n      <td>NaN</td>\n      <td>NaN</td>\n      <td>NaN</td>\n      <td>2.222531e+06</td>\n      <td>...</td>\n      <td>69080.0</td>\n      <td>7.500171e+04</td>\n      <td>NaN</td>\n      <td>NaN</td>\n      <td>NaN</td>\n      <td>NaN</td>\n      <td>1.555772e+08</td>\n      <td>43676.0</td>\n      <td>0.192308</td>\n      <td>40</td>\n    </tr>\n    <tr>\n      <th>23904</th>\n      <td>6</td>\n      <td>NaN</td>\n      <td>NaN</td>\n      <td>NaN</td>\n      <td>NaN</td>\n      <td>NaN</td>\n      <td>NaN</td>\n      <td>NaN</td>\n      <td>NaN</td>\n      <td>3.175717e+05</td>\n      <td>...</td>\n      <td>262604.0</td>\n      <td>3.333440e+05</td>\n      <td>NaN</td>\n      <td>NaN</td>\n      <td>NaN</td>\n      <td>NaN</td>\n      <td>1.365559e+08</td>\n      <td>NaN</td>\n      <td>1.181319</td>\n      <td>41</td>\n    </tr>\n    <tr>\n      <th>23905</th>\n      <td>2</td>\n      <td>NaN</td>\n      <td>NaN</td>\n      <td>NaN</td>\n      <td>NaN</td>\n      <td>NaN</td>\n      <td>NaN</td>\n      <td>NaN</td>\n      <td>NaN</td>\n      <td>2.630657e+05</td>\n      <td>...</td>\n      <td>332834.0</td>\n      <td>2.724419e+05</td>\n      <td>NaN</td>\n      <td>NaN</td>\n      <td>NaN</td>\n      <td>NaN</td>\n      <td>5.918977e+07</td>\n      <td>NaN</td>\n      <td>0.618132</td>\n      <td>41</td>\n    </tr>\n  </tbody>\n</table>\n<p>23906 rows × 52 columns</p>\n</div>"
     },
     "execution_count": 8,
     "metadata": {},
     "output_type": "execute_result"
    }
   ],
   "source": [
    "ori_train = train.copy()\n",
    "# train = train.loc[train['bad_value']<41]\n",
    "train"
   ],
   "metadata": {
    "collapsed": false
   }
  },
  {
   "cell_type": "code",
   "execution_count": 9,
   "outputs": [
    {
     "data": {
      "text/plain": "       AGE  avg_amt_nontw_nonntd  avg_amt_nontw_ntd  avg_amt_tw_nonntd  \\\n0        4           9044.740741        3033.355556                0.0   \n1        2              0.000000           0.000000                0.0   \n2        4              0.000000           0.000000                0.0   \n3        4              0.000000           0.000000                0.0   \n4        3              0.000000           0.000000                0.0   \n...    ...                   ...                ...                ...   \n23901    3           4332.523077        1223.939446                0.0   \n23902    3              0.000000           0.000000                0.0   \n23903    6              0.000000           0.000000                0.0   \n23904    6              0.000000           0.000000                0.0   \n23905    2              0.000000           0.000000                0.0   \n\n       avg_amt_tw_ntd  avg_freq_nontw_nonntd  avg_freq_nontw_ntd  \\\n0         1388.550403               1.350000            1.097561   \n1            0.000000               0.000000            0.000000   \n2            0.000000               0.000000            0.000000   \n3         1893.333333               0.000000            0.000000   \n4         7048.368421               0.000000            0.000000   \n...               ...                    ...                 ...   \n23901      988.503826               1.160714            2.513043   \n23902        0.000000               0.000000            0.000000   \n23903        0.000000               0.000000            0.000000   \n23904        0.000000               0.000000            0.000000   \n23905        0.000000               0.000000            0.000000   \n\n       avg_freq_tw_nonntd  avg_freq_tw_ntd        avg_tx  ...  total_asset_x  \\\n0                     0.0         2.147186  5.050000e+02  ...       375576.0   \n1                     0.0         0.000000  6.973400e+04  ...      2717416.0   \n2                     0.0         0.000000  7.764825e+04  ...       326517.0   \n3                     0.0         1.500000  4.312500e+03  ...      1014759.0   \n4                     0.0         1.055556  4.939067e+03  ...       241719.0   \n...                   ...              ...           ...  ...            ...   \n23901                 0.0         6.668367  1.078873e+06  ...      3218731.0   \n23902                 0.0         0.000000  2.307641e+06  ...       928963.0   \n23903                 0.0         0.000000  2.222531e+06  ...        69080.0   \n23904                 0.0         0.000000  3.175717e+05  ...       262604.0   \n23905                 0.0         0.000000  2.630657e+05  ...       332834.0   \n\n       total_asset_y  total_freq_nontw_nonntd  total_freq_nontw_ntd  \\\n0       4.886652e+05                     27.0                  45.0   \n1       2.621840e+06                      0.0                   0.0   \n2       3.265170e+05                      0.0                   0.0   \n3       1.275499e+05                      0.0                   0.0   \n4       2.212473e+05                      0.0                   0.0   \n...              ...                      ...                   ...   \n23901   2.361632e+06                     65.0                 578.0   \n23902   5.041325e+05                      0.0                   0.0   \n23903   7.500171e+04                      0.0                   0.0   \n23904   3.333440e+05                      0.0                   0.0   \n23905   2.724419e+05                      0.0                   0.0   \n\n       total_freq_tw_nonntd  total_freq_tw_ntd      total_tx  trade_sum  \\\n0                       0.0              496.0  1.515000e+03        0.0   \n1                       0.0                0.0  2.092020e+05        0.0   \n2                       0.0                0.0  3.105930e+05        0.0   \n3                       0.0                3.0  4.312500e+04        0.0   \n4                       0.0               19.0  2.963440e+05        0.0   \n...                     ...                ...           ...        ...   \n23901                   0.0             2614.0  1.532000e+08   364459.0   \n23902                   0.0                0.0  4.615283e+07    22127.0   \n23903                   0.0                0.0  1.555772e+08    43676.0   \n23904                   0.0                0.0  1.365559e+08        0.0   \n23905                   0.0                0.0  5.918977e+07        0.0   \n\n       tx_per_day  bad_value  \n0        0.000000         24  \n1        0.000000         42  \n2        0.000000         42  \n3        0.000000         36  \n4        0.000000         36  \n...           ...        ...  \n23901    0.390110         22  \n23902    0.054945         40  \n23903    0.192308         40  \n23904    1.181319         41  \n23905    0.618132         41  \n\n[23906 rows x 52 columns]",
      "text/html": "<div>\n<style scoped>\n    .dataframe tbody tr th:only-of-type {\n        vertical-align: middle;\n    }\n\n    .dataframe tbody tr th {\n        vertical-align: top;\n    }\n\n    .dataframe thead th {\n        text-align: right;\n    }\n</style>\n<table border=\"1\" class=\"dataframe\">\n  <thead>\n    <tr style=\"text-align: right;\">\n      <th></th>\n      <th>AGE</th>\n      <th>avg_amt_nontw_nonntd</th>\n      <th>avg_amt_nontw_ntd</th>\n      <th>avg_amt_tw_nonntd</th>\n      <th>avg_amt_tw_ntd</th>\n      <th>avg_freq_nontw_nonntd</th>\n      <th>avg_freq_nontw_ntd</th>\n      <th>avg_freq_tw_nonntd</th>\n      <th>avg_freq_tw_ntd</th>\n      <th>avg_tx</th>\n      <th>...</th>\n      <th>total_asset_x</th>\n      <th>total_asset_y</th>\n      <th>total_freq_nontw_nonntd</th>\n      <th>total_freq_nontw_ntd</th>\n      <th>total_freq_tw_nonntd</th>\n      <th>total_freq_tw_ntd</th>\n      <th>total_tx</th>\n      <th>trade_sum</th>\n      <th>tx_per_day</th>\n      <th>bad_value</th>\n    </tr>\n  </thead>\n  <tbody>\n    <tr>\n      <th>0</th>\n      <td>4</td>\n      <td>9044.740741</td>\n      <td>3033.355556</td>\n      <td>0.0</td>\n      <td>1388.550403</td>\n      <td>1.350000</td>\n      <td>1.097561</td>\n      <td>0.0</td>\n      <td>2.147186</td>\n      <td>5.050000e+02</td>\n      <td>...</td>\n      <td>375576.0</td>\n      <td>4.886652e+05</td>\n      <td>27.0</td>\n      <td>45.0</td>\n      <td>0.0</td>\n      <td>496.0</td>\n      <td>1.515000e+03</td>\n      <td>0.0</td>\n      <td>0.000000</td>\n      <td>24</td>\n    </tr>\n    <tr>\n      <th>1</th>\n      <td>2</td>\n      <td>0.000000</td>\n      <td>0.000000</td>\n      <td>0.0</td>\n      <td>0.000000</td>\n      <td>0.000000</td>\n      <td>0.000000</td>\n      <td>0.0</td>\n      <td>0.000000</td>\n      <td>6.973400e+04</td>\n      <td>...</td>\n      <td>2717416.0</td>\n      <td>2.621840e+06</td>\n      <td>0.0</td>\n      <td>0.0</td>\n      <td>0.0</td>\n      <td>0.0</td>\n      <td>2.092020e+05</td>\n      <td>0.0</td>\n      <td>0.000000</td>\n      <td>42</td>\n    </tr>\n    <tr>\n      <th>2</th>\n      <td>4</td>\n      <td>0.000000</td>\n      <td>0.000000</td>\n      <td>0.0</td>\n      <td>0.000000</td>\n      <td>0.000000</td>\n      <td>0.000000</td>\n      <td>0.0</td>\n      <td>0.000000</td>\n      <td>7.764825e+04</td>\n      <td>...</td>\n      <td>326517.0</td>\n      <td>3.265170e+05</td>\n      <td>0.0</td>\n      <td>0.0</td>\n      <td>0.0</td>\n      <td>0.0</td>\n      <td>3.105930e+05</td>\n      <td>0.0</td>\n      <td>0.000000</td>\n      <td>42</td>\n    </tr>\n    <tr>\n      <th>3</th>\n      <td>4</td>\n      <td>0.000000</td>\n      <td>0.000000</td>\n      <td>0.0</td>\n      <td>1893.333333</td>\n      <td>0.000000</td>\n      <td>0.000000</td>\n      <td>0.0</td>\n      <td>1.500000</td>\n      <td>4.312500e+03</td>\n      <td>...</td>\n      <td>1014759.0</td>\n      <td>1.275499e+05</td>\n      <td>0.0</td>\n      <td>0.0</td>\n      <td>0.0</td>\n      <td>3.0</td>\n      <td>4.312500e+04</td>\n      <td>0.0</td>\n      <td>0.000000</td>\n      <td>36</td>\n    </tr>\n    <tr>\n      <th>4</th>\n      <td>3</td>\n      <td>0.000000</td>\n      <td>0.000000</td>\n      <td>0.0</td>\n      <td>7048.368421</td>\n      <td>0.000000</td>\n      <td>0.000000</td>\n      <td>0.0</td>\n      <td>1.055556</td>\n      <td>4.939067e+03</td>\n      <td>...</td>\n      <td>241719.0</td>\n      <td>2.212473e+05</td>\n      <td>0.0</td>\n      <td>0.0</td>\n      <td>0.0</td>\n      <td>19.0</td>\n      <td>2.963440e+05</td>\n      <td>0.0</td>\n      <td>0.000000</td>\n      <td>36</td>\n    </tr>\n    <tr>\n      <th>...</th>\n      <td>...</td>\n      <td>...</td>\n      <td>...</td>\n      <td>...</td>\n      <td>...</td>\n      <td>...</td>\n      <td>...</td>\n      <td>...</td>\n      <td>...</td>\n      <td>...</td>\n      <td>...</td>\n      <td>...</td>\n      <td>...</td>\n      <td>...</td>\n      <td>...</td>\n      <td>...</td>\n      <td>...</td>\n      <td>...</td>\n      <td>...</td>\n      <td>...</td>\n      <td>...</td>\n    </tr>\n    <tr>\n      <th>23901</th>\n      <td>3</td>\n      <td>4332.523077</td>\n      <td>1223.939446</td>\n      <td>0.0</td>\n      <td>988.503826</td>\n      <td>1.160714</td>\n      <td>2.513043</td>\n      <td>0.0</td>\n      <td>6.668367</td>\n      <td>1.078873e+06</td>\n      <td>...</td>\n      <td>3218731.0</td>\n      <td>2.361632e+06</td>\n      <td>65.0</td>\n      <td>578.0</td>\n      <td>0.0</td>\n      <td>2614.0</td>\n      <td>1.532000e+08</td>\n      <td>364459.0</td>\n      <td>0.390110</td>\n      <td>22</td>\n    </tr>\n    <tr>\n      <th>23902</th>\n      <td>3</td>\n      <td>0.000000</td>\n      <td>0.000000</td>\n      <td>0.0</td>\n      <td>0.000000</td>\n      <td>0.000000</td>\n      <td>0.000000</td>\n      <td>0.0</td>\n      <td>0.000000</td>\n      <td>2.307641e+06</td>\n      <td>...</td>\n      <td>928963.0</td>\n      <td>5.041325e+05</td>\n      <td>0.0</td>\n      <td>0.0</td>\n      <td>0.0</td>\n      <td>0.0</td>\n      <td>4.615283e+07</td>\n      <td>22127.0</td>\n      <td>0.054945</td>\n      <td>40</td>\n    </tr>\n    <tr>\n      <th>23903</th>\n      <td>6</td>\n      <td>0.000000</td>\n      <td>0.000000</td>\n      <td>0.0</td>\n      <td>0.000000</td>\n      <td>0.000000</td>\n      <td>0.000000</td>\n      <td>0.0</td>\n      <td>0.000000</td>\n      <td>2.222531e+06</td>\n      <td>...</td>\n      <td>69080.0</td>\n      <td>7.500171e+04</td>\n      <td>0.0</td>\n      <td>0.0</td>\n      <td>0.0</td>\n      <td>0.0</td>\n      <td>1.555772e+08</td>\n      <td>43676.0</td>\n      <td>0.192308</td>\n      <td>40</td>\n    </tr>\n    <tr>\n      <th>23904</th>\n      <td>6</td>\n      <td>0.000000</td>\n      <td>0.000000</td>\n      <td>0.0</td>\n      <td>0.000000</td>\n      <td>0.000000</td>\n      <td>0.000000</td>\n      <td>0.0</td>\n      <td>0.000000</td>\n      <td>3.175717e+05</td>\n      <td>...</td>\n      <td>262604.0</td>\n      <td>3.333440e+05</td>\n      <td>0.0</td>\n      <td>0.0</td>\n      <td>0.0</td>\n      <td>0.0</td>\n      <td>1.365559e+08</td>\n      <td>0.0</td>\n      <td>1.181319</td>\n      <td>41</td>\n    </tr>\n    <tr>\n      <th>23905</th>\n      <td>2</td>\n      <td>0.000000</td>\n      <td>0.000000</td>\n      <td>0.0</td>\n      <td>0.000000</td>\n      <td>0.000000</td>\n      <td>0.000000</td>\n      <td>0.0</td>\n      <td>0.000000</td>\n      <td>2.630657e+05</td>\n      <td>...</td>\n      <td>332834.0</td>\n      <td>2.724419e+05</td>\n      <td>0.0</td>\n      <td>0.0</td>\n      <td>0.0</td>\n      <td>0.0</td>\n      <td>5.918977e+07</td>\n      <td>0.0</td>\n      <td>0.618132</td>\n      <td>41</td>\n    </tr>\n  </tbody>\n</table>\n<p>23906 rows × 52 columns</p>\n</div>"
     },
     "execution_count": 9,
     "metadata": {},
     "output_type": "execute_result"
    }
   ],
   "source": [
    "ori_train.iloc[:, 1:] = ori_train.iloc[:, 1:].fillna(0)\n",
    "train.iloc[:, 1:] = train.iloc[:, 1:].fillna(0)\n",
    "train"
   ],
   "metadata": {
    "collapsed": false
   }
  },
  {
   "cell_type": "code",
   "execution_count": 10,
   "outputs": [
    {
     "data": {
      "text/plain": "       AGE  avg_amt_nontw_nonntd  avg_amt_nontw_ntd  avg_amt_tw_nonntd  \\\n0        4           9044.740741        3033.355556                0.0   \n1        2              0.000000           0.000000                0.0   \n2        4              0.000000           0.000000                0.0   \n3        4              0.000000           0.000000                0.0   \n4        3              0.000000           0.000000                0.0   \n...    ...                   ...                ...                ...   \n23901    3           4332.523077        1223.939446                0.0   \n23902    3              0.000000           0.000000                0.0   \n23903    6              0.000000           0.000000                0.0   \n23904    6              0.000000           0.000000                0.0   \n23905    2              0.000000           0.000000                0.0   \n\n       avg_amt_tw_ntd  avg_freq_nontw_nonntd  avg_freq_nontw_ntd  \\\n0         1388.550403               1.350000            1.097561   \n1            0.000000               0.000000            0.000000   \n2            0.000000               0.000000            0.000000   \n3         1893.333333               0.000000            0.000000   \n4         7048.368421               0.000000            0.000000   \n...               ...                    ...                 ...   \n23901      988.503826               1.160714            2.513043   \n23902        0.000000               0.000000            0.000000   \n23903        0.000000               0.000000            0.000000   \n23904        0.000000               0.000000            0.000000   \n23905        0.000000               0.000000            0.000000   \n\n       avg_freq_tw_nonntd  avg_freq_tw_ntd        avg_tx  ...  \\\n0                     0.0         2.147186  5.050000e+02  ...   \n1                     0.0         0.000000  6.973400e+04  ...   \n2                     0.0         0.000000  7.764825e+04  ...   \n3                     0.0         1.500000  4.312500e+03  ...   \n4                     0.0         1.055556  4.939067e+03  ...   \n...                   ...              ...           ...  ...   \n23901                 0.0         6.668367  1.078873e+06  ...   \n23902                 0.0         0.000000  2.307641e+06  ...   \n23903                 0.0         0.000000  2.222531e+06  ...   \n23904                 0.0         0.000000  3.175717e+05  ...   \n23905                 0.0         0.000000  2.630657e+05  ...   \n\n       total_amt_tw_ntd  total_asset_x  total_asset_y  \\\n0              688721.0       375576.0   4.886652e+05   \n1                   0.0      2717416.0   2.621840e+06   \n2                   0.0       326517.0   3.265170e+05   \n3                5680.0      1014759.0   1.275499e+05   \n4              133919.0       241719.0   2.212473e+05   \n...                 ...            ...            ...   \n23901         2583949.0      3218731.0   2.361632e+06   \n23902               0.0       928963.0   5.041325e+05   \n23903               0.0        69080.0   7.500171e+04   \n23904               0.0       262604.0   3.333440e+05   \n23905               0.0       332834.0   2.724419e+05   \n\n       total_freq_nontw_nonntd  total_freq_nontw_ntd  total_freq_tw_nonntd  \\\n0                         27.0                  45.0                   0.0   \n1                          0.0                   0.0                   0.0   \n2                          0.0                   0.0                   0.0   \n3                          0.0                   0.0                   0.0   \n4                          0.0                   0.0                   0.0   \n...                        ...                   ...                   ...   \n23901                     65.0                 578.0                   0.0   \n23902                      0.0                   0.0                   0.0   \n23903                      0.0                   0.0                   0.0   \n23904                      0.0                   0.0                   0.0   \n23905                      0.0                   0.0                   0.0   \n\n       total_freq_tw_ntd      total_tx  trade_sum  tx_per_day  \n0                  496.0  1.515000e+03        0.0    0.000000  \n1                    0.0  2.092020e+05        0.0    0.000000  \n2                    0.0  3.105930e+05        0.0    0.000000  \n3                    3.0  4.312500e+04        0.0    0.000000  \n4                   19.0  2.963440e+05        0.0    0.000000  \n...                  ...           ...        ...         ...  \n23901             2614.0  1.532000e+08   364459.0    0.390110  \n23902                0.0  4.615283e+07    22127.0    0.054945  \n23903                0.0  1.555772e+08    43676.0    0.192308  \n23904                0.0  1.365559e+08        0.0    1.181319  \n23905                0.0  5.918977e+07        0.0    0.618132  \n\n[23906 rows x 51 columns]",
      "text/html": "<div>\n<style scoped>\n    .dataframe tbody tr th:only-of-type {\n        vertical-align: middle;\n    }\n\n    .dataframe tbody tr th {\n        vertical-align: top;\n    }\n\n    .dataframe thead th {\n        text-align: right;\n    }\n</style>\n<table border=\"1\" class=\"dataframe\">\n  <thead>\n    <tr style=\"text-align: right;\">\n      <th></th>\n      <th>AGE</th>\n      <th>avg_amt_nontw_nonntd</th>\n      <th>avg_amt_nontw_ntd</th>\n      <th>avg_amt_tw_nonntd</th>\n      <th>avg_amt_tw_ntd</th>\n      <th>avg_freq_nontw_nonntd</th>\n      <th>avg_freq_nontw_ntd</th>\n      <th>avg_freq_tw_nonntd</th>\n      <th>avg_freq_tw_ntd</th>\n      <th>avg_tx</th>\n      <th>...</th>\n      <th>total_amt_tw_ntd</th>\n      <th>total_asset_x</th>\n      <th>total_asset_y</th>\n      <th>total_freq_nontw_nonntd</th>\n      <th>total_freq_nontw_ntd</th>\n      <th>total_freq_tw_nonntd</th>\n      <th>total_freq_tw_ntd</th>\n      <th>total_tx</th>\n      <th>trade_sum</th>\n      <th>tx_per_day</th>\n    </tr>\n  </thead>\n  <tbody>\n    <tr>\n      <th>0</th>\n      <td>4</td>\n      <td>9044.740741</td>\n      <td>3033.355556</td>\n      <td>0.0</td>\n      <td>1388.550403</td>\n      <td>1.350000</td>\n      <td>1.097561</td>\n      <td>0.0</td>\n      <td>2.147186</td>\n      <td>5.050000e+02</td>\n      <td>...</td>\n      <td>688721.0</td>\n      <td>375576.0</td>\n      <td>4.886652e+05</td>\n      <td>27.0</td>\n      <td>45.0</td>\n      <td>0.0</td>\n      <td>496.0</td>\n      <td>1.515000e+03</td>\n      <td>0.0</td>\n      <td>0.000000</td>\n    </tr>\n    <tr>\n      <th>1</th>\n      <td>2</td>\n      <td>0.000000</td>\n      <td>0.000000</td>\n      <td>0.0</td>\n      <td>0.000000</td>\n      <td>0.000000</td>\n      <td>0.000000</td>\n      <td>0.0</td>\n      <td>0.000000</td>\n      <td>6.973400e+04</td>\n      <td>...</td>\n      <td>0.0</td>\n      <td>2717416.0</td>\n      <td>2.621840e+06</td>\n      <td>0.0</td>\n      <td>0.0</td>\n      <td>0.0</td>\n      <td>0.0</td>\n      <td>2.092020e+05</td>\n      <td>0.0</td>\n      <td>0.000000</td>\n    </tr>\n    <tr>\n      <th>2</th>\n      <td>4</td>\n      <td>0.000000</td>\n      <td>0.000000</td>\n      <td>0.0</td>\n      <td>0.000000</td>\n      <td>0.000000</td>\n      <td>0.000000</td>\n      <td>0.0</td>\n      <td>0.000000</td>\n      <td>7.764825e+04</td>\n      <td>...</td>\n      <td>0.0</td>\n      <td>326517.0</td>\n      <td>3.265170e+05</td>\n      <td>0.0</td>\n      <td>0.0</td>\n      <td>0.0</td>\n      <td>0.0</td>\n      <td>3.105930e+05</td>\n      <td>0.0</td>\n      <td>0.000000</td>\n    </tr>\n    <tr>\n      <th>3</th>\n      <td>4</td>\n      <td>0.000000</td>\n      <td>0.000000</td>\n      <td>0.0</td>\n      <td>1893.333333</td>\n      <td>0.000000</td>\n      <td>0.000000</td>\n      <td>0.0</td>\n      <td>1.500000</td>\n      <td>4.312500e+03</td>\n      <td>...</td>\n      <td>5680.0</td>\n      <td>1014759.0</td>\n      <td>1.275499e+05</td>\n      <td>0.0</td>\n      <td>0.0</td>\n      <td>0.0</td>\n      <td>3.0</td>\n      <td>4.312500e+04</td>\n      <td>0.0</td>\n      <td>0.000000</td>\n    </tr>\n    <tr>\n      <th>4</th>\n      <td>3</td>\n      <td>0.000000</td>\n      <td>0.000000</td>\n      <td>0.0</td>\n      <td>7048.368421</td>\n      <td>0.000000</td>\n      <td>0.000000</td>\n      <td>0.0</td>\n      <td>1.055556</td>\n      <td>4.939067e+03</td>\n      <td>...</td>\n      <td>133919.0</td>\n      <td>241719.0</td>\n      <td>2.212473e+05</td>\n      <td>0.0</td>\n      <td>0.0</td>\n      <td>0.0</td>\n      <td>19.0</td>\n      <td>2.963440e+05</td>\n      <td>0.0</td>\n      <td>0.000000</td>\n    </tr>\n    <tr>\n      <th>...</th>\n      <td>...</td>\n      <td>...</td>\n      <td>...</td>\n      <td>...</td>\n      <td>...</td>\n      <td>...</td>\n      <td>...</td>\n      <td>...</td>\n      <td>...</td>\n      <td>...</td>\n      <td>...</td>\n      <td>...</td>\n      <td>...</td>\n      <td>...</td>\n      <td>...</td>\n      <td>...</td>\n      <td>...</td>\n      <td>...</td>\n      <td>...</td>\n      <td>...</td>\n      <td>...</td>\n    </tr>\n    <tr>\n      <th>23901</th>\n      <td>3</td>\n      <td>4332.523077</td>\n      <td>1223.939446</td>\n      <td>0.0</td>\n      <td>988.503826</td>\n      <td>1.160714</td>\n      <td>2.513043</td>\n      <td>0.0</td>\n      <td>6.668367</td>\n      <td>1.078873e+06</td>\n      <td>...</td>\n      <td>2583949.0</td>\n      <td>3218731.0</td>\n      <td>2.361632e+06</td>\n      <td>65.0</td>\n      <td>578.0</td>\n      <td>0.0</td>\n      <td>2614.0</td>\n      <td>1.532000e+08</td>\n      <td>364459.0</td>\n      <td>0.390110</td>\n    </tr>\n    <tr>\n      <th>23902</th>\n      <td>3</td>\n      <td>0.000000</td>\n      <td>0.000000</td>\n      <td>0.0</td>\n      <td>0.000000</td>\n      <td>0.000000</td>\n      <td>0.000000</td>\n      <td>0.0</td>\n      <td>0.000000</td>\n      <td>2.307641e+06</td>\n      <td>...</td>\n      <td>0.0</td>\n      <td>928963.0</td>\n      <td>5.041325e+05</td>\n      <td>0.0</td>\n      <td>0.0</td>\n      <td>0.0</td>\n      <td>0.0</td>\n      <td>4.615283e+07</td>\n      <td>22127.0</td>\n      <td>0.054945</td>\n    </tr>\n    <tr>\n      <th>23903</th>\n      <td>6</td>\n      <td>0.000000</td>\n      <td>0.000000</td>\n      <td>0.0</td>\n      <td>0.000000</td>\n      <td>0.000000</td>\n      <td>0.000000</td>\n      <td>0.0</td>\n      <td>0.000000</td>\n      <td>2.222531e+06</td>\n      <td>...</td>\n      <td>0.0</td>\n      <td>69080.0</td>\n      <td>7.500171e+04</td>\n      <td>0.0</td>\n      <td>0.0</td>\n      <td>0.0</td>\n      <td>0.0</td>\n      <td>1.555772e+08</td>\n      <td>43676.0</td>\n      <td>0.192308</td>\n    </tr>\n    <tr>\n      <th>23904</th>\n      <td>6</td>\n      <td>0.000000</td>\n      <td>0.000000</td>\n      <td>0.0</td>\n      <td>0.000000</td>\n      <td>0.000000</td>\n      <td>0.000000</td>\n      <td>0.0</td>\n      <td>0.000000</td>\n      <td>3.175717e+05</td>\n      <td>...</td>\n      <td>0.0</td>\n      <td>262604.0</td>\n      <td>3.333440e+05</td>\n      <td>0.0</td>\n      <td>0.0</td>\n      <td>0.0</td>\n      <td>0.0</td>\n      <td>1.365559e+08</td>\n      <td>0.0</td>\n      <td>1.181319</td>\n    </tr>\n    <tr>\n      <th>23905</th>\n      <td>2</td>\n      <td>0.000000</td>\n      <td>0.000000</td>\n      <td>0.0</td>\n      <td>0.000000</td>\n      <td>0.000000</td>\n      <td>0.000000</td>\n      <td>0.0</td>\n      <td>0.000000</td>\n      <td>2.630657e+05</td>\n      <td>...</td>\n      <td>0.0</td>\n      <td>332834.0</td>\n      <td>2.724419e+05</td>\n      <td>0.0</td>\n      <td>0.0</td>\n      <td>0.0</td>\n      <td>0.0</td>\n      <td>5.918977e+07</td>\n      <td>0.0</td>\n      <td>0.618132</td>\n    </tr>\n  </tbody>\n</table>\n<p>23906 rows × 51 columns</p>\n</div>"
     },
     "execution_count": 10,
     "metadata": {},
     "output_type": "execute_result"
    }
   ],
   "source": [
    "ori_train = ori_train.drop(['bad_value'], axis=1)\n",
    "train = train.drop(['bad_value'], axis=1)\n",
    "train"
   ],
   "metadata": {
    "collapsed": false
   }
  },
  {
   "cell_type": "code",
   "execution_count": 11,
   "outputs": [
    {
     "data": {
      "text/plain": "       AGE  avg_amt_nontw_nonntd  avg_amt_nontw_ntd  avg_amt_tw_nonntd  \\\n0        4           9044.740741        3033.355556                0.0   \n1        2              0.000000           0.000000                0.0   \n2        4              0.000000           0.000000                0.0   \n3        4              0.000000           0.000000                0.0   \n4        3              0.000000           0.000000                0.0   \n...    ...                   ...                ...                ...   \n23901    3           4332.523077        1223.939446                0.0   \n23902    3              0.000000           0.000000                0.0   \n23903    6              0.000000           0.000000                0.0   \n23904    6              0.000000           0.000000                0.0   \n23905    2              0.000000           0.000000                0.0   \n\n       avg_amt_tw_ntd  avg_freq_nontw_nonntd  avg_freq_nontw_ntd  \\\n0         1388.550403               1.350000            1.097561   \n1            0.000000               0.000000            0.000000   \n2            0.000000               0.000000            0.000000   \n3         1893.333333               0.000000            0.000000   \n4         7048.368421               0.000000            0.000000   \n...               ...                    ...                 ...   \n23901      988.503826               1.160714            2.513043   \n23902        0.000000               0.000000            0.000000   \n23903        0.000000               0.000000            0.000000   \n23904        0.000000               0.000000            0.000000   \n23905        0.000000               0.000000            0.000000   \n\n       avg_freq_tw_nonntd  avg_freq_tw_ntd        avg_tx  ...  \\\n0                     0.0         2.147186  5.050000e+02  ...   \n1                     0.0         0.000000  6.973400e+04  ...   \n2                     0.0         0.000000  7.764825e+04  ...   \n3                     0.0         1.500000  4.312500e+03  ...   \n4                     0.0         1.055556  4.939067e+03  ...   \n...                   ...              ...           ...  ...   \n23901                 0.0         6.668367  1.078873e+06  ...   \n23902                 0.0         0.000000  2.307641e+06  ...   \n23903                 0.0         0.000000  2.222531e+06  ...   \n23904                 0.0         0.000000  3.175717e+05  ...   \n23905                 0.0         0.000000  2.630657e+05  ...   \n\n       total_amt_tw_ntd  total_asset_x  total_asset_y  \\\n0              688721.0       375576.0   4.886652e+05   \n1                   0.0      2717416.0   2.621840e+06   \n2                   0.0       326517.0   3.265170e+05   \n3                5680.0      1014759.0   1.275499e+05   \n4              133919.0       241719.0   2.212473e+05   \n...                 ...            ...            ...   \n23901         2583949.0      3218731.0   2.361632e+06   \n23902               0.0       928963.0   5.041325e+05   \n23903               0.0        69080.0   7.500171e+04   \n23904               0.0       262604.0   3.333440e+05   \n23905               0.0       332834.0   2.724419e+05   \n\n       total_freq_nontw_nonntd  total_freq_nontw_ntd  total_freq_tw_nonntd  \\\n0                         27.0                  45.0                   0.0   \n1                          0.0                   0.0                   0.0   \n2                          0.0                   0.0                   0.0   \n3                          0.0                   0.0                   0.0   \n4                          0.0                   0.0                   0.0   \n...                        ...                   ...                   ...   \n23901                     65.0                 578.0                   0.0   \n23902                      0.0                   0.0                   0.0   \n23903                      0.0                   0.0                   0.0   \n23904                      0.0                   0.0                   0.0   \n23905                      0.0                   0.0                   0.0   \n\n       total_freq_tw_ntd      total_tx  trade_sum  tx_per_day  \n0                  496.0  1.515000e+03        0.0    0.000000  \n1                    0.0  2.092020e+05        0.0    0.000000  \n2                    0.0  3.105930e+05        0.0    0.000000  \n3                    3.0  4.312500e+04        0.0    0.000000  \n4                   19.0  2.963440e+05        0.0    0.000000  \n...                  ...           ...        ...         ...  \n23901             2614.0  1.532000e+08   364459.0    0.390110  \n23902                0.0  4.615283e+07    22127.0    0.054945  \n23903                0.0  1.555772e+08    43676.0    0.192308  \n23904                0.0  1.365559e+08        0.0    1.181319  \n23905                0.0  5.918977e+07        0.0    0.618132  \n\n[23906 rows x 50 columns]",
      "text/html": "<div>\n<style scoped>\n    .dataframe tbody tr th:only-of-type {\n        vertical-align: middle;\n    }\n\n    .dataframe tbody tr th {\n        vertical-align: top;\n    }\n\n    .dataframe thead th {\n        text-align: right;\n    }\n</style>\n<table border=\"1\" class=\"dataframe\">\n  <thead>\n    <tr style=\"text-align: right;\">\n      <th></th>\n      <th>AGE</th>\n      <th>avg_amt_nontw_nonntd</th>\n      <th>avg_amt_nontw_ntd</th>\n      <th>avg_amt_tw_nonntd</th>\n      <th>avg_amt_tw_ntd</th>\n      <th>avg_freq_nontw_nonntd</th>\n      <th>avg_freq_nontw_ntd</th>\n      <th>avg_freq_tw_nonntd</th>\n      <th>avg_freq_tw_ntd</th>\n      <th>avg_tx</th>\n      <th>...</th>\n      <th>total_amt_tw_ntd</th>\n      <th>total_asset_x</th>\n      <th>total_asset_y</th>\n      <th>total_freq_nontw_nonntd</th>\n      <th>total_freq_nontw_ntd</th>\n      <th>total_freq_tw_nonntd</th>\n      <th>total_freq_tw_ntd</th>\n      <th>total_tx</th>\n      <th>trade_sum</th>\n      <th>tx_per_day</th>\n    </tr>\n  </thead>\n  <tbody>\n    <tr>\n      <th>0</th>\n      <td>4</td>\n      <td>9044.740741</td>\n      <td>3033.355556</td>\n      <td>0.0</td>\n      <td>1388.550403</td>\n      <td>1.350000</td>\n      <td>1.097561</td>\n      <td>0.0</td>\n      <td>2.147186</td>\n      <td>5.050000e+02</td>\n      <td>...</td>\n      <td>688721.0</td>\n      <td>375576.0</td>\n      <td>4.886652e+05</td>\n      <td>27.0</td>\n      <td>45.0</td>\n      <td>0.0</td>\n      <td>496.0</td>\n      <td>1.515000e+03</td>\n      <td>0.0</td>\n      <td>0.000000</td>\n    </tr>\n    <tr>\n      <th>1</th>\n      <td>2</td>\n      <td>0.000000</td>\n      <td>0.000000</td>\n      <td>0.0</td>\n      <td>0.000000</td>\n      <td>0.000000</td>\n      <td>0.000000</td>\n      <td>0.0</td>\n      <td>0.000000</td>\n      <td>6.973400e+04</td>\n      <td>...</td>\n      <td>0.0</td>\n      <td>2717416.0</td>\n      <td>2.621840e+06</td>\n      <td>0.0</td>\n      <td>0.0</td>\n      <td>0.0</td>\n      <td>0.0</td>\n      <td>2.092020e+05</td>\n      <td>0.0</td>\n      <td>0.000000</td>\n    </tr>\n    <tr>\n      <th>2</th>\n      <td>4</td>\n      <td>0.000000</td>\n      <td>0.000000</td>\n      <td>0.0</td>\n      <td>0.000000</td>\n      <td>0.000000</td>\n      <td>0.000000</td>\n      <td>0.0</td>\n      <td>0.000000</td>\n      <td>7.764825e+04</td>\n      <td>...</td>\n      <td>0.0</td>\n      <td>326517.0</td>\n      <td>3.265170e+05</td>\n      <td>0.0</td>\n      <td>0.0</td>\n      <td>0.0</td>\n      <td>0.0</td>\n      <td>3.105930e+05</td>\n      <td>0.0</td>\n      <td>0.000000</td>\n    </tr>\n    <tr>\n      <th>3</th>\n      <td>4</td>\n      <td>0.000000</td>\n      <td>0.000000</td>\n      <td>0.0</td>\n      <td>1893.333333</td>\n      <td>0.000000</td>\n      <td>0.000000</td>\n      <td>0.0</td>\n      <td>1.500000</td>\n      <td>4.312500e+03</td>\n      <td>...</td>\n      <td>5680.0</td>\n      <td>1014759.0</td>\n      <td>1.275499e+05</td>\n      <td>0.0</td>\n      <td>0.0</td>\n      <td>0.0</td>\n      <td>3.0</td>\n      <td>4.312500e+04</td>\n      <td>0.0</td>\n      <td>0.000000</td>\n    </tr>\n    <tr>\n      <th>4</th>\n      <td>3</td>\n      <td>0.000000</td>\n      <td>0.000000</td>\n      <td>0.0</td>\n      <td>7048.368421</td>\n      <td>0.000000</td>\n      <td>0.000000</td>\n      <td>0.0</td>\n      <td>1.055556</td>\n      <td>4.939067e+03</td>\n      <td>...</td>\n      <td>133919.0</td>\n      <td>241719.0</td>\n      <td>2.212473e+05</td>\n      <td>0.0</td>\n      <td>0.0</td>\n      <td>0.0</td>\n      <td>19.0</td>\n      <td>2.963440e+05</td>\n      <td>0.0</td>\n      <td>0.000000</td>\n    </tr>\n    <tr>\n      <th>...</th>\n      <td>...</td>\n      <td>...</td>\n      <td>...</td>\n      <td>...</td>\n      <td>...</td>\n      <td>...</td>\n      <td>...</td>\n      <td>...</td>\n      <td>...</td>\n      <td>...</td>\n      <td>...</td>\n      <td>...</td>\n      <td>...</td>\n      <td>...</td>\n      <td>...</td>\n      <td>...</td>\n      <td>...</td>\n      <td>...</td>\n      <td>...</td>\n      <td>...</td>\n      <td>...</td>\n    </tr>\n    <tr>\n      <th>23901</th>\n      <td>3</td>\n      <td>4332.523077</td>\n      <td>1223.939446</td>\n      <td>0.0</td>\n      <td>988.503826</td>\n      <td>1.160714</td>\n      <td>2.513043</td>\n      <td>0.0</td>\n      <td>6.668367</td>\n      <td>1.078873e+06</td>\n      <td>...</td>\n      <td>2583949.0</td>\n      <td>3218731.0</td>\n      <td>2.361632e+06</td>\n      <td>65.0</td>\n      <td>578.0</td>\n      <td>0.0</td>\n      <td>2614.0</td>\n      <td>1.532000e+08</td>\n      <td>364459.0</td>\n      <td>0.390110</td>\n    </tr>\n    <tr>\n      <th>23902</th>\n      <td>3</td>\n      <td>0.000000</td>\n      <td>0.000000</td>\n      <td>0.0</td>\n      <td>0.000000</td>\n      <td>0.000000</td>\n      <td>0.000000</td>\n      <td>0.0</td>\n      <td>0.000000</td>\n      <td>2.307641e+06</td>\n      <td>...</td>\n      <td>0.0</td>\n      <td>928963.0</td>\n      <td>5.041325e+05</td>\n      <td>0.0</td>\n      <td>0.0</td>\n      <td>0.0</td>\n      <td>0.0</td>\n      <td>4.615283e+07</td>\n      <td>22127.0</td>\n      <td>0.054945</td>\n    </tr>\n    <tr>\n      <th>23903</th>\n      <td>6</td>\n      <td>0.000000</td>\n      <td>0.000000</td>\n      <td>0.0</td>\n      <td>0.000000</td>\n      <td>0.000000</td>\n      <td>0.000000</td>\n      <td>0.0</td>\n      <td>0.000000</td>\n      <td>2.222531e+06</td>\n      <td>...</td>\n      <td>0.0</td>\n      <td>69080.0</td>\n      <td>7.500171e+04</td>\n      <td>0.0</td>\n      <td>0.0</td>\n      <td>0.0</td>\n      <td>0.0</td>\n      <td>1.555772e+08</td>\n      <td>43676.0</td>\n      <td>0.192308</td>\n    </tr>\n    <tr>\n      <th>23904</th>\n      <td>6</td>\n      <td>0.000000</td>\n      <td>0.000000</td>\n      <td>0.0</td>\n      <td>0.000000</td>\n      <td>0.000000</td>\n      <td>0.000000</td>\n      <td>0.0</td>\n      <td>0.000000</td>\n      <td>3.175717e+05</td>\n      <td>...</td>\n      <td>0.0</td>\n      <td>262604.0</td>\n      <td>3.333440e+05</td>\n      <td>0.0</td>\n      <td>0.0</td>\n      <td>0.0</td>\n      <td>0.0</td>\n      <td>1.365559e+08</td>\n      <td>0.0</td>\n      <td>1.181319</td>\n    </tr>\n    <tr>\n      <th>23905</th>\n      <td>2</td>\n      <td>0.000000</td>\n      <td>0.000000</td>\n      <td>0.0</td>\n      <td>0.000000</td>\n      <td>0.000000</td>\n      <td>0.000000</td>\n      <td>0.0</td>\n      <td>0.000000</td>\n      <td>2.630657e+05</td>\n      <td>...</td>\n      <td>0.0</td>\n      <td>332834.0</td>\n      <td>2.724419e+05</td>\n      <td>0.0</td>\n      <td>0.0</td>\n      <td>0.0</td>\n      <td>0.0</td>\n      <td>5.918977e+07</td>\n      <td>0.0</td>\n      <td>0.618132</td>\n    </tr>\n  </tbody>\n</table>\n<p>23906 rows × 50 columns</p>\n</div>"
     },
     "execution_count": 11,
     "metadata": {},
     "output_type": "execute_result"
    }
   ],
   "source": [
    "# Training\n",
    "ori_train_x = ori_train.loc[:, train.columns != 'sar_flag']\n",
    "ori_train_y = ori_train.loc[:, train.columns == 'sar_flag']\n",
    "train_x = train.loc[:, train.columns != 'sar_flag']\n",
    "train_y = train.loc[:, train.columns == 'sar_flag']\n",
    "train_x"
   ],
   "metadata": {
    "collapsed": false
   }
  },
  {
   "cell_type": "code",
   "execution_count": 12,
   "outputs": [],
   "source": [
    "#normalize\n",
    "from sklearn import preprocessing\n",
    "\n",
    "def normalize_mms(input_df):\n",
    "    scaler = preprocessing.MinMaxScaler()\n",
    "    result = scaler.fit_transform(input_df)\n",
    "    return pd.DataFrame(result, index=input_df.index, columns=input_df.columns)"
   ],
   "metadata": {
    "collapsed": false
   }
  },
  {
   "cell_type": "code",
   "execution_count": 13,
   "outputs": [
    {
     "data": {
      "text/plain": "       AGE  avg_amt_nontw_nonntd  avg_amt_nontw_ntd  avg_amt_tw_nonntd  \\\n0      0.4              0.005648           0.018591                0.0   \n1      0.2              0.000000           0.000000                0.0   \n2      0.4              0.000000           0.000000                0.0   \n3      0.4              0.000000           0.000000                0.0   \n4      0.3              0.000000           0.000000                0.0   \n...    ...                   ...                ...                ...   \n23901  0.3              0.002705           0.007501                0.0   \n23902  0.3              0.000000           0.000000                0.0   \n23903  0.6              0.000000           0.000000                0.0   \n23904  0.6              0.000000           0.000000                0.0   \n23905  0.2              0.000000           0.000000                0.0   \n\n       avg_amt_tw_ntd  avg_freq_nontw_nonntd  avg_freq_nontw_ntd  \\\n0            0.000110               0.004122            0.055273   \n1            0.000000               0.000000            0.000000   \n2            0.000000               0.000000            0.000000   \n3            0.000151               0.000000            0.000000   \n4            0.000560               0.000000            0.000000   \n...               ...                    ...                 ...   \n23901        0.000079               0.003544            0.126556   \n23902        0.000000               0.000000            0.000000   \n23903        0.000000               0.000000            0.000000   \n23904        0.000000               0.000000            0.000000   \n23905        0.000000               0.000000            0.000000   \n\n       avg_freq_tw_nonntd  avg_freq_tw_ntd    avg_tx  ...  total_amt_tw_ntd  \\\n0                     0.0         0.031604  0.000008  ...          0.001897   \n1                     0.0         0.000000  0.001071  ...          0.000000   \n2                     0.0         0.000000  0.001193  ...          0.000000   \n3                     0.0         0.022078  0.000066  ...          0.000016   \n4                     0.0         0.015536  0.000076  ...          0.000369   \n...                   ...              ...       ...  ...               ...   \n23901                 0.0         0.098149  0.016576  ...          0.007115   \n23902                 0.0         0.000000  0.035455  ...          0.000000   \n23903                 0.0         0.000000  0.034148  ...          0.000000   \n23904                 0.0         0.000000  0.004879  ...          0.000000   \n23905                 0.0         0.000000  0.004042  ...          0.000000   \n\n       total_asset_x  total_asset_y  total_freq_nontw_nonntd  \\\n0           0.005085       0.009321                 0.000229   \n1           0.036790       0.050010                 0.000000   \n2           0.004421       0.006228                 0.000000   \n3           0.013738       0.002433                 0.000000   \n4           0.003273       0.004220                 0.000000   \n...              ...            ...                      ...   \n23901       0.043577       0.045047                 0.000551   \n23902       0.012577       0.009616                 0.000000   \n23903       0.000935       0.001431                 0.000000   \n23904       0.003555       0.006358                 0.000000   \n23905       0.004506       0.005197                 0.000000   \n\n       total_freq_nontw_ntd  total_freq_tw_nonntd  total_freq_tw_ntd  \\\n0                  0.011081                   0.0           0.023780   \n1                  0.000000                   0.0           0.000000   \n2                  0.000000                   0.0           0.000000   \n3                  0.000000                   0.0           0.000144   \n4                  0.000000                   0.0           0.000911   \n...                     ...                   ...                ...   \n23901              0.142329                   0.0           0.125324   \n23902              0.000000                   0.0           0.000000   \n23903              0.000000                   0.0           0.000000   \n23904              0.000000                   0.0           0.000000   \n23905              0.000000                   0.0           0.000000   \n\n           total_tx  trade_sum  tx_per_day  \n0      2.083666e-08   0.000000    0.000000  \n1      2.877274e-06   0.000000    0.000000  \n2      4.271763e-06   0.000000    0.000000  \n3      5.931227e-07   0.000000    0.000000  \n4      4.075788e-06   0.000000    0.000000  \n...             ...        ...         ...  \n23901  2.107046e-03   0.008875    0.001085  \n23902  6.347662e-04   0.000539    0.000153  \n23903  2.139742e-03   0.001064    0.000535  \n23904  1.878131e-03   0.000000    0.003285  \n23905  8.140707e-04   0.000000    0.001719  \n\n[23906 rows x 50 columns]",
      "text/html": "<div>\n<style scoped>\n    .dataframe tbody tr th:only-of-type {\n        vertical-align: middle;\n    }\n\n    .dataframe tbody tr th {\n        vertical-align: top;\n    }\n\n    .dataframe thead th {\n        text-align: right;\n    }\n</style>\n<table border=\"1\" class=\"dataframe\">\n  <thead>\n    <tr style=\"text-align: right;\">\n      <th></th>\n      <th>AGE</th>\n      <th>avg_amt_nontw_nonntd</th>\n      <th>avg_amt_nontw_ntd</th>\n      <th>avg_amt_tw_nonntd</th>\n      <th>avg_amt_tw_ntd</th>\n      <th>avg_freq_nontw_nonntd</th>\n      <th>avg_freq_nontw_ntd</th>\n      <th>avg_freq_tw_nonntd</th>\n      <th>avg_freq_tw_ntd</th>\n      <th>avg_tx</th>\n      <th>...</th>\n      <th>total_amt_tw_ntd</th>\n      <th>total_asset_x</th>\n      <th>total_asset_y</th>\n      <th>total_freq_nontw_nonntd</th>\n      <th>total_freq_nontw_ntd</th>\n      <th>total_freq_tw_nonntd</th>\n      <th>total_freq_tw_ntd</th>\n      <th>total_tx</th>\n      <th>trade_sum</th>\n      <th>tx_per_day</th>\n    </tr>\n  </thead>\n  <tbody>\n    <tr>\n      <th>0</th>\n      <td>0.4</td>\n      <td>0.005648</td>\n      <td>0.018591</td>\n      <td>0.0</td>\n      <td>0.000110</td>\n      <td>0.004122</td>\n      <td>0.055273</td>\n      <td>0.0</td>\n      <td>0.031604</td>\n      <td>0.000008</td>\n      <td>...</td>\n      <td>0.001897</td>\n      <td>0.005085</td>\n      <td>0.009321</td>\n      <td>0.000229</td>\n      <td>0.011081</td>\n      <td>0.0</td>\n      <td>0.023780</td>\n      <td>2.083666e-08</td>\n      <td>0.000000</td>\n      <td>0.000000</td>\n    </tr>\n    <tr>\n      <th>1</th>\n      <td>0.2</td>\n      <td>0.000000</td>\n      <td>0.000000</td>\n      <td>0.0</td>\n      <td>0.000000</td>\n      <td>0.000000</td>\n      <td>0.000000</td>\n      <td>0.0</td>\n      <td>0.000000</td>\n      <td>0.001071</td>\n      <td>...</td>\n      <td>0.000000</td>\n      <td>0.036790</td>\n      <td>0.050010</td>\n      <td>0.000000</td>\n      <td>0.000000</td>\n      <td>0.0</td>\n      <td>0.000000</td>\n      <td>2.877274e-06</td>\n      <td>0.000000</td>\n      <td>0.000000</td>\n    </tr>\n    <tr>\n      <th>2</th>\n      <td>0.4</td>\n      <td>0.000000</td>\n      <td>0.000000</td>\n      <td>0.0</td>\n      <td>0.000000</td>\n      <td>0.000000</td>\n      <td>0.000000</td>\n      <td>0.0</td>\n      <td>0.000000</td>\n      <td>0.001193</td>\n      <td>...</td>\n      <td>0.000000</td>\n      <td>0.004421</td>\n      <td>0.006228</td>\n      <td>0.000000</td>\n      <td>0.000000</td>\n      <td>0.0</td>\n      <td>0.000000</td>\n      <td>4.271763e-06</td>\n      <td>0.000000</td>\n      <td>0.000000</td>\n    </tr>\n    <tr>\n      <th>3</th>\n      <td>0.4</td>\n      <td>0.000000</td>\n      <td>0.000000</td>\n      <td>0.0</td>\n      <td>0.000151</td>\n      <td>0.000000</td>\n      <td>0.000000</td>\n      <td>0.0</td>\n      <td>0.022078</td>\n      <td>0.000066</td>\n      <td>...</td>\n      <td>0.000016</td>\n      <td>0.013738</td>\n      <td>0.002433</td>\n      <td>0.000000</td>\n      <td>0.000000</td>\n      <td>0.0</td>\n      <td>0.000144</td>\n      <td>5.931227e-07</td>\n      <td>0.000000</td>\n      <td>0.000000</td>\n    </tr>\n    <tr>\n      <th>4</th>\n      <td>0.3</td>\n      <td>0.000000</td>\n      <td>0.000000</td>\n      <td>0.0</td>\n      <td>0.000560</td>\n      <td>0.000000</td>\n      <td>0.000000</td>\n      <td>0.0</td>\n      <td>0.015536</td>\n      <td>0.000076</td>\n      <td>...</td>\n      <td>0.000369</td>\n      <td>0.003273</td>\n      <td>0.004220</td>\n      <td>0.000000</td>\n      <td>0.000000</td>\n      <td>0.0</td>\n      <td>0.000911</td>\n      <td>4.075788e-06</td>\n      <td>0.000000</td>\n      <td>0.000000</td>\n    </tr>\n    <tr>\n      <th>...</th>\n      <td>...</td>\n      <td>...</td>\n      <td>...</td>\n      <td>...</td>\n      <td>...</td>\n      <td>...</td>\n      <td>...</td>\n      <td>...</td>\n      <td>...</td>\n      <td>...</td>\n      <td>...</td>\n      <td>...</td>\n      <td>...</td>\n      <td>...</td>\n      <td>...</td>\n      <td>...</td>\n      <td>...</td>\n      <td>...</td>\n      <td>...</td>\n      <td>...</td>\n      <td>...</td>\n    </tr>\n    <tr>\n      <th>23901</th>\n      <td>0.3</td>\n      <td>0.002705</td>\n      <td>0.007501</td>\n      <td>0.0</td>\n      <td>0.000079</td>\n      <td>0.003544</td>\n      <td>0.126556</td>\n      <td>0.0</td>\n      <td>0.098149</td>\n      <td>0.016576</td>\n      <td>...</td>\n      <td>0.007115</td>\n      <td>0.043577</td>\n      <td>0.045047</td>\n      <td>0.000551</td>\n      <td>0.142329</td>\n      <td>0.0</td>\n      <td>0.125324</td>\n      <td>2.107046e-03</td>\n      <td>0.008875</td>\n      <td>0.001085</td>\n    </tr>\n    <tr>\n      <th>23902</th>\n      <td>0.3</td>\n      <td>0.000000</td>\n      <td>0.000000</td>\n      <td>0.0</td>\n      <td>0.000000</td>\n      <td>0.000000</td>\n      <td>0.000000</td>\n      <td>0.0</td>\n      <td>0.000000</td>\n      <td>0.035455</td>\n      <td>...</td>\n      <td>0.000000</td>\n      <td>0.012577</td>\n      <td>0.009616</td>\n      <td>0.000000</td>\n      <td>0.000000</td>\n      <td>0.0</td>\n      <td>0.000000</td>\n      <td>6.347662e-04</td>\n      <td>0.000539</td>\n      <td>0.000153</td>\n    </tr>\n    <tr>\n      <th>23903</th>\n      <td>0.6</td>\n      <td>0.000000</td>\n      <td>0.000000</td>\n      <td>0.0</td>\n      <td>0.000000</td>\n      <td>0.000000</td>\n      <td>0.000000</td>\n      <td>0.0</td>\n      <td>0.000000</td>\n      <td>0.034148</td>\n      <td>...</td>\n      <td>0.000000</td>\n      <td>0.000935</td>\n      <td>0.001431</td>\n      <td>0.000000</td>\n      <td>0.000000</td>\n      <td>0.0</td>\n      <td>0.000000</td>\n      <td>2.139742e-03</td>\n      <td>0.001064</td>\n      <td>0.000535</td>\n    </tr>\n    <tr>\n      <th>23904</th>\n      <td>0.6</td>\n      <td>0.000000</td>\n      <td>0.000000</td>\n      <td>0.0</td>\n      <td>0.000000</td>\n      <td>0.000000</td>\n      <td>0.000000</td>\n      <td>0.0</td>\n      <td>0.000000</td>\n      <td>0.004879</td>\n      <td>...</td>\n      <td>0.000000</td>\n      <td>0.003555</td>\n      <td>0.006358</td>\n      <td>0.000000</td>\n      <td>0.000000</td>\n      <td>0.0</td>\n      <td>0.000000</td>\n      <td>1.878131e-03</td>\n      <td>0.000000</td>\n      <td>0.003285</td>\n    </tr>\n    <tr>\n      <th>23905</th>\n      <td>0.2</td>\n      <td>0.000000</td>\n      <td>0.000000</td>\n      <td>0.0</td>\n      <td>0.000000</td>\n      <td>0.000000</td>\n      <td>0.000000</td>\n      <td>0.0</td>\n      <td>0.000000</td>\n      <td>0.004042</td>\n      <td>...</td>\n      <td>0.000000</td>\n      <td>0.004506</td>\n      <td>0.005197</td>\n      <td>0.000000</td>\n      <td>0.000000</td>\n      <td>0.0</td>\n      <td>0.000000</td>\n      <td>8.140707e-04</td>\n      <td>0.000000</td>\n      <td>0.001719</td>\n    </tr>\n  </tbody>\n</table>\n<p>23906 rows × 50 columns</p>\n</div>"
     },
     "execution_count": 13,
     "metadata": {},
     "output_type": "execute_result"
    }
   ],
   "source": [
    "train_x = normalize_mms(train_x)\n",
    "train_x"
   ],
   "metadata": {
    "collapsed": false
   }
  },
  {
   "cell_type": "code",
   "execution_count": 14,
   "outputs": [
    {
     "name": "stdout",
     "output_type": "stream",
     "text": [
      "length of oversampled data is  33126\n",
      "Number of non-sar in oversampled data 16563\n",
      "Number of sar 16563\n",
      "Proportion of no subscription data in oversampled data is  0.5\n",
      "Proportion of subscription data in oversampled data is  0.5\n"
     ]
    }
   ],
   "source": [
    "sm_x, sm_y = SMOTE_oversampling(train_x, train_y)"
   ],
   "metadata": {
    "collapsed": false
   }
  },
  {
   "cell_type": "code",
   "execution_count": 15,
   "outputs": [
    {
     "name": "stdout",
     "output_type": "stream",
     "text": [
      "Index(['AGE', 'avg_amt_nontw_nonntd', 'avg_amt_nontw_ntd', 'avg_amt_tw_nonntd',\n",
      "       'avg_amt_tw_ntd', 'avg_freq_nontw_nonntd', 'avg_freq_nontw_ntd',\n",
      "       'avg_freq_tw_nonntd', 'avg_freq_tw_ntd', 'avg_tx', 'count_tx',\n",
      "       'cucah_quarter1_mean', 'cucah_quarter1_std', 'cucah_quarter1_sum',\n",
      "       'cucah_quarter2_mean', 'cucah_quarter2_std', 'cucah_quarter2_sum',\n",
      "       'cucah_quarter3_mean', 'cucah_quarter3_std', 'cucah_quarter3_sum',\n",
      "       'cucah_quarter4_mean', 'cucah_quarter4_std', 'cucah_quarter4_sum',\n",
      "       'cucah_total_mean', 'cucah_total_std', 'cucah_total_sum', 'risk_rank',\n",
      "       'sd_amt_nontw_nonntd', 'sd_amt_nontw_ntd', 'sd_amt_tw_nonntd',\n",
      "       'sd_amt_tw_ntd', 'sd_freq_nontw_nonntd', 'sd_freq_nontw_ntd',\n",
      "       'sd_freq_tw_nonntd', 'sd_freq_tw_ntd', 'std_tx', 'sum_assets',\n",
      "       'total_amt_nontw_nonntd', 'total_amt_nontw_ntd', 'total_amt_tw_nonntd',\n",
      "       'total_amt_tw_ntd', 'total_asset_x', 'total_asset_y',\n",
      "       'total_freq_nontw_nonntd', 'total_freq_nontw_ntd',\n",
      "       'total_freq_tw_nonntd', 'total_freq_tw_ntd', 'total_tx', 'trade_sum',\n",
      "       'tx_per_day'],\n",
      "      dtype='object')\n",
      "[ True False  True False  True  True  True False  True  True  True False\n",
      " False False False False False False False False False False False False\n",
      " False False  True False  True False  True False  True False  True  True\n",
      "  True  True  True False  True  True  True False  True False  True  True\n",
      "  True  True]\n",
      "[1 2 1 2 1 1 1 2 1 1 1 2 2 2 2 2 2 2 2 2 2 2 2 2 2 2 1 2 1 2 1 2 1 2 1 1 1\n",
      " 1 1 2 1 1 1 2 1 2 1 1 1 1]\n"
     ]
    }
   ],
   "source": [
    "RF = RandomForestClassifier()\n",
    "rfe_columns = RFE_analysis(sm_x, sm_y, RF)"
   ],
   "metadata": {
    "collapsed": false
   }
  },
  {
   "cell_type": "code",
   "execution_count": 16,
   "outputs": [
    {
     "data": {
      "text/plain": "       AGE  avg_amt_nontw_nonntd  avg_amt_nontw_ntd  avg_amt_tw_nonntd  \\\n0      0.5                   0.0           0.000000                0.0   \n1      0.3                   0.0           0.000000                0.0   \n2      0.2                   0.0           0.000000                0.0   \n3      0.3                   0.0           0.000000                0.0   \n4      0.4                   0.0           0.000000                0.0   \n...    ...                   ...                ...                ...   \n33121  0.3                   0.0           0.000000                0.0   \n33122  0.3                   0.0           0.000000                0.0   \n33123  0.3                   0.0           0.000234                0.0   \n33124  0.4                   0.0           0.002975                0.0   \n33125  0.4                   0.0           0.000000                0.0   \n\n       avg_amt_tw_ntd  avg_freq_nontw_nonntd  avg_freq_nontw_ntd  \\\n0            0.000327                    0.0            0.000000   \n1            0.000000                    0.0            0.000000   \n2            0.000000                    0.0            0.000000   \n3            0.000000                    0.0            0.000000   \n4            0.000000                    0.0            0.000000   \n...               ...                    ...                 ...   \n33121        0.000017                    0.0            0.000000   \n33122        0.004243                    0.0            0.000000   \n33123        0.000017                    0.0            0.010992   \n33124        0.000022                    0.0            0.006861   \n33125        0.000075                    0.0            0.000000   \n\n       avg_freq_tw_nonntd  avg_freq_tw_ntd    avg_tx  ...  total_amt_tw_ntd  \\\n0                     0.0         0.028601  0.001230  ...          0.001939   \n1                     0.0         0.000000  0.040908  ...          0.000000   \n2                     0.0         0.000000  0.000003  ...          0.000000   \n3                     0.0         0.000000  0.000053  ...          0.000000   \n4                     0.0         0.000000  0.000000  ...          0.000000   \n...                   ...              ...       ...  ...               ...   \n33121                 0.0         0.003955  0.003920  ...          0.000021   \n33122                 0.0         0.015965  0.001492  ...          0.000434   \n33123                 0.0         0.005341  0.019265  ...          0.000079   \n33124                 0.0         0.002435  0.000111  ...          0.000013   \n33125                 0.0         0.020172  0.004468  ...          0.000691   \n\n       total_asset_x  total_asset_y  total_freq_nontw_nonntd  \\\n0           0.000411       0.003365                      0.0   \n1           0.000394       0.000644                      0.0   \n2           0.003446       0.004579                      0.0   \n3           0.008622       0.007377                      0.0   \n4           0.000001       0.000002                      0.0   \n...              ...            ...                      ...   \n33121       0.000587       0.000826                      0.0   \n33122       0.002577       0.003631                      0.0   \n33123       0.001915       0.002099                      0.0   \n33124       0.000576       0.000811                      0.0   \n33125       0.001170       0.001592                      0.0   \n\n       total_freq_nontw_ntd  total_freq_tw_nonntd  total_freq_tw_ntd  \\\n0                  0.000000                   0.0           0.008198   \n1                  0.000000                   0.0           0.000000   \n2                  0.000000                   0.0           0.000000   \n3                  0.000000                   0.0           0.000000   \n4                  0.000000                   0.0           0.000000   \n...                     ...                   ...                ...   \n33121              0.000000                   0.0           0.000258   \n33122              0.000000                   0.0           0.000830   \n33123              0.000269                   0.0           0.001392   \n33124              0.000034                   0.0           0.000111   \n33125              0.000000                   0.0           0.014190   \n\n       total_tx  trade_sum  tx_per_day  \n0      0.000118   0.000000    0.001328  \n1      0.005310   0.027290    0.002253  \n2      0.000002   0.022337    0.017048  \n3      0.000004   0.000000    0.005833  \n4      0.000000   0.000000    0.000000  \n...         ...        ...         ...  \n33121  0.000201   0.056286    0.000678  \n33122  0.001064   0.000000    0.004937  \n33123  0.001135   0.643624    0.005959  \n33124  0.000035   0.140464    0.003982  \n33125  0.000300   0.055730    0.004437  \n\n[33126 rows x 50 columns]",
      "text/html": "<div>\n<style scoped>\n    .dataframe tbody tr th:only-of-type {\n        vertical-align: middle;\n    }\n\n    .dataframe tbody tr th {\n        vertical-align: top;\n    }\n\n    .dataframe thead th {\n        text-align: right;\n    }\n</style>\n<table border=\"1\" class=\"dataframe\">\n  <thead>\n    <tr style=\"text-align: right;\">\n      <th></th>\n      <th>AGE</th>\n      <th>avg_amt_nontw_nonntd</th>\n      <th>avg_amt_nontw_ntd</th>\n      <th>avg_amt_tw_nonntd</th>\n      <th>avg_amt_tw_ntd</th>\n      <th>avg_freq_nontw_nonntd</th>\n      <th>avg_freq_nontw_ntd</th>\n      <th>avg_freq_tw_nonntd</th>\n      <th>avg_freq_tw_ntd</th>\n      <th>avg_tx</th>\n      <th>...</th>\n      <th>total_amt_tw_ntd</th>\n      <th>total_asset_x</th>\n      <th>total_asset_y</th>\n      <th>total_freq_nontw_nonntd</th>\n      <th>total_freq_nontw_ntd</th>\n      <th>total_freq_tw_nonntd</th>\n      <th>total_freq_tw_ntd</th>\n      <th>total_tx</th>\n      <th>trade_sum</th>\n      <th>tx_per_day</th>\n    </tr>\n  </thead>\n  <tbody>\n    <tr>\n      <th>0</th>\n      <td>0.5</td>\n      <td>0.0</td>\n      <td>0.000000</td>\n      <td>0.0</td>\n      <td>0.000327</td>\n      <td>0.0</td>\n      <td>0.000000</td>\n      <td>0.0</td>\n      <td>0.028601</td>\n      <td>0.001230</td>\n      <td>...</td>\n      <td>0.001939</td>\n      <td>0.000411</td>\n      <td>0.003365</td>\n      <td>0.0</td>\n      <td>0.000000</td>\n      <td>0.0</td>\n      <td>0.008198</td>\n      <td>0.000118</td>\n      <td>0.000000</td>\n      <td>0.001328</td>\n    </tr>\n    <tr>\n      <th>1</th>\n      <td>0.3</td>\n      <td>0.0</td>\n      <td>0.000000</td>\n      <td>0.0</td>\n      <td>0.000000</td>\n      <td>0.0</td>\n      <td>0.000000</td>\n      <td>0.0</td>\n      <td>0.000000</td>\n      <td>0.040908</td>\n      <td>...</td>\n      <td>0.000000</td>\n      <td>0.000394</td>\n      <td>0.000644</td>\n      <td>0.0</td>\n      <td>0.000000</td>\n      <td>0.0</td>\n      <td>0.000000</td>\n      <td>0.005310</td>\n      <td>0.027290</td>\n      <td>0.002253</td>\n    </tr>\n    <tr>\n      <th>2</th>\n      <td>0.2</td>\n      <td>0.0</td>\n      <td>0.000000</td>\n      <td>0.0</td>\n      <td>0.000000</td>\n      <td>0.0</td>\n      <td>0.000000</td>\n      <td>0.0</td>\n      <td>0.000000</td>\n      <td>0.000003</td>\n      <td>...</td>\n      <td>0.000000</td>\n      <td>0.003446</td>\n      <td>0.004579</td>\n      <td>0.0</td>\n      <td>0.000000</td>\n      <td>0.0</td>\n      <td>0.000000</td>\n      <td>0.000002</td>\n      <td>0.022337</td>\n      <td>0.017048</td>\n    </tr>\n    <tr>\n      <th>3</th>\n      <td>0.3</td>\n      <td>0.0</td>\n      <td>0.000000</td>\n      <td>0.0</td>\n      <td>0.000000</td>\n      <td>0.0</td>\n      <td>0.000000</td>\n      <td>0.0</td>\n      <td>0.000000</td>\n      <td>0.000053</td>\n      <td>...</td>\n      <td>0.000000</td>\n      <td>0.008622</td>\n      <td>0.007377</td>\n      <td>0.0</td>\n      <td>0.000000</td>\n      <td>0.0</td>\n      <td>0.000000</td>\n      <td>0.000004</td>\n      <td>0.000000</td>\n      <td>0.005833</td>\n    </tr>\n    <tr>\n      <th>4</th>\n      <td>0.4</td>\n      <td>0.0</td>\n      <td>0.000000</td>\n      <td>0.0</td>\n      <td>0.000000</td>\n      <td>0.0</td>\n      <td>0.000000</td>\n      <td>0.0</td>\n      <td>0.000000</td>\n      <td>0.000000</td>\n      <td>...</td>\n      <td>0.000000</td>\n      <td>0.000001</td>\n      <td>0.000002</td>\n      <td>0.0</td>\n      <td>0.000000</td>\n      <td>0.0</td>\n      <td>0.000000</td>\n      <td>0.000000</td>\n      <td>0.000000</td>\n      <td>0.000000</td>\n    </tr>\n    <tr>\n      <th>...</th>\n      <td>...</td>\n      <td>...</td>\n      <td>...</td>\n      <td>...</td>\n      <td>...</td>\n      <td>...</td>\n      <td>...</td>\n      <td>...</td>\n      <td>...</td>\n      <td>...</td>\n      <td>...</td>\n      <td>...</td>\n      <td>...</td>\n      <td>...</td>\n      <td>...</td>\n      <td>...</td>\n      <td>...</td>\n      <td>...</td>\n      <td>...</td>\n      <td>...</td>\n      <td>...</td>\n    </tr>\n    <tr>\n      <th>33121</th>\n      <td>0.3</td>\n      <td>0.0</td>\n      <td>0.000000</td>\n      <td>0.0</td>\n      <td>0.000017</td>\n      <td>0.0</td>\n      <td>0.000000</td>\n      <td>0.0</td>\n      <td>0.003955</td>\n      <td>0.003920</td>\n      <td>...</td>\n      <td>0.000021</td>\n      <td>0.000587</td>\n      <td>0.000826</td>\n      <td>0.0</td>\n      <td>0.000000</td>\n      <td>0.0</td>\n      <td>0.000258</td>\n      <td>0.000201</td>\n      <td>0.056286</td>\n      <td>0.000678</td>\n    </tr>\n    <tr>\n      <th>33122</th>\n      <td>0.3</td>\n      <td>0.0</td>\n      <td>0.000000</td>\n      <td>0.0</td>\n      <td>0.004243</td>\n      <td>0.0</td>\n      <td>0.000000</td>\n      <td>0.0</td>\n      <td>0.015965</td>\n      <td>0.001492</td>\n      <td>...</td>\n      <td>0.000434</td>\n      <td>0.002577</td>\n      <td>0.003631</td>\n      <td>0.0</td>\n      <td>0.000000</td>\n      <td>0.0</td>\n      <td>0.000830</td>\n      <td>0.001064</td>\n      <td>0.000000</td>\n      <td>0.004937</td>\n    </tr>\n    <tr>\n      <th>33123</th>\n      <td>0.3</td>\n      <td>0.0</td>\n      <td>0.000234</td>\n      <td>0.0</td>\n      <td>0.000017</td>\n      <td>0.0</td>\n      <td>0.010992</td>\n      <td>0.0</td>\n      <td>0.005341</td>\n      <td>0.019265</td>\n      <td>...</td>\n      <td>0.000079</td>\n      <td>0.001915</td>\n      <td>0.002099</td>\n      <td>0.0</td>\n      <td>0.000269</td>\n      <td>0.0</td>\n      <td>0.001392</td>\n      <td>0.001135</td>\n      <td>0.643624</td>\n      <td>0.005959</td>\n    </tr>\n    <tr>\n      <th>33124</th>\n      <td>0.4</td>\n      <td>0.0</td>\n      <td>0.002975</td>\n      <td>0.0</td>\n      <td>0.000022</td>\n      <td>0.0</td>\n      <td>0.006861</td>\n      <td>0.0</td>\n      <td>0.002435</td>\n      <td>0.000111</td>\n      <td>...</td>\n      <td>0.000013</td>\n      <td>0.000576</td>\n      <td>0.000811</td>\n      <td>0.0</td>\n      <td>0.000034</td>\n      <td>0.0</td>\n      <td>0.000111</td>\n      <td>0.000035</td>\n      <td>0.140464</td>\n      <td>0.003982</td>\n    </tr>\n    <tr>\n      <th>33125</th>\n      <td>0.4</td>\n      <td>0.0</td>\n      <td>0.000000</td>\n      <td>0.0</td>\n      <td>0.000075</td>\n      <td>0.0</td>\n      <td>0.000000</td>\n      <td>0.0</td>\n      <td>0.020172</td>\n      <td>0.004468</td>\n      <td>...</td>\n      <td>0.000691</td>\n      <td>0.001170</td>\n      <td>0.001592</td>\n      <td>0.0</td>\n      <td>0.000000</td>\n      <td>0.0</td>\n      <td>0.014190</td>\n      <td>0.000300</td>\n      <td>0.055730</td>\n      <td>0.004437</td>\n    </tr>\n  </tbody>\n</table>\n<p>33126 rows × 50 columns</p>\n</div>"
     },
     "execution_count": 16,
     "metadata": {},
     "output_type": "execute_result"
    }
   ],
   "source": [
    "# sm_x = sm_x[sm_x.columns[rfe_columns]]\n",
    "sm_x"
   ],
   "metadata": {
    "collapsed": false
   }
  },
  {
   "cell_type": "code",
   "execution_count": 17,
   "outputs": [
    {
     "name": "stderr",
     "output_type": "stream",
     "text": [
      "C:\\Users\\EDWINS~1\\AppData\\Local\\Temp/ipykernel_17980/965348609.py:68: DataConversionWarning: A column-vector y was passed when a 1d array was expected. Please change the shape of y to (n_samples,), for example using ravel().\n",
      "  LR_model.fit(x_train, y_train)\n"
     ]
    },
    {
     "name": "stdout",
     "output_type": "stream",
     "text": [
      "0.9999442244408501  0.9896269031286599\n",
      "[[5912    2]\n",
      " [  60    3]]\n"
     ]
    }
   ],
   "source": [
    "RF = LR_training(train_x, train_y, RF)"
   ],
   "metadata": {
    "collapsed": false
   }
  },
  {
   "cell_type": "code",
   "execution_count": 18,
   "outputs": [
    {
     "name": "stderr",
     "output_type": "stream",
     "text": [
      "C:\\Users\\EDWINS~1\\AppData\\Local\\Temp/ipykernel_17980/965348609.py:68: DataConversionWarning: A column-vector y was passed when a 1d array was expected. Please change the shape of y to (n_samples,), for example using ravel().\n",
      "  LR_model.fit(x_train, y_train)\n"
     ]
    },
    {
     "name": "stdout",
     "output_type": "stream",
     "text": [
      "0.9999597488327161  0.9905819850277711\n",
      "[[4030   68]\n",
      " [  10 4174]]\n"
     ]
    }
   ],
   "source": [
    "RF = LR_training(sm_x, sm_y, RF)"
   ],
   "metadata": {
    "collapsed": false
   }
  },
  {
   "cell_type": "code",
   "execution_count": 19,
   "outputs": [
    {
     "name": "stdout",
     "output_type": "stream",
     "text": [
      "0.9905881368694052\n",
      "[[23492   180]\n",
      " [   45   189]]\n",
      "              precision    recall  f1-score   support\n",
      "\n",
      "           0       1.00      0.99      1.00     23672\n",
      "           1       0.51      0.81      0.63       234\n",
      "\n",
      "    accuracy                           0.99     23906\n",
      "   macro avg       0.76      0.90      0.81     23906\n",
      "weighted avg       0.99      0.99      0.99     23906\n",
      "\n"
     ]
    }
   ],
   "source": [
    "# Training Evaluation: DONT USE RFE IN RF\n",
    "# train_x_rfe = train_x[train_x.columns[rfe_columns]]\n",
    "LR_test(train_x, train_y, RF)\n"
   ],
   "metadata": {
    "collapsed": false
   }
  },
  {
   "cell_type": "code",
   "execution_count": 20,
   "outputs": [
    {
     "name": "stdout",
     "output_type": "stream",
     "text": [
      "Fitting 3 folds for each of 100 candidates, totalling 300 fits\n"
     ]
    },
    {
     "name": "stderr",
     "output_type": "stream",
     "text": [
      "C:\\Software\\Anaconda3\\lib\\site-packages\\sklearn\\model_selection\\_search.py:910: DataConversionWarning: A column-vector y was passed when a 1d array was expected. Please change the shape of y to (n_samples,), for example using ravel().\n",
      "  self.best_estimator_.fit(X, y, **fit_params)\n",
      "C:\\Software\\Anaconda3\\lib\\site-packages\\sklearn\\ensemble\\_forest.py:427: FutureWarning: `max_features='auto'` has been deprecated in 1.1 and will be removed in 1.3. To keep the past behaviour, explicitly set `max_features='sqrt'` or remove this parameter as it is also the default value for RandomForestClassifiers and ExtraTreesClassifiers.\n",
      "  warn(\n"
     ]
    },
    {
     "data": {
      "text/plain": "{'n_estimators': 1400,\n 'min_samples_split': 2,\n 'min_samples_leaf': 1,\n 'max_features': 'auto',\n 'max_depth': 40,\n 'bootstrap': False}"
     },
     "execution_count": 20,
     "metadata": {},
     "output_type": "execute_result"
    }
   ],
   "source": [
    "# Fine-tuning test\n",
    "\n",
    "from sklearn.model_selection import GridSearchCV\n",
    "from sklearn.model_selection import RandomizedSearchCV\n",
    "import numpy as np\n",
    "\n",
    "n_estimators = [int(x) for x in np.linspace(start = 200, stop = 2000, num = 10)]\n",
    "max_features = ['auto', 'sqrt']\n",
    "max_depth = [int(x) for x in np.linspace(10, 110, num = 11)]\n",
    "max_depth.append(None)\n",
    "min_samples_split = [2, 5, 10]\n",
    "min_samples_leaf = [1, 2, 4]\n",
    "bootstrap = [True, False]\n",
    "\n",
    "random_grid = {'n_estimators': n_estimators,\n",
    "               'max_features': max_features,\n",
    "               'max_depth': max_depth,\n",
    "               'min_samples_split': min_samples_split,\n",
    "               'min_samples_leaf': min_samples_leaf,\n",
    "               'bootstrap': bootstrap}\n",
    "\n",
    "RF_search = RandomForestClassifier()\n",
    "RF_random = RandomizedSearchCV(estimator = RF_search, param_distributions = random_grid, n_iter = 100, cv = 3, verbose=2, random_state=42, n_jobs = -1)\n",
    "RF_random.fit(sm_x, sm_y)\n",
    "RF_random.best_params_"
   ],
   "metadata": {
    "collapsed": false
   }
  },
  {
   "cell_type": "code",
   "execution_count": 21,
   "outputs": [
    {
     "name": "stdout",
     "output_type": "stream",
     "text": [
      "0.9951894921776959\n",
      "[[23600    72]\n",
      " [   43   191]]\n",
      "              precision    recall  f1-score   support\n",
      "\n",
      "           0       1.00      1.00      1.00     23672\n",
      "           1       0.73      0.82      0.77       234\n",
      "\n",
      "    accuracy                           1.00     23906\n",
      "   macro avg       0.86      0.91      0.88     23906\n",
      "weighted avg       1.00      1.00      1.00     23906\n",
      "\n"
     ]
    }
   ],
   "source": [
    "# Test\n",
    "# train_x_rfe = train_x[train_x.columns[rfe_columns]]\n",
    "\n",
    "\n",
    "# {'n_estimators': 1000,\n",
    "#  'min_samples_split': 2,\n",
    "#  'min_samples_leaf': 1,\n",
    "#  'max_features': 'auto',\n",
    "#  'max_depth': 50,\n",
    "#  'bootstrap': False}\n",
    "\n",
    "\n",
    "# {'n_estimators': 400,\n",
    "#  'min_samples_split': 2,\n",
    "#  'min_samples_leaf': 1,\n",
    "#  'max_features': 'sqrt',\n",
    "#  'max_depth': None,\n",
    "#  'bootstrap': False}\n",
    "\n",
    "#best param\n",
    "# RF_random = RandomForestClassifier(n_estimators=1000, min_samples_split=2, min_samples_leaf=1, max_features='sqrt', max_depth=50, bootstrap=False)\n",
    "# RF_random.fit(sm_x, sm_y)\n",
    "ori_train_x_normal = normalize_mms(ori_train_x)\n",
    "LR_test(ori_train_x_normal, ori_train_y, RF_random)"
   ],
   "metadata": {
    "collapsed": false
   }
  },
  {
   "cell_type": "code",
   "execution_count": 22,
   "outputs": [
    {
     "name": "stderr",
     "output_type": "stream",
     "text": [
      "Progress Bar: 100%|██████████| 3850/3850 [02:08<00:00, 29.86it/s]\n"
     ]
    },
    {
     "data": {
      "text/plain": "      AGE  alert_key        avg_tx  count_tx  \\\n0     3.0     357307  3.715794e+04     280.0   \n1     NaN     376329           NaN       NaN   \n2     NaN     373644           NaN       NaN   \n3     5.0     357668  3.953497e+05     356.0   \n4     3.0     354443  1.391112e+06     243.0   \n...   ...        ...           ...       ...   \n3845  2.0     364485  2.116042e+04     339.0   \n3846  2.0     363155  1.021493e+06     530.0   \n3847  NaN     368710           NaN       NaN   \n3848  3.0     358067  2.265351e+06     309.0   \n3849  NaN     372119           NaN       NaN   \n\n                                                cust_id   date  \\\n0     1d69b4daf9c5c8b8d68b1776193b6e80bf2e84c999d038...  370.0   \n1                                                   NaN    NaN   \n2                                                   NaN    NaN   \n3     8b51184740375f7ccdd68484aeeaca44c5892818eda908...  370.0   \n4     c6def618ad861703c025be4f41bdf7569310228ae93aef...  372.0   \n...                                                 ...    ...   \n3845  f41c0860cf0cb5e7b72b0ced16ab427a06fc0ad3fc0f71...  393.0   \n3846  823fc5ce48cd827628ce0d1c574e6c3582cb772cf6173a...  392.0   \n3847                                                NaN    NaN   \n3848  33ff49ea8a07c6d1b7cc203dcc3638ebde62dfb960a169...  382.0   \n3849                                                NaN    NaN   \n\n      occupation_code  risk_rank        std_tx  total_asset      total_tx  \\\n0                 4.0        1.0  1.134937e+05    2588452.0  1.040422e+07   \n1                 NaN        NaN           NaN          NaN           NaN   \n2                 NaN        NaN           NaN          NaN           NaN   \n3                19.0        1.0  3.312853e+06    1964540.0  1.407445e+08   \n4                 2.0        1.0  5.941655e+06     444392.0  3.380401e+08   \n...               ...        ...           ...          ...           ...   \n3845             17.0        1.0  4.365511e+04     644169.0  7.173381e+06   \n3846             17.0        1.0  4.010326e+06     114439.0  5.413915e+08   \n3847              NaN        NaN           NaN          NaN           NaN   \n3848              9.0        1.0  7.909179e+06     367478.0  6.999934e+08   \n3849              NaN        NaN           NaN          NaN           NaN   \n\n      tx_per_day  \n0       1.756757  \n1            NaN  \n2            NaN  \n3       1.962162  \n4       1.653226  \n...          ...  \n3845    1.862595  \n3846    2.352041  \n3847         NaN  \n3848    1.808901  \n3849         NaN  \n\n[3850 rows x 12 columns]",
      "text/html": "<div>\n<style scoped>\n    .dataframe tbody tr th:only-of-type {\n        vertical-align: middle;\n    }\n\n    .dataframe tbody tr th {\n        vertical-align: top;\n    }\n\n    .dataframe thead th {\n        text-align: right;\n    }\n</style>\n<table border=\"1\" class=\"dataframe\">\n  <thead>\n    <tr style=\"text-align: right;\">\n      <th></th>\n      <th>AGE</th>\n      <th>alert_key</th>\n      <th>avg_tx</th>\n      <th>count_tx</th>\n      <th>cust_id</th>\n      <th>date</th>\n      <th>occupation_code</th>\n      <th>risk_rank</th>\n      <th>std_tx</th>\n      <th>total_asset</th>\n      <th>total_tx</th>\n      <th>tx_per_day</th>\n    </tr>\n  </thead>\n  <tbody>\n    <tr>\n      <th>0</th>\n      <td>3.0</td>\n      <td>357307</td>\n      <td>3.715794e+04</td>\n      <td>280.0</td>\n      <td>1d69b4daf9c5c8b8d68b1776193b6e80bf2e84c999d038...</td>\n      <td>370.0</td>\n      <td>4.0</td>\n      <td>1.0</td>\n      <td>1.134937e+05</td>\n      <td>2588452.0</td>\n      <td>1.040422e+07</td>\n      <td>1.756757</td>\n    </tr>\n    <tr>\n      <th>1</th>\n      <td>NaN</td>\n      <td>376329</td>\n      <td>NaN</td>\n      <td>NaN</td>\n      <td>NaN</td>\n      <td>NaN</td>\n      <td>NaN</td>\n      <td>NaN</td>\n      <td>NaN</td>\n      <td>NaN</td>\n      <td>NaN</td>\n      <td>NaN</td>\n    </tr>\n    <tr>\n      <th>2</th>\n      <td>NaN</td>\n      <td>373644</td>\n      <td>NaN</td>\n      <td>NaN</td>\n      <td>NaN</td>\n      <td>NaN</td>\n      <td>NaN</td>\n      <td>NaN</td>\n      <td>NaN</td>\n      <td>NaN</td>\n      <td>NaN</td>\n      <td>NaN</td>\n    </tr>\n    <tr>\n      <th>3</th>\n      <td>5.0</td>\n      <td>357668</td>\n      <td>3.953497e+05</td>\n      <td>356.0</td>\n      <td>8b51184740375f7ccdd68484aeeaca44c5892818eda908...</td>\n      <td>370.0</td>\n      <td>19.0</td>\n      <td>1.0</td>\n      <td>3.312853e+06</td>\n      <td>1964540.0</td>\n      <td>1.407445e+08</td>\n      <td>1.962162</td>\n    </tr>\n    <tr>\n      <th>4</th>\n      <td>3.0</td>\n      <td>354443</td>\n      <td>1.391112e+06</td>\n      <td>243.0</td>\n      <td>c6def618ad861703c025be4f41bdf7569310228ae93aef...</td>\n      <td>372.0</td>\n      <td>2.0</td>\n      <td>1.0</td>\n      <td>5.941655e+06</td>\n      <td>444392.0</td>\n      <td>3.380401e+08</td>\n      <td>1.653226</td>\n    </tr>\n    <tr>\n      <th>...</th>\n      <td>...</td>\n      <td>...</td>\n      <td>...</td>\n      <td>...</td>\n      <td>...</td>\n      <td>...</td>\n      <td>...</td>\n      <td>...</td>\n      <td>...</td>\n      <td>...</td>\n      <td>...</td>\n      <td>...</td>\n    </tr>\n    <tr>\n      <th>3845</th>\n      <td>2.0</td>\n      <td>364485</td>\n      <td>2.116042e+04</td>\n      <td>339.0</td>\n      <td>f41c0860cf0cb5e7b72b0ced16ab427a06fc0ad3fc0f71...</td>\n      <td>393.0</td>\n      <td>17.0</td>\n      <td>1.0</td>\n      <td>4.365511e+04</td>\n      <td>644169.0</td>\n      <td>7.173381e+06</td>\n      <td>1.862595</td>\n    </tr>\n    <tr>\n      <th>3846</th>\n      <td>2.0</td>\n      <td>363155</td>\n      <td>1.021493e+06</td>\n      <td>530.0</td>\n      <td>823fc5ce48cd827628ce0d1c574e6c3582cb772cf6173a...</td>\n      <td>392.0</td>\n      <td>17.0</td>\n      <td>1.0</td>\n      <td>4.010326e+06</td>\n      <td>114439.0</td>\n      <td>5.413915e+08</td>\n      <td>2.352041</td>\n    </tr>\n    <tr>\n      <th>3847</th>\n      <td>NaN</td>\n      <td>368710</td>\n      <td>NaN</td>\n      <td>NaN</td>\n      <td>NaN</td>\n      <td>NaN</td>\n      <td>NaN</td>\n      <td>NaN</td>\n      <td>NaN</td>\n      <td>NaN</td>\n      <td>NaN</td>\n      <td>NaN</td>\n    </tr>\n    <tr>\n      <th>3848</th>\n      <td>3.0</td>\n      <td>358067</td>\n      <td>2.265351e+06</td>\n      <td>309.0</td>\n      <td>33ff49ea8a07c6d1b7cc203dcc3638ebde62dfb960a169...</td>\n      <td>382.0</td>\n      <td>9.0</td>\n      <td>1.0</td>\n      <td>7.909179e+06</td>\n      <td>367478.0</td>\n      <td>6.999934e+08</td>\n      <td>1.808901</td>\n    </tr>\n    <tr>\n      <th>3849</th>\n      <td>NaN</td>\n      <td>372119</td>\n      <td>NaN</td>\n      <td>NaN</td>\n      <td>NaN</td>\n      <td>NaN</td>\n      <td>NaN</td>\n      <td>NaN</td>\n      <td>NaN</td>\n      <td>NaN</td>\n      <td>NaN</td>\n      <td>NaN</td>\n    </tr>\n  </tbody>\n</table>\n<p>3850 rows × 12 columns</p>\n</div>"
     },
     "execution_count": 22,
     "metadata": {},
     "output_type": "execute_result"
    }
   ],
   "source": [
    "# Test\n",
    "xdp = df_from_csv('ori_xdp.csv')\n",
    "\n",
    "test_xdp = df_from_csv('submit_format.csv')\n",
    "test_xdp = test_xdp.drop(['probability'], axis=1)\n",
    "test_xdp = test_xdp.merge(alert_date, on='alert_key', how='left')\n",
    "test_xdp = test_xdp.merge(alert_cust, on='alert_key', how='left')\n",
    "test_xdp = test_xdp.progress_apply(calculate_tx, axis=1)\n",
    "test_xdp"
   ],
   "metadata": {
    "collapsed": false
   }
  },
  {
   "cell_type": "code",
   "execution_count": 23,
   "outputs": [
    {
     "data": {
      "text/plain": "        AGE  avg_amt_nontw_nonntd  avg_amt_nontw_ntd  avg_amt_tw_nonntd  \\\n0     0.250              0.000000           0.000000                0.0   \n3     0.500              0.000000           0.000000                0.0   \n4     0.250              0.000000           0.004095                0.0   \n5     0.375              0.000000           0.004175                0.0   \n6     0.250              0.000000           0.000000                0.0   \n...     ...                   ...                ...                ...   \n3842  0.375              0.000000           0.000000                0.0   \n3844  0.625              0.000000           0.000000                0.0   \n3845  0.125              0.001118           0.009599                0.0   \n3846  0.125              0.000000           0.007782                0.0   \n3848  0.250              0.000000           0.000000                0.0   \n\n      avg_amt_tw_ntd  avg_freq_nontw_nonntd  avg_freq_nontw_ntd  \\\n0           0.009252               0.000000            0.000000   \n3           0.000204               0.000000            0.000000   \n4           0.000036               0.000000            0.112200   \n5           0.000037               0.000000            0.112200   \n6           0.000000               0.000000            0.000000   \n...              ...                    ...                 ...   \n3842        0.000000               0.000000            0.000000   \n3844        0.000443               0.000000            0.000000   \n3845        0.000108               0.054348            0.115600   \n3846        0.000155               0.000000            0.115233   \n3848        0.000000               0.000000            0.000000   \n\n      avg_freq_tw_nonntd  avg_freq_tw_ntd    avg_tx  ...  total_amt_tw_ntd  \\\n0                    0.0         0.018408  0.002079  ...          0.098068   \n3                    0.0         0.016324  0.022120  ...          0.000327   \n4                    0.0         0.028396  0.077833  ...          0.001485   \n5                    0.0         0.042043  0.008877  ...          0.002010   \n6                    0.0         0.000000  0.012880  ...          0.000000   \n...                  ...              ...       ...  ...               ...   \n3842                 0.0         0.000000  0.000000  ...          0.000000   \n3844                 0.0         0.018089  0.002789  ...          0.003633   \n3845                 0.0         0.033196  0.001184  ...          0.013083   \n3846                 0.0         0.022280  0.057153  ...          0.003137   \n3848                 0.0         0.000000  0.126747  ...          0.000000   \n\n      total_asset_x  total_asset_y  total_freq_nontw_nonntd  \\\n0          0.133775       0.150170                 0.000000   \n3          0.101530       0.113974                 0.000000   \n4          0.022967       0.021281                 0.000000   \n5          0.017026       0.018172                 0.000000   \n6          0.016757       0.018810                 0.000000   \n...             ...            ...                      ...   \n3842       0.000000       0.000000                 0.000000   \n3844       0.020827       0.030088                 0.000000   \n3845       0.033291       0.037372                 0.000138   \n3846       0.005914       0.010011                 0.000000   \n3848       0.018992       0.023327                 0.000000   \n\n      total_freq_nontw_ntd  total_freq_tw_nonntd  total_freq_tw_ntd  total_tx  \\\n0                  0.00000                   0.0           0.007458  0.001114   \n3                  0.00000                   0.0           0.001126  0.015066   \n4                  0.00123                   0.0           0.029130  0.036186   \n5                  0.00369                   0.0           0.038418  0.004807   \n6                  0.00000                   0.0           0.000000  0.002366   \n...                    ...                   ...                ...       ...   \n3842               0.00000                   0.0           0.000000  0.000000   \n3844               0.00000                   0.0           0.005770  0.000459   \n3845               0.02091                   0.0           0.085280  0.000768   \n3846               0.02337                   0.0           0.014213  0.057954   \n3848               0.00000                   0.0           0.000000  0.074932   \n\n      trade_sum  tx_per_day  \n0      0.000000    0.002202  \n3      0.000131    0.002800  \n4      0.063476    0.001901  \n5      0.054310    0.002117  \n6      0.019646    0.000711  \n...         ...         ...  \n3842   0.000000    0.000000  \n3844   0.185010    0.000648  \n3845   0.000000    0.002510  \n3846   0.085655    0.003935  \n3848   0.046544    0.002354  \n\n[1845 rows x 50 columns]",
      "text/html": "<div>\n<style scoped>\n    .dataframe tbody tr th:only-of-type {\n        vertical-align: middle;\n    }\n\n    .dataframe tbody tr th {\n        vertical-align: top;\n    }\n\n    .dataframe thead th {\n        text-align: right;\n    }\n</style>\n<table border=\"1\" class=\"dataframe\">\n  <thead>\n    <tr style=\"text-align: right;\">\n      <th></th>\n      <th>AGE</th>\n      <th>avg_amt_nontw_nonntd</th>\n      <th>avg_amt_nontw_ntd</th>\n      <th>avg_amt_tw_nonntd</th>\n      <th>avg_amt_tw_ntd</th>\n      <th>avg_freq_nontw_nonntd</th>\n      <th>avg_freq_nontw_ntd</th>\n      <th>avg_freq_tw_nonntd</th>\n      <th>avg_freq_tw_ntd</th>\n      <th>avg_tx</th>\n      <th>...</th>\n      <th>total_amt_tw_ntd</th>\n      <th>total_asset_x</th>\n      <th>total_asset_y</th>\n      <th>total_freq_nontw_nonntd</th>\n      <th>total_freq_nontw_ntd</th>\n      <th>total_freq_tw_nonntd</th>\n      <th>total_freq_tw_ntd</th>\n      <th>total_tx</th>\n      <th>trade_sum</th>\n      <th>tx_per_day</th>\n    </tr>\n  </thead>\n  <tbody>\n    <tr>\n      <th>0</th>\n      <td>0.250</td>\n      <td>0.000000</td>\n      <td>0.000000</td>\n      <td>0.0</td>\n      <td>0.009252</td>\n      <td>0.000000</td>\n      <td>0.000000</td>\n      <td>0.0</td>\n      <td>0.018408</td>\n      <td>0.002079</td>\n      <td>...</td>\n      <td>0.098068</td>\n      <td>0.133775</td>\n      <td>0.150170</td>\n      <td>0.000000</td>\n      <td>0.00000</td>\n      <td>0.0</td>\n      <td>0.007458</td>\n      <td>0.001114</td>\n      <td>0.000000</td>\n      <td>0.002202</td>\n    </tr>\n    <tr>\n      <th>3</th>\n      <td>0.500</td>\n      <td>0.000000</td>\n      <td>0.000000</td>\n      <td>0.0</td>\n      <td>0.000204</td>\n      <td>0.000000</td>\n      <td>0.000000</td>\n      <td>0.0</td>\n      <td>0.016324</td>\n      <td>0.022120</td>\n      <td>...</td>\n      <td>0.000327</td>\n      <td>0.101530</td>\n      <td>0.113974</td>\n      <td>0.000000</td>\n      <td>0.00000</td>\n      <td>0.0</td>\n      <td>0.001126</td>\n      <td>0.015066</td>\n      <td>0.000131</td>\n      <td>0.002800</td>\n    </tr>\n    <tr>\n      <th>4</th>\n      <td>0.250</td>\n      <td>0.000000</td>\n      <td>0.004095</td>\n      <td>0.0</td>\n      <td>0.000036</td>\n      <td>0.000000</td>\n      <td>0.112200</td>\n      <td>0.0</td>\n      <td>0.028396</td>\n      <td>0.077833</td>\n      <td>...</td>\n      <td>0.001485</td>\n      <td>0.022967</td>\n      <td>0.021281</td>\n      <td>0.000000</td>\n      <td>0.00123</td>\n      <td>0.0</td>\n      <td>0.029130</td>\n      <td>0.036186</td>\n      <td>0.063476</td>\n      <td>0.001901</td>\n    </tr>\n    <tr>\n      <th>5</th>\n      <td>0.375</td>\n      <td>0.000000</td>\n      <td>0.004175</td>\n      <td>0.0</td>\n      <td>0.000037</td>\n      <td>0.000000</td>\n      <td>0.112200</td>\n      <td>0.0</td>\n      <td>0.042043</td>\n      <td>0.008877</td>\n      <td>...</td>\n      <td>0.002010</td>\n      <td>0.017026</td>\n      <td>0.018172</td>\n      <td>0.000000</td>\n      <td>0.00369</td>\n      <td>0.0</td>\n      <td>0.038418</td>\n      <td>0.004807</td>\n      <td>0.054310</td>\n      <td>0.002117</td>\n    </tr>\n    <tr>\n      <th>6</th>\n      <td>0.250</td>\n      <td>0.000000</td>\n      <td>0.000000</td>\n      <td>0.0</td>\n      <td>0.000000</td>\n      <td>0.000000</td>\n      <td>0.000000</td>\n      <td>0.0</td>\n      <td>0.000000</td>\n      <td>0.012880</td>\n      <td>...</td>\n      <td>0.000000</td>\n      <td>0.016757</td>\n      <td>0.018810</td>\n      <td>0.000000</td>\n      <td>0.00000</td>\n      <td>0.0</td>\n      <td>0.000000</td>\n      <td>0.002366</td>\n      <td>0.019646</td>\n      <td>0.000711</td>\n    </tr>\n    <tr>\n      <th>...</th>\n      <td>...</td>\n      <td>...</td>\n      <td>...</td>\n      <td>...</td>\n      <td>...</td>\n      <td>...</td>\n      <td>...</td>\n      <td>...</td>\n      <td>...</td>\n      <td>...</td>\n      <td>...</td>\n      <td>...</td>\n      <td>...</td>\n      <td>...</td>\n      <td>...</td>\n      <td>...</td>\n      <td>...</td>\n      <td>...</td>\n      <td>...</td>\n      <td>...</td>\n      <td>...</td>\n    </tr>\n    <tr>\n      <th>3842</th>\n      <td>0.375</td>\n      <td>0.000000</td>\n      <td>0.000000</td>\n      <td>0.0</td>\n      <td>0.000000</td>\n      <td>0.000000</td>\n      <td>0.000000</td>\n      <td>0.0</td>\n      <td>0.000000</td>\n      <td>0.000000</td>\n      <td>...</td>\n      <td>0.000000</td>\n      <td>0.000000</td>\n      <td>0.000000</td>\n      <td>0.000000</td>\n      <td>0.00000</td>\n      <td>0.0</td>\n      <td>0.000000</td>\n      <td>0.000000</td>\n      <td>0.000000</td>\n      <td>0.000000</td>\n    </tr>\n    <tr>\n      <th>3844</th>\n      <td>0.625</td>\n      <td>0.000000</td>\n      <td>0.000000</td>\n      <td>0.0</td>\n      <td>0.000443</td>\n      <td>0.000000</td>\n      <td>0.000000</td>\n      <td>0.0</td>\n      <td>0.018089</td>\n      <td>0.002789</td>\n      <td>...</td>\n      <td>0.003633</td>\n      <td>0.020827</td>\n      <td>0.030088</td>\n      <td>0.000000</td>\n      <td>0.00000</td>\n      <td>0.0</td>\n      <td>0.005770</td>\n      <td>0.000459</td>\n      <td>0.185010</td>\n      <td>0.000648</td>\n    </tr>\n    <tr>\n      <th>3845</th>\n      <td>0.125</td>\n      <td>0.001118</td>\n      <td>0.009599</td>\n      <td>0.0</td>\n      <td>0.000108</td>\n      <td>0.054348</td>\n      <td>0.115600</td>\n      <td>0.0</td>\n      <td>0.033196</td>\n      <td>0.001184</td>\n      <td>...</td>\n      <td>0.013083</td>\n      <td>0.033291</td>\n      <td>0.037372</td>\n      <td>0.000138</td>\n      <td>0.02091</td>\n      <td>0.0</td>\n      <td>0.085280</td>\n      <td>0.000768</td>\n      <td>0.000000</td>\n      <td>0.002510</td>\n    </tr>\n    <tr>\n      <th>3846</th>\n      <td>0.125</td>\n      <td>0.000000</td>\n      <td>0.007782</td>\n      <td>0.0</td>\n      <td>0.000155</td>\n      <td>0.000000</td>\n      <td>0.115233</td>\n      <td>0.0</td>\n      <td>0.022280</td>\n      <td>0.057153</td>\n      <td>...</td>\n      <td>0.003137</td>\n      <td>0.005914</td>\n      <td>0.010011</td>\n      <td>0.000000</td>\n      <td>0.02337</td>\n      <td>0.0</td>\n      <td>0.014213</td>\n      <td>0.057954</td>\n      <td>0.085655</td>\n      <td>0.003935</td>\n    </tr>\n    <tr>\n      <th>3848</th>\n      <td>0.250</td>\n      <td>0.000000</td>\n      <td>0.000000</td>\n      <td>0.0</td>\n      <td>0.000000</td>\n      <td>0.000000</td>\n      <td>0.000000</td>\n      <td>0.0</td>\n      <td>0.000000</td>\n      <td>0.126747</td>\n      <td>...</td>\n      <td>0.000000</td>\n      <td>0.018992</td>\n      <td>0.023327</td>\n      <td>0.000000</td>\n      <td>0.00000</td>\n      <td>0.0</td>\n      <td>0.000000</td>\n      <td>0.074932</td>\n      <td>0.046544</td>\n      <td>0.002354</td>\n    </tr>\n  </tbody>\n</table>\n<p>1845 rows × 50 columns</p>\n</div>"
     },
     "execution_count": 23,
     "metadata": {},
     "output_type": "execute_result"
    }
   ],
   "source": [
    "# Test\n",
    "test = df_from_csv('submit_format.csv')\n",
    "test = test.drop(['probability'], axis=1)\n",
    "test = test.merge(test_xdp, on='alert_key', how='left')\n",
    "test = test.merge(ccba, on='cust_id', how='left')\n",
    "test = test.merge(cdtx, on='cust_id', how='left')\n",
    "test = test.merge(remit, on='alert_key', how='left')\n",
    "test = test.drop(['alert_key', 'cust_id', 'occupation_code', 'total_asset', 'date'], axis=1)\n",
    "test['bad_value'] = test.isnull().sum(axis=1) + (test == 0).astype(int).sum(axis=1)\n",
    "test = test.loc[test['bad_value'] < 50]\n",
    "test.iloc[:, :] = test.iloc[:, :].fillna(0)\n",
    "test = test.drop(['bad_value'], axis=1)\n",
    "test = test.reindex(sorted(test.columns), axis=1)\n",
    "test = normalize_mms(test)\n",
    "test\n",
    "\n",
    "#test[test.columns.difference(train_x.columns.tolist(), sort=False)]"
   ],
   "metadata": {
    "collapsed": false
   }
  },
  {
   "cell_type": "code",
   "execution_count": 24,
   "outputs": [
    {
     "data": {
      "text/plain": "      probability\n0        0.193571\n3        0.062143\n4        0.092143\n5        0.098571\n6        0.007857\n...           ...\n3842     0.001183\n3844     0.046429\n3845     0.095714\n3846     0.090714\n3848     0.020714\n\n[1845 rows x 1 columns]",
      "text/html": "<div>\n<style scoped>\n    .dataframe tbody tr th:only-of-type {\n        vertical-align: middle;\n    }\n\n    .dataframe tbody tr th {\n        vertical-align: top;\n    }\n\n    .dataframe thead th {\n        text-align: right;\n    }\n</style>\n<table border=\"1\" class=\"dataframe\">\n  <thead>\n    <tr style=\"text-align: right;\">\n      <th></th>\n      <th>probability</th>\n    </tr>\n  </thead>\n  <tbody>\n    <tr>\n      <th>0</th>\n      <td>0.193571</td>\n    </tr>\n    <tr>\n      <th>3</th>\n      <td>0.062143</td>\n    </tr>\n    <tr>\n      <th>4</th>\n      <td>0.092143</td>\n    </tr>\n    <tr>\n      <th>5</th>\n      <td>0.098571</td>\n    </tr>\n    <tr>\n      <th>6</th>\n      <td>0.007857</td>\n    </tr>\n    <tr>\n      <th>...</th>\n      <td>...</td>\n    </tr>\n    <tr>\n      <th>3842</th>\n      <td>0.001183</td>\n    </tr>\n    <tr>\n      <th>3844</th>\n      <td>0.046429</td>\n    </tr>\n    <tr>\n      <th>3845</th>\n      <td>0.095714</td>\n    </tr>\n    <tr>\n      <th>3846</th>\n      <td>0.090714</td>\n    </tr>\n    <tr>\n      <th>3848</th>\n      <td>0.020714</td>\n    </tr>\n  </tbody>\n</table>\n<p>1845 rows × 1 columns</p>\n</div>"
     },
     "execution_count": 24,
     "metadata": {},
     "output_type": "execute_result"
    }
   ],
   "source": [
    "y_test = RF_random.predict_proba(test)\n",
    "y_test = pd.DataFrame(y_test, columns=['probability0','probability'])\n",
    "y_test = y_test.drop(['probability0'], axis=1)\n",
    "# y_test['probability'] = round(y_test['probability'], 6)\n",
    "y_test.index = test.index\n",
    "y_test"
   ],
   "metadata": {
    "collapsed": false
   }
  },
  {
   "cell_type": "code",
   "execution_count": 28,
   "outputs": [
    {
     "data": {
      "text/plain": "      probability\n1719     0.000000\n2212     0.000000\n1090     0.000000\n3161     0.000000\n86       0.000005\n...           ...\n2617     0.605371\n1467     0.606831\n2548     0.633711\n541      0.664775\n3472     0.714335\n\n[1845 rows x 1 columns]",
      "text/html": "<div>\n<style scoped>\n    .dataframe tbody tr th:only-of-type {\n        vertical-align: middle;\n    }\n\n    .dataframe tbody tr th {\n        vertical-align: top;\n    }\n\n    .dataframe thead th {\n        text-align: right;\n    }\n</style>\n<table border=\"1\" class=\"dataframe\">\n  <thead>\n    <tr style=\"text-align: right;\">\n      <th></th>\n      <th>probability</th>\n    </tr>\n  </thead>\n  <tbody>\n    <tr>\n      <th>1719</th>\n      <td>0.000000</td>\n    </tr>\n    <tr>\n      <th>2212</th>\n      <td>0.000000</td>\n    </tr>\n    <tr>\n      <th>1090</th>\n      <td>0.000000</td>\n    </tr>\n    <tr>\n      <th>3161</th>\n      <td>0.000000</td>\n    </tr>\n    <tr>\n      <th>86</th>\n      <td>0.000005</td>\n    </tr>\n    <tr>\n      <th>...</th>\n      <td>...</td>\n    </tr>\n    <tr>\n      <th>2617</th>\n      <td>0.605371</td>\n    </tr>\n    <tr>\n      <th>1467</th>\n      <td>0.606831</td>\n    </tr>\n    <tr>\n      <th>2548</th>\n      <td>0.633711</td>\n    </tr>\n    <tr>\n      <th>541</th>\n      <td>0.664775</td>\n    </tr>\n    <tr>\n      <th>3472</th>\n      <td>0.714335</td>\n    </tr>\n  </tbody>\n</table>\n<p>1845 rows × 1 columns</p>\n</div>"
     },
     "execution_count": 28,
     "metadata": {},
     "output_type": "execute_result"
    }
   ],
   "source": [
    "y_test.sort_values(by='probability', ascending=True)"
   ],
   "metadata": {
    "collapsed": false
   }
  },
  {
   "cell_type": "code",
   "execution_count": 31,
   "outputs": [
    {
     "data": {
      "text/plain": "      probability\n1719     0.000001\n2212     0.000001\n1090     0.000001\n3161     0.000001\n86       0.000005\n...           ...\n2617     0.605371\n1467     0.606831\n2548     0.633711\n541      0.664775\n3472     0.714335\n\n[1845 rows x 1 columns]",
      "text/html": "<div>\n<style scoped>\n    .dataframe tbody tr th:only-of-type {\n        vertical-align: middle;\n    }\n\n    .dataframe tbody tr th {\n        vertical-align: top;\n    }\n\n    .dataframe thead th {\n        text-align: right;\n    }\n</style>\n<table border=\"1\" class=\"dataframe\">\n  <thead>\n    <tr style=\"text-align: right;\">\n      <th></th>\n      <th>probability</th>\n    </tr>\n  </thead>\n  <tbody>\n    <tr>\n      <th>1719</th>\n      <td>0.000001</td>\n    </tr>\n    <tr>\n      <th>2212</th>\n      <td>0.000001</td>\n    </tr>\n    <tr>\n      <th>1090</th>\n      <td>0.000001</td>\n    </tr>\n    <tr>\n      <th>3161</th>\n      <td>0.000001</td>\n    </tr>\n    <tr>\n      <th>86</th>\n      <td>0.000005</td>\n    </tr>\n    <tr>\n      <th>...</th>\n      <td>...</td>\n    </tr>\n    <tr>\n      <th>2617</th>\n      <td>0.605371</td>\n    </tr>\n    <tr>\n      <th>1467</th>\n      <td>0.606831</td>\n    </tr>\n    <tr>\n      <th>2548</th>\n      <td>0.633711</td>\n    </tr>\n    <tr>\n      <th>541</th>\n      <td>0.664775</td>\n    </tr>\n    <tr>\n      <th>3472</th>\n      <td>0.714335</td>\n    </tr>\n  </tbody>\n</table>\n<p>1845 rows × 1 columns</p>\n</div>"
     },
     "execution_count": 31,
     "metadata": {},
     "output_type": "execute_result"
    }
   ],
   "source": [
    "y_test.loc[y_test['probability'] == 0, 'probability'] = 0.000001\n",
    "y_test.sort_values(by='probability', ascending=True)"
   ],
   "metadata": {
    "collapsed": false
   }
  },
  {
   "cell_type": "code",
   "execution_count": 25,
   "outputs": [
    {
     "data": {
      "text/plain": "      alert_key  probability\n3472     364978     0.714335\n541      364667     0.664775\n2548     354178     0.633711\n1467     364467     0.606831\n2617     361996     0.605371\n...         ...          ...\n1648     371071     0.000000\n1650     369630     0.000000\n1651     373443     0.000000\n1652     374325     0.000000\n3849     372119     0.000000\n\n[3850 rows x 2 columns]",
      "text/html": "<div>\n<style scoped>\n    .dataframe tbody tr th:only-of-type {\n        vertical-align: middle;\n    }\n\n    .dataframe tbody tr th {\n        vertical-align: top;\n    }\n\n    .dataframe thead th {\n        text-align: right;\n    }\n</style>\n<table border=\"1\" class=\"dataframe\">\n  <thead>\n    <tr style=\"text-align: right;\">\n      <th></th>\n      <th>alert_key</th>\n      <th>probability</th>\n    </tr>\n  </thead>\n  <tbody>\n    <tr>\n      <th>3472</th>\n      <td>364978</td>\n      <td>0.714335</td>\n    </tr>\n    <tr>\n      <th>541</th>\n      <td>364667</td>\n      <td>0.664775</td>\n    </tr>\n    <tr>\n      <th>2548</th>\n      <td>354178</td>\n      <td>0.633711</td>\n    </tr>\n    <tr>\n      <th>1467</th>\n      <td>364467</td>\n      <td>0.606831</td>\n    </tr>\n    <tr>\n      <th>2617</th>\n      <td>361996</td>\n      <td>0.605371</td>\n    </tr>\n    <tr>\n      <th>...</th>\n      <td>...</td>\n      <td>...</td>\n    </tr>\n    <tr>\n      <th>1648</th>\n      <td>371071</td>\n      <td>0.000000</td>\n    </tr>\n    <tr>\n      <th>1650</th>\n      <td>369630</td>\n      <td>0.000000</td>\n    </tr>\n    <tr>\n      <th>1651</th>\n      <td>373443</td>\n      <td>0.000000</td>\n    </tr>\n    <tr>\n      <th>1652</th>\n      <td>374325</td>\n      <td>0.000000</td>\n    </tr>\n    <tr>\n      <th>3849</th>\n      <td>372119</td>\n      <td>0.000000</td>\n    </tr>\n  </tbody>\n</table>\n<p>3850 rows × 2 columns</p>\n</div>"
     },
     "execution_count": 25,
     "metadata": {},
     "output_type": "execute_result"
    }
   ],
   "source": [
    "xy_test = pd.concat([test, y_test], axis=1)\n",
    "submit = df_from_csv('submit_format.csv')\n",
    "submit = submit.drop(columns=['probability'])\n",
    "submit = pd.concat([submit, xy_test], axis=1)\n",
    "submit = submit[['alert_key','probability']]\n",
    "submit['probability'] = submit['probability'].fillna(0)\n",
    "submit = submit.sort_values(by='probability', ascending=False)\n",
    "submit.to_csv('final_submit.csv')\n",
    "submit"
   ],
   "metadata": {
    "collapsed": false
   }
  },
  {
   "cell_type": "code",
   "execution_count": 26,
   "outputs": [
    {
     "data": {
      "text/plain": "alert_key      False\nprobability    False\ndtype: bool"
     },
     "execution_count": 26,
     "metadata": {},
     "output_type": "execute_result"
    }
   ],
   "source": [
    "submit.isnull().any()"
   ],
   "metadata": {
    "collapsed": false
   }
  },
  {
   "cell_type": "code",
   "execution_count": 27,
   "outputs": [
    {
     "data": {
      "text/plain": "Empty DataFrame\nColumns: [alert_key, probability]\nIndex: []",
      "text/html": "<div>\n<style scoped>\n    .dataframe tbody tr th:only-of-type {\n        vertical-align: middle;\n    }\n\n    .dataframe tbody tr th {\n        vertical-align: top;\n    }\n\n    .dataframe thead th {\n        text-align: right;\n    }\n</style>\n<table border=\"1\" class=\"dataframe\">\n  <thead>\n    <tr style=\"text-align: right;\">\n      <th></th>\n      <th>alert_key</th>\n      <th>probability</th>\n    </tr>\n  </thead>\n  <tbody>\n  </tbody>\n</table>\n</div>"
     },
     "execution_count": 27,
     "metadata": {},
     "output_type": "execute_result"
    }
   ],
   "source": [
    "submit.loc[submit.duplicated(keep=False)]"
   ],
   "metadata": {
    "collapsed": false
   }
  }
 ],
 "metadata": {
  "kernelspec": {
   "display_name": "Python 3",
   "language": "python",
   "name": "python3"
  },
  "language_info": {
   "codemirror_mode": {
    "name": "ipython",
    "version": 2
   },
   "file_extension": ".py",
   "mimetype": "text/x-python",
   "name": "python",
   "nbconvert_exporter": "python",
   "pygments_lexer": "ipython2",
   "version": "2.7.6"
  }
 },
 "nbformat": 4,
 "nbformat_minor": 0
}
