{
 "cells": [
  {
   "cell_type": "code",
   "execution_count": 1,
   "metadata": {
    "collapsed": true
   },
   "outputs": [],
   "source": [
    "#Reading Dataset\n",
    "\n",
    "import pandas as pd\n",
    "import os\n",
    "\n",
    "from tqdm import tqdm\n",
    "\n",
    "dataset_folder = os.path.join(os.getcwd(), 'dataset')\n",
    "tqdm.pandas(desc='Progress Bar')\n",
    "\n",
    "def df_from_csv(filename):\n",
    "    f = os.path.join(dataset_folder, filename)\n",
    "    return pd.read_csv(f, delimiter='\\t|\\n|,', engine='python')\n",
    "\n",
    "def calculate_tx(row):\n",
    "    if not pd.isna(row['risk_rank']):\n",
    "        temp_frame = xdp[(xdp['tx_date'] <= row['date']) & (xdp['cust_id'] == row['cust_id'])]\n",
    "\n",
    "        cr_type1 = temp_frame[(temp_frame['debit_credit'] == 'CR') & (temp_frame['tx_type'] == 1)]\n",
    "        total_tx = (cr_type1['tx_amt'] * cr_type1['exchg_rate'])\n",
    "        row['cr_1_total_tx'] = total_tx.sum()\n",
    "        row['cr_1_avg_tx'] = total_tx.mean()\n",
    "        row['cr_1_count_tx'] = total_tx.count()\n",
    "        row['cr_1_std_tx'] = total_tx.std()\n",
    "        row['cr_1_tx_per_day'] = row['cr_1_count_tx']/(row['date']+1)\n",
    "\n",
    "        cr_type2 = temp_frame[(temp_frame['debit_credit'] == 'CR') & (temp_frame['tx_type'] == 2)]\n",
    "        total_tx = (cr_type2['tx_amt'] * cr_type2['exchg_rate'])\n",
    "        row['cr_2_total_tx'] = total_tx.sum()\n",
    "        row['cr_2_avg_tx'] = total_tx.mean()\n",
    "        row['cr_2_count_tx'] = total_tx.count()\n",
    "        row['cr_2_std_tx'] = total_tx.std()\n",
    "        row['cr_2_tx_per_day'] = row['cr_2_count_tx']/(row['date']+1)\n",
    "\n",
    "        cr_type3 = temp_frame[(temp_frame['debit_credit'] == 'CR') & (temp_frame['tx_type'] == 3)]\n",
    "        total_tx = (cr_type3['tx_amt'] * cr_type3['exchg_rate'])\n",
    "        row['cr_3_total_tx'] = total_tx.sum()\n",
    "        row['cr_3_avg_tx'] = total_tx.mean()\n",
    "        row['cr_3_count_tx'] = total_tx.count()\n",
    "        row['cr_3_std_tx'] = total_tx.std()\n",
    "        row['cr_3_tx_per_day'] = row['cr_3_count_tx']/(row['date']+1)\n",
    "\n",
    "        db_type1 = temp_frame[(temp_frame['debit_credit'] == 'DB') & (temp_frame['tx_type'] == 1)]\n",
    "        total_tx = (db_type1['tx_amt'] * db_type1['exchg_rate'])\n",
    "        row['db_1_total_tx'] = total_tx.sum()\n",
    "        row['db_1_avg_tx'] = total_tx.mean()\n",
    "        row['db_1_count_tx'] = total_tx.count()\n",
    "        row['db_1_std_tx'] = total_tx.std()\n",
    "        row['db_1_tx_per_day'] = row['db_1_count_tx']/(row['date']+1)\n",
    "\n",
    "        db_type2 = temp_frame[(temp_frame['debit_credit'] == 'DB') & (temp_frame['tx_type'] == 2)]\n",
    "        total_tx = (db_type2['tx_amt'] * db_type2['exchg_rate'])\n",
    "        row['db_2_total_tx'] = total_tx.sum()\n",
    "        row['db_2_avg_tx'] = total_tx.mean()\n",
    "        row['db_2_count_tx'] = total_tx.count()\n",
    "        row['db_2_std_tx'] = total_tx.std()\n",
    "        row['db_2_tx_per_day'] = row['db_2_count_tx']/(row['date']+1)\n",
    "\n",
    "        db_type3 = temp_frame[(temp_frame['debit_credit'] == 'DB') & (temp_frame['tx_type'] == 3)]\n",
    "        total_tx = (db_type3['tx_amt'] * db_type3['exchg_rate'])\n",
    "        row['db_3_total_tx'] = total_tx.sum()\n",
    "        row['db_3_avg_tx'] = total_tx.mean()\n",
    "        row['db_3_count_tx'] = total_tx.count()\n",
    "        row['db_3_std_tx'] = total_tx.std()\n",
    "        row['db_3_tx_per_day'] = row['db_3_count_tx']/(row['date']+1)\n",
    "\n",
    "        temp_cb_frame = temp_frame[temp_frame['cross_bank'] == 1]\n",
    "        temp_atm_frame = temp_frame[temp_frame['ATM'] == 1]\n",
    "        total_tx = (temp_frame['tx_amt'] * temp_frame['exchg_rate'])\n",
    "        total_cb_tx = (temp_cb_frame['tx_amt'] * temp_cb_frame['exchg_rate'])\n",
    "        total_atm_tx = (temp_atm_frame['tx_amt'] * temp_atm_frame['exchg_rate'])\n",
    "        row['cb_count_rate'] = temp_cb_frame['tx_amt'].count() / temp_frame['tx_amt'].count() if temp_frame['tx_amt'].count() > 0 else 0\n",
    "        row['cb_tx_rate'] = total_cb_tx.sum()/total_tx.sum() if temp_frame['tx_amt'].count() > 0 else 0\n",
    "        row['atm_count_rate'] = temp_atm_frame['tx_amt'].count() / temp_frame['tx_amt'].count() if temp_frame['tx_amt'].count() > 0 else 0\n",
    "        row['atm_tx_rate'] = total_atm_tx.sum()/total_tx.sum() if temp_frame['tx_amt'].count() > 0 else 0\n",
    "    return row"
   ]
  },
  {
   "cell_type": "code",
   "execution_count": 2,
   "outputs": [],
   "source": [
    "y_train = df_from_csv('ori_trainy.csv')\n",
    "x_train = df_from_csv('ori_trainx.csv')\n",
    "x_test = df_from_csv('submit_format.csv')\n",
    "alert_cust = df_from_csv('ori_custinfo.csv')\n",
    "alert_date = df_from_csv('ori_alert_date.csv')\n",
    "xdp = df_from_csv('ori_xdp.csv')"
   ],
   "metadata": {
    "collapsed": false
   }
  },
  {
   "cell_type": "code",
   "execution_count": 3,
   "outputs": [],
   "source": [
    "# xdp['fiscTxId'] = xdp['fiscTxId'].fillna(29)\n",
    "# xdp['fiscTxId'] = xdp['fiscTxId'].astype(int)"
   ],
   "metadata": {
    "collapsed": false
   }
  },
  {
   "cell_type": "code",
   "execution_count": 3,
   "outputs": [
    {
     "name": "stdout",
     "output_type": "stream",
     "text": [
      "[0, 1, 2, 3, 4, 5, 6, 7, 8, 9, 10]\n"
     ]
    }
   ],
   "source": [
    "testo = alert_cust['AGE'].unique()\n",
    "print(sorted(testo))"
   ],
   "metadata": {
    "collapsed": false
   }
  },
  {
   "cell_type": "code",
   "execution_count": 4,
   "outputs": [
    {
     "data": {
      "text/plain": "alert_key          False\ndate               False\nsar_flag           False\ncust_id            False\nrisk_rank          False\noccupation_code     True\ntotal_asset        False\nAGE                False\ndtype: bool"
     },
     "execution_count": 4,
     "metadata": {},
     "output_type": "execute_result"
    }
   ],
   "source": [
    "xdp_final = x_train.merge(y_train, on='alert_key', how='inner')\n",
    "xdp_final = xdp_final.merge(alert_cust, on='alert_key', how='inner')\n",
    "xdp_final.isnull().any()"
   ],
   "metadata": {
    "collapsed": false
   }
  },
  {
   "cell_type": "code",
   "execution_count": 5,
   "outputs": [
    {
     "data": {
      "text/plain": "alert_key          False\ndate               False\nsar_flag           False\ncust_id            False\nrisk_rank          False\noccupation_code    False\ntotal_asset        False\nAGE                False\ndtype: bool"
     },
     "execution_count": 5,
     "metadata": {},
     "output_type": "execute_result"
    }
   ],
   "source": [
    "xdp_final['occupation_code'] = xdp_final['occupation_code'].fillna(20)\n",
    "xdp_final['occupation_code'] = xdp_final['occupation_code'].astype(int)\n",
    "xdp_final.isnull().any()"
   ],
   "metadata": {
    "collapsed": false
   }
  },
  {
   "cell_type": "code",
   "execution_count": 6,
   "outputs": [
    {
     "data": {
      "text/plain": "   alert_key  date  sar_flag  \\\n0     171189     0         0   \n1     171202     0         0   \n2     171599     0         0   \n3     171737     0         0   \n4     171142     0         0   \n\n                                             cust_id  risk_rank  \\\n0  972ee157e63316e8a50dd489bc93730a3ee8a8959d5c6b...          1   \n1  a10ab33f90926fb18d7bb5e78034d7f04a1fbed95b7951...          3   \n2  3433ecc068ed1c9e2f5037cab5d42d7b901e9bd624c1fb...          1   \n3  a0861608615a9365d90f4ba0a813c0ea0471987f925c8b...          3   \n4  a39fea9aec90969fe66a2b2b4d1b86368a2d38e8b8d4bf...          3   \n\n   occupation_code  total_asset  AGE  \n0               17     375576.0    4  \n1               12    2717416.0    2  \n2               12     326517.0    4  \n3               14    1014759.0    4  \n4               12     241719.0    3  ",
      "text/html": "<div>\n<style scoped>\n    .dataframe tbody tr th:only-of-type {\n        vertical-align: middle;\n    }\n\n    .dataframe tbody tr th {\n        vertical-align: top;\n    }\n\n    .dataframe thead th {\n        text-align: right;\n    }\n</style>\n<table border=\"1\" class=\"dataframe\">\n  <thead>\n    <tr style=\"text-align: right;\">\n      <th></th>\n      <th>alert_key</th>\n      <th>date</th>\n      <th>sar_flag</th>\n      <th>cust_id</th>\n      <th>risk_rank</th>\n      <th>occupation_code</th>\n      <th>total_asset</th>\n      <th>AGE</th>\n    </tr>\n  </thead>\n  <tbody>\n    <tr>\n      <th>0</th>\n      <td>171189</td>\n      <td>0</td>\n      <td>0</td>\n      <td>972ee157e63316e8a50dd489bc93730a3ee8a8959d5c6b...</td>\n      <td>1</td>\n      <td>17</td>\n      <td>375576.0</td>\n      <td>4</td>\n    </tr>\n    <tr>\n      <th>1</th>\n      <td>171202</td>\n      <td>0</td>\n      <td>0</td>\n      <td>a10ab33f90926fb18d7bb5e78034d7f04a1fbed95b7951...</td>\n      <td>3</td>\n      <td>12</td>\n      <td>2717416.0</td>\n      <td>2</td>\n    </tr>\n    <tr>\n      <th>2</th>\n      <td>171599</td>\n      <td>0</td>\n      <td>0</td>\n      <td>3433ecc068ed1c9e2f5037cab5d42d7b901e9bd624c1fb...</td>\n      <td>1</td>\n      <td>12</td>\n      <td>326517.0</td>\n      <td>4</td>\n    </tr>\n    <tr>\n      <th>3</th>\n      <td>171737</td>\n      <td>0</td>\n      <td>0</td>\n      <td>a0861608615a9365d90f4ba0a813c0ea0471987f925c8b...</td>\n      <td>3</td>\n      <td>14</td>\n      <td>1014759.0</td>\n      <td>4</td>\n    </tr>\n    <tr>\n      <th>4</th>\n      <td>171142</td>\n      <td>0</td>\n      <td>0</td>\n      <td>a39fea9aec90969fe66a2b2b4d1b86368a2d38e8b8d4bf...</td>\n      <td>3</td>\n      <td>12</td>\n      <td>241719.0</td>\n      <td>3</td>\n    </tr>\n  </tbody>\n</table>\n</div>"
     },
     "execution_count": 6,
     "metadata": {},
     "output_type": "execute_result"
    }
   ],
   "source": [
    "xdp_final.head()"
   ],
   "metadata": {
    "collapsed": false
   }
  },
  {
   "cell_type": "code",
   "execution_count": 7,
   "outputs": [
    {
     "data": {
      "text/plain": "       alert_key  date  sar_flag  \\\n0         171189     0         0   \n1         171202     0         0   \n2         171599     0         0   \n3         171737     0         0   \n4         171142     0         0   \n...          ...   ...       ...   \n23901     352132   364         0   \n23902     352125   364         0   \n23903     352080   364         0   \n23904     352075   364         0   \n23905     351927   364         0   \n\n                                                 cust_id  risk_rank  \\\n0      972ee157e63316e8a50dd489bc93730a3ee8a8959d5c6b...          1   \n1      a10ab33f90926fb18d7bb5e78034d7f04a1fbed95b7951...          3   \n2      3433ecc068ed1c9e2f5037cab5d42d7b901e9bd624c1fb...          1   \n3      a0861608615a9365d90f4ba0a813c0ea0471987f925c8b...          3   \n4      a39fea9aec90969fe66a2b2b4d1b86368a2d38e8b8d4bf...          3   \n...                                                  ...        ...   \n23901  c49b33d1fde790ec03584672903f296e486615adfdc989...          1   \n23902  0c2dc5fedc3689abf5ff4be14fe8fea8d23d22068297c2...          3   \n23903  1a93961c8fa830a1f32f5316b44f4964d65397f0311b11...          2   \n23904  9586b80d3ad1d74c0a1efe792cae2ecd073243fb01ed33...          3   \n23905  7dc5256ef411c745dc3064da2f231c104ca270f564d3d0...          1   \n\n       total_asset  AGE  occupation_code_0  occupation_code_1  \\\n0         375576.0    4                  0                  0   \n1        2717416.0    2                  0                  0   \n2         326517.0    4                  0                  0   \n3        1014759.0    4                  0                  0   \n4         241719.0    3                  0                  0   \n...            ...  ...                ...                ...   \n23901    3218731.0    3                  0                  0   \n23902     928963.0    3                  0                  0   \n23903      69080.0    6                  0                  0   \n23904     262604.0    6                  0                  0   \n23905     332834.0    2                  0                  0   \n\n       occupation_code_2  ...  occupation_code_11  occupation_code_12  \\\n0                      0  ...                   0                   0   \n1                      0  ...                   0                   1   \n2                      0  ...                   0                   1   \n3                      0  ...                   0                   0   \n4                      0  ...                   0                   1   \n...                  ...  ...                 ...                 ...   \n23901                  0  ...                   0                   0   \n23902                  0  ...                   0                   0   \n23903                  0  ...                   0                   0   \n23904                  0  ...                   0                   0   \n23905                  0  ...                   0                   0   \n\n       occupation_code_13  occupation_code_14  occupation_code_15  \\\n0                       0                   0                   0   \n1                       0                   0                   0   \n2                       0                   0                   0   \n3                       0                   1                   0   \n4                       0                   0                   0   \n...                   ...                 ...                 ...   \n23901                   0                   0                   0   \n23902                   0                   0                   0   \n23903                   0                   0                   0   \n23904                   0                   0                   0   \n23905                   0                   0                   0   \n\n       occupation_code_16  occupation_code_17  occupation_code_18  \\\n0                       0                   1                   0   \n1                       0                   0                   0   \n2                       0                   0                   0   \n3                       0                   0                   0   \n4                       0                   0                   0   \n...                   ...                 ...                 ...   \n23901                   0                   0                   0   \n23902                   0                   0                   0   \n23903                   0                   0                   0   \n23904                   0                   0                   0   \n23905                   0                   0                   0   \n\n       occupation_code_19  occupation_code_20  \n0                       0                   0  \n1                       0                   0  \n2                       0                   0  \n3                       0                   0  \n4                       0                   0  \n...                   ...                 ...  \n23901                   1                   0  \n23902                   1                   0  \n23903                   0                   0  \n23904                   0                   0  \n23905                   0                   0  \n\n[23906 rows x 28 columns]",
      "text/html": "<div>\n<style scoped>\n    .dataframe tbody tr th:only-of-type {\n        vertical-align: middle;\n    }\n\n    .dataframe tbody tr th {\n        vertical-align: top;\n    }\n\n    .dataframe thead th {\n        text-align: right;\n    }\n</style>\n<table border=\"1\" class=\"dataframe\">\n  <thead>\n    <tr style=\"text-align: right;\">\n      <th></th>\n      <th>alert_key</th>\n      <th>date</th>\n      <th>sar_flag</th>\n      <th>cust_id</th>\n      <th>risk_rank</th>\n      <th>total_asset</th>\n      <th>AGE</th>\n      <th>occupation_code_0</th>\n      <th>occupation_code_1</th>\n      <th>occupation_code_2</th>\n      <th>...</th>\n      <th>occupation_code_11</th>\n      <th>occupation_code_12</th>\n      <th>occupation_code_13</th>\n      <th>occupation_code_14</th>\n      <th>occupation_code_15</th>\n      <th>occupation_code_16</th>\n      <th>occupation_code_17</th>\n      <th>occupation_code_18</th>\n      <th>occupation_code_19</th>\n      <th>occupation_code_20</th>\n    </tr>\n  </thead>\n  <tbody>\n    <tr>\n      <th>0</th>\n      <td>171189</td>\n      <td>0</td>\n      <td>0</td>\n      <td>972ee157e63316e8a50dd489bc93730a3ee8a8959d5c6b...</td>\n      <td>1</td>\n      <td>375576.0</td>\n      <td>4</td>\n      <td>0</td>\n      <td>0</td>\n      <td>0</td>\n      <td>...</td>\n      <td>0</td>\n      <td>0</td>\n      <td>0</td>\n      <td>0</td>\n      <td>0</td>\n      <td>0</td>\n      <td>1</td>\n      <td>0</td>\n      <td>0</td>\n      <td>0</td>\n    </tr>\n    <tr>\n      <th>1</th>\n      <td>171202</td>\n      <td>0</td>\n      <td>0</td>\n      <td>a10ab33f90926fb18d7bb5e78034d7f04a1fbed95b7951...</td>\n      <td>3</td>\n      <td>2717416.0</td>\n      <td>2</td>\n      <td>0</td>\n      <td>0</td>\n      <td>0</td>\n      <td>...</td>\n      <td>0</td>\n      <td>1</td>\n      <td>0</td>\n      <td>0</td>\n      <td>0</td>\n      <td>0</td>\n      <td>0</td>\n      <td>0</td>\n      <td>0</td>\n      <td>0</td>\n    </tr>\n    <tr>\n      <th>2</th>\n      <td>171599</td>\n      <td>0</td>\n      <td>0</td>\n      <td>3433ecc068ed1c9e2f5037cab5d42d7b901e9bd624c1fb...</td>\n      <td>1</td>\n      <td>326517.0</td>\n      <td>4</td>\n      <td>0</td>\n      <td>0</td>\n      <td>0</td>\n      <td>...</td>\n      <td>0</td>\n      <td>1</td>\n      <td>0</td>\n      <td>0</td>\n      <td>0</td>\n      <td>0</td>\n      <td>0</td>\n      <td>0</td>\n      <td>0</td>\n      <td>0</td>\n    </tr>\n    <tr>\n      <th>3</th>\n      <td>171737</td>\n      <td>0</td>\n      <td>0</td>\n      <td>a0861608615a9365d90f4ba0a813c0ea0471987f925c8b...</td>\n      <td>3</td>\n      <td>1014759.0</td>\n      <td>4</td>\n      <td>0</td>\n      <td>0</td>\n      <td>0</td>\n      <td>...</td>\n      <td>0</td>\n      <td>0</td>\n      <td>0</td>\n      <td>1</td>\n      <td>0</td>\n      <td>0</td>\n      <td>0</td>\n      <td>0</td>\n      <td>0</td>\n      <td>0</td>\n    </tr>\n    <tr>\n      <th>4</th>\n      <td>171142</td>\n      <td>0</td>\n      <td>0</td>\n      <td>a39fea9aec90969fe66a2b2b4d1b86368a2d38e8b8d4bf...</td>\n      <td>3</td>\n      <td>241719.0</td>\n      <td>3</td>\n      <td>0</td>\n      <td>0</td>\n      <td>0</td>\n      <td>...</td>\n      <td>0</td>\n      <td>1</td>\n      <td>0</td>\n      <td>0</td>\n      <td>0</td>\n      <td>0</td>\n      <td>0</td>\n      <td>0</td>\n      <td>0</td>\n      <td>0</td>\n    </tr>\n    <tr>\n      <th>...</th>\n      <td>...</td>\n      <td>...</td>\n      <td>...</td>\n      <td>...</td>\n      <td>...</td>\n      <td>...</td>\n      <td>...</td>\n      <td>...</td>\n      <td>...</td>\n      <td>...</td>\n      <td>...</td>\n      <td>...</td>\n      <td>...</td>\n      <td>...</td>\n      <td>...</td>\n      <td>...</td>\n      <td>...</td>\n      <td>...</td>\n      <td>...</td>\n      <td>...</td>\n      <td>...</td>\n    </tr>\n    <tr>\n      <th>23901</th>\n      <td>352132</td>\n      <td>364</td>\n      <td>0</td>\n      <td>c49b33d1fde790ec03584672903f296e486615adfdc989...</td>\n      <td>1</td>\n      <td>3218731.0</td>\n      <td>3</td>\n      <td>0</td>\n      <td>0</td>\n      <td>0</td>\n      <td>...</td>\n      <td>0</td>\n      <td>0</td>\n      <td>0</td>\n      <td>0</td>\n      <td>0</td>\n      <td>0</td>\n      <td>0</td>\n      <td>0</td>\n      <td>1</td>\n      <td>0</td>\n    </tr>\n    <tr>\n      <th>23902</th>\n      <td>352125</td>\n      <td>364</td>\n      <td>0</td>\n      <td>0c2dc5fedc3689abf5ff4be14fe8fea8d23d22068297c2...</td>\n      <td>3</td>\n      <td>928963.0</td>\n      <td>3</td>\n      <td>0</td>\n      <td>0</td>\n      <td>0</td>\n      <td>...</td>\n      <td>0</td>\n      <td>0</td>\n      <td>0</td>\n      <td>0</td>\n      <td>0</td>\n      <td>0</td>\n      <td>0</td>\n      <td>0</td>\n      <td>1</td>\n      <td>0</td>\n    </tr>\n    <tr>\n      <th>23903</th>\n      <td>352080</td>\n      <td>364</td>\n      <td>0</td>\n      <td>1a93961c8fa830a1f32f5316b44f4964d65397f0311b11...</td>\n      <td>2</td>\n      <td>69080.0</td>\n      <td>6</td>\n      <td>0</td>\n      <td>0</td>\n      <td>0</td>\n      <td>...</td>\n      <td>0</td>\n      <td>0</td>\n      <td>0</td>\n      <td>0</td>\n      <td>0</td>\n      <td>0</td>\n      <td>0</td>\n      <td>0</td>\n      <td>0</td>\n      <td>0</td>\n    </tr>\n    <tr>\n      <th>23904</th>\n      <td>352075</td>\n      <td>364</td>\n      <td>0</td>\n      <td>9586b80d3ad1d74c0a1efe792cae2ecd073243fb01ed33...</td>\n      <td>3</td>\n      <td>262604.0</td>\n      <td>6</td>\n      <td>0</td>\n      <td>0</td>\n      <td>0</td>\n      <td>...</td>\n      <td>0</td>\n      <td>0</td>\n      <td>0</td>\n      <td>0</td>\n      <td>0</td>\n      <td>0</td>\n      <td>0</td>\n      <td>0</td>\n      <td>0</td>\n      <td>0</td>\n    </tr>\n    <tr>\n      <th>23905</th>\n      <td>351927</td>\n      <td>364</td>\n      <td>0</td>\n      <td>7dc5256ef411c745dc3064da2f231c104ca270f564d3d0...</td>\n      <td>1</td>\n      <td>332834.0</td>\n      <td>2</td>\n      <td>0</td>\n      <td>0</td>\n      <td>0</td>\n      <td>...</td>\n      <td>0</td>\n      <td>0</td>\n      <td>0</td>\n      <td>0</td>\n      <td>0</td>\n      <td>0</td>\n      <td>0</td>\n      <td>0</td>\n      <td>0</td>\n      <td>0</td>\n    </tr>\n  </tbody>\n</table>\n<p>23906 rows × 28 columns</p>\n</div>"
     },
     "execution_count": 7,
     "metadata": {},
     "output_type": "execute_result"
    }
   ],
   "source": [
    "from sklearn.preprocessing import OneHotEncoder\n",
    "\n",
    "encoder = OneHotEncoder(handle_unknown='ignore')\n",
    "xdp_final = pd.get_dummies(xdp_final, columns=['occupation_code'])\n",
    "xdp_final"
   ],
   "metadata": {
    "collapsed": false
   }
  },
  {
   "cell_type": "code",
   "execution_count": 8,
   "outputs": [
    {
     "name": "stderr",
     "output_type": "stream",
     "text": [
      "Progress Bar: 100%|██████████| 5/5 [00:00<00:00,  8.75it/s]\n"
     ]
    },
    {
     "data": {
      "text/plain": "   alert_key  date  sar_flag  \\\n0     171189     0         0   \n1     171202     0         0   \n2     171599     0         0   \n3     171737     0         0   \n4     171142     0         0   \n\n                                             cust_id  risk_rank  total_asset  \\\n0  972ee157e63316e8a50dd489bc93730a3ee8a8959d5c6b...          1     375576.0   \n1  a10ab33f90926fb18d7bb5e78034d7f04a1fbed95b7951...          3    2717416.0   \n2  3433ecc068ed1c9e2f5037cab5d42d7b901e9bd624c1fb...          1     326517.0   \n3  a0861608615a9365d90f4ba0a813c0ea0471987f925c8b...          3    1014759.0   \n4  a39fea9aec90969fe66a2b2b4d1b86368a2d38e8b8d4bf...          3     241719.0   \n\n   AGE  occupation_code_0  occupation_code_1  occupation_code_2  ...  \\\n0    4                  0                  0                  0  ...   \n1    2                  0                  0                  0  ...   \n2    4                  0                  0                  0  ...   \n3    4                  0                  0                  0  ...   \n4    3                  0                  0                  0  ...   \n\n   db_2_tx_per_day  db_3_total_tx  db_3_avg_tx  db_3_count_tx  db_3_std_tx  \\\n0              3.0            0.0          NaN              0          NaN   \n1              0.0       156902.0     156902.0              1          NaN   \n2              4.0            0.0          NaN              0          NaN   \n3              9.0            0.0          NaN              0          NaN   \n4              3.0            0.0          NaN              0          NaN   \n\n   db_3_tx_per_day  cb_count_rate  cb_tx_rate  atm_count_rate  atm_tx_rate  \n0              0.0            0.0    0.000000             1.0      1.00000  \n1              1.0            0.0    0.000000             0.0      0.00000  \n2              0.0            0.0    0.000000             1.0      1.00000  \n3              0.0            0.0    0.000000             0.9      0.96909  \n4              0.0            0.3    0.259516             1.0      1.00000  \n\n[5 rows x 62 columns]",
      "text/html": "<div>\n<style scoped>\n    .dataframe tbody tr th:only-of-type {\n        vertical-align: middle;\n    }\n\n    .dataframe tbody tr th {\n        vertical-align: top;\n    }\n\n    .dataframe thead th {\n        text-align: right;\n    }\n</style>\n<table border=\"1\" class=\"dataframe\">\n  <thead>\n    <tr style=\"text-align: right;\">\n      <th></th>\n      <th>alert_key</th>\n      <th>date</th>\n      <th>sar_flag</th>\n      <th>cust_id</th>\n      <th>risk_rank</th>\n      <th>total_asset</th>\n      <th>AGE</th>\n      <th>occupation_code_0</th>\n      <th>occupation_code_1</th>\n      <th>occupation_code_2</th>\n      <th>...</th>\n      <th>db_2_tx_per_day</th>\n      <th>db_3_total_tx</th>\n      <th>db_3_avg_tx</th>\n      <th>db_3_count_tx</th>\n      <th>db_3_std_tx</th>\n      <th>db_3_tx_per_day</th>\n      <th>cb_count_rate</th>\n      <th>cb_tx_rate</th>\n      <th>atm_count_rate</th>\n      <th>atm_tx_rate</th>\n    </tr>\n  </thead>\n  <tbody>\n    <tr>\n      <th>0</th>\n      <td>171189</td>\n      <td>0</td>\n      <td>0</td>\n      <td>972ee157e63316e8a50dd489bc93730a3ee8a8959d5c6b...</td>\n      <td>1</td>\n      <td>375576.0</td>\n      <td>4</td>\n      <td>0</td>\n      <td>0</td>\n      <td>0</td>\n      <td>...</td>\n      <td>3.0</td>\n      <td>0.0</td>\n      <td>NaN</td>\n      <td>0</td>\n      <td>NaN</td>\n      <td>0.0</td>\n      <td>0.0</td>\n      <td>0.000000</td>\n      <td>1.0</td>\n      <td>1.00000</td>\n    </tr>\n    <tr>\n      <th>1</th>\n      <td>171202</td>\n      <td>0</td>\n      <td>0</td>\n      <td>a10ab33f90926fb18d7bb5e78034d7f04a1fbed95b7951...</td>\n      <td>3</td>\n      <td>2717416.0</td>\n      <td>2</td>\n      <td>0</td>\n      <td>0</td>\n      <td>0</td>\n      <td>...</td>\n      <td>0.0</td>\n      <td>156902.0</td>\n      <td>156902.0</td>\n      <td>1</td>\n      <td>NaN</td>\n      <td>1.0</td>\n      <td>0.0</td>\n      <td>0.000000</td>\n      <td>0.0</td>\n      <td>0.00000</td>\n    </tr>\n    <tr>\n      <th>2</th>\n      <td>171599</td>\n      <td>0</td>\n      <td>0</td>\n      <td>3433ecc068ed1c9e2f5037cab5d42d7b901e9bd624c1fb...</td>\n      <td>1</td>\n      <td>326517.0</td>\n      <td>4</td>\n      <td>0</td>\n      <td>0</td>\n      <td>0</td>\n      <td>...</td>\n      <td>4.0</td>\n      <td>0.0</td>\n      <td>NaN</td>\n      <td>0</td>\n      <td>NaN</td>\n      <td>0.0</td>\n      <td>0.0</td>\n      <td>0.000000</td>\n      <td>1.0</td>\n      <td>1.00000</td>\n    </tr>\n    <tr>\n      <th>3</th>\n      <td>171737</td>\n      <td>0</td>\n      <td>0</td>\n      <td>a0861608615a9365d90f4ba0a813c0ea0471987f925c8b...</td>\n      <td>3</td>\n      <td>1014759.0</td>\n      <td>4</td>\n      <td>0</td>\n      <td>0</td>\n      <td>0</td>\n      <td>...</td>\n      <td>9.0</td>\n      <td>0.0</td>\n      <td>NaN</td>\n      <td>0</td>\n      <td>NaN</td>\n      <td>0.0</td>\n      <td>0.0</td>\n      <td>0.000000</td>\n      <td>0.9</td>\n      <td>0.96909</td>\n    </tr>\n    <tr>\n      <th>4</th>\n      <td>171142</td>\n      <td>0</td>\n      <td>0</td>\n      <td>a39fea9aec90969fe66a2b2b4d1b86368a2d38e8b8d4bf...</td>\n      <td>3</td>\n      <td>241719.0</td>\n      <td>3</td>\n      <td>0</td>\n      <td>0</td>\n      <td>0</td>\n      <td>...</td>\n      <td>3.0</td>\n      <td>0.0</td>\n      <td>NaN</td>\n      <td>0</td>\n      <td>NaN</td>\n      <td>0.0</td>\n      <td>0.3</td>\n      <td>0.259516</td>\n      <td>1.0</td>\n      <td>1.00000</td>\n    </tr>\n  </tbody>\n</table>\n<p>5 rows × 62 columns</p>\n</div>"
     },
     "execution_count": 8,
     "metadata": {},
     "output_type": "execute_result"
    }
   ],
   "source": [
    "xdp_final_head = xdp_final.head()\n",
    "xdp_final_head = xdp_final_head.progress_apply(calculate_tx, axis=1)\n",
    "xdp_final_head"
   ],
   "metadata": {
    "collapsed": false
   }
  },
  {
   "cell_type": "code",
   "execution_count": 10,
   "outputs": [
    {
     "name": "stderr",
     "output_type": "stream",
     "text": [
      "Progress Bar:   2%|▏         | 519/23906 [00:42<32:23, 12.04it/s]C:\\Users\\Edwin Sanjaya\\AppData\\Local\\Temp\\ipykernel_16184\\3334648026.py:73: RuntimeWarning: invalid value encountered in scalar divide\n",
      "  row['cb_tx_rate'] = total_cb_tx.sum()/total_tx.sum() if temp_frame['tx_amt'].count() > 0 else 0\n",
      "C:\\Users\\Edwin Sanjaya\\AppData\\Local\\Temp\\ipykernel_16184\\3334648026.py:75: RuntimeWarning: invalid value encountered in scalar divide\n",
      "  row['atm_tx_rate'] = total_atm_tx.sum()/total_tx.sum() if temp_frame['tx_amt'].count() > 0 else 0\n",
      "Progress Bar:   7%|▋         | 1695/23906 [02:19<31:46, 11.65it/s]C:\\Users\\Edwin Sanjaya\\AppData\\Local\\Temp\\ipykernel_16184\\3334648026.py:73: RuntimeWarning: invalid value encountered in scalar divide\n",
      "  row['cb_tx_rate'] = total_cb_tx.sum()/total_tx.sum() if temp_frame['tx_amt'].count() > 0 else 0\n",
      "C:\\Users\\Edwin Sanjaya\\AppData\\Local\\Temp\\ipykernel_16184\\3334648026.py:75: RuntimeWarning: invalid value encountered in scalar divide\n",
      "  row['atm_tx_rate'] = total_atm_tx.sum()/total_tx.sum() if temp_frame['tx_amt'].count() > 0 else 0\n",
      "Progress Bar:  28%|██▊       | 6652/23906 [09:45<25:50, 11.13it/s]C:\\Users\\Edwin Sanjaya\\AppData\\Local\\Temp\\ipykernel_16184\\3334648026.py:73: RuntimeWarning: invalid value encountered in scalar divide\n",
      "  row['cb_tx_rate'] = total_cb_tx.sum()/total_tx.sum() if temp_frame['tx_amt'].count() > 0 else 0\n",
      "C:\\Users\\Edwin Sanjaya\\AppData\\Local\\Temp\\ipykernel_16184\\3334648026.py:75: RuntimeWarning: invalid value encountered in scalar divide\n",
      "  row['atm_tx_rate'] = total_atm_tx.sum()/total_tx.sum() if temp_frame['tx_amt'].count() > 0 else 0\n",
      "Progress Bar: 100%|██████████| 23906/23906 [35:49<00:00, 11.12it/s]\n"
     ]
    }
   ],
   "source": [
    "xdp_final = xdp_final.progress_apply(calculate_tx, axis=1)"
   ],
   "metadata": {
    "collapsed": false
   }
  },
  {
   "cell_type": "code",
   "execution_count": 11,
   "outputs": [
    {
     "data": {
      "text/plain": "       alert_key  date  sar_flag  \\\n0         171189     0         0   \n1         171202     0         0   \n2         171599     0         0   \n3         171737     0         0   \n4         171142     0         0   \n...          ...   ...       ...   \n23901     352132   364         0   \n23902     352125   364         0   \n23903     352080   364         0   \n23904     352075   364         0   \n23905     351927   364         0   \n\n                                                 cust_id  risk_rank  \\\n0      972ee157e63316e8a50dd489bc93730a3ee8a8959d5c6b...          1   \n1      a10ab33f90926fb18d7bb5e78034d7f04a1fbed95b7951...          3   \n2      3433ecc068ed1c9e2f5037cab5d42d7b901e9bd624c1fb...          1   \n3      a0861608615a9365d90f4ba0a813c0ea0471987f925c8b...          3   \n4      a39fea9aec90969fe66a2b2b4d1b86368a2d38e8b8d4bf...          3   \n...                                                  ...        ...   \n23901  c49b33d1fde790ec03584672903f296e486615adfdc989...          1   \n23902  0c2dc5fedc3689abf5ff4be14fe8fea8d23d22068297c2...          3   \n23903  1a93961c8fa830a1f32f5316b44f4964d65397f0311b11...          2   \n23904  9586b80d3ad1d74c0a1efe792cae2ecd073243fb01ed33...          3   \n23905  7dc5256ef411c745dc3064da2f231c104ca270f564d3d0...          1   \n\n       total_asset  AGE  occupation_code_0  occupation_code_1  \\\n0         375576.0    4                  0                  0   \n1        2717416.0    2                  0                  0   \n2         326517.0    4                  0                  0   \n3        1014759.0    4                  0                  0   \n4         241719.0    3                  0                  0   \n...            ...  ...                ...                ...   \n23901    3218731.0    3                  0                  0   \n23902     928963.0    3                  0                  0   \n23903      69080.0    6                  0                  0   \n23904     262604.0    6                  0                  0   \n23905     332834.0    2                  0                  0   \n\n       occupation_code_2  ...  db_2_tx_per_day  db_3_total_tx  db_3_avg_tx  \\\n0                      0  ...         3.000000            0.0          NaN   \n1                      0  ...         0.000000       156902.0     156902.0   \n2                      0  ...         4.000000            0.0          NaN   \n3                      0  ...         9.000000            0.0          NaN   \n4                      0  ...         3.000000            0.0          NaN   \n...                  ...  ...              ...            ...          ...   \n23901                  0  ...         0.208219            0.0          NaN   \n23902                  0  ...         0.024658            0.0          NaN   \n23903                  0  ...         0.104110            0.0          NaN   \n23904                  0  ...         0.397260            0.0          NaN   \n23905                  0  ...         0.019178            0.0          NaN   \n\n       db_3_count_tx  db_3_std_tx  db_3_tx_per_day  cb_count_rate  cb_tx_rate  \\\n0                  0          NaN              0.0       0.000000    0.000000   \n1                  1          NaN              1.0       0.000000    0.000000   \n2                  0          NaN              0.0       0.000000    0.000000   \n3                  0          NaN              0.0       0.000000    0.000000   \n4                  0          NaN              0.0       0.300000    0.259516   \n...              ...          ...              ...            ...         ...   \n23901              0          NaN              0.0       0.056338    0.002525   \n23902              0          NaN              0.0       0.000000    0.000000   \n23903              0          NaN              0.0       0.000000    0.000000   \n23904              0          NaN              0.0       0.020930    0.000725   \n23905              0          NaN              0.0       0.040000    0.003409   \n\n       atm_count_rate  atm_tx_rate  \n0            1.000000     1.000000  \n1            0.000000     0.000000  \n2            1.000000     1.000000  \n3            0.900000     0.969090  \n4            1.000000     1.000000  \n...               ...          ...  \n23901        0.690141     0.977016  \n23902        0.650000     0.608263  \n23903        0.600000     0.941020  \n23904        0.969767     0.998672  \n23905        0.751111     0.668394  \n\n[23906 rows x 62 columns]",
      "text/html": "<div>\n<style scoped>\n    .dataframe tbody tr th:only-of-type {\n        vertical-align: middle;\n    }\n\n    .dataframe tbody tr th {\n        vertical-align: top;\n    }\n\n    .dataframe thead th {\n        text-align: right;\n    }\n</style>\n<table border=\"1\" class=\"dataframe\">\n  <thead>\n    <tr style=\"text-align: right;\">\n      <th></th>\n      <th>alert_key</th>\n      <th>date</th>\n      <th>sar_flag</th>\n      <th>cust_id</th>\n      <th>risk_rank</th>\n      <th>total_asset</th>\n      <th>AGE</th>\n      <th>occupation_code_0</th>\n      <th>occupation_code_1</th>\n      <th>occupation_code_2</th>\n      <th>...</th>\n      <th>db_2_tx_per_day</th>\n      <th>db_3_total_tx</th>\n      <th>db_3_avg_tx</th>\n      <th>db_3_count_tx</th>\n      <th>db_3_std_tx</th>\n      <th>db_3_tx_per_day</th>\n      <th>cb_count_rate</th>\n      <th>cb_tx_rate</th>\n      <th>atm_count_rate</th>\n      <th>atm_tx_rate</th>\n    </tr>\n  </thead>\n  <tbody>\n    <tr>\n      <th>0</th>\n      <td>171189</td>\n      <td>0</td>\n      <td>0</td>\n      <td>972ee157e63316e8a50dd489bc93730a3ee8a8959d5c6b...</td>\n      <td>1</td>\n      <td>375576.0</td>\n      <td>4</td>\n      <td>0</td>\n      <td>0</td>\n      <td>0</td>\n      <td>...</td>\n      <td>3.000000</td>\n      <td>0.0</td>\n      <td>NaN</td>\n      <td>0</td>\n      <td>NaN</td>\n      <td>0.0</td>\n      <td>0.000000</td>\n      <td>0.000000</td>\n      <td>1.000000</td>\n      <td>1.000000</td>\n    </tr>\n    <tr>\n      <th>1</th>\n      <td>171202</td>\n      <td>0</td>\n      <td>0</td>\n      <td>a10ab33f90926fb18d7bb5e78034d7f04a1fbed95b7951...</td>\n      <td>3</td>\n      <td>2717416.0</td>\n      <td>2</td>\n      <td>0</td>\n      <td>0</td>\n      <td>0</td>\n      <td>...</td>\n      <td>0.000000</td>\n      <td>156902.0</td>\n      <td>156902.0</td>\n      <td>1</td>\n      <td>NaN</td>\n      <td>1.0</td>\n      <td>0.000000</td>\n      <td>0.000000</td>\n      <td>0.000000</td>\n      <td>0.000000</td>\n    </tr>\n    <tr>\n      <th>2</th>\n      <td>171599</td>\n      <td>0</td>\n      <td>0</td>\n      <td>3433ecc068ed1c9e2f5037cab5d42d7b901e9bd624c1fb...</td>\n      <td>1</td>\n      <td>326517.0</td>\n      <td>4</td>\n      <td>0</td>\n      <td>0</td>\n      <td>0</td>\n      <td>...</td>\n      <td>4.000000</td>\n      <td>0.0</td>\n      <td>NaN</td>\n      <td>0</td>\n      <td>NaN</td>\n      <td>0.0</td>\n      <td>0.000000</td>\n      <td>0.000000</td>\n      <td>1.000000</td>\n      <td>1.000000</td>\n    </tr>\n    <tr>\n      <th>3</th>\n      <td>171737</td>\n      <td>0</td>\n      <td>0</td>\n      <td>a0861608615a9365d90f4ba0a813c0ea0471987f925c8b...</td>\n      <td>3</td>\n      <td>1014759.0</td>\n      <td>4</td>\n      <td>0</td>\n      <td>0</td>\n      <td>0</td>\n      <td>...</td>\n      <td>9.000000</td>\n      <td>0.0</td>\n      <td>NaN</td>\n      <td>0</td>\n      <td>NaN</td>\n      <td>0.0</td>\n      <td>0.000000</td>\n      <td>0.000000</td>\n      <td>0.900000</td>\n      <td>0.969090</td>\n    </tr>\n    <tr>\n      <th>4</th>\n      <td>171142</td>\n      <td>0</td>\n      <td>0</td>\n      <td>a39fea9aec90969fe66a2b2b4d1b86368a2d38e8b8d4bf...</td>\n      <td>3</td>\n      <td>241719.0</td>\n      <td>3</td>\n      <td>0</td>\n      <td>0</td>\n      <td>0</td>\n      <td>...</td>\n      <td>3.000000</td>\n      <td>0.0</td>\n      <td>NaN</td>\n      <td>0</td>\n      <td>NaN</td>\n      <td>0.0</td>\n      <td>0.300000</td>\n      <td>0.259516</td>\n      <td>1.000000</td>\n      <td>1.000000</td>\n    </tr>\n    <tr>\n      <th>...</th>\n      <td>...</td>\n      <td>...</td>\n      <td>...</td>\n      <td>...</td>\n      <td>...</td>\n      <td>...</td>\n      <td>...</td>\n      <td>...</td>\n      <td>...</td>\n      <td>...</td>\n      <td>...</td>\n      <td>...</td>\n      <td>...</td>\n      <td>...</td>\n      <td>...</td>\n      <td>...</td>\n      <td>...</td>\n      <td>...</td>\n      <td>...</td>\n      <td>...</td>\n      <td>...</td>\n    </tr>\n    <tr>\n      <th>23901</th>\n      <td>352132</td>\n      <td>364</td>\n      <td>0</td>\n      <td>c49b33d1fde790ec03584672903f296e486615adfdc989...</td>\n      <td>1</td>\n      <td>3218731.0</td>\n      <td>3</td>\n      <td>0</td>\n      <td>0</td>\n      <td>0</td>\n      <td>...</td>\n      <td>0.208219</td>\n      <td>0.0</td>\n      <td>NaN</td>\n      <td>0</td>\n      <td>NaN</td>\n      <td>0.0</td>\n      <td>0.056338</td>\n      <td>0.002525</td>\n      <td>0.690141</td>\n      <td>0.977016</td>\n    </tr>\n    <tr>\n      <th>23902</th>\n      <td>352125</td>\n      <td>364</td>\n      <td>0</td>\n      <td>0c2dc5fedc3689abf5ff4be14fe8fea8d23d22068297c2...</td>\n      <td>3</td>\n      <td>928963.0</td>\n      <td>3</td>\n      <td>0</td>\n      <td>0</td>\n      <td>0</td>\n      <td>...</td>\n      <td>0.024658</td>\n      <td>0.0</td>\n      <td>NaN</td>\n      <td>0</td>\n      <td>NaN</td>\n      <td>0.0</td>\n      <td>0.000000</td>\n      <td>0.000000</td>\n      <td>0.650000</td>\n      <td>0.608263</td>\n    </tr>\n    <tr>\n      <th>23903</th>\n      <td>352080</td>\n      <td>364</td>\n      <td>0</td>\n      <td>1a93961c8fa830a1f32f5316b44f4964d65397f0311b11...</td>\n      <td>2</td>\n      <td>69080.0</td>\n      <td>6</td>\n      <td>0</td>\n      <td>0</td>\n      <td>0</td>\n      <td>...</td>\n      <td>0.104110</td>\n      <td>0.0</td>\n      <td>NaN</td>\n      <td>0</td>\n      <td>NaN</td>\n      <td>0.0</td>\n      <td>0.000000</td>\n      <td>0.000000</td>\n      <td>0.600000</td>\n      <td>0.941020</td>\n    </tr>\n    <tr>\n      <th>23904</th>\n      <td>352075</td>\n      <td>364</td>\n      <td>0</td>\n      <td>9586b80d3ad1d74c0a1efe792cae2ecd073243fb01ed33...</td>\n      <td>3</td>\n      <td>262604.0</td>\n      <td>6</td>\n      <td>0</td>\n      <td>0</td>\n      <td>0</td>\n      <td>...</td>\n      <td>0.397260</td>\n      <td>0.0</td>\n      <td>NaN</td>\n      <td>0</td>\n      <td>NaN</td>\n      <td>0.0</td>\n      <td>0.020930</td>\n      <td>0.000725</td>\n      <td>0.969767</td>\n      <td>0.998672</td>\n    </tr>\n    <tr>\n      <th>23905</th>\n      <td>351927</td>\n      <td>364</td>\n      <td>0</td>\n      <td>7dc5256ef411c745dc3064da2f231c104ca270f564d3d0...</td>\n      <td>1</td>\n      <td>332834.0</td>\n      <td>2</td>\n      <td>0</td>\n      <td>0</td>\n      <td>0</td>\n      <td>...</td>\n      <td>0.019178</td>\n      <td>0.0</td>\n      <td>NaN</td>\n      <td>0</td>\n      <td>NaN</td>\n      <td>0.0</td>\n      <td>0.040000</td>\n      <td>0.003409</td>\n      <td>0.751111</td>\n      <td>0.668394</td>\n    </tr>\n  </tbody>\n</table>\n<p>23906 rows × 62 columns</p>\n</div>"
     },
     "execution_count": 11,
     "metadata": {},
     "output_type": "execute_result"
    }
   ],
   "source": [
    "xdp_final"
   ],
   "metadata": {
    "collapsed": false
   }
  },
  {
   "cell_type": "code",
   "execution_count": 12,
   "outputs": [],
   "source": [
    "xdp_final.to_pickle('xdp_x_train.pkl')"
   ],
   "metadata": {
    "collapsed": false
   }
  },
  {
   "cell_type": "code",
   "execution_count": 13,
   "outputs": [
    {
     "name": "stderr",
     "output_type": "stream",
     "text": [
      "Progress Bar: 100%|██████████| 3850/3850 [02:57<00:00, 21.74it/s]\n"
     ]
    },
    {
     "data": {
      "text/plain": "      AGE  alert_key  atm_count_rate  atm_tx_rate  cb_count_rate  cb_tx_rate  \\\n0     3.0     357307        0.550000     0.588727       0.285714    0.359172   \n1     NaN     376329             NaN          NaN            NaN         NaN   \n2     NaN     373644             NaN          NaN            NaN         NaN   \n3     5.0     357668        0.491573     0.383901       0.095506    0.286806   \n4     3.0     354443        0.855967     0.969150       0.094650    0.018843   \n...   ...        ...             ...          ...            ...         ...   \n3845  2.0     364485        0.766962     0.752510       0.058997    0.042276   \n3846  2.0     363155        0.781132     0.961093       0.181132    0.033674   \n3847  NaN     368710             NaN          NaN            NaN         NaN   \n3848  3.0     358067        0.906149     0.999761       0.148867    0.063872   \n3849  NaN     372119             NaN          NaN            NaN         NaN   \n\n      cr_1_avg_tx  cr_1_count_tx   cr_1_std_tx  cr_1_total_tx  ...  \\\n0       18913.500            2.0   3550.383148        37827.0  ...   \n1             NaN            NaN           NaN            NaN  ...   \n2             NaN            NaN           NaN            NaN  ...   \n3             NaN            0.0           NaN            0.0  ...   \n4             NaN            0.0           NaN            0.0  ...   \n...           ...            ...           ...            ...  ...   \n3845    51294.000            1.0           NaN        51294.0  ...   \n3846        4.000            1.0           NaN            4.0  ...   \n3847          NaN            NaN           NaN            NaN  ...   \n3848     7486.875            8.0  12068.747342        59895.0  ...   \n3849          NaN            NaN           NaN            NaN  ...   \n\n      occupation_code_19  occupation_code_2  occupation_code_20  \\\n0                      0                  0                   0   \n1                      0                  0                   1   \n2                      0                  0                   1   \n3                      1                  0                   0   \n4                      0                  1                   0   \n...                  ...                ...                 ...   \n3845                   0                  0                   0   \n3846                   0                  0                   0   \n3847                   0                  0                   1   \n3848                   0                  0                   0   \n3849                   0                  0                   1   \n\n      occupation_code_3  occupation_code_4  occupation_code_5  \\\n0                     0                  1                  0   \n1                     0                  0                  0   \n2                     0                  0                  0   \n3                     0                  0                  0   \n4                     0                  0                  0   \n...                 ...                ...                ...   \n3845                  0                  0                  0   \n3846                  0                  0                  0   \n3847                  0                  0                  0   \n3848                  0                  0                  0   \n3849                  0                  0                  0   \n\n      occupation_code_7  occupation_code_9  risk_rank  total_asset  \n0                     0                  0        1.0    2588452.0  \n1                     0                  0        NaN          NaN  \n2                     0                  0        NaN          NaN  \n3                     0                  0        1.0    1964540.0  \n4                     0                  0        1.0     444392.0  \n...                 ...                ...        ...          ...  \n3845                  0                  0        1.0     644169.0  \n3846                  0                  0        1.0     114439.0  \n3847                  0                  0        NaN          NaN  \n3848                  0                  1        1.0     367478.0  \n3849                  0                  0        NaN          NaN  \n\n[3850 rows x 58 columns]",
      "text/html": "<div>\n<style scoped>\n    .dataframe tbody tr th:only-of-type {\n        vertical-align: middle;\n    }\n\n    .dataframe tbody tr th {\n        vertical-align: top;\n    }\n\n    .dataframe thead th {\n        text-align: right;\n    }\n</style>\n<table border=\"1\" class=\"dataframe\">\n  <thead>\n    <tr style=\"text-align: right;\">\n      <th></th>\n      <th>AGE</th>\n      <th>alert_key</th>\n      <th>atm_count_rate</th>\n      <th>atm_tx_rate</th>\n      <th>cb_count_rate</th>\n      <th>cb_tx_rate</th>\n      <th>cr_1_avg_tx</th>\n      <th>cr_1_count_tx</th>\n      <th>cr_1_std_tx</th>\n      <th>cr_1_total_tx</th>\n      <th>...</th>\n      <th>occupation_code_19</th>\n      <th>occupation_code_2</th>\n      <th>occupation_code_20</th>\n      <th>occupation_code_3</th>\n      <th>occupation_code_4</th>\n      <th>occupation_code_5</th>\n      <th>occupation_code_7</th>\n      <th>occupation_code_9</th>\n      <th>risk_rank</th>\n      <th>total_asset</th>\n    </tr>\n  </thead>\n  <tbody>\n    <tr>\n      <th>0</th>\n      <td>3.0</td>\n      <td>357307</td>\n      <td>0.550000</td>\n      <td>0.588727</td>\n      <td>0.285714</td>\n      <td>0.359172</td>\n      <td>18913.500</td>\n      <td>2.0</td>\n      <td>3550.383148</td>\n      <td>37827.0</td>\n      <td>...</td>\n      <td>0</td>\n      <td>0</td>\n      <td>0</td>\n      <td>0</td>\n      <td>1</td>\n      <td>0</td>\n      <td>0</td>\n      <td>0</td>\n      <td>1.0</td>\n      <td>2588452.0</td>\n    </tr>\n    <tr>\n      <th>1</th>\n      <td>NaN</td>\n      <td>376329</td>\n      <td>NaN</td>\n      <td>NaN</td>\n      <td>NaN</td>\n      <td>NaN</td>\n      <td>NaN</td>\n      <td>NaN</td>\n      <td>NaN</td>\n      <td>NaN</td>\n      <td>...</td>\n      <td>0</td>\n      <td>0</td>\n      <td>1</td>\n      <td>0</td>\n      <td>0</td>\n      <td>0</td>\n      <td>0</td>\n      <td>0</td>\n      <td>NaN</td>\n      <td>NaN</td>\n    </tr>\n    <tr>\n      <th>2</th>\n      <td>NaN</td>\n      <td>373644</td>\n      <td>NaN</td>\n      <td>NaN</td>\n      <td>NaN</td>\n      <td>NaN</td>\n      <td>NaN</td>\n      <td>NaN</td>\n      <td>NaN</td>\n      <td>NaN</td>\n      <td>...</td>\n      <td>0</td>\n      <td>0</td>\n      <td>1</td>\n      <td>0</td>\n      <td>0</td>\n      <td>0</td>\n      <td>0</td>\n      <td>0</td>\n      <td>NaN</td>\n      <td>NaN</td>\n    </tr>\n    <tr>\n      <th>3</th>\n      <td>5.0</td>\n      <td>357668</td>\n      <td>0.491573</td>\n      <td>0.383901</td>\n      <td>0.095506</td>\n      <td>0.286806</td>\n      <td>NaN</td>\n      <td>0.0</td>\n      <td>NaN</td>\n      <td>0.0</td>\n      <td>...</td>\n      <td>1</td>\n      <td>0</td>\n      <td>0</td>\n      <td>0</td>\n      <td>0</td>\n      <td>0</td>\n      <td>0</td>\n      <td>0</td>\n      <td>1.0</td>\n      <td>1964540.0</td>\n    </tr>\n    <tr>\n      <th>4</th>\n      <td>3.0</td>\n      <td>354443</td>\n      <td>0.855967</td>\n      <td>0.969150</td>\n      <td>0.094650</td>\n      <td>0.018843</td>\n      <td>NaN</td>\n      <td>0.0</td>\n      <td>NaN</td>\n      <td>0.0</td>\n      <td>...</td>\n      <td>0</td>\n      <td>1</td>\n      <td>0</td>\n      <td>0</td>\n      <td>0</td>\n      <td>0</td>\n      <td>0</td>\n      <td>0</td>\n      <td>1.0</td>\n      <td>444392.0</td>\n    </tr>\n    <tr>\n      <th>...</th>\n      <td>...</td>\n      <td>...</td>\n      <td>...</td>\n      <td>...</td>\n      <td>...</td>\n      <td>...</td>\n      <td>...</td>\n      <td>...</td>\n      <td>...</td>\n      <td>...</td>\n      <td>...</td>\n      <td>...</td>\n      <td>...</td>\n      <td>...</td>\n      <td>...</td>\n      <td>...</td>\n      <td>...</td>\n      <td>...</td>\n      <td>...</td>\n      <td>...</td>\n      <td>...</td>\n    </tr>\n    <tr>\n      <th>3845</th>\n      <td>2.0</td>\n      <td>364485</td>\n      <td>0.766962</td>\n      <td>0.752510</td>\n      <td>0.058997</td>\n      <td>0.042276</td>\n      <td>51294.000</td>\n      <td>1.0</td>\n      <td>NaN</td>\n      <td>51294.0</td>\n      <td>...</td>\n      <td>0</td>\n      <td>0</td>\n      <td>0</td>\n      <td>0</td>\n      <td>0</td>\n      <td>0</td>\n      <td>0</td>\n      <td>0</td>\n      <td>1.0</td>\n      <td>644169.0</td>\n    </tr>\n    <tr>\n      <th>3846</th>\n      <td>2.0</td>\n      <td>363155</td>\n      <td>0.781132</td>\n      <td>0.961093</td>\n      <td>0.181132</td>\n      <td>0.033674</td>\n      <td>4.000</td>\n      <td>1.0</td>\n      <td>NaN</td>\n      <td>4.0</td>\n      <td>...</td>\n      <td>0</td>\n      <td>0</td>\n      <td>0</td>\n      <td>0</td>\n      <td>0</td>\n      <td>0</td>\n      <td>0</td>\n      <td>0</td>\n      <td>1.0</td>\n      <td>114439.0</td>\n    </tr>\n    <tr>\n      <th>3847</th>\n      <td>NaN</td>\n      <td>368710</td>\n      <td>NaN</td>\n      <td>NaN</td>\n      <td>NaN</td>\n      <td>NaN</td>\n      <td>NaN</td>\n      <td>NaN</td>\n      <td>NaN</td>\n      <td>NaN</td>\n      <td>...</td>\n      <td>0</td>\n      <td>0</td>\n      <td>1</td>\n      <td>0</td>\n      <td>0</td>\n      <td>0</td>\n      <td>0</td>\n      <td>0</td>\n      <td>NaN</td>\n      <td>NaN</td>\n    </tr>\n    <tr>\n      <th>3848</th>\n      <td>3.0</td>\n      <td>358067</td>\n      <td>0.906149</td>\n      <td>0.999761</td>\n      <td>0.148867</td>\n      <td>0.063872</td>\n      <td>7486.875</td>\n      <td>8.0</td>\n      <td>12068.747342</td>\n      <td>59895.0</td>\n      <td>...</td>\n      <td>0</td>\n      <td>0</td>\n      <td>0</td>\n      <td>0</td>\n      <td>0</td>\n      <td>0</td>\n      <td>0</td>\n      <td>1</td>\n      <td>1.0</td>\n      <td>367478.0</td>\n    </tr>\n    <tr>\n      <th>3849</th>\n      <td>NaN</td>\n      <td>372119</td>\n      <td>NaN</td>\n      <td>NaN</td>\n      <td>NaN</td>\n      <td>NaN</td>\n      <td>NaN</td>\n      <td>NaN</td>\n      <td>NaN</td>\n      <td>NaN</td>\n      <td>...</td>\n      <td>0</td>\n      <td>0</td>\n      <td>1</td>\n      <td>0</td>\n      <td>0</td>\n      <td>0</td>\n      <td>0</td>\n      <td>0</td>\n      <td>NaN</td>\n      <td>NaN</td>\n    </tr>\n  </tbody>\n</table>\n<p>3850 rows × 58 columns</p>\n</div>"
     },
     "execution_count": 13,
     "metadata": {},
     "output_type": "execute_result"
    }
   ],
   "source": [
    "x_test = x_test.drop(['probability'], axis=1)\n",
    "x_test = x_test.merge(alert_date, on='alert_key', how='left')\n",
    "x_test = x_test.merge(alert_cust, on='alert_key', how='left')\n",
    "\n",
    "x_test['occupation_code'] = x_test['occupation_code'].fillna(20)\n",
    "x_test['occupation_code'] = x_test['occupation_code'].astype(int)\n",
    "# x_test['AGE'] = x_test['AGE'].fillna(11)\n",
    "# x_test['AGE'] = x_test['AGE'].astype(int)\n",
    "x_test = pd.get_dummies(x_test, columns=['occupation_code'])\n",
    "\n",
    "x_test = x_test.progress_apply(calculate_tx, axis=1)\n",
    "x_test"
   ],
   "metadata": {
    "collapsed": false
   }
  },
  {
   "cell_type": "code",
   "execution_count": 14,
   "outputs": [],
   "source": [
    "x_test.to_pickle('xdp_x_test.pkl')"
   ],
   "metadata": {
    "collapsed": false
   }
  }
 ],
 "metadata": {
  "kernelspec": {
   "display_name": "Python 3",
   "language": "python",
   "name": "python3"
  },
  "language_info": {
   "codemirror_mode": {
    "name": "ipython",
    "version": 2
   },
   "file_extension": ".py",
   "mimetype": "text/x-python",
   "name": "python",
   "nbconvert_exporter": "python",
   "pygments_lexer": "ipython2",
   "version": "2.7.6"
  }
 },
 "nbformat": 4,
 "nbformat_minor": 0
}
