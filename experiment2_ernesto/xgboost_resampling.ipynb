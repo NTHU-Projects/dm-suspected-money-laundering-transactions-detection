{
 "cells": [
  {
   "cell_type": "markdown",
   "metadata": {
    "pycharm": {
     "name": "#%% md\n"
    }
   },
   "source": [
    "## Read File"
   ]
  },
  {
   "cell_type": "code",
   "execution_count": 4,
   "metadata": {
    "collapsed": false,
    "pycharm": {
     "name": "#%%\n"
    }
   },
   "outputs": [
    {
     "data": {
      "text/plain": "'test'"
     },
     "execution_count": 4,
     "metadata": {},
     "output_type": "execute_result"
    }
   ],
   "source": [
    "\"test\""
   ]
  },
  {
   "cell_type": "code",
   "execution_count": 5,
   "metadata": {
    "pycharm": {
     "name": "#%%\n"
    }
   },
   "outputs": [],
   "source": [
    "import pandas as pd\n",
    "\n",
    "# CCBA_PATH = '../dataset/train_first/public_train_x_ccba_full_hashed.csv'\n",
    "# CDTX_PATH = '../dataset/train_first/public_train_x_cdtx0001_full_hashed.csv'\n",
    "# DP_PATH = '../dataset/train_first/public_train_x_dp_full_hashed.csv'\n",
    "# REMIT_PATH = '../dataset/train_first/public_train_x_remit1_full_hashed.csv'\n",
    "CUSTINFO_PATH = 'dataset/train_first/public_train_x_custinfo_full_hashed.csv'\n",
    "PDATE_PATH = 'dataset/train_first/public_x_alert_date.csv'\n",
    "TDATE_PATH = 'dataset/train_first/train_x_alert_date.csv'\n",
    "ANSWER_PATH = 'dataset/train_first/train_y_answer.csv'\n",
    "SAMPLE_PATH = 'dataset/train_first/sample_submission.csv'\n",
    "\n",
    "# ccba = pd.read_csv(CCBA_PATH)\n",
    "# cdtx = pd.read_csv(CDTX_PATH)\n",
    "# dp = pd.read_csv(DP_PATH)\n",
    "# remit = pd.read_csv(REMIT_PATH)\n",
    "cinfo = pd.read_csv(CUSTINFO_PATH)\n",
    "pdate = pd.read_csv(PDATE_PATH)\n",
    "tdate = pd.read_csv(TDATE_PATH)\n",
    "answer = pd.read_csv(ANSWER_PATH)\n",
    "sample = pd.read_csv(SAMPLE_PATH)"
   ]
  },
  {
   "cell_type": "code",
   "execution_count": 6,
   "outputs": [
    {
     "data": {
      "text/plain": "   alert_key  date\n0     352342   365\n1     352866   365\n2     352696   365\n3     352330   365\n4     352683   365",
      "text/html": "<div>\n<style scoped>\n    .dataframe tbody tr th:only-of-type {\n        vertical-align: middle;\n    }\n\n    .dataframe tbody tr th {\n        vertical-align: top;\n    }\n\n    .dataframe thead th {\n        text-align: right;\n    }\n</style>\n<table border=\"1\" class=\"dataframe\">\n  <thead>\n    <tr style=\"text-align: right;\">\n      <th></th>\n      <th>alert_key</th>\n      <th>date</th>\n    </tr>\n  </thead>\n  <tbody>\n    <tr>\n      <th>0</th>\n      <td>352342</td>\n      <td>365</td>\n    </tr>\n    <tr>\n      <th>1</th>\n      <td>352866</td>\n      <td>365</td>\n    </tr>\n    <tr>\n      <th>2</th>\n      <td>352696</td>\n      <td>365</td>\n    </tr>\n    <tr>\n      <th>3</th>\n      <td>352330</td>\n      <td>365</td>\n    </tr>\n    <tr>\n      <th>4</th>\n      <td>352683</td>\n      <td>365</td>\n    </tr>\n  </tbody>\n</table>\n</div>"
     },
     "execution_count": 6,
     "metadata": {},
     "output_type": "execute_result"
    }
   ],
   "source": [
    "pdate.head()"
   ],
   "metadata": {
    "collapsed": false,
    "pycharm": {
     "name": "#%%\n"
    }
   }
  },
  {
   "cell_type": "code",
   "execution_count": 7,
   "outputs": [
    {
     "data": {
      "text/plain": "   alert_key  date data_label\n0     352342   365       test\n1     352866   365       test\n2     352696   365       test\n3     352330   365       test\n4     352683   365       test",
      "text/html": "<div>\n<style scoped>\n    .dataframe tbody tr th:only-of-type {\n        vertical-align: middle;\n    }\n\n    .dataframe tbody tr th {\n        vertical-align: top;\n    }\n\n    .dataframe thead th {\n        text-align: right;\n    }\n</style>\n<table border=\"1\" class=\"dataframe\">\n  <thead>\n    <tr style=\"text-align: right;\">\n      <th></th>\n      <th>alert_key</th>\n      <th>date</th>\n      <th>data_label</th>\n    </tr>\n  </thead>\n  <tbody>\n    <tr>\n      <th>0</th>\n      <td>352342</td>\n      <td>365</td>\n      <td>test</td>\n    </tr>\n    <tr>\n      <th>1</th>\n      <td>352866</td>\n      <td>365</td>\n      <td>test</td>\n    </tr>\n    <tr>\n      <th>2</th>\n      <td>352696</td>\n      <td>365</td>\n      <td>test</td>\n    </tr>\n    <tr>\n      <th>3</th>\n      <td>352330</td>\n      <td>365</td>\n      <td>test</td>\n    </tr>\n    <tr>\n      <th>4</th>\n      <td>352683</td>\n      <td>365</td>\n      <td>test</td>\n    </tr>\n  </tbody>\n</table>\n</div>"
     },
     "execution_count": 7,
     "metadata": {},
     "output_type": "execute_result"
    }
   ],
   "source": [
    "# add data label\n",
    "# pdate > public_x_alert_date is a test dataset\n",
    "# tdate > train_x_alert_date is a train dataset\n",
    "pdate.insert(pdate.shape[1], \"data_label\", [\"test\"] * pdate.shape[0], True)\n",
    "tdate.insert(tdate.shape[1], \"data_label\", [\"train\"] * tdate.shape[0], True)\n",
    "date = pd.concat([pdate, tdate], axis=0)\n",
    "date.head()"
   ],
   "metadata": {
    "collapsed": false,
    "pycharm": {
     "name": "#%%\n"
    }
   }
  },
  {
   "cell_type": "code",
   "execution_count": 8,
   "outputs": [
    {
     "data": {
      "text/plain": "      alert_key  probability\n0        357307     0.000017\n3        357668     0.000489\n4        354443     0.000526\n5        361128     0.000887\n6        364753     0.001057\n...         ...          ...\n3842     357676     0.996705\n3844     360534     0.997549\n3845     364485     0.997702\n3846     363155     0.998987\n3848     358067     0.999821\n\n[1845 rows x 2 columns]",
      "text/html": "<div>\n<style scoped>\n    .dataframe tbody tr th:only-of-type {\n        vertical-align: middle;\n    }\n\n    .dataframe tbody tr th {\n        vertical-align: top;\n    }\n\n    .dataframe thead th {\n        text-align: right;\n    }\n</style>\n<table border=\"1\" class=\"dataframe\">\n  <thead>\n    <tr style=\"text-align: right;\">\n      <th></th>\n      <th>alert_key</th>\n      <th>probability</th>\n    </tr>\n  </thead>\n  <tbody>\n    <tr>\n      <th>0</th>\n      <td>357307</td>\n      <td>0.000017</td>\n    </tr>\n    <tr>\n      <th>3</th>\n      <td>357668</td>\n      <td>0.000489</td>\n    </tr>\n    <tr>\n      <th>4</th>\n      <td>354443</td>\n      <td>0.000526</td>\n    </tr>\n    <tr>\n      <th>5</th>\n      <td>361128</td>\n      <td>0.000887</td>\n    </tr>\n    <tr>\n      <th>6</th>\n      <td>364753</td>\n      <td>0.001057</td>\n    </tr>\n    <tr>\n      <th>...</th>\n      <td>...</td>\n      <td>...</td>\n    </tr>\n    <tr>\n      <th>3842</th>\n      <td>357676</td>\n      <td>0.996705</td>\n    </tr>\n    <tr>\n      <th>3844</th>\n      <td>360534</td>\n      <td>0.997549</td>\n    </tr>\n    <tr>\n      <th>3845</th>\n      <td>364485</td>\n      <td>0.997702</td>\n    </tr>\n    <tr>\n      <th>3846</th>\n      <td>363155</td>\n      <td>0.998987</td>\n    </tr>\n    <tr>\n      <th>3848</th>\n      <td>358067</td>\n      <td>0.999821</td>\n    </tr>\n  </tbody>\n</table>\n<p>1845 rows × 2 columns</p>\n</div>"
     },
     "execution_count": 8,
     "metadata": {},
     "output_type": "execute_result"
    }
   ],
   "source": [
    "# check if the public date and sample submission is the same key\n",
    "sample[sample['alert_key'].isin(pdate['alert_key'])]"
   ],
   "metadata": {
    "collapsed": false,
    "pycharm": {
     "name": "#%%\n"
    }
   }
  },
  {
   "cell_type": "markdown",
   "metadata": {
    "pycharm": {
     "name": "#%% md\n"
    }
   },
   "source": [
    "## Preprocess"
   ]
  },
  {
   "cell_type": "code",
   "execution_count": 9,
   "metadata": {
    "pycharm": {
     "name": "#%%\n"
    }
   },
   "outputs": [],
   "source": [
    "import pandas as pd"
   ]
  },
  {
   "cell_type": "code",
   "execution_count": 10,
   "metadata": {
    "pycharm": {
     "name": "#%%\n"
    }
   },
   "outputs": [],
   "source": [
    "# Map Date and target to 'cust_info'\n",
    "cinfo = cinfo.merge(date, on='alert_key', how='left')\n",
    "cinfo = cinfo.merge(answer, on='alert_key', how='left')"
   ]
  },
  {
   "cell_type": "code",
   "execution_count": 11,
   "outputs": [
    {
     "data": {
      "text/plain": "   alert_key                                            cust_id  risk_rank  \\\n0     352249  82595ac69158ae08d34156784bdec0d9e2ca5b242b6d2a...          1   \n1     352253  b212d14cb35676926682b2cf849e295d948888f556c07e...          1   \n2     352254  e5b0002791c7852644a2730abeaa893cdf14a072ef7812...          1   \n3     352280  74214c478dc6519fbefe4bc31693865bdcd698ab974b64...          3   \n4     352282  0340e7611f0d82c3cb87e6194fa14bb2ccf8afbf1b3418...          1   \n\n   occupation_code  total_asset  AGE  date data_label  sar_flag  \n0             19.0    1465816.0    7   365       test       NaN  \n1              2.0      98177.0    2   365       test       NaN  \n2             19.0    2052922.0    7   365       test       NaN  \n3             15.0     201906.0    5   365       test       NaN  \n4             12.0       7450.0    5   365       test       NaN  ",
      "text/html": "<div>\n<style scoped>\n    .dataframe tbody tr th:only-of-type {\n        vertical-align: middle;\n    }\n\n    .dataframe tbody tr th {\n        vertical-align: top;\n    }\n\n    .dataframe thead th {\n        text-align: right;\n    }\n</style>\n<table border=\"1\" class=\"dataframe\">\n  <thead>\n    <tr style=\"text-align: right;\">\n      <th></th>\n      <th>alert_key</th>\n      <th>cust_id</th>\n      <th>risk_rank</th>\n      <th>occupation_code</th>\n      <th>total_asset</th>\n      <th>AGE</th>\n      <th>date</th>\n      <th>data_label</th>\n      <th>sar_flag</th>\n    </tr>\n  </thead>\n  <tbody>\n    <tr>\n      <th>0</th>\n      <td>352249</td>\n      <td>82595ac69158ae08d34156784bdec0d9e2ca5b242b6d2a...</td>\n      <td>1</td>\n      <td>19.0</td>\n      <td>1465816.0</td>\n      <td>7</td>\n      <td>365</td>\n      <td>test</td>\n      <td>NaN</td>\n    </tr>\n    <tr>\n      <th>1</th>\n      <td>352253</td>\n      <td>b212d14cb35676926682b2cf849e295d948888f556c07e...</td>\n      <td>1</td>\n      <td>2.0</td>\n      <td>98177.0</td>\n      <td>2</td>\n      <td>365</td>\n      <td>test</td>\n      <td>NaN</td>\n    </tr>\n    <tr>\n      <th>2</th>\n      <td>352254</td>\n      <td>e5b0002791c7852644a2730abeaa893cdf14a072ef7812...</td>\n      <td>1</td>\n      <td>19.0</td>\n      <td>2052922.0</td>\n      <td>7</td>\n      <td>365</td>\n      <td>test</td>\n      <td>NaN</td>\n    </tr>\n    <tr>\n      <th>3</th>\n      <td>352280</td>\n      <td>74214c478dc6519fbefe4bc31693865bdcd698ab974b64...</td>\n      <td>3</td>\n      <td>15.0</td>\n      <td>201906.0</td>\n      <td>5</td>\n      <td>365</td>\n      <td>test</td>\n      <td>NaN</td>\n    </tr>\n    <tr>\n      <th>4</th>\n      <td>352282</td>\n      <td>0340e7611f0d82c3cb87e6194fa14bb2ccf8afbf1b3418...</td>\n      <td>1</td>\n      <td>12.0</td>\n      <td>7450.0</td>\n      <td>5</td>\n      <td>365</td>\n      <td>test</td>\n      <td>NaN</td>\n    </tr>\n  </tbody>\n</table>\n</div>"
     },
     "execution_count": 11,
     "metadata": {},
     "output_type": "execute_result"
    }
   ],
   "source": [
    "cinfo.head()"
   ],
   "metadata": {
    "collapsed": false,
    "pycharm": {
     "name": "#%%\n"
    }
   }
  },
  {
   "cell_type": "code",
   "execution_count": 12,
   "outputs": [
    {
     "data": {
      "text/plain": "      alert_key                                            cust_id  risk_rank  \\\n1845     171142  a39fea9aec90969fe66a2b2b4d1b86368a2d38e8b8d4bf...          3   \n1846     171152  7e42b5dca9b28ee8e5545beb834361e90e6197d176b389...          3   \n1847     171177  a6cdf6302aead77112013168c6d546d2df3bcb551956d2...          1   \n1848     171178  1a3efa69705f611c7ef2384a715c8142e2ee801cfec9df...          3   \n1849     171180  67f8cbb64dd3d447e992b1b299e0ceed3372188e47c88e...          1   \n\n      occupation_code  total_asset  AGE  date data_label  sar_flag  \n1845             12.0     241719.0    3     0      train       0.0  \n1846             13.0     599497.0    6     0      train       0.0  \n1847             19.0      51160.0    4     0      train       0.0  \n1848              9.0    3634343.0    6     0      train       0.0  \n1849             17.0    4076287.0    4     0      train       0.0  ",
      "text/html": "<div>\n<style scoped>\n    .dataframe tbody tr th:only-of-type {\n        vertical-align: middle;\n    }\n\n    .dataframe tbody tr th {\n        vertical-align: top;\n    }\n\n    .dataframe thead th {\n        text-align: right;\n    }\n</style>\n<table border=\"1\" class=\"dataframe\">\n  <thead>\n    <tr style=\"text-align: right;\">\n      <th></th>\n      <th>alert_key</th>\n      <th>cust_id</th>\n      <th>risk_rank</th>\n      <th>occupation_code</th>\n      <th>total_asset</th>\n      <th>AGE</th>\n      <th>date</th>\n      <th>data_label</th>\n      <th>sar_flag</th>\n    </tr>\n  </thead>\n  <tbody>\n    <tr>\n      <th>1845</th>\n      <td>171142</td>\n      <td>a39fea9aec90969fe66a2b2b4d1b86368a2d38e8b8d4bf...</td>\n      <td>3</td>\n      <td>12.0</td>\n      <td>241719.0</td>\n      <td>3</td>\n      <td>0</td>\n      <td>train</td>\n      <td>0.0</td>\n    </tr>\n    <tr>\n      <th>1846</th>\n      <td>171152</td>\n      <td>7e42b5dca9b28ee8e5545beb834361e90e6197d176b389...</td>\n      <td>3</td>\n      <td>13.0</td>\n      <td>599497.0</td>\n      <td>6</td>\n      <td>0</td>\n      <td>train</td>\n      <td>0.0</td>\n    </tr>\n    <tr>\n      <th>1847</th>\n      <td>171177</td>\n      <td>a6cdf6302aead77112013168c6d546d2df3bcb551956d2...</td>\n      <td>1</td>\n      <td>19.0</td>\n      <td>51160.0</td>\n      <td>4</td>\n      <td>0</td>\n      <td>train</td>\n      <td>0.0</td>\n    </tr>\n    <tr>\n      <th>1848</th>\n      <td>171178</td>\n      <td>1a3efa69705f611c7ef2384a715c8142e2ee801cfec9df...</td>\n      <td>3</td>\n      <td>9.0</td>\n      <td>3634343.0</td>\n      <td>6</td>\n      <td>0</td>\n      <td>train</td>\n      <td>0.0</td>\n    </tr>\n    <tr>\n      <th>1849</th>\n      <td>171180</td>\n      <td>67f8cbb64dd3d447e992b1b299e0ceed3372188e47c88e...</td>\n      <td>1</td>\n      <td>17.0</td>\n      <td>4076287.0</td>\n      <td>4</td>\n      <td>0</td>\n      <td>train</td>\n      <td>0.0</td>\n    </tr>\n  </tbody>\n</table>\n</div>"
     },
     "execution_count": 12,
     "metadata": {},
     "output_type": "execute_result"
    }
   ],
   "source": [
    "import copy\n",
    "\n",
    "# separate\n",
    "train_cinfo = copy.deepcopy(cinfo)\n",
    "train_cinfo = train_cinfo[~pd.isna(train_cinfo['sar_flag'])]\n",
    "train_cinfo.head()"
   ],
   "metadata": {
    "collapsed": false,
    "pycharm": {
     "name": "#%%\n"
    }
   }
  },
  {
   "cell_type": "code",
   "execution_count": 13,
   "outputs": [
    {
     "data": {
      "text/plain": "{'AGE': {3: 1.1390728476821192,\n  6: 0.5569306930693069,\n  4: 0.8374384236453201,\n  5: 0.7261724659606656,\n  2: 1.2917115177610334,\n  9: 0.0,\n  1: 1.1363636363636365,\n  7: 0.22522522522522523,\n  8: 2.3529411764705883,\n  10: 0.0,\n  0: 0.0},\n 'risk_rank': {3: 0.21413276231263384,\n  1: 1.2931842318985445,\n  2: 1.4423076923076923,\n  0: 0.0},\n 'date': {0: 1.1363636363636365,\n  5: 0.6578947368421052,\n  6: 0.0,\n  7: 1.2048192771084338,\n  8: 0.0,\n  11: 0.0,\n  12: 2.380952380952381,\n  13: 0.4878048780487805,\n  14: 2.127659574468085,\n  15: 0.0,\n  18: 0.9900990099009901,\n  19: 1.1494252873563218,\n  20: 0.0,\n  21: 1.3157894736842104,\n  22: 0.0,\n  25: 0.847457627118644,\n  26: 4.477611940298507,\n  27: 2.197802197802198,\n  28: 1.1627906976744187,\n  32: 2.2058823529411766,\n  33: 1.2987012987012987,\n  34: 1.098901098901099,\n  35: 1.2658227848101267,\n  36: 3.7037037037037033,\n  39: 1.8518518518518516,\n  40: 1.2658227848101267,\n  41: 3.7037037037037033,\n  42: 2.197802197802198,\n  43: 5.747126436781609,\n  46: 2.0,\n  47: 3.614457831325301,\n  48: 3.79746835443038,\n  49: 4.545454545454546,\n  50: 2.8169014084507045,\n  53: 5.434782608695652,\n  54: 4.6875,\n  55: 3.0303030303030303,\n  56: 0.0,\n  57: 4.081632653061225,\n  60: 4.597701149425287,\n  61: 0.0,\n  62: 2.7027027027027026,\n  63: 1.5873015873015872,\n  64: 2.941176470588235,\n  67: 0.0,\n  69: 1.6666666666666667,\n  68: 4.878048780487805,\n  70: 2.631578947368421,\n  71: 3.896103896103896,\n  75: 4.3478260869565215,\n  76: 1.4925373134328357,\n  77: 0.0,\n  78: 0.0,\n  82: 0.0,\n  83: 1.6129032258064515,\n  84: 4.285714285714286,\n  81: 1.9607843137254901,\n  85: 2.8169014084507045,\n  88: 2.0618556701030926,\n  90: 5.084745762711865,\n  91: 0.0,\n  89: 0.0,\n  92: 1.4084507042253522,\n  95: 2.8301886792452833,\n  96: 0.0,\n  97: 1.6666666666666667,\n  98: 1.36986301369863,\n  99: 1.5625,\n  102: 4.761904761904762,\n  103: 4.411764705882353,\n  104: 1.5151515151515151,\n  105: 3.1746031746031744,\n  106: 3.125,\n  109: 1.098901098901099,\n  110: 1.5151515151515151,\n  111: 0.0,\n  112: 2.857142857142857,\n  113: 0.0,\n  116: 2.3529411764705883,\n  117: 1.5151515151515151,\n  118: 2.3529411764705883,\n  119: 0.0,\n  123: 1.1235955056179776,\n  124: 1.5151515151515151,\n  125: 1.3333333333333335,\n  126: 1.2345679012345678,\n  120: 0.0,\n  127: 0.0,\n  130: 1.9607843137254901,\n  131: 3.4482758620689653,\n  132: 0.0,\n  133: 1.5873015873015872,\n  134: 3.1746031746031744,\n  137: 1.2048192771084338,\n  138: 1.1764705882352942,\n  139: 0.0,\n  140: 0.0,\n  141: 1.36986301369863,\n  144: 1.36986301369863,\n  145: 0.0,\n  146: 0.0,\n  147: 0.0,\n  148: 0.0,\n  151: 4.651162790697675,\n  152: 0.0,\n  153: 0.0,\n  154: 1.2658227848101267,\n  155: 0.0,\n  158: 1.1111111111111112,\n  159: 0.0,\n  160: 0.0,\n  161: 1.639344262295082,\n  162: 2.631578947368421,\n  163: 0.0,\n  165: 3.8461538461538463,\n  166: 1.4285714285714286,\n  167: 2.2988505747126435,\n  168: 0.0,\n  169: 2.631578947368421,\n  174: 0.8620689655172413,\n  175: 0.0,\n  176: 1.098901098901099,\n  179: 0.9090909090909091,\n  180: 0.0,\n  181: 0.0,\n  182: 1.3333333333333335,\n  183: 0.0,\n  186: 1.1764705882352942,\n  187: 1.2345679012345678,\n  188: 1.2987012987012987,\n  189: 3.076923076923077,\n  190: 2.5316455696202533,\n  194: 1.680672268907563,\n  195: 2.4691358024691357,\n  196: 0.0,\n  197: 1.4285714285714286,\n  200: 2.912621359223301,\n  201: 1.0752688172043012,\n  202: 0.0,\n  203: 1.1494252873563218,\n  204: 0.0,\n  207: 1.7094017094017095,\n  208: 0.0,\n  209: 0.0,\n  210: 0.0,\n  211: 1.2658227848101267,\n  215: 0.0,\n  216: 2.380952380952381,\n  217: 1.1904761904761905,\n  218: 1.0638297872340425,\n  221: 0.0,\n  222: 0.0,\n  223: 0.0,\n  224: 0.0,\n  225: 2.272727272727273,\n  229: 0.9708737864077669,\n  230: 0.0,\n  231: 0.0,\n  232: 1.0752688172043012,\n  235: 0.9523809523809524,\n  236: 2.0618556701030926,\n  237: 0.0,\n  238: 0.0,\n  239: 1.3157894736842104,\n  242: 0.0,\n  244: 0.9433962264150944,\n  245: 1.098901098901099,\n  246: 0.0,\n  250: 1.5625,\n  251: 0.0,\n  252: 0.7092198581560284,\n  253: 0.0,\n  257: 0.6896551724137931,\n  258: 0.0,\n  259: 0.0,\n  260: 1.574803149606299,\n  263: 0.0,\n  265: 0.0,\n  266: 0.8547008547008548,\n  267: 0.8620689655172413,\n  270: 0.0,\n  271: 0.0,\n  272: 0.0,\n  273: 0.41841004184100417,\n  277: 0.9302325581395349,\n  279: 1.0,\n  280: 1.9704433497536946,\n  281: 0.9174311926605505,\n  284: 1.4184397163120568,\n  285: 0.0,\n  286: 0.0,\n  287: 0.0,\n  278: 0.0,\n  288: 0.8928571428571428,\n  291: 0.9345794392523363,\n  293: 0.0,\n  294: 0.0,\n  295: 0.0,\n  292: 1.2195121951219512,\n  298: 0.0,\n  299: 0.0,\n  300: 0.0,\n  301: 0.0,\n  296: 0.0,\n  302: 0.0,\n  313: 0.0,\n  314: 0.0,\n  315: 0.8849557522123894,\n  316: 0.0,\n  319: 0.0,\n  320: 0.0,\n  321: 0.0,\n  322: 0.0,\n  323: 0.0,\n  327: 0.0,\n  328: 0.0,\n  329: 0.0,\n  312: 0.0,\n  330: 0.0,\n  335: 0.0,\n  336: 0.0,\n  326: 0.0,\n  337: 0.0,\n  341: 0.0,\n  342: 0.0,\n  343: 0.0,\n  340: 0.0,\n  344: 0.9615384615384616,\n  347: 0.0,\n  348: 0.0,\n  349: 1.0416666666666665,\n  350: 0.0,\n  334: 0.0,\n  351: 1.098901098901099,\n  354: 0.0,\n  355: 1.2658227848101267,\n  356: 1.4705882352941175,\n  357: 0.0,\n  358: 1.1764705882352942,\n  361: 0.0,\n  362: 0.0,\n  363: 1.1111111111111112,\n  364: 0.0},\n 'occupation_code': {12.0: 0.7585335018963337,\n  13.0: 1.6930022573363432,\n  19.0: 0.9419680403700589,\n  9.0: 0.563014291901256,\n  17.0: 1.0621348911311737,\n  11.0: 2.6058631921824107,\n  14.0: 1.5254237288135595,\n  3.0: 1.7793594306049825,\n  4.0: 0.8113590263691683,\n  18.0: 0.946969696969697,\n  5.0: 0.5543237250554324,\n  15.0: 1.5217391304347827,\n  1.0: 6.25,\n  16.0: 0.9900990099009901,\n  nan: 0,\n  8.0: 0.7407407407407408,\n  7.0: 0.0,\n  20.0: 0.0,\n  2.0: 1.282051282051282,\n  0.0: 0.0,\n  10.0: 1.639344262295082,\n  6.0: 0.0}}"
     },
     "execution_count": 13,
     "metadata": {},
     "output_type": "execute_result"
    }
   ],
   "source": [
    "mean_encoding_map = {}\n",
    "\n",
    "\n",
    "def mean_encoding(key):\n",
    "    key_map = {}\n",
    "    keys = pd.unique(train_cinfo[key])  #[k for k in pd.unique(X_under[key]) if not (pd.isna(k))]\n",
    "    for k in keys:\n",
    "        if pd.isna(k):\n",
    "            key_map[k] = 0\n",
    "            continue\n",
    "        is_sar_num = len((train_cinfo[(train_cinfo['sar_flag'] == 1.0) & (train_cinfo[key] == k)]))\n",
    "        total_num = len(train_cinfo[train_cinfo[key] == k])\n",
    "        mean_val = is_sar_num / total_num * 100\n",
    "        key_map[k] = mean_val\n",
    "    mean_encoding_map[key] = key_map\n",
    "\n",
    "\n",
    "mean_encoding('AGE')\n",
    "mean_encoding('risk_rank')\n",
    "mean_encoding('date')\n",
    "mean_encoding('occupation_code')\n",
    "mean_encoding_map"
   ],
   "metadata": {
    "collapsed": false,
    "pycharm": {
     "name": "#%%\n"
    }
   }
  },
  {
   "cell_type": "code",
   "execution_count": 14,
   "outputs": [
    {
     "data": {
      "text/plain": "   alert_key                                            cust_id  risk_rank  \\\n0     352249  82595ac69158ae08d34156784bdec0d9e2ca5b242b6d2a...          1   \n1     352253  b212d14cb35676926682b2cf849e295d948888f556c07e...          1   \n2     352254  e5b0002791c7852644a2730abeaa893cdf14a072ef7812...          1   \n3     352280  74214c478dc6519fbefe4bc31693865bdcd698ab974b64...          3   \n4     352282  0340e7611f0d82c3cb87e6194fa14bb2ccf8afbf1b3418...          1   \n\n   occupation_code  total_asset  AGE  date data_label  sar_flag  AGE_encoding  \\\n0             19.0    1465816.0    7   365       test       NaN             0   \n1              2.0      98177.0    2   365       test       NaN             0   \n2             19.0    2052922.0    7   365       test       NaN             0   \n3             15.0     201906.0    5   365       test       NaN             0   \n4             12.0       7450.0    5   365       test       NaN             0   \n\n   risk_rank_encoding  date_encoding  occupation_code_encoding  \n0                   0              0                         0  \n1                   0              0                         0  \n2                   0              0                         0  \n3                   0              0                         0  \n4                   0              0                         0  ",
      "text/html": "<div>\n<style scoped>\n    .dataframe tbody tr th:only-of-type {\n        vertical-align: middle;\n    }\n\n    .dataframe tbody tr th {\n        vertical-align: top;\n    }\n\n    .dataframe thead th {\n        text-align: right;\n    }\n</style>\n<table border=\"1\" class=\"dataframe\">\n  <thead>\n    <tr style=\"text-align: right;\">\n      <th></th>\n      <th>alert_key</th>\n      <th>cust_id</th>\n      <th>risk_rank</th>\n      <th>occupation_code</th>\n      <th>total_asset</th>\n      <th>AGE</th>\n      <th>date</th>\n      <th>data_label</th>\n      <th>sar_flag</th>\n      <th>AGE_encoding</th>\n      <th>risk_rank_encoding</th>\n      <th>date_encoding</th>\n      <th>occupation_code_encoding</th>\n    </tr>\n  </thead>\n  <tbody>\n    <tr>\n      <th>0</th>\n      <td>352249</td>\n      <td>82595ac69158ae08d34156784bdec0d9e2ca5b242b6d2a...</td>\n      <td>1</td>\n      <td>19.0</td>\n      <td>1465816.0</td>\n      <td>7</td>\n      <td>365</td>\n      <td>test</td>\n      <td>NaN</td>\n      <td>0</td>\n      <td>0</td>\n      <td>0</td>\n      <td>0</td>\n    </tr>\n    <tr>\n      <th>1</th>\n      <td>352253</td>\n      <td>b212d14cb35676926682b2cf849e295d948888f556c07e...</td>\n      <td>1</td>\n      <td>2.0</td>\n      <td>98177.0</td>\n      <td>2</td>\n      <td>365</td>\n      <td>test</td>\n      <td>NaN</td>\n      <td>0</td>\n      <td>0</td>\n      <td>0</td>\n      <td>0</td>\n    </tr>\n    <tr>\n      <th>2</th>\n      <td>352254</td>\n      <td>e5b0002791c7852644a2730abeaa893cdf14a072ef7812...</td>\n      <td>1</td>\n      <td>19.0</td>\n      <td>2052922.0</td>\n      <td>7</td>\n      <td>365</td>\n      <td>test</td>\n      <td>NaN</td>\n      <td>0</td>\n      <td>0</td>\n      <td>0</td>\n      <td>0</td>\n    </tr>\n    <tr>\n      <th>3</th>\n      <td>352280</td>\n      <td>74214c478dc6519fbefe4bc31693865bdcd698ab974b64...</td>\n      <td>3</td>\n      <td>15.0</td>\n      <td>201906.0</td>\n      <td>5</td>\n      <td>365</td>\n      <td>test</td>\n      <td>NaN</td>\n      <td>0</td>\n      <td>0</td>\n      <td>0</td>\n      <td>0</td>\n    </tr>\n    <tr>\n      <th>4</th>\n      <td>352282</td>\n      <td>0340e7611f0d82c3cb87e6194fa14bb2ccf8afbf1b3418...</td>\n      <td>1</td>\n      <td>12.0</td>\n      <td>7450.0</td>\n      <td>5</td>\n      <td>365</td>\n      <td>test</td>\n      <td>NaN</td>\n      <td>0</td>\n      <td>0</td>\n      <td>0</td>\n      <td>0</td>\n    </tr>\n  </tbody>\n</table>\n</div>"
     },
     "execution_count": 14,
     "metadata": {},
     "output_type": "execute_result"
    }
   ],
   "source": [
    "for k, v in mean_encoding_map.items():\n",
    "    mean_encoding_val = [0 if (pd.isna(x) or v.get(k) is None) else v[x] for x in cinfo[k]]\n",
    "    column_name = k + \"_encoding\"\n",
    "    cinfo = pd.concat([cinfo, pd.DataFrame({column_name: mean_encoding_val})], axis=1)\n",
    "\n",
    "cinfo.head()"
   ],
   "metadata": {
    "collapsed": false,
    "pycharm": {
     "name": "#%%\n"
    }
   }
  },
  {
   "cell_type": "code",
   "execution_count": 15,
   "outputs": [
    {
     "data": {
      "text/plain": "23906"
     },
     "execution_count": 15,
     "metadata": {},
     "output_type": "execute_result"
    }
   ],
   "source": [
    "X = cinfo[cinfo['data_label'] == 'train']\n",
    "len(X)"
   ],
   "metadata": {
    "collapsed": false,
    "pycharm": {
     "name": "#%%\n"
    }
   }
  },
  {
   "cell_type": "code",
   "execution_count": 16,
   "outputs": [
    {
     "data": {
      "text/plain": "1845"
     },
     "execution_count": 16,
     "metadata": {},
     "output_type": "execute_result"
    }
   ],
   "source": [
    "test = cinfo[cinfo['data_label'] == 'test']\n",
    "len(test)"
   ],
   "metadata": {
    "collapsed": false,
    "pycharm": {
     "name": "#%%\n"
    }
   }
  },
  {
   "cell_type": "code",
   "execution_count": 17,
   "outputs": [
    {
     "data": {
      "text/plain": "0    352249\n1    352253\n2    352254\n3    352280\n4    352282\nName: alert_key, dtype: int64"
     },
     "execution_count": 17,
     "metadata": {},
     "output_type": "execute_result"
    }
   ],
   "source": [
    "test_alert_keys = test['alert_key']\n",
    "test_alert_keys.head()"
   ],
   "metadata": {
    "collapsed": false,
    "pycharm": {
     "name": "#%%\n"
    }
   }
  },
  {
   "cell_type": "code",
   "execution_count": 18,
   "outputs": [
    {
     "data": {
      "text/plain": "   alert_key                                            cust_id  risk_rank  \\\n0     352249  82595ac69158ae08d34156784bdec0d9e2ca5b242b6d2a...          1   \n1     352253  b212d14cb35676926682b2cf849e295d948888f556c07e...          1   \n2     352254  e5b0002791c7852644a2730abeaa893cdf14a072ef7812...          1   \n3     352280  74214c478dc6519fbefe4bc31693865bdcd698ab974b64...          3   \n4     352282  0340e7611f0d82c3cb87e6194fa14bb2ccf8afbf1b3418...          1   \n\n   occupation_code  total_asset  AGE  date data_label  sar_flag  AGE_encoding  \\\n0             19.0    1465816.0    7   365       test       NaN             0   \n1              2.0      98177.0    2   365       test       NaN             0   \n2             19.0    2052922.0    7   365       test       NaN             0   \n3             15.0     201906.0    5   365       test       NaN             0   \n4             12.0       7450.0    5   365       test       NaN             0   \n\n   risk_rank_encoding  date_encoding  occupation_code_encoding  \n0                   0              0                         0  \n1                   0              0                         0  \n2                   0              0                         0  \n3                   0              0                         0  \n4                   0              0                         0  ",
      "text/html": "<div>\n<style scoped>\n    .dataframe tbody tr th:only-of-type {\n        vertical-align: middle;\n    }\n\n    .dataframe tbody tr th {\n        vertical-align: top;\n    }\n\n    .dataframe thead th {\n        text-align: right;\n    }\n</style>\n<table border=\"1\" class=\"dataframe\">\n  <thead>\n    <tr style=\"text-align: right;\">\n      <th></th>\n      <th>alert_key</th>\n      <th>cust_id</th>\n      <th>risk_rank</th>\n      <th>occupation_code</th>\n      <th>total_asset</th>\n      <th>AGE</th>\n      <th>date</th>\n      <th>data_label</th>\n      <th>sar_flag</th>\n      <th>AGE_encoding</th>\n      <th>risk_rank_encoding</th>\n      <th>date_encoding</th>\n      <th>occupation_code_encoding</th>\n    </tr>\n  </thead>\n  <tbody>\n    <tr>\n      <th>0</th>\n      <td>352249</td>\n      <td>82595ac69158ae08d34156784bdec0d9e2ca5b242b6d2a...</td>\n      <td>1</td>\n      <td>19.0</td>\n      <td>1465816.0</td>\n      <td>7</td>\n      <td>365</td>\n      <td>test</td>\n      <td>NaN</td>\n      <td>0</td>\n      <td>0</td>\n      <td>0</td>\n      <td>0</td>\n    </tr>\n    <tr>\n      <th>1</th>\n      <td>352253</td>\n      <td>b212d14cb35676926682b2cf849e295d948888f556c07e...</td>\n      <td>1</td>\n      <td>2.0</td>\n      <td>98177.0</td>\n      <td>2</td>\n      <td>365</td>\n      <td>test</td>\n      <td>NaN</td>\n      <td>0</td>\n      <td>0</td>\n      <td>0</td>\n      <td>0</td>\n    </tr>\n    <tr>\n      <th>2</th>\n      <td>352254</td>\n      <td>e5b0002791c7852644a2730abeaa893cdf14a072ef7812...</td>\n      <td>1</td>\n      <td>19.0</td>\n      <td>2052922.0</td>\n      <td>7</td>\n      <td>365</td>\n      <td>test</td>\n      <td>NaN</td>\n      <td>0</td>\n      <td>0</td>\n      <td>0</td>\n      <td>0</td>\n    </tr>\n    <tr>\n      <th>3</th>\n      <td>352280</td>\n      <td>74214c478dc6519fbefe4bc31693865bdcd698ab974b64...</td>\n      <td>3</td>\n      <td>15.0</td>\n      <td>201906.0</td>\n      <td>5</td>\n      <td>365</td>\n      <td>test</td>\n      <td>NaN</td>\n      <td>0</td>\n      <td>0</td>\n      <td>0</td>\n      <td>0</td>\n    </tr>\n    <tr>\n      <th>4</th>\n      <td>352282</td>\n      <td>0340e7611f0d82c3cb87e6194fa14bb2ccf8afbf1b3418...</td>\n      <td>1</td>\n      <td>12.0</td>\n      <td>7450.0</td>\n      <td>5</td>\n      <td>365</td>\n      <td>test</td>\n      <td>NaN</td>\n      <td>0</td>\n      <td>0</td>\n      <td>0</td>\n      <td>0</td>\n    </tr>\n  </tbody>\n</table>\n</div>"
     },
     "execution_count": 18,
     "metadata": {},
     "output_type": "execute_result"
    }
   ],
   "source": [
    "test.head()"
   ],
   "metadata": {
    "collapsed": false,
    "pycharm": {
     "name": "#%%\n"
    }
   }
  },
  {
   "cell_type": "markdown",
   "source": [
    "### Drop confusing customer id\n",
    "1. get all alert flag where customer id is sar\n",
    "2. remove all data where cust_id is in sar for non-sar record"
   ],
   "metadata": {
    "collapsed": false,
    "pycharm": {
     "name": "#%% md\n"
    }
   }
  },
  {
   "cell_type": "code",
   "execution_count": 19,
   "outputs": [
    {
     "data": {
      "text/plain": "      alert_key                                            cust_id  risk_rank  \\\n1926     171770  25cf26d9c40bb9f71292b809c4f92018b9bdfe3529c510...          1   \n2026     172480  7fde997da7e7a95280460889004bd2f23050bd8953de7e...          3   \n2281     174298  bf19e3fe441d8dfa31794de3b4c318770ca7da5b4f5973...          1   \n3443     177788  6400e6bb0fea2dc8410931f6eaf99e9513e4c025f9c9c2...          1   \n3479     177960  26eeff4dcdbf9ddb3e2628f8710a1e87b1ea53d37e0331...          1   \n\n      occupation_code  total_asset  AGE  date data_label  sar_flag  \\\n1926             17.0    1913895.0    4     0      train       1.0   \n2026             12.0       8251.0    4     5      train       1.0   \n2281             19.0     186714.0    7     7      train       1.0   \n3443             15.0    1744729.0    5    12      train       1.0   \n3479              9.0     238193.0    2    12      train       1.0   \n\n      AGE_encoding  risk_rank_encoding  date_encoding  \\\n1926             0                   0              0   \n2026             0                   0              0   \n2281             0                   0              0   \n3443             0                   0              0   \n3479             0                   0              0   \n\n      occupation_code_encoding  \n1926                         0  \n2026                         0  \n2281                         0  \n3443                         0  \n3479                         0  ",
      "text/html": "<div>\n<style scoped>\n    .dataframe tbody tr th:only-of-type {\n        vertical-align: middle;\n    }\n\n    .dataframe tbody tr th {\n        vertical-align: top;\n    }\n\n    .dataframe thead th {\n        text-align: right;\n    }\n</style>\n<table border=\"1\" class=\"dataframe\">\n  <thead>\n    <tr style=\"text-align: right;\">\n      <th></th>\n      <th>alert_key</th>\n      <th>cust_id</th>\n      <th>risk_rank</th>\n      <th>occupation_code</th>\n      <th>total_asset</th>\n      <th>AGE</th>\n      <th>date</th>\n      <th>data_label</th>\n      <th>sar_flag</th>\n      <th>AGE_encoding</th>\n      <th>risk_rank_encoding</th>\n      <th>date_encoding</th>\n      <th>occupation_code_encoding</th>\n    </tr>\n  </thead>\n  <tbody>\n    <tr>\n      <th>1926</th>\n      <td>171770</td>\n      <td>25cf26d9c40bb9f71292b809c4f92018b9bdfe3529c510...</td>\n      <td>1</td>\n      <td>17.0</td>\n      <td>1913895.0</td>\n      <td>4</td>\n      <td>0</td>\n      <td>train</td>\n      <td>1.0</td>\n      <td>0</td>\n      <td>0</td>\n      <td>0</td>\n      <td>0</td>\n    </tr>\n    <tr>\n      <th>2026</th>\n      <td>172480</td>\n      <td>7fde997da7e7a95280460889004bd2f23050bd8953de7e...</td>\n      <td>3</td>\n      <td>12.0</td>\n      <td>8251.0</td>\n      <td>4</td>\n      <td>5</td>\n      <td>train</td>\n      <td>1.0</td>\n      <td>0</td>\n      <td>0</td>\n      <td>0</td>\n      <td>0</td>\n    </tr>\n    <tr>\n      <th>2281</th>\n      <td>174298</td>\n      <td>bf19e3fe441d8dfa31794de3b4c318770ca7da5b4f5973...</td>\n      <td>1</td>\n      <td>19.0</td>\n      <td>186714.0</td>\n      <td>7</td>\n      <td>7</td>\n      <td>train</td>\n      <td>1.0</td>\n      <td>0</td>\n      <td>0</td>\n      <td>0</td>\n      <td>0</td>\n    </tr>\n    <tr>\n      <th>3443</th>\n      <td>177788</td>\n      <td>6400e6bb0fea2dc8410931f6eaf99e9513e4c025f9c9c2...</td>\n      <td>1</td>\n      <td>15.0</td>\n      <td>1744729.0</td>\n      <td>5</td>\n      <td>12</td>\n      <td>train</td>\n      <td>1.0</td>\n      <td>0</td>\n      <td>0</td>\n      <td>0</td>\n      <td>0</td>\n    </tr>\n    <tr>\n      <th>3479</th>\n      <td>177960</td>\n      <td>26eeff4dcdbf9ddb3e2628f8710a1e87b1ea53d37e0331...</td>\n      <td>1</td>\n      <td>9.0</td>\n      <td>238193.0</td>\n      <td>2</td>\n      <td>12</td>\n      <td>train</td>\n      <td>1.0</td>\n      <td>0</td>\n      <td>0</td>\n      <td>0</td>\n      <td>0</td>\n    </tr>\n  </tbody>\n</table>\n</div>"
     },
     "execution_count": 19,
     "metadata": {},
     "output_type": "execute_result"
    }
   ],
   "source": [
    "sar_cust = X[X['sar_flag'] == 1]\n",
    "sar_cust.head()"
   ],
   "metadata": {
    "collapsed": false,
    "pycharm": {
     "name": "#%%\n"
    }
   }
  },
  {
   "cell_type": "code",
   "execution_count": 20,
   "outputs": [
    {
     "data": {
      "text/plain": "(23019, 13)"
     },
     "execution_count": 20,
     "metadata": {},
     "output_type": "execute_result"
    }
   ],
   "source": [
    "X = X[~X['cust_id'].isin(sar_cust.cust_id.tolist())]\n",
    "X.shape"
   ],
   "metadata": {
    "collapsed": false,
    "pycharm": {
     "name": "#%%\n"
    }
   }
  },
  {
   "cell_type": "code",
   "execution_count": 21,
   "outputs": [
    {
     "data": {
      "text/plain": "      alert_key                                            cust_id  risk_rank  \\\n1845     171142  a39fea9aec90969fe66a2b2b4d1b86368a2d38e8b8d4bf...          3   \n1846     171152  7e42b5dca9b28ee8e5545beb834361e90e6197d176b389...          3   \n1847     171177  a6cdf6302aead77112013168c6d546d2df3bcb551956d2...          1   \n1848     171178  1a3efa69705f611c7ef2384a715c8142e2ee801cfec9df...          3   \n1849     171180  67f8cbb64dd3d447e992b1b299e0ceed3372188e47c88e...          1   \n\n      occupation_code  total_asset  AGE  date data_label  sar_flag  \\\n1845             12.0     241719.0    3     0      train       0.0   \n1846             13.0     599497.0    6     0      train       0.0   \n1847             19.0      51160.0    4     0      train       0.0   \n1848              9.0    3634343.0    6     0      train       0.0   \n1849             17.0    4076287.0    4     0      train       0.0   \n\n      AGE_encoding  risk_rank_encoding  date_encoding  \\\n1845             0                   0              0   \n1846             0                   0              0   \n1847             0                   0              0   \n1848             0                   0              0   \n1849             0                   0              0   \n\n      occupation_code_encoding  \n1845                         0  \n1846                         0  \n1847                         0  \n1848                         0  \n1849                         0  ",
      "text/html": "<div>\n<style scoped>\n    .dataframe tbody tr th:only-of-type {\n        vertical-align: middle;\n    }\n\n    .dataframe tbody tr th {\n        vertical-align: top;\n    }\n\n    .dataframe thead th {\n        text-align: right;\n    }\n</style>\n<table border=\"1\" class=\"dataframe\">\n  <thead>\n    <tr style=\"text-align: right;\">\n      <th></th>\n      <th>alert_key</th>\n      <th>cust_id</th>\n      <th>risk_rank</th>\n      <th>occupation_code</th>\n      <th>total_asset</th>\n      <th>AGE</th>\n      <th>date</th>\n      <th>data_label</th>\n      <th>sar_flag</th>\n      <th>AGE_encoding</th>\n      <th>risk_rank_encoding</th>\n      <th>date_encoding</th>\n      <th>occupation_code_encoding</th>\n    </tr>\n  </thead>\n  <tbody>\n    <tr>\n      <th>1845</th>\n      <td>171142</td>\n      <td>a39fea9aec90969fe66a2b2b4d1b86368a2d38e8b8d4bf...</td>\n      <td>3</td>\n      <td>12.0</td>\n      <td>241719.0</td>\n      <td>3</td>\n      <td>0</td>\n      <td>train</td>\n      <td>0.0</td>\n      <td>0</td>\n      <td>0</td>\n      <td>0</td>\n      <td>0</td>\n    </tr>\n    <tr>\n      <th>1846</th>\n      <td>171152</td>\n      <td>7e42b5dca9b28ee8e5545beb834361e90e6197d176b389...</td>\n      <td>3</td>\n      <td>13.0</td>\n      <td>599497.0</td>\n      <td>6</td>\n      <td>0</td>\n      <td>train</td>\n      <td>0.0</td>\n      <td>0</td>\n      <td>0</td>\n      <td>0</td>\n      <td>0</td>\n    </tr>\n    <tr>\n      <th>1847</th>\n      <td>171177</td>\n      <td>a6cdf6302aead77112013168c6d546d2df3bcb551956d2...</td>\n      <td>1</td>\n      <td>19.0</td>\n      <td>51160.0</td>\n      <td>4</td>\n      <td>0</td>\n      <td>train</td>\n      <td>0.0</td>\n      <td>0</td>\n      <td>0</td>\n      <td>0</td>\n      <td>0</td>\n    </tr>\n    <tr>\n      <th>1848</th>\n      <td>171178</td>\n      <td>1a3efa69705f611c7ef2384a715c8142e2ee801cfec9df...</td>\n      <td>3</td>\n      <td>9.0</td>\n      <td>3634343.0</td>\n      <td>6</td>\n      <td>0</td>\n      <td>train</td>\n      <td>0.0</td>\n      <td>0</td>\n      <td>0</td>\n      <td>0</td>\n      <td>0</td>\n    </tr>\n    <tr>\n      <th>1849</th>\n      <td>171180</td>\n      <td>67f8cbb64dd3d447e992b1b299e0ceed3372188e47c88e...</td>\n      <td>1</td>\n      <td>17.0</td>\n      <td>4076287.0</td>\n      <td>4</td>\n      <td>0</td>\n      <td>train</td>\n      <td>0.0</td>\n      <td>0</td>\n      <td>0</td>\n      <td>0</td>\n      <td>0</td>\n    </tr>\n  </tbody>\n</table>\n</div>"
     },
     "execution_count": 21,
     "metadata": {},
     "output_type": "execute_result"
    }
   ],
   "source": [
    "X = pd.concat([X, sar_cust])\n",
    "X.head()"
   ],
   "metadata": {
    "collapsed": false,
    "pycharm": {
     "name": "#%%\n"
    }
   }
  },
  {
   "cell_type": "code",
   "execution_count": 22,
   "outputs": [
    {
     "data": {
      "text/plain": "(23253,)"
     },
     "execution_count": 22,
     "metadata": {},
     "output_type": "execute_result"
    }
   ],
   "source": [
    "y = X['sar_flag']\n",
    "y.shape"
   ],
   "metadata": {
    "collapsed": false,
    "pycharm": {
     "name": "#%%\n"
    }
   }
  },
  {
   "cell_type": "markdown",
   "source": [
    "## Deal with imbalance problem\n",
    "-  Over sampling\n",
    "-  Under sampling"
   ],
   "metadata": {
    "collapsed": false,
    "pycharm": {
     "name": "#%% md\n"
    }
   }
  },
  {
   "cell_type": "markdown",
   "source": [
    "### Training XGBoost - Over sampling"
   ],
   "metadata": {
    "collapsed": false,
    "pycharm": {
     "name": "#%% md\n"
    }
   }
  },
  {
   "cell_type": "code",
   "execution_count": 23,
   "outputs": [
    {
     "data": {
      "text/plain": "((22903, 11), (22903, 11))"
     },
     "execution_count": 23,
     "metadata": {},
     "output_type": "execute_result"
    }
   ],
   "source": [
    "from imblearn.over_sampling import SMOTE\n",
    "\n",
    "smote = SMOTE()\n",
    "\n",
    "X_smote_prep = copy.deepcopy(X)\n",
    "X_smote_prep = X_smote_prep.dropna()\n",
    "X_smote_prep = X_smote_prep.drop(['cust_id', 'data_label'], axis=1)\n",
    "y_smote_prep = X_smote_prep['sar_flag']\n",
    "X_smote, y_smote = smote.fit_resample(X_smote_prep, y_smote_prep)\n",
    "X_smote.shape\n",
    "X_smote[X_smote['sar_flag'] == 1.0].shape, X_smote[X_smote['sar_flag'] == 0.0].shape"
   ],
   "metadata": {
    "collapsed": false,
    "pycharm": {
     "name": "#%%\n"
    }
   }
  },
  {
   "cell_type": "code",
   "execution_count": 24,
   "outputs": [
    {
     "data": {
      "text/plain": "       alert_key  risk_rank  occupation_code    total_asset  AGE  date  \\\n20012     328400          1        12.000000  500199.000000    2   323   \n13971     283603          1        13.000000       0.000000    3   244   \n40819     217909          1        18.082676   23269.224403    4   105   \n43705     242796          2        15.763528   85663.414263    3   160   \n20733     334830          1         7.000000       0.000000    5   335   \n\n       sar_flag  AGE_encoding  risk_rank_encoding  date_encoding  \\\n20012       0.0             0                   0              0   \n13971       0.0             0                   0              0   \n40819       1.0             0                   0              0   \n43705       1.0             0                   0              0   \n20733       0.0             0                   0              0   \n\n       occupation_code_encoding  \n20012                         0  \n13971                         0  \n40819                         0  \n43705                         0  \n20733                         0  ",
      "text/html": "<div>\n<style scoped>\n    .dataframe tbody tr th:only-of-type {\n        vertical-align: middle;\n    }\n\n    .dataframe tbody tr th {\n        vertical-align: top;\n    }\n\n    .dataframe thead th {\n        text-align: right;\n    }\n</style>\n<table border=\"1\" class=\"dataframe\">\n  <thead>\n    <tr style=\"text-align: right;\">\n      <th></th>\n      <th>alert_key</th>\n      <th>risk_rank</th>\n      <th>occupation_code</th>\n      <th>total_asset</th>\n      <th>AGE</th>\n      <th>date</th>\n      <th>sar_flag</th>\n      <th>AGE_encoding</th>\n      <th>risk_rank_encoding</th>\n      <th>date_encoding</th>\n      <th>occupation_code_encoding</th>\n    </tr>\n  </thead>\n  <tbody>\n    <tr>\n      <th>20012</th>\n      <td>328400</td>\n      <td>1</td>\n      <td>12.000000</td>\n      <td>500199.000000</td>\n      <td>2</td>\n      <td>323</td>\n      <td>0.0</td>\n      <td>0</td>\n      <td>0</td>\n      <td>0</td>\n      <td>0</td>\n    </tr>\n    <tr>\n      <th>13971</th>\n      <td>283603</td>\n      <td>1</td>\n      <td>13.000000</td>\n      <td>0.000000</td>\n      <td>3</td>\n      <td>244</td>\n      <td>0.0</td>\n      <td>0</td>\n      <td>0</td>\n      <td>0</td>\n      <td>0</td>\n    </tr>\n    <tr>\n      <th>40819</th>\n      <td>217909</td>\n      <td>1</td>\n      <td>18.082676</td>\n      <td>23269.224403</td>\n      <td>4</td>\n      <td>105</td>\n      <td>1.0</td>\n      <td>0</td>\n      <td>0</td>\n      <td>0</td>\n      <td>0</td>\n    </tr>\n    <tr>\n      <th>43705</th>\n      <td>242796</td>\n      <td>2</td>\n      <td>15.763528</td>\n      <td>85663.414263</td>\n      <td>3</td>\n      <td>160</td>\n      <td>1.0</td>\n      <td>0</td>\n      <td>0</td>\n      <td>0</td>\n      <td>0</td>\n    </tr>\n    <tr>\n      <th>20733</th>\n      <td>334830</td>\n      <td>1</td>\n      <td>7.000000</td>\n      <td>0.000000</td>\n      <td>5</td>\n      <td>335</td>\n      <td>0.0</td>\n      <td>0</td>\n      <td>0</td>\n      <td>0</td>\n      <td>0</td>\n    </tr>\n  </tbody>\n</table>\n</div>"
     },
     "execution_count": 24,
     "metadata": {},
     "output_type": "execute_result"
    }
   ],
   "source": [
    "import xgboost as xgb\n",
    "from sklearn.metrics import confusion_matrix\n",
    "import pandas as pd\n",
    "import numpy as np\n",
    "from sklearn.model_selection import train_test_split\n",
    "\n",
    "X_train_smote, X_test_smote, y_train_smote, y_test_smote = train_test_split(X_smote, y_smote, test_size=0.4,\n",
    "                                                                            random_state=123)\n",
    "X_train_smote.head()"
   ],
   "metadata": {
    "collapsed": false,
    "pycharm": {
     "name": "#%%\n"
    }
   }
  },
  {
   "cell_type": "code",
   "execution_count": 25,
   "outputs": [],
   "source": [
    "import seaborn as sns\n",
    "from sklearn.metrics import accuracy_score"
   ],
   "metadata": {
    "collapsed": false,
    "pycharm": {
     "name": "#%%\n"
    }
   }
  },
  {
   "cell_type": "code",
   "execution_count": 26,
   "outputs": [],
   "source": [
    "drop_features_smote = [\"alert_key\", \"sar_flag\"]\n",
    "X_train_smote = X_train_smote.drop(drop_features_smote, axis=1)\n",
    "X_test_smote = X_test_smote.drop(drop_features_smote, axis=1)"
   ],
   "metadata": {
    "collapsed": false,
    "pycharm": {
     "name": "#%%\n"
    }
   }
  },
  {
   "cell_type": "code",
   "execution_count": 27,
   "outputs": [
    {
     "data": {
      "text/plain": "(0.9908857719805708,\n array([[8908,   78],\n        [  89, 9248]]))"
     },
     "execution_count": 27,
     "metadata": {},
     "output_type": "execute_result"
    },
    {
     "data": {
      "text/plain": "<Figure size 640x480 with 2 Axes>",
      "image/png": "[encoded data removed]"
     },
     "metadata": {},
     "output_type": "display_data"
    }
   ],
   "source": [
    "xg_cls_smote = xgb.XGBClassifier()\n",
    "xg_cls_smote.fit(X_train_smote, y_train_smote)\n",
    "\n",
    "cls_preds_smote = xg_cls_smote.predict(X_test_smote)\n",
    "\n",
    "cm_smote = confusion_matrix(y_test_smote, cls_preds_smote)\n",
    "sns.heatmap(cm_smote, annot=True)\n",
    "\n",
    "accuracy_score(y_test_smote, cls_preds_smote), cm_smote"
   ],
   "metadata": {
    "collapsed": false,
    "pycharm": {
     "name": "#%%\n"
    }
   }
  },
  {
   "cell_type": "markdown",
   "source": [],
   "metadata": {
    "collapsed": false,
    "pycharm": {
     "name": "#%% md\n"
    }
   }
  },
  {
   "cell_type": "markdown",
   "source": [
    "### Training XGBoost - Under sampling"
   ],
   "metadata": {
    "collapsed": false,
    "pycharm": {
     "name": "#%% md\n"
    }
   }
  },
  {
   "cell_type": "code",
   "execution_count": 28,
   "outputs": [],
   "source": [
    "from imblearn.under_sampling import RandomUnderSampler\n",
    "\n",
    "undersample = RandomUnderSampler()\n",
    "X_under, y_under = undersample.fit_resample(X, y)"
   ],
   "metadata": {
    "collapsed": false,
    "pycharm": {
     "name": "#%%\n"
    }
   }
  },
  {
   "cell_type": "code",
   "execution_count": 29,
   "outputs": [
    {
     "data": {
      "text/plain": "(468, 13)"
     },
     "execution_count": 29,
     "metadata": {},
     "output_type": "execute_result"
    }
   ],
   "source": [
    "X_under.shape"
   ],
   "metadata": {
    "collapsed": false,
    "pycharm": {
     "name": "#%%\n"
    }
   }
  },
  {
   "cell_type": "code",
   "execution_count": 30,
   "outputs": [],
   "source": [
    "X_train, X_test, y_train, y_test = train_test_split(X_under, y_under, test_size=0.2, random_state=123)"
   ],
   "metadata": {
    "collapsed": false,
    "pycharm": {
     "name": "#%%\n"
    }
   }
  },
  {
   "cell_type": "code",
   "execution_count": 31,
   "outputs": [],
   "source": [
    "drop_features = [\"alert_key\", \"cust_id\", \"data_label\", \"sar_flag\", \"date_encoding\", \"occupation_code_encoding\"]\n",
    "X_train = X_train.drop(drop_features, axis=1)\n",
    "X_test = X_test.drop(drop_features, axis=1)\n",
    "test = test.drop(drop_features, axis=1)"
   ],
   "metadata": {
    "collapsed": false,
    "pycharm": {
     "name": "#%%\n"
    }
   }
  },
  {
   "cell_type": "code",
   "execution_count": 32,
   "outputs": [
    {
     "data": {
      "text/plain": "     risk_rank  occupation_code  total_asset  AGE  date  AGE_encoding  \\\n148          3             17.0      57674.0    3    20             0   \n131          1              9.0     388751.0    3   273             0   \n437          1             17.0      72355.0    3   245             0   \n317          3             18.0     867571.0    3    71             0   \n400          3             18.0      84616.0    3   174             0   \n\n     risk_rank_encoding  \n148                   0  \n131                   0  \n437                   0  \n317                   0  \n400                   0  ",
      "text/html": "<div>\n<style scoped>\n    .dataframe tbody tr th:only-of-type {\n        vertical-align: middle;\n    }\n\n    .dataframe tbody tr th {\n        vertical-align: top;\n    }\n\n    .dataframe thead th {\n        text-align: right;\n    }\n</style>\n<table border=\"1\" class=\"dataframe\">\n  <thead>\n    <tr style=\"text-align: right;\">\n      <th></th>\n      <th>risk_rank</th>\n      <th>occupation_code</th>\n      <th>total_asset</th>\n      <th>AGE</th>\n      <th>date</th>\n      <th>AGE_encoding</th>\n      <th>risk_rank_encoding</th>\n    </tr>\n  </thead>\n  <tbody>\n    <tr>\n      <th>148</th>\n      <td>3</td>\n      <td>17.0</td>\n      <td>57674.0</td>\n      <td>3</td>\n      <td>20</td>\n      <td>0</td>\n      <td>0</td>\n    </tr>\n    <tr>\n      <th>131</th>\n      <td>1</td>\n      <td>9.0</td>\n      <td>388751.0</td>\n      <td>3</td>\n      <td>273</td>\n      <td>0</td>\n      <td>0</td>\n    </tr>\n    <tr>\n      <th>437</th>\n      <td>1</td>\n      <td>17.0</td>\n      <td>72355.0</td>\n      <td>3</td>\n      <td>245</td>\n      <td>0</td>\n      <td>0</td>\n    </tr>\n    <tr>\n      <th>317</th>\n      <td>3</td>\n      <td>18.0</td>\n      <td>867571.0</td>\n      <td>3</td>\n      <td>71</td>\n      <td>0</td>\n      <td>0</td>\n    </tr>\n    <tr>\n      <th>400</th>\n      <td>3</td>\n      <td>18.0</td>\n      <td>84616.0</td>\n      <td>3</td>\n      <td>174</td>\n      <td>0</td>\n      <td>0</td>\n    </tr>\n  </tbody>\n</table>\n</div>"
     },
     "execution_count": 32,
     "metadata": {},
     "output_type": "execute_result"
    }
   ],
   "source": [
    "X_train.head()"
   ],
   "metadata": {
    "collapsed": false,
    "pycharm": {
     "name": "#%%\n"
    }
   }
  },
  {
   "cell_type": "code",
   "execution_count": 33,
   "outputs": [],
   "source": [
    "xg_cls = xgb.XGBClassifier()\n",
    "xg_cls.fit(X_train, y_train)\n",
    "\n",
    "cls_preds = xg_cls.predict(X_test)"
   ],
   "metadata": {
    "collapsed": false,
    "pycharm": {
     "name": "#%%\n"
    }
   }
  },
  {
   "cell_type": "code",
   "execution_count": 34,
   "outputs": [
    {
     "data": {
      "text/plain": "0.7446808510638298"
     },
     "execution_count": 34,
     "metadata": {},
     "output_type": "execute_result"
    },
    {
     "data": {
      "text/plain": "<Figure size 640x480 with 2 Axes>",
      "image/png": "[encoded data removed]"
     },
     "metadata": {},
     "output_type": "display_data"
    }
   ],
   "source": [
    "import seaborn as sns\n",
    "from sklearn.metrics import accuracy_score\n",
    "\n",
    "cm = confusion_matrix(y_test, cls_preds)\n",
    "sns.heatmap(cm, annot=True)\n",
    "accuracy_score(y_test, cls_preds)"
   ],
   "metadata": {
    "collapsed": false,
    "pycharm": {
     "name": "#%%\n"
    }
   }
  },
  {
   "cell_type": "code",
   "execution_count": 43,
   "outputs": [
    {
     "data": {
      "text/plain": "[0.3380860388278961,\n 0.9570350050926208,\n 0.29421466588974,\n 0.01930517889559269,\n 0.021547846496105194,\n 0.4741611182689667,\n 0.006780773401260376,\n 0.2988464832305908,\n 0.10849740356206894,\n 0.07116826623678207]"
     },
     "execution_count": 43,
     "metadata": {},
     "output_type": "execute_result"
    }
   ],
   "source": [
    "prob_test = [prob[1] for prob in xg_cls.predict_proba(test).tolist()]\n",
    "prob_test[:10]"
   ],
   "metadata": {
    "collapsed": false,
    "pycharm": {
     "name": "#%%\n"
    }
   }
  },
  {
   "cell_type": "code",
   "execution_count": 42,
   "outputs": [
    {
     "data": {
      "text/plain": "(2005, 2)"
     },
     "execution_count": 42,
     "metadata": {},
     "output_type": "execute_result"
    }
   ],
   "source": [
    "non_predicted_key = sample[~sample['alert_key'].isin(test_alert_keys)]\n",
    "non_predicted_key = non_predicted_key.assign(probability=0)\n",
    "non_predicted_key.shape"
   ],
   "metadata": {
    "collapsed": false,
    "pycharm": {
     "name": "#%%\n"
    }
   }
  },
  {
   "cell_type": "code",
   "execution_count": 41,
   "outputs": [
    {
     "data": {
      "text/plain": "((3850, 2),\n       alert_key  probability\n 1512     362735     0.994571\n 301      354810     0.994129\n 461      355759     0.994129\n 305      354818     0.988793\n 811      357883     0.988793)"
     },
     "execution_count": 41,
     "metadata": {},
     "output_type": "execute_result"
    }
   ],
   "source": [
    "submission = pd.concat([test_alert_keys, pd.DataFrame({'probability': prob_test})], axis=1)\n",
    "submission = submission.sort_values(by=['probability'], ascending=False)\n",
    "submission = pd.concat([submission, non_predicted_key])\n",
    "submission.shape, submission.head()"
   ],
   "metadata": {
    "collapsed": false,
    "pycharm": {
     "name": "#%%\n"
    }
   }
  },
  {
   "cell_type": "code",
   "execution_count": null,
   "outputs": [],
   "source": [
    "submission.to_csv(\"submission_xgboost.csv\", index=False)"
   ],
   "metadata": {
    "collapsed": false,
    "pycharm": {
     "name": "#%%\n"
    }
   }
  }
 ],
 "metadata": {
  "kernelspec": {
   "display_name": "Python 3.10 (pytorch)",
   "language": "python",
   "name": "pytorch"
  },
  "language_info": {
   "codemirror_mode": {
    "name": "ipython",
    "version": 3
   },
   "file_extension": ".py",
   "mimetype": "text/x-python",
   "name": "python",
   "nbconvert_exporter": "python",
   "pygments_lexer": "ipython3",
   "version": "3.10.6"
  },
  "orig_nbformat": 4,
  "vscode": {
   "interpreter": {
    "hash": "1169a9719adf803d4f5afe2209093b36dd2c9a2bfe2600a9d836282ef0b26141"
   }
  }
 },
 "nbformat": 4,
 "nbformat_minor": 2
}