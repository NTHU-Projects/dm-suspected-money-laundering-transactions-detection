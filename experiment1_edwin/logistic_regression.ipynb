{
 "cells": [
  {
   "cell_type": "code",
   "execution_count": 1,
   "metadata": {
    "collapsed": true,
    "pycharm": {
     "name": "#%%\n"
    }
   },
   "outputs": [],
   "source": [
    "#Reading Dataset\n",
    "\n",
    "import pandas as pd\n",
    "import os\n",
    "\n",
    "dataset_folder = os.path.join(os.getcwd(), 'dataset')\n",
    "\n",
    "def df_from_csv(filename):\n",
    "    f = os.path.join(dataset_folder, filename)\n",
    "    return pd.read_csv(f, delimiter='\\t|\\n|,', engine='python')"
   ]
  },
  {
   "cell_type": "code",
   "execution_count": 2,
   "outputs": [
    {
     "data": {
      "text/plain": "   alert_key  sar_flag\n0     171189         0\n1     171202         0\n2     171599         0\n3     171737         0\n4     171142         0",
      "text/html": "<div>\n<style scoped>\n    .dataframe tbody tr th:only-of-type {\n        vertical-align: middle;\n    }\n\n    .dataframe tbody tr th {\n        vertical-align: top;\n    }\n\n    .dataframe thead th {\n        text-align: right;\n    }\n</style>\n<table border=\"1\" class=\"dataframe\">\n  <thead>\n    <tr style=\"text-align: right;\">\n      <th></th>\n      <th>alert_key</th>\n      <th>sar_flag</th>\n    </tr>\n  </thead>\n  <tbody>\n    <tr>\n      <th>0</th>\n      <td>171189</td>\n      <td>0</td>\n    </tr>\n    <tr>\n      <th>1</th>\n      <td>171202</td>\n      <td>0</td>\n    </tr>\n    <tr>\n      <th>2</th>\n      <td>171599</td>\n      <td>0</td>\n    </tr>\n    <tr>\n      <th>3</th>\n      <td>171737</td>\n      <td>0</td>\n    </tr>\n    <tr>\n      <th>4</th>\n      <td>171142</td>\n      <td>0</td>\n    </tr>\n  </tbody>\n</table>\n</div>"
     },
     "execution_count": 2,
     "metadata": {},
     "output_type": "execute_result"
    }
   ],
   "source": [
    "y_train = df_from_csv('ori_trainy.csv')\n",
    "y_train.head()"
   ],
   "metadata": {
    "collapsed": false,
    "pycharm": {
     "name": "#%%\n"
    }
   }
  },
  {
   "cell_type": "code",
   "execution_count": 3,
   "outputs": [
    {
     "data": {
      "text/plain": "   alert_key  date\n0     171189     0\n1     171202     0\n2     171599     0\n3     171737     0\n4     171142     0",
      "text/html": "<div>\n<style scoped>\n    .dataframe tbody tr th:only-of-type {\n        vertical-align: middle;\n    }\n\n    .dataframe tbody tr th {\n        vertical-align: top;\n    }\n\n    .dataframe thead th {\n        text-align: right;\n    }\n</style>\n<table border=\"1\" class=\"dataframe\">\n  <thead>\n    <tr style=\"text-align: right;\">\n      <th></th>\n      <th>alert_key</th>\n      <th>date</th>\n    </tr>\n  </thead>\n  <tbody>\n    <tr>\n      <th>0</th>\n      <td>171189</td>\n      <td>0</td>\n    </tr>\n    <tr>\n      <th>1</th>\n      <td>171202</td>\n      <td>0</td>\n    </tr>\n    <tr>\n      <th>2</th>\n      <td>171599</td>\n      <td>0</td>\n    </tr>\n    <tr>\n      <th>3</th>\n      <td>171737</td>\n      <td>0</td>\n    </tr>\n    <tr>\n      <th>4</th>\n      <td>171142</td>\n      <td>0</td>\n    </tr>\n  </tbody>\n</table>\n</div>"
     },
     "execution_count": 3,
     "metadata": {},
     "output_type": "execute_result"
    }
   ],
   "source": [
    "x_train = df_from_csv('ori_trainx.csv')\n",
    "x_train.head()"
   ],
   "metadata": {
    "collapsed": false,
    "pycharm": {
     "name": "#%%\n"
    }
   }
  },
  {
   "cell_type": "code",
   "execution_count": 4,
   "outputs": [
    {
     "data": {
      "text/plain": "   alert_key                                            cust_id  risk_rank  \\\n0     352249  82595ac69158ae08d34156784bdec0d9e2ca5b242b6d2a...          1   \n1     352253  b212d14cb35676926682b2cf849e295d948888f556c07e...          1   \n2     352254  e5b0002791c7852644a2730abeaa893cdf14a072ef7812...          1   \n3     352280  74214c478dc6519fbefe4bc31693865bdcd698ab974b64...          3   \n4     352282  0340e7611f0d82c3cb87e6194fa14bb2ccf8afbf1b3418...          1   \n\n   occupation_code  total_asset  AGE  \n0             19.0    1465816.0    7  \n1              2.0      98177.0    2  \n2             19.0    2052922.0    7  \n3             15.0     201906.0    5  \n4             12.0       7450.0    5  ",
      "text/html": "<div>\n<style scoped>\n    .dataframe tbody tr th:only-of-type {\n        vertical-align: middle;\n    }\n\n    .dataframe tbody tr th {\n        vertical-align: top;\n    }\n\n    .dataframe thead th {\n        text-align: right;\n    }\n</style>\n<table border=\"1\" class=\"dataframe\">\n  <thead>\n    <tr style=\"text-align: right;\">\n      <th></th>\n      <th>alert_key</th>\n      <th>cust_id</th>\n      <th>risk_rank</th>\n      <th>occupation_code</th>\n      <th>total_asset</th>\n      <th>AGE</th>\n    </tr>\n  </thead>\n  <tbody>\n    <tr>\n      <th>0</th>\n      <td>352249</td>\n      <td>82595ac69158ae08d34156784bdec0d9e2ca5b242b6d2a...</td>\n      <td>1</td>\n      <td>19.0</td>\n      <td>1465816.0</td>\n      <td>7</td>\n    </tr>\n    <tr>\n      <th>1</th>\n      <td>352253</td>\n      <td>b212d14cb35676926682b2cf849e295d948888f556c07e...</td>\n      <td>1</td>\n      <td>2.0</td>\n      <td>98177.0</td>\n      <td>2</td>\n    </tr>\n    <tr>\n      <th>2</th>\n      <td>352254</td>\n      <td>e5b0002791c7852644a2730abeaa893cdf14a072ef7812...</td>\n      <td>1</td>\n      <td>19.0</td>\n      <td>2052922.0</td>\n      <td>7</td>\n    </tr>\n    <tr>\n      <th>3</th>\n      <td>352280</td>\n      <td>74214c478dc6519fbefe4bc31693865bdcd698ab974b64...</td>\n      <td>3</td>\n      <td>15.0</td>\n      <td>201906.0</td>\n      <td>5</td>\n    </tr>\n    <tr>\n      <th>4</th>\n      <td>352282</td>\n      <td>0340e7611f0d82c3cb87e6194fa14bb2ccf8afbf1b3418...</td>\n      <td>1</td>\n      <td>12.0</td>\n      <td>7450.0</td>\n      <td>5</td>\n    </tr>\n  </tbody>\n</table>\n</div>"
     },
     "execution_count": 4,
     "metadata": {},
     "output_type": "execute_result"
    }
   ],
   "source": [
    "alert_cust = df_from_csv('ori_custinfo.csv')\n",
    "alert_cust.head()"
   ],
   "metadata": {
    "collapsed": false,
    "pycharm": {
     "name": "#%%\n"
    }
   }
  },
  {
   "cell_type": "code",
   "execution_count": null,
   "outputs": [],
   "source": [
    "alert_date = df_from_csv('ori_alert_date.csv')\n",
    "alert_date.head()"
   ],
   "metadata": {
    "collapsed": false,
    "pycharm": {
     "name": "#%%\n"
    }
   }
  },
  {
   "cell_type": "code",
   "execution_count": null,
   "outputs": [],
   "source": [
    "# Merge x and y train into one dataframe, then merge it with customer info data as whole training data\n",
    "\n",
    "train = x_train.merge(y_train, on='alert_key', how='inner')\n",
    "train = train.merge(alert_cust, on='alert_key', how='inner')\n",
    "xdp_train = train.copy()\n",
    "train.head()"
   ],
   "metadata": {
    "collapsed": false,
    "pycharm": {
     "name": "#%%\n"
    }
   }
  },
  {
   "cell_type": "code",
   "execution_count": null,
   "outputs": [],
   "source": [
    "# check null value on whole dataset & drop if necessary\n",
    "\n",
    "train.isnull().any()"
   ],
   "metadata": {
    "collapsed": false,
    "pycharm": {
     "name": "#%%\n"
    }
   }
  },
  {
   "cell_type": "code",
   "execution_count": null,
   "outputs": [],
   "source": [
    "train[train.isnull().any(axis=1)]"
   ],
   "metadata": {
    "collapsed": false,
    "pycharm": {
     "name": "#%%\n"
    }
   }
  },
  {
   "cell_type": "code",
   "execution_count": null,
   "outputs": [],
   "source": [
    "train = train.dropna(how='any', axis=0)\n",
    "train"
   ],
   "metadata": {
    "collapsed": false,
    "pycharm": {
     "name": "#%%\n"
    }
   }
  },
  {
   "cell_type": "code",
   "execution_count": null,
   "outputs": [],
   "source": [
    "# checking the number of records based on sar_flag\n",
    "\n",
    "train.groupby(['sar_flag'])['sar_flag'].count()"
   ],
   "metadata": {
    "collapsed": false,
    "pycharm": {
     "name": "#%%\n"
    }
   }
  },
  {
   "cell_type": "code",
   "execution_count": null,
   "outputs": [],
   "source": [
    "# create method to analyze LR performance\n",
    "\n",
    "from sklearn.metrics import confusion_matrix\n",
    "from sklearn.model_selection import train_test_split\n",
    "from sklearn.linear_model import LogisticRegression\n",
    "from sklearn.metrics import accuracy_score"
   ],
   "metadata": {
    "collapsed": false,
    "pycharm": {
     "name": "#%%\n"
    }
   }
  },
  {
   "cell_type": "code",
   "execution_count": null,
   "outputs": [],
   "source": [
    "# SMOTE to fix imbalance data (upscale minor data by creating synthetic record)\n",
    "# Other variant SMOTEENN\n",
    "\n",
    "# SMOTE\n",
    "from imblearn.over_sampling import SMOTE\n",
    "\n",
    "smote_x = train[['risk_rank','occupation_code','total_asset','AGE']]\n",
    "smote_y = train.loc[:, train.columns == 'sar_flag']\n",
    "\n",
    "smote = SMOTE(random_state=0)\n",
    "X_train, X_test, y_train, y_test = train_test_split(smote_x, smote_y, test_size=0.3, random_state=0)\n",
    "sm_cols = X_train.columns\n",
    "\n",
    "sm_data_X,sm_data_y = smote.fit_resample(X_train, y_train)\n",
    "sm_data_X = pd.DataFrame(data=sm_data_X,columns=sm_cols )\n",
    "sm_data_y = pd.DataFrame(data=sm_data_y,columns=['sar_flag'])\n",
    "# we can Check the numbers of our data\n",
    "print(\"length of oversampled data is \",len(sm_data_X))\n",
    "print(\"Number of non-sar in oversampled data\",len(sm_data_y[sm_data_y['sar_flag']==0]))\n",
    "print(\"Number of sar\",len(sm_data_y[sm_data_y['sar_flag']==1]))\n",
    "print(\"Proportion of no subscription data in oversampled data is \", len(sm_data_y[sm_data_y['sar_flag']==0])/len(sm_data_X))\n",
    "print(\"Proportion of subscription data in oversampled data is \", len(sm_data_y[sm_data_y['sar_flag']==1])/len(sm_data_X))\n",
    "\n",
    "def SMOTE_oversampling(input_x, input_y):\n",
    "    x_train, x_test, y_train, y_test = train_test_split(input_x, input_y, test_size=0.3)\n",
    "    x_cols = x_train.columns\n",
    "    y_cols = y_train.columns\n",
    "\n",
    "    sm_data_x, sm_data_y = smote.fit_resample(x_train, y_train)\n",
    "    sm_data_x = pd.DataFrame(data=sm_data_x, columns=x_cols)\n",
    "    sm_data_y = pd.DataFrame(data=sm_data_y, columns=y_cols)\n",
    "\n",
    "    print(\"length of oversampled data is \",len(sm_data_x))\n",
    "    print(\"Number of non-sar in oversampled data\",len(sm_data_y[sm_data_y['sar_flag']==0]))\n",
    "    print(\"Number of sar\",len(sm_data_y[sm_data_y['sar_flag']==1]))\n",
    "    print(\"Proportion of no subscription data in oversampled data is \", len(sm_data_y[sm_data_y['sar_flag']==0])/len(sm_data_x))\n",
    "    print(\"Proportion of subscription data in oversampled data is \", len(sm_data_y[sm_data_y['sar_flag']==1])/len(sm_data_x))\n",
    "\n",
    "    return sm_data_x, sm_data_y"
   ],
   "metadata": {
    "collapsed": false,
    "pycharm": {
     "name": "#%%\n"
    }
   }
  },
  {
   "cell_type": "code",
   "execution_count": null,
   "outputs": [],
   "source": [
    "# RFE feature selection > issue on selecting total asset which cause overfitting instead\n",
    "\n",
    "from sklearn.feature_selection import RFE\n",
    "\n",
    "LR = LogisticRegression(max_iter=2000, n_jobs=-1)\n",
    "# rfe = RFE(LR, step=100)\n",
    "# rfe = rfe.fit(sm_data_X, sm_data_y.values.ravel())\n",
    "# print(sm_data_X.columns)\n",
    "# print(rfe.support_)\n",
    "# print(rfe.ranking_)\n",
    "\n",
    "def RFE_analysis(input_x, input_y, model):\n",
    "    rfe = RFE(model, step=300)\n",
    "    rfe.fit(input_x, input_y.values.ravel())\n",
    "    print(input_x.columns)\n",
    "    print(rfe.support_)\n",
    "    print(rfe.ranking_)\n",
    "\n",
    "RFE_analysis(sm_data_X, sm_data_y, LR)"
   ],
   "metadata": {
    "collapsed": false,
    "pycharm": {
     "name": "#%%\n"
    }
   }
  },
  {
   "cell_type": "code",
   "execution_count": null,
   "outputs": [],
   "source": [
    "# assess feature performance, P>|z| should be acceptable\n",
    "\n",
    "import statsmodels.api as sm\n",
    "\n",
    "updated_cols = ['risk_rank', 'AGE']\n",
    "new_X = sm_data_X[updated_cols]\n",
    "new_Y = sm_data_y['sar_flag']\n",
    "# LR2 = sm.Logit(new_Y,new_X)\n",
    "# result=LR2.fit()\n",
    "# print(result.summary2())\n",
    "\n",
    "def LR_analysis(input_x, input_y):\n",
    "    sm_LR = sm.Logit(input_y, input_x)\n",
    "    result = sm_LR.fit()\n",
    "    print(result.summary2())\n",
    "\n",
    "LR_analysis(new_X, new_Y)"
   ],
   "metadata": {
    "collapsed": false,
    "pycharm": {
     "name": "#%%\n"
    }
   }
  },
  {
   "cell_type": "code",
   "execution_count": null,
   "outputs": [],
   "source": [
    "# Train and test\n",
    "\n",
    "from sklearn import metrics\n",
    "\n",
    "# x_train, x_test, y_train, y_test = train_test_split(new_X, new_Y, test_size=0.25)\n",
    "# LR.fit(x_train, y_train)\n",
    "# y_train_predict = LR.predict(x_train)\n",
    "# y_test_predict = LR.predict(x_test)\n",
    "#\n",
    "# # output = pd.DataFrame(y_test_predict, columns = ['sar_flag'])\n",
    "# # output.to_csv('y_test_predict.csv', index=False)\n",
    "#\n",
    "# train_acc = accuracy_score(y_train, y_train_predict)\n",
    "# test_acc = accuracy_score(y_test, y_test_predict)\n",
    "# print(f'{train_acc}  {test_acc}')\n",
    "# cm = confusion_matrix(y_true=y_test, y_pred=y_test_predict)\n",
    "# print(cm)\n",
    "\n",
    "def LR_training(input_x, input_y, LR_model):\n",
    "    x_train, x_test, y_train, y_test = train_test_split(input_x, input_y, test_size=0.25)\n",
    "    LR_model.fit(x_train, y_train)\n",
    "    y_train_predict = LR_model.predict(x_train)\n",
    "    y_test_predict = LR_model.predict(x_test)\n",
    "    train_acc = accuracy_score(y_train, y_train_predict)\n",
    "    test_acc = accuracy_score(y_test, y_test_predict)\n",
    "    print(f'{train_acc}  {test_acc}')\n",
    "    cm = confusion_matrix(y_true=y_test, y_pred=y_test_predict)\n",
    "    print(cm)\n",
    "    return LR_model\n",
    "\n",
    "LR = LR_training(new_X, new_Y, LR)"
   ],
   "metadata": {
    "collapsed": false,
    "pycharm": {
     "name": "#%%\n"
    }
   }
  },
  {
   "cell_type": "code",
   "execution_count": null,
   "outputs": [],
   "source": [
    "# Apply to our real train dataset\n",
    "\n",
    "x = train[['risk_rank', 'AGE']]\n",
    "y = train['sar_flag']\n",
    "\n",
    "# y_predict = LR.predict(x)\n",
    "# test_acc = accuracy_score(y, y_predict)\n",
    "# print(f'{test_acc}')\n",
    "# cm = confusion_matrix(y_true=y, y_pred=y_predict)\n",
    "# print(cm)\n",
    "\n",
    "def LR_test(input_x, input_y, LR_model):\n",
    "    y_predict = LR_model.predict(input_x)\n",
    "    test_acc = accuracy_score(input_y, y_predict)\n",
    "    print(f'{test_acc}')\n",
    "    cm = confusion_matrix(y_true=input_y, y_pred=y_predict)\n",
    "    print(cm)\n",
    "\n",
    "LR_test(x, y, LR)"
   ],
   "metadata": {
    "collapsed": false,
    "pycharm": {
     "name": "#%%\n"
    }
   }
  },
  {
   "cell_type": "code",
   "execution_count": null,
   "outputs": [],
   "source": [
    "y_prob = LR.predict_proba(x)\n",
    "y_prob"
   ],
   "metadata": {
    "collapsed": false,
    "pycharm": {
     "name": "#%%\n"
    }
   }
  },
  {
   "cell_type": "code",
   "execution_count": null,
   "outputs": [],
   "source": [
    "submit_format = df_from_csv('submit_format.csv')\n",
    "submit_format"
   ],
   "metadata": {
    "collapsed": false,
    "pycharm": {
     "name": "#%%\n"
    }
   }
  },
  {
   "cell_type": "code",
   "execution_count": null,
   "outputs": [],
   "source": [
    "submit_format = submit_format.drop(['probability'], axis=1)\n",
    "submit_format"
   ],
   "metadata": {
    "collapsed": false,
    "pycharm": {
     "name": "#%%\n"
    }
   }
  },
  {
   "cell_type": "code",
   "execution_count": null,
   "outputs": [],
   "source": [
    "submit_format = submit_format.merge(alert_cust, on='alert_key', how='left')\n",
    "submit_format"
   ],
   "metadata": {
    "collapsed": false,
    "pycharm": {
     "name": "#%%\n"
    }
   }
  },
  {
   "cell_type": "code",
   "execution_count": null,
   "outputs": [],
   "source": [
    "x_submit = submit_format[['risk_rank', 'AGE']]\n",
    "x_submit"
   ],
   "metadata": {
    "collapsed": false,
    "pycharm": {
     "name": "#%%\n"
    }
   }
  },
  {
   "cell_type": "code",
   "execution_count": null,
   "outputs": [],
   "source": [
    "x_submit.dropna(inplace=True)\n",
    "x_submit\n"
   ],
   "metadata": {
    "collapsed": false,
    "pycharm": {
     "name": "#%%\n"
    }
   }
  },
  {
   "cell_type": "code",
   "execution_count": null,
   "outputs": [],
   "source": [
    "y_submit = LR.predict_proba(x_submit)\n",
    "y_submit = pd.DataFrame(y_submit, columns = ['probability', 'inv_probability'])\n",
    "y_submit.index = x_submit.index\n",
    "y_submit"
   ],
   "metadata": {
    "collapsed": false,
    "pycharm": {
     "name": "#%%\n"
    }
   }
  },
  {
   "cell_type": "code",
   "execution_count": null,
   "outputs": [],
   "source": [
    "# submit_prob = pd.merge([x_submit, y_submit], axis=1, left_index=True, right_index=False)\n",
    "submit_prob = pd.concat([x_submit, y_submit], axis=1)\n",
    "submit_prob"
   ],
   "metadata": {
    "collapsed": false,
    "pycharm": {
     "name": "#%%\n"
    }
   }
  },
  {
   "cell_type": "code",
   "execution_count": null,
   "outputs": [],
   "source": [
    "final_submit = pd.concat([submit_format, submit_prob], axis=1)\n",
    "final_submit = final_submit[['alert_key', 'probability']]\n",
    "final_submit"
   ],
   "metadata": {
    "collapsed": false,
    "pycharm": {
     "name": "#%%\n"
    }
   }
  },
  {
   "cell_type": "code",
   "execution_count": null,
   "outputs": [],
   "source": [
    "final_submit['probability'] = final_submit['probability'].fillna(0)\n",
    "final_submit"
   ],
   "metadata": {
    "collapsed": false,
    "pycharm": {
     "name": "#%%\n"
    }
   }
  },
  {
   "cell_type": "code",
   "execution_count": null,
   "outputs": [],
   "source": [
    "final_submit = final_submit.sort_values(by='probability', ascending=False)\n",
    "final_submit"
   ],
   "metadata": {
    "collapsed": false,
    "pycharm": {
     "name": "#%%\n"
    }
   }
  },
  {
   "cell_type": "code",
   "execution_count": null,
   "outputs": [],
   "source": [
    "final_submit.to_csv('final_submit.csv', index=False)"
   ],
   "metadata": {
    "collapsed": false,
    "pycharm": {
     "name": "#%%\n"
    }
   }
  },
  {
   "cell_type": "code",
   "execution_count": null,
   "outputs": [],
   "source": [
    "# file load too long\n",
    "xdp = df_from_csv('ori_xdp.csv')"
   ],
   "metadata": {
    "collapsed": false,
    "pycharm": {
     "name": "#%%\n"
    }
   }
  },
  {
   "cell_type": "code",
   "execution_count": null,
   "outputs": [],
   "source": [],
   "metadata": {
    "collapsed": false,
    "pycharm": {
     "name": "#%%\n"
    }
   }
  },
  {
   "cell_type": "code",
   "execution_count": null,
   "outputs": [],
   "source": [
    "# xdp_train originally from train.copy()\n",
    "xdp_train = xdp_train.drop(['occupation_code', 'total_asset'], axis=1)\n",
    "xdp_train"
   ],
   "metadata": {
    "collapsed": false,
    "pycharm": {
     "name": "#%%\n"
    }
   }
  },
  {
   "cell_type": "code",
   "execution_count": null,
   "outputs": [],
   "source": [
    "from tqdm import tqdm\n",
    "\n",
    "def calculate_tx(row):\n",
    "    if not pd.isna(row['risk_rank']):\n",
    "        temp_frame = xdp[(xdp['tx_date'] <= row['date']) & (xdp['cust_id'] == row['cust_id'])]\n",
    "        total_tx = (temp_frame['tx_amt'] * temp_frame['exchg_rate'])\n",
    "        row['total_tx'] = total_tx.sum()\n",
    "        row['avg_tx'] = total_tx.mean()\n",
    "        row['count_tx'] = total_tx.count()\n",
    "        row['std_tx'] = total_tx.std()\n",
    "        row['tx_per_day'] = row['count_tx']/row['date']\n",
    "    return row"
   ],
   "metadata": {
    "collapsed": false,
    "pycharm": {
     "name": "#%%\n"
    }
   }
  },
  {
   "cell_type": "code",
   "execution_count": null,
   "outputs": [],
   "source": [
    "# Experiment for function in .progress_apply\n",
    "\n"
   ],
   "metadata": {
    "collapsed": false,
    "pycharm": {
     "name": "#%%\n"
    }
   }
  },
  {
   "cell_type": "code",
   "execution_count": null,
   "outputs": [],
   "source": [
    "tqdm.pandas(desc='Progress Bar')\n",
    "xdp_train_test = xdp_train.copy()\n",
    "xdp_train_test = xdp_train_test.progress_apply(calculate_tx, axis=1)\n",
    "xdp_train_test"
   ],
   "metadata": {
    "collapsed": false,
    "pycharm": {
     "name": "#%%\n"
    }
   }
  },
  {
   "cell_type": "code",
   "execution_count": null,
   "outputs": [],
   "source": [
    "xdp_train_test.to_pickle('xdp_train_test1.pkl')"
   ],
   "metadata": {
    "collapsed": false,
    "pycharm": {
     "name": "#%%\n"
    }
   }
  },
  {
   "cell_type": "code",
   "execution_count": null,
   "outputs": [],
   "source": [
    "xdp_train_test['avg_tx'] = xdp_train_test['avg_tx'].fillna(0)\n",
    "xdp_train_test['std_tx'] = xdp_train_test['std_tx'].fillna(0)"
   ],
   "metadata": {
    "collapsed": false,
    "pycharm": {
     "name": "#%%\n"
    }
   }
  },
  {
   "cell_type": "code",
   "execution_count": null,
   "outputs": [],
   "source": [
    "xdp_train_test"
   ],
   "metadata": {
    "collapsed": false,
    "pycharm": {
     "name": "#%%\n"
    }
   }
  },
  {
   "cell_type": "code",
   "execution_count": null,
   "outputs": [],
   "source": [
    "xdp_train_test.isnull().any()"
   ],
   "metadata": {
    "collapsed": false,
    "pycharm": {
     "name": "#%%\n"
    }
   }
  },
  {
   "cell_type": "code",
   "execution_count": null,
   "outputs": [],
   "source": [
    "xdp_train_test"
   ],
   "metadata": {
    "collapsed": false,
    "pycharm": {
     "name": "#%%\n"
    }
   }
  },
  {
   "cell_type": "code",
   "execution_count": null,
   "outputs": [],
   "source": [
    "xdp_train_x = xdp_train_test[['risk_rank','AGE','total_tx','avg_tx','count_tx','std_tx']]\n",
    "xdp_train_y = xdp_train_test.loc[:, xdp_train_test.columns == 'sar_flag']\n",
    "sm_xdp_train_x, sm_xdp_train_y = SMOTE_oversampling(xdp_train_x, xdp_train_y)"
   ],
   "metadata": {
    "collapsed": false,
    "pycharm": {
     "name": "#%%\n"
    }
   }
  },
  {
   "cell_type": "code",
   "execution_count": null,
   "outputs": [],
   "source": [
    "LR_1 = LogisticRegression(max_iter=2000, n_jobs=-1)\n",
    "RFE_analysis(sm_xdp_train_x, sm_xdp_train_y, LR_1)"
   ],
   "metadata": {
    "collapsed": false,
    "pycharm": {
     "name": "#%%\n"
    }
   }
  },
  {
   "cell_type": "code",
   "execution_count": null,
   "outputs": [],
   "source": [
    "LR_analysis(sm_xdp_train_x, sm_xdp_train_y)"
   ],
   "metadata": {
    "collapsed": false,
    "pycharm": {
     "name": "#%%\n"
    }
   }
  },
  {
   "cell_type": "code",
   "execution_count": null,
   "outputs": [],
   "source": [
    "LR_1 = LR_training(sm_xdp_train_x, sm_xdp_train_y, LR_1)"
   ],
   "metadata": {
    "collapsed": false,
    "pycharm": {
     "name": "#%%\n"
    }
   }
  },
  {
   "cell_type": "code",
   "execution_count": null,
   "outputs": [],
   "source": [
    "LR_test(xdp_train_x, xdp_train_y, LR_1)"
   ],
   "metadata": {
    "collapsed": false,
    "pycharm": {
     "name": "#%%\n"
    }
   }
  },
  {
   "cell_type": "code",
   "execution_count": null,
   "outputs": [],
   "source": [
    "xdp_train_test"
   ],
   "metadata": {
    "collapsed": false,
    "pycharm": {
     "name": "#%%\n"
    }
   }
  },
  {
   "cell_type": "code",
   "execution_count": null,
   "outputs": [],
   "source": [
    "submit_format = df_from_csv('submit_format.csv')\n",
    "submit_format = submit_format.drop(['probability'], axis=1)\n",
    "submit_format = submit_format.merge(alert_date, on='alert_key', how='left')\n",
    "submit_format = submit_format.merge(alert_cust, on='alert_key', how='left')\n",
    "submit_format = submit_format.progress_apply(calculate_tx, axis=1)\n",
    "x_submit = submit_format[['risk_rank', 'AGE', 'total_tx', 'avg_tx', 'count_tx', 'std_tx']]\n",
    "x_submit.dropna(inplace=True)\n",
    "x_submit"
   ],
   "metadata": {
    "collapsed": false,
    "pycharm": {
     "name": "#%%\n"
    }
   }
  },
  {
   "cell_type": "code",
   "execution_count": null,
   "outputs": [],
   "source": [
    "def generate_submission(input_submit, input_x, LR_model):\n",
    "    y_prob = LR_model.predict_proba(input_x)\n",
    "    y_prob = pd.DataFrame(y_prob, columns = ['probability', 'inv_probability'])\n",
    "    y_prob.index = input_x.index\n",
    "\n",
    "    submit_prob = pd.concat([input_x, y_prob], axis=1)\n",
    "    final_submit = pd.concat([input_submit, submit_prob], axis=1)\n",
    "    final_submit = final_submit[['alert_key', 'probability']]\n",
    "    final_submit['probability'] = final_submit['probability'].fillna(0)\n",
    "    final_submit = final_submit.sort_values(by='probability', ascending=False)\n",
    "    final_submit.to_csv('final_submit.csv', index=False)\n",
    "    return final_submit\n",
    "\n",
    "lr_1_submission = generate_submission(submit_format, x_submit, LR_1)\n",
    "lr_1_submission"
   ],
   "metadata": {
    "collapsed": false,
    "pycharm": {
     "name": "#%%\n"
    }
   }
  },
  {
   "cell_type": "code",
   "execution_count": null,
   "outputs": [],
   "source": [
    "lr_1_submission.to_pickle('lr_1_submission.pkl')"
   ],
   "metadata": {
    "collapsed": false,
    "pycharm": {
     "name": "#%%\n"
    }
   }
  },
  {
   "cell_type": "code",
   "execution_count": null,
   "outputs": [],
   "source": [
    "# trying SVR\n",
    "\n",
    "from sklearn.svm import SVR\n",
    "from sklearn.pipeline import make_pipeline\n",
    "from sklearn.preprocessing import StandardScaler\n",
    "\n",
    "y = sm_xdp_train_y\n",
    "X = sm_xdp_train_x\n",
    "SVR_1 = make_pipeline(StandardScaler(), SVR(C=1.0, epsilon=0.2))\n",
    "SVR_1.fit(X, y)"
   ],
   "metadata": {
    "collapsed": false,
    "pycharm": {
     "name": "#%%\n"
    }
   }
  },
  {
   "cell_type": "code",
   "execution_count": null,
   "outputs": [],
   "source": [
    "def generate_submission_SVR(input_submit, input_x, SVR_model):\n",
    "    y_prob = SVR_model.predict(input_x)\n",
    "    y_prob = pd.DataFrame(y_prob, columns = ['probability'])\n",
    "    y_prob.index = input_x.index\n",
    "\n",
    "    submit_prob = pd.concat([input_x, y_prob], axis=1)\n",
    "    final_submit = pd.concat([input_submit, submit_prob], axis=1)\n",
    "    final_submit = final_submit[['alert_key', 'probability']]\n",
    "    final_submit['probability'] = final_submit['probability'].fillna(0)\n",
    "    final_submit.loc[final_submit['probability'] < 0, 'probability'] = 0\n",
    "    final_submit = final_submit.sort_values(by='probability', ascending=False)\n",
    "    final_submit.to_csv('final_submit.csv', index=False)\n",
    "    return final_submit\n",
    "\n",
    "final_submit = generate_submission_SVR(submit_format, x_submit, SVR_1)\n",
    "final_submit"
   ],
   "metadata": {
    "collapsed": false,
    "pycharm": {
     "name": "#%%\n"
    }
   }
  },
  {
   "cell_type": "code",
   "execution_count": null,
   "outputs": [],
   "source": [
    "final_submit.loc[final_submit.duplicated(keep=False)]"
   ],
   "metadata": {
    "collapsed": false,
    "pycharm": {
     "name": "#%%\n"
    }
   }
  },
  {
   "cell_type": "code",
   "execution_count": 29,
   "outputs": [],
   "source": [
    "# file load too long\n",
    "xdp = df_from_csv('ori_xdp.csv')"
   ],
   "metadata": {
    "collapsed": false,
    "pycharm": {
     "name": "#%%\n"
    }
   }
  },
  {
   "cell_type": "code",
   "execution_count": 30,
   "outputs": [
    {
     "data": {
      "text/plain": "                                                   cust_id debit_credit  \\\n0        0172056578071e83399216fcd640bdc4de4583149d0fd9...           CR   \n1        0172056578071e83399216fcd640bdc4de4583149d0fd9...           CR   \n2        0172056578071e83399216fcd640bdc4de4583149d0fd9...           CR   \n3        0172056578071e83399216fcd640bdc4de4583149d0fd9...           CR   \n4        0172056578071e83399216fcd640bdc4de4583149d0fd9...           CR   \n...                                                    ...          ...   \n1969813  fff94defcc33daab190e702926d583f6d805294354addb...           CR   \n1969814  fff94defcc33daab190e702926d583f6d805294354addb...           CR   \n1969815  fff94defcc33daab190e702926d583f6d805294354addb...           CR   \n1969816  fff94defcc33daab190e702926d583f6d805294354addb...           DB   \n1969817  fff94defcc33daab190e702926d583f6d805294354addb...           DB   \n\n         tx_date  tx_time  tx_type    tx_amt  exchg_rate  info_asset_code  \\\n0             36       18        2   68265.0         1.0               16   \n1             42       17        2  932058.0         1.0               16   \n2             39       18        2    6089.0         1.0               16   \n3             49       15        2  776715.0         1.0               16   \n4             70       19        2   61630.0         1.0               16   \n...          ...      ...      ...       ...         ...              ...   \n1969813       39       20        2    1030.0         1.0               13   \n1969814       73        1        2    1030.0         1.0               13   \n1969815       43       22        2    1648.0         1.0               13   \n1969816       40       18        2    1030.0         1.0               13   \n1969817       61       14        2    1030.0         1.0               16   \n\n         fiscTxId  txbranch  cross_bank  ATM  \n0             NaN       NaN           0    0  \n1             NaN       NaN           0    0  \n2             NaN       NaN           0    0  \n3             NaN       NaN           0    0  \n4             NaN       NaN           0    0  \n...           ...       ...         ...  ...  \n1969813       4.0     313.0           1    1  \n1969814       4.0     144.0           1    1  \n1969815       7.0     313.0           1    1  \n1969816       3.0     310.0           1    1  \n1969817       NaN       NaN           0    0  \n\n[1969818 rows x 12 columns]",
      "text/html": "<div>\n<style scoped>\n    .dataframe tbody tr th:only-of-type {\n        vertical-align: middle;\n    }\n\n    .dataframe tbody tr th {\n        vertical-align: top;\n    }\n\n    .dataframe thead th {\n        text-align: right;\n    }\n</style>\n<table border=\"1\" class=\"dataframe\">\n  <thead>\n    <tr style=\"text-align: right;\">\n      <th></th>\n      <th>cust_id</th>\n      <th>debit_credit</th>\n      <th>tx_date</th>\n      <th>tx_time</th>\n      <th>tx_type</th>\n      <th>tx_amt</th>\n      <th>exchg_rate</th>\n      <th>info_asset_code</th>\n      <th>fiscTxId</th>\n      <th>txbranch</th>\n      <th>cross_bank</th>\n      <th>ATM</th>\n    </tr>\n  </thead>\n  <tbody>\n    <tr>\n      <th>0</th>\n      <td>0172056578071e83399216fcd640bdc4de4583149d0fd9...</td>\n      <td>CR</td>\n      <td>36</td>\n      <td>18</td>\n      <td>2</td>\n      <td>68265.0</td>\n      <td>1.0</td>\n      <td>16</td>\n      <td>NaN</td>\n      <td>NaN</td>\n      <td>0</td>\n      <td>0</td>\n    </tr>\n    <tr>\n      <th>1</th>\n      <td>0172056578071e83399216fcd640bdc4de4583149d0fd9...</td>\n      <td>CR</td>\n      <td>42</td>\n      <td>17</td>\n      <td>2</td>\n      <td>932058.0</td>\n      <td>1.0</td>\n      <td>16</td>\n      <td>NaN</td>\n      <td>NaN</td>\n      <td>0</td>\n      <td>0</td>\n    </tr>\n    <tr>\n      <th>2</th>\n      <td>0172056578071e83399216fcd640bdc4de4583149d0fd9...</td>\n      <td>CR</td>\n      <td>39</td>\n      <td>18</td>\n      <td>2</td>\n      <td>6089.0</td>\n      <td>1.0</td>\n      <td>16</td>\n      <td>NaN</td>\n      <td>NaN</td>\n      <td>0</td>\n      <td>0</td>\n    </tr>\n    <tr>\n      <th>3</th>\n      <td>0172056578071e83399216fcd640bdc4de4583149d0fd9...</td>\n      <td>CR</td>\n      <td>49</td>\n      <td>15</td>\n      <td>2</td>\n      <td>776715.0</td>\n      <td>1.0</td>\n      <td>16</td>\n      <td>NaN</td>\n      <td>NaN</td>\n      <td>0</td>\n      <td>0</td>\n    </tr>\n    <tr>\n      <th>4</th>\n      <td>0172056578071e83399216fcd640bdc4de4583149d0fd9...</td>\n      <td>CR</td>\n      <td>70</td>\n      <td>19</td>\n      <td>2</td>\n      <td>61630.0</td>\n      <td>1.0</td>\n      <td>16</td>\n      <td>NaN</td>\n      <td>NaN</td>\n      <td>0</td>\n      <td>0</td>\n    </tr>\n    <tr>\n      <th>...</th>\n      <td>...</td>\n      <td>...</td>\n      <td>...</td>\n      <td>...</td>\n      <td>...</td>\n      <td>...</td>\n      <td>...</td>\n      <td>...</td>\n      <td>...</td>\n      <td>...</td>\n      <td>...</td>\n      <td>...</td>\n    </tr>\n    <tr>\n      <th>1969813</th>\n      <td>fff94defcc33daab190e702926d583f6d805294354addb...</td>\n      <td>CR</td>\n      <td>39</td>\n      <td>20</td>\n      <td>2</td>\n      <td>1030.0</td>\n      <td>1.0</td>\n      <td>13</td>\n      <td>4.0</td>\n      <td>313.0</td>\n      <td>1</td>\n      <td>1</td>\n    </tr>\n    <tr>\n      <th>1969814</th>\n      <td>fff94defcc33daab190e702926d583f6d805294354addb...</td>\n      <td>CR</td>\n      <td>73</td>\n      <td>1</td>\n      <td>2</td>\n      <td>1030.0</td>\n      <td>1.0</td>\n      <td>13</td>\n      <td>4.0</td>\n      <td>144.0</td>\n      <td>1</td>\n      <td>1</td>\n    </tr>\n    <tr>\n      <th>1969815</th>\n      <td>fff94defcc33daab190e702926d583f6d805294354addb...</td>\n      <td>CR</td>\n      <td>43</td>\n      <td>22</td>\n      <td>2</td>\n      <td>1648.0</td>\n      <td>1.0</td>\n      <td>13</td>\n      <td>7.0</td>\n      <td>313.0</td>\n      <td>1</td>\n      <td>1</td>\n    </tr>\n    <tr>\n      <th>1969816</th>\n      <td>fff94defcc33daab190e702926d583f6d805294354addb...</td>\n      <td>DB</td>\n      <td>40</td>\n      <td>18</td>\n      <td>2</td>\n      <td>1030.0</td>\n      <td>1.0</td>\n      <td>13</td>\n      <td>3.0</td>\n      <td>310.0</td>\n      <td>1</td>\n      <td>1</td>\n    </tr>\n    <tr>\n      <th>1969817</th>\n      <td>fff94defcc33daab190e702926d583f6d805294354addb...</td>\n      <td>DB</td>\n      <td>61</td>\n      <td>14</td>\n      <td>2</td>\n      <td>1030.0</td>\n      <td>1.0</td>\n      <td>16</td>\n      <td>NaN</td>\n      <td>NaN</td>\n      <td>0</td>\n      <td>0</td>\n    </tr>\n  </tbody>\n</table>\n<p>1969818 rows × 12 columns</p>\n</div>"
     },
     "execution_count": 30,
     "metadata": {},
     "output_type": "execute_result"
    }
   ],
   "source": [
    "xdp"
   ],
   "metadata": {
    "collapsed": false,
    "pycharm": {
     "name": "#%%\n"
    }
   }
  },
  {
   "cell_type": "code",
   "execution_count": 31,
   "outputs": [
    {
     "data": {
      "text/plain": "       alert_key  date  sar_flag  \\\n0         171189     0         0   \n1         171202     0         0   \n2         171599     0         0   \n3         171737     0         0   \n4         171142     0         0   \n...          ...   ...       ...   \n23901     352132   364         0   \n23902     352125   364         0   \n23903     352080   364         0   \n23904     352075   364         0   \n23905     351927   364         0   \n\n                                                 cust_id  risk_rank  AGE  \n0      972ee157e63316e8a50dd489bc93730a3ee8a8959d5c6b...          1    4  \n1      a10ab33f90926fb18d7bb5e78034d7f04a1fbed95b7951...          3    2  \n2      3433ecc068ed1c9e2f5037cab5d42d7b901e9bd624c1fb...          1    4  \n3      a0861608615a9365d90f4ba0a813c0ea0471987f925c8b...          3    4  \n4      a39fea9aec90969fe66a2b2b4d1b86368a2d38e8b8d4bf...          3    3  \n...                                                  ...        ...  ...  \n23901  c49b33d1fde790ec03584672903f296e486615adfdc989...          1    3  \n23902  0c2dc5fedc3689abf5ff4be14fe8fea8d23d22068297c2...          3    3  \n23903  1a93961c8fa830a1f32f5316b44f4964d65397f0311b11...          2    6  \n23904  9586b80d3ad1d74c0a1efe792cae2ecd073243fb01ed33...          3    6  \n23905  7dc5256ef411c745dc3064da2f231c104ca270f564d3d0...          1    2  \n\n[23906 rows x 6 columns]",
      "text/html": "<div>\n<style scoped>\n    .dataframe tbody tr th:only-of-type {\n        vertical-align: middle;\n    }\n\n    .dataframe tbody tr th {\n        vertical-align: top;\n    }\n\n    .dataframe thead th {\n        text-align: right;\n    }\n</style>\n<table border=\"1\" class=\"dataframe\">\n  <thead>\n    <tr style=\"text-align: right;\">\n      <th></th>\n      <th>alert_key</th>\n      <th>date</th>\n      <th>sar_flag</th>\n      <th>cust_id</th>\n      <th>risk_rank</th>\n      <th>AGE</th>\n    </tr>\n  </thead>\n  <tbody>\n    <tr>\n      <th>0</th>\n      <td>171189</td>\n      <td>0</td>\n      <td>0</td>\n      <td>972ee157e63316e8a50dd489bc93730a3ee8a8959d5c6b...</td>\n      <td>1</td>\n      <td>4</td>\n    </tr>\n    <tr>\n      <th>1</th>\n      <td>171202</td>\n      <td>0</td>\n      <td>0</td>\n      <td>a10ab33f90926fb18d7bb5e78034d7f04a1fbed95b7951...</td>\n      <td>3</td>\n      <td>2</td>\n    </tr>\n    <tr>\n      <th>2</th>\n      <td>171599</td>\n      <td>0</td>\n      <td>0</td>\n      <td>3433ecc068ed1c9e2f5037cab5d42d7b901e9bd624c1fb...</td>\n      <td>1</td>\n      <td>4</td>\n    </tr>\n    <tr>\n      <th>3</th>\n      <td>171737</td>\n      <td>0</td>\n      <td>0</td>\n      <td>a0861608615a9365d90f4ba0a813c0ea0471987f925c8b...</td>\n      <td>3</td>\n      <td>4</td>\n    </tr>\n    <tr>\n      <th>4</th>\n      <td>171142</td>\n      <td>0</td>\n      <td>0</td>\n      <td>a39fea9aec90969fe66a2b2b4d1b86368a2d38e8b8d4bf...</td>\n      <td>3</td>\n      <td>3</td>\n    </tr>\n    <tr>\n      <th>...</th>\n      <td>...</td>\n      <td>...</td>\n      <td>...</td>\n      <td>...</td>\n      <td>...</td>\n      <td>...</td>\n    </tr>\n    <tr>\n      <th>23901</th>\n      <td>352132</td>\n      <td>364</td>\n      <td>0</td>\n      <td>c49b33d1fde790ec03584672903f296e486615adfdc989...</td>\n      <td>1</td>\n      <td>3</td>\n    </tr>\n    <tr>\n      <th>23902</th>\n      <td>352125</td>\n      <td>364</td>\n      <td>0</td>\n      <td>0c2dc5fedc3689abf5ff4be14fe8fea8d23d22068297c2...</td>\n      <td>3</td>\n      <td>3</td>\n    </tr>\n    <tr>\n      <th>23903</th>\n      <td>352080</td>\n      <td>364</td>\n      <td>0</td>\n      <td>1a93961c8fa830a1f32f5316b44f4964d65397f0311b11...</td>\n      <td>2</td>\n      <td>6</td>\n    </tr>\n    <tr>\n      <th>23904</th>\n      <td>352075</td>\n      <td>364</td>\n      <td>0</td>\n      <td>9586b80d3ad1d74c0a1efe792cae2ecd073243fb01ed33...</td>\n      <td>3</td>\n      <td>6</td>\n    </tr>\n    <tr>\n      <th>23905</th>\n      <td>351927</td>\n      <td>364</td>\n      <td>0</td>\n      <td>7dc5256ef411c745dc3064da2f231c104ca270f564d3d0...</td>\n      <td>1</td>\n      <td>2</td>\n    </tr>\n  </tbody>\n</table>\n<p>23906 rows × 6 columns</p>\n</div>"
     },
     "execution_count": 31,
     "metadata": {},
     "output_type": "execute_result"
    }
   ],
   "source": [
    "# xdp_train originally from train.copy()\n",
    "xdp_train = xdp_train.drop(['occupation_code', 'total_asset'], axis=1)\n",
    "xdp_train"
   ],
   "metadata": {
    "collapsed": false,
    "pycharm": {
     "name": "#%%\n"
    }
   }
  },
  {
   "cell_type": "code",
   "execution_count": 34,
   "outputs": [],
   "source": [
    "from tqdm import tqdm\n",
    "\n",
    "def calculate_tx(row):\n",
    "    if not pd.isna(row['risk_rank']):\n",
    "        temp_frame = xdp[(xdp['tx_date'] <= row['date']) & (xdp['cust_id'] == row['cust_id'])]\n",
    "        total_tx = (temp_frame['tx_amt'] * temp_frame['exchg_rate'])\n",
    "        row['total_tx'] = total_tx.sum()\n",
    "        row['avg_tx'] = total_tx.mean()\n",
    "        row['count_tx'] = total_tx.count()\n",
    "        row['std_tx'] = total_tx.std()\n",
    "        row['tx_per_day'] = row['count_tx']/row['date']\n",
    "    return row"
   ],
   "metadata": {
    "collapsed": false,
    "pycharm": {
     "name": "#%%\n"
    }
   }
  },
  {
   "cell_type": "code",
   "execution_count": null,
   "outputs": [],
   "source": [
    "# Experiment for function in .progress_apply\n",
    "\n"
   ],
   "metadata": {
    "collapsed": false,
    "pycharm": {
     "name": "#%%\n"
    }
   }
  },
  {
   "cell_type": "code",
   "execution_count": 35,
   "outputs": [
    {
     "name": "stderr",
     "output_type": "stream",
     "text": [
      "Progress Bar: 100%|██████████| 23906/23906 [28:48<00:00, 13.83it/s]\n"
     ]
    },
    {
     "data": {
      "text/plain": "       alert_key  date  sar_flag  \\\n0         171189     0         0   \n1         171202     0         0   \n2         171599     0         0   \n3         171737     0         0   \n4         171142     0         0   \n...          ...   ...       ...   \n23901     352132   364         0   \n23902     352125   364         0   \n23903     352080   364         0   \n23904     352075   364         0   \n23905     351927   364         0   \n\n                                                 cust_id  risk_rank  AGE  \\\n0      972ee157e63316e8a50dd489bc93730a3ee8a8959d5c6b...          1    4   \n1      a10ab33f90926fb18d7bb5e78034d7f04a1fbed95b7951...          3    2   \n2      3433ecc068ed1c9e2f5037cab5d42d7b901e9bd624c1fb...          1    4   \n3      a0861608615a9365d90f4ba0a813c0ea0471987f925c8b...          3    4   \n4      a39fea9aec90969fe66a2b2b4d1b86368a2d38e8b8d4bf...          3    3   \n...                                                  ...        ...  ...   \n23901  c49b33d1fde790ec03584672903f296e486615adfdc989...          1    3   \n23902  0c2dc5fedc3689abf5ff4be14fe8fea8d23d22068297c2...          3    3   \n23903  1a93961c8fa830a1f32f5316b44f4964d65397f0311b11...          2    6   \n23904  9586b80d3ad1d74c0a1efe792cae2ecd073243fb01ed33...          3    6   \n23905  7dc5256ef411c745dc3064da2f231c104ca270f564d3d0...          1    2   \n\n           total_tx        avg_tx  count_tx        std_tx  \n0      1.515000e+03  5.050000e+02         3  4.502233e+02  \n1      2.092020e+05  6.973400e+04         3  7.567066e+04  \n2      3.105930e+05  7.764825e+04         4  1.347252e+05  \n3      4.312500e+04  4.312500e+03        10  5.920366e+03  \n4      2.963440e+05  4.939067e+03        60  6.547865e+03  \n...             ...           ...       ...           ...  \n23901  1.532000e+08  1.078873e+06       142  3.103629e+06  \n23902  4.615283e+07  2.307641e+06        20  2.605778e+06  \n23903  1.555772e+08  2.222531e+06        70  5.842826e+06  \n23904  1.365559e+08  3.175717e+05       430  2.409931e+06  \n23905  5.918977e+07  2.630657e+05       225  1.533872e+06  \n\n[23906 rows x 10 columns]",
      "text/html": "<div>\n<style scoped>\n    .dataframe tbody tr th:only-of-type {\n        vertical-align: middle;\n    }\n\n    .dataframe tbody tr th {\n        vertical-align: top;\n    }\n\n    .dataframe thead th {\n        text-align: right;\n    }\n</style>\n<table border=\"1\" class=\"dataframe\">\n  <thead>\n    <tr style=\"text-align: right;\">\n      <th></th>\n      <th>alert_key</th>\n      <th>date</th>\n      <th>sar_flag</th>\n      <th>cust_id</th>\n      <th>risk_rank</th>\n      <th>AGE</th>\n      <th>total_tx</th>\n      <th>avg_tx</th>\n      <th>count_tx</th>\n      <th>std_tx</th>\n    </tr>\n  </thead>\n  <tbody>\n    <tr>\n      <th>0</th>\n      <td>171189</td>\n      <td>0</td>\n      <td>0</td>\n      <td>972ee157e63316e8a50dd489bc93730a3ee8a8959d5c6b...</td>\n      <td>1</td>\n      <td>4</td>\n      <td>1.515000e+03</td>\n      <td>5.050000e+02</td>\n      <td>3</td>\n      <td>4.502233e+02</td>\n    </tr>\n    <tr>\n      <th>1</th>\n      <td>171202</td>\n      <td>0</td>\n      <td>0</td>\n      <td>a10ab33f90926fb18d7bb5e78034d7f04a1fbed95b7951...</td>\n      <td>3</td>\n      <td>2</td>\n      <td>2.092020e+05</td>\n      <td>6.973400e+04</td>\n      <td>3</td>\n      <td>7.567066e+04</td>\n    </tr>\n    <tr>\n      <th>2</th>\n      <td>171599</td>\n      <td>0</td>\n      <td>0</td>\n      <td>3433ecc068ed1c9e2f5037cab5d42d7b901e9bd624c1fb...</td>\n      <td>1</td>\n      <td>4</td>\n      <td>3.105930e+05</td>\n      <td>7.764825e+04</td>\n      <td>4</td>\n      <td>1.347252e+05</td>\n    </tr>\n    <tr>\n      <th>3</th>\n      <td>171737</td>\n      <td>0</td>\n      <td>0</td>\n      <td>a0861608615a9365d90f4ba0a813c0ea0471987f925c8b...</td>\n      <td>3</td>\n      <td>4</td>\n      <td>4.312500e+04</td>\n      <td>4.312500e+03</td>\n      <td>10</td>\n      <td>5.920366e+03</td>\n    </tr>\n    <tr>\n      <th>4</th>\n      <td>171142</td>\n      <td>0</td>\n      <td>0</td>\n      <td>a39fea9aec90969fe66a2b2b4d1b86368a2d38e8b8d4bf...</td>\n      <td>3</td>\n      <td>3</td>\n      <td>2.963440e+05</td>\n      <td>4.939067e+03</td>\n      <td>60</td>\n      <td>6.547865e+03</td>\n    </tr>\n    <tr>\n      <th>...</th>\n      <td>...</td>\n      <td>...</td>\n      <td>...</td>\n      <td>...</td>\n      <td>...</td>\n      <td>...</td>\n      <td>...</td>\n      <td>...</td>\n      <td>...</td>\n      <td>...</td>\n    </tr>\n    <tr>\n      <th>23901</th>\n      <td>352132</td>\n      <td>364</td>\n      <td>0</td>\n      <td>c49b33d1fde790ec03584672903f296e486615adfdc989...</td>\n      <td>1</td>\n      <td>3</td>\n      <td>1.532000e+08</td>\n      <td>1.078873e+06</td>\n      <td>142</td>\n      <td>3.103629e+06</td>\n    </tr>\n    <tr>\n      <th>23902</th>\n      <td>352125</td>\n      <td>364</td>\n      <td>0</td>\n      <td>0c2dc5fedc3689abf5ff4be14fe8fea8d23d22068297c2...</td>\n      <td>3</td>\n      <td>3</td>\n      <td>4.615283e+07</td>\n      <td>2.307641e+06</td>\n      <td>20</td>\n      <td>2.605778e+06</td>\n    </tr>\n    <tr>\n      <th>23903</th>\n      <td>352080</td>\n      <td>364</td>\n      <td>0</td>\n      <td>1a93961c8fa830a1f32f5316b44f4964d65397f0311b11...</td>\n      <td>2</td>\n      <td>6</td>\n      <td>1.555772e+08</td>\n      <td>2.222531e+06</td>\n      <td>70</td>\n      <td>5.842826e+06</td>\n    </tr>\n    <tr>\n      <th>23904</th>\n      <td>352075</td>\n      <td>364</td>\n      <td>0</td>\n      <td>9586b80d3ad1d74c0a1efe792cae2ecd073243fb01ed33...</td>\n      <td>3</td>\n      <td>6</td>\n      <td>1.365559e+08</td>\n      <td>3.175717e+05</td>\n      <td>430</td>\n      <td>2.409931e+06</td>\n    </tr>\n    <tr>\n      <th>23905</th>\n      <td>351927</td>\n      <td>364</td>\n      <td>0</td>\n      <td>7dc5256ef411c745dc3064da2f231c104ca270f564d3d0...</td>\n      <td>1</td>\n      <td>2</td>\n      <td>5.918977e+07</td>\n      <td>2.630657e+05</td>\n      <td>225</td>\n      <td>1.533872e+06</td>\n    </tr>\n  </tbody>\n</table>\n<p>23906 rows × 10 columns</p>\n</div>"
     },
     "execution_count": 35,
     "metadata": {},
     "output_type": "execute_result"
    }
   ],
   "source": [
    "tqdm.pandas(desc='Progress Bar')\n",
    "xdp_train_test = xdp_train.copy()\n",
    "xdp_train_test = xdp_train_test.progress_apply(calculate_tx, axis=1)\n",
    "xdp_train_test"
   ],
   "metadata": {
    "collapsed": false,
    "pycharm": {
     "name": "#%%\n"
    }
   }
  },
  {
   "cell_type": "code",
   "execution_count": 36,
   "outputs": [],
   "source": [
    "xdp_train_test.to_pickle('xdp_train_test1.pkl')"
   ],
   "metadata": {
    "collapsed": false,
    "pycharm": {
     "name": "#%%\n"
    }
   }
  },
  {
   "cell_type": "code",
   "execution_count": 37,
   "outputs": [],
   "source": [
    "xdp_train_test['avg_tx'] = xdp_train_test['avg_tx'].fillna(0)\n",
    "xdp_train_test['std_tx'] = xdp_train_test['std_tx'].fillna(0)"
   ],
   "metadata": {
    "collapsed": false,
    "pycharm": {
     "name": "#%%\n"
    }
   }
  },
  {
   "cell_type": "code",
   "execution_count": 38,
   "outputs": [
    {
     "data": {
      "text/plain": "       alert_key  date  sar_flag  \\\n0         171189     0         0   \n1         171202     0         0   \n2         171599     0         0   \n3         171737     0         0   \n4         171142     0         0   \n...          ...   ...       ...   \n23901     352132   364         0   \n23902     352125   364         0   \n23903     352080   364         0   \n23904     352075   364         0   \n23905     351927   364         0   \n\n                                                 cust_id  risk_rank  AGE  \\\n0      972ee157e63316e8a50dd489bc93730a3ee8a8959d5c6b...          1    4   \n1      a10ab33f90926fb18d7bb5e78034d7f04a1fbed95b7951...          3    2   \n2      3433ecc068ed1c9e2f5037cab5d42d7b901e9bd624c1fb...          1    4   \n3      a0861608615a9365d90f4ba0a813c0ea0471987f925c8b...          3    4   \n4      a39fea9aec90969fe66a2b2b4d1b86368a2d38e8b8d4bf...          3    3   \n...                                                  ...        ...  ...   \n23901  c49b33d1fde790ec03584672903f296e486615adfdc989...          1    3   \n23902  0c2dc5fedc3689abf5ff4be14fe8fea8d23d22068297c2...          3    3   \n23903  1a93961c8fa830a1f32f5316b44f4964d65397f0311b11...          2    6   \n23904  9586b80d3ad1d74c0a1efe792cae2ecd073243fb01ed33...          3    6   \n23905  7dc5256ef411c745dc3064da2f231c104ca270f564d3d0...          1    2   \n\n           total_tx        avg_tx  count_tx        std_tx  \n0      1.515000e+03  5.050000e+02         3  4.502233e+02  \n1      2.092020e+05  6.973400e+04         3  7.567066e+04  \n2      3.105930e+05  7.764825e+04         4  1.347252e+05  \n3      4.312500e+04  4.312500e+03        10  5.920366e+03  \n4      2.963440e+05  4.939067e+03        60  6.547865e+03  \n...             ...           ...       ...           ...  \n23901  1.532000e+08  1.078873e+06       142  3.103629e+06  \n23902  4.615283e+07  2.307641e+06        20  2.605778e+06  \n23903  1.555772e+08  2.222531e+06        70  5.842826e+06  \n23904  1.365559e+08  3.175717e+05       430  2.409931e+06  \n23905  5.918977e+07  2.630657e+05       225  1.533872e+06  \n\n[23906 rows x 10 columns]",
      "text/html": "<div>\n<style scoped>\n    .dataframe tbody tr th:only-of-type {\n        vertical-align: middle;\n    }\n\n    .dataframe tbody tr th {\n        vertical-align: top;\n    }\n\n    .dataframe thead th {\n        text-align: right;\n    }\n</style>\n<table border=\"1\" class=\"dataframe\">\n  <thead>\n    <tr style=\"text-align: right;\">\n      <th></th>\n      <th>alert_key</th>\n      <th>date</th>\n      <th>sar_flag</th>\n      <th>cust_id</th>\n      <th>risk_rank</th>\n      <th>AGE</th>\n      <th>total_tx</th>\n      <th>avg_tx</th>\n      <th>count_tx</th>\n      <th>std_tx</th>\n    </tr>\n  </thead>\n  <tbody>\n    <tr>\n      <th>0</th>\n      <td>171189</td>\n      <td>0</td>\n      <td>0</td>\n      <td>972ee157e63316e8a50dd489bc93730a3ee8a8959d5c6b...</td>\n      <td>1</td>\n      <td>4</td>\n      <td>1.515000e+03</td>\n      <td>5.050000e+02</td>\n      <td>3</td>\n      <td>4.502233e+02</td>\n    </tr>\n    <tr>\n      <th>1</th>\n      <td>171202</td>\n      <td>0</td>\n      <td>0</td>\n      <td>a10ab33f90926fb18d7bb5e78034d7f04a1fbed95b7951...</td>\n      <td>3</td>\n      <td>2</td>\n      <td>2.092020e+05</td>\n      <td>6.973400e+04</td>\n      <td>3</td>\n      <td>7.567066e+04</td>\n    </tr>\n    <tr>\n      <th>2</th>\n      <td>171599</td>\n      <td>0</td>\n      <td>0</td>\n      <td>3433ecc068ed1c9e2f5037cab5d42d7b901e9bd624c1fb...</td>\n      <td>1</td>\n      <td>4</td>\n      <td>3.105930e+05</td>\n      <td>7.764825e+04</td>\n      <td>4</td>\n      <td>1.347252e+05</td>\n    </tr>\n    <tr>\n      <th>3</th>\n      <td>171737</td>\n      <td>0</td>\n      <td>0</td>\n      <td>a0861608615a9365d90f4ba0a813c0ea0471987f925c8b...</td>\n      <td>3</td>\n      <td>4</td>\n      <td>4.312500e+04</td>\n      <td>4.312500e+03</td>\n      <td>10</td>\n      <td>5.920366e+03</td>\n    </tr>\n    <tr>\n      <th>4</th>\n      <td>171142</td>\n      <td>0</td>\n      <td>0</td>\n      <td>a39fea9aec90969fe66a2b2b4d1b86368a2d38e8b8d4bf...</td>\n      <td>3</td>\n      <td>3</td>\n      <td>2.963440e+05</td>\n      <td>4.939067e+03</td>\n      <td>60</td>\n      <td>6.547865e+03</td>\n    </tr>\n    <tr>\n      <th>...</th>\n      <td>...</td>\n      <td>...</td>\n      <td>...</td>\n      <td>...</td>\n      <td>...</td>\n      <td>...</td>\n      <td>...</td>\n      <td>...</td>\n      <td>...</td>\n      <td>...</td>\n    </tr>\n    <tr>\n      <th>23901</th>\n      <td>352132</td>\n      <td>364</td>\n      <td>0</td>\n      <td>c49b33d1fde790ec03584672903f296e486615adfdc989...</td>\n      <td>1</td>\n      <td>3</td>\n      <td>1.532000e+08</td>\n      <td>1.078873e+06</td>\n      <td>142</td>\n      <td>3.103629e+06</td>\n    </tr>\n    <tr>\n      <th>23902</th>\n      <td>352125</td>\n      <td>364</td>\n      <td>0</td>\n      <td>0c2dc5fedc3689abf5ff4be14fe8fea8d23d22068297c2...</td>\n      <td>3</td>\n      <td>3</td>\n      <td>4.615283e+07</td>\n      <td>2.307641e+06</td>\n      <td>20</td>\n      <td>2.605778e+06</td>\n    </tr>\n    <tr>\n      <th>23903</th>\n      <td>352080</td>\n      <td>364</td>\n      <td>0</td>\n      <td>1a93961c8fa830a1f32f5316b44f4964d65397f0311b11...</td>\n      <td>2</td>\n      <td>6</td>\n      <td>1.555772e+08</td>\n      <td>2.222531e+06</td>\n      <td>70</td>\n      <td>5.842826e+06</td>\n    </tr>\n    <tr>\n      <th>23904</th>\n      <td>352075</td>\n      <td>364</td>\n      <td>0</td>\n      <td>9586b80d3ad1d74c0a1efe792cae2ecd073243fb01ed33...</td>\n      <td>3</td>\n      <td>6</td>\n      <td>1.365559e+08</td>\n      <td>3.175717e+05</td>\n      <td>430</td>\n      <td>2.409931e+06</td>\n    </tr>\n    <tr>\n      <th>23905</th>\n      <td>351927</td>\n      <td>364</td>\n      <td>0</td>\n      <td>7dc5256ef411c745dc3064da2f231c104ca270f564d3d0...</td>\n      <td>1</td>\n      <td>2</td>\n      <td>5.918977e+07</td>\n      <td>2.630657e+05</td>\n      <td>225</td>\n      <td>1.533872e+06</td>\n    </tr>\n  </tbody>\n</table>\n<p>23906 rows × 10 columns</p>\n</div>"
     },
     "execution_count": 38,
     "metadata": {},
     "output_type": "execute_result"
    }
   ],
   "source": [
    "xdp_train_test"
   ],
   "metadata": {
    "collapsed": false,
    "pycharm": {
     "name": "#%%\n"
    }
   }
  },
  {
   "cell_type": "code",
   "execution_count": 39,
   "outputs": [
    {
     "data": {
      "text/plain": "alert_key    False\ndate         False\nsar_flag     False\ncust_id      False\nrisk_rank    False\nAGE          False\ntotal_tx     False\navg_tx       False\ncount_tx     False\nstd_tx       False\ndtype: bool"
     },
     "execution_count": 39,
     "metadata": {},
     "output_type": "execute_result"
    }
   ],
   "source": [
    "xdp_train_test.isnull().any()"
   ],
   "metadata": {
    "collapsed": false,
    "pycharm": {
     "name": "#%%\n"
    }
   }
  },
  {
   "cell_type": "code",
   "execution_count": 40,
   "outputs": [
    {
     "data": {
      "text/plain": "       alert_key  date  sar_flag  \\\n0         171189     0         0   \n1         171202     0         0   \n2         171599     0         0   \n3         171737     0         0   \n4         171142     0         0   \n...          ...   ...       ...   \n23901     352132   364         0   \n23902     352125   364         0   \n23903     352080   364         0   \n23904     352075   364         0   \n23905     351927   364         0   \n\n                                                 cust_id  risk_rank  AGE  \\\n0      972ee157e63316e8a50dd489bc93730a3ee8a8959d5c6b...          1    4   \n1      a10ab33f90926fb18d7bb5e78034d7f04a1fbed95b7951...          3    2   \n2      3433ecc068ed1c9e2f5037cab5d42d7b901e9bd624c1fb...          1    4   \n3      a0861608615a9365d90f4ba0a813c0ea0471987f925c8b...          3    4   \n4      a39fea9aec90969fe66a2b2b4d1b86368a2d38e8b8d4bf...          3    3   \n...                                                  ...        ...  ...   \n23901  c49b33d1fde790ec03584672903f296e486615adfdc989...          1    3   \n23902  0c2dc5fedc3689abf5ff4be14fe8fea8d23d22068297c2...          3    3   \n23903  1a93961c8fa830a1f32f5316b44f4964d65397f0311b11...          2    6   \n23904  9586b80d3ad1d74c0a1efe792cae2ecd073243fb01ed33...          3    6   \n23905  7dc5256ef411c745dc3064da2f231c104ca270f564d3d0...          1    2   \n\n           total_tx        avg_tx  count_tx        std_tx  \n0      1.515000e+03  5.050000e+02         3  4.502233e+02  \n1      2.092020e+05  6.973400e+04         3  7.567066e+04  \n2      3.105930e+05  7.764825e+04         4  1.347252e+05  \n3      4.312500e+04  4.312500e+03        10  5.920366e+03  \n4      2.963440e+05  4.939067e+03        60  6.547865e+03  \n...             ...           ...       ...           ...  \n23901  1.532000e+08  1.078873e+06       142  3.103629e+06  \n23902  4.615283e+07  2.307641e+06        20  2.605778e+06  \n23903  1.555772e+08  2.222531e+06        70  5.842826e+06  \n23904  1.365559e+08  3.175717e+05       430  2.409931e+06  \n23905  5.918977e+07  2.630657e+05       225  1.533872e+06  \n\n[23906 rows x 10 columns]",
      "text/html": "<div>\n<style scoped>\n    .dataframe tbody tr th:only-of-type {\n        vertical-align: middle;\n    }\n\n    .dataframe tbody tr th {\n        vertical-align: top;\n    }\n\n    .dataframe thead th {\n        text-align: right;\n    }\n</style>\n<table border=\"1\" class=\"dataframe\">\n  <thead>\n    <tr style=\"text-align: right;\">\n      <th></th>\n      <th>alert_key</th>\n      <th>date</th>\n      <th>sar_flag</th>\n      <th>cust_id</th>\n      <th>risk_rank</th>\n      <th>AGE</th>\n      <th>total_tx</th>\n      <th>avg_tx</th>\n      <th>count_tx</th>\n      <th>std_tx</th>\n    </tr>\n  </thead>\n  <tbody>\n    <tr>\n      <th>0</th>\n      <td>171189</td>\n      <td>0</td>\n      <td>0</td>\n      <td>972ee157e63316e8a50dd489bc93730a3ee8a8959d5c6b...</td>\n      <td>1</td>\n      <td>4</td>\n      <td>1.515000e+03</td>\n      <td>5.050000e+02</td>\n      <td>3</td>\n      <td>4.502233e+02</td>\n    </tr>\n    <tr>\n      <th>1</th>\n      <td>171202</td>\n      <td>0</td>\n      <td>0</td>\n      <td>a10ab33f90926fb18d7bb5e78034d7f04a1fbed95b7951...</td>\n      <td>3</td>\n      <td>2</td>\n      <td>2.092020e+05</td>\n      <td>6.973400e+04</td>\n      <td>3</td>\n      <td>7.567066e+04</td>\n    </tr>\n    <tr>\n      <th>2</th>\n      <td>171599</td>\n      <td>0</td>\n      <td>0</td>\n      <td>3433ecc068ed1c9e2f5037cab5d42d7b901e9bd624c1fb...</td>\n      <td>1</td>\n      <td>4</td>\n      <td>3.105930e+05</td>\n      <td>7.764825e+04</td>\n      <td>4</td>\n      <td>1.347252e+05</td>\n    </tr>\n    <tr>\n      <th>3</th>\n      <td>171737</td>\n      <td>0</td>\n      <td>0</td>\n      <td>a0861608615a9365d90f4ba0a813c0ea0471987f925c8b...</td>\n      <td>3</td>\n      <td>4</td>\n      <td>4.312500e+04</td>\n      <td>4.312500e+03</td>\n      <td>10</td>\n      <td>5.920366e+03</td>\n    </tr>\n    <tr>\n      <th>4</th>\n      <td>171142</td>\n      <td>0</td>\n      <td>0</td>\n      <td>a39fea9aec90969fe66a2b2b4d1b86368a2d38e8b8d4bf...</td>\n      <td>3</td>\n      <td>3</td>\n      <td>2.963440e+05</td>\n      <td>4.939067e+03</td>\n      <td>60</td>\n      <td>6.547865e+03</td>\n    </tr>\n    <tr>\n      <th>...</th>\n      <td>...</td>\n      <td>...</td>\n      <td>...</td>\n      <td>...</td>\n      <td>...</td>\n      <td>...</td>\n      <td>...</td>\n      <td>...</td>\n      <td>...</td>\n      <td>...</td>\n    </tr>\n    <tr>\n      <th>23901</th>\n      <td>352132</td>\n      <td>364</td>\n      <td>0</td>\n      <td>c49b33d1fde790ec03584672903f296e486615adfdc989...</td>\n      <td>1</td>\n      <td>3</td>\n      <td>1.532000e+08</td>\n      <td>1.078873e+06</td>\n      <td>142</td>\n      <td>3.103629e+06</td>\n    </tr>\n    <tr>\n      <th>23902</th>\n      <td>352125</td>\n      <td>364</td>\n      <td>0</td>\n      <td>0c2dc5fedc3689abf5ff4be14fe8fea8d23d22068297c2...</td>\n      <td>3</td>\n      <td>3</td>\n      <td>4.615283e+07</td>\n      <td>2.307641e+06</td>\n      <td>20</td>\n      <td>2.605778e+06</td>\n    </tr>\n    <tr>\n      <th>23903</th>\n      <td>352080</td>\n      <td>364</td>\n      <td>0</td>\n      <td>1a93961c8fa830a1f32f5316b44f4964d65397f0311b11...</td>\n      <td>2</td>\n      <td>6</td>\n      <td>1.555772e+08</td>\n      <td>2.222531e+06</td>\n      <td>70</td>\n      <td>5.842826e+06</td>\n    </tr>\n    <tr>\n      <th>23904</th>\n      <td>352075</td>\n      <td>364</td>\n      <td>0</td>\n      <td>9586b80d3ad1d74c0a1efe792cae2ecd073243fb01ed33...</td>\n      <td>3</td>\n      <td>6</td>\n      <td>1.365559e+08</td>\n      <td>3.175717e+05</td>\n      <td>430</td>\n      <td>2.409931e+06</td>\n    </tr>\n    <tr>\n      <th>23905</th>\n      <td>351927</td>\n      <td>364</td>\n      <td>0</td>\n      <td>7dc5256ef411c745dc3064da2f231c104ca270f564d3d0...</td>\n      <td>1</td>\n      <td>2</td>\n      <td>5.918977e+07</td>\n      <td>2.630657e+05</td>\n      <td>225</td>\n      <td>1.533872e+06</td>\n    </tr>\n  </tbody>\n</table>\n<p>23906 rows × 10 columns</p>\n</div>"
     },
     "execution_count": 40,
     "metadata": {},
     "output_type": "execute_result"
    }
   ],
   "source": [
    "xdp_train_test"
   ],
   "metadata": {
    "collapsed": false,
    "pycharm": {
     "name": "#%%\n"
    }
   }
  },
  {
   "cell_type": "code",
   "execution_count": 41,
   "outputs": [
    {
     "name": "stdout",
     "output_type": "stream",
     "text": [
      "length of oversampled data is  33168\n",
      "Number of non-sar in oversampled data 16584\n",
      "Number of sar 16584\n",
      "Proportion of no subscription data in oversampled data is  0.5\n",
      "Proportion of subscription data in oversampled data is  0.5\n"
     ]
    }
   ],
   "source": [
    "xdp_train_x = xdp_train_test[['risk_rank','AGE','total_tx','avg_tx','count_tx','std_tx']]\n",
    "xdp_train_y = xdp_train_test.loc[:, xdp_train_test.columns == 'sar_flag']\n",
    "sm_xdp_train_x, sm_xdp_train_y = SMOTE_oversampling(xdp_train_x, xdp_train_y)"
   ],
   "metadata": {
    "collapsed": false,
    "pycharm": {
     "name": "#%%\n"
    }
   }
  },
  {
   "cell_type": "code",
   "execution_count": 42,
   "outputs": [
    {
     "name": "stdout",
     "output_type": "stream",
     "text": [
      "Index(['risk_rank', 'AGE', 'total_tx', 'avg_tx', 'count_tx', 'std_tx'], dtype='object')\n",
      "[False False  True  True False  True]\n",
      "[2 2 1 1 2 1]\n"
     ]
    }
   ],
   "source": [
    "LR_1 = LogisticRegression(max_iter=2000, n_jobs=-1)\n",
    "RFE_analysis(sm_xdp_train_x, sm_xdp_train_y, LR_1)"
   ],
   "metadata": {
    "collapsed": false,
    "pycharm": {
     "name": "#%%\n"
    }
   }
  },
  {
   "cell_type": "code",
   "execution_count": 43,
   "outputs": [
    {
     "name": "stdout",
     "output_type": "stream",
     "text": [
      "Optimization terminated successfully.\n",
      "         Current function value: 0.651428\n",
      "         Iterations 7\n",
      "                         Results: Logit\n",
      "=================================================================\n",
      "Model:              Logit            Pseudo R-squared: 0.060     \n",
      "Dependent Variable: sar_flag         AIC:              43225.1046\n",
      "Date:               2022-12-09 19:25 BIC:              43275.5607\n",
      "No. Observations:   33168            Log-Likelihood:   -21607.   \n",
      "Df Model:           5                LL-Null:          -22990.   \n",
      "Df Residuals:       33162            LLR p-value:      0.0000    \n",
      "Converged:          1.0000           Scale:            1.0000    \n",
      "No. Iterations:     7.0000                                       \n",
      "------------------------------------------------------------------\n",
      "              Coef.   Std.Err.     z      P>|z|    [0.025   0.975]\n",
      "------------------------------------------------------------------\n",
      "risk_rank    -0.4420    0.0152  -29.0014  0.0000  -0.4718  -0.4121\n",
      "AGE           0.0761    0.0062   12.2443  0.0000   0.0639   0.0883\n",
      "total_tx     -0.0000    0.0000  -17.3590  0.0000  -0.0000  -0.0000\n",
      "avg_tx        0.0000    0.0000   23.0721  0.0000   0.0000   0.0000\n",
      "count_tx      0.0000    0.0000    4.2211  0.0000   0.0000   0.0000\n",
      "std_tx       -0.0000    0.0000   -6.8213  0.0000  -0.0000  -0.0000\n",
      "=================================================================\n",
      "\n"
     ]
    }
   ],
   "source": [
    "LR_analysis(sm_xdp_train_x, sm_xdp_train_y)"
   ],
   "metadata": {
    "collapsed": false,
    "pycharm": {
     "name": "#%%\n"
    }
   }
  },
  {
   "cell_type": "code",
   "execution_count": 44,
   "outputs": [
    {
     "name": "stderr",
     "output_type": "stream",
     "text": [
      "C:\\Software\\Anaconda3\\lib\\site-packages\\sklearn\\utils\\validation.py:1111: DataConversionWarning: A column-vector y was passed when a 1d array was expected. Please change the shape of y to (n_samples, ), for example using ravel().\n",
      "  y = column_or_1d(y, warn=True)\n"
     ]
    },
    {
     "name": "stdout",
     "output_type": "stream",
     "text": [
      "0.6378437047756874  0.6433912204534491\n",
      "[[1792 2347]\n",
      " [ 610 3543]]\n"
     ]
    }
   ],
   "source": [
    "LR_1 = LR_training(sm_xdp_train_x, sm_xdp_train_y, LR_1)"
   ],
   "metadata": {
    "collapsed": false,
    "pycharm": {
     "name": "#%%\n"
    }
   }
  },
  {
   "cell_type": "code",
   "execution_count": 45,
   "outputs": [
    {
     "name": "stdout",
     "output_type": "stream",
     "text": [
      "0.43863465238852173\n",
      "[[10319 13353]\n",
      " [   67   167]]\n"
     ]
    }
   ],
   "source": [
    "LR_test(xdp_train_x, xdp_train_y, LR_1)"
   ],
   "metadata": {
    "collapsed": false,
    "pycharm": {
     "name": "#%%\n"
    }
   }
  },
  {
   "cell_type": "code",
   "execution_count": 46,
   "outputs": [
    {
     "data": {
      "text/plain": "       alert_key  date  sar_flag  \\\n0         171189     0         0   \n1         171202     0         0   \n2         171599     0         0   \n3         171737     0         0   \n4         171142     0         0   \n...          ...   ...       ...   \n23901     352132   364         0   \n23902     352125   364         0   \n23903     352080   364         0   \n23904     352075   364         0   \n23905     351927   364         0   \n\n                                                 cust_id  risk_rank  AGE  \\\n0      972ee157e63316e8a50dd489bc93730a3ee8a8959d5c6b...          1    4   \n1      a10ab33f90926fb18d7bb5e78034d7f04a1fbed95b7951...          3    2   \n2      3433ecc068ed1c9e2f5037cab5d42d7b901e9bd624c1fb...          1    4   \n3      a0861608615a9365d90f4ba0a813c0ea0471987f925c8b...          3    4   \n4      a39fea9aec90969fe66a2b2b4d1b86368a2d38e8b8d4bf...          3    3   \n...                                                  ...        ...  ...   \n23901  c49b33d1fde790ec03584672903f296e486615adfdc989...          1    3   \n23902  0c2dc5fedc3689abf5ff4be14fe8fea8d23d22068297c2...          3    3   \n23903  1a93961c8fa830a1f32f5316b44f4964d65397f0311b11...          2    6   \n23904  9586b80d3ad1d74c0a1efe792cae2ecd073243fb01ed33...          3    6   \n23905  7dc5256ef411c745dc3064da2f231c104ca270f564d3d0...          1    2   \n\n           total_tx        avg_tx  count_tx        std_tx  \n0      1.515000e+03  5.050000e+02         3  4.502233e+02  \n1      2.092020e+05  6.973400e+04         3  7.567066e+04  \n2      3.105930e+05  7.764825e+04         4  1.347252e+05  \n3      4.312500e+04  4.312500e+03        10  5.920366e+03  \n4      2.963440e+05  4.939067e+03        60  6.547865e+03  \n...             ...           ...       ...           ...  \n23901  1.532000e+08  1.078873e+06       142  3.103629e+06  \n23902  4.615283e+07  2.307641e+06        20  2.605778e+06  \n23903  1.555772e+08  2.222531e+06        70  5.842826e+06  \n23904  1.365559e+08  3.175717e+05       430  2.409931e+06  \n23905  5.918977e+07  2.630657e+05       225  1.533872e+06  \n\n[23906 rows x 10 columns]",
      "text/html": "<div>\n<style scoped>\n    .dataframe tbody tr th:only-of-type {\n        vertical-align: middle;\n    }\n\n    .dataframe tbody tr th {\n        vertical-align: top;\n    }\n\n    .dataframe thead th {\n        text-align: right;\n    }\n</style>\n<table border=\"1\" class=\"dataframe\">\n  <thead>\n    <tr style=\"text-align: right;\">\n      <th></th>\n      <th>alert_key</th>\n      <th>date</th>\n      <th>sar_flag</th>\n      <th>cust_id</th>\n      <th>risk_rank</th>\n      <th>AGE</th>\n      <th>total_tx</th>\n      <th>avg_tx</th>\n      <th>count_tx</th>\n      <th>std_tx</th>\n    </tr>\n  </thead>\n  <tbody>\n    <tr>\n      <th>0</th>\n      <td>171189</td>\n      <td>0</td>\n      <td>0</td>\n      <td>972ee157e63316e8a50dd489bc93730a3ee8a8959d5c6b...</td>\n      <td>1</td>\n      <td>4</td>\n      <td>1.515000e+03</td>\n      <td>5.050000e+02</td>\n      <td>3</td>\n      <td>4.502233e+02</td>\n    </tr>\n    <tr>\n      <th>1</th>\n      <td>171202</td>\n      <td>0</td>\n      <td>0</td>\n      <td>a10ab33f90926fb18d7bb5e78034d7f04a1fbed95b7951...</td>\n      <td>3</td>\n      <td>2</td>\n      <td>2.092020e+05</td>\n      <td>6.973400e+04</td>\n      <td>3</td>\n      <td>7.567066e+04</td>\n    </tr>\n    <tr>\n      <th>2</th>\n      <td>171599</td>\n      <td>0</td>\n      <td>0</td>\n      <td>3433ecc068ed1c9e2f5037cab5d42d7b901e9bd624c1fb...</td>\n      <td>1</td>\n      <td>4</td>\n      <td>3.105930e+05</td>\n      <td>7.764825e+04</td>\n      <td>4</td>\n      <td>1.347252e+05</td>\n    </tr>\n    <tr>\n      <th>3</th>\n      <td>171737</td>\n      <td>0</td>\n      <td>0</td>\n      <td>a0861608615a9365d90f4ba0a813c0ea0471987f925c8b...</td>\n      <td>3</td>\n      <td>4</td>\n      <td>4.312500e+04</td>\n      <td>4.312500e+03</td>\n      <td>10</td>\n      <td>5.920366e+03</td>\n    </tr>\n    <tr>\n      <th>4</th>\n      <td>171142</td>\n      <td>0</td>\n      <td>0</td>\n      <td>a39fea9aec90969fe66a2b2b4d1b86368a2d38e8b8d4bf...</td>\n      <td>3</td>\n      <td>3</td>\n      <td>2.963440e+05</td>\n      <td>4.939067e+03</td>\n      <td>60</td>\n      <td>6.547865e+03</td>\n    </tr>\n    <tr>\n      <th>...</th>\n      <td>...</td>\n      <td>...</td>\n      <td>...</td>\n      <td>...</td>\n      <td>...</td>\n      <td>...</td>\n      <td>...</td>\n      <td>...</td>\n      <td>...</td>\n      <td>...</td>\n    </tr>\n    <tr>\n      <th>23901</th>\n      <td>352132</td>\n      <td>364</td>\n      <td>0</td>\n      <td>c49b33d1fde790ec03584672903f296e486615adfdc989...</td>\n      <td>1</td>\n      <td>3</td>\n      <td>1.532000e+08</td>\n      <td>1.078873e+06</td>\n      <td>142</td>\n      <td>3.103629e+06</td>\n    </tr>\n    <tr>\n      <th>23902</th>\n      <td>352125</td>\n      <td>364</td>\n      <td>0</td>\n      <td>0c2dc5fedc3689abf5ff4be14fe8fea8d23d22068297c2...</td>\n      <td>3</td>\n      <td>3</td>\n      <td>4.615283e+07</td>\n      <td>2.307641e+06</td>\n      <td>20</td>\n      <td>2.605778e+06</td>\n    </tr>\n    <tr>\n      <th>23903</th>\n      <td>352080</td>\n      <td>364</td>\n      <td>0</td>\n      <td>1a93961c8fa830a1f32f5316b44f4964d65397f0311b11...</td>\n      <td>2</td>\n      <td>6</td>\n      <td>1.555772e+08</td>\n      <td>2.222531e+06</td>\n      <td>70</td>\n      <td>5.842826e+06</td>\n    </tr>\n    <tr>\n      <th>23904</th>\n      <td>352075</td>\n      <td>364</td>\n      <td>0</td>\n      <td>9586b80d3ad1d74c0a1efe792cae2ecd073243fb01ed33...</td>\n      <td>3</td>\n      <td>6</td>\n      <td>1.365559e+08</td>\n      <td>3.175717e+05</td>\n      <td>430</td>\n      <td>2.409931e+06</td>\n    </tr>\n    <tr>\n      <th>23905</th>\n      <td>351927</td>\n      <td>364</td>\n      <td>0</td>\n      <td>7dc5256ef411c745dc3064da2f231c104ca270f564d3d0...</td>\n      <td>1</td>\n      <td>2</td>\n      <td>5.918977e+07</td>\n      <td>2.630657e+05</td>\n      <td>225</td>\n      <td>1.533872e+06</td>\n    </tr>\n  </tbody>\n</table>\n<p>23906 rows × 10 columns</p>\n</div>"
     },
     "execution_count": 46,
     "metadata": {},
     "output_type": "execute_result"
    }
   ],
   "source": [
    "xdp_train_test"
   ],
   "metadata": {
    "collapsed": false,
    "pycharm": {
     "name": "#%%\n"
    }
   }
  },
  {
   "cell_type": "code",
   "execution_count": 47,
   "outputs": [
    {
     "name": "stderr",
     "output_type": "stream",
     "text": [
      "Progress Bar: 100%|██████████| 3850/3850 [02:12<00:00, 29.15it/s]\n",
      "C:\\Software\\Anaconda3\\lib\\site-packages\\pandas\\util\\_decorators.py:311: SettingWithCopyWarning: \n",
      "A value is trying to be set on a copy of a slice from a DataFrame\n",
      "\n",
      "See the caveats in the documentation: https://pandas.pydata.org/pandas-docs/stable/user_guide/indexing.html#returning-a-view-versus-a-copy\n",
      "  return func(*args, **kwargs)\n"
     ]
    },
    {
     "data": {
      "text/plain": "      risk_rank  AGE      total_tx        avg_tx  count_tx        std_tx\n0           1.0  3.0  1.040422e+07  3.715794e+04     280.0  1.134937e+05\n3           1.0  5.0  1.407445e+08  3.953497e+05     356.0  3.312853e+06\n4           1.0  3.0  3.380401e+08  1.391112e+06     243.0  5.941655e+06\n5           1.0  4.0  4.490287e+07  1.586674e+05     283.0  4.286031e+05\n6           3.0  3.0  2.209952e+07  2.302033e+05      96.0  1.065986e+06\n...         ...  ...           ...           ...       ...           ...\n3841        1.0  4.0  5.949962e+06  5.891051e+04     101.0  1.934595e+05\n3844        1.0  6.0  4.286594e+06  4.984412e+04      86.0  9.196838e+04\n3845        1.0  2.0  7.173381e+06  2.116042e+04     339.0  4.365511e+04\n3846        1.0  2.0  5.413915e+08  1.021493e+06     530.0  4.010326e+06\n3848        1.0  3.0  6.999934e+08  2.265351e+06     309.0  7.909179e+06\n\n[1755 rows x 6 columns]",
      "text/html": "<div>\n<style scoped>\n    .dataframe tbody tr th:only-of-type {\n        vertical-align: middle;\n    }\n\n    .dataframe tbody tr th {\n        vertical-align: top;\n    }\n\n    .dataframe thead th {\n        text-align: right;\n    }\n</style>\n<table border=\"1\" class=\"dataframe\">\n  <thead>\n    <tr style=\"text-align: right;\">\n      <th></th>\n      <th>risk_rank</th>\n      <th>AGE</th>\n      <th>total_tx</th>\n      <th>avg_tx</th>\n      <th>count_tx</th>\n      <th>std_tx</th>\n    </tr>\n  </thead>\n  <tbody>\n    <tr>\n      <th>0</th>\n      <td>1.0</td>\n      <td>3.0</td>\n      <td>1.040422e+07</td>\n      <td>3.715794e+04</td>\n      <td>280.0</td>\n      <td>1.134937e+05</td>\n    </tr>\n    <tr>\n      <th>3</th>\n      <td>1.0</td>\n      <td>5.0</td>\n      <td>1.407445e+08</td>\n      <td>3.953497e+05</td>\n      <td>356.0</td>\n      <td>3.312853e+06</td>\n    </tr>\n    <tr>\n      <th>4</th>\n      <td>1.0</td>\n      <td>3.0</td>\n      <td>3.380401e+08</td>\n      <td>1.391112e+06</td>\n      <td>243.0</td>\n      <td>5.941655e+06</td>\n    </tr>\n    <tr>\n      <th>5</th>\n      <td>1.0</td>\n      <td>4.0</td>\n      <td>4.490287e+07</td>\n      <td>1.586674e+05</td>\n      <td>283.0</td>\n      <td>4.286031e+05</td>\n    </tr>\n    <tr>\n      <th>6</th>\n      <td>3.0</td>\n      <td>3.0</td>\n      <td>2.209952e+07</td>\n      <td>2.302033e+05</td>\n      <td>96.0</td>\n      <td>1.065986e+06</td>\n    </tr>\n    <tr>\n      <th>...</th>\n      <td>...</td>\n      <td>...</td>\n      <td>...</td>\n      <td>...</td>\n      <td>...</td>\n      <td>...</td>\n    </tr>\n    <tr>\n      <th>3841</th>\n      <td>1.0</td>\n      <td>4.0</td>\n      <td>5.949962e+06</td>\n      <td>5.891051e+04</td>\n      <td>101.0</td>\n      <td>1.934595e+05</td>\n    </tr>\n    <tr>\n      <th>3844</th>\n      <td>1.0</td>\n      <td>6.0</td>\n      <td>4.286594e+06</td>\n      <td>4.984412e+04</td>\n      <td>86.0</td>\n      <td>9.196838e+04</td>\n    </tr>\n    <tr>\n      <th>3845</th>\n      <td>1.0</td>\n      <td>2.0</td>\n      <td>7.173381e+06</td>\n      <td>2.116042e+04</td>\n      <td>339.0</td>\n      <td>4.365511e+04</td>\n    </tr>\n    <tr>\n      <th>3846</th>\n      <td>1.0</td>\n      <td>2.0</td>\n      <td>5.413915e+08</td>\n      <td>1.021493e+06</td>\n      <td>530.0</td>\n      <td>4.010326e+06</td>\n    </tr>\n    <tr>\n      <th>3848</th>\n      <td>1.0</td>\n      <td>3.0</td>\n      <td>6.999934e+08</td>\n      <td>2.265351e+06</td>\n      <td>309.0</td>\n      <td>7.909179e+06</td>\n    </tr>\n  </tbody>\n</table>\n<p>1755 rows × 6 columns</p>\n</div>"
     },
     "execution_count": 47,
     "metadata": {},
     "output_type": "execute_result"
    }
   ],
   "source": [
    "submit_format = df_from_csv('submit_format.csv')\n",
    "submit_format = submit_format.drop(['probability'], axis=1)\n",
    "submit_format = submit_format.merge(alert_date, on='alert_key', how='left')\n",
    "submit_format = submit_format.merge(alert_cust, on='alert_key', how='left')\n",
    "submit_format = submit_format.progress_apply(calculate_tx, axis=1)\n",
    "x_submit = submit_format[['risk_rank', 'AGE', 'total_tx', 'avg_tx', 'count_tx', 'std_tx']]\n",
    "x_submit.dropna(inplace=True)\n",
    "x_submit"
   ],
   "metadata": {
    "collapsed": false,
    "pycharm": {
     "name": "#%%\n"
    }
   }
  },
  {
   "cell_type": "code",
   "execution_count": 48,
   "outputs": [
    {
     "data": {
      "text/plain": "      alert_key  probability\n199      364640     0.999959\n1978     362891     0.999959\n1154     362171     0.999958\n1220     361408     0.999958\n2952     360951     0.999957\n...         ...          ...\n1614     372903     0.000000\n1616     372201     0.000000\n1617     368902     0.000000\n1618     373476     0.000000\n3849     372119     0.000000\n\n[3850 rows x 2 columns]",
      "text/html": "<div>\n<style scoped>\n    .dataframe tbody tr th:only-of-type {\n        vertical-align: middle;\n    }\n\n    .dataframe tbody tr th {\n        vertical-align: top;\n    }\n\n    .dataframe thead th {\n        text-align: right;\n    }\n</style>\n<table border=\"1\" class=\"dataframe\">\n  <thead>\n    <tr style=\"text-align: right;\">\n      <th></th>\n      <th>alert_key</th>\n      <th>probability</th>\n    </tr>\n  </thead>\n  <tbody>\n    <tr>\n      <th>199</th>\n      <td>364640</td>\n      <td>0.999959</td>\n    </tr>\n    <tr>\n      <th>1978</th>\n      <td>362891</td>\n      <td>0.999959</td>\n    </tr>\n    <tr>\n      <th>1154</th>\n      <td>362171</td>\n      <td>0.999958</td>\n    </tr>\n    <tr>\n      <th>1220</th>\n      <td>361408</td>\n      <td>0.999958</td>\n    </tr>\n    <tr>\n      <th>2952</th>\n      <td>360951</td>\n      <td>0.999957</td>\n    </tr>\n    <tr>\n      <th>...</th>\n      <td>...</td>\n      <td>...</td>\n    </tr>\n    <tr>\n      <th>1614</th>\n      <td>372903</td>\n      <td>0.000000</td>\n    </tr>\n    <tr>\n      <th>1616</th>\n      <td>372201</td>\n      <td>0.000000</td>\n    </tr>\n    <tr>\n      <th>1617</th>\n      <td>368902</td>\n      <td>0.000000</td>\n    </tr>\n    <tr>\n      <th>1618</th>\n      <td>373476</td>\n      <td>0.000000</td>\n    </tr>\n    <tr>\n      <th>3849</th>\n      <td>372119</td>\n      <td>0.000000</td>\n    </tr>\n  </tbody>\n</table>\n<p>3850 rows × 2 columns</p>\n</div>"
     },
     "execution_count": 48,
     "metadata": {},
     "output_type": "execute_result"
    }
   ],
   "source": [
    "def generate_submission(input_submit, input_x, LR_model):\n",
    "    y_prob = LR_model.predict_proba(input_x)\n",
    "    y_prob = pd.DataFrame(y_prob, columns = ['probability', 'inv_probability'])\n",
    "    y_prob.index = input_x.index\n",
    "\n",
    "    submit_prob = pd.concat([input_x, y_prob], axis=1)\n",
    "    final_submit = pd.concat([input_submit, submit_prob], axis=1)\n",
    "    final_submit = final_submit[['alert_key', 'probability']]\n",
    "    final_submit['probability'] = final_submit['probability'].fillna(0)\n",
    "    final_submit = final_submit.sort_values(by='probability', ascending=False)\n",
    "    final_submit.to_csv('final_submit.csv', index=False)\n",
    "    return final_submit\n",
    "\n",
    "lr_1_submission = generate_submission(submit_format, x_submit, LR_1)\n",
    "lr_1_submission"
   ],
   "metadata": {
    "collapsed": false,
    "pycharm": {
     "name": "#%%\n"
    }
   }
  },
  {
   "cell_type": "code",
   "execution_count": 49,
   "outputs": [],
   "source": [
    "lr_1_submission.to_pickle('lr_1_submission.pkl')"
   ],
   "metadata": {
    "collapsed": false,
    "pycharm": {
     "name": "#%%\n"
    }
   }
  },
  {
   "cell_type": "code",
   "execution_count": 51,
   "outputs": [
    {
     "name": "stderr",
     "output_type": "stream",
     "text": [
      "C:\\Software\\Anaconda3\\lib\\site-packages\\sklearn\\utils\\validation.py:1111: DataConversionWarning: A column-vector y was passed when a 1d array was expected. Please change the shape of y to (n_samples, ), for example using ravel().\n",
      "  y = column_or_1d(y, warn=True)\n"
     ]
    },
    {
     "data": {
      "text/plain": "Pipeline(steps=[('standardscaler', StandardScaler()),\n                ('svr', SVR(epsilon=0.2))])",
      "text/html": "<style>#sk-container-id-1 {color: black;background-color: white;}#sk-container-id-1 pre{padding: 0;}#sk-container-id-1 div.sk-toggleable {background-color: white;}#sk-container-id-1 label.sk-toggleable__label {cursor: pointer;display: block;width: 100%;margin-bottom: 0;padding: 0.3em;box-sizing: border-box;text-align: center;}#sk-container-id-1 label.sk-toggleable__label-arrow:before {content: \"▸\";float: left;margin-right: 0.25em;color: #696969;}#sk-container-id-1 label.sk-toggleable__label-arrow:hover:before {color: black;}#sk-container-id-1 div.sk-estimator:hover label.sk-toggleable__label-arrow:before {color: black;}#sk-container-id-1 div.sk-toggleable__content {max-height: 0;max-width: 0;overflow: hidden;text-align: left;background-color: #f0f8ff;}#sk-container-id-1 div.sk-toggleable__content pre {margin: 0.2em;color: black;border-radius: 0.25em;background-color: #f0f8ff;}#sk-container-id-1 input.sk-toggleable__control:checked~div.sk-toggleable__content {max-height: 200px;max-width: 100%;overflow: auto;}#sk-container-id-1 input.sk-toggleable__control:checked~label.sk-toggleable__label-arrow:before {content: \"▾\";}#sk-container-id-1 div.sk-estimator input.sk-toggleable__control:checked~label.sk-toggleable__label {background-color: #d4ebff;}#sk-container-id-1 div.sk-label input.sk-toggleable__control:checked~label.sk-toggleable__label {background-color: #d4ebff;}#sk-container-id-1 input.sk-hidden--visually {border: 0;clip: rect(1px 1px 1px 1px);clip: rect(1px, 1px, 1px, 1px);height: 1px;margin: -1px;overflow: hidden;padding: 0;position: absolute;width: 1px;}#sk-container-id-1 div.sk-estimator {font-family: monospace;background-color: #f0f8ff;border: 1px dotted black;border-radius: 0.25em;box-sizing: border-box;margin-bottom: 0.5em;}#sk-container-id-1 div.sk-estimator:hover {background-color: #d4ebff;}#sk-container-id-1 div.sk-parallel-item::after {content: \"\";width: 100%;border-bottom: 1px solid gray;flex-grow: 1;}#sk-container-id-1 div.sk-label:hover label.sk-toggleable__label {background-color: #d4ebff;}#sk-container-id-1 div.sk-serial::before {content: \"\";position: absolute;border-left: 1px solid gray;box-sizing: border-box;top: 0;bottom: 0;left: 50%;z-index: 0;}#sk-container-id-1 div.sk-serial {display: flex;flex-direction: column;align-items: center;background-color: white;padding-right: 0.2em;padding-left: 0.2em;position: relative;}#sk-container-id-1 div.sk-item {position: relative;z-index: 1;}#sk-container-id-1 div.sk-parallel {display: flex;align-items: stretch;justify-content: center;background-color: white;position: relative;}#sk-container-id-1 div.sk-item::before, #sk-container-id-1 div.sk-parallel-item::before {content: \"\";position: absolute;border-left: 1px solid gray;box-sizing: border-box;top: 0;bottom: 0;left: 50%;z-index: -1;}#sk-container-id-1 div.sk-parallel-item {display: flex;flex-direction: column;z-index: 1;position: relative;background-color: white;}#sk-container-id-1 div.sk-parallel-item:first-child::after {align-self: flex-end;width: 50%;}#sk-container-id-1 div.sk-parallel-item:last-child::after {align-self: flex-start;width: 50%;}#sk-container-id-1 div.sk-parallel-item:only-child::after {width: 0;}#sk-container-id-1 div.sk-dashed-wrapped {border: 1px dashed gray;margin: 0 0.4em 0.5em 0.4em;box-sizing: border-box;padding-bottom: 0.4em;background-color: white;}#sk-container-id-1 div.sk-label label {font-family: monospace;font-weight: bold;display: inline-block;line-height: 1.2em;}#sk-container-id-1 div.sk-label-container {text-align: center;}#sk-container-id-1 div.sk-container {/* jupyter's `normalize.less` sets `[hidden] { display: none; }` but bootstrap.min.css set `[hidden] { display: none !important; }` so we also need the `!important` here to be able to override the default hidden behavior on the sphinx rendered scikit-learn.org. See: https://github.com/scikit-learn/scikit-learn/issues/21755 */display: inline-block !important;position: relative;}#sk-container-id-1 div.sk-text-repr-fallback {display: none;}</style><div id=\"sk-container-id-1\" class=\"sk-top-container\"><div class=\"sk-text-repr-fallback\"><pre>Pipeline(steps=[(&#x27;standardscaler&#x27;, StandardScaler()),\n                (&#x27;svr&#x27;, SVR(epsilon=0.2))])</pre><b>In a Jupyter environment, please rerun this cell to show the HTML representation or trust the notebook. <br />On GitHub, the HTML representation is unable to render, please try loading this page with nbviewer.org.</b></div><div class=\"sk-container\" hidden><div class=\"sk-item sk-dashed-wrapped\"><div class=\"sk-label-container\"><div class=\"sk-label sk-toggleable\"><input class=\"sk-toggleable__control sk-hidden--visually\" id=\"sk-estimator-id-1\" type=\"checkbox\" ><label for=\"sk-estimator-id-1\" class=\"sk-toggleable__label sk-toggleable__label-arrow\">Pipeline</label><div class=\"sk-toggleable__content\"><pre>Pipeline(steps=[(&#x27;standardscaler&#x27;, StandardScaler()),\n                (&#x27;svr&#x27;, SVR(epsilon=0.2))])</pre></div></div></div><div class=\"sk-serial\"><div class=\"sk-item\"><div class=\"sk-estimator sk-toggleable\"><input class=\"sk-toggleable__control sk-hidden--visually\" id=\"sk-estimator-id-2\" type=\"checkbox\" ><label for=\"sk-estimator-id-2\" class=\"sk-toggleable__label sk-toggleable__label-arrow\">StandardScaler</label><div class=\"sk-toggleable__content\"><pre>StandardScaler()</pre></div></div></div><div class=\"sk-item\"><div class=\"sk-estimator sk-toggleable\"><input class=\"sk-toggleable__control sk-hidden--visually\" id=\"sk-estimator-id-3\" type=\"checkbox\" ><label for=\"sk-estimator-id-3\" class=\"sk-toggleable__label sk-toggleable__label-arrow\">SVR</label><div class=\"sk-toggleable__content\"><pre>SVR(epsilon=0.2)</pre></div></div></div></div></div></div></div>"
     },
     "execution_count": 51,
     "metadata": {},
     "output_type": "execute_result"
    }
   ],
   "source": [
    "# trying SVR\n",
    "\n",
    "from sklearn.svm import SVR\n",
    "from sklearn.pipeline import make_pipeline\n",
    "from sklearn.preprocessing import StandardScaler\n",
    "\n",
    "y = sm_xdp_train_y\n",
    "X = sm_xdp_train_x\n",
    "SVR_1 = make_pipeline(StandardScaler(), SVR(C=1.0, epsilon=0.2))\n",
    "SVR_1.fit(X, y)"
   ],
   "metadata": {
    "collapsed": false,
    "pycharm": {
     "name": "#%%\n"
    }
   }
  },
  {
   "cell_type": "code",
   "execution_count": 95,
   "outputs": [
    {
     "data": {
      "text/plain": "      alert_key  probability\n959      355724     0.996678\n2554     362151     0.935116\n558      358252     0.932623\n100      354820     0.931383\n1144     357885     0.929668\n...         ...          ...\n1592     367420     0.000000\n1595     377601     0.000000\n1596     369441     0.000000\n1599     374756     0.000000\n3849     372119     0.000000\n\n[3850 rows x 2 columns]",
      "text/html": "<div>\n<style scoped>\n    .dataframe tbody tr th:only-of-type {\n        vertical-align: middle;\n    }\n\n    .dataframe tbody tr th {\n        vertical-align: top;\n    }\n\n    .dataframe thead th {\n        text-align: right;\n    }\n</style>\n<table border=\"1\" class=\"dataframe\">\n  <thead>\n    <tr style=\"text-align: right;\">\n      <th></th>\n      <th>alert_key</th>\n      <th>probability</th>\n    </tr>\n  </thead>\n  <tbody>\n    <tr>\n      <th>959</th>\n      <td>355724</td>\n      <td>0.996678</td>\n    </tr>\n    <tr>\n      <th>2554</th>\n      <td>362151</td>\n      <td>0.935116</td>\n    </tr>\n    <tr>\n      <th>558</th>\n      <td>358252</td>\n      <td>0.932623</td>\n    </tr>\n    <tr>\n      <th>100</th>\n      <td>354820</td>\n      <td>0.931383</td>\n    </tr>\n    <tr>\n      <th>1144</th>\n      <td>357885</td>\n      <td>0.929668</td>\n    </tr>\n    <tr>\n      <th>...</th>\n      <td>...</td>\n      <td>...</td>\n    </tr>\n    <tr>\n      <th>1592</th>\n      <td>367420</td>\n      <td>0.000000</td>\n    </tr>\n    <tr>\n      <th>1595</th>\n      <td>377601</td>\n      <td>0.000000</td>\n    </tr>\n    <tr>\n      <th>1596</th>\n      <td>369441</td>\n      <td>0.000000</td>\n    </tr>\n    <tr>\n      <th>1599</th>\n      <td>374756</td>\n      <td>0.000000</td>\n    </tr>\n    <tr>\n      <th>3849</th>\n      <td>372119</td>\n      <td>0.000000</td>\n    </tr>\n  </tbody>\n</table>\n<p>3850 rows × 2 columns</p>\n</div>"
     },
     "execution_count": 95,
     "metadata": {},
     "output_type": "execute_result"
    }
   ],
   "source": [
    "def generate_submission_SVR(input_submit, input_x, SVR_model):\n",
    "    y_prob = SVR_model.predict(input_x)\n",
    "    y_prob = pd.DataFrame(y_prob, columns = ['probability'])\n",
    "    y_prob.index = input_x.index\n",
    "\n",
    "    submit_prob = pd.concat([input_x, y_prob], axis=1)\n",
    "    final_submit = pd.concat([input_submit, submit_prob], axis=1)\n",
    "    final_submit = final_submit[['alert_key', 'probability']]\n",
    "    final_submit['probability'] = final_submit['probability'].fillna(0)\n",
    "    final_submit.loc[final_submit['probability'] < 0, 'probability'] = 0\n",
    "    final_submit = final_submit.sort_values(by='probability', ascending=False)\n",
    "    final_submit.to_csv('final_submit.csv', index=False)\n",
    "    return final_submit\n",
    "\n",
    "final_submit = generate_submission_SVR(submit_format, x_submit, SVR_1)\n",
    "final_submit"
   ],
   "metadata": {
    "collapsed": false,
    "pycharm": {
     "name": "#%%\n"
    }
   }
  },
  {
   "cell_type": "code",
   "execution_count": 96,
   "outputs": [
    {
     "data": {
      "text/plain": "Empty DataFrame\nColumns: [alert_key, probability]\nIndex: []",
      "text/html": "<div>\n<style scoped>\n    .dataframe tbody tr th:only-of-type {\n        vertical-align: middle;\n    }\n\n    .dataframe tbody tr th {\n        vertical-align: top;\n    }\n\n    .dataframe thead th {\n        text-align: right;\n    }\n</style>\n<table border=\"1\" class=\"dataframe\">\n  <thead>\n    <tr style=\"text-align: right;\">\n      <th></th>\n      <th>alert_key</th>\n      <th>probability</th>\n    </tr>\n  </thead>\n  <tbody>\n  </tbody>\n</table>\n</div>"
     },
     "execution_count": 96,
     "metadata": {},
     "output_type": "execute_result"
    }
   ],
   "source": [
    "final_submit.loc[final_submit.duplicated(keep=False)]"
   ],
   "metadata": {
    "collapsed": false,
    "pycharm": {
     "name": "#%%\n"
    }
   }
  }
 ],
 "metadata": {
  "kernelspec": {
   "display_name": "Python 3",
   "language": "python",
   "name": "python3"
  },
  "language_info": {
   "codemirror_mode": {
    "name": "ipython",
    "version": 2
   },
   "file_extension": ".py",
   "mimetype": "text/x-python",
   "name": "python",
   "nbconvert_exporter": "python",
   "pygments_lexer": "ipython2",
   "version": "2.7.6"
  }
 },
 "nbformat": 4,
 "nbformat_minor": 0
}