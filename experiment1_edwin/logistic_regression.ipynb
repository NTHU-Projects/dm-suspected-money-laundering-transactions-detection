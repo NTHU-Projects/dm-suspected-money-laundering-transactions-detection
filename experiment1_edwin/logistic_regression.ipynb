{
 "cells": [
  {
   "cell_type": "code",
   "execution_count": 1,
   "metadata": {
    "collapsed": true
   },
   "outputs": [],
   "source": [
    "#Reading Dataset\n",
    "\n",
    "import pandas as pd\n",
    "import os\n",
    "\n",
    "dataset_folder = os.path.join(os.getcwd(), 'dataset')\n",
    "\n",
    "def df_from_csv(filename):\n",
    "    f = os.path.join(dataset_folder, filename)\n",
    "    return pd.read_csv(f, delimiter='\\t|\\n|,', engine='python')"
   ]
  },
  {
   "cell_type": "code",
   "execution_count": 2,
   "outputs": [
    {
     "data": {
      "text/plain": "   alert_key  sar_flag\n0     171189         0\n1     171202         0\n2     171599         0\n3     171737         0\n4     171142         0",
      "text/html": "<div>\n<style scoped>\n    .dataframe tbody tr th:only-of-type {\n        vertical-align: middle;\n    }\n\n    .dataframe tbody tr th {\n        vertical-align: top;\n    }\n\n    .dataframe thead th {\n        text-align: right;\n    }\n</style>\n<table border=\"1\" class=\"dataframe\">\n  <thead>\n    <tr style=\"text-align: right;\">\n      <th></th>\n      <th>alert_key</th>\n      <th>sar_flag</th>\n    </tr>\n  </thead>\n  <tbody>\n    <tr>\n      <th>0</th>\n      <td>171189</td>\n      <td>0</td>\n    </tr>\n    <tr>\n      <th>1</th>\n      <td>171202</td>\n      <td>0</td>\n    </tr>\n    <tr>\n      <th>2</th>\n      <td>171599</td>\n      <td>0</td>\n    </tr>\n    <tr>\n      <th>3</th>\n      <td>171737</td>\n      <td>0</td>\n    </tr>\n    <tr>\n      <th>4</th>\n      <td>171142</td>\n      <td>0</td>\n    </tr>\n  </tbody>\n</table>\n</div>"
     },
     "execution_count": 2,
     "metadata": {},
     "output_type": "execute_result"
    }
   ],
   "source": [
    "y_train = df_from_csv('ori_trainy.csv')\n",
    "y_train.head()"
   ],
   "metadata": {
    "collapsed": false
   }
  },
  {
   "cell_type": "code",
   "execution_count": 3,
   "outputs": [
    {
     "data": {
      "text/plain": "   alert_key  date\n0     171189     0\n1     171202     0\n2     171599     0\n3     171737     0\n4     171142     0",
      "text/html": "<div>\n<style scoped>\n    .dataframe tbody tr th:only-of-type {\n        vertical-align: middle;\n    }\n\n    .dataframe tbody tr th {\n        vertical-align: top;\n    }\n\n    .dataframe thead th {\n        text-align: right;\n    }\n</style>\n<table border=\"1\" class=\"dataframe\">\n  <thead>\n    <tr style=\"text-align: right;\">\n      <th></th>\n      <th>alert_key</th>\n      <th>date</th>\n    </tr>\n  </thead>\n  <tbody>\n    <tr>\n      <th>0</th>\n      <td>171189</td>\n      <td>0</td>\n    </tr>\n    <tr>\n      <th>1</th>\n      <td>171202</td>\n      <td>0</td>\n    </tr>\n    <tr>\n      <th>2</th>\n      <td>171599</td>\n      <td>0</td>\n    </tr>\n    <tr>\n      <th>3</th>\n      <td>171737</td>\n      <td>0</td>\n    </tr>\n    <tr>\n      <th>4</th>\n      <td>171142</td>\n      <td>0</td>\n    </tr>\n  </tbody>\n</table>\n</div>"
     },
     "execution_count": 3,
     "metadata": {},
     "output_type": "execute_result"
    }
   ],
   "source": [
    "x_train = df_from_csv('ori_trainx.csv')\n",
    "x_train.head()"
   ],
   "metadata": {
    "collapsed": false
   }
  },
  {
   "cell_type": "code",
   "execution_count": 4,
   "outputs": [
    {
     "data": {
      "text/plain": "   alert_key                                            cust_id  risk_rank  \\\n0     352249  82595ac69158ae08d34156784bdec0d9e2ca5b242b6d2a...          1   \n1     352253  b212d14cb35676926682b2cf849e295d948888f556c07e...          1   \n2     352254  e5b0002791c7852644a2730abeaa893cdf14a072ef7812...          1   \n3     352280  74214c478dc6519fbefe4bc31693865bdcd698ab974b64...          3   \n4     352282  0340e7611f0d82c3cb87e6194fa14bb2ccf8afbf1b3418...          1   \n\n   occupation_code  total_asset  AGE  \n0             19.0    1465816.0    7  \n1              2.0      98177.0    2  \n2             19.0    2052922.0    7  \n3             15.0     201906.0    5  \n4             12.0       7450.0    5  ",
      "text/html": "<div>\n<style scoped>\n    .dataframe tbody tr th:only-of-type {\n        vertical-align: middle;\n    }\n\n    .dataframe tbody tr th {\n        vertical-align: top;\n    }\n\n    .dataframe thead th {\n        text-align: right;\n    }\n</style>\n<table border=\"1\" class=\"dataframe\">\n  <thead>\n    <tr style=\"text-align: right;\">\n      <th></th>\n      <th>alert_key</th>\n      <th>cust_id</th>\n      <th>risk_rank</th>\n      <th>occupation_code</th>\n      <th>total_asset</th>\n      <th>AGE</th>\n    </tr>\n  </thead>\n  <tbody>\n    <tr>\n      <th>0</th>\n      <td>352249</td>\n      <td>82595ac69158ae08d34156784bdec0d9e2ca5b242b6d2a...</td>\n      <td>1</td>\n      <td>19.0</td>\n      <td>1465816.0</td>\n      <td>7</td>\n    </tr>\n    <tr>\n      <th>1</th>\n      <td>352253</td>\n      <td>b212d14cb35676926682b2cf849e295d948888f556c07e...</td>\n      <td>1</td>\n      <td>2.0</td>\n      <td>98177.0</td>\n      <td>2</td>\n    </tr>\n    <tr>\n      <th>2</th>\n      <td>352254</td>\n      <td>e5b0002791c7852644a2730abeaa893cdf14a072ef7812...</td>\n      <td>1</td>\n      <td>19.0</td>\n      <td>2052922.0</td>\n      <td>7</td>\n    </tr>\n    <tr>\n      <th>3</th>\n      <td>352280</td>\n      <td>74214c478dc6519fbefe4bc31693865bdcd698ab974b64...</td>\n      <td>3</td>\n      <td>15.0</td>\n      <td>201906.0</td>\n      <td>5</td>\n    </tr>\n    <tr>\n      <th>4</th>\n      <td>352282</td>\n      <td>0340e7611f0d82c3cb87e6194fa14bb2ccf8afbf1b3418...</td>\n      <td>1</td>\n      <td>12.0</td>\n      <td>7450.0</td>\n      <td>5</td>\n    </tr>\n  </tbody>\n</table>\n</div>"
     },
     "execution_count": 4,
     "metadata": {},
     "output_type": "execute_result"
    }
   ],
   "source": [
    "alert_cust = df_from_csv('ori_custinfo.csv')\n",
    "alert_cust.head()"
   ],
   "metadata": {
    "collapsed": false
   }
  },
  {
   "cell_type": "code",
   "execution_count": 5,
   "outputs": [
    {
     "data": {
      "text/plain": "   alert_key  date  sar_flag  \\\n0     171189     0         0   \n1     171202     0         0   \n2     171599     0         0   \n3     171737     0         0   \n4     171142     0         0   \n\n                                             cust_id  risk_rank  \\\n0  972ee157e63316e8a50dd489bc93730a3ee8a8959d5c6b...          1   \n1  a10ab33f90926fb18d7bb5e78034d7f04a1fbed95b7951...          3   \n2  3433ecc068ed1c9e2f5037cab5d42d7b901e9bd624c1fb...          1   \n3  a0861608615a9365d90f4ba0a813c0ea0471987f925c8b...          3   \n4  a39fea9aec90969fe66a2b2b4d1b86368a2d38e8b8d4bf...          3   \n\n   occupation_code  total_asset  AGE  \n0             17.0     375576.0    4  \n1             12.0    2717416.0    2  \n2             12.0     326517.0    4  \n3             14.0    1014759.0    4  \n4             12.0     241719.0    3  ",
      "text/html": "<div>\n<style scoped>\n    .dataframe tbody tr th:only-of-type {\n        vertical-align: middle;\n    }\n\n    .dataframe tbody tr th {\n        vertical-align: top;\n    }\n\n    .dataframe thead th {\n        text-align: right;\n    }\n</style>\n<table border=\"1\" class=\"dataframe\">\n  <thead>\n    <tr style=\"text-align: right;\">\n      <th></th>\n      <th>alert_key</th>\n      <th>date</th>\n      <th>sar_flag</th>\n      <th>cust_id</th>\n      <th>risk_rank</th>\n      <th>occupation_code</th>\n      <th>total_asset</th>\n      <th>AGE</th>\n    </tr>\n  </thead>\n  <tbody>\n    <tr>\n      <th>0</th>\n      <td>171189</td>\n      <td>0</td>\n      <td>0</td>\n      <td>972ee157e63316e8a50dd489bc93730a3ee8a8959d5c6b...</td>\n      <td>1</td>\n      <td>17.0</td>\n      <td>375576.0</td>\n      <td>4</td>\n    </tr>\n    <tr>\n      <th>1</th>\n      <td>171202</td>\n      <td>0</td>\n      <td>0</td>\n      <td>a10ab33f90926fb18d7bb5e78034d7f04a1fbed95b7951...</td>\n      <td>3</td>\n      <td>12.0</td>\n      <td>2717416.0</td>\n      <td>2</td>\n    </tr>\n    <tr>\n      <th>2</th>\n      <td>171599</td>\n      <td>0</td>\n      <td>0</td>\n      <td>3433ecc068ed1c9e2f5037cab5d42d7b901e9bd624c1fb...</td>\n      <td>1</td>\n      <td>12.0</td>\n      <td>326517.0</td>\n      <td>4</td>\n    </tr>\n    <tr>\n      <th>3</th>\n      <td>171737</td>\n      <td>0</td>\n      <td>0</td>\n      <td>a0861608615a9365d90f4ba0a813c0ea0471987f925c8b...</td>\n      <td>3</td>\n      <td>14.0</td>\n      <td>1014759.0</td>\n      <td>4</td>\n    </tr>\n    <tr>\n      <th>4</th>\n      <td>171142</td>\n      <td>0</td>\n      <td>0</td>\n      <td>a39fea9aec90969fe66a2b2b4d1b86368a2d38e8b8d4bf...</td>\n      <td>3</td>\n      <td>12.0</td>\n      <td>241719.0</td>\n      <td>3</td>\n    </tr>\n  </tbody>\n</table>\n</div>"
     },
     "execution_count": 5,
     "metadata": {},
     "output_type": "execute_result"
    }
   ],
   "source": [
    "# Merge x and y train into one dataframe, then merge it with customer info data as whole training data\n",
    "\n",
    "train = x_train.merge(y_train, on='alert_key', how='inner')\n",
    "train = train.merge(alert_cust, on='alert_key', how='inner')\n",
    "train.head()"
   ],
   "metadata": {
    "collapsed": false
   }
  },
  {
   "cell_type": "code",
   "execution_count": 6,
   "outputs": [
    {
     "data": {
      "text/plain": "alert_key          False\ndate               False\nsar_flag           False\ncust_id            False\nrisk_rank          False\noccupation_code     True\ntotal_asset        False\nAGE                False\ndtype: bool"
     },
     "execution_count": 6,
     "metadata": {},
     "output_type": "execute_result"
    }
   ],
   "source": [
    "# check null value on whole dataset & drop if necessary\n",
    "\n",
    "train.isnull().any()"
   ],
   "metadata": {
    "collapsed": false
   }
  },
  {
   "cell_type": "code",
   "execution_count": 7,
   "outputs": [
    {
     "data": {
      "text/plain": "       alert_key  date  sar_flag  \\\n144       172626     5         0   \n158       172355     5         0   \n227       172353     5         0   \n320       172932     6         0   \n691       177553    11         0   \n...          ...   ...       ...   \n20167     322382   313         0   \n20372     322734   314         0   \n20450     323307   315         0   \n21661     334129   330         0   \n22319     338469   341         0   \n\n                                                 cust_id  risk_rank  \\\n144    0468d8aa19c0c5c8f95a583d2e6992912e4a44249ceeb7...          1   \n158    d17644813c30c0a23672eefcfdc8261d3ceb1821da84a7...          1   \n227    8629e2c8d7cc2a96ec9a15cc9a985f8ffe664460a32133...          0   \n320    3c63843b7d42445abd475aa3358e98c5817ac25a7bb580...          1   \n691    53af1e57a2397b96f7ff52cd11b80a7d668348a8dd11a9...          1   \n...                                                  ...        ...   \n20167  7ba8d3174f2153063bbe616e852e55faffd2dcd92ab375...          1   \n20372  e392b3a8fc15525617c552cd3385ac8d37ae62aa7e94f8...          0   \n20450  02635906e3b55964d9e42f5f8aeeb62c25599f73dfd10b...          0   \n21661  bc2d8f0134895f6deaee4eb189e06d8a81a5c25443559f...          1   \n22319  04c9d05d97efc6b43a55067bde7e059d37975762237f9c...          1   \n\n       occupation_code  total_asset  AGE  \n144                NaN          0.0    3  \n158                NaN          0.0    3  \n227                NaN          0.0    3  \n320                NaN          0.0    2  \n691                NaN          0.0    3  \n...                ...          ...  ...  \n20167              NaN          0.0    5  \n20372              NaN          0.0    2  \n20450              NaN          0.0    2  \n21661              NaN          0.0    4  \n22319              NaN          0.0    2  \n\n[116 rows x 8 columns]",
      "text/html": "<div>\n<style scoped>\n    .dataframe tbody tr th:only-of-type {\n        vertical-align: middle;\n    }\n\n    .dataframe tbody tr th {\n        vertical-align: top;\n    }\n\n    .dataframe thead th {\n        text-align: right;\n    }\n</style>\n<table border=\"1\" class=\"dataframe\">\n  <thead>\n    <tr style=\"text-align: right;\">\n      <th></th>\n      <th>alert_key</th>\n      <th>date</th>\n      <th>sar_flag</th>\n      <th>cust_id</th>\n      <th>risk_rank</th>\n      <th>occupation_code</th>\n      <th>total_asset</th>\n      <th>AGE</th>\n    </tr>\n  </thead>\n  <tbody>\n    <tr>\n      <th>144</th>\n      <td>172626</td>\n      <td>5</td>\n      <td>0</td>\n      <td>0468d8aa19c0c5c8f95a583d2e6992912e4a44249ceeb7...</td>\n      <td>1</td>\n      <td>NaN</td>\n      <td>0.0</td>\n      <td>3</td>\n    </tr>\n    <tr>\n      <th>158</th>\n      <td>172355</td>\n      <td>5</td>\n      <td>0</td>\n      <td>d17644813c30c0a23672eefcfdc8261d3ceb1821da84a7...</td>\n      <td>1</td>\n      <td>NaN</td>\n      <td>0.0</td>\n      <td>3</td>\n    </tr>\n    <tr>\n      <th>227</th>\n      <td>172353</td>\n      <td>5</td>\n      <td>0</td>\n      <td>8629e2c8d7cc2a96ec9a15cc9a985f8ffe664460a32133...</td>\n      <td>0</td>\n      <td>NaN</td>\n      <td>0.0</td>\n      <td>3</td>\n    </tr>\n    <tr>\n      <th>320</th>\n      <td>172932</td>\n      <td>6</td>\n      <td>0</td>\n      <td>3c63843b7d42445abd475aa3358e98c5817ac25a7bb580...</td>\n      <td>1</td>\n      <td>NaN</td>\n      <td>0.0</td>\n      <td>2</td>\n    </tr>\n    <tr>\n      <th>691</th>\n      <td>177553</td>\n      <td>11</td>\n      <td>0</td>\n      <td>53af1e57a2397b96f7ff52cd11b80a7d668348a8dd11a9...</td>\n      <td>1</td>\n      <td>NaN</td>\n      <td>0.0</td>\n      <td>3</td>\n    </tr>\n    <tr>\n      <th>...</th>\n      <td>...</td>\n      <td>...</td>\n      <td>...</td>\n      <td>...</td>\n      <td>...</td>\n      <td>...</td>\n      <td>...</td>\n      <td>...</td>\n    </tr>\n    <tr>\n      <th>20167</th>\n      <td>322382</td>\n      <td>313</td>\n      <td>0</td>\n      <td>7ba8d3174f2153063bbe616e852e55faffd2dcd92ab375...</td>\n      <td>1</td>\n      <td>NaN</td>\n      <td>0.0</td>\n      <td>5</td>\n    </tr>\n    <tr>\n      <th>20372</th>\n      <td>322734</td>\n      <td>314</td>\n      <td>0</td>\n      <td>e392b3a8fc15525617c552cd3385ac8d37ae62aa7e94f8...</td>\n      <td>0</td>\n      <td>NaN</td>\n      <td>0.0</td>\n      <td>2</td>\n    </tr>\n    <tr>\n      <th>20450</th>\n      <td>323307</td>\n      <td>315</td>\n      <td>0</td>\n      <td>02635906e3b55964d9e42f5f8aeeb62c25599f73dfd10b...</td>\n      <td>0</td>\n      <td>NaN</td>\n      <td>0.0</td>\n      <td>2</td>\n    </tr>\n    <tr>\n      <th>21661</th>\n      <td>334129</td>\n      <td>330</td>\n      <td>0</td>\n      <td>bc2d8f0134895f6deaee4eb189e06d8a81a5c25443559f...</td>\n      <td>1</td>\n      <td>NaN</td>\n      <td>0.0</td>\n      <td>4</td>\n    </tr>\n    <tr>\n      <th>22319</th>\n      <td>338469</td>\n      <td>341</td>\n      <td>0</td>\n      <td>04c9d05d97efc6b43a55067bde7e059d37975762237f9c...</td>\n      <td>1</td>\n      <td>NaN</td>\n      <td>0.0</td>\n      <td>2</td>\n    </tr>\n  </tbody>\n</table>\n<p>116 rows × 8 columns</p>\n</div>"
     },
     "execution_count": 7,
     "metadata": {},
     "output_type": "execute_result"
    }
   ],
   "source": [
    "train[train.isnull().any(axis=1)]"
   ],
   "metadata": {
    "collapsed": false
   }
  },
  {
   "cell_type": "code",
   "execution_count": 8,
   "outputs": [
    {
     "data": {
      "text/plain": "       alert_key  date  sar_flag  \\\n0         171189     0         0   \n1         171202     0         0   \n2         171599     0         0   \n3         171737     0         0   \n4         171142     0         0   \n...          ...   ...       ...   \n23901     352132   364         0   \n23902     352125   364         0   \n23903     352080   364         0   \n23904     352075   364         0   \n23905     351927   364         0   \n\n                                                 cust_id  risk_rank  \\\n0      972ee157e63316e8a50dd489bc93730a3ee8a8959d5c6b...          1   \n1      a10ab33f90926fb18d7bb5e78034d7f04a1fbed95b7951...          3   \n2      3433ecc068ed1c9e2f5037cab5d42d7b901e9bd624c1fb...          1   \n3      a0861608615a9365d90f4ba0a813c0ea0471987f925c8b...          3   \n4      a39fea9aec90969fe66a2b2b4d1b86368a2d38e8b8d4bf...          3   \n...                                                  ...        ...   \n23901  c49b33d1fde790ec03584672903f296e486615adfdc989...          1   \n23902  0c2dc5fedc3689abf5ff4be14fe8fea8d23d22068297c2...          3   \n23903  1a93961c8fa830a1f32f5316b44f4964d65397f0311b11...          2   \n23904  9586b80d3ad1d74c0a1efe792cae2ecd073243fb01ed33...          3   \n23905  7dc5256ef411c745dc3064da2f231c104ca270f564d3d0...          1   \n\n       occupation_code  total_asset  AGE  \n0                 17.0     375576.0    4  \n1                 12.0    2717416.0    2  \n2                 12.0     326517.0    4  \n3                 14.0    1014759.0    4  \n4                 12.0     241719.0    3  \n...                ...          ...  ...  \n23901             19.0    3218731.0    3  \n23902             19.0     928963.0    3  \n23903              9.0      69080.0    6  \n23904              3.0     262604.0    6  \n23905              9.0     332834.0    2  \n\n[23790 rows x 8 columns]",
      "text/html": "<div>\n<style scoped>\n    .dataframe tbody tr th:only-of-type {\n        vertical-align: middle;\n    }\n\n    .dataframe tbody tr th {\n        vertical-align: top;\n    }\n\n    .dataframe thead th {\n        text-align: right;\n    }\n</style>\n<table border=\"1\" class=\"dataframe\">\n  <thead>\n    <tr style=\"text-align: right;\">\n      <th></th>\n      <th>alert_key</th>\n      <th>date</th>\n      <th>sar_flag</th>\n      <th>cust_id</th>\n      <th>risk_rank</th>\n      <th>occupation_code</th>\n      <th>total_asset</th>\n      <th>AGE</th>\n    </tr>\n  </thead>\n  <tbody>\n    <tr>\n      <th>0</th>\n      <td>171189</td>\n      <td>0</td>\n      <td>0</td>\n      <td>972ee157e63316e8a50dd489bc93730a3ee8a8959d5c6b...</td>\n      <td>1</td>\n      <td>17.0</td>\n      <td>375576.0</td>\n      <td>4</td>\n    </tr>\n    <tr>\n      <th>1</th>\n      <td>171202</td>\n      <td>0</td>\n      <td>0</td>\n      <td>a10ab33f90926fb18d7bb5e78034d7f04a1fbed95b7951...</td>\n      <td>3</td>\n      <td>12.0</td>\n      <td>2717416.0</td>\n      <td>2</td>\n    </tr>\n    <tr>\n      <th>2</th>\n      <td>171599</td>\n      <td>0</td>\n      <td>0</td>\n      <td>3433ecc068ed1c9e2f5037cab5d42d7b901e9bd624c1fb...</td>\n      <td>1</td>\n      <td>12.0</td>\n      <td>326517.0</td>\n      <td>4</td>\n    </tr>\n    <tr>\n      <th>3</th>\n      <td>171737</td>\n      <td>0</td>\n      <td>0</td>\n      <td>a0861608615a9365d90f4ba0a813c0ea0471987f925c8b...</td>\n      <td>3</td>\n      <td>14.0</td>\n      <td>1014759.0</td>\n      <td>4</td>\n    </tr>\n    <tr>\n      <th>4</th>\n      <td>171142</td>\n      <td>0</td>\n      <td>0</td>\n      <td>a39fea9aec90969fe66a2b2b4d1b86368a2d38e8b8d4bf...</td>\n      <td>3</td>\n      <td>12.0</td>\n      <td>241719.0</td>\n      <td>3</td>\n    </tr>\n    <tr>\n      <th>...</th>\n      <td>...</td>\n      <td>...</td>\n      <td>...</td>\n      <td>...</td>\n      <td>...</td>\n      <td>...</td>\n      <td>...</td>\n      <td>...</td>\n    </tr>\n    <tr>\n      <th>23901</th>\n      <td>352132</td>\n      <td>364</td>\n      <td>0</td>\n      <td>c49b33d1fde790ec03584672903f296e486615adfdc989...</td>\n      <td>1</td>\n      <td>19.0</td>\n      <td>3218731.0</td>\n      <td>3</td>\n    </tr>\n    <tr>\n      <th>23902</th>\n      <td>352125</td>\n      <td>364</td>\n      <td>0</td>\n      <td>0c2dc5fedc3689abf5ff4be14fe8fea8d23d22068297c2...</td>\n      <td>3</td>\n      <td>19.0</td>\n      <td>928963.0</td>\n      <td>3</td>\n    </tr>\n    <tr>\n      <th>23903</th>\n      <td>352080</td>\n      <td>364</td>\n      <td>0</td>\n      <td>1a93961c8fa830a1f32f5316b44f4964d65397f0311b11...</td>\n      <td>2</td>\n      <td>9.0</td>\n      <td>69080.0</td>\n      <td>6</td>\n    </tr>\n    <tr>\n      <th>23904</th>\n      <td>352075</td>\n      <td>364</td>\n      <td>0</td>\n      <td>9586b80d3ad1d74c0a1efe792cae2ecd073243fb01ed33...</td>\n      <td>3</td>\n      <td>3.0</td>\n      <td>262604.0</td>\n      <td>6</td>\n    </tr>\n    <tr>\n      <th>23905</th>\n      <td>351927</td>\n      <td>364</td>\n      <td>0</td>\n      <td>7dc5256ef411c745dc3064da2f231c104ca270f564d3d0...</td>\n      <td>1</td>\n      <td>9.0</td>\n      <td>332834.0</td>\n      <td>2</td>\n    </tr>\n  </tbody>\n</table>\n<p>23790 rows × 8 columns</p>\n</div>"
     },
     "execution_count": 8,
     "metadata": {},
     "output_type": "execute_result"
    }
   ],
   "source": [
    "train = train.dropna(how='any', axis=0)\n",
    "train"
   ],
   "metadata": {
    "collapsed": false
   }
  },
  {
   "cell_type": "code",
   "execution_count": 9,
   "outputs": [
    {
     "data": {
      "text/plain": "sar_flag\n0    23556\n1      234\nName: sar_flag, dtype: int64"
     },
     "execution_count": 9,
     "metadata": {},
     "output_type": "execute_result"
    }
   ],
   "source": [
    "# checking the number of records based on sar_flag\n",
    "\n",
    "train.groupby(['sar_flag'])['sar_flag'].count()"
   ],
   "metadata": {
    "collapsed": false
   }
  },
  {
   "cell_type": "code",
   "execution_count": 10,
   "outputs": [],
   "source": [
    "# create method to analyze LR performance\n",
    "\n",
    "from sklearn.metrics import confusion_matrix\n",
    "from sklearn.model_selection import train_test_split\n",
    "from sklearn.linear_model import LogisticRegression\n",
    "from sklearn.metrics import accuracy_score"
   ],
   "metadata": {
    "collapsed": false
   }
  },
  {
   "cell_type": "code",
   "execution_count": 11,
   "outputs": [
    {
     "name": "stdout",
     "output_type": "stream",
     "text": [
      "length of oversampled data is  32964\n",
      "Number of non-sar in oversampled data 16482\n",
      "Number of sar 16482\n",
      "Proportion of no subscription data in oversampled data is  0.5\n",
      "Proportion of subscription data in oversampled data is  0.5\n"
     ]
    }
   ],
   "source": [
    "# SMOTE to fix imbalance data (upscale minor data by creating synthetic record)\n",
    "# Other variant SMOTEENN\n",
    "\n",
    "# SMOTE\n",
    "from imblearn.over_sampling import SMOTE\n",
    "\n",
    "smote_x = train[['risk_rank','occupation_code','total_asset','AGE']]\n",
    "smote_y = train.loc[:, train.columns == 'sar_flag']\n",
    "\n",
    "sm = SMOTE(random_state=0)\n",
    "X_train, X_test, y_train, y_test = train_test_split(smote_x, smote_y, test_size=0.3, random_state=0)\n",
    "sm_cols = X_train.columns\n",
    "\n",
    "sm_data_X,sm_data_y = sm.fit_resample(X_train, y_train)\n",
    "sm_data_X = pd.DataFrame(data=sm_data_X,columns=sm_cols )\n",
    "sm_data_y = pd.DataFrame(data=sm_data_y,columns=['sar_flag'])\n",
    "# we can Check the numbers of our data\n",
    "print(\"length of oversampled data is \",len(sm_data_X))\n",
    "print(\"Number of non-sar in oversampled data\",len(sm_data_y[sm_data_y['sar_flag']==0]))\n",
    "print(\"Number of sar\",len(sm_data_y[sm_data_y['sar_flag']==1]))\n",
    "print(\"Proportion of no subscription data in oversampled data is \", len(sm_data_y[sm_data_y['sar_flag']==0])/len(sm_data_X))\n",
    "print(\"Proportion of subscription data in oversampled data is \", len(sm_data_y[sm_data_y['sar_flag']==1])/len(sm_data_X))"
   ],
   "metadata": {
    "collapsed": false
   }
  },
  {
   "cell_type": "code",
   "execution_count": 12,
   "outputs": [
    {
     "name": "stdout",
     "output_type": "stream",
     "text": [
      "Index(['risk_rank', 'occupation_code', 'total_asset', 'AGE'], dtype='object')\n",
      "[False False  True  True]\n",
      "[2 2 1 1]\n"
     ]
    }
   ],
   "source": [
    "# RFE feature selection > issue on selecting total asset which cause overfitting instead\n",
    "\n",
    "from sklearn.feature_selection import RFE\n",
    "\n",
    "LR = LogisticRegression(max_iter=2000, n_jobs=-1)\n",
    "rfe = RFE(LR, step=100)\n",
    "rfe = rfe.fit(sm_data_X, sm_data_y.values.ravel())\n",
    "print(sm_data_X.columns)\n",
    "print(rfe.support_)\n",
    "print(rfe.ranking_)"
   ],
   "metadata": {
    "collapsed": false
   }
  },
  {
   "cell_type": "code",
   "execution_count": 13,
   "outputs": [
    {
     "name": "stdout",
     "output_type": "stream",
     "text": [
      "Optimization terminated successfully.\n",
      "         Current function value: 0.671804\n",
      "         Iterations 5\n",
      "                          Results: Logit\n",
      "==================================================================\n",
      "Model:              Logit            Pseudo R-squared: 0.031      \n",
      "Dependent Variable: sar_flag         AIC:              44294.7081 \n",
      "Date:               2022-12-08 19:26 BIC:              44311.5145 \n",
      "No. Observations:   32964            Log-Likelihood:   -22145.    \n",
      "Df Model:           1                LL-Null:          -22849.    \n",
      "Df Residuals:       32962            LLR p-value:      6.0223e-308\n",
      "Converged:          1.0000           Scale:            1.0000     \n",
      "No. Iterations:     5.0000                                        \n",
      "-------------------------------------------------------------------\n",
      "               Coef.   Std.Err.     z      P>|z|    [0.025   0.975]\n",
      "-------------------------------------------------------------------\n",
      "risk_rank     -0.4715    0.0144  -32.7006  0.0000  -0.4997  -0.4432\n",
      "AGE            0.1208    0.0060   20.2239  0.0000   0.1091   0.1326\n",
      "==================================================================\n",
      "\n"
     ]
    }
   ],
   "source": [
    "# assess feature performance, P>|z| should be acceptable\n",
    "\n",
    "import statsmodels.api as sm\n",
    "\n",
    "updated_cols = ['risk_rank', 'AGE']\n",
    "new_X = sm_data_X[updated_cols]\n",
    "new_Y = sm_data_y['sar_flag']\n",
    "LR2 = sm.Logit(new_Y,new_X)\n",
    "result=LR2.fit()\n",
    "print(result.summary2())"
   ],
   "metadata": {
    "collapsed": false
   }
  },
  {
   "cell_type": "code",
   "execution_count": 14,
   "outputs": [
    {
     "name": "stdout",
     "output_type": "stream",
     "text": [
      "0.6701047607491001  0.665331877199369\n",
      "[[1985 2107]\n",
      " [ 651 3498]]\n"
     ]
    }
   ],
   "source": [
    "# Train and test\n",
    "\n",
    "from sklearn import metrics\n",
    "\n",
    "x_train, x_test, y_train, y_test = train_test_split(new_X, new_Y, test_size=0.25)\n",
    "LR.fit(x_train, y_train)\n",
    "y_train_predict = LR.predict(x_train)\n",
    "y_test_predict = LR.predict(x_test)\n",
    "\n",
    "# output = pd.DataFrame(y_test_predict, columns = ['sar_flag'])\n",
    "# output.to_csv('y_test_predict.csv', index=False)\n",
    "\n",
    "train_acc = accuracy_score(y_train, y_train_predict)\n",
    "test_acc = accuracy_score(y_test, y_test_predict)\n",
    "print(f'{train_acc}  {test_acc}')\n",
    "cm = confusion_matrix(y_true=y_test, y_pred=y_test_predict)\n",
    "print(cm)"
   ],
   "metadata": {
    "collapsed": false
   }
  },
  {
   "cell_type": "code",
   "execution_count": 15,
   "outputs": [
    {
     "name": "stdout",
     "output_type": "stream",
     "text": [
      "0.6701047607491001  0.5016813787305591\n",
      "[[11760 11796]\n",
      " [   59   175]]\n"
     ]
    }
   ],
   "source": [
    "# Apply to our real dataset\n",
    "\n",
    "x = train[['risk_rank', 'AGE']]\n",
    "y = train['sar_flag']\n",
    "\n",
    "y_predict = LR.predict(x)\n",
    "test_acc = accuracy_score(y, y_predict)\n",
    "print(f'{train_acc}  {test_acc}')\n",
    "cm = confusion_matrix(y_true=y, y_pred=y_predict)\n",
    "print(cm)"
   ],
   "metadata": {
    "collapsed": false
   }
  }
 ],
 "metadata": {
  "kernelspec": {
   "display_name": "Python 3",
   "language": "python",
   "name": "python3"
  },
  "language_info": {
   "codemirror_mode": {
    "name": "ipython",
    "version": 2
   },
   "file_extension": ".py",
   "mimetype": "text/x-python",
   "name": "python",
   "nbconvert_exporter": "python",
   "pygments_lexer": "ipython2",
   "version": "2.7.6"
  }
 },
 "nbformat": 4,
 "nbformat_minor": 0
}
