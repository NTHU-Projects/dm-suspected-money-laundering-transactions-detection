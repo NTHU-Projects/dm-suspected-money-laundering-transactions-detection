{
 "cells": [
  {
   "cell_type": "code",
   "execution_count": 1,
   "outputs": [],
   "source": [
    "#Base\n",
    "\n",
    "import pandas as pd\n",
    "import os\n",
    "\n",
    "from sklearn.metrics import classification_report\n",
    "from sklearn.metrics import confusion_matrix\n",
    "from sklearn.model_selection import train_test_split\n",
    "from sklearn.metrics import accuracy_score\n",
    "from sklearn.linear_model import LogisticRegression\n",
    "\n",
    "from imblearn.over_sampling import SMOTE\n",
    "from imblearn.over_sampling import SMOTENC\n",
    "from imblearn.over_sampling import ADASYN\n",
    "from imblearn.combine import SMOTETomek\n",
    "\n",
    "from sklearn.ensemble import RandomForestClassifier\n",
    "from sklearn.feature_selection import RFE\n",
    "\n",
    "import statsmodels.api as sm\n",
    "from tqdm import tqdm\n",
    "\n",
    "dataset_folder = os.path.join(os.getcwd(), 'dataset')\n",
    "\n",
    "def df_from_csv(filename):\n",
    "    f = os.path.join(dataset_folder, filename)\n",
    "    return pd.read_csv(f, delimiter='\\t|\\n|,', engine='python')\n",
    "\n",
    "x_train = df_from_csv('ori_trainx.csv')\n",
    "y_train = df_from_csv('ori_trainy.csv')\n",
    "alert_date = df_from_csv('ori_alert_date.csv')\n",
    "alert_cust = df_from_csv('ori_custinfo.csv')\n",
    "\n",
    "smote = SMOTE(random_state=0)\n",
    "tqdm.pandas(desc='Progress Bar')\n",
    "\n",
    "def RFE_analysis(input_x, input_y, model):\n",
    "    rfe = RFE(model, step=300, n_features_to_select=0.97)\n",
    "    rfe.fit(input_x, input_y.values.ravel())\n",
    "    print(input_x.columns)\n",
    "    print(rfe.support_)\n",
    "    print(rfe.ranking_)\n",
    "    return rfe.get_support(1)\n",
    "\n",
    "def LR_analysis(input_x, input_y):\n",
    "    sm_LR = sm.Logit(input_y, input_x)\n",
    "    result = sm_LR.fit()\n",
    "    print(result.summary2())\n",
    "\n",
    "def LR_training(input_x, input_y, LR_model):\n",
    "    x_train, x_test, y_train, y_test = train_test_split(input_x, input_y, test_size=0.2, random_state=42)\n",
    "    LR_model.fit(x_train, y_train)\n",
    "    y_train_predict = LR_model.predict(x_train)\n",
    "    y_test_predict = LR_model.predict(x_test)\n",
    "    train_acc = accuracy_score(y_train, y_train_predict)\n",
    "    test_acc = accuracy_score(y_test, y_test_predict)\n",
    "\n",
    "    print(f'Train acc: {train_acc}  Test acc:{test_acc}')\n",
    "    cm_train = confusion_matrix(y_true=y_train, y_pred=y_train_predict)\n",
    "    print(cm_train)\n",
    "    print(classification_report(y_true=y_train, y_pred=y_train_predict))\n",
    "\n",
    "    print(f'\\nTest acc: {train_acc}  Test acc:{test_acc}')\n",
    "    cm_test = confusion_matrix(y_true=y_test, y_pred=y_test_predict)\n",
    "    print(cm_test)\n",
    "    print(classification_report(y_true=y_test, y_pred=y_test_predict))\n",
    "\n",
    "    return LR_model\n",
    "\n",
    "def LR_test(input_x, input_y, LR_model):\n",
    "    y_predict = LR_model.predict(input_x)\n",
    "    test_acc = accuracy_score(input_y, y_predict)\n",
    "    print(f'Test acc: {test_acc}')\n",
    "    cm = confusion_matrix(y_true=input_y, y_pred=y_predict)\n",
    "    print(cm)\n",
    "    print(classification_report(y_true=input_y, y_pred=y_predict))\n",
    "\n",
    "def calculate_tx(row):\n",
    "    if not pd.isna(row['risk_rank']):\n",
    "        temp_frame = xdp[(xdp['tx_date'] <= row['date']) & (xdp['cust_id'] == row['cust_id'])]\n",
    "        total_tx = (temp_frame['tx_amt'] * temp_frame['exchg_rate'])\n",
    "        row['total_tx'] = total_tx.sum()\n",
    "        row['avg_tx'] = total_tx.mean()\n",
    "        row['count_tx'] = total_tx.count()\n",
    "        row['std_tx'] = total_tx.std()\n",
    "        row['tx_per_day'] = row['count_tx']/row['date']+1\n",
    "    return row"
   ],
   "metadata": {
    "collapsed": false
   }
  },
  {
   "cell_type": "code",
   "execution_count": 2,
   "outputs": [],
   "source": [
    "# Join data for training\n",
    "\n",
    "ccba = pd.read_pickle('aggregated_ccba_cust.pkl')\n",
    "cdtx = pd.read_pickle('alert_key_cdtx.pkl')\n",
    "xdp = pd.read_pickle('xdp_x_train.pkl')\n",
    "remit = pd.read_pickle('cust_remit_raw_pre_20221221.pkl')"
   ],
   "metadata": {
    "collapsed": false
   }
  },
  {
   "cell_type": "code",
   "execution_count": 3,
   "outputs": [
    {
     "data": {
      "text/plain": "       alert_key  total_asset_x  sum_assets  total_asset_y  trade_sum  \\\n0         352249      1465816.0  33853238.0   1.471880e+06        NaN   \n1         352253        98177.0   4997197.0   8.923566e+04  2923745.0   \n2         352254      2052922.0   2052922.0   2.052922e+06        NaN   \n3         352280       201906.0   3529876.0   6.660143e+04   164364.0   \n4         352282         7450.0     14900.0   7.450000e+03     8356.0   \n...          ...            ...         ...            ...        ...   \n25746     352123        12207.0    427479.0   1.042632e+04        NaN   \n25747     352124       259985.0   3490135.0   1.517450e+05        NaN   \n25748     352125       928963.0   1008265.0   5.041325e+05    22127.0   \n25749     352128        21647.0    902254.0   3.007513e+04        NaN   \n25750     352132      3218731.0  11808159.0   2.361632e+06   364459.0   \n\n       count_assets      ratio  \n0                23        NaN  \n1                56   0.030521  \n2                 1        NaN  \n3                53   0.405207  \n4                 2   0.891575  \n...             ...        ...  \n25746            41        NaN  \n25747            23        NaN  \n25748             2  22.783590  \n25749            30        NaN  \n25750             5   6.479828  \n\n[25751 rows x 7 columns]",
      "text/html": "<div>\n<style scoped>\n    .dataframe tbody tr th:only-of-type {\n        vertical-align: middle;\n    }\n\n    .dataframe tbody tr th {\n        vertical-align: top;\n    }\n\n    .dataframe thead th {\n        text-align: right;\n    }\n</style>\n<table border=\"1\" class=\"dataframe\">\n  <thead>\n    <tr style=\"text-align: right;\">\n      <th></th>\n      <th>alert_key</th>\n      <th>total_asset_x</th>\n      <th>sum_assets</th>\n      <th>total_asset_y</th>\n      <th>trade_sum</th>\n      <th>count_assets</th>\n      <th>ratio</th>\n    </tr>\n  </thead>\n  <tbody>\n    <tr>\n      <th>0</th>\n      <td>352249</td>\n      <td>1465816.0</td>\n      <td>33853238.0</td>\n      <td>1.471880e+06</td>\n      <td>NaN</td>\n      <td>23</td>\n      <td>NaN</td>\n    </tr>\n    <tr>\n      <th>1</th>\n      <td>352253</td>\n      <td>98177.0</td>\n      <td>4997197.0</td>\n      <td>8.923566e+04</td>\n      <td>2923745.0</td>\n      <td>56</td>\n      <td>0.030521</td>\n    </tr>\n    <tr>\n      <th>2</th>\n      <td>352254</td>\n      <td>2052922.0</td>\n      <td>2052922.0</td>\n      <td>2.052922e+06</td>\n      <td>NaN</td>\n      <td>1</td>\n      <td>NaN</td>\n    </tr>\n    <tr>\n      <th>3</th>\n      <td>352280</td>\n      <td>201906.0</td>\n      <td>3529876.0</td>\n      <td>6.660143e+04</td>\n      <td>164364.0</td>\n      <td>53</td>\n      <td>0.405207</td>\n    </tr>\n    <tr>\n      <th>4</th>\n      <td>352282</td>\n      <td>7450.0</td>\n      <td>14900.0</td>\n      <td>7.450000e+03</td>\n      <td>8356.0</td>\n      <td>2</td>\n      <td>0.891575</td>\n    </tr>\n    <tr>\n      <th>...</th>\n      <td>...</td>\n      <td>...</td>\n      <td>...</td>\n      <td>...</td>\n      <td>...</td>\n      <td>...</td>\n      <td>...</td>\n    </tr>\n    <tr>\n      <th>25746</th>\n      <td>352123</td>\n      <td>12207.0</td>\n      <td>427479.0</td>\n      <td>1.042632e+04</td>\n      <td>NaN</td>\n      <td>41</td>\n      <td>NaN</td>\n    </tr>\n    <tr>\n      <th>25747</th>\n      <td>352124</td>\n      <td>259985.0</td>\n      <td>3490135.0</td>\n      <td>1.517450e+05</td>\n      <td>NaN</td>\n      <td>23</td>\n      <td>NaN</td>\n    </tr>\n    <tr>\n      <th>25748</th>\n      <td>352125</td>\n      <td>928963.0</td>\n      <td>1008265.0</td>\n      <td>5.041325e+05</td>\n      <td>22127.0</td>\n      <td>2</td>\n      <td>22.783590</td>\n    </tr>\n    <tr>\n      <th>25749</th>\n      <td>352128</td>\n      <td>21647.0</td>\n      <td>902254.0</td>\n      <td>3.007513e+04</td>\n      <td>NaN</td>\n      <td>30</td>\n      <td>NaN</td>\n    </tr>\n    <tr>\n      <th>25750</th>\n      <td>352132</td>\n      <td>3218731.0</td>\n      <td>11808159.0</td>\n      <td>2.361632e+06</td>\n      <td>364459.0</td>\n      <td>5</td>\n      <td>6.479828</td>\n    </tr>\n  </tbody>\n</table>\n<p>25751 rows × 7 columns</p>\n</div>"
     },
     "execution_count": 3,
     "metadata": {},
     "output_type": "execute_result"
    }
   ],
   "source": [
    "# Delete bad columns in one of dataset\n",
    "\n",
    "remit = remit.iloc[:, [0, 1, 2, 3, 4, 5, 7]]\n",
    "remit"
   ],
   "metadata": {
    "collapsed": false
   }
  },
  {
   "cell_type": "code",
   "execution_count": 4,
   "outputs": [
    {
     "data": {
      "text/plain": "       AGE  alert_key  atm_count_rate  atm_tx_rate  avg_amt_nontw_nonntd  \\\n0        4     171189        1.000000     1.000000                   NaN   \n1        2     171202        0.000000     0.000000                   NaN   \n2        4     171599        1.000000     1.000000                   NaN   \n3        4     171737        0.900000     0.969090                   NaN   \n4        3     171142        1.000000     1.000000                   NaN   \n...    ...        ...             ...          ...                   ...   \n23901    3     352132        0.690141     0.977016           4400.571429   \n23902    3     352125        0.650000     0.608263                   NaN   \n23903    6     352080        0.600000     0.941020                   NaN   \n23904    6     352075        0.969767     0.998672                   NaN   \n23905    2     351927        0.751111     0.668394                   NaN   \n\n       avg_amt_nontw_ntd  avg_amt_tw_nonntd  avg_amt_tw_ntd  \\\n0              673.00000                NaN             NaN   \n1                    NaN                NaN             NaN   \n2                    NaN                NaN             NaN   \n3                    NaN                NaN             NaN   \n4                    NaN                NaN             NaN   \n...                  ...                ...             ...   \n23901         1242.34238                NaN     1013.510067   \n23902                NaN                NaN             NaN   \n23903                NaN                NaN             NaN   \n23904                NaN                NaN             NaN   \n23905                NaN                NaN             NaN   \n\n       avg_freq_nontw_nonntd  avg_freq_nontw_ntd  ...  total_amt_tw_nonntd  \\\n0                        NaN            1.000000  ...                  0.0   \n1                        NaN                 NaN  ...                  0.0   \n2                        NaN                 NaN  ...                  0.0   \n3                        NaN                 NaN  ...                  0.0   \n4                        NaN                 NaN  ...                  0.0   \n...                      ...                 ...  ...                  ...   \n23901               1.166667            2.371287  ...                  0.0   \n23902                    NaN                 NaN  ...                  0.0   \n23903                    NaN                 NaN  ...                  0.0   \n23904                    NaN                 NaN  ...                  0.0   \n23905                    NaN                 NaN  ...                  0.0   \n\n       total_amt_tw_ntd  total_asset  total_asset_x  total_asset_y  \\\n0                   0.0     375576.0       375576.0   4.886652e+05   \n1                   0.0    2717416.0      2717416.0   2.621840e+06   \n2                   0.0     326517.0       326517.0   3.265170e+05   \n3                   0.0    1014759.0      1014759.0   1.275499e+05   \n4                   0.0     241719.0       241719.0   2.212473e+05   \n...                 ...          ...            ...            ...   \n23901         2416208.0    3218731.0      3218731.0   2.361632e+06   \n23902               0.0     928963.0       928963.0   5.041325e+05   \n23903               0.0      69080.0        69080.0   7.500171e+04   \n23904               0.0     262604.0       262604.0   3.333440e+05   \n23905               0.0     332834.0       332834.0   2.724419e+05   \n\n       total_freq_nontw_nonntd  total_freq_nontw_ntd  total_freq_tw_nonntd  \\\n0                            0                     1                     0   \n1                            0                     0                     0   \n2                            0                     0                     0   \n3                            0                     0                     0   \n4                            0                     0                     0   \n...                        ...                   ...                   ...   \n23901                       63                   479                     0   \n23902                        0                     0                     0   \n23903                        0                     0                     0   \n23904                        0                     0                     0   \n23905                        0                     0                     0   \n\n       total_freq_tw_ntd  trade_sum  \n0                      0        NaN  \n1                      0        NaN  \n2                      0        NaN  \n3                      0        NaN  \n4                      0        NaN  \n...                  ...        ...  \n23901               2384   364459.0  \n23902                  0    22127.0  \n23903                  0    43676.0  \n23904                  0        NaN  \n23905                  0        NaN  \n\n[23906 rows x 108 columns]",
      "text/html": "<div>\n<style scoped>\n    .dataframe tbody tr th:only-of-type {\n        vertical-align: middle;\n    }\n\n    .dataframe tbody tr th {\n        vertical-align: top;\n    }\n\n    .dataframe thead th {\n        text-align: right;\n    }\n</style>\n<table border=\"1\" class=\"dataframe\">\n  <thead>\n    <tr style=\"text-align: right;\">\n      <th></th>\n      <th>AGE</th>\n      <th>alert_key</th>\n      <th>atm_count_rate</th>\n      <th>atm_tx_rate</th>\n      <th>avg_amt_nontw_nonntd</th>\n      <th>avg_amt_nontw_ntd</th>\n      <th>avg_amt_tw_nonntd</th>\n      <th>avg_amt_tw_ntd</th>\n      <th>avg_freq_nontw_nonntd</th>\n      <th>avg_freq_nontw_ntd</th>\n      <th>...</th>\n      <th>total_amt_tw_nonntd</th>\n      <th>total_amt_tw_ntd</th>\n      <th>total_asset</th>\n      <th>total_asset_x</th>\n      <th>total_asset_y</th>\n      <th>total_freq_nontw_nonntd</th>\n      <th>total_freq_nontw_ntd</th>\n      <th>total_freq_tw_nonntd</th>\n      <th>total_freq_tw_ntd</th>\n      <th>trade_sum</th>\n    </tr>\n  </thead>\n  <tbody>\n    <tr>\n      <th>0</th>\n      <td>4</td>\n      <td>171189</td>\n      <td>1.000000</td>\n      <td>1.000000</td>\n      <td>NaN</td>\n      <td>673.00000</td>\n      <td>NaN</td>\n      <td>NaN</td>\n      <td>NaN</td>\n      <td>1.000000</td>\n      <td>...</td>\n      <td>0.0</td>\n      <td>0.0</td>\n      <td>375576.0</td>\n      <td>375576.0</td>\n      <td>4.886652e+05</td>\n      <td>0</td>\n      <td>1</td>\n      <td>0</td>\n      <td>0</td>\n      <td>NaN</td>\n    </tr>\n    <tr>\n      <th>1</th>\n      <td>2</td>\n      <td>171202</td>\n      <td>0.000000</td>\n      <td>0.000000</td>\n      <td>NaN</td>\n      <td>NaN</td>\n      <td>NaN</td>\n      <td>NaN</td>\n      <td>NaN</td>\n      <td>NaN</td>\n      <td>...</td>\n      <td>0.0</td>\n      <td>0.0</td>\n      <td>2717416.0</td>\n      <td>2717416.0</td>\n      <td>2.621840e+06</td>\n      <td>0</td>\n      <td>0</td>\n      <td>0</td>\n      <td>0</td>\n      <td>NaN</td>\n    </tr>\n    <tr>\n      <th>2</th>\n      <td>4</td>\n      <td>171599</td>\n      <td>1.000000</td>\n      <td>1.000000</td>\n      <td>NaN</td>\n      <td>NaN</td>\n      <td>NaN</td>\n      <td>NaN</td>\n      <td>NaN</td>\n      <td>NaN</td>\n      <td>...</td>\n      <td>0.0</td>\n      <td>0.0</td>\n      <td>326517.0</td>\n      <td>326517.0</td>\n      <td>3.265170e+05</td>\n      <td>0</td>\n      <td>0</td>\n      <td>0</td>\n      <td>0</td>\n      <td>NaN</td>\n    </tr>\n    <tr>\n      <th>3</th>\n      <td>4</td>\n      <td>171737</td>\n      <td>0.900000</td>\n      <td>0.969090</td>\n      <td>NaN</td>\n      <td>NaN</td>\n      <td>NaN</td>\n      <td>NaN</td>\n      <td>NaN</td>\n      <td>NaN</td>\n      <td>...</td>\n      <td>0.0</td>\n      <td>0.0</td>\n      <td>1014759.0</td>\n      <td>1014759.0</td>\n      <td>1.275499e+05</td>\n      <td>0</td>\n      <td>0</td>\n      <td>0</td>\n      <td>0</td>\n      <td>NaN</td>\n    </tr>\n    <tr>\n      <th>4</th>\n      <td>3</td>\n      <td>171142</td>\n      <td>1.000000</td>\n      <td>1.000000</td>\n      <td>NaN</td>\n      <td>NaN</td>\n      <td>NaN</td>\n      <td>NaN</td>\n      <td>NaN</td>\n      <td>NaN</td>\n      <td>...</td>\n      <td>0.0</td>\n      <td>0.0</td>\n      <td>241719.0</td>\n      <td>241719.0</td>\n      <td>2.212473e+05</td>\n      <td>0</td>\n      <td>0</td>\n      <td>0</td>\n      <td>0</td>\n      <td>NaN</td>\n    </tr>\n    <tr>\n      <th>...</th>\n      <td>...</td>\n      <td>...</td>\n      <td>...</td>\n      <td>...</td>\n      <td>...</td>\n      <td>...</td>\n      <td>...</td>\n      <td>...</td>\n      <td>...</td>\n      <td>...</td>\n      <td>...</td>\n      <td>...</td>\n      <td>...</td>\n      <td>...</td>\n      <td>...</td>\n      <td>...</td>\n      <td>...</td>\n      <td>...</td>\n      <td>...</td>\n      <td>...</td>\n      <td>...</td>\n    </tr>\n    <tr>\n      <th>23901</th>\n      <td>3</td>\n      <td>352132</td>\n      <td>0.690141</td>\n      <td>0.977016</td>\n      <td>4400.571429</td>\n      <td>1242.34238</td>\n      <td>NaN</td>\n      <td>1013.510067</td>\n      <td>1.166667</td>\n      <td>2.371287</td>\n      <td>...</td>\n      <td>0.0</td>\n      <td>2416208.0</td>\n      <td>3218731.0</td>\n      <td>3218731.0</td>\n      <td>2.361632e+06</td>\n      <td>63</td>\n      <td>479</td>\n      <td>0</td>\n      <td>2384</td>\n      <td>364459.0</td>\n    </tr>\n    <tr>\n      <th>23902</th>\n      <td>3</td>\n      <td>352125</td>\n      <td>0.650000</td>\n      <td>0.608263</td>\n      <td>NaN</td>\n      <td>NaN</td>\n      <td>NaN</td>\n      <td>NaN</td>\n      <td>NaN</td>\n      <td>NaN</td>\n      <td>...</td>\n      <td>0.0</td>\n      <td>0.0</td>\n      <td>928963.0</td>\n      <td>928963.0</td>\n      <td>5.041325e+05</td>\n      <td>0</td>\n      <td>0</td>\n      <td>0</td>\n      <td>0</td>\n      <td>22127.0</td>\n    </tr>\n    <tr>\n      <th>23903</th>\n      <td>6</td>\n      <td>352080</td>\n      <td>0.600000</td>\n      <td>0.941020</td>\n      <td>NaN</td>\n      <td>NaN</td>\n      <td>NaN</td>\n      <td>NaN</td>\n      <td>NaN</td>\n      <td>NaN</td>\n      <td>...</td>\n      <td>0.0</td>\n      <td>0.0</td>\n      <td>69080.0</td>\n      <td>69080.0</td>\n      <td>7.500171e+04</td>\n      <td>0</td>\n      <td>0</td>\n      <td>0</td>\n      <td>0</td>\n      <td>43676.0</td>\n    </tr>\n    <tr>\n      <th>23904</th>\n      <td>6</td>\n      <td>352075</td>\n      <td>0.969767</td>\n      <td>0.998672</td>\n      <td>NaN</td>\n      <td>NaN</td>\n      <td>NaN</td>\n      <td>NaN</td>\n      <td>NaN</td>\n      <td>NaN</td>\n      <td>...</td>\n      <td>0.0</td>\n      <td>0.0</td>\n      <td>262604.0</td>\n      <td>262604.0</td>\n      <td>3.333440e+05</td>\n      <td>0</td>\n      <td>0</td>\n      <td>0</td>\n      <td>0</td>\n      <td>NaN</td>\n    </tr>\n    <tr>\n      <th>23905</th>\n      <td>2</td>\n      <td>351927</td>\n      <td>0.751111</td>\n      <td>0.668394</td>\n      <td>NaN</td>\n      <td>NaN</td>\n      <td>NaN</td>\n      <td>NaN</td>\n      <td>NaN</td>\n      <td>NaN</td>\n      <td>...</td>\n      <td>0.0</td>\n      <td>0.0</td>\n      <td>332834.0</td>\n      <td>332834.0</td>\n      <td>2.724419e+05</td>\n      <td>0</td>\n      <td>0</td>\n      <td>0</td>\n      <td>0</td>\n      <td>NaN</td>\n    </tr>\n  </tbody>\n</table>\n<p>23906 rows × 108 columns</p>\n</div>"
     },
     "execution_count": 4,
     "metadata": {},
     "output_type": "execute_result"
    }
   ],
   "source": [
    "train = df_from_csv('ori_trainx.csv')\n",
    "train = train.merge(df_from_csv('ori_trainy.csv'), on='alert_key', how='inner')\n",
    "train = train.merge(alert_cust, on='alert_key', how='left')\n",
    "train = train[['alert_key', 'cust_id']]\n",
    "train = train.merge(ccba, on='cust_id', how='left')\n",
    "train = train.merge(cdtx, on='alert_key', how='left')\n",
    "train = train.merge(xdp, on='alert_key', how='left')\n",
    "train = train.merge(remit, on='alert_key', how='left')\n",
    "train = train.reindex(sorted(train.columns), axis=1)\n",
    "train"
   ],
   "metadata": {
    "collapsed": false
   }
  },
  {
   "cell_type": "code",
   "execution_count": 5,
   "outputs": [],
   "source": [
    "train['bad_value'] = train.isnull().sum(axis=1) + (train == 0).astype(int).sum(axis=1)"
   ],
   "metadata": {
    "collapsed": false
   }
  },
  {
   "cell_type": "code",
   "execution_count": 6,
   "outputs": [],
   "source": [
    "train = train.drop(['cust_id_x', 'cust_id_y', 'date'], axis=1)\n",
    "train.to_pickle('aggregate.pkl')"
   ],
   "metadata": {
    "collapsed": false
   }
  },
  {
   "cell_type": "code",
   "execution_count": 7,
   "outputs": [
    {
     "data": {
      "text/plain": "       AGE  atm_count_rate  atm_tx_rate  avg_amt_nontw_nonntd  \\\n0        4        1.000000     1.000000                   NaN   \n1        2        0.000000     0.000000                   NaN   \n2        4        1.000000     1.000000                   NaN   \n3        4        0.900000     0.969090                   NaN   \n4        3        1.000000     1.000000                   NaN   \n...    ...             ...          ...                   ...   \n23901    3        0.690141     0.977016           4400.571429   \n23902    3        0.650000     0.608263                   NaN   \n23903    6        0.600000     0.941020                   NaN   \n23904    6        0.969767     0.998672                   NaN   \n23905    2        0.751111     0.668394                   NaN   \n\n       avg_amt_nontw_ntd  avg_amt_tw_nonntd  avg_amt_tw_ntd  \\\n0              673.00000                NaN             NaN   \n1                    NaN                NaN             NaN   \n2                    NaN                NaN             NaN   \n3                    NaN                NaN             NaN   \n4                    NaN                NaN             NaN   \n...                  ...                ...             ...   \n23901         1242.34238                NaN     1013.510067   \n23902                NaN                NaN             NaN   \n23903                NaN                NaN             NaN   \n23904                NaN                NaN             NaN   \n23905                NaN                NaN             NaN   \n\n       avg_freq_nontw_nonntd  avg_freq_nontw_ntd  avg_freq_tw_nonntd  ...  \\\n0                        NaN            1.000000                 NaN  ...   \n1                        NaN                 NaN                 NaN  ...   \n2                        NaN                 NaN                 NaN  ...   \n3                        NaN                 NaN                 NaN  ...   \n4                        NaN                 NaN                 NaN  ...   \n...                      ...                 ...                 ...  ...   \n23901               1.166667            2.371287                 NaN  ...   \n23902                    NaN                 NaN                 NaN  ...   \n23903                    NaN                 NaN                 NaN  ...   \n23904                    NaN                 NaN                 NaN  ...   \n23905                    NaN                 NaN                 NaN  ...   \n\n       total_amt_tw_ntd  total_asset  total_asset_x  total_asset_y  \\\n0                   0.0     375576.0       375576.0   4.886652e+05   \n1                   0.0    2717416.0      2717416.0   2.621840e+06   \n2                   0.0     326517.0       326517.0   3.265170e+05   \n3                   0.0    1014759.0      1014759.0   1.275499e+05   \n4                   0.0     241719.0       241719.0   2.212473e+05   \n...                 ...          ...            ...            ...   \n23901         2416208.0    3218731.0      3218731.0   2.361632e+06   \n23902               0.0     928963.0       928963.0   5.041325e+05   \n23903               0.0      69080.0        69080.0   7.500171e+04   \n23904               0.0     262604.0       262604.0   3.333440e+05   \n23905               0.0     332834.0       332834.0   2.724419e+05   \n\n       total_freq_nontw_nonntd  total_freq_nontw_ntd  total_freq_tw_nonntd  \\\n0                            0                     1                     0   \n1                            0                     0                     0   \n2                            0                     0                     0   \n3                            0                     0                     0   \n4                            0                     0                     0   \n...                        ...                   ...                   ...   \n23901                       63                   479                     0   \n23902                        0                     0                     0   \n23903                        0                     0                     0   \n23904                        0                     0                     0   \n23905                        0                     0                     0   \n\n       total_freq_tw_ntd  trade_sum  bad_value  \n0                      0        NaN         86  \n1                      0        NaN         85  \n2                      0        NaN         90  \n3                      0        NaN         86  \n4                      0        NaN         83  \n...                  ...        ...        ...  \n23901               2384   364459.0         58  \n23902                  0    22127.0         78  \n23903                  0    43676.0         77  \n23904                  0        NaN         72  \n23905                  0        NaN         72  \n\n[23906 rows x 105 columns]",
      "text/html": "<div>\n<style scoped>\n    .dataframe tbody tr th:only-of-type {\n        vertical-align: middle;\n    }\n\n    .dataframe tbody tr th {\n        vertical-align: top;\n    }\n\n    .dataframe thead th {\n        text-align: right;\n    }\n</style>\n<table border=\"1\" class=\"dataframe\">\n  <thead>\n    <tr style=\"text-align: right;\">\n      <th></th>\n      <th>AGE</th>\n      <th>atm_count_rate</th>\n      <th>atm_tx_rate</th>\n      <th>avg_amt_nontw_nonntd</th>\n      <th>avg_amt_nontw_ntd</th>\n      <th>avg_amt_tw_nonntd</th>\n      <th>avg_amt_tw_ntd</th>\n      <th>avg_freq_nontw_nonntd</th>\n      <th>avg_freq_nontw_ntd</th>\n      <th>avg_freq_tw_nonntd</th>\n      <th>...</th>\n      <th>total_amt_tw_ntd</th>\n      <th>total_asset</th>\n      <th>total_asset_x</th>\n      <th>total_asset_y</th>\n      <th>total_freq_nontw_nonntd</th>\n      <th>total_freq_nontw_ntd</th>\n      <th>total_freq_tw_nonntd</th>\n      <th>total_freq_tw_ntd</th>\n      <th>trade_sum</th>\n      <th>bad_value</th>\n    </tr>\n  </thead>\n  <tbody>\n    <tr>\n      <th>0</th>\n      <td>4</td>\n      <td>1.000000</td>\n      <td>1.000000</td>\n      <td>NaN</td>\n      <td>673.00000</td>\n      <td>NaN</td>\n      <td>NaN</td>\n      <td>NaN</td>\n      <td>1.000000</td>\n      <td>NaN</td>\n      <td>...</td>\n      <td>0.0</td>\n      <td>375576.0</td>\n      <td>375576.0</td>\n      <td>4.886652e+05</td>\n      <td>0</td>\n      <td>1</td>\n      <td>0</td>\n      <td>0</td>\n      <td>NaN</td>\n      <td>86</td>\n    </tr>\n    <tr>\n      <th>1</th>\n      <td>2</td>\n      <td>0.000000</td>\n      <td>0.000000</td>\n      <td>NaN</td>\n      <td>NaN</td>\n      <td>NaN</td>\n      <td>NaN</td>\n      <td>NaN</td>\n      <td>NaN</td>\n      <td>NaN</td>\n      <td>...</td>\n      <td>0.0</td>\n      <td>2717416.0</td>\n      <td>2717416.0</td>\n      <td>2.621840e+06</td>\n      <td>0</td>\n      <td>0</td>\n      <td>0</td>\n      <td>0</td>\n      <td>NaN</td>\n      <td>85</td>\n    </tr>\n    <tr>\n      <th>2</th>\n      <td>4</td>\n      <td>1.000000</td>\n      <td>1.000000</td>\n      <td>NaN</td>\n      <td>NaN</td>\n      <td>NaN</td>\n      <td>NaN</td>\n      <td>NaN</td>\n      <td>NaN</td>\n      <td>NaN</td>\n      <td>...</td>\n      <td>0.0</td>\n      <td>326517.0</td>\n      <td>326517.0</td>\n      <td>3.265170e+05</td>\n      <td>0</td>\n      <td>0</td>\n      <td>0</td>\n      <td>0</td>\n      <td>NaN</td>\n      <td>90</td>\n    </tr>\n    <tr>\n      <th>3</th>\n      <td>4</td>\n      <td>0.900000</td>\n      <td>0.969090</td>\n      <td>NaN</td>\n      <td>NaN</td>\n      <td>NaN</td>\n      <td>NaN</td>\n      <td>NaN</td>\n      <td>NaN</td>\n      <td>NaN</td>\n      <td>...</td>\n      <td>0.0</td>\n      <td>1014759.0</td>\n      <td>1014759.0</td>\n      <td>1.275499e+05</td>\n      <td>0</td>\n      <td>0</td>\n      <td>0</td>\n      <td>0</td>\n      <td>NaN</td>\n      <td>86</td>\n    </tr>\n    <tr>\n      <th>4</th>\n      <td>3</td>\n      <td>1.000000</td>\n      <td>1.000000</td>\n      <td>NaN</td>\n      <td>NaN</td>\n      <td>NaN</td>\n      <td>NaN</td>\n      <td>NaN</td>\n      <td>NaN</td>\n      <td>NaN</td>\n      <td>...</td>\n      <td>0.0</td>\n      <td>241719.0</td>\n      <td>241719.0</td>\n      <td>2.212473e+05</td>\n      <td>0</td>\n      <td>0</td>\n      <td>0</td>\n      <td>0</td>\n      <td>NaN</td>\n      <td>83</td>\n    </tr>\n    <tr>\n      <th>...</th>\n      <td>...</td>\n      <td>...</td>\n      <td>...</td>\n      <td>...</td>\n      <td>...</td>\n      <td>...</td>\n      <td>...</td>\n      <td>...</td>\n      <td>...</td>\n      <td>...</td>\n      <td>...</td>\n      <td>...</td>\n      <td>...</td>\n      <td>...</td>\n      <td>...</td>\n      <td>...</td>\n      <td>...</td>\n      <td>...</td>\n      <td>...</td>\n      <td>...</td>\n      <td>...</td>\n    </tr>\n    <tr>\n      <th>23901</th>\n      <td>3</td>\n      <td>0.690141</td>\n      <td>0.977016</td>\n      <td>4400.571429</td>\n      <td>1242.34238</td>\n      <td>NaN</td>\n      <td>1013.510067</td>\n      <td>1.166667</td>\n      <td>2.371287</td>\n      <td>NaN</td>\n      <td>...</td>\n      <td>2416208.0</td>\n      <td>3218731.0</td>\n      <td>3218731.0</td>\n      <td>2.361632e+06</td>\n      <td>63</td>\n      <td>479</td>\n      <td>0</td>\n      <td>2384</td>\n      <td>364459.0</td>\n      <td>58</td>\n    </tr>\n    <tr>\n      <th>23902</th>\n      <td>3</td>\n      <td>0.650000</td>\n      <td>0.608263</td>\n      <td>NaN</td>\n      <td>NaN</td>\n      <td>NaN</td>\n      <td>NaN</td>\n      <td>NaN</td>\n      <td>NaN</td>\n      <td>NaN</td>\n      <td>...</td>\n      <td>0.0</td>\n      <td>928963.0</td>\n      <td>928963.0</td>\n      <td>5.041325e+05</td>\n      <td>0</td>\n      <td>0</td>\n      <td>0</td>\n      <td>0</td>\n      <td>22127.0</td>\n      <td>78</td>\n    </tr>\n    <tr>\n      <th>23903</th>\n      <td>6</td>\n      <td>0.600000</td>\n      <td>0.941020</td>\n      <td>NaN</td>\n      <td>NaN</td>\n      <td>NaN</td>\n      <td>NaN</td>\n      <td>NaN</td>\n      <td>NaN</td>\n      <td>NaN</td>\n      <td>...</td>\n      <td>0.0</td>\n      <td>69080.0</td>\n      <td>69080.0</td>\n      <td>7.500171e+04</td>\n      <td>0</td>\n      <td>0</td>\n      <td>0</td>\n      <td>0</td>\n      <td>43676.0</td>\n      <td>77</td>\n    </tr>\n    <tr>\n      <th>23904</th>\n      <td>6</td>\n      <td>0.969767</td>\n      <td>0.998672</td>\n      <td>NaN</td>\n      <td>NaN</td>\n      <td>NaN</td>\n      <td>NaN</td>\n      <td>NaN</td>\n      <td>NaN</td>\n      <td>NaN</td>\n      <td>...</td>\n      <td>0.0</td>\n      <td>262604.0</td>\n      <td>262604.0</td>\n      <td>3.333440e+05</td>\n      <td>0</td>\n      <td>0</td>\n      <td>0</td>\n      <td>0</td>\n      <td>NaN</td>\n      <td>72</td>\n    </tr>\n    <tr>\n      <th>23905</th>\n      <td>2</td>\n      <td>0.751111</td>\n      <td>0.668394</td>\n      <td>NaN</td>\n      <td>NaN</td>\n      <td>NaN</td>\n      <td>NaN</td>\n      <td>NaN</td>\n      <td>NaN</td>\n      <td>NaN</td>\n      <td>...</td>\n      <td>0.0</td>\n      <td>332834.0</td>\n      <td>332834.0</td>\n      <td>2.724419e+05</td>\n      <td>0</td>\n      <td>0</td>\n      <td>0</td>\n      <td>0</td>\n      <td>NaN</td>\n      <td>72</td>\n    </tr>\n  </tbody>\n</table>\n<p>23906 rows × 105 columns</p>\n</div>"
     },
     "execution_count": 7,
     "metadata": {},
     "output_type": "execute_result"
    }
   ],
   "source": [
    "train = train.drop(['alert_key'], axis=1)\n",
    "train"
   ],
   "metadata": {
    "collapsed": false
   }
  },
  {
   "cell_type": "code",
   "execution_count": 8,
   "outputs": [
    {
     "data": {
      "text/plain": "       AGE  atm_count_rate  atm_tx_rate  avg_amt_nontw_nonntd  \\\n0        4        1.000000     1.000000                   NaN   \n1        2        0.000000     0.000000                   NaN   \n2        4        1.000000     1.000000                   NaN   \n3        4        0.900000     0.969090                   NaN   \n4        3        1.000000     1.000000                   NaN   \n...    ...             ...          ...                   ...   \n23901    3        0.690141     0.977016           4400.571429   \n23902    3        0.650000     0.608263                   NaN   \n23903    6        0.600000     0.941020                   NaN   \n23904    6        0.969767     0.998672                   NaN   \n23905    2        0.751111     0.668394                   NaN   \n\n       avg_amt_nontw_ntd  avg_amt_tw_nonntd  avg_amt_tw_ntd  \\\n0              673.00000                NaN             NaN   \n1                    NaN                NaN             NaN   \n2                    NaN                NaN             NaN   \n3                    NaN                NaN             NaN   \n4                    NaN                NaN             NaN   \n...                  ...                ...             ...   \n23901         1242.34238                NaN     1013.510067   \n23902                NaN                NaN             NaN   \n23903                NaN                NaN             NaN   \n23904                NaN                NaN             NaN   \n23905                NaN                NaN             NaN   \n\n       avg_freq_nontw_nonntd  avg_freq_nontw_ntd  avg_freq_tw_nonntd  ...  \\\n0                        NaN            1.000000                 NaN  ...   \n1                        NaN                 NaN                 NaN  ...   \n2                        NaN                 NaN                 NaN  ...   \n3                        NaN                 NaN                 NaN  ...   \n4                        NaN                 NaN                 NaN  ...   \n...                      ...                 ...                 ...  ...   \n23901               1.166667            2.371287                 NaN  ...   \n23902                    NaN                 NaN                 NaN  ...   \n23903                    NaN                 NaN                 NaN  ...   \n23904                    NaN                 NaN                 NaN  ...   \n23905                    NaN                 NaN                 NaN  ...   \n\n       total_amt_tw_ntd  total_asset  total_asset_x  total_asset_y  \\\n0                   0.0     375576.0       375576.0   4.886652e+05   \n1                   0.0    2717416.0      2717416.0   2.621840e+06   \n2                   0.0     326517.0       326517.0   3.265170e+05   \n3                   0.0    1014759.0      1014759.0   1.275499e+05   \n4                   0.0     241719.0       241719.0   2.212473e+05   \n...                 ...          ...            ...            ...   \n23901         2416208.0    3218731.0      3218731.0   2.361632e+06   \n23902               0.0     928963.0       928963.0   5.041325e+05   \n23903               0.0      69080.0        69080.0   7.500171e+04   \n23904               0.0     262604.0       262604.0   3.333440e+05   \n23905               0.0     332834.0       332834.0   2.724419e+05   \n\n       total_freq_nontw_nonntd  total_freq_nontw_ntd  total_freq_tw_nonntd  \\\n0                            0                     1                     0   \n1                            0                     0                     0   \n2                            0                     0                     0   \n3                            0                     0                     0   \n4                            0                     0                     0   \n...                        ...                   ...                   ...   \n23901                       63                   479                     0   \n23902                        0                     0                     0   \n23903                        0                     0                     0   \n23904                        0                     0                     0   \n23905                        0                     0                     0   \n\n       total_freq_tw_ntd  trade_sum  bad_value  \n0                      0        NaN         85  \n1                      0        NaN         84  \n2                      0        NaN         89  \n3                      0        NaN         85  \n4                      0        NaN         82  \n...                  ...        ...        ...  \n23901               2384   364459.0         58  \n23902                  0    22127.0         78  \n23903                  0    43676.0         77  \n23904                  0        NaN         72  \n23905                  0        NaN         72  \n\n[23906 rows x 105 columns]",
      "text/html": "<div>\n<style scoped>\n    .dataframe tbody tr th:only-of-type {\n        vertical-align: middle;\n    }\n\n    .dataframe tbody tr th {\n        vertical-align: top;\n    }\n\n    .dataframe thead th {\n        text-align: right;\n    }\n</style>\n<table border=\"1\" class=\"dataframe\">\n  <thead>\n    <tr style=\"text-align: right;\">\n      <th></th>\n      <th>AGE</th>\n      <th>atm_count_rate</th>\n      <th>atm_tx_rate</th>\n      <th>avg_amt_nontw_nonntd</th>\n      <th>avg_amt_nontw_ntd</th>\n      <th>avg_amt_tw_nonntd</th>\n      <th>avg_amt_tw_ntd</th>\n      <th>avg_freq_nontw_nonntd</th>\n      <th>avg_freq_nontw_ntd</th>\n      <th>avg_freq_tw_nonntd</th>\n      <th>...</th>\n      <th>total_amt_tw_ntd</th>\n      <th>total_asset</th>\n      <th>total_asset_x</th>\n      <th>total_asset_y</th>\n      <th>total_freq_nontw_nonntd</th>\n      <th>total_freq_nontw_ntd</th>\n      <th>total_freq_tw_nonntd</th>\n      <th>total_freq_tw_ntd</th>\n      <th>trade_sum</th>\n      <th>bad_value</th>\n    </tr>\n  </thead>\n  <tbody>\n    <tr>\n      <th>0</th>\n      <td>4</td>\n      <td>1.000000</td>\n      <td>1.000000</td>\n      <td>NaN</td>\n      <td>673.00000</td>\n      <td>NaN</td>\n      <td>NaN</td>\n      <td>NaN</td>\n      <td>1.000000</td>\n      <td>NaN</td>\n      <td>...</td>\n      <td>0.0</td>\n      <td>375576.0</td>\n      <td>375576.0</td>\n      <td>4.886652e+05</td>\n      <td>0</td>\n      <td>1</td>\n      <td>0</td>\n      <td>0</td>\n      <td>NaN</td>\n      <td>85</td>\n    </tr>\n    <tr>\n      <th>1</th>\n      <td>2</td>\n      <td>0.000000</td>\n      <td>0.000000</td>\n      <td>NaN</td>\n      <td>NaN</td>\n      <td>NaN</td>\n      <td>NaN</td>\n      <td>NaN</td>\n      <td>NaN</td>\n      <td>NaN</td>\n      <td>...</td>\n      <td>0.0</td>\n      <td>2717416.0</td>\n      <td>2717416.0</td>\n      <td>2.621840e+06</td>\n      <td>0</td>\n      <td>0</td>\n      <td>0</td>\n      <td>0</td>\n      <td>NaN</td>\n      <td>84</td>\n    </tr>\n    <tr>\n      <th>2</th>\n      <td>4</td>\n      <td>1.000000</td>\n      <td>1.000000</td>\n      <td>NaN</td>\n      <td>NaN</td>\n      <td>NaN</td>\n      <td>NaN</td>\n      <td>NaN</td>\n      <td>NaN</td>\n      <td>NaN</td>\n      <td>...</td>\n      <td>0.0</td>\n      <td>326517.0</td>\n      <td>326517.0</td>\n      <td>3.265170e+05</td>\n      <td>0</td>\n      <td>0</td>\n      <td>0</td>\n      <td>0</td>\n      <td>NaN</td>\n      <td>89</td>\n    </tr>\n    <tr>\n      <th>3</th>\n      <td>4</td>\n      <td>0.900000</td>\n      <td>0.969090</td>\n      <td>NaN</td>\n      <td>NaN</td>\n      <td>NaN</td>\n      <td>NaN</td>\n      <td>NaN</td>\n      <td>NaN</td>\n      <td>NaN</td>\n      <td>...</td>\n      <td>0.0</td>\n      <td>1014759.0</td>\n      <td>1014759.0</td>\n      <td>1.275499e+05</td>\n      <td>0</td>\n      <td>0</td>\n      <td>0</td>\n      <td>0</td>\n      <td>NaN</td>\n      <td>85</td>\n    </tr>\n    <tr>\n      <th>4</th>\n      <td>3</td>\n      <td>1.000000</td>\n      <td>1.000000</td>\n      <td>NaN</td>\n      <td>NaN</td>\n      <td>NaN</td>\n      <td>NaN</td>\n      <td>NaN</td>\n      <td>NaN</td>\n      <td>NaN</td>\n      <td>...</td>\n      <td>0.0</td>\n      <td>241719.0</td>\n      <td>241719.0</td>\n      <td>2.212473e+05</td>\n      <td>0</td>\n      <td>0</td>\n      <td>0</td>\n      <td>0</td>\n      <td>NaN</td>\n      <td>82</td>\n    </tr>\n    <tr>\n      <th>...</th>\n      <td>...</td>\n      <td>...</td>\n      <td>...</td>\n      <td>...</td>\n      <td>...</td>\n      <td>...</td>\n      <td>...</td>\n      <td>...</td>\n      <td>...</td>\n      <td>...</td>\n      <td>...</td>\n      <td>...</td>\n      <td>...</td>\n      <td>...</td>\n      <td>...</td>\n      <td>...</td>\n      <td>...</td>\n      <td>...</td>\n      <td>...</td>\n      <td>...</td>\n      <td>...</td>\n    </tr>\n    <tr>\n      <th>23901</th>\n      <td>3</td>\n      <td>0.690141</td>\n      <td>0.977016</td>\n      <td>4400.571429</td>\n      <td>1242.34238</td>\n      <td>NaN</td>\n      <td>1013.510067</td>\n      <td>1.166667</td>\n      <td>2.371287</td>\n      <td>NaN</td>\n      <td>...</td>\n      <td>2416208.0</td>\n      <td>3218731.0</td>\n      <td>3218731.0</td>\n      <td>2.361632e+06</td>\n      <td>63</td>\n      <td>479</td>\n      <td>0</td>\n      <td>2384</td>\n      <td>364459.0</td>\n      <td>58</td>\n    </tr>\n    <tr>\n      <th>23902</th>\n      <td>3</td>\n      <td>0.650000</td>\n      <td>0.608263</td>\n      <td>NaN</td>\n      <td>NaN</td>\n      <td>NaN</td>\n      <td>NaN</td>\n      <td>NaN</td>\n      <td>NaN</td>\n      <td>NaN</td>\n      <td>...</td>\n      <td>0.0</td>\n      <td>928963.0</td>\n      <td>928963.0</td>\n      <td>5.041325e+05</td>\n      <td>0</td>\n      <td>0</td>\n      <td>0</td>\n      <td>0</td>\n      <td>22127.0</td>\n      <td>78</td>\n    </tr>\n    <tr>\n      <th>23903</th>\n      <td>6</td>\n      <td>0.600000</td>\n      <td>0.941020</td>\n      <td>NaN</td>\n      <td>NaN</td>\n      <td>NaN</td>\n      <td>NaN</td>\n      <td>NaN</td>\n      <td>NaN</td>\n      <td>NaN</td>\n      <td>...</td>\n      <td>0.0</td>\n      <td>69080.0</td>\n      <td>69080.0</td>\n      <td>7.500171e+04</td>\n      <td>0</td>\n      <td>0</td>\n      <td>0</td>\n      <td>0</td>\n      <td>43676.0</td>\n      <td>77</td>\n    </tr>\n    <tr>\n      <th>23904</th>\n      <td>6</td>\n      <td>0.969767</td>\n      <td>0.998672</td>\n      <td>NaN</td>\n      <td>NaN</td>\n      <td>NaN</td>\n      <td>NaN</td>\n      <td>NaN</td>\n      <td>NaN</td>\n      <td>NaN</td>\n      <td>...</td>\n      <td>0.0</td>\n      <td>262604.0</td>\n      <td>262604.0</td>\n      <td>3.333440e+05</td>\n      <td>0</td>\n      <td>0</td>\n      <td>0</td>\n      <td>0</td>\n      <td>NaN</td>\n      <td>72</td>\n    </tr>\n    <tr>\n      <th>23905</th>\n      <td>2</td>\n      <td>0.751111</td>\n      <td>0.668394</td>\n      <td>NaN</td>\n      <td>NaN</td>\n      <td>NaN</td>\n      <td>NaN</td>\n      <td>NaN</td>\n      <td>NaN</td>\n      <td>NaN</td>\n      <td>...</td>\n      <td>0.0</td>\n      <td>332834.0</td>\n      <td>332834.0</td>\n      <td>2.724419e+05</td>\n      <td>0</td>\n      <td>0</td>\n      <td>0</td>\n      <td>0</td>\n      <td>NaN</td>\n      <td>72</td>\n    </tr>\n  </tbody>\n</table>\n<p>23906 rows × 105 columns</p>\n</div>"
     },
     "execution_count": 8,
     "metadata": {},
     "output_type": "execute_result"
    }
   ],
   "source": [
    "train['bad_value'] = train.isnull().sum(axis=1) + (train == 0).astype(int).sum(axis=1)\n",
    "train"
   ],
   "metadata": {
    "collapsed": false
   }
  },
  {
   "cell_type": "code",
   "execution_count": 9,
   "outputs": [
    {
     "data": {
      "text/plain": "       AGE  atm_count_rate  atm_tx_rate  avg_amt_nontw_nonntd  \\\n0        4        1.000000     1.000000                   NaN   \n1        2        0.000000     0.000000                   NaN   \n2        4        1.000000     1.000000                   NaN   \n3        4        0.900000     0.969090                   NaN   \n4        3        1.000000     1.000000                   NaN   \n...    ...             ...          ...                   ...   \n23901    3        0.690141     0.977016           4400.571429   \n23902    3        0.650000     0.608263                   NaN   \n23903    6        0.600000     0.941020                   NaN   \n23904    6        0.969767     0.998672                   NaN   \n23905    2        0.751111     0.668394                   NaN   \n\n       avg_amt_nontw_ntd  avg_amt_tw_nonntd  avg_amt_tw_ntd  \\\n0              673.00000                NaN             NaN   \n1                    NaN                NaN             NaN   \n2                    NaN                NaN             NaN   \n3                    NaN                NaN             NaN   \n4                    NaN                NaN             NaN   \n...                  ...                ...             ...   \n23901         1242.34238                NaN     1013.510067   \n23902                NaN                NaN             NaN   \n23903                NaN                NaN             NaN   \n23904                NaN                NaN             NaN   \n23905                NaN                NaN             NaN   \n\n       avg_freq_nontw_nonntd  avg_freq_nontw_ntd  avg_freq_tw_nonntd  ...  \\\n0                        NaN            1.000000                 NaN  ...   \n1                        NaN                 NaN                 NaN  ...   \n2                        NaN                 NaN                 NaN  ...   \n3                        NaN                 NaN                 NaN  ...   \n4                        NaN                 NaN                 NaN  ...   \n...                      ...                 ...                 ...  ...   \n23901               1.166667            2.371287                 NaN  ...   \n23902                    NaN                 NaN                 NaN  ...   \n23903                    NaN                 NaN                 NaN  ...   \n23904                    NaN                 NaN                 NaN  ...   \n23905                    NaN                 NaN                 NaN  ...   \n\n       total_amt_tw_ntd  total_asset  total_asset_x  total_asset_y  \\\n0                   0.0     375576.0       375576.0   4.886652e+05   \n1                   0.0    2717416.0      2717416.0   2.621840e+06   \n2                   0.0     326517.0       326517.0   3.265170e+05   \n3                   0.0    1014759.0      1014759.0   1.275499e+05   \n4                   0.0     241719.0       241719.0   2.212473e+05   \n...                 ...          ...            ...            ...   \n23901         2416208.0    3218731.0      3218731.0   2.361632e+06   \n23902               0.0     928963.0       928963.0   5.041325e+05   \n23903               0.0      69080.0        69080.0   7.500171e+04   \n23904               0.0     262604.0       262604.0   3.333440e+05   \n23905               0.0     332834.0       332834.0   2.724419e+05   \n\n       total_freq_nontw_nonntd  total_freq_nontw_ntd  total_freq_tw_nonntd  \\\n0                            0                     1                     0   \n1                            0                     0                     0   \n2                            0                     0                     0   \n3                            0                     0                     0   \n4                            0                     0                     0   \n...                        ...                   ...                   ...   \n23901                       63                   479                     0   \n23902                        0                     0                     0   \n23903                        0                     0                     0   \n23904                        0                     0                     0   \n23905                        0                     0                     0   \n\n       total_freq_tw_ntd  trade_sum  bad_value  \n0                      0        NaN         85  \n1                      0        NaN         84  \n2                      0        NaN         89  \n3                      0        NaN         85  \n4                      0        NaN         82  \n...                  ...        ...        ...  \n23901               2384   364459.0         58  \n23902                  0    22127.0         78  \n23903                  0    43676.0         77  \n23904                  0        NaN         72  \n23905                  0        NaN         72  \n\n[23906 rows x 105 columns]",
      "text/html": "<div>\n<style scoped>\n    .dataframe tbody tr th:only-of-type {\n        vertical-align: middle;\n    }\n\n    .dataframe tbody tr th {\n        vertical-align: top;\n    }\n\n    .dataframe thead th {\n        text-align: right;\n    }\n</style>\n<table border=\"1\" class=\"dataframe\">\n  <thead>\n    <tr style=\"text-align: right;\">\n      <th></th>\n      <th>AGE</th>\n      <th>atm_count_rate</th>\n      <th>atm_tx_rate</th>\n      <th>avg_amt_nontw_nonntd</th>\n      <th>avg_amt_nontw_ntd</th>\n      <th>avg_amt_tw_nonntd</th>\n      <th>avg_amt_tw_ntd</th>\n      <th>avg_freq_nontw_nonntd</th>\n      <th>avg_freq_nontw_ntd</th>\n      <th>avg_freq_tw_nonntd</th>\n      <th>...</th>\n      <th>total_amt_tw_ntd</th>\n      <th>total_asset</th>\n      <th>total_asset_x</th>\n      <th>total_asset_y</th>\n      <th>total_freq_nontw_nonntd</th>\n      <th>total_freq_nontw_ntd</th>\n      <th>total_freq_tw_nonntd</th>\n      <th>total_freq_tw_ntd</th>\n      <th>trade_sum</th>\n      <th>bad_value</th>\n    </tr>\n  </thead>\n  <tbody>\n    <tr>\n      <th>0</th>\n      <td>4</td>\n      <td>1.000000</td>\n      <td>1.000000</td>\n      <td>NaN</td>\n      <td>673.00000</td>\n      <td>NaN</td>\n      <td>NaN</td>\n      <td>NaN</td>\n      <td>1.000000</td>\n      <td>NaN</td>\n      <td>...</td>\n      <td>0.0</td>\n      <td>375576.0</td>\n      <td>375576.0</td>\n      <td>4.886652e+05</td>\n      <td>0</td>\n      <td>1</td>\n      <td>0</td>\n      <td>0</td>\n      <td>NaN</td>\n      <td>85</td>\n    </tr>\n    <tr>\n      <th>1</th>\n      <td>2</td>\n      <td>0.000000</td>\n      <td>0.000000</td>\n      <td>NaN</td>\n      <td>NaN</td>\n      <td>NaN</td>\n      <td>NaN</td>\n      <td>NaN</td>\n      <td>NaN</td>\n      <td>NaN</td>\n      <td>...</td>\n      <td>0.0</td>\n      <td>2717416.0</td>\n      <td>2717416.0</td>\n      <td>2.621840e+06</td>\n      <td>0</td>\n      <td>0</td>\n      <td>0</td>\n      <td>0</td>\n      <td>NaN</td>\n      <td>84</td>\n    </tr>\n    <tr>\n      <th>2</th>\n      <td>4</td>\n      <td>1.000000</td>\n      <td>1.000000</td>\n      <td>NaN</td>\n      <td>NaN</td>\n      <td>NaN</td>\n      <td>NaN</td>\n      <td>NaN</td>\n      <td>NaN</td>\n      <td>NaN</td>\n      <td>...</td>\n      <td>0.0</td>\n      <td>326517.0</td>\n      <td>326517.0</td>\n      <td>3.265170e+05</td>\n      <td>0</td>\n      <td>0</td>\n      <td>0</td>\n      <td>0</td>\n      <td>NaN</td>\n      <td>89</td>\n    </tr>\n    <tr>\n      <th>3</th>\n      <td>4</td>\n      <td>0.900000</td>\n      <td>0.969090</td>\n      <td>NaN</td>\n      <td>NaN</td>\n      <td>NaN</td>\n      <td>NaN</td>\n      <td>NaN</td>\n      <td>NaN</td>\n      <td>NaN</td>\n      <td>...</td>\n      <td>0.0</td>\n      <td>1014759.0</td>\n      <td>1014759.0</td>\n      <td>1.275499e+05</td>\n      <td>0</td>\n      <td>0</td>\n      <td>0</td>\n      <td>0</td>\n      <td>NaN</td>\n      <td>85</td>\n    </tr>\n    <tr>\n      <th>4</th>\n      <td>3</td>\n      <td>1.000000</td>\n      <td>1.000000</td>\n      <td>NaN</td>\n      <td>NaN</td>\n      <td>NaN</td>\n      <td>NaN</td>\n      <td>NaN</td>\n      <td>NaN</td>\n      <td>NaN</td>\n      <td>...</td>\n      <td>0.0</td>\n      <td>241719.0</td>\n      <td>241719.0</td>\n      <td>2.212473e+05</td>\n      <td>0</td>\n      <td>0</td>\n      <td>0</td>\n      <td>0</td>\n      <td>NaN</td>\n      <td>82</td>\n    </tr>\n    <tr>\n      <th>...</th>\n      <td>...</td>\n      <td>...</td>\n      <td>...</td>\n      <td>...</td>\n      <td>...</td>\n      <td>...</td>\n      <td>...</td>\n      <td>...</td>\n      <td>...</td>\n      <td>...</td>\n      <td>...</td>\n      <td>...</td>\n      <td>...</td>\n      <td>...</td>\n      <td>...</td>\n      <td>...</td>\n      <td>...</td>\n      <td>...</td>\n      <td>...</td>\n      <td>...</td>\n      <td>...</td>\n    </tr>\n    <tr>\n      <th>23901</th>\n      <td>3</td>\n      <td>0.690141</td>\n      <td>0.977016</td>\n      <td>4400.571429</td>\n      <td>1242.34238</td>\n      <td>NaN</td>\n      <td>1013.510067</td>\n      <td>1.166667</td>\n      <td>2.371287</td>\n      <td>NaN</td>\n      <td>...</td>\n      <td>2416208.0</td>\n      <td>3218731.0</td>\n      <td>3218731.0</td>\n      <td>2.361632e+06</td>\n      <td>63</td>\n      <td>479</td>\n      <td>0</td>\n      <td>2384</td>\n      <td>364459.0</td>\n      <td>58</td>\n    </tr>\n    <tr>\n      <th>23902</th>\n      <td>3</td>\n      <td>0.650000</td>\n      <td>0.608263</td>\n      <td>NaN</td>\n      <td>NaN</td>\n      <td>NaN</td>\n      <td>NaN</td>\n      <td>NaN</td>\n      <td>NaN</td>\n      <td>NaN</td>\n      <td>...</td>\n      <td>0.0</td>\n      <td>928963.0</td>\n      <td>928963.0</td>\n      <td>5.041325e+05</td>\n      <td>0</td>\n      <td>0</td>\n      <td>0</td>\n      <td>0</td>\n      <td>22127.0</td>\n      <td>78</td>\n    </tr>\n    <tr>\n      <th>23903</th>\n      <td>6</td>\n      <td>0.600000</td>\n      <td>0.941020</td>\n      <td>NaN</td>\n      <td>NaN</td>\n      <td>NaN</td>\n      <td>NaN</td>\n      <td>NaN</td>\n      <td>NaN</td>\n      <td>NaN</td>\n      <td>...</td>\n      <td>0.0</td>\n      <td>69080.0</td>\n      <td>69080.0</td>\n      <td>7.500171e+04</td>\n      <td>0</td>\n      <td>0</td>\n      <td>0</td>\n      <td>0</td>\n      <td>43676.0</td>\n      <td>77</td>\n    </tr>\n    <tr>\n      <th>23904</th>\n      <td>6</td>\n      <td>0.969767</td>\n      <td>0.998672</td>\n      <td>NaN</td>\n      <td>NaN</td>\n      <td>NaN</td>\n      <td>NaN</td>\n      <td>NaN</td>\n      <td>NaN</td>\n      <td>NaN</td>\n      <td>...</td>\n      <td>0.0</td>\n      <td>262604.0</td>\n      <td>262604.0</td>\n      <td>3.333440e+05</td>\n      <td>0</td>\n      <td>0</td>\n      <td>0</td>\n      <td>0</td>\n      <td>NaN</td>\n      <td>72</td>\n    </tr>\n    <tr>\n      <th>23905</th>\n      <td>2</td>\n      <td>0.751111</td>\n      <td>0.668394</td>\n      <td>NaN</td>\n      <td>NaN</td>\n      <td>NaN</td>\n      <td>NaN</td>\n      <td>NaN</td>\n      <td>NaN</td>\n      <td>NaN</td>\n      <td>...</td>\n      <td>0.0</td>\n      <td>332834.0</td>\n      <td>332834.0</td>\n      <td>2.724419e+05</td>\n      <td>0</td>\n      <td>0</td>\n      <td>0</td>\n      <td>0</td>\n      <td>NaN</td>\n      <td>72</td>\n    </tr>\n  </tbody>\n</table>\n<p>23906 rows × 105 columns</p>\n</div>"
     },
     "execution_count": 9,
     "metadata": {},
     "output_type": "execute_result"
    }
   ],
   "source": [
    "ori_train = train.copy()\n",
    "train"
   ],
   "metadata": {
    "collapsed": false
   }
  },
  {
   "cell_type": "code",
   "execution_count": 10,
   "outputs": [
    {
     "data": {
      "text/plain": "       AGE  atm_count_rate  atm_tx_rate  avg_amt_nontw_nonntd  \\\n0        4        1.000000     1.000000              0.000000   \n1        2        0.000000     0.000000              0.000000   \n2        4        1.000000     1.000000              0.000000   \n3        4        0.900000     0.969090              0.000000   \n4        3        1.000000     1.000000              0.000000   \n...    ...             ...          ...                   ...   \n23901    3        0.690141     0.977016           4400.571429   \n23902    3        0.650000     0.608263              0.000000   \n23903    6        0.600000     0.941020              0.000000   \n23904    6        0.969767     0.998672              0.000000   \n23905    2        0.751111     0.668394              0.000000   \n\n       avg_amt_nontw_ntd  avg_amt_tw_nonntd  avg_amt_tw_ntd  \\\n0              673.00000                0.0        0.000000   \n1                0.00000                0.0        0.000000   \n2                0.00000                0.0        0.000000   \n3                0.00000                0.0        0.000000   \n4                0.00000                0.0        0.000000   \n...                  ...                ...             ...   \n23901         1242.34238                0.0     1013.510067   \n23902            0.00000                0.0        0.000000   \n23903            0.00000                0.0        0.000000   \n23904            0.00000                0.0        0.000000   \n23905            0.00000                0.0        0.000000   \n\n       avg_freq_nontw_nonntd  avg_freq_nontw_ntd  avg_freq_tw_nonntd  ...  \\\n0                   0.000000            1.000000                 0.0  ...   \n1                   0.000000            0.000000                 0.0  ...   \n2                   0.000000            0.000000                 0.0  ...   \n3                   0.000000            0.000000                 0.0  ...   \n4                   0.000000            0.000000                 0.0  ...   \n...                      ...                 ...                 ...  ...   \n23901               1.166667            2.371287                 0.0  ...   \n23902               0.000000            0.000000                 0.0  ...   \n23903               0.000000            0.000000                 0.0  ...   \n23904               0.000000            0.000000                 0.0  ...   \n23905               0.000000            0.000000                 0.0  ...   \n\n       total_amt_tw_ntd  total_asset  total_asset_x  total_asset_y  \\\n0                   0.0     375576.0       375576.0   4.886652e+05   \n1                   0.0    2717416.0      2717416.0   2.621840e+06   \n2                   0.0     326517.0       326517.0   3.265170e+05   \n3                   0.0    1014759.0      1014759.0   1.275499e+05   \n4                   0.0     241719.0       241719.0   2.212473e+05   \n...                 ...          ...            ...            ...   \n23901         2416208.0    3218731.0      3218731.0   2.361632e+06   \n23902               0.0     928963.0       928963.0   5.041325e+05   \n23903               0.0      69080.0        69080.0   7.500171e+04   \n23904               0.0     262604.0       262604.0   3.333440e+05   \n23905               0.0     332834.0       332834.0   2.724419e+05   \n\n       total_freq_nontw_nonntd  total_freq_nontw_ntd  total_freq_tw_nonntd  \\\n0                            0                     1                     0   \n1                            0                     0                     0   \n2                            0                     0                     0   \n3                            0                     0                     0   \n4                            0                     0                     0   \n...                        ...                   ...                   ...   \n23901                       63                   479                     0   \n23902                        0                     0                     0   \n23903                        0                     0                     0   \n23904                        0                     0                     0   \n23905                        0                     0                     0   \n\n       total_freq_tw_ntd  trade_sum  bad_value  \n0                      0        0.0         85  \n1                      0        0.0         84  \n2                      0        0.0         89  \n3                      0        0.0         85  \n4                      0        0.0         82  \n...                  ...        ...        ...  \n23901               2384   364459.0         58  \n23902                  0    22127.0         78  \n23903                  0    43676.0         77  \n23904                  0        0.0         72  \n23905                  0        0.0         72  \n\n[23906 rows x 105 columns]",
      "text/html": "<div>\n<style scoped>\n    .dataframe tbody tr th:only-of-type {\n        vertical-align: middle;\n    }\n\n    .dataframe tbody tr th {\n        vertical-align: top;\n    }\n\n    .dataframe thead th {\n        text-align: right;\n    }\n</style>\n<table border=\"1\" class=\"dataframe\">\n  <thead>\n    <tr style=\"text-align: right;\">\n      <th></th>\n      <th>AGE</th>\n      <th>atm_count_rate</th>\n      <th>atm_tx_rate</th>\n      <th>avg_amt_nontw_nonntd</th>\n      <th>avg_amt_nontw_ntd</th>\n      <th>avg_amt_tw_nonntd</th>\n      <th>avg_amt_tw_ntd</th>\n      <th>avg_freq_nontw_nonntd</th>\n      <th>avg_freq_nontw_ntd</th>\n      <th>avg_freq_tw_nonntd</th>\n      <th>...</th>\n      <th>total_amt_tw_ntd</th>\n      <th>total_asset</th>\n      <th>total_asset_x</th>\n      <th>total_asset_y</th>\n      <th>total_freq_nontw_nonntd</th>\n      <th>total_freq_nontw_ntd</th>\n      <th>total_freq_tw_nonntd</th>\n      <th>total_freq_tw_ntd</th>\n      <th>trade_sum</th>\n      <th>bad_value</th>\n    </tr>\n  </thead>\n  <tbody>\n    <tr>\n      <th>0</th>\n      <td>4</td>\n      <td>1.000000</td>\n      <td>1.000000</td>\n      <td>0.000000</td>\n      <td>673.00000</td>\n      <td>0.0</td>\n      <td>0.000000</td>\n      <td>0.000000</td>\n      <td>1.000000</td>\n      <td>0.0</td>\n      <td>...</td>\n      <td>0.0</td>\n      <td>375576.0</td>\n      <td>375576.0</td>\n      <td>4.886652e+05</td>\n      <td>0</td>\n      <td>1</td>\n      <td>0</td>\n      <td>0</td>\n      <td>0.0</td>\n      <td>85</td>\n    </tr>\n    <tr>\n      <th>1</th>\n      <td>2</td>\n      <td>0.000000</td>\n      <td>0.000000</td>\n      <td>0.000000</td>\n      <td>0.00000</td>\n      <td>0.0</td>\n      <td>0.000000</td>\n      <td>0.000000</td>\n      <td>0.000000</td>\n      <td>0.0</td>\n      <td>...</td>\n      <td>0.0</td>\n      <td>2717416.0</td>\n      <td>2717416.0</td>\n      <td>2.621840e+06</td>\n      <td>0</td>\n      <td>0</td>\n      <td>0</td>\n      <td>0</td>\n      <td>0.0</td>\n      <td>84</td>\n    </tr>\n    <tr>\n      <th>2</th>\n      <td>4</td>\n      <td>1.000000</td>\n      <td>1.000000</td>\n      <td>0.000000</td>\n      <td>0.00000</td>\n      <td>0.0</td>\n      <td>0.000000</td>\n      <td>0.000000</td>\n      <td>0.000000</td>\n      <td>0.0</td>\n      <td>...</td>\n      <td>0.0</td>\n      <td>326517.0</td>\n      <td>326517.0</td>\n      <td>3.265170e+05</td>\n      <td>0</td>\n      <td>0</td>\n      <td>0</td>\n      <td>0</td>\n      <td>0.0</td>\n      <td>89</td>\n    </tr>\n    <tr>\n      <th>3</th>\n      <td>4</td>\n      <td>0.900000</td>\n      <td>0.969090</td>\n      <td>0.000000</td>\n      <td>0.00000</td>\n      <td>0.0</td>\n      <td>0.000000</td>\n      <td>0.000000</td>\n      <td>0.000000</td>\n      <td>0.0</td>\n      <td>...</td>\n      <td>0.0</td>\n      <td>1014759.0</td>\n      <td>1014759.0</td>\n      <td>1.275499e+05</td>\n      <td>0</td>\n      <td>0</td>\n      <td>0</td>\n      <td>0</td>\n      <td>0.0</td>\n      <td>85</td>\n    </tr>\n    <tr>\n      <th>4</th>\n      <td>3</td>\n      <td>1.000000</td>\n      <td>1.000000</td>\n      <td>0.000000</td>\n      <td>0.00000</td>\n      <td>0.0</td>\n      <td>0.000000</td>\n      <td>0.000000</td>\n      <td>0.000000</td>\n      <td>0.0</td>\n      <td>...</td>\n      <td>0.0</td>\n      <td>241719.0</td>\n      <td>241719.0</td>\n      <td>2.212473e+05</td>\n      <td>0</td>\n      <td>0</td>\n      <td>0</td>\n      <td>0</td>\n      <td>0.0</td>\n      <td>82</td>\n    </tr>\n    <tr>\n      <th>...</th>\n      <td>...</td>\n      <td>...</td>\n      <td>...</td>\n      <td>...</td>\n      <td>...</td>\n      <td>...</td>\n      <td>...</td>\n      <td>...</td>\n      <td>...</td>\n      <td>...</td>\n      <td>...</td>\n      <td>...</td>\n      <td>...</td>\n      <td>...</td>\n      <td>...</td>\n      <td>...</td>\n      <td>...</td>\n      <td>...</td>\n      <td>...</td>\n      <td>...</td>\n      <td>...</td>\n    </tr>\n    <tr>\n      <th>23901</th>\n      <td>3</td>\n      <td>0.690141</td>\n      <td>0.977016</td>\n      <td>4400.571429</td>\n      <td>1242.34238</td>\n      <td>0.0</td>\n      <td>1013.510067</td>\n      <td>1.166667</td>\n      <td>2.371287</td>\n      <td>0.0</td>\n      <td>...</td>\n      <td>2416208.0</td>\n      <td>3218731.0</td>\n      <td>3218731.0</td>\n      <td>2.361632e+06</td>\n      <td>63</td>\n      <td>479</td>\n      <td>0</td>\n      <td>2384</td>\n      <td>364459.0</td>\n      <td>58</td>\n    </tr>\n    <tr>\n      <th>23902</th>\n      <td>3</td>\n      <td>0.650000</td>\n      <td>0.608263</td>\n      <td>0.000000</td>\n      <td>0.00000</td>\n      <td>0.0</td>\n      <td>0.000000</td>\n      <td>0.000000</td>\n      <td>0.000000</td>\n      <td>0.0</td>\n      <td>...</td>\n      <td>0.0</td>\n      <td>928963.0</td>\n      <td>928963.0</td>\n      <td>5.041325e+05</td>\n      <td>0</td>\n      <td>0</td>\n      <td>0</td>\n      <td>0</td>\n      <td>22127.0</td>\n      <td>78</td>\n    </tr>\n    <tr>\n      <th>23903</th>\n      <td>6</td>\n      <td>0.600000</td>\n      <td>0.941020</td>\n      <td>0.000000</td>\n      <td>0.00000</td>\n      <td>0.0</td>\n      <td>0.000000</td>\n      <td>0.000000</td>\n      <td>0.000000</td>\n      <td>0.0</td>\n      <td>...</td>\n      <td>0.0</td>\n      <td>69080.0</td>\n      <td>69080.0</td>\n      <td>7.500171e+04</td>\n      <td>0</td>\n      <td>0</td>\n      <td>0</td>\n      <td>0</td>\n      <td>43676.0</td>\n      <td>77</td>\n    </tr>\n    <tr>\n      <th>23904</th>\n      <td>6</td>\n      <td>0.969767</td>\n      <td>0.998672</td>\n      <td>0.000000</td>\n      <td>0.00000</td>\n      <td>0.0</td>\n      <td>0.000000</td>\n      <td>0.000000</td>\n      <td>0.000000</td>\n      <td>0.0</td>\n      <td>...</td>\n      <td>0.0</td>\n      <td>262604.0</td>\n      <td>262604.0</td>\n      <td>3.333440e+05</td>\n      <td>0</td>\n      <td>0</td>\n      <td>0</td>\n      <td>0</td>\n      <td>0.0</td>\n      <td>72</td>\n    </tr>\n    <tr>\n      <th>23905</th>\n      <td>2</td>\n      <td>0.751111</td>\n      <td>0.668394</td>\n      <td>0.000000</td>\n      <td>0.00000</td>\n      <td>0.0</td>\n      <td>0.000000</td>\n      <td>0.000000</td>\n      <td>0.000000</td>\n      <td>0.0</td>\n      <td>...</td>\n      <td>0.0</td>\n      <td>332834.0</td>\n      <td>332834.0</td>\n      <td>2.724419e+05</td>\n      <td>0</td>\n      <td>0</td>\n      <td>0</td>\n      <td>0</td>\n      <td>0.0</td>\n      <td>72</td>\n    </tr>\n  </tbody>\n</table>\n<p>23906 rows × 105 columns</p>\n</div>"
     },
     "execution_count": 10,
     "metadata": {},
     "output_type": "execute_result"
    }
   ],
   "source": [
    "ori_train.iloc[:, 1:] = ori_train.iloc[:, 1:].fillna(0)\n",
    "train.iloc[:, 1:] = train.iloc[:, 1:].fillna(0)\n",
    "train"
   ],
   "metadata": {
    "collapsed": false
   }
  },
  {
   "cell_type": "code",
   "execution_count": 11,
   "outputs": [
    {
     "data": {
      "text/plain": "       AGE  atm_count_rate  atm_tx_rate  avg_amt_nontw_nonntd  \\\n0        4        1.000000     1.000000              0.000000   \n1        2        0.000000     0.000000              0.000000   \n2        4        1.000000     1.000000              0.000000   \n3        4        0.900000     0.969090              0.000000   \n4        3        1.000000     1.000000              0.000000   \n...    ...             ...          ...                   ...   \n23901    3        0.690141     0.977016           4400.571429   \n23902    3        0.650000     0.608263              0.000000   \n23903    6        0.600000     0.941020              0.000000   \n23904    6        0.969767     0.998672              0.000000   \n23905    2        0.751111     0.668394              0.000000   \n\n       avg_amt_nontw_ntd  avg_amt_tw_nonntd  avg_amt_tw_ntd  \\\n0              673.00000                0.0        0.000000   \n1                0.00000                0.0        0.000000   \n2                0.00000                0.0        0.000000   \n3                0.00000                0.0        0.000000   \n4                0.00000                0.0        0.000000   \n...                  ...                ...             ...   \n23901         1242.34238                0.0     1013.510067   \n23902            0.00000                0.0        0.000000   \n23903            0.00000                0.0        0.000000   \n23904            0.00000                0.0        0.000000   \n23905            0.00000                0.0        0.000000   \n\n       avg_freq_nontw_nonntd  avg_freq_nontw_ntd  avg_freq_tw_nonntd  ...  \\\n0                   0.000000            1.000000                 0.0  ...   \n1                   0.000000            0.000000                 0.0  ...   \n2                   0.000000            0.000000                 0.0  ...   \n3                   0.000000            0.000000                 0.0  ...   \n4                   0.000000            0.000000                 0.0  ...   \n...                      ...                 ...                 ...  ...   \n23901               1.166667            2.371287                 0.0  ...   \n23902               0.000000            0.000000                 0.0  ...   \n23903               0.000000            0.000000                 0.0  ...   \n23904               0.000000            0.000000                 0.0  ...   \n23905               0.000000            0.000000                 0.0  ...   \n\n       total_amt_tw_nonntd  total_amt_tw_ntd  total_asset  total_asset_x  \\\n0                      0.0               0.0     375576.0       375576.0   \n1                      0.0               0.0    2717416.0      2717416.0   \n2                      0.0               0.0     326517.0       326517.0   \n3                      0.0               0.0    1014759.0      1014759.0   \n4                      0.0               0.0     241719.0       241719.0   \n...                    ...               ...          ...            ...   \n23901                  0.0         2416208.0    3218731.0      3218731.0   \n23902                  0.0               0.0     928963.0       928963.0   \n23903                  0.0               0.0      69080.0        69080.0   \n23904                  0.0               0.0     262604.0       262604.0   \n23905                  0.0               0.0     332834.0       332834.0   \n\n       total_asset_y  total_freq_nontw_nonntd  total_freq_nontw_ntd  \\\n0       4.886652e+05                        0                     1   \n1       2.621840e+06                        0                     0   \n2       3.265170e+05                        0                     0   \n3       1.275499e+05                        0                     0   \n4       2.212473e+05                        0                     0   \n...              ...                      ...                   ...   \n23901   2.361632e+06                       63                   479   \n23902   5.041325e+05                        0                     0   \n23903   7.500171e+04                        0                     0   \n23904   3.333440e+05                        0                     0   \n23905   2.724419e+05                        0                     0   \n\n       total_freq_tw_nonntd  total_freq_tw_ntd  trade_sum  \n0                         0                  0        0.0  \n1                         0                  0        0.0  \n2                         0                  0        0.0  \n3                         0                  0        0.0  \n4                         0                  0        0.0  \n...                     ...                ...        ...  \n23901                     0               2384   364459.0  \n23902                     0                  0    22127.0  \n23903                     0                  0    43676.0  \n23904                     0                  0        0.0  \n23905                     0                  0        0.0  \n\n[23906 rows x 104 columns]",
      "text/html": "<div>\n<style scoped>\n    .dataframe tbody tr th:only-of-type {\n        vertical-align: middle;\n    }\n\n    .dataframe tbody tr th {\n        vertical-align: top;\n    }\n\n    .dataframe thead th {\n        text-align: right;\n    }\n</style>\n<table border=\"1\" class=\"dataframe\">\n  <thead>\n    <tr style=\"text-align: right;\">\n      <th></th>\n      <th>AGE</th>\n      <th>atm_count_rate</th>\n      <th>atm_tx_rate</th>\n      <th>avg_amt_nontw_nonntd</th>\n      <th>avg_amt_nontw_ntd</th>\n      <th>avg_amt_tw_nonntd</th>\n      <th>avg_amt_tw_ntd</th>\n      <th>avg_freq_nontw_nonntd</th>\n      <th>avg_freq_nontw_ntd</th>\n      <th>avg_freq_tw_nonntd</th>\n      <th>...</th>\n      <th>total_amt_tw_nonntd</th>\n      <th>total_amt_tw_ntd</th>\n      <th>total_asset</th>\n      <th>total_asset_x</th>\n      <th>total_asset_y</th>\n      <th>total_freq_nontw_nonntd</th>\n      <th>total_freq_nontw_ntd</th>\n      <th>total_freq_tw_nonntd</th>\n      <th>total_freq_tw_ntd</th>\n      <th>trade_sum</th>\n    </tr>\n  </thead>\n  <tbody>\n    <tr>\n      <th>0</th>\n      <td>4</td>\n      <td>1.000000</td>\n      <td>1.000000</td>\n      <td>0.000000</td>\n      <td>673.00000</td>\n      <td>0.0</td>\n      <td>0.000000</td>\n      <td>0.000000</td>\n      <td>1.000000</td>\n      <td>0.0</td>\n      <td>...</td>\n      <td>0.0</td>\n      <td>0.0</td>\n      <td>375576.0</td>\n      <td>375576.0</td>\n      <td>4.886652e+05</td>\n      <td>0</td>\n      <td>1</td>\n      <td>0</td>\n      <td>0</td>\n      <td>0.0</td>\n    </tr>\n    <tr>\n      <th>1</th>\n      <td>2</td>\n      <td>0.000000</td>\n      <td>0.000000</td>\n      <td>0.000000</td>\n      <td>0.00000</td>\n      <td>0.0</td>\n      <td>0.000000</td>\n      <td>0.000000</td>\n      <td>0.000000</td>\n      <td>0.0</td>\n      <td>...</td>\n      <td>0.0</td>\n      <td>0.0</td>\n      <td>2717416.0</td>\n      <td>2717416.0</td>\n      <td>2.621840e+06</td>\n      <td>0</td>\n      <td>0</td>\n      <td>0</td>\n      <td>0</td>\n      <td>0.0</td>\n    </tr>\n    <tr>\n      <th>2</th>\n      <td>4</td>\n      <td>1.000000</td>\n      <td>1.000000</td>\n      <td>0.000000</td>\n      <td>0.00000</td>\n      <td>0.0</td>\n      <td>0.000000</td>\n      <td>0.000000</td>\n      <td>0.000000</td>\n      <td>0.0</td>\n      <td>...</td>\n      <td>0.0</td>\n      <td>0.0</td>\n      <td>326517.0</td>\n      <td>326517.0</td>\n      <td>3.265170e+05</td>\n      <td>0</td>\n      <td>0</td>\n      <td>0</td>\n      <td>0</td>\n      <td>0.0</td>\n    </tr>\n    <tr>\n      <th>3</th>\n      <td>4</td>\n      <td>0.900000</td>\n      <td>0.969090</td>\n      <td>0.000000</td>\n      <td>0.00000</td>\n      <td>0.0</td>\n      <td>0.000000</td>\n      <td>0.000000</td>\n      <td>0.000000</td>\n      <td>0.0</td>\n      <td>...</td>\n      <td>0.0</td>\n      <td>0.0</td>\n      <td>1014759.0</td>\n      <td>1014759.0</td>\n      <td>1.275499e+05</td>\n      <td>0</td>\n      <td>0</td>\n      <td>0</td>\n      <td>0</td>\n      <td>0.0</td>\n    </tr>\n    <tr>\n      <th>4</th>\n      <td>3</td>\n      <td>1.000000</td>\n      <td>1.000000</td>\n      <td>0.000000</td>\n      <td>0.00000</td>\n      <td>0.0</td>\n      <td>0.000000</td>\n      <td>0.000000</td>\n      <td>0.000000</td>\n      <td>0.0</td>\n      <td>...</td>\n      <td>0.0</td>\n      <td>0.0</td>\n      <td>241719.0</td>\n      <td>241719.0</td>\n      <td>2.212473e+05</td>\n      <td>0</td>\n      <td>0</td>\n      <td>0</td>\n      <td>0</td>\n      <td>0.0</td>\n    </tr>\n    <tr>\n      <th>...</th>\n      <td>...</td>\n      <td>...</td>\n      <td>...</td>\n      <td>...</td>\n      <td>...</td>\n      <td>...</td>\n      <td>...</td>\n      <td>...</td>\n      <td>...</td>\n      <td>...</td>\n      <td>...</td>\n      <td>...</td>\n      <td>...</td>\n      <td>...</td>\n      <td>...</td>\n      <td>...</td>\n      <td>...</td>\n      <td>...</td>\n      <td>...</td>\n      <td>...</td>\n      <td>...</td>\n    </tr>\n    <tr>\n      <th>23901</th>\n      <td>3</td>\n      <td>0.690141</td>\n      <td>0.977016</td>\n      <td>4400.571429</td>\n      <td>1242.34238</td>\n      <td>0.0</td>\n      <td>1013.510067</td>\n      <td>1.166667</td>\n      <td>2.371287</td>\n      <td>0.0</td>\n      <td>...</td>\n      <td>0.0</td>\n      <td>2416208.0</td>\n      <td>3218731.0</td>\n      <td>3218731.0</td>\n      <td>2.361632e+06</td>\n      <td>63</td>\n      <td>479</td>\n      <td>0</td>\n      <td>2384</td>\n      <td>364459.0</td>\n    </tr>\n    <tr>\n      <th>23902</th>\n      <td>3</td>\n      <td>0.650000</td>\n      <td>0.608263</td>\n      <td>0.000000</td>\n      <td>0.00000</td>\n      <td>0.0</td>\n      <td>0.000000</td>\n      <td>0.000000</td>\n      <td>0.000000</td>\n      <td>0.0</td>\n      <td>...</td>\n      <td>0.0</td>\n      <td>0.0</td>\n      <td>928963.0</td>\n      <td>928963.0</td>\n      <td>5.041325e+05</td>\n      <td>0</td>\n      <td>0</td>\n      <td>0</td>\n      <td>0</td>\n      <td>22127.0</td>\n    </tr>\n    <tr>\n      <th>23903</th>\n      <td>6</td>\n      <td>0.600000</td>\n      <td>0.941020</td>\n      <td>0.000000</td>\n      <td>0.00000</td>\n      <td>0.0</td>\n      <td>0.000000</td>\n      <td>0.000000</td>\n      <td>0.000000</td>\n      <td>0.0</td>\n      <td>...</td>\n      <td>0.0</td>\n      <td>0.0</td>\n      <td>69080.0</td>\n      <td>69080.0</td>\n      <td>7.500171e+04</td>\n      <td>0</td>\n      <td>0</td>\n      <td>0</td>\n      <td>0</td>\n      <td>43676.0</td>\n    </tr>\n    <tr>\n      <th>23904</th>\n      <td>6</td>\n      <td>0.969767</td>\n      <td>0.998672</td>\n      <td>0.000000</td>\n      <td>0.00000</td>\n      <td>0.0</td>\n      <td>0.000000</td>\n      <td>0.000000</td>\n      <td>0.000000</td>\n      <td>0.0</td>\n      <td>...</td>\n      <td>0.0</td>\n      <td>0.0</td>\n      <td>262604.0</td>\n      <td>262604.0</td>\n      <td>3.333440e+05</td>\n      <td>0</td>\n      <td>0</td>\n      <td>0</td>\n      <td>0</td>\n      <td>0.0</td>\n    </tr>\n    <tr>\n      <th>23905</th>\n      <td>2</td>\n      <td>0.751111</td>\n      <td>0.668394</td>\n      <td>0.000000</td>\n      <td>0.00000</td>\n      <td>0.0</td>\n      <td>0.000000</td>\n      <td>0.000000</td>\n      <td>0.000000</td>\n      <td>0.0</td>\n      <td>...</td>\n      <td>0.0</td>\n      <td>0.0</td>\n      <td>332834.0</td>\n      <td>332834.0</td>\n      <td>2.724419e+05</td>\n      <td>0</td>\n      <td>0</td>\n      <td>0</td>\n      <td>0</td>\n      <td>0.0</td>\n    </tr>\n  </tbody>\n</table>\n<p>23906 rows × 104 columns</p>\n</div>"
     },
     "execution_count": 11,
     "metadata": {},
     "output_type": "execute_result"
    }
   ],
   "source": [
    "ori_train = ori_train.drop(['bad_value'], axis=1)\n",
    "train = train.drop(['bad_value'], axis=1)\n",
    "train"
   ],
   "metadata": {
    "collapsed": false
   }
  },
  {
   "cell_type": "code",
   "execution_count": 12,
   "outputs": [
    {
     "data": {
      "text/plain": "       AGE  atm_count_rate  atm_tx_rate  avg_amt_nontw_nonntd  \\\n0        4        1.000000     1.000000              0.000000   \n1        2        0.000000     0.000000              0.000000   \n2        4        1.000000     1.000000              0.000000   \n3        4        0.900000     0.969090              0.000000   \n4        3        1.000000     1.000000              0.000000   \n...    ...             ...          ...                   ...   \n23901    3        0.690141     0.977016           4400.571429   \n23902    3        0.650000     0.608263              0.000000   \n23903    6        0.600000     0.941020              0.000000   \n23904    6        0.969767     0.998672              0.000000   \n23905    2        0.751111     0.668394              0.000000   \n\n       avg_amt_nontw_ntd  avg_amt_tw_nonntd  avg_amt_tw_ntd  \\\n0              673.00000                0.0        0.000000   \n1                0.00000                0.0        0.000000   \n2                0.00000                0.0        0.000000   \n3                0.00000                0.0        0.000000   \n4                0.00000                0.0        0.000000   \n...                  ...                ...             ...   \n23901         1242.34238                0.0     1013.510067   \n23902            0.00000                0.0        0.000000   \n23903            0.00000                0.0        0.000000   \n23904            0.00000                0.0        0.000000   \n23905            0.00000                0.0        0.000000   \n\n       avg_freq_nontw_nonntd  avg_freq_nontw_ntd  avg_freq_tw_nonntd  ...  \\\n0                   0.000000            1.000000                 0.0  ...   \n1                   0.000000            0.000000                 0.0  ...   \n2                   0.000000            0.000000                 0.0  ...   \n3                   0.000000            0.000000                 0.0  ...   \n4                   0.000000            0.000000                 0.0  ...   \n...                      ...                 ...                 ...  ...   \n23901               1.166667            2.371287                 0.0  ...   \n23902               0.000000            0.000000                 0.0  ...   \n23903               0.000000            0.000000                 0.0  ...   \n23904               0.000000            0.000000                 0.0  ...   \n23905               0.000000            0.000000                 0.0  ...   \n\n       total_amt_tw_nonntd  total_amt_tw_ntd  total_asset  total_asset_x  \\\n0                      0.0               0.0     375576.0       375576.0   \n1                      0.0               0.0    2717416.0      2717416.0   \n2                      0.0               0.0     326517.0       326517.0   \n3                      0.0               0.0    1014759.0      1014759.0   \n4                      0.0               0.0     241719.0       241719.0   \n...                    ...               ...          ...            ...   \n23901                  0.0         2416208.0    3218731.0      3218731.0   \n23902                  0.0               0.0     928963.0       928963.0   \n23903                  0.0               0.0      69080.0        69080.0   \n23904                  0.0               0.0     262604.0       262604.0   \n23905                  0.0               0.0     332834.0       332834.0   \n\n       total_asset_y  total_freq_nontw_nonntd  total_freq_nontw_ntd  \\\n0       4.886652e+05                        0                     1   \n1       2.621840e+06                        0                     0   \n2       3.265170e+05                        0                     0   \n3       1.275499e+05                        0                     0   \n4       2.212473e+05                        0                     0   \n...              ...                      ...                   ...   \n23901   2.361632e+06                       63                   479   \n23902   5.041325e+05                        0                     0   \n23903   7.500171e+04                        0                     0   \n23904   3.333440e+05                        0                     0   \n23905   2.724419e+05                        0                     0   \n\n       total_freq_tw_nonntd  total_freq_tw_ntd  trade_sum  \n0                         0                  0        0.0  \n1                         0                  0        0.0  \n2                         0                  0        0.0  \n3                         0                  0        0.0  \n4                         0                  0        0.0  \n...                     ...                ...        ...  \n23901                     0               2384   364459.0  \n23902                     0                  0    22127.0  \n23903                     0                  0    43676.0  \n23904                     0                  0        0.0  \n23905                     0                  0        0.0  \n\n[23906 rows x 103 columns]",
      "text/html": "<div>\n<style scoped>\n    .dataframe tbody tr th:only-of-type {\n        vertical-align: middle;\n    }\n\n    .dataframe tbody tr th {\n        vertical-align: top;\n    }\n\n    .dataframe thead th {\n        text-align: right;\n    }\n</style>\n<table border=\"1\" class=\"dataframe\">\n  <thead>\n    <tr style=\"text-align: right;\">\n      <th></th>\n      <th>AGE</th>\n      <th>atm_count_rate</th>\n      <th>atm_tx_rate</th>\n      <th>avg_amt_nontw_nonntd</th>\n      <th>avg_amt_nontw_ntd</th>\n      <th>avg_amt_tw_nonntd</th>\n      <th>avg_amt_tw_ntd</th>\n      <th>avg_freq_nontw_nonntd</th>\n      <th>avg_freq_nontw_ntd</th>\n      <th>avg_freq_tw_nonntd</th>\n      <th>...</th>\n      <th>total_amt_tw_nonntd</th>\n      <th>total_amt_tw_ntd</th>\n      <th>total_asset</th>\n      <th>total_asset_x</th>\n      <th>total_asset_y</th>\n      <th>total_freq_nontw_nonntd</th>\n      <th>total_freq_nontw_ntd</th>\n      <th>total_freq_tw_nonntd</th>\n      <th>total_freq_tw_ntd</th>\n      <th>trade_sum</th>\n    </tr>\n  </thead>\n  <tbody>\n    <tr>\n      <th>0</th>\n      <td>4</td>\n      <td>1.000000</td>\n      <td>1.000000</td>\n      <td>0.000000</td>\n      <td>673.00000</td>\n      <td>0.0</td>\n      <td>0.000000</td>\n      <td>0.000000</td>\n      <td>1.000000</td>\n      <td>0.0</td>\n      <td>...</td>\n      <td>0.0</td>\n      <td>0.0</td>\n      <td>375576.0</td>\n      <td>375576.0</td>\n      <td>4.886652e+05</td>\n      <td>0</td>\n      <td>1</td>\n      <td>0</td>\n      <td>0</td>\n      <td>0.0</td>\n    </tr>\n    <tr>\n      <th>1</th>\n      <td>2</td>\n      <td>0.000000</td>\n      <td>0.000000</td>\n      <td>0.000000</td>\n      <td>0.00000</td>\n      <td>0.0</td>\n      <td>0.000000</td>\n      <td>0.000000</td>\n      <td>0.000000</td>\n      <td>0.0</td>\n      <td>...</td>\n      <td>0.0</td>\n      <td>0.0</td>\n      <td>2717416.0</td>\n      <td>2717416.0</td>\n      <td>2.621840e+06</td>\n      <td>0</td>\n      <td>0</td>\n      <td>0</td>\n      <td>0</td>\n      <td>0.0</td>\n    </tr>\n    <tr>\n      <th>2</th>\n      <td>4</td>\n      <td>1.000000</td>\n      <td>1.000000</td>\n      <td>0.000000</td>\n      <td>0.00000</td>\n      <td>0.0</td>\n      <td>0.000000</td>\n      <td>0.000000</td>\n      <td>0.000000</td>\n      <td>0.0</td>\n      <td>...</td>\n      <td>0.0</td>\n      <td>0.0</td>\n      <td>326517.0</td>\n      <td>326517.0</td>\n      <td>3.265170e+05</td>\n      <td>0</td>\n      <td>0</td>\n      <td>0</td>\n      <td>0</td>\n      <td>0.0</td>\n    </tr>\n    <tr>\n      <th>3</th>\n      <td>4</td>\n      <td>0.900000</td>\n      <td>0.969090</td>\n      <td>0.000000</td>\n      <td>0.00000</td>\n      <td>0.0</td>\n      <td>0.000000</td>\n      <td>0.000000</td>\n      <td>0.000000</td>\n      <td>0.0</td>\n      <td>...</td>\n      <td>0.0</td>\n      <td>0.0</td>\n      <td>1014759.0</td>\n      <td>1014759.0</td>\n      <td>1.275499e+05</td>\n      <td>0</td>\n      <td>0</td>\n      <td>0</td>\n      <td>0</td>\n      <td>0.0</td>\n    </tr>\n    <tr>\n      <th>4</th>\n      <td>3</td>\n      <td>1.000000</td>\n      <td>1.000000</td>\n      <td>0.000000</td>\n      <td>0.00000</td>\n      <td>0.0</td>\n      <td>0.000000</td>\n      <td>0.000000</td>\n      <td>0.000000</td>\n      <td>0.0</td>\n      <td>...</td>\n      <td>0.0</td>\n      <td>0.0</td>\n      <td>241719.0</td>\n      <td>241719.0</td>\n      <td>2.212473e+05</td>\n      <td>0</td>\n      <td>0</td>\n      <td>0</td>\n      <td>0</td>\n      <td>0.0</td>\n    </tr>\n    <tr>\n      <th>...</th>\n      <td>...</td>\n      <td>...</td>\n      <td>...</td>\n      <td>...</td>\n      <td>...</td>\n      <td>...</td>\n      <td>...</td>\n      <td>...</td>\n      <td>...</td>\n      <td>...</td>\n      <td>...</td>\n      <td>...</td>\n      <td>...</td>\n      <td>...</td>\n      <td>...</td>\n      <td>...</td>\n      <td>...</td>\n      <td>...</td>\n      <td>...</td>\n      <td>...</td>\n      <td>...</td>\n    </tr>\n    <tr>\n      <th>23901</th>\n      <td>3</td>\n      <td>0.690141</td>\n      <td>0.977016</td>\n      <td>4400.571429</td>\n      <td>1242.34238</td>\n      <td>0.0</td>\n      <td>1013.510067</td>\n      <td>1.166667</td>\n      <td>2.371287</td>\n      <td>0.0</td>\n      <td>...</td>\n      <td>0.0</td>\n      <td>2416208.0</td>\n      <td>3218731.0</td>\n      <td>3218731.0</td>\n      <td>2.361632e+06</td>\n      <td>63</td>\n      <td>479</td>\n      <td>0</td>\n      <td>2384</td>\n      <td>364459.0</td>\n    </tr>\n    <tr>\n      <th>23902</th>\n      <td>3</td>\n      <td>0.650000</td>\n      <td>0.608263</td>\n      <td>0.000000</td>\n      <td>0.00000</td>\n      <td>0.0</td>\n      <td>0.000000</td>\n      <td>0.000000</td>\n      <td>0.000000</td>\n      <td>0.0</td>\n      <td>...</td>\n      <td>0.0</td>\n      <td>0.0</td>\n      <td>928963.0</td>\n      <td>928963.0</td>\n      <td>5.041325e+05</td>\n      <td>0</td>\n      <td>0</td>\n      <td>0</td>\n      <td>0</td>\n      <td>22127.0</td>\n    </tr>\n    <tr>\n      <th>23903</th>\n      <td>6</td>\n      <td>0.600000</td>\n      <td>0.941020</td>\n      <td>0.000000</td>\n      <td>0.00000</td>\n      <td>0.0</td>\n      <td>0.000000</td>\n      <td>0.000000</td>\n      <td>0.000000</td>\n      <td>0.0</td>\n      <td>...</td>\n      <td>0.0</td>\n      <td>0.0</td>\n      <td>69080.0</td>\n      <td>69080.0</td>\n      <td>7.500171e+04</td>\n      <td>0</td>\n      <td>0</td>\n      <td>0</td>\n      <td>0</td>\n      <td>43676.0</td>\n    </tr>\n    <tr>\n      <th>23904</th>\n      <td>6</td>\n      <td>0.969767</td>\n      <td>0.998672</td>\n      <td>0.000000</td>\n      <td>0.00000</td>\n      <td>0.0</td>\n      <td>0.000000</td>\n      <td>0.000000</td>\n      <td>0.000000</td>\n      <td>0.0</td>\n      <td>...</td>\n      <td>0.0</td>\n      <td>0.0</td>\n      <td>262604.0</td>\n      <td>262604.0</td>\n      <td>3.333440e+05</td>\n      <td>0</td>\n      <td>0</td>\n      <td>0</td>\n      <td>0</td>\n      <td>0.0</td>\n    </tr>\n    <tr>\n      <th>23905</th>\n      <td>2</td>\n      <td>0.751111</td>\n      <td>0.668394</td>\n      <td>0.000000</td>\n      <td>0.00000</td>\n      <td>0.0</td>\n      <td>0.000000</td>\n      <td>0.000000</td>\n      <td>0.000000</td>\n      <td>0.0</td>\n      <td>...</td>\n      <td>0.0</td>\n      <td>0.0</td>\n      <td>332834.0</td>\n      <td>332834.0</td>\n      <td>2.724419e+05</td>\n      <td>0</td>\n      <td>0</td>\n      <td>0</td>\n      <td>0</td>\n      <td>0.0</td>\n    </tr>\n  </tbody>\n</table>\n<p>23906 rows × 103 columns</p>\n</div>"
     },
     "execution_count": 12,
     "metadata": {},
     "output_type": "execute_result"
    }
   ],
   "source": [
    "# Training Dataset\n",
    "ori_train_x = ori_train.loc[:, train.columns != 'sar_flag']\n",
    "ori_train_y = ori_train.loc[:, train.columns == 'sar_flag']\n",
    "train_x = train.loc[:, train.columns != 'sar_flag']\n",
    "train_y = train.loc[:, train.columns == 'sar_flag']\n",
    "train_x"
   ],
   "metadata": {
    "collapsed": false
   }
  },
  {
   "cell_type": "code",
   "execution_count": 13,
   "outputs": [],
   "source": [
    "# Normalize function\n",
    "from sklearn import preprocessing\n",
    "\n",
    "def normalize_mms(input_df):\n",
    "    scaler = preprocessing.MinMaxScaler()\n",
    "    result = scaler.fit_transform(input_df)\n",
    "    return pd.DataFrame(result, index=input_df.index, columns=input_df.columns)"
   ],
   "metadata": {
    "collapsed": false
   }
  },
  {
   "cell_type": "code",
   "execution_count": 14,
   "outputs": [
    {
     "data": {
      "text/plain": "       AGE  atm_count_rate  atm_tx_rate  avg_amt_nontw_nonntd  \\\n0      0.4        1.000000     1.000000              0.000000   \n1      0.2        0.000000     0.000000              0.000000   \n2      0.4        1.000000     1.000000              0.000000   \n3      0.4        0.900000     0.969090              0.000000   \n4      0.3        1.000000     1.000000              0.000000   \n...    ...             ...          ...                   ...   \n23901  0.3        0.690141     0.977016              0.001785   \n23902  0.3        0.650000     0.608263              0.000000   \n23903  0.6        0.600000     0.941020              0.000000   \n23904  0.6        0.969767     0.998672              0.000000   \n23905  0.2        0.751111     0.668394              0.000000   \n\n       avg_amt_nontw_ntd  avg_amt_tw_nonntd  avg_amt_tw_ntd  \\\n0               0.004125                0.0        0.000000   \n1               0.000000                0.0        0.000000   \n2               0.000000                0.0        0.000000   \n3               0.000000                0.0        0.000000   \n4               0.000000                0.0        0.000000   \n...                  ...                ...             ...   \n23901           0.007614                0.0        0.000024   \n23902           0.000000                0.0        0.000000   \n23903           0.000000                0.0        0.000000   \n23904           0.000000                0.0        0.000000   \n23905           0.000000                0.0        0.000000   \n\n       avg_freq_nontw_nonntd  avg_freq_nontw_ntd  avg_freq_tw_nonntd  ...  \\\n0                    0.00000            0.038462                 0.0  ...   \n1                    0.00000            0.000000                 0.0  ...   \n2                    0.00000            0.000000                 0.0  ...   \n3                    0.00000            0.000000                 0.0  ...   \n4                    0.00000            0.000000                 0.0  ...   \n...                      ...                 ...                 ...  ...   \n23901                0.00334            0.091203                 0.0  ...   \n23902                0.00000            0.000000                 0.0  ...   \n23903                0.00000            0.000000                 0.0  ...   \n23904                0.00000            0.000000                 0.0  ...   \n23905                0.00000            0.000000                 0.0  ...   \n\n       total_amt_tw_nonntd  total_amt_tw_ntd  total_asset  total_asset_x  \\\n0                      0.0          0.000000     0.005085       0.005085   \n1                      0.0          0.000000     0.036790       0.036790   \n2                      0.0          0.000000     0.004421       0.004421   \n3                      0.0          0.000000     0.013738       0.013738   \n4                      0.0          0.000000     0.003273       0.003273   \n...                    ...               ...          ...            ...   \n23901                  0.0          0.018918     0.043577       0.043577   \n23902                  0.0          0.000000     0.012577       0.012577   \n23903                  0.0          0.000000     0.000935       0.000935   \n23904                  0.0          0.000000     0.003555       0.003555   \n23905                  0.0          0.000000     0.004506       0.004506   \n\n       total_asset_y  total_freq_nontw_nonntd  total_freq_nontw_ntd  \\\n0           0.009321                 0.000000              0.000402   \n1           0.050010                 0.000000              0.000000   \n2           0.006228                 0.000000              0.000000   \n3           0.002433                 0.000000              0.000000   \n4           0.004220                 0.000000              0.000000   \n...              ...                      ...                   ...   \n23901       0.045047                 0.002654              0.192679   \n23902       0.009616                 0.000000              0.000000   \n23903       0.001431                 0.000000              0.000000   \n23904       0.006358                 0.000000              0.000000   \n23905       0.005197                 0.000000              0.000000   \n\n       total_freq_tw_nonntd  total_freq_tw_ntd  trade_sum  \n0                       0.0            0.00000   0.000000  \n1                       0.0            0.00000   0.000000  \n2                       0.0            0.00000   0.000000  \n3                       0.0            0.00000   0.000000  \n4                       0.0            0.00000   0.000000  \n...                     ...                ...        ...  \n23901                   0.0            0.20534   0.008875  \n23902                   0.0            0.00000   0.000539  \n23903                   0.0            0.00000   0.001064  \n23904                   0.0            0.00000   0.000000  \n23905                   0.0            0.00000   0.000000  \n\n[23906 rows x 103 columns]",
      "text/html": "<div>\n<style scoped>\n    .dataframe tbody tr th:only-of-type {\n        vertical-align: middle;\n    }\n\n    .dataframe tbody tr th {\n        vertical-align: top;\n    }\n\n    .dataframe thead th {\n        text-align: right;\n    }\n</style>\n<table border=\"1\" class=\"dataframe\">\n  <thead>\n    <tr style=\"text-align: right;\">\n      <th></th>\n      <th>AGE</th>\n      <th>atm_count_rate</th>\n      <th>atm_tx_rate</th>\n      <th>avg_amt_nontw_nonntd</th>\n      <th>avg_amt_nontw_ntd</th>\n      <th>avg_amt_tw_nonntd</th>\n      <th>avg_amt_tw_ntd</th>\n      <th>avg_freq_nontw_nonntd</th>\n      <th>avg_freq_nontw_ntd</th>\n      <th>avg_freq_tw_nonntd</th>\n      <th>...</th>\n      <th>total_amt_tw_nonntd</th>\n      <th>total_amt_tw_ntd</th>\n      <th>total_asset</th>\n      <th>total_asset_x</th>\n      <th>total_asset_y</th>\n      <th>total_freq_nontw_nonntd</th>\n      <th>total_freq_nontw_ntd</th>\n      <th>total_freq_tw_nonntd</th>\n      <th>total_freq_tw_ntd</th>\n      <th>trade_sum</th>\n    </tr>\n  </thead>\n  <tbody>\n    <tr>\n      <th>0</th>\n      <td>0.4</td>\n      <td>1.000000</td>\n      <td>1.000000</td>\n      <td>0.000000</td>\n      <td>0.004125</td>\n      <td>0.0</td>\n      <td>0.000000</td>\n      <td>0.00000</td>\n      <td>0.038462</td>\n      <td>0.0</td>\n      <td>...</td>\n      <td>0.0</td>\n      <td>0.000000</td>\n      <td>0.005085</td>\n      <td>0.005085</td>\n      <td>0.009321</td>\n      <td>0.000000</td>\n      <td>0.000402</td>\n      <td>0.0</td>\n      <td>0.00000</td>\n      <td>0.000000</td>\n    </tr>\n    <tr>\n      <th>1</th>\n      <td>0.2</td>\n      <td>0.000000</td>\n      <td>0.000000</td>\n      <td>0.000000</td>\n      <td>0.000000</td>\n      <td>0.0</td>\n      <td>0.000000</td>\n      <td>0.00000</td>\n      <td>0.000000</td>\n      <td>0.0</td>\n      <td>...</td>\n      <td>0.0</td>\n      <td>0.000000</td>\n      <td>0.036790</td>\n      <td>0.036790</td>\n      <td>0.050010</td>\n      <td>0.000000</td>\n      <td>0.000000</td>\n      <td>0.0</td>\n      <td>0.00000</td>\n      <td>0.000000</td>\n    </tr>\n    <tr>\n      <th>2</th>\n      <td>0.4</td>\n      <td>1.000000</td>\n      <td>1.000000</td>\n      <td>0.000000</td>\n      <td>0.000000</td>\n      <td>0.0</td>\n      <td>0.000000</td>\n      <td>0.00000</td>\n      <td>0.000000</td>\n      <td>0.0</td>\n      <td>...</td>\n      <td>0.0</td>\n      <td>0.000000</td>\n      <td>0.004421</td>\n      <td>0.004421</td>\n      <td>0.006228</td>\n      <td>0.000000</td>\n      <td>0.000000</td>\n      <td>0.0</td>\n      <td>0.00000</td>\n      <td>0.000000</td>\n    </tr>\n    <tr>\n      <th>3</th>\n      <td>0.4</td>\n      <td>0.900000</td>\n      <td>0.969090</td>\n      <td>0.000000</td>\n      <td>0.000000</td>\n      <td>0.0</td>\n      <td>0.000000</td>\n      <td>0.00000</td>\n      <td>0.000000</td>\n      <td>0.0</td>\n      <td>...</td>\n      <td>0.0</td>\n      <td>0.000000</td>\n      <td>0.013738</td>\n      <td>0.013738</td>\n      <td>0.002433</td>\n      <td>0.000000</td>\n      <td>0.000000</td>\n      <td>0.0</td>\n      <td>0.00000</td>\n      <td>0.000000</td>\n    </tr>\n    <tr>\n      <th>4</th>\n      <td>0.3</td>\n      <td>1.000000</td>\n      <td>1.000000</td>\n      <td>0.000000</td>\n      <td>0.000000</td>\n      <td>0.0</td>\n      <td>0.000000</td>\n      <td>0.00000</td>\n      <td>0.000000</td>\n      <td>0.0</td>\n      <td>...</td>\n      <td>0.0</td>\n      <td>0.000000</td>\n      <td>0.003273</td>\n      <td>0.003273</td>\n      <td>0.004220</td>\n      <td>0.000000</td>\n      <td>0.000000</td>\n      <td>0.0</td>\n      <td>0.00000</td>\n      <td>0.000000</td>\n    </tr>\n    <tr>\n      <th>...</th>\n      <td>...</td>\n      <td>...</td>\n      <td>...</td>\n      <td>...</td>\n      <td>...</td>\n      <td>...</td>\n      <td>...</td>\n      <td>...</td>\n      <td>...</td>\n      <td>...</td>\n      <td>...</td>\n      <td>...</td>\n      <td>...</td>\n      <td>...</td>\n      <td>...</td>\n      <td>...</td>\n      <td>...</td>\n      <td>...</td>\n      <td>...</td>\n      <td>...</td>\n      <td>...</td>\n    </tr>\n    <tr>\n      <th>23901</th>\n      <td>0.3</td>\n      <td>0.690141</td>\n      <td>0.977016</td>\n      <td>0.001785</td>\n      <td>0.007614</td>\n      <td>0.0</td>\n      <td>0.000024</td>\n      <td>0.00334</td>\n      <td>0.091203</td>\n      <td>0.0</td>\n      <td>...</td>\n      <td>0.0</td>\n      <td>0.018918</td>\n      <td>0.043577</td>\n      <td>0.043577</td>\n      <td>0.045047</td>\n      <td>0.002654</td>\n      <td>0.192679</td>\n      <td>0.0</td>\n      <td>0.20534</td>\n      <td>0.008875</td>\n    </tr>\n    <tr>\n      <th>23902</th>\n      <td>0.3</td>\n      <td>0.650000</td>\n      <td>0.608263</td>\n      <td>0.000000</td>\n      <td>0.000000</td>\n      <td>0.0</td>\n      <td>0.000000</td>\n      <td>0.00000</td>\n      <td>0.000000</td>\n      <td>0.0</td>\n      <td>...</td>\n      <td>0.0</td>\n      <td>0.000000</td>\n      <td>0.012577</td>\n      <td>0.012577</td>\n      <td>0.009616</td>\n      <td>0.000000</td>\n      <td>0.000000</td>\n      <td>0.0</td>\n      <td>0.00000</td>\n      <td>0.000539</td>\n    </tr>\n    <tr>\n      <th>23903</th>\n      <td>0.6</td>\n      <td>0.600000</td>\n      <td>0.941020</td>\n      <td>0.000000</td>\n      <td>0.000000</td>\n      <td>0.0</td>\n      <td>0.000000</td>\n      <td>0.00000</td>\n      <td>0.000000</td>\n      <td>0.0</td>\n      <td>...</td>\n      <td>0.0</td>\n      <td>0.000000</td>\n      <td>0.000935</td>\n      <td>0.000935</td>\n      <td>0.001431</td>\n      <td>0.000000</td>\n      <td>0.000000</td>\n      <td>0.0</td>\n      <td>0.00000</td>\n      <td>0.001064</td>\n    </tr>\n    <tr>\n      <th>23904</th>\n      <td>0.6</td>\n      <td>0.969767</td>\n      <td>0.998672</td>\n      <td>0.000000</td>\n      <td>0.000000</td>\n      <td>0.0</td>\n      <td>0.000000</td>\n      <td>0.00000</td>\n      <td>0.000000</td>\n      <td>0.0</td>\n      <td>...</td>\n      <td>0.0</td>\n      <td>0.000000</td>\n      <td>0.003555</td>\n      <td>0.003555</td>\n      <td>0.006358</td>\n      <td>0.000000</td>\n      <td>0.000000</td>\n      <td>0.0</td>\n      <td>0.00000</td>\n      <td>0.000000</td>\n    </tr>\n    <tr>\n      <th>23905</th>\n      <td>0.2</td>\n      <td>0.751111</td>\n      <td>0.668394</td>\n      <td>0.000000</td>\n      <td>0.000000</td>\n      <td>0.0</td>\n      <td>0.000000</td>\n      <td>0.00000</td>\n      <td>0.000000</td>\n      <td>0.0</td>\n      <td>...</td>\n      <td>0.0</td>\n      <td>0.000000</td>\n      <td>0.004506</td>\n      <td>0.004506</td>\n      <td>0.005197</td>\n      <td>0.000000</td>\n      <td>0.000000</td>\n      <td>0.0</td>\n      <td>0.00000</td>\n      <td>0.000000</td>\n    </tr>\n  </tbody>\n</table>\n<p>23906 rows × 103 columns</p>\n</div>"
     },
     "execution_count": 14,
     "metadata": {},
     "output_type": "execute_result"
    }
   ],
   "source": [
    "train_x = normalize_mms(train_x)\n",
    "train_x"
   ],
   "metadata": {
    "collapsed": false
   }
  },
  {
   "cell_type": "code",
   "execution_count": 15,
   "outputs": [
    {
     "name": "stdout",
     "output_type": "stream",
     "text": [
      "0 AGE\n",
      "1 atm_count_rate\n",
      "2 atm_tx_rate\n",
      "3 avg_amt_nontw_nonntd\n",
      "4 avg_amt_nontw_ntd\n",
      "5 avg_amt_tw_nonntd\n",
      "6 avg_amt_tw_ntd\n",
      "7 avg_freq_nontw_nonntd\n",
      "8 avg_freq_nontw_ntd\n",
      "9 avg_freq_tw_nonntd\n",
      "10 avg_freq_tw_ntd\n",
      "11 cb_count_rate\n",
      "12 cb_tx_rate\n",
      "13 count_assets\n",
      "14 cr_1_avg_tx\n",
      "15 cr_1_count_tx\n",
      "16 cr_1_std_tx\n",
      "17 cr_1_total_tx\n",
      "18 cr_1_tx_per_day\n",
      "19 cr_2_avg_tx\n",
      "20 cr_2_count_tx\n",
      "21 cr_2_std_tx\n",
      "22 cr_2_total_tx\n",
      "23 cr_2_tx_per_day\n",
      "24 cr_3_avg_tx\n",
      "25 cr_3_count_tx\n",
      "26 cr_3_std_tx\n",
      "27 cr_3_total_tx\n",
      "28 cr_3_tx_per_day\n",
      "29 cucah_quarter1_mean\n",
      "30 cucah_quarter1_std\n",
      "31 cucah_quarter1_sum\n",
      "32 cucah_quarter2_mean\n",
      "33 cucah_quarter2_std\n",
      "34 cucah_quarter2_sum\n",
      "35 cucah_quarter3_mean\n",
      "36 cucah_quarter3_std\n",
      "37 cucah_quarter3_sum\n",
      "38 cucah_quarter4_mean\n",
      "39 cucah_quarter4_std\n",
      "40 cucah_quarter4_sum\n",
      "41 cucah_total_mean\n",
      "42 cucah_total_std\n",
      "43 cucah_total_sum\n",
      "44 db_1_avg_tx\n",
      "45 db_1_count_tx\n",
      "46 db_1_std_tx\n",
      "47 db_1_total_tx\n",
      "48 db_1_tx_per_day\n",
      "49 db_2_avg_tx\n",
      "50 db_2_count_tx\n",
      "51 db_2_std_tx\n",
      "52 db_2_total_tx\n",
      "53 db_2_tx_per_day\n",
      "54 db_3_avg_tx\n",
      "55 db_3_count_tx\n",
      "56 db_3_std_tx\n",
      "57 db_3_total_tx\n",
      "58 db_3_tx_per_day\n",
      "59 occupation_code_0\n",
      "60 occupation_code_1\n",
      "61 occupation_code_10\n",
      "62 occupation_code_11\n",
      "63 occupation_code_12\n",
      "64 occupation_code_13\n",
      "65 occupation_code_14\n",
      "66 occupation_code_15\n",
      "67 occupation_code_16\n",
      "68 occupation_code_17\n",
      "69 occupation_code_18\n",
      "70 occupation_code_19\n",
      "71 occupation_code_2\n",
      "72 occupation_code_20\n",
      "73 occupation_code_3\n",
      "74 occupation_code_4\n",
      "75 occupation_code_5\n",
      "76 occupation_code_6\n",
      "77 occupation_code_7\n",
      "78 occupation_code_8\n",
      "79 occupation_code_9\n",
      "80 ratio\n",
      "81 risk_rank\n",
      "82 sd_amt_nontw_nonntd\n",
      "83 sd_amt_nontw_ntd\n",
      "84 sd_amt_tw_nonntd\n",
      "85 sd_amt_tw_ntd\n",
      "86 sd_freq_nontw_nonntd\n",
      "87 sd_freq_nontw_ntd\n",
      "88 sd_freq_tw_nonntd\n",
      "89 sd_freq_tw_ntd\n",
      "90 sum_assets\n",
      "91 total_amt_nontw_nonntd\n",
      "92 total_amt_nontw_ntd\n",
      "93 total_amt_tw_nonntd\n",
      "94 total_amt_tw_ntd\n",
      "95 total_asset\n",
      "96 total_asset_x\n",
      "97 total_asset_y\n",
      "98 total_freq_nontw_nonntd\n",
      "99 total_freq_nontw_ntd\n",
      "100 total_freq_tw_nonntd\n",
      "101 total_freq_tw_ntd\n",
      "102 trade_sum\n"
     ]
    }
   ],
   "source": [
    "# View Categorial Feature\n",
    "attribute_list = list(train_x.columns)\n",
    "for i, v in enumerate(attribute_list):\n",
    "    print(f'{i} {v}')"
   ],
   "metadata": {
    "collapsed": false
   }
  },
  {
   "cell_type": "code",
   "execution_count": 16,
   "outputs": [
    {
     "data": {
      "text/plain": "[0,\n 59,\n 60,\n 61,\n 62,\n 63,\n 64,\n 65,\n 66,\n 67,\n 68,\n 69,\n 70,\n 71,\n 72,\n 73,\n 74,\n 75,\n 76,\n 77,\n 78,\n 79]"
     },
     "execution_count": 16,
     "metadata": {},
     "output_type": "execute_result"
    }
   ],
   "source": [
    "cf_index = [0] + list(range(59,80))\n",
    "cf_index"
   ],
   "metadata": {
    "collapsed": false
   }
  },
  {
   "cell_type": "code",
   "execution_count": 17,
   "outputs": [],
   "source": [
    "smote = SMOTE(random_state=42)\n",
    "smn = SMOTENC(categorical_features=cf_index)\n",
    "smt = SMOTETomek(smote=smn, random_state=42)\n",
    "ada = ADASYN(random_state=42)\n",
    "sm_x, sm_y = ada.fit_resample(train_x, train_y)\n",
    "sm1_x, sm1_y = smote.fit_resample(train_x, train_y)\n",
    "sm2_x, sm2_y = smt.fit_resample(train_x, train_y)\n",
    "\n",
    "#sm = adasyn, sm1 = smote, sm2 = smotetomek"
   ],
   "metadata": {
    "collapsed": false
   }
  },
  {
   "cell_type": "code",
   "execution_count": 18,
   "outputs": [],
   "source": [
    "LR = LogisticRegression(random_state=42)\n",
    "RF = RandomForestClassifier(random_state=42)"
   ],
   "metadata": {
    "collapsed": false
   }
  },
  {
   "cell_type": "code",
   "execution_count": 19,
   "outputs": [
    {
     "data": {
      "text/plain": "           AGE  atm_count_rate  atm_tx_rate  avg_amt_nontw_nonntd  \\\n0      0.40000        1.000000     1.000000                   0.0   \n1      0.20000        0.000000     0.000000                   0.0   \n2      0.40000        1.000000     1.000000                   0.0   \n3      0.40000        0.900000     0.969090                   0.0   \n4      0.30000        1.000000     1.000000                   0.0   \n...        ...             ...          ...                   ...   \n47292  0.20000        0.212815     0.361712                   0.0   \n47293  0.20000        0.323894     0.400762                   0.0   \n47294  0.20000        0.469377     0.637090                   0.0   \n47295  0.20000        0.417370     0.581269                   0.0   \n47296  0.39499        0.492803     0.185154                   0.0   \n\n       avg_amt_nontw_ntd  avg_amt_tw_nonntd  avg_amt_tw_ntd  \\\n0           4.124798e-03                0.0    0.000000e+00   \n1           0.000000e+00                0.0    0.000000e+00   \n2           0.000000e+00                0.0    0.000000e+00   \n3           0.000000e+00                0.0    0.000000e+00   \n4           0.000000e+00                0.0    0.000000e+00   \n...                  ...                ...             ...   \n47292       1.753813e-07                0.0    5.973528e-08   \n47293       0.000000e+00                0.0    0.000000e+00   \n47294       3.505811e-04                0.0    1.194087e-04   \n47295       2.795516e-04                0.0    9.521594e-05   \n47296       0.000000e+00                0.0    0.000000e+00   \n\n       avg_freq_nontw_nonntd  avg_freq_nontw_ntd  avg_freq_tw_nonntd  ...  \\\n0                        0.0            0.038462                 0.0  ...   \n1                        0.0            0.000000                 0.0  ...   \n2                        0.0            0.000000                 0.0  ...   \n3                        0.0            0.000000                 0.0  ...   \n4                        0.0            0.000000                 0.0  ...   \n...                      ...                 ...                 ...  ...   \n47292                    0.0            0.000012                 0.0  ...   \n47293                    0.0            0.000000                 0.0  ...   \n47294                    0.0            0.024176                 0.0  ...   \n47295                    0.0            0.019278                 0.0  ...   \n47296                    0.0            0.000000                 0.0  ...   \n\n       total_amt_tw_nonntd  total_amt_tw_ntd  total_asset  total_asset_x  \\\n0                      0.0      0.000000e+00     0.005085       0.005085   \n1                      0.0      0.000000e+00     0.036790       0.036790   \n2                      0.0      0.000000e+00     0.004421       0.004421   \n3                      0.0      0.000000e+00     0.013738       0.013738   \n4                      0.0      0.000000e+00     0.003273       0.003273   \n...                    ...               ...          ...            ...   \n47292                  0.0      5.177058e-07     0.001917       0.001917   \n47293                  0.0      0.000000e+00     0.000595       0.000595   \n47294                  0.0      1.034876e-03     0.013702       0.013702   \n47295                  0.0      8.252048e-04     0.011313       0.011313   \n47296                  0.0      0.000000e+00     0.025310       0.025310   \n\n       total_asset_y  total_freq_nontw_nonntd  total_freq_nontw_ntd  \\\n0           0.009321                      0.0          4.022526e-04   \n1           0.050010                      0.0          0.000000e+00   \n2           0.006228                      0.0          0.000000e+00   \n3           0.002433                      0.0          0.000000e+00   \n4           0.004220                      0.0          0.000000e+00   \n...              ...                      ...                   ...   \n47292       0.002701                      0.0          1.264891e-07   \n47293       0.000839                      0.0          0.000000e+00   \n47294       0.019305                      0.0          2.528473e-04   \n47295       0.015939                      0.0          2.016192e-04   \n47296       0.035660                      0.0          0.000000e+00   \n\n       total_freq_tw_nonntd  total_freq_tw_ntd     trade_sum  \n0                       0.0       0.000000e+00  0.000000e+00  \n1                       0.0       0.000000e+00  0.000000e+00  \n2                       0.0       0.000000e+00  0.000000e+00  \n3                       0.0       0.000000e+00  0.000000e+00  \n4                       0.0       0.000000e+00  0.000000e+00  \n...                     ...                ...           ...  \n47292                   0.0       7.041990e-07  3.750706e-08  \n47293                   0.0       0.000000e+00  0.000000e+00  \n47294                   0.0       1.407669e-03  7.497529e-05  \n47295                   0.0       1.122468e-03  5.978493e-05  \n47296                   0.0       0.000000e+00  0.000000e+00  \n\n[47297 rows x 103 columns]",
      "text/html": "<div>\n<style scoped>\n    .dataframe tbody tr th:only-of-type {\n        vertical-align: middle;\n    }\n\n    .dataframe tbody tr th {\n        vertical-align: top;\n    }\n\n    .dataframe thead th {\n        text-align: right;\n    }\n</style>\n<table border=\"1\" class=\"dataframe\">\n  <thead>\n    <tr style=\"text-align: right;\">\n      <th></th>\n      <th>AGE</th>\n      <th>atm_count_rate</th>\n      <th>atm_tx_rate</th>\n      <th>avg_amt_nontw_nonntd</th>\n      <th>avg_amt_nontw_ntd</th>\n      <th>avg_amt_tw_nonntd</th>\n      <th>avg_amt_tw_ntd</th>\n      <th>avg_freq_nontw_nonntd</th>\n      <th>avg_freq_nontw_ntd</th>\n      <th>avg_freq_tw_nonntd</th>\n      <th>...</th>\n      <th>total_amt_tw_nonntd</th>\n      <th>total_amt_tw_ntd</th>\n      <th>total_asset</th>\n      <th>total_asset_x</th>\n      <th>total_asset_y</th>\n      <th>total_freq_nontw_nonntd</th>\n      <th>total_freq_nontw_ntd</th>\n      <th>total_freq_tw_nonntd</th>\n      <th>total_freq_tw_ntd</th>\n      <th>trade_sum</th>\n    </tr>\n  </thead>\n  <tbody>\n    <tr>\n      <th>0</th>\n      <td>0.40000</td>\n      <td>1.000000</td>\n      <td>1.000000</td>\n      <td>0.0</td>\n      <td>4.124798e-03</td>\n      <td>0.0</td>\n      <td>0.000000e+00</td>\n      <td>0.0</td>\n      <td>0.038462</td>\n      <td>0.0</td>\n      <td>...</td>\n      <td>0.0</td>\n      <td>0.000000e+00</td>\n      <td>0.005085</td>\n      <td>0.005085</td>\n      <td>0.009321</td>\n      <td>0.0</td>\n      <td>4.022526e-04</td>\n      <td>0.0</td>\n      <td>0.000000e+00</td>\n      <td>0.000000e+00</td>\n    </tr>\n    <tr>\n      <th>1</th>\n      <td>0.20000</td>\n      <td>0.000000</td>\n      <td>0.000000</td>\n      <td>0.0</td>\n      <td>0.000000e+00</td>\n      <td>0.0</td>\n      <td>0.000000e+00</td>\n      <td>0.0</td>\n      <td>0.000000</td>\n      <td>0.0</td>\n      <td>...</td>\n      <td>0.0</td>\n      <td>0.000000e+00</td>\n      <td>0.036790</td>\n      <td>0.036790</td>\n      <td>0.050010</td>\n      <td>0.0</td>\n      <td>0.000000e+00</td>\n      <td>0.0</td>\n      <td>0.000000e+00</td>\n      <td>0.000000e+00</td>\n    </tr>\n    <tr>\n      <th>2</th>\n      <td>0.40000</td>\n      <td>1.000000</td>\n      <td>1.000000</td>\n      <td>0.0</td>\n      <td>0.000000e+00</td>\n      <td>0.0</td>\n      <td>0.000000e+00</td>\n      <td>0.0</td>\n      <td>0.000000</td>\n      <td>0.0</td>\n      <td>...</td>\n      <td>0.0</td>\n      <td>0.000000e+00</td>\n      <td>0.004421</td>\n      <td>0.004421</td>\n      <td>0.006228</td>\n      <td>0.0</td>\n      <td>0.000000e+00</td>\n      <td>0.0</td>\n      <td>0.000000e+00</td>\n      <td>0.000000e+00</td>\n    </tr>\n    <tr>\n      <th>3</th>\n      <td>0.40000</td>\n      <td>0.900000</td>\n      <td>0.969090</td>\n      <td>0.0</td>\n      <td>0.000000e+00</td>\n      <td>0.0</td>\n      <td>0.000000e+00</td>\n      <td>0.0</td>\n      <td>0.000000</td>\n      <td>0.0</td>\n      <td>...</td>\n      <td>0.0</td>\n      <td>0.000000e+00</td>\n      <td>0.013738</td>\n      <td>0.013738</td>\n      <td>0.002433</td>\n      <td>0.0</td>\n      <td>0.000000e+00</td>\n      <td>0.0</td>\n      <td>0.000000e+00</td>\n      <td>0.000000e+00</td>\n    </tr>\n    <tr>\n      <th>4</th>\n      <td>0.30000</td>\n      <td>1.000000</td>\n      <td>1.000000</td>\n      <td>0.0</td>\n      <td>0.000000e+00</td>\n      <td>0.0</td>\n      <td>0.000000e+00</td>\n      <td>0.0</td>\n      <td>0.000000</td>\n      <td>0.0</td>\n      <td>...</td>\n      <td>0.0</td>\n      <td>0.000000e+00</td>\n      <td>0.003273</td>\n      <td>0.003273</td>\n      <td>0.004220</td>\n      <td>0.0</td>\n      <td>0.000000e+00</td>\n      <td>0.0</td>\n      <td>0.000000e+00</td>\n      <td>0.000000e+00</td>\n    </tr>\n    <tr>\n      <th>...</th>\n      <td>...</td>\n      <td>...</td>\n      <td>...</td>\n      <td>...</td>\n      <td>...</td>\n      <td>...</td>\n      <td>...</td>\n      <td>...</td>\n      <td>...</td>\n      <td>...</td>\n      <td>...</td>\n      <td>...</td>\n      <td>...</td>\n      <td>...</td>\n      <td>...</td>\n      <td>...</td>\n      <td>...</td>\n      <td>...</td>\n      <td>...</td>\n      <td>...</td>\n      <td>...</td>\n    </tr>\n    <tr>\n      <th>47292</th>\n      <td>0.20000</td>\n      <td>0.212815</td>\n      <td>0.361712</td>\n      <td>0.0</td>\n      <td>1.753813e-07</td>\n      <td>0.0</td>\n      <td>5.973528e-08</td>\n      <td>0.0</td>\n      <td>0.000012</td>\n      <td>0.0</td>\n      <td>...</td>\n      <td>0.0</td>\n      <td>5.177058e-07</td>\n      <td>0.001917</td>\n      <td>0.001917</td>\n      <td>0.002701</td>\n      <td>0.0</td>\n      <td>1.264891e-07</td>\n      <td>0.0</td>\n      <td>7.041990e-07</td>\n      <td>3.750706e-08</td>\n    </tr>\n    <tr>\n      <th>47293</th>\n      <td>0.20000</td>\n      <td>0.323894</td>\n      <td>0.400762</td>\n      <td>0.0</td>\n      <td>0.000000e+00</td>\n      <td>0.0</td>\n      <td>0.000000e+00</td>\n      <td>0.0</td>\n      <td>0.000000</td>\n      <td>0.0</td>\n      <td>...</td>\n      <td>0.0</td>\n      <td>0.000000e+00</td>\n      <td>0.000595</td>\n      <td>0.000595</td>\n      <td>0.000839</td>\n      <td>0.0</td>\n      <td>0.000000e+00</td>\n      <td>0.0</td>\n      <td>0.000000e+00</td>\n      <td>0.000000e+00</td>\n    </tr>\n    <tr>\n      <th>47294</th>\n      <td>0.20000</td>\n      <td>0.469377</td>\n      <td>0.637090</td>\n      <td>0.0</td>\n      <td>3.505811e-04</td>\n      <td>0.0</td>\n      <td>1.194087e-04</td>\n      <td>0.0</td>\n      <td>0.024176</td>\n      <td>0.0</td>\n      <td>...</td>\n      <td>0.0</td>\n      <td>1.034876e-03</td>\n      <td>0.013702</td>\n      <td>0.013702</td>\n      <td>0.019305</td>\n      <td>0.0</td>\n      <td>2.528473e-04</td>\n      <td>0.0</td>\n      <td>1.407669e-03</td>\n      <td>7.497529e-05</td>\n    </tr>\n    <tr>\n      <th>47295</th>\n      <td>0.20000</td>\n      <td>0.417370</td>\n      <td>0.581269</td>\n      <td>0.0</td>\n      <td>2.795516e-04</td>\n      <td>0.0</td>\n      <td>9.521594e-05</td>\n      <td>0.0</td>\n      <td>0.019278</td>\n      <td>0.0</td>\n      <td>...</td>\n      <td>0.0</td>\n      <td>8.252048e-04</td>\n      <td>0.011313</td>\n      <td>0.011313</td>\n      <td>0.015939</td>\n      <td>0.0</td>\n      <td>2.016192e-04</td>\n      <td>0.0</td>\n      <td>1.122468e-03</td>\n      <td>5.978493e-05</td>\n    </tr>\n    <tr>\n      <th>47296</th>\n      <td>0.39499</td>\n      <td>0.492803</td>\n      <td>0.185154</td>\n      <td>0.0</td>\n      <td>0.000000e+00</td>\n      <td>0.0</td>\n      <td>0.000000e+00</td>\n      <td>0.0</td>\n      <td>0.000000</td>\n      <td>0.0</td>\n      <td>...</td>\n      <td>0.0</td>\n      <td>0.000000e+00</td>\n      <td>0.025310</td>\n      <td>0.025310</td>\n      <td>0.035660</td>\n      <td>0.0</td>\n      <td>0.000000e+00</td>\n      <td>0.0</td>\n      <td>0.000000e+00</td>\n      <td>0.000000e+00</td>\n    </tr>\n  </tbody>\n</table>\n<p>47297 rows × 103 columns</p>\n</div>"
     },
     "execution_count": 19,
     "metadata": {},
     "output_type": "execute_result"
    }
   ],
   "source": [
    "sm_x"
   ],
   "metadata": {
    "collapsed": false
   }
  },
  {
   "cell_type": "markdown",
   "source": [
    "### 1 Model Comparison, without Oversampling"
   ],
   "metadata": {
    "collapsed": false
   }
  },
  {
   "cell_type": "markdown",
   "source": [
    "##### 1.1 Logistic Regression - Train & Test Accuracy\n",
    "\n",
    "Note: High Accuracy but worst recall & precision (0 Recall & Precision)\n",
    "- Bad training precision recall\n",
    "- Bad test precision recall"
   ],
   "metadata": {
    "collapsed": false
   }
  },
  {
   "cell_type": "code",
   "execution_count": 20,
   "outputs": [
    {
     "name": "stdout",
     "output_type": "stream",
     "text": [
      "Train acc: 0.9907969044133027  Test acc:0.9878711836051861\n",
      "[[18948     0]\n",
      " [  176     0]]\n",
      "              precision    recall  f1-score   support\n",
      "\n",
      "           0       0.99      1.00      1.00     18948\n",
      "           1       0.00      0.00      0.00       176\n",
      "\n",
      "    accuracy                           0.99     19124\n",
      "   macro avg       0.50      0.50      0.50     19124\n",
      "weighted avg       0.98      0.99      0.99     19124\n",
      "\n",
      "\n",
      "Test acc: 0.9907969044133027  Test acc:0.9878711836051861\n",
      "[[4724    0]\n",
      " [  58    0]]\n",
      "              precision    recall  f1-score   support\n",
      "\n",
      "           0       0.99      1.00      0.99      4724\n",
      "           1       0.00      0.00      0.00        58\n",
      "\n",
      "    accuracy                           0.99      4782\n",
      "   macro avg       0.49      0.50      0.50      4782\n",
      "weighted avg       0.98      0.99      0.98      4782\n",
      "\n"
     ]
    },
    {
     "name": "stderr",
     "output_type": "stream",
     "text": [
      "C:\\Software\\Anaconda3\\lib\\site-packages\\sklearn\\metrics\\_classification.py:1334: UndefinedMetricWarning: Precision and F-score are ill-defined and being set to 0.0 in labels with no predicted samples. Use `zero_division` parameter to control this behavior.\n",
      "  _warn_prf(average, modifier, msg_start, len(result))\n",
      "C:\\Software\\Anaconda3\\lib\\site-packages\\sklearn\\metrics\\_classification.py:1334: UndefinedMetricWarning: Precision and F-score are ill-defined and being set to 0.0 in labels with no predicted samples. Use `zero_division` parameter to control this behavior.\n",
      "  _warn_prf(average, modifier, msg_start, len(result))\n",
      "C:\\Software\\Anaconda3\\lib\\site-packages\\sklearn\\metrics\\_classification.py:1334: UndefinedMetricWarning: Precision and F-score are ill-defined and being set to 0.0 in labels with no predicted samples. Use `zero_division` parameter to control this behavior.\n",
      "  _warn_prf(average, modifier, msg_start, len(result))\n",
      "C:\\Software\\Anaconda3\\lib\\site-packages\\sklearn\\metrics\\_classification.py:1334: UndefinedMetricWarning: Precision and F-score are ill-defined and being set to 0.0 in labels with no predicted samples. Use `zero_division` parameter to control this behavior.\n",
      "  _warn_prf(average, modifier, msg_start, len(result))\n",
      "C:\\Software\\Anaconda3\\lib\\site-packages\\sklearn\\metrics\\_classification.py:1334: UndefinedMetricWarning: Precision and F-score are ill-defined and being set to 0.0 in labels with no predicted samples. Use `zero_division` parameter to control this behavior.\n",
      "  _warn_prf(average, modifier, msg_start, len(result))\n",
      "C:\\Software\\Anaconda3\\lib\\site-packages\\sklearn\\metrics\\_classification.py:1334: UndefinedMetricWarning: Precision and F-score are ill-defined and being set to 0.0 in labels with no predicted samples. Use `zero_division` parameter to control this behavior.\n",
      "  _warn_prf(average, modifier, msg_start, len(result))\n"
     ]
    }
   ],
   "source": [
    "LR = LR_training(train_x, train_y.values.ravel(), LR)"
   ],
   "metadata": {
    "collapsed": false
   }
  },
  {
   "cell_type": "markdown",
   "source": [
    "##### 1.2 Random Forest - Test Accuracy\n",
    "\n",
    "Note: High Accuracy but Not bad precision, but very bad recall (At least not 0 but very bad)\n",
    "\n",
    "- Best training precision recall\n",
    "- Bad test precision recall"
   ],
   "metadata": {
    "collapsed": false
   }
  },
  {
   "cell_type": "code",
   "execution_count": 21,
   "outputs": [
    {
     "name": "stderr",
     "output_type": "stream",
     "text": [
      "C:\\Users\\Edwin Sanjaya\\AppData\\Local\\Temp\\ipykernel_1296\\528896171.py:52: DataConversionWarning: A column-vector y was passed when a 1d array was expected. Please change the shape of y to (n_samples,), for example using ravel().\n",
      "  LR_model.fit(x_train, y_train)\n"
     ]
    },
    {
     "name": "stdout",
     "output_type": "stream",
     "text": [
      "Train acc: 1.0  Test acc:0.9882894186532831\n",
      "[[18948     0]\n",
      " [    0   176]]\n",
      "              precision    recall  f1-score   support\n",
      "\n",
      "           0       1.00      1.00      1.00     18948\n",
      "           1       1.00      1.00      1.00       176\n",
      "\n",
      "    accuracy                           1.00     19124\n",
      "   macro avg       1.00      1.00      1.00     19124\n",
      "weighted avg       1.00      1.00      1.00     19124\n",
      "\n",
      "\n",
      "Test acc: 1.0  Test acc:0.9882894186532831\n",
      "[[4722    2]\n",
      " [  54    4]]\n",
      "              precision    recall  f1-score   support\n",
      "\n",
      "           0       0.99      1.00      0.99      4724\n",
      "           1       0.67      0.07      0.12        58\n",
      "\n",
      "    accuracy                           0.99      4782\n",
      "   macro avg       0.83      0.53      0.56      4782\n",
      "weighted avg       0.98      0.99      0.98      4782\n",
      "\n"
     ]
    }
   ],
   "source": [
    "RF = LR_training(train_x, train_y, RF)"
   ],
   "metadata": {
    "collapsed": false
   }
  },
  {
   "cell_type": "markdown",
   "source": [
    "#### 2 Model Comparison, with SMOTE oversampling"
   ],
   "metadata": {
    "collapsed": false
   }
  },
  {
   "cell_type": "markdown",
   "source": [
    "##### 2.1a Logistic Regression with SMOTE - Train & Test Accuracy (Oversampled Data)\n",
    "\n",
    "Better training & test in oversampled data"
   ],
   "metadata": {
    "collapsed": false
   }
  },
  {
   "cell_type": "code",
   "execution_count": 22,
   "outputs": [
    {
     "name": "stdout",
     "output_type": "stream",
     "text": [
      "Train acc: 0.8845676567656766  Test acc:0.8898510930404477\n",
      "[[16037  2916]\n",
      " [ 1456 17466]]\n",
      "              precision    recall  f1-score   support\n",
      "\n",
      "           0       0.92      0.85      0.88     18953\n",
      "           1       0.86      0.92      0.89     18922\n",
      "\n",
      "    accuracy                           0.88     37875\n",
      "   macro avg       0.89      0.88      0.88     37875\n",
      "weighted avg       0.89      0.88      0.88     37875\n",
      "\n",
      "\n",
      "Test acc: 0.8845676567656766  Test acc:0.8898510930404477\n",
      "[[4039  680]\n",
      " [ 363 4387]]\n",
      "              precision    recall  f1-score   support\n",
      "\n",
      "           0       0.92      0.86      0.89      4719\n",
      "           1       0.87      0.92      0.89      4750\n",
      "\n",
      "    accuracy                           0.89      9469\n",
      "   macro avg       0.89      0.89      0.89      9469\n",
      "weighted avg       0.89      0.89      0.89      9469\n",
      "\n"
     ]
    },
    {
     "name": "stderr",
     "output_type": "stream",
     "text": [
      "C:\\Software\\Anaconda3\\lib\\site-packages\\sklearn\\linear_model\\_logistic.py:444: ConvergenceWarning: lbfgs failed to converge (status=1):\n",
      "STOP: TOTAL NO. of ITERATIONS REACHED LIMIT.\n",
      "\n",
      "Increase the number of iterations (max_iter) or scale the data as shown in:\n",
      "    https://scikit-learn.org/stable/modules/preprocessing.html\n",
      "Please also refer to the documentation for alternative solver options:\n",
      "    https://scikit-learn.org/stable/modules/linear_model.html#logistic-regression\n",
      "  n_iter_i = _check_optimize_result(\n"
     ]
    }
   ],
   "source": [
    "LR = LR_training(sm1_x, sm1_y.values.ravel(), LR)"
   ],
   "metadata": {
    "collapsed": false
   }
  },
  {
   "cell_type": "markdown",
   "source": [
    "##### 2.1b Logistic Regression with SMOTE - Accuracy (Real non-oversampled data)\n",
    "\n",
    "Good recall but bad precision"
   ],
   "metadata": {
    "collapsed": false
   }
  },
  {
   "cell_type": "code",
   "execution_count": 23,
   "outputs": [
    {
     "name": "stdout",
     "output_type": "stream",
     "text": [
      "Test acc: 0.8483644273404166\n",
      "[[20076  3596]\n",
      " [   29   205]]\n",
      "              precision    recall  f1-score   support\n",
      "\n",
      "           0       1.00      0.85      0.92     23672\n",
      "           1       0.05      0.88      0.10       234\n",
      "\n",
      "    accuracy                           0.85     23906\n",
      "   macro avg       0.53      0.86      0.51     23906\n",
      "weighted avg       0.99      0.85      0.91     23906\n",
      "\n"
     ]
    }
   ],
   "source": [
    "LR_test(train_x, train_y.values.ravel(), LR)"
   ],
   "metadata": {
    "collapsed": false
   }
  },
  {
   "cell_type": "markdown",
   "source": [
    "##### 2.2a Random Forest with SMOTE - Train & Test Accuracy (Oversampled Data)\n",
    "\n",
    "Almost perfect training & test in oversampled data"
   ],
   "metadata": {
    "collapsed": false
   }
  },
  {
   "cell_type": "code",
   "execution_count": 24,
   "outputs": [
    {
     "name": "stdout",
     "output_type": "stream",
     "text": [
      "Train acc: 1.0  Test acc:0.9955644735452529\n",
      "[[18953     0]\n",
      " [    0 18922]]\n",
      "              precision    recall  f1-score   support\n",
      "\n",
      "           0       1.00      1.00      1.00     18953\n",
      "           1       1.00      1.00      1.00     18922\n",
      "\n",
      "    accuracy                           1.00     37875\n",
      "   macro avg       1.00      1.00      1.00     37875\n",
      "weighted avg       1.00      1.00      1.00     37875\n",
      "\n",
      "\n",
      "Test acc: 1.0  Test acc:0.9955644735452529\n",
      "[[4695   24]\n",
      " [  18 4732]]\n",
      "              precision    recall  f1-score   support\n",
      "\n",
      "           0       1.00      0.99      1.00      4719\n",
      "           1       0.99      1.00      1.00      4750\n",
      "\n",
      "    accuracy                           1.00      9469\n",
      "   macro avg       1.00      1.00      1.00      9469\n",
      "weighted avg       1.00      1.00      1.00      9469\n",
      "\n"
     ]
    }
   ],
   "source": [
    "RF = LR_training(sm1_x, sm1_y.values.ravel(), RF)"
   ],
   "metadata": {
    "collapsed": false
   }
  },
  {
   "cell_type": "markdown",
   "source": [
    "##### 2.2b Random Forest with SMOTE - Accuracy (Real non-oversampled data)\n",
    "\n",
    "Almost perfect training & test in oversampled data\n"
   ],
   "metadata": {
    "collapsed": false
   }
  },
  {
   "cell_type": "code",
   "execution_count": 25,
   "outputs": [
    {
     "name": "stdout",
     "output_type": "stream",
     "text": [
      "Test acc: 0.998243118882289\n",
      "[[23648    24]\n",
      " [   18   216]]\n",
      "              precision    recall  f1-score   support\n",
      "\n",
      "           0       1.00      1.00      1.00     23672\n",
      "           1       0.90      0.92      0.91       234\n",
      "\n",
      "    accuracy                           1.00     23906\n",
      "   macro avg       0.95      0.96      0.96     23906\n",
      "weighted avg       1.00      1.00      1.00     23906\n",
      "\n"
     ]
    }
   ],
   "source": [
    "LR_test(train_x, train_y.values.ravel(), RF)"
   ],
   "metadata": {
    "collapsed": false
   }
  },
  {
   "cell_type": "markdown",
   "source": [
    "#### 3 Random Forest with SMOTETomek, ADASYN\n",
    "\n",
    "Random Forest + SMOTE has significant result -> model decided to use Random Forest & try other oversampling technique"
   ],
   "metadata": {
    "collapsed": false
   }
  },
  {
   "cell_type": "markdown",
   "source": [
    "##### 3.1a Random Forest with SMOTETomek - Train & Test Accuracy (Oversampled Data)\n",
    "\n",
    "Better than SMOTE"
   ],
   "metadata": {
    "collapsed": false
   }
  },
  {
   "cell_type": "code",
   "execution_count": 26,
   "outputs": [
    {
     "name": "stdout",
     "output_type": "stream",
     "text": [
      "Train acc: 1.0  Test acc:0.9979885665890323\n",
      "[[18934     0]\n",
      " [    0 18848]]\n",
      "              precision    recall  f1-score   support\n",
      "\n",
      "           0       1.00      1.00      1.00     18934\n",
      "           1       1.00      1.00      1.00     18848\n",
      "\n",
      "    accuracy                           1.00     37782\n",
      "   macro avg       1.00      1.00      1.00     37782\n",
      "weighted avg       1.00      1.00      1.00     37782\n",
      "\n",
      "\n",
      "Test acc: 1.0  Test acc:0.9979885665890323\n",
      "[[4669   11]\n",
      " [   8 4758]]\n",
      "              precision    recall  f1-score   support\n",
      "\n",
      "           0       1.00      1.00      1.00      4680\n",
      "           1       1.00      1.00      1.00      4766\n",
      "\n",
      "    accuracy                           1.00      9446\n",
      "   macro avg       1.00      1.00      1.00      9446\n",
      "weighted avg       1.00      1.00      1.00      9446\n",
      "\n"
     ]
    }
   ],
   "source": [
    "RF = LR_training(sm2_x, sm2_y.values.ravel(), RF)"
   ],
   "metadata": {
    "collapsed": false
   }
  },
  {
   "cell_type": "markdown",
   "source": [
    "##### 3.1b Random Forest with SMOTETomek - Accuracy (Real non-oversampled data)\n",
    "\n",
    "Almost perfect training & test in oversampled data\n",
    "Better Precision, but lower recall and F1"
   ],
   "metadata": {
    "collapsed": false
   }
  },
  {
   "cell_type": "code",
   "execution_count": 27,
   "outputs": [
    {
     "name": "stdout",
     "output_type": "stream",
     "text": [
      "Test acc: 0.9974483393290388\n",
      "[[23655    17]\n",
      " [   44   190]]\n",
      "              precision    recall  f1-score   support\n",
      "\n",
      "           0       1.00      1.00      1.00     23672\n",
      "           1       0.92      0.81      0.86       234\n",
      "\n",
      "    accuracy                           1.00     23906\n",
      "   macro avg       0.96      0.91      0.93     23906\n",
      "weighted avg       1.00      1.00      1.00     23906\n",
      "\n"
     ]
    }
   ],
   "source": [
    "LR_test(train_x, train_y.values.ravel(), RF)"
   ],
   "metadata": {
    "collapsed": false
   }
  },
  {
   "cell_type": "markdown",
   "source": [
    "##### 3.2a Random Forest with ADASYN - Train & Test Accuracy (Oversampled Data)\n",
    "\n",
    "Better than SMOTE"
   ],
   "metadata": {
    "collapsed": false
   }
  },
  {
   "cell_type": "code",
   "execution_count": 28,
   "outputs": [
    {
     "name": "stdout",
     "output_type": "stream",
     "text": [
      "Train acc: 1.0  Test acc:0.9952431289640592\n",
      "[[18957     0]\n",
      " [    0 18880]]\n",
      "              precision    recall  f1-score   support\n",
      "\n",
      "           0       1.00      1.00      1.00     18957\n",
      "           1       1.00      1.00      1.00     18880\n",
      "\n",
      "    accuracy                           1.00     37837\n",
      "   macro avg       1.00      1.00      1.00     37837\n",
      "weighted avg       1.00      1.00      1.00     37837\n",
      "\n",
      "\n",
      "Test acc: 1.0  Test acc:0.9952431289640592\n",
      "[[4688   27]\n",
      " [  18 4727]]\n",
      "              precision    recall  f1-score   support\n",
      "\n",
      "           0       1.00      0.99      1.00      4715\n",
      "           1       0.99      1.00      1.00      4745\n",
      "\n",
      "    accuracy                           1.00      9460\n",
      "   macro avg       1.00      1.00      1.00      9460\n",
      "weighted avg       1.00      1.00      1.00      9460\n",
      "\n"
     ]
    }
   ],
   "source": [
    "RF = LR_training(sm_x, sm_y.values.ravel(), RF)"
   ],
   "metadata": {
    "collapsed": false
   }
  },
  {
   "cell_type": "markdown",
   "source": [
    "##### 3.2b Random Forest with ADASYN - Accuracy (Real non-oversampled data)"
   ],
   "metadata": {
    "collapsed": false
   }
  },
  {
   "cell_type": "code",
   "execution_count": 29,
   "outputs": [
    {
     "name": "stdout",
     "output_type": "stream",
     "text": [
      "Test acc: 0.998117627373881\n",
      "[[23645    27]\n",
      " [   18   216]]\n",
      "              precision    recall  f1-score   support\n",
      "\n",
      "           0       1.00      1.00      1.00     23672\n",
      "           1       0.89      0.92      0.91       234\n",
      "\n",
      "    accuracy                           1.00     23906\n",
      "   macro avg       0.94      0.96      0.95     23906\n",
      "weighted avg       1.00      1.00      1.00     23906\n",
      "\n"
     ]
    }
   ],
   "source": [
    "LR_test(train_x, train_y.values.ravel(), RF)"
   ],
   "metadata": {
    "collapsed": false
   }
  },
  {
   "cell_type": "code",
   "execution_count": 30,
   "outputs": [],
   "source": [
    "# Manipulate sm_x and sm_y for final selected oversampled data\n",
    "sm_x, sm_y = sm1_x, sm1_y"
   ],
   "metadata": {
    "collapsed": false
   }
  },
  {
   "cell_type": "code",
   "execution_count": 31,
   "outputs": [
    {
     "name": "stderr",
     "output_type": "stream",
     "text": [
      "C:\\Users\\Edwin Sanjaya\\AppData\\Local\\Temp\\ipykernel_1296\\528896171.py:52: DataConversionWarning: A column-vector y was passed when a 1d array was expected. Please change the shape of y to (n_samples,), for example using ravel().\n",
      "  LR_model.fit(x_train, y_train)\n"
     ]
    },
    {
     "name": "stdout",
     "output_type": "stream",
     "text": [
      "Train acc: 1.0  Test acc:0.9955644735452529\n",
      "[[18953     0]\n",
      " [    0 18922]]\n",
      "              precision    recall  f1-score   support\n",
      "\n",
      "           0       1.00      1.00      1.00     18953\n",
      "           1       1.00      1.00      1.00     18922\n",
      "\n",
      "    accuracy                           1.00     37875\n",
      "   macro avg       1.00      1.00      1.00     37875\n",
      "weighted avg       1.00      1.00      1.00     37875\n",
      "\n",
      "\n",
      "Test acc: 1.0  Test acc:0.9955644735452529\n",
      "[[4695   24]\n",
      " [  18 4732]]\n",
      "              precision    recall  f1-score   support\n",
      "\n",
      "           0       1.00      0.99      1.00      4719\n",
      "           1       0.99      1.00      1.00      4750\n",
      "\n",
      "    accuracy                           1.00      9469\n",
      "   macro avg       1.00      1.00      1.00      9469\n",
      "weighted avg       1.00      1.00      1.00      9469\n",
      "\n",
      "Test acc: 0.998243118882289\n",
      "[[23648    24]\n",
      " [   18   216]]\n",
      "              precision    recall  f1-score   support\n",
      "\n",
      "           0       1.00      1.00      1.00     23672\n",
      "           1       0.90      0.92      0.91       234\n",
      "\n",
      "    accuracy                           1.00     23906\n",
      "   macro avg       0.95      0.96      0.96     23906\n",
      "weighted avg       1.00      1.00      1.00     23906\n",
      "\n"
     ]
    }
   ],
   "source": [
    "# Retrain using selected oversampled data\n",
    "RF = LR_training(sm_x, sm_y, RF)\n",
    "LR_test(train_x, train_y.values.ravel(), RF)"
   ],
   "metadata": {
    "collapsed": false
   }
  },
  {
   "cell_type": "markdown",
   "source": [
    "#### 4. Recursive Feature Elimintation"
   ],
   "metadata": {
    "collapsed": false
   }
  },
  {
   "cell_type": "markdown",
   "source": [
    "##### 4.1a Random Forest with SMOTE + RFE - Train & Test Accuracy (Oversampled Data)\n",
    "\n",
    "Slight improvement"
   ],
   "metadata": {
    "collapsed": false
   }
  },
  {
   "cell_type": "code",
   "execution_count": 32,
   "outputs": [
    {
     "name": "stdout",
     "output_type": "stream",
     "text": [
      "Index(['AGE', 'atm_count_rate', 'atm_tx_rate', 'avg_amt_nontw_nonntd',\n",
      "       'avg_amt_nontw_ntd', 'avg_amt_tw_nonntd', 'avg_amt_tw_ntd',\n",
      "       'avg_freq_nontw_nonntd', 'avg_freq_nontw_ntd', 'avg_freq_tw_nonntd',\n",
      "       ...\n",
      "       'total_amt_tw_nonntd', 'total_amt_tw_ntd', 'total_asset',\n",
      "       'total_asset_x', 'total_asset_y', 'total_freq_nontw_nonntd',\n",
      "       'total_freq_nontw_ntd', 'total_freq_tw_nonntd', 'total_freq_tw_ntd',\n",
      "       'trade_sum'],\n",
      "      dtype='object', length=103)\n",
      "[ True  True  True  True  True  True  True  True  True  True  True  True\n",
      "  True  True  True  True  True  True  True  True  True  True  True  True\n",
      "  True  True  True  True  True  True  True  True  True  True  True  True\n",
      "  True  True  True  True  True  True  True  True  True  True  True  True\n",
      "  True  True  True  True  True  True  True  True  True  True  True False\n",
      "  True  True  True  True  True  True  True  True  True  True  True  True\n",
      "  True  True  True  True  True  True  True  True  True  True  True  True\n",
      " False  True  True  True False  True  True  True  True  True  True  True\n",
      "  True  True  True  True False  True  True]\n",
      "[1 1 1 1 1 1 1 1 1 1 1 1 1 1 1 1 1 1 1 1 1 1 1 1 1 1 1 1 1 1 1 1 1 1 1 1 1\n",
      " 1 1 1 1 1 1 1 1 1 1 1 1 1 1 1 1 1 1 1 1 1 1 2 1 1 1 1 1 1 1 1 1 1 1 1 1 1\n",
      " 1 1 1 1 1 1 1 1 1 1 2 1 1 1 2 1 1 1 1 1 1 1 1 1 1 1 2 1 1]\n"
     ]
    },
    {
     "name": "stderr",
     "output_type": "stream",
     "text": [
      "C:\\Users\\Edwin Sanjaya\\AppData\\Local\\Temp\\ipykernel_1296\\528896171.py:52: DataConversionWarning: A column-vector y was passed when a 1d array was expected. Please change the shape of y to (n_samples,), for example using ravel().\n",
      "  LR_model.fit(x_train, y_train)\n"
     ]
    },
    {
     "name": "stdout",
     "output_type": "stream",
     "text": [
      "Train acc: 1.0  Test acc:0.9957756890907171\n",
      "[[18953     0]\n",
      " [    0 18922]]\n",
      "              precision    recall  f1-score   support\n",
      "\n",
      "           0       1.00      1.00      1.00     18953\n",
      "           1       1.00      1.00      1.00     18922\n",
      "\n",
      "    accuracy                           1.00     37875\n",
      "   macro avg       1.00      1.00      1.00     37875\n",
      "weighted avg       1.00      1.00      1.00     37875\n",
      "\n",
      "\n",
      "Test acc: 1.0  Test acc:0.9957756890907171\n",
      "[[4695   24]\n",
      " [  16 4734]]\n",
      "              precision    recall  f1-score   support\n",
      "\n",
      "           0       1.00      0.99      1.00      4719\n",
      "           1       0.99      1.00      1.00      4750\n",
      "\n",
      "    accuracy                           1.00      9469\n",
      "   macro avg       1.00      1.00      1.00      9469\n",
      "weighted avg       1.00      1.00      1.00      9469\n",
      "\n"
     ]
    }
   ],
   "source": [
    "rfe_columns = RFE_analysis(sm_x, sm_y, RF)\n",
    "sm_x_rfe = sm_x[sm_x.columns[rfe_columns]]\n",
    "RF = LR_training(sm_x_rfe, sm_y, RF)"
   ],
   "metadata": {
    "collapsed": false
   }
  },
  {
   "cell_type": "code",
   "execution_count": 33,
   "outputs": [
    {
     "name": "stdout",
     "output_type": "stream",
     "text": [
      "0 AGE\n",
      "1 atm_count_rate\n",
      "2 atm_tx_rate\n",
      "3 avg_amt_nontw_nonntd\n",
      "4 avg_amt_nontw_ntd\n",
      "5 avg_amt_tw_nonntd\n",
      "6 avg_amt_tw_ntd\n",
      "7 avg_freq_nontw_nonntd\n",
      "8 avg_freq_nontw_ntd\n",
      "9 avg_freq_tw_nonntd\n",
      "10 avg_freq_tw_ntd\n",
      "11 cb_count_rate\n",
      "12 cb_tx_rate\n",
      "13 count_assets\n",
      "14 cr_1_avg_tx\n",
      "15 cr_1_count_tx\n",
      "16 cr_1_std_tx\n",
      "17 cr_1_total_tx\n",
      "18 cr_1_tx_per_day\n",
      "19 cr_2_avg_tx\n",
      "20 cr_2_count_tx\n",
      "21 cr_2_std_tx\n",
      "22 cr_2_total_tx\n",
      "23 cr_2_tx_per_day\n",
      "24 cr_3_avg_tx\n",
      "25 cr_3_count_tx\n",
      "26 cr_3_std_tx\n",
      "27 cr_3_total_tx\n",
      "28 cr_3_tx_per_day\n",
      "29 cucah_quarter1_mean\n",
      "30 cucah_quarter1_std\n",
      "31 cucah_quarter1_sum\n",
      "32 cucah_quarter2_mean\n",
      "33 cucah_quarter2_std\n",
      "34 cucah_quarter2_sum\n",
      "35 cucah_quarter3_mean\n",
      "36 cucah_quarter3_std\n",
      "37 cucah_quarter3_sum\n",
      "38 cucah_quarter4_mean\n",
      "39 cucah_quarter4_std\n",
      "40 cucah_quarter4_sum\n",
      "41 cucah_total_mean\n",
      "42 cucah_total_std\n",
      "43 cucah_total_sum\n",
      "44 db_1_avg_tx\n",
      "45 db_1_count_tx\n",
      "46 db_1_std_tx\n",
      "47 db_1_total_tx\n",
      "48 db_1_tx_per_day\n",
      "49 db_2_avg_tx\n",
      "50 db_2_count_tx\n",
      "51 db_2_std_tx\n",
      "52 db_2_total_tx\n",
      "53 db_2_tx_per_day\n",
      "54 db_3_avg_tx\n",
      "55 db_3_count_tx\n",
      "56 db_3_std_tx\n",
      "57 db_3_total_tx\n",
      "58 db_3_tx_per_day\n",
      "59 occupation_code_1\n",
      "60 occupation_code_10\n",
      "61 occupation_code_11\n",
      "62 occupation_code_12\n",
      "63 occupation_code_13\n",
      "64 occupation_code_14\n",
      "65 occupation_code_15\n",
      "66 occupation_code_16\n",
      "67 occupation_code_17\n",
      "68 occupation_code_18\n",
      "69 occupation_code_19\n",
      "70 occupation_code_2\n",
      "71 occupation_code_20\n",
      "72 occupation_code_3\n",
      "73 occupation_code_4\n",
      "74 occupation_code_5\n",
      "75 occupation_code_6\n",
      "76 occupation_code_7\n",
      "77 occupation_code_8\n",
      "78 occupation_code_9\n",
      "79 ratio\n",
      "80 risk_rank\n",
      "81 sd_amt_nontw_nonntd\n",
      "82 sd_amt_nontw_ntd\n",
      "83 sd_amt_tw_ntd\n",
      "84 sd_freq_nontw_nonntd\n",
      "85 sd_freq_nontw_ntd\n",
      "86 sd_freq_tw_ntd\n",
      "87 sum_assets\n",
      "88 total_amt_nontw_nonntd\n",
      "89 total_amt_nontw_ntd\n",
      "90 total_amt_tw_nonntd\n",
      "91 total_amt_tw_ntd\n",
      "92 total_asset\n",
      "93 total_asset_x\n",
      "94 total_asset_y\n",
      "95 total_freq_nontw_nonntd\n",
      "96 total_freq_nontw_ntd\n",
      "97 total_freq_tw_ntd\n",
      "98 trade_sum\n"
     ]
    }
   ],
   "source": [
    "train_x_rfe = train_x[train_x.columns[rfe_columns]]\n",
    "attribute_list = list(train_x_rfe.columns)\n",
    "for i, v in enumerate(attribute_list):\n",
    "    print(f'{i} {v}')\n",
    "\n",
    "# Training Evaluation: Without RFE\n",
    "# LR_test(train_x, train_y, RF)"
   ],
   "metadata": {
    "collapsed": false
   }
  },
  {
   "cell_type": "markdown",
   "source": [
    "##### 4.2b Random Forest with SMOTE + RFE - Accuracy (Real non-oversampled data)\n",
    "\n",
    "Slight improvement"
   ],
   "metadata": {
    "collapsed": false
   }
  },
  {
   "cell_type": "code",
   "execution_count": 34,
   "outputs": [
    {
     "name": "stdout",
     "output_type": "stream",
     "text": [
      "Test acc: 0.9983267798878942\n",
      "[[23648    24]\n",
      " [   16   218]]\n",
      "              precision    recall  f1-score   support\n",
      "\n",
      "           0       1.00      1.00      1.00     23672\n",
      "           1       0.90      0.93      0.92       234\n",
      "\n",
      "    accuracy                           1.00     23906\n",
      "   macro avg       0.95      0.97      0.96     23906\n",
      "weighted avg       1.00      1.00      1.00     23906\n",
      "\n"
     ]
    }
   ],
   "source": [
    "LR_test(train_x_rfe, train_y, RF)"
   ],
   "metadata": {
    "collapsed": false
   }
  },
  {
   "cell_type": "code",
   "execution_count": null,
   "outputs": [],
   "source": [
    "# Fine-tuning test\n",
    "\n",
    "from sklearn.model_selection import GridSearchCV\n",
    "from sklearn.model_selection import RandomizedSearchCV\n",
    "import numpy as np\n",
    "\n",
    "n_estimators = [int(x) for x in np.linspace(start = 300, stop = 500, num = 5)]\n",
    "max_features = ['sqrt']\n",
    "max_depth = [int(x) for x in np.linspace(20, 50, num = 4)]\n",
    "max_depth.append(None)\n",
    "min_samples_split = [2, 3, 4]\n",
    "min_samples_leaf = [1, 2, 3]\n",
    "bootstrap = [True, False]\n",
    "\n",
    "random_grid = {'n_estimators': n_estimators,\n",
    "               'max_features': max_features,\n",
    "               'max_depth': max_depth,\n",
    "               'min_samples_split': min_samples_split,\n",
    "               'min_samples_leaf': min_samples_leaf,\n",
    "               'bootstrap': bootstrap}\n",
    "\n",
    "param_grid = {\n",
    "    'bootstrap': [True],\n",
    "    'max_depth': max_depth,\n",
    "    'max_features': max_features,\n",
    "    'min_samples_leaf': min_samples_leaf,\n",
    "    'min_samples_split': min_samples_split,\n",
    "    'n_estimators': n_estimators,\n",
    "}\n",
    "\n",
    "RF_search = RandomForestClassifier(random_state=42)\n",
    "# RF_random = RandomizedSearchCV(estimator = RF_search, param_distributions = random_grid, n_iter = 100, cv = 3, verbose=2, random_state=42, n_jobs = -1)\n",
    "RF_random = GridSearchCV(estimator = RF_search, param_grid = param_grid,\n",
    "                           cv = 5, n_jobs = -1, verbose = 2)\n",
    "RF_random.fit(sm_x_rfe, sm_y)\n",
    "RF_random.best_params_"
   ],
   "metadata": {
    "collapsed": false
   }
  },
  {
   "cell_type": "code",
   "execution_count": null,
   "outputs": [],
   "source": [
    "# {'bootstrap': True,\n",
    "#  'max_depth': 70,\n",
    "#  'max_features': 'auto',\n",
    "#  'min_samples_leaf': 1,\n",
    "#  'min_samples_split': 3,\n",
    "#  'n_estimators': 300}\n",
    "\n",
    "# {'bootstrap': True,\n",
    "#  'max_depth': 50,\n",
    "#  'max_features': 'sqrt',\n",
    "#  'min_samples_leaf': 1,\n",
    "#  'min_samples_split': 3,\n",
    "#  'n_estimators': 400}\n",
    "\n",
    "# Use Best Tuning Param\n",
    "# RF_random = RandomForestClassifier(n_estimators=200, min_samples_split=2, min_samples_leaf=1, max_features='sqrt', max_depth=90, bootstrap=True)\n",
    "# RF_random.fit(sm_x, sm_y)\n",
    "\n",
    "# LR_test(ori_train_x_normal, ori_train_y, RF_random)"
   ],
   "metadata": {
    "collapsed": false
   }
  },
  {
   "cell_type": "code",
   "execution_count": null,
   "outputs": [],
   "source": [
    "LR_test(train_x_rfe, train_y, RF_random)"
   ],
   "metadata": {
    "collapsed": false
   }
  },
  {
   "cell_type": "code",
   "execution_count": null,
   "outputs": [],
   "source": [
    "test_xdp = pd.read_pickle('xdp_x_test.pkl')"
   ],
   "metadata": {
    "collapsed": false
   }
  },
  {
   "cell_type": "code",
   "execution_count": null,
   "outputs": [],
   "source": [
    "# Test\n",
    "test = df_from_csv('submit_format.csv')\n",
    "test = test.drop(['probability'], axis=1)\n",
    "test = test.merge(test_xdp, on='alert_key', how='left')\n",
    "test = test.merge(ccba, on='cust_id', how='left')\n",
    "test = test.merge(cdtx, on='alert_key', how='left')\n",
    "test = test.merge(remit, on='alert_key', how='left')\n",
    "test = test.drop(['alert_key', 'cust_id', 'date'], axis=1)\n",
    "test['bad_value'] = test.isnull().sum(axis=1) + (test == 0).astype(int).sum(axis=1)\n",
    "test.iloc[:, :] = test.iloc[:, :].fillna(0)\n",
    "test = test.drop(['bad_value'], axis=1)\n",
    "test = test.reindex(sorted(test.columns), axis=1)\n",
    "test = normalize_mms(test)\n",
    "test"
   ],
   "metadata": {
    "collapsed": false
   }
  },
  {
   "cell_type": "code",
   "execution_count": null,
   "outputs": [],
   "source": [
    "attribute_list = list(train_x_rfe.columns)\n",
    "for i, v in enumerate(attribute_list):\n",
    "    print(f'{i} {v} {test.columns[i]}')"
   ],
   "metadata": {
    "collapsed": false
   }
  },
  {
   "cell_type": "code",
   "execution_count": null,
   "outputs": [],
   "source": [
    "# #SMOTE\n",
    "test = test.drop(['sd_amt_tw_nonntd','sd_freq_tw_nonntd', 'total_freq_tw_nonntd'], axis=1)\n",
    "test['occupation_code_6'] = 0\n",
    "test['occupation_code_8'] = 0\n",
    "\n",
    "# #ADASYN\n",
    "# test = test.drop(['sd_amt_tw_nonntd','sd_freq_tw_nonntd'], axis=1)\n",
    "# test['occupation_code_8'] = 0"
   ],
   "metadata": {
    "collapsed": false
   }
  },
  {
   "cell_type": "code",
   "execution_count": null,
   "outputs": [],
   "source": [
    "# Handle Missing Column\n",
    "\n",
    "test = test.reindex(sorted(test.columns), axis=1)\n",
    "attribute_list = list(train_x_rfe.columns)\n",
    "for i, v in enumerate(attribute_list):\n",
    "    print(f'{i} {v} {test.columns[i]}')"
   ],
   "metadata": {
    "collapsed": false
   }
  },
  {
   "cell_type": "code",
   "execution_count": null,
   "outputs": [],
   "source": [
    "test"
   ],
   "metadata": {
    "collapsed": false
   }
  },
  {
   "cell_type": "code",
   "execution_count": null,
   "outputs": [],
   "source": [
    "y_test = RF.predict_proba(test)\n",
    "# y_test = RF_random.predict_proba(test)\n",
    "y_test = pd.DataFrame(y_test, columns=['probability0','probability'])\n",
    "y_test = y_test.drop(['probability0'], axis=1)\n",
    "# y_test['probability'] = round(y_test['probability'], 6)\n",
    "y_test.index = test.index\n",
    "y_test"
   ],
   "metadata": {
    "collapsed": false
   }
  },
  {
   "cell_type": "code",
   "execution_count": null,
   "outputs": [],
   "source": [
    "y_test.sort_values(by='probability', ascending=True)"
   ],
   "metadata": {
    "collapsed": false
   }
  },
  {
   "cell_type": "code",
   "execution_count": null,
   "outputs": [],
   "source": [
    "y_test.loc[y_test['probability'] == 0, 'probability'] = 0\n",
    "y_test.sort_values(by='probability', ascending=True)"
   ],
   "metadata": {
    "collapsed": false
   }
  },
  {
   "cell_type": "code",
   "execution_count": null,
   "outputs": [],
   "source": [
    "xy_test = pd.concat([test, y_test], axis=1)\n",
    "submit = df_from_csv('submit_format.csv')\n",
    "submit = submit.drop(columns=['probability'])\n",
    "submit = pd.concat([submit, xy_test], axis=1)\n",
    "submit = submit[['alert_key','probability']]\n",
    "submit['probability'] = submit['probability'].fillna(0)\n",
    "submit = submit.sort_values(by='probability', ascending=False)\n",
    "submit.to_csv('final_submit.csv')\n",
    "submit"
   ],
   "metadata": {
    "collapsed": false
   }
  },
  {
   "cell_type": "code",
   "execution_count": null,
   "outputs": [],
   "source": [
    "submit.isnull().any()"
   ],
   "metadata": {
    "collapsed": false
   }
  },
  {
   "cell_type": "code",
   "execution_count": null,
   "outputs": [],
   "source": [
    "submit.loc[submit.duplicated(keep=False)]"
   ],
   "metadata": {
    "collapsed": false
   }
  },
  {
   "cell_type": "code",
   "execution_count": null,
   "outputs": [],
   "source": [],
   "metadata": {
    "collapsed": false
   }
  }
 ],
 "metadata": {
  "kernelspec": {
   "display_name": "Python 3",
   "language": "python",
   "name": "python3"
  },
  "language_info": {
   "codemirror_mode": {
    "name": "ipython",
    "version": 2
   },
   "file_extension": ".py",
   "mimetype": "text/x-python",
   "name": "python",
   "nbconvert_exporter": "python",
   "pygments_lexer": "ipython2",
   "version": "2.7.6"
  }
 },
 "nbformat": 4,
 "nbformat_minor": 0
}
