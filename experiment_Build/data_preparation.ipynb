{
 "cells": [
  {
   "cell_type": "markdown",
   "metadata": {},
   "source": [
    "# Load data"
   ]
  },
  {
   "cell_type": "code",
   "execution_count": 1,
   "metadata": {},
   "outputs": [],
   "source": [
    "import pandas as pd\n",
    "import numpy as np\n",
    "import matplotlib.pyplot as plt\n",
    "%matplotlib inline\n",
    "\n",
    "ccba = pd.read_csv(\"dataset\\\\training_dataset_first\\\\flagged\\\\train\\\\public_train_x_ccba_full_hashed_sar.csv\")\n",
    "cdtx = pd.read_csv(\"dataset\\\\training_dataset_first\\\\public_train_x_cdtx0001_full_hashed.csv\")\n",
    "remit = pd.read_csv(\"dataset\\\\training_dataset_first\\\\public_train_x_remit1_full_hashed.csv\")\n",
    "custinfo = pd.read_csv(\"dataset\\\\training_dataset_first\\\\flagged\\\\train\\public_train_x_custinfo_full_hashed_sar.csv\")\n",
    "dp = pd.read_csv(\"dataset\\\\training_dataset_first\\\\public_train_x_dp_full_hashed.csv\")\n",
    "alert_date = pd.read_csv(\"dataset\\\\training_dataset_first\\\\train_x_alert_date.csv\")\n",
    "y = pd.read_csv(\"dataset\\\\training_dataset_first\\\\train_y_answer.csv\")"
   ]
  },
  {
   "cell_type": "code",
   "execution_count": 2,
   "metadata": {},
   "outputs": [
    {
     "name": "stdout",
     "output_type": "stream",
     "text": [
      "ccba: (55435, 11)\n",
      "cdtx: (1043014, 5)\n",
      "remit: (17167, 4)\n",
      "custinfo: (23906, 8)\n",
      "dp: (1969818, 12)\n",
      "alert_date: (23906, 2)\n",
      "y: (23906, 2)\n"
     ]
    }
   ],
   "source": [
    "data = [ccba, cdtx, remit, custinfo, dp, alert_date, y]\n",
    "label = ['ccba', 'cdtx', 'remit', 'custinfo', 'dp', 'alert_date', 'y']\n",
    "\n",
    "for i, j in zip(data,label):\n",
    "    print('{}: {}'.format(j, i.shape))"
   ]
  },
  {
   "cell_type": "markdown",
   "metadata": {},
   "source": [
    "# Merge data"
   ]
  },
  {
   "cell_type": "code",
   "execution_count": 3,
   "metadata": {},
   "outputs": [
    {
     "data": {
      "text/plain": [
       "16511"
      ]
     },
     "execution_count": 3,
     "metadata": {},
     "output_type": "execute_result"
    }
   ],
   "source": [
    "custinfo.duplicated(subset=['cust_id','occupation_code']).sum()"
   ]
  },
  {
   "cell_type": "code",
   "execution_count": 4,
   "metadata": {},
   "outputs": [
    {
     "data": {
      "text/html": [
       "<div>\n",
       "<style scoped>\n",
       "    .dataframe tbody tr th:only-of-type {\n",
       "        vertical-align: middle;\n",
       "    }\n",
       "\n",
       "    .dataframe tbody tr th {\n",
       "        vertical-align: top;\n",
       "    }\n",
       "\n",
       "    .dataframe thead th {\n",
       "        text-align: right;\n",
       "    }\n",
       "</style>\n",
       "<table border=\"1\" class=\"dataframe\">\n",
       "  <thead>\n",
       "    <tr style=\"text-align: right;\">\n",
       "      <th></th>\n",
       "      <th>cust_id</th>\n",
       "      <th>sar_flag</th>\n",
       "    </tr>\n",
       "  </thead>\n",
       "  <tbody>\n",
       "    <tr>\n",
       "      <th>0</th>\n",
       "      <td>a39fea9aec90969fe66a2b2b4d1b86368a2d38e8b8d4bf...</td>\n",
       "      <td>0.0</td>\n",
       "    </tr>\n",
       "    <tr>\n",
       "      <th>1</th>\n",
       "      <td>7e42b5dca9b28ee8e5545beb834361e90e6197d176b389...</td>\n",
       "      <td>0.0</td>\n",
       "    </tr>\n",
       "    <tr>\n",
       "      <th>2</th>\n",
       "      <td>a6cdf6302aead77112013168c6d546d2df3bcb551956d2...</td>\n",
       "      <td>0.0</td>\n",
       "    </tr>\n",
       "    <tr>\n",
       "      <th>3</th>\n",
       "      <td>1a3efa69705f611c7ef2384a715c8142e2ee801cfec9df...</td>\n",
       "      <td>0.0</td>\n",
       "    </tr>\n",
       "    <tr>\n",
       "      <th>4</th>\n",
       "      <td>67f8cbb64dd3d447e992b1b299e0ceed3372188e47c88e...</td>\n",
       "      <td>0.0</td>\n",
       "    </tr>\n",
       "    <tr>\n",
       "      <th>...</th>\n",
       "      <td>...</td>\n",
       "      <td>...</td>\n",
       "    </tr>\n",
       "    <tr>\n",
       "      <th>23870</th>\n",
       "      <td>2a6c462095ed3a74cb1d5828ca65315cb5ef30a8b1ea54...</td>\n",
       "      <td>0.0</td>\n",
       "    </tr>\n",
       "    <tr>\n",
       "      <th>23874</th>\n",
       "      <td>830b22ee65eef58b2d51d20143f7aeb1ef9bd00b8f0435...</td>\n",
       "      <td>0.0</td>\n",
       "    </tr>\n",
       "    <tr>\n",
       "      <th>23876</th>\n",
       "      <td>f0d7fb934f97688f16691d9aeb6db22db08e8f8a07e122...</td>\n",
       "      <td>0.0</td>\n",
       "    </tr>\n",
       "    <tr>\n",
       "      <th>23892</th>\n",
       "      <td>c71eff54ff8d901590eef33bc16dfddd93a2051d7acfe4...</td>\n",
       "      <td>0.0</td>\n",
       "    </tr>\n",
       "    <tr>\n",
       "      <th>23896</th>\n",
       "      <td>67a8baafafecb5408944a7d089cda0168967144c1bd41f...</td>\n",
       "      <td>0.0</td>\n",
       "    </tr>\n",
       "  </tbody>\n",
       "</table>\n",
       "<p>7264 rows × 2 columns</p>\n",
       "</div>"
      ],
      "text/plain": [
       "                                                 cust_id  sar_flag\n",
       "0      a39fea9aec90969fe66a2b2b4d1b86368a2d38e8b8d4bf...       0.0\n",
       "1      7e42b5dca9b28ee8e5545beb834361e90e6197d176b389...       0.0\n",
       "2      a6cdf6302aead77112013168c6d546d2df3bcb551956d2...       0.0\n",
       "3      1a3efa69705f611c7ef2384a715c8142e2ee801cfec9df...       0.0\n",
       "4      67f8cbb64dd3d447e992b1b299e0ceed3372188e47c88e...       0.0\n",
       "...                                                  ...       ...\n",
       "23870  2a6c462095ed3a74cb1d5828ca65315cb5ef30a8b1ea54...       0.0\n",
       "23874  830b22ee65eef58b2d51d20143f7aeb1ef9bd00b8f0435...       0.0\n",
       "23876  f0d7fb934f97688f16691d9aeb6db22db08e8f8a07e122...       0.0\n",
       "23892  c71eff54ff8d901590eef33bc16dfddd93a2051d7acfe4...       0.0\n",
       "23896  67a8baafafecb5408944a7d089cda0168967144c1bd41f...       0.0\n",
       "\n",
       "[7264 rows x 2 columns]"
      ]
     },
     "execution_count": 4,
     "metadata": {},
     "output_type": "execute_result"
    }
   ],
   "source": [
    "dedup = custinfo[['cust_id','sar_flag']].drop_duplicates(subset=['cust_id'], keep='first')\n",
    "dedup"
   ]
  },
  {
   "cell_type": "markdown",
   "metadata": {},
   "source": [
    "## CCBA dataset"
   ]
  },
  {
   "cell_type": "code",
   "execution_count": null,
   "metadata": {},
   "outputs": [],
   "source": [
    "cc = pd.read_csv(\"dataset\\\\training_dataset_first\\\\public_train_x_ccba_full_hashed.csv\")\n",
    "c = cc.merge(dedup,how='left')\n",
    "c[c.sar_flag.isnull() == True].drop(['sar_flag'],axis=1).to_csv(\"dataset\\\\training_dataset_first\\\\flagged\\\\test\\\\public_test_x_ccba_full_hashed_sar.csv\", index=False)\n",
    "c[c.sar_flag.isnull() == False].to_csv(\"dataset\\\\training_dataset_first\\\\flagged\\\\train\\\\public_train_x_ccba_full_hashed_sar.csv\", index=False)"
   ]
  },
  {
   "cell_type": "code",
   "execution_count": null,
   "metadata": {},
   "outputs": [],
   "source": [
    "c[c.sar_flag.isnull() == True].shape, c[c.sar_flag.isnull() == False].shape"
   ]
  },
  {
   "cell_type": "markdown",
   "metadata": {},
   "source": [
    "## CDTX dataset"
   ]
  },
  {
   "cell_type": "code",
   "execution_count": null,
   "metadata": {},
   "outputs": [],
   "source": [
    "cd = cdtx.merge(dedup,how='left')\n",
    "cd[cd.sar_flag.isnull()==True].drop(['sar_flag'],axis=1).to_csv(\"dataset\\\\training_dataset_first\\\\flagged\\\\test\\\\public_test_x_cdtx_full_hashed_sar.csv\", index=False)\n",
    "cd[cd.sar_flag.isnull()==False].to_csv(\"dataset\\\\training_dataset_first\\\\flagged\\\\train\\\\public_train_x_cdtx_full_hashed_sar.csv\", index=False)"
   ]
  },
  {
   "cell_type": "code",
   "execution_count": null,
   "metadata": {},
   "outputs": [],
   "source": [
    "cd[cd.sar_flag.isnull()==True].shape, cd[cd.sar_flag.isnull()==False].shape"
   ]
  },
  {
   "cell_type": "markdown",
   "metadata": {},
   "source": [
    "## REMIT dataset"
   ]
  },
  {
   "cell_type": "code",
   "execution_count": null,
   "metadata": {},
   "outputs": [],
   "source": [
    "re = remit.merge(dedup,how='left')\n",
    "re[re.sar_flag.isnull() == True].drop(['sar_flag'],axis=1).to_csv(\"dataset\\\\training_dataset_first\\\\flagged\\\\test\\\\public_test_x_remit_full_hashed_sar.csv\", index=False)\n",
    "re[re.sar_flag.isnull() == False].to_csv(\"dataset\\\\training_dataset_first\\\\flagged\\\\train\\\\public_train_x_remit_full_hashed_sar.csv\", index=False)"
   ]
  },
  {
   "cell_type": "code",
   "execution_count": null,
   "metadata": {},
   "outputs": [],
   "source": [
    "re[re.sar_flag.isnull() == True].shape, re[re.sar_flag.isnull() == False].shape"
   ]
  },
  {
   "cell_type": "markdown",
   "metadata": {},
   "source": [
    "## DP dataset"
   ]
  },
  {
   "cell_type": "code",
   "execution_count": 5,
   "metadata": {},
   "outputs": [],
   "source": [
    "d = dp.merge(dedup,how='left')\n",
    "d[d.sar_flag.isnull() == True].drop(['sar_flag'],axis=1).to_csv(\"dataset\\\\training_dataset_first\\\\flagged\\\\test\\\\public_test_x_dp_full_hashed_sar.csv\", index=False)\n",
    "d[d.sar_flag.isnull() == False].to_csv(\"dataset\\\\training_dataset_first\\\\flagged\\\\train\\\\public_train_x_dp_full_hashed_sar.csv\", index=False)"
   ]
  },
  {
   "cell_type": "code",
   "execution_count": 6,
   "metadata": {},
   "outputs": [
    {
     "data": {
      "text/plain": [
       "((69579, 13), (1900239, 13))"
      ]
     },
     "execution_count": 6,
     "metadata": {},
     "output_type": "execute_result"
    }
   ],
   "source": [
    "d[d.sar_flag.isnull() == True].shape, d[d.sar_flag.isnull() == False].shape"
   ]
  }
 ],
 "metadata": {
  "kernelspec": {
   "display_name": "Python 3.10.5 64-bit",
   "language": "python",
   "name": "python3"
  },
  "language_info": {
   "codemirror_mode": {
    "name": "ipython",
    "version": 3
   },
   "file_extension": ".py",
   "mimetype": "text/x-python",
   "name": "python",
   "nbconvert_exporter": "python",
   "pygments_lexer": "ipython3",
   "version": "3.10.5"
  },
  "orig_nbformat": 4,
  "vscode": {
   "interpreter": {
    "hash": "26de051ba29f2982a8de78e945f0abaf191376122a1563185a90213a26c5da77"
   }
  }
 },
 "nbformat": 4,
 "nbformat_minor": 2
}
