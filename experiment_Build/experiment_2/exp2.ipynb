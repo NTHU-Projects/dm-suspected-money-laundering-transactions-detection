{
 "cells": [
  {
   "cell_type": "markdown",
   "metadata": {},
   "source": [
    "# Load data"
   ]
  },
  {
   "cell_type": "code",
   "execution_count": 1,
   "metadata": {},
   "outputs": [],
   "source": [
    "%matplotlib inline\n",
    "import pandas as pd\n",
    "import numpy as np\n",
    "import matplotlib.pyplot as plt\n",
    "pd.set_option('display.max_colwidth', None)\n",
    "\n",
    "ccba = pd.read_csv(\"..\\\\..\\\\dataset\\\\training_dataset_first\\\\public_train_x_ccba_full_hashed.csv\")\n",
    "cdtx = pd.read_csv(\"..\\\\..\\\\dataset\\\\training_dataset_first\\\\public_train_x_cdtx0001_full_hashed.csv\")\n",
    "custinfo = pd.read_csv(\"..\\\\..\\\\dataset\\\\training_dataset_first\\\\public_train_x_custinfo_full_hashed.csv\")\n",
    "dp = pd.read_csv(\"..\\\\..\\\\dataset\\\\training_dataset_first\\\\public_train_x_dp_full_hashed.csv\")\n",
    "remit = pd.read_csv(\"..\\\\..\\\\dataset\\\\training_dataset_first\\\\public_train_x_remit1_full_hashed.csv\")\n",
    "y = pd.read_csv(\"..\\\\..\\\\dataset\\\\training_dataset_first\\\\train_y_answer.csv\")\n",
    "date = pd.read_csv(\"..\\\\..\\\\dataset\\\\training_dataset_first\\\\train_x_alert_date.csv\")"
   ]
  },
  {
   "cell_type": "code",
   "execution_count": 12,
   "metadata": {},
   "outputs": [
    {
     "name": "stdout",
     "output_type": "stream",
     "text": [
      "(23906, 2) (23906, 2)\n",
      "set()\n"
     ]
    }
   ],
   "source": [
    "print(y.shape , date.shape)\n",
    "print(set(y.alert_key.unique()) - set(date.alert_key.unique()))"
   ]
  },
  {
   "cell_type": "code",
   "execution_count": 14,
   "metadata": {},
   "outputs": [
    {
     "data": {
      "text/html": [
       "<div>\n",
       "<style scoped>\n",
       "    .dataframe tbody tr th:only-of-type {\n",
       "        vertical-align: middle;\n",
       "    }\n",
       "\n",
       "    .dataframe tbody tr th {\n",
       "        vertical-align: top;\n",
       "    }\n",
       "\n",
       "    .dataframe thead th {\n",
       "        text-align: right;\n",
       "    }\n",
       "</style>\n",
       "<table border=\"1\" class=\"dataframe\">\n",
       "  <thead>\n",
       "    <tr style=\"text-align: right;\">\n",
       "      <th></th>\n",
       "      <th>alert_key</th>\n",
       "      <th>cust_id</th>\n",
       "      <th>risk_rank</th>\n",
       "      <th>occupation_code</th>\n",
       "      <th>total_asset</th>\n",
       "      <th>AGE</th>\n",
       "      <th>sar_flag</th>\n",
       "      <th>date</th>\n",
       "    </tr>\n",
       "  </thead>\n",
       "  <tbody>\n",
       "    <tr>\n",
       "      <th>0</th>\n",
       "      <td>171142</td>\n",
       "      <td>a39fea9aec90969fe66a2b2b4d1b86368a2d38e8b8d4bfeb016d17b16f37a8d8</td>\n",
       "      <td>3</td>\n",
       "      <td>12.0</td>\n",
       "      <td>241719.0</td>\n",
       "      <td>3</td>\n",
       "      <td>0</td>\n",
       "      <td>0</td>\n",
       "    </tr>\n",
       "    <tr>\n",
       "      <th>1</th>\n",
       "      <td>171152</td>\n",
       "      <td>7e42b5dca9b28ee8e5545beb834361e90e6197d176b389718e6c99b10041c816</td>\n",
       "      <td>3</td>\n",
       "      <td>13.0</td>\n",
       "      <td>599497.0</td>\n",
       "      <td>6</td>\n",
       "      <td>0</td>\n",
       "      <td>0</td>\n",
       "    </tr>\n",
       "    <tr>\n",
       "      <th>2</th>\n",
       "      <td>171177</td>\n",
       "      <td>a6cdf6302aead77112013168c6d546d2df3bcb551956d22c96cf97652e581602</td>\n",
       "      <td>1</td>\n",
       "      <td>19.0</td>\n",
       "      <td>51160.0</td>\n",
       "      <td>4</td>\n",
       "      <td>0</td>\n",
       "      <td>0</td>\n",
       "    </tr>\n",
       "    <tr>\n",
       "      <th>3</th>\n",
       "      <td>171178</td>\n",
       "      <td>1a3efa69705f611c7ef2384a715c8142e2ee801cfec9df4eb21131c33fc247a7</td>\n",
       "      <td>3</td>\n",
       "      <td>9.0</td>\n",
       "      <td>3634343.0</td>\n",
       "      <td>6</td>\n",
       "      <td>0</td>\n",
       "      <td>0</td>\n",
       "    </tr>\n",
       "    <tr>\n",
       "      <th>4</th>\n",
       "      <td>171180</td>\n",
       "      <td>67f8cbb64dd3d447e992b1b299e0ceed3372188e47c88e213b16abaedf6af700</td>\n",
       "      <td>1</td>\n",
       "      <td>17.0</td>\n",
       "      <td>4076287.0</td>\n",
       "      <td>4</td>\n",
       "      <td>0</td>\n",
       "      <td>0</td>\n",
       "    </tr>\n",
       "    <tr>\n",
       "      <th>...</th>\n",
       "      <td>...</td>\n",
       "      <td>...</td>\n",
       "      <td>...</td>\n",
       "      <td>...</td>\n",
       "      <td>...</td>\n",
       "      <td>...</td>\n",
       "      <td>...</td>\n",
       "      <td>...</td>\n",
       "    </tr>\n",
       "    <tr>\n",
       "      <th>23901</th>\n",
       "      <td>352123</td>\n",
       "      <td>b600c0720096c241f5aec16b096c6a353492eee8a5855aa7f79d81390811d914</td>\n",
       "      <td>1</td>\n",
       "      <td>17.0</td>\n",
       "      <td>12207.0</td>\n",
       "      <td>2</td>\n",
       "      <td>0</td>\n",
       "      <td>364</td>\n",
       "    </tr>\n",
       "    <tr>\n",
       "      <th>23902</th>\n",
       "      <td>352124</td>\n",
       "      <td>06c5ea5ccda4dfd8839c0dec8646fb3071d2c02883ef8a9f715aaa74f38d2419</td>\n",
       "      <td>1</td>\n",
       "      <td>17.0</td>\n",
       "      <td>259985.0</td>\n",
       "      <td>4</td>\n",
       "      <td>0</td>\n",
       "      <td>364</td>\n",
       "    </tr>\n",
       "    <tr>\n",
       "      <th>23903</th>\n",
       "      <td>352125</td>\n",
       "      <td>0c2dc5fedc3689abf5ff4be14fe8fea8d23d22068297c24bb3cbd245eaf8aa16</td>\n",
       "      <td>3</td>\n",
       "      <td>19.0</td>\n",
       "      <td>928963.0</td>\n",
       "      <td>3</td>\n",
       "      <td>0</td>\n",
       "      <td>364</td>\n",
       "    </tr>\n",
       "    <tr>\n",
       "      <th>23904</th>\n",
       "      <td>352128</td>\n",
       "      <td>ffe5f2bd86ecfd7d0a0f4c4b76dd5c312649be95eb8b42dd8089cffc788b4a9e</td>\n",
       "      <td>3</td>\n",
       "      <td>19.0</td>\n",
       "      <td>21647.0</td>\n",
       "      <td>4</td>\n",
       "      <td>0</td>\n",
       "      <td>364</td>\n",
       "    </tr>\n",
       "    <tr>\n",
       "      <th>23905</th>\n",
       "      <td>352132</td>\n",
       "      <td>c49b33d1fde790ec03584672903f296e486615adfdc98913197eb7af4c76638c</td>\n",
       "      <td>1</td>\n",
       "      <td>19.0</td>\n",
       "      <td>3218731.0</td>\n",
       "      <td>3</td>\n",
       "      <td>0</td>\n",
       "      <td>364</td>\n",
       "    </tr>\n",
       "  </tbody>\n",
       "</table>\n",
       "<p>23906 rows × 8 columns</p>\n",
       "</div>"
      ],
      "text/plain": [
       "       alert_key  \\\n",
       "0         171142   \n",
       "1         171152   \n",
       "2         171177   \n",
       "3         171178   \n",
       "4         171180   \n",
       "...          ...   \n",
       "23901     352123   \n",
       "23902     352124   \n",
       "23903     352125   \n",
       "23904     352128   \n",
       "23905     352132   \n",
       "\n",
       "                                                                cust_id  \\\n",
       "0      a39fea9aec90969fe66a2b2b4d1b86368a2d38e8b8d4bfeb016d17b16f37a8d8   \n",
       "1      7e42b5dca9b28ee8e5545beb834361e90e6197d176b389718e6c99b10041c816   \n",
       "2      a6cdf6302aead77112013168c6d546d2df3bcb551956d22c96cf97652e581602   \n",
       "3      1a3efa69705f611c7ef2384a715c8142e2ee801cfec9df4eb21131c33fc247a7   \n",
       "4      67f8cbb64dd3d447e992b1b299e0ceed3372188e47c88e213b16abaedf6af700   \n",
       "...                                                                 ...   \n",
       "23901  b600c0720096c241f5aec16b096c6a353492eee8a5855aa7f79d81390811d914   \n",
       "23902  06c5ea5ccda4dfd8839c0dec8646fb3071d2c02883ef8a9f715aaa74f38d2419   \n",
       "23903  0c2dc5fedc3689abf5ff4be14fe8fea8d23d22068297c24bb3cbd245eaf8aa16   \n",
       "23904  ffe5f2bd86ecfd7d0a0f4c4b76dd5c312649be95eb8b42dd8089cffc788b4a9e   \n",
       "23905  c49b33d1fde790ec03584672903f296e486615adfdc98913197eb7af4c76638c   \n",
       "\n",
       "       risk_rank  occupation_code  total_asset  AGE  sar_flag  date  \n",
       "0              3             12.0     241719.0    3         0     0  \n",
       "1              3             13.0     599497.0    6         0     0  \n",
       "2              1             19.0      51160.0    4         0     0  \n",
       "3              3              9.0    3634343.0    6         0     0  \n",
       "4              1             17.0    4076287.0    4         0     0  \n",
       "...          ...              ...          ...  ...       ...   ...  \n",
       "23901          1             17.0      12207.0    2         0   364  \n",
       "23902          1             17.0     259985.0    4         0   364  \n",
       "23903          3             19.0     928963.0    3         0   364  \n",
       "23904          3             19.0      21647.0    4         0   364  \n",
       "23905          1             19.0    3218731.0    3         0   364  \n",
       "\n",
       "[23906 rows x 8 columns]"
      ]
     },
     "execution_count": 14,
     "metadata": {},
     "output_type": "execute_result"
    }
   ],
   "source": [
    "label = y.merge(date, how='inner', on='alert_key')\n",
    "data = custinfo.merge(label, how='inner', on='alert_key')\n",
    "data"
   ]
  },
  {
   "cell_type": "markdown",
   "metadata": {},
   "source": [
    "---"
   ]
  },
  {
   "cell_type": "code",
   "execution_count": 15,
   "metadata": {},
   "outputs": [],
   "source": [
    "cdtx_1 = cdtx[(cdtx['country'] == 130) & (cdtx['cur_type'] == 47)].copy()"
   ]
  },
  {
   "cell_type": "code",
   "execution_count": 16,
   "metadata": {},
   "outputs": [],
   "source": [
    "cdtx_2 = cdtx[(cdtx['country'] == 130) & (cdtx['cur_type'] != 47)].copy()"
   ]
  },
  {
   "cell_type": "code",
   "execution_count": 17,
   "metadata": {},
   "outputs": [],
   "source": [
    "cdtx_3 = cdtx[(cdtx['country'] != 130) & (cdtx['cur_type'] == 47)].copy()"
   ]
  },
  {
   "cell_type": "code",
   "execution_count": 18,
   "metadata": {},
   "outputs": [],
   "source": [
    "cdtx_4 = cdtx[(cdtx['country'] != 130) & (cdtx['cur_type'] != 47)].copy()"
   ]
  },
  {
   "cell_type": "code",
   "execution_count": null,
   "metadata": {},
   "outputs": [],
   "source": []
  },
  {
   "cell_type": "code",
   "execution_count": 126,
   "metadata": {},
   "outputs": [
    {
     "data": {
      "text/plain": [
       "84"
      ]
     },
     "execution_count": 126,
     "metadata": {},
     "output_type": "execute_result"
    }
   ],
   "source": [
    "a = cdtx[(cdtx['cust_id'] == '0015cc01f553512007705edf855baa16f1b57a16fb107e0882c5cb0535d297a5') & (cdtx['date'] <= 394) & (cdtx['country'] == 130) & (cdtx['cur_type'] == 47)]\n",
    "b = a.amt.count()\n",
    "b"
   ]
  },
  {
   "cell_type": "markdown",
   "metadata": {},
   "source": [
    "---"
   ]
  },
  {
   "cell_type": "code",
   "execution_count": 127,
   "metadata": {},
   "outputs": [],
   "source": [
    "def transform_tx(row):\n",
    "    ## tw_ntd data\n",
    "    temp_tw_ntd = cdtx[(cdtx['date'] <= row['date']) & (cdtx['cust_id'] == row['cust_id']) & (cdtx['country'] == 130) & (cdtx['cur_type'] == 47)]\n",
    "    row['avg_amt_tw_ntd'] = temp_tw_ntd.amt.mean()\n",
    "    row['sd_amt_tw_ntd'] = temp_tw_ntd.amt.std()\n",
    "    row['total_amt_tw_ntd'] = temp_tw_ntd.amt.sum()\n",
    "\n",
    "    freq_tw_ntd = temp_tw_ntd.groupby(['date'], as_index=False).amt.count()\n",
    "    row['avg_freq_tw_ntd'] = freq_tw_ntd.amt.mean()\n",
    "    row['sd_freq_tw_ntd'] = freq_tw_ntd.amt.std()\n",
    "    row['total_freq_tw_ntd'] = freq_tw_ntd.amt.sum()\n",
    "\n",
    "    ## tw_nonntd data\n",
    "    temp_tw_nonntd = cdtx[(cdtx['date'] <= row['date']) & (cdtx['cust_id'] == row['cust_id']) & (cdtx['country'] == 130) & (cdtx['cur_type'] != 47)]\n",
    "    row['avg_amt_tw_nonntd'] = temp_tw_nonntd.amt.mean()\n",
    "    row['sd_amt_tw_nonntd'] = temp_tw_nonntd.amt.std()\n",
    "    row['total_amt_tw_nonntd'] = temp_tw_nonntd.amt.sum()\n",
    "\n",
    "    freq_tw_nonntd = temp_tw_nonntd.groupby(['date'], as_index=False).amt.count()\n",
    "    row['avg_freq_tw_nonntd'] = freq_tw_nonntd.amt.mean()\n",
    "    row['sd_freq_tw_nonntd'] = freq_tw_nonntd.amt.std()\n",
    "    row['total_freq_tw_nonntd'] = freq_tw_nonntd.amt.sum()\n",
    "\n",
    "    ## nontw_ntd data\n",
    "    temp_nontw_ntd = cdtx[(cdtx['date'] <= row['date']) & (cdtx['cust_id'] == row['cust_id']) & (cdtx['country'] != 130) & (cdtx['cur_type'] == 47)]\n",
    "    row['avg_amt_nontw_ntd'] = temp_nontw_ntd.amt.mean()\n",
    "    row['sd_amt_nontw_ntd'] = temp_nontw_ntd.amt.std()\n",
    "    row['total_amt_nontw_ntd'] = temp_nontw_ntd.amt.sum()\n",
    "\n",
    "    freq_nontw_ntd = temp_nontw_ntd.groupby(['date'], as_index=False).amt.count()\n",
    "    row['avg_freq_nontw_ntd'] = freq_nontw_ntd.amt.mean()\n",
    "    row['sd_freq_nontw_ntd'] = freq_nontw_ntd.amt.std()\n",
    "    row['total_freq_nontw_ntd'] = freq_nontw_ntd.amt.sum()\n",
    "\n",
    "    ## nontw_nonntd data\n",
    "    temp_nontw_nonntd = cdtx[(cdtx['date'] <= row['date']) & (cdtx['cust_id'] == row['cust_id']) & (cdtx['country'] != 130) & (cdtx['cur_type'] != 47)]\n",
    "    row['avg_amt_nontw_nonntd'] = temp_nontw_nonntd.amt.mean()\n",
    "    row['sd_amt_nontw_nonntd'] = temp_nontw_nonntd.amt.std()\n",
    "    row['total_amt_nontw_nonntd'] = temp_nontw_nonntd.amt.sum()\n",
    "\n",
    "    freq_nontw_nonntd = temp_nontw_nonntd.groupby(['date'], as_index=False).amt.count()\n",
    "    row['avg_freq_nontw_nonntd'] = freq_nontw_nonntd.amt.mean()\n",
    "    row['sd_freq_nontw_nonntd'] = freq_nontw_nonntd.amt.std()\n",
    "    row['total_freq_nontw_nonntd'] = freq_nontw_nonntd.amt.sum()\n",
    "\n",
    "    return row"
   ]
  },
  {
   "cell_type": "code",
   "execution_count": 130,
   "metadata": {},
   "outputs": [
    {
     "name": "stderr",
     "output_type": "stream",
     "text": [
      "Progress Bar: 100%|██████████| 23906/23906 [2:08:17<00:00,  3.11it/s]  \n"
     ]
    }
   ],
   "source": [
    "from tqdm import tqdm\n",
    "\n",
    "tqdm.pandas(desc='Progress Bar')\n",
    "custinfo_cdtx_agg = data.copy()\n",
    "custinfo_cdtx_agg = custinfo_cdtx_agg.progress_apply(transform_tx,axis=1)"
   ]
  },
  {
   "cell_type": "code",
   "execution_count": 132,
   "metadata": {},
   "outputs": [],
   "source": [
    "custinfo_cdtx_agg.to_pickle('custinfo_cdtx_agg.pkl')"
   ]
  },
  {
   "cell_type": "code",
   "execution_count": null,
   "metadata": {},
   "outputs": [],
   "source": []
  }
 ],
 "metadata": {
  "kernelspec": {
   "display_name": "Python 3.9.5 ('dm_lab2_kaggle')",
   "language": "python",
   "name": "python3"
  },
  "language_info": {
   "codemirror_mode": {
    "name": "ipython",
    "version": 3
   },
   "file_extension": ".py",
   "mimetype": "text/x-python",
   "name": "python",
   "nbconvert_exporter": "python",
   "pygments_lexer": "ipython3",
   "version": "3.9.5"
  },
  "orig_nbformat": 4,
  "vscode": {
   "interpreter": {
    "hash": "39b98d353654d1604a8e172a5ecb0c8f023557979d296f014fd887ef3a722818"
   }
  }
 },
 "nbformat": 4,
 "nbformat_minor": 2
}
